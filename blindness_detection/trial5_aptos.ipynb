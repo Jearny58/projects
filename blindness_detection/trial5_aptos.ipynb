{
  "nbformat": 4,
  "nbformat_minor": 0,
  "metadata": {
    "colab": {
      "name": "trial5-aptos.ipynb",
      "version": "0.3.2",
      "provenance": [],
      "collapsed_sections": []
    },
    "kernelspec": {
      "name": "python3",
      "display_name": "Python 3"
    },
    "accelerator": "GPU"
  },
  "cells": [
    {
      "cell_type": "markdown",
      "metadata": {
        "id": "0exQxOPNj_GT",
        "colab_type": "text"
      },
      "source": [
        "# _Trial 5 for [APTOS](https://www.kaggle.com/c/aptos2019-blindness-detection) Blindness Detection Kaggle Competition_\n",
        "\n",
        "Work Started on August 16, 2019"
      ]
    },
    {
      "cell_type": "code",
      "metadata": {
        "id": "zwa6tVKLj6JD",
        "colab_type": "code",
        "colab": {}
      },
      "source": [
        "# update pytorch and fastai to latest versions\n",
        "!pip install torch -U\n",
        "!pip install torchvision -U\n",
        "!pip install fastai -U \n",
        "!pip install kaggle"
      ],
      "execution_count": 0,
      "outputs": []
    },
    {
      "cell_type": "code",
      "metadata": {
        "id": "6ZlDNYJbkTfe",
        "colab_type": "code",
        "colab": {}
      },
      "source": [
        "# import libraries\n",
        "import pandas as pd\n",
        "pd.options.display.max_columns = None\n",
        "import numpy as np\n",
        "import random\n",
        "import os\n",
        "\n",
        "# Matplotlib\n",
        "%matplotlib inline\n",
        "%config InlineBackend.figure_format='retina'\n",
        "import matplotlib as mpl\n",
        "import matplotlib.pyplot as plt\n",
        "import seaborn as sns\n",
        "plt.style.use('ggplot')"
      ],
      "execution_count": 0,
      "outputs": []
    },
    {
      "cell_type": "code",
      "metadata": {
        "id": "K0ID24jjlCVV",
        "colab_type": "code",
        "outputId": "47404dca-980b-4f4b-997d-86d2a1583c01",
        "colab": {
          "base_uri": "https://localhost:8080/",
          "height": 34
        }
      },
      "source": [
        "# mount your google drive so you can save to it\n",
        "from google.colab import drive\n",
        "drive.mount('/content/gdrive')"
      ],
      "execution_count": 0,
      "outputs": [
        {
          "output_type": "stream",
          "text": [
            "Drive already mounted at /content/gdrive; to attempt to forcibly remount, call drive.mount(\"/content/gdrive\", force_remount=True).\n"
          ],
          "name": "stdout"
        }
      ]
    },
    {
      "cell_type": "code",
      "metadata": {
        "id": "i6eycj3olD5C",
        "colab_type": "code",
        "outputId": "4c97f0d9-ca32-4186-b7a9-eece1fe82681",
        "colab": {
          "base_uri": "https://localhost:8080/",
          "height": 34
        }
      },
      "source": [
        "os.getcwd()"
      ],
      "execution_count": 0,
      "outputs": [
        {
          "output_type": "execute_result",
          "data": {
            "text/plain": [
              "'/content'"
            ]
          },
          "metadata": {
            "tags": []
          },
          "execution_count": 4
        }
      ]
    },
    {
      "cell_type": "code",
      "metadata": {
        "id": "DfXXQG5HlJAd",
        "colab_type": "code",
        "colab": {}
      },
      "source": [
        "os.chdir('/content/gdrive/My Drive/projects/')"
      ],
      "execution_count": 0,
      "outputs": []
    },
    {
      "cell_type": "code",
      "metadata": {
        "id": "LPWxcuvilLdF",
        "colab_type": "code",
        "outputId": "2fca0427-20f3-4462-9beb-0be0e77e3df4",
        "colab": {
          "base_uri": "https://localhost:8080/",
          "height": 34
        }
      },
      "source": [
        "os.getcwd()"
      ],
      "execution_count": 0,
      "outputs": [
        {
          "output_type": "execute_result",
          "data": {
            "text/plain": [
              "'/content/gdrive/My Drive/projects'"
            ]
          },
          "metadata": {
            "tags": []
          },
          "execution_count": 6
        }
      ]
    },
    {
      "cell_type": "code",
      "metadata": {
        "id": "o9EGl2r5lNAD",
        "colab_type": "code",
        "outputId": "e4c2f82a-bd70-4cb8-f76d-9ebd5ce7d977",
        "colab": {
          "base_uri": "https://localhost:8080/",
          "height": 34
        }
      },
      "source": [
        "os.listdir()"
      ],
      "execution_count": 0,
      "outputs": [
        {
          "output_type": "execute_result",
          "data": {
            "text/plain": [
              "['blindness_detection']"
            ]
          },
          "metadata": {
            "tags": []
          },
          "execution_count": 7
        }
      ]
    },
    {
      "cell_type": "code",
      "metadata": {
        "id": "dpuKOA0ElOQY",
        "colab_type": "code",
        "outputId": "b8d4e993-b86d-4633-c57d-5ef1ecefcde0",
        "colab": {
          "base_uri": "https://localhost:8080/",
          "height": 153
        }
      },
      "source": [
        "os.listdir('blindness_detection/')"
      ],
      "execution_count": 0,
      "outputs": [
        {
          "output_type": "execute_result",
          "data": {
            "text/plain": [
              "['train.csv',\n",
              " 'test.csv',\n",
              " 'sample_submission.csv',\n",
              " 'images_train',\n",
              " 'images_test',\n",
              " 'models',\n",
              " 'trial1_aptos.ipynb',\n",
              " 'trial2_aptos.ipynb']"
            ]
          },
          "metadata": {
            "tags": []
          },
          "execution_count": 8
        }
      ]
    },
    {
      "cell_type": "code",
      "metadata": {
        "id": "X-LyASUolQ7z",
        "colab_type": "code",
        "colab": {}
      },
      "source": [
        "os.chdir('blindness_detection/')"
      ],
      "execution_count": 0,
      "outputs": []
    },
    {
      "cell_type": "code",
      "metadata": {
        "id": "Nq5vCgEdlS8n",
        "colab_type": "code",
        "outputId": "6b6e82e8-8bd3-4e3f-db48-a8bdb120a8ef",
        "colab": {
          "base_uri": "https://localhost:8080/",
          "height": 34
        }
      },
      "source": [
        "from pathlib import Path\n",
        "\n",
        "#create path variable to primary directory\n",
        "path = Path(os.getcwd())\n",
        "path"
      ],
      "execution_count": 0,
      "outputs": [
        {
          "output_type": "execute_result",
          "data": {
            "text/plain": [
              "PosixPath('/content/gdrive/My Drive/projects/blindness_detection')"
            ]
          },
          "metadata": {
            "tags": []
          },
          "execution_count": 10
        }
      ]
    },
    {
      "cell_type": "code",
      "metadata": {
        "id": "nDADxfm1lUjo",
        "colab_type": "code",
        "colab": {}
      },
      "source": [
        "# make a dataframe from train.csv\n",
        "train_df = pd.read_csv(path/'train.csv')\n",
        "# make a dataframe from test.csv\n",
        "test_df = pd.read_csv(path/'test.csv')"
      ],
      "execution_count": 0,
      "outputs": []
    },
    {
      "cell_type": "code",
      "metadata": {
        "id": "nDlTeF01lWf6",
        "colab_type": "code",
        "outputId": "237a1779-7590-478a-a36d-4ae0186022c4",
        "colab": {
          "base_uri": "https://localhost:8080/",
          "height": 204
        }
      },
      "source": [
        "train_df.head()"
      ],
      "execution_count": 0,
      "outputs": [
        {
          "output_type": "execute_result",
          "data": {
            "text/html": [
              "<div>\n",
              "<style scoped>\n",
              "    .dataframe tbody tr th:only-of-type {\n",
              "        vertical-align: middle;\n",
              "    }\n",
              "\n",
              "    .dataframe tbody tr th {\n",
              "        vertical-align: top;\n",
              "    }\n",
              "\n",
              "    .dataframe thead th {\n",
              "        text-align: right;\n",
              "    }\n",
              "</style>\n",
              "<table border=\"1\" class=\"dataframe\">\n",
              "  <thead>\n",
              "    <tr style=\"text-align: right;\">\n",
              "      <th></th>\n",
              "      <th>id_code</th>\n",
              "      <th>diagnosis</th>\n",
              "    </tr>\n",
              "  </thead>\n",
              "  <tbody>\n",
              "    <tr>\n",
              "      <th>0</th>\n",
              "      <td>000c1434d8d7</td>\n",
              "      <td>2</td>\n",
              "    </tr>\n",
              "    <tr>\n",
              "      <th>1</th>\n",
              "      <td>001639a390f0</td>\n",
              "      <td>4</td>\n",
              "    </tr>\n",
              "    <tr>\n",
              "      <th>2</th>\n",
              "      <td>0024cdab0c1e</td>\n",
              "      <td>1</td>\n",
              "    </tr>\n",
              "    <tr>\n",
              "      <th>3</th>\n",
              "      <td>002c21358ce6</td>\n",
              "      <td>0</td>\n",
              "    </tr>\n",
              "    <tr>\n",
              "      <th>4</th>\n",
              "      <td>005b95c28852</td>\n",
              "      <td>0</td>\n",
              "    </tr>\n",
              "  </tbody>\n",
              "</table>\n",
              "</div>"
            ],
            "text/plain": [
              "        id_code  diagnosis\n",
              "0  000c1434d8d7          2\n",
              "1  001639a390f0          4\n",
              "2  0024cdab0c1e          1\n",
              "3  002c21358ce6          0\n",
              "4  005b95c28852          0"
            ]
          },
          "metadata": {
            "tags": []
          },
          "execution_count": 12
        }
      ]
    },
    {
      "cell_type": "code",
      "metadata": {
        "id": "RA-jXNh1lZdD",
        "colab_type": "code",
        "outputId": "41e07cb6-c9a7-4a3d-cc6f-f1d7c89ca401",
        "colab": {
          "base_uri": "https://localhost:8080/",
          "height": 204
        }
      },
      "source": [
        "test_df.head()"
      ],
      "execution_count": 0,
      "outputs": [
        {
          "output_type": "execute_result",
          "data": {
            "text/html": [
              "<div>\n",
              "<style scoped>\n",
              "    .dataframe tbody tr th:only-of-type {\n",
              "        vertical-align: middle;\n",
              "    }\n",
              "\n",
              "    .dataframe tbody tr th {\n",
              "        vertical-align: top;\n",
              "    }\n",
              "\n",
              "    .dataframe thead th {\n",
              "        text-align: right;\n",
              "    }\n",
              "</style>\n",
              "<table border=\"1\" class=\"dataframe\">\n",
              "  <thead>\n",
              "    <tr style=\"text-align: right;\">\n",
              "      <th></th>\n",
              "      <th>id_code</th>\n",
              "    </tr>\n",
              "  </thead>\n",
              "  <tbody>\n",
              "    <tr>\n",
              "      <th>0</th>\n",
              "      <td>0005cfc8afb6</td>\n",
              "    </tr>\n",
              "    <tr>\n",
              "      <th>1</th>\n",
              "      <td>003f0afdcd15</td>\n",
              "    </tr>\n",
              "    <tr>\n",
              "      <th>2</th>\n",
              "      <td>006efc72b638</td>\n",
              "    </tr>\n",
              "    <tr>\n",
              "      <th>3</th>\n",
              "      <td>00836aaacf06</td>\n",
              "    </tr>\n",
              "    <tr>\n",
              "      <th>4</th>\n",
              "      <td>009245722fa4</td>\n",
              "    </tr>\n",
              "  </tbody>\n",
              "</table>\n",
              "</div>"
            ],
            "text/plain": [
              "        id_code\n",
              "0  0005cfc8afb6\n",
              "1  003f0afdcd15\n",
              "2  006efc72b638\n",
              "3  00836aaacf06\n",
              "4  009245722fa4"
            ]
          },
          "metadata": {
            "tags": []
          },
          "execution_count": 13
        }
      ]
    },
    {
      "cell_type": "code",
      "metadata": {
        "id": "RLuLb9chlao0",
        "colab_type": "code",
        "colab": {}
      },
      "source": [
        "# create a dictionary for the varying levels of diabetic retinopathy\n",
        "dr_dict = {0: 'No DR', # no diabetic retinopathy,\n",
        "           1: 'Mild', # mild case of diabetic retinopathy,\n",
        "           2: 'Moderate', # moderate level of diabetic retinopathy\n",
        "           3: 'Severe', # severe case of diabetic retinopathy\n",
        "           4: 'Proliferative DR' # worst case scenario\n",
        "          }"
      ],
      "execution_count": 0,
      "outputs": []
    },
    {
      "cell_type": "code",
      "metadata": {
        "id": "x6dNcM8-lc9A",
        "colab_type": "code",
        "colab": {}
      },
      "source": [
        "# create target column that generates more descriptive labels vs. integer values\n",
        "train_df['target'] = train_df['diagnosis'].map(dr_dict)"
      ],
      "execution_count": 0,
      "outputs": []
    },
    {
      "cell_type": "code",
      "metadata": {
        "id": "L9Fwo-oKlfLZ",
        "colab_type": "code",
        "outputId": "6dba84f0-d62f-4732-eed8-9284197edbb1",
        "colab": {
          "base_uri": "https://localhost:8080/",
          "height": 204
        }
      },
      "source": [
        "train_df.tail()"
      ],
      "execution_count": 0,
      "outputs": [
        {
          "output_type": "execute_result",
          "data": {
            "text/html": [
              "<div>\n",
              "<style scoped>\n",
              "    .dataframe tbody tr th:only-of-type {\n",
              "        vertical-align: middle;\n",
              "    }\n",
              "\n",
              "    .dataframe tbody tr th {\n",
              "        vertical-align: top;\n",
              "    }\n",
              "\n",
              "    .dataframe thead th {\n",
              "        text-align: right;\n",
              "    }\n",
              "</style>\n",
              "<table border=\"1\" class=\"dataframe\">\n",
              "  <thead>\n",
              "    <tr style=\"text-align: right;\">\n",
              "      <th></th>\n",
              "      <th>id_code</th>\n",
              "      <th>diagnosis</th>\n",
              "      <th>target</th>\n",
              "    </tr>\n",
              "  </thead>\n",
              "  <tbody>\n",
              "    <tr>\n",
              "      <th>3657</th>\n",
              "      <td>ffa47f6a7bf4</td>\n",
              "      <td>2</td>\n",
              "      <td>Moderate</td>\n",
              "    </tr>\n",
              "    <tr>\n",
              "      <th>3658</th>\n",
              "      <td>ffc04fed30e6</td>\n",
              "      <td>0</td>\n",
              "      <td>No DR</td>\n",
              "    </tr>\n",
              "    <tr>\n",
              "      <th>3659</th>\n",
              "      <td>ffcf7b45f213</td>\n",
              "      <td>2</td>\n",
              "      <td>Moderate</td>\n",
              "    </tr>\n",
              "    <tr>\n",
              "      <th>3660</th>\n",
              "      <td>ffd97f8cd5aa</td>\n",
              "      <td>0</td>\n",
              "      <td>No DR</td>\n",
              "    </tr>\n",
              "    <tr>\n",
              "      <th>3661</th>\n",
              "      <td>ffec9a18a3ce</td>\n",
              "      <td>2</td>\n",
              "      <td>Moderate</td>\n",
              "    </tr>\n",
              "  </tbody>\n",
              "</table>\n",
              "</div>"
            ],
            "text/plain": [
              "           id_code  diagnosis    target\n",
              "3657  ffa47f6a7bf4          2  Moderate\n",
              "3658  ffc04fed30e6          0     No DR\n",
              "3659  ffcf7b45f213          2  Moderate\n",
              "3660  ffd97f8cd5aa          0     No DR\n",
              "3661  ffec9a18a3ce          2  Moderate"
            ]
          },
          "metadata": {
            "tags": []
          },
          "execution_count": 16
        }
      ]
    },
    {
      "cell_type": "code",
      "metadata": {
        "id": "qTYwXesllhKT",
        "colab_type": "code",
        "outputId": "be7338d8-1bfb-46e1-98c7-8ecef2e99af5",
        "colab": {
          "base_uri": "https://localhost:8080/",
          "height": 153
        }
      },
      "source": [
        "train_df.info()"
      ],
      "execution_count": 0,
      "outputs": [
        {
          "output_type": "stream",
          "text": [
            "<class 'pandas.core.frame.DataFrame'>\n",
            "RangeIndex: 3662 entries, 0 to 3661\n",
            "Data columns (total 3 columns):\n",
            "id_code      3662 non-null object\n",
            "diagnosis    3662 non-null int64\n",
            "target       3662 non-null object\n",
            "dtypes: int64(1), object(2)\n",
            "memory usage: 85.9+ KB\n"
          ],
          "name": "stdout"
        }
      ]
    },
    {
      "cell_type": "code",
      "metadata": {
        "id": "_xZEWLPKliMl",
        "colab_type": "code",
        "colab": {}
      },
      "source": [
        "# convert target column to categorical type\n",
        "train_df['target'] = train_df['target'].astype('category')"
      ],
      "execution_count": 0,
      "outputs": []
    },
    {
      "cell_type": "code",
      "metadata": {
        "id": "DoJr9_aNllZj",
        "colab_type": "code",
        "colab": {}
      },
      "source": [
        "# drop diagnosis column\n",
        "train_df.drop(labels='diagnosis', axis=1, inplace=True)"
      ],
      "execution_count": 0,
      "outputs": []
    },
    {
      "cell_type": "code",
      "metadata": {
        "id": "eGTbLiUDlm5h",
        "colab_type": "code",
        "outputId": "c4dbdbd0-59c6-4f10-f304-e1c768cfe42a",
        "colab": {
          "base_uri": "https://localhost:8080/",
          "height": 204
        }
      },
      "source": [
        "train_df.head()"
      ],
      "execution_count": 0,
      "outputs": [
        {
          "output_type": "execute_result",
          "data": {
            "text/html": [
              "<div>\n",
              "<style scoped>\n",
              "    .dataframe tbody tr th:only-of-type {\n",
              "        vertical-align: middle;\n",
              "    }\n",
              "\n",
              "    .dataframe tbody tr th {\n",
              "        vertical-align: top;\n",
              "    }\n",
              "\n",
              "    .dataframe thead th {\n",
              "        text-align: right;\n",
              "    }\n",
              "</style>\n",
              "<table border=\"1\" class=\"dataframe\">\n",
              "  <thead>\n",
              "    <tr style=\"text-align: right;\">\n",
              "      <th></th>\n",
              "      <th>id_code</th>\n",
              "      <th>target</th>\n",
              "    </tr>\n",
              "  </thead>\n",
              "  <tbody>\n",
              "    <tr>\n",
              "      <th>0</th>\n",
              "      <td>000c1434d8d7</td>\n",
              "      <td>Moderate</td>\n",
              "    </tr>\n",
              "    <tr>\n",
              "      <th>1</th>\n",
              "      <td>001639a390f0</td>\n",
              "      <td>Proliferative DR</td>\n",
              "    </tr>\n",
              "    <tr>\n",
              "      <th>2</th>\n",
              "      <td>0024cdab0c1e</td>\n",
              "      <td>Mild</td>\n",
              "    </tr>\n",
              "    <tr>\n",
              "      <th>3</th>\n",
              "      <td>002c21358ce6</td>\n",
              "      <td>No DR</td>\n",
              "    </tr>\n",
              "    <tr>\n",
              "      <th>4</th>\n",
              "      <td>005b95c28852</td>\n",
              "      <td>No DR</td>\n",
              "    </tr>\n",
              "  </tbody>\n",
              "</table>\n",
              "</div>"
            ],
            "text/plain": [
              "        id_code            target\n",
              "0  000c1434d8d7          Moderate\n",
              "1  001639a390f0  Proliferative DR\n",
              "2  0024cdab0c1e              Mild\n",
              "3  002c21358ce6             No DR\n",
              "4  005b95c28852             No DR"
            ]
          },
          "metadata": {
            "tags": []
          },
          "execution_count": 21
        }
      ]
    },
    {
      "cell_type": "code",
      "metadata": {
        "id": "A2_cHgyEloPI",
        "colab_type": "code",
        "colab": {}
      },
      "source": [
        "# import deep learning libraries\n",
        "import torch\n",
        "import fastai\n",
        "from fastai import *\n",
        "from fastai.vision import *\n",
        "\n",
        "data = (ImageDataBunch.from_df(path=path/'images_train',\n",
        "                              df=train_df,\n",
        "                              suffix='.png',\n",
        "                              size=320,\n",
        "                              bs=16))"
      ],
      "execution_count": 0,
      "outputs": []
    },
    {
      "cell_type": "code",
      "metadata": {
        "id": "jLBiE3JSlqjJ",
        "colab_type": "code",
        "outputId": "52290761-54da-4039-ea36-09e3637ac2a3",
        "colab": {
          "base_uri": "https://localhost:8080/",
          "height": 306
        }
      },
      "source": [
        "data.normalize(imagenet_stats)"
      ],
      "execution_count": 0,
      "outputs": [
        {
          "output_type": "execute_result",
          "data": {
            "text/plain": [
              "ImageDataBunch;\n",
              "\n",
              "Train: LabelList (2930 items)\n",
              "x: ImageList\n",
              "Image (3, 320, 320),Image (3, 320, 320),Image (3, 320, 320),Image (3, 320, 320),Image (3, 320, 320)\n",
              "y: CategoryList\n",
              "Moderate,Proliferative DR,Mild,No DR,Proliferative DR\n",
              "Path: /content/gdrive/My Drive/projects/blindness_detection/images_train;\n",
              "\n",
              "Valid: LabelList (732 items)\n",
              "x: ImageList\n",
              "Image (3, 320, 320),Image (3, 320, 320),Image (3, 320, 320),Image (3, 320, 320),Image (3, 320, 320)\n",
              "y: CategoryList\n",
              "Moderate,No DR,No DR,Proliferative DR,Moderate\n",
              "Path: /content/gdrive/My Drive/projects/blindness_detection/images_train;\n",
              "\n",
              "Test: None"
            ]
          },
          "metadata": {
            "tags": []
          },
          "execution_count": 25
        }
      ]
    },
    {
      "cell_type": "code",
      "metadata": {
        "id": "akUkCZRomBdC",
        "colab_type": "code",
        "colab": {}
      },
      "source": [
        "# add test set\n",
        "data.add_test(ImageList.from_df(test_df, path = path/'images_test', suffix='.png'))"
      ],
      "execution_count": 0,
      "outputs": []
    },
    {
      "cell_type": "code",
      "metadata": {
        "id": "gZhfWYQOmC64",
        "colab_type": "code",
        "outputId": "25519615-1f58-4002-85c0-e2941e3361b7",
        "colab": {
          "base_uri": "https://localhost:8080/",
          "height": 391
        }
      },
      "source": [
        "data"
      ],
      "execution_count": 0,
      "outputs": [
        {
          "output_type": "execute_result",
          "data": {
            "text/plain": [
              "ImageDataBunch;\n",
              "\n",
              "Train: LabelList (2930 items)\n",
              "x: ImageList\n",
              "Image (3, 320, 320),Image (3, 320, 320),Image (3, 320, 320),Image (3, 320, 320),Image (3, 320, 320)\n",
              "y: CategoryList\n",
              "Moderate,Proliferative DR,Mild,No DR,Proliferative DR\n",
              "Path: /content/gdrive/My Drive/projects/blindness_detection/images_train;\n",
              "\n",
              "Valid: LabelList (732 items)\n",
              "x: ImageList\n",
              "Image (3, 320, 320),Image (3, 320, 320),Image (3, 320, 320),Image (3, 320, 320),Image (3, 320, 320)\n",
              "y: CategoryList\n",
              "Moderate,No DR,No DR,Proliferative DR,Moderate\n",
              "Path: /content/gdrive/My Drive/projects/blindness_detection/images_train;\n",
              "\n",
              "Test: LabelList (1928 items)\n",
              "x: ImageList\n",
              "Image (3, 320, 320),Image (3, 320, 320),Image (3, 320, 320),Image (3, 320, 320),Image (3, 320, 320)\n",
              "y: EmptyLabelList\n",
              ",,,,\n",
              "Path: /content/gdrive/My Drive/projects/blindness_detection/images_train"
            ]
          },
          "metadata": {
            "tags": []
          },
          "execution_count": 27
        }
      ]
    },
    {
      "cell_type": "markdown",
      "metadata": {
        "id": "zaEXTtyPmFOv",
        "colab_type": "text"
      },
      "source": [
        "### _Create Learner and Model Training_"
      ]
    },
    {
      "cell_type": "code",
      "metadata": {
        "id": "Zizn3610mDt2",
        "colab_type": "code",
        "colab": {}
      },
      "source": [
        "# create Kappa Score metric\n",
        "kappa = KappaScore()\n",
        "kappa.weights = \"quadratic\""
      ],
      "execution_count": 0,
      "outputs": []
    },
    {
      "cell_type": "code",
      "metadata": {
        "id": "LQ0ht4BVmKBS",
        "colab_type": "code",
        "outputId": "d70c2f38-b91c-49a0-e06e-5db094692e18",
        "colab": {
          "base_uri": "https://localhost:8080/",
          "height": 51
        }
      },
      "source": [
        "learn = cnn_learner(data, models.resnet50,\n",
        "                    metrics=[error_rate, kappa],\n",
        "                    pretrained=True,\n",
        "                    bn_final=True,\n",
        "                    path=path/'models')"
      ],
      "execution_count": 0,
      "outputs": [
        {
          "output_type": "stream",
          "text": [
            "Downloading: \"https://download.pytorch.org/models/resnet50-19c8e357.pth\" to /root/.cache/torch/checkpoints/resnet50-19c8e357.pth\n",
            "100%|██████████| 97.8M/97.8M [00:03<00:00, 26.9MB/s]\n"
          ],
          "name": "stderr"
        }
      ]
    },
    {
      "cell_type": "code",
      "metadata": {
        "id": "pfHkFnTXmQnW",
        "colab_type": "code",
        "outputId": "64d64e80-79d8-46f5-96af-85d05de7e621",
        "colab": {
          "base_uri": "https://localhost:8080/",
          "height": 34
        }
      },
      "source": [
        "learn.loss_func"
      ],
      "execution_count": 0,
      "outputs": [
        {
          "output_type": "execute_result",
          "data": {
            "text/plain": [
              "FlattenedLoss of CrossEntropyLoss()"
            ]
          },
          "metadata": {
            "tags": []
          },
          "execution_count": 30
        }
      ]
    },
    {
      "cell_type": "code",
      "metadata": {
        "id": "5bYZX-OAmVft",
        "colab_type": "code",
        "colab": {}
      },
      "source": [
        "# load weights from previous round of training from trial 2 (best performing model)\n",
        "learn.load(path/'models/models/trial2-rd4');"
      ],
      "execution_count": 0,
      "outputs": []
    },
    {
      "cell_type": "code",
      "metadata": {
        "id": "M1f1WMcumgT9",
        "colab_type": "code",
        "colab": {}
      },
      "source": [
        "learn.freeze()"
      ],
      "execution_count": 0,
      "outputs": []
    },
    {
      "cell_type": "code",
      "metadata": {
        "id": "qA5Itnr1mkFS",
        "colab_type": "code",
        "outputId": "2a0c8b02-c22a-4aca-a042-39fed64fba90",
        "colab": {
          "base_uri": "https://localhost:8080/",
          "height": 34
        }
      },
      "source": [
        "learn.lr_find()"
      ],
      "execution_count": 0,
      "outputs": [
        {
          "output_type": "display_data",
          "data": {
            "text/html": [
              ""
            ],
            "text/plain": [
              "<IPython.core.display.HTML object>"
            ]
          },
          "metadata": {
            "tags": []
          }
        },
        {
          "output_type": "stream",
          "text": [
            "LR Finder is complete, type {learner_name}.recorder.plot() to see the graph.\n"
          ],
          "name": "stdout"
        }
      ]
    },
    {
      "cell_type": "code",
      "metadata": {
        "id": "jBEkZd8jmltj",
        "colab_type": "code",
        "outputId": "a955ab32-409e-4543-a5d0-81e0aec9d651",
        "colab": {
          "base_uri": "https://localhost:8080/",
          "height": 317
        }
      },
      "source": [
        "learn.recorder.plot(suggestion=True)"
      ],
      "execution_count": 0,
      "outputs": [
        {
          "output_type": "stream",
          "text": [
            "Min numerical gradient: 1.32E-06\n",
            "Min loss divided by 10: 7.59E-04\n"
          ],
          "name": "stdout"
        },
        {
          "output_type": "display_data",
          "data": {
            "image/png": "[encoded data removed]",
            "text/plain": [
              "<Figure size 432x288 with 1 Axes>"
            ]
          },
          "metadata": {
            "tags": [],
            "image/png": {
              "width": 396,
              "height": 266
            }
          }
        }
      ]
    },
    {
      "cell_type": "code",
      "metadata": {
        "id": "HkeWlh5XpkjE",
        "colab_type": "code",
        "outputId": "1707e6e7-ec8c-4faf-9685-0474c05cce00",
        "colab": {
          "base_uri": "https://localhost:8080/",
          "height": 34
        }
      },
      "source": [
        "lr = 5.5e-4\n",
        "lr"
      ],
      "execution_count": 0,
      "outputs": [
        {
          "output_type": "execute_result",
          "data": {
            "text/plain": [
              "0.00055"
            ]
          },
          "metadata": {
            "tags": []
          },
          "execution_count": 38
        }
      ]
    },
    {
      "cell_type": "code",
      "metadata": {
        "id": "rhLmqtqgpmrp",
        "colab_type": "code",
        "outputId": "51902857-70c6-476d-b430-8812ae599e6a",
        "colab": {
          "base_uri": "https://localhost:8080/",
          "height": 255
        }
      },
      "source": [
        "from fastai.callbacks import SaveModelCallback\n",
        "\n",
        "learn.fit_one_cycle(5, slice(lr), callbacks=[(SaveModelCallback(learn, \n",
        "                                                                every='improvement', \n",
        "                                                                monitor='kappa_score', \n",
        "                                                                name='trial5-rd1'))])"
      ],
      "execution_count": 0,
      "outputs": [
        {
          "output_type": "display_data",
          "data": {
            "text/html": [
              "<table border=\"1\" class=\"dataframe\">\n",
              "  <thead>\n",
              "    <tr style=\"text-align: left;\">\n",
              "      <th>epoch</th>\n",
              "      <th>train_loss</th>\n",
              "      <th>valid_loss</th>\n",
              "      <th>error_rate</th>\n",
              "      <th>kappa_score</th>\n",
              "      <th>time</th>\n",
              "    </tr>\n",
              "  </thead>\n",
              "  <tbody>\n",
              "    <tr>\n",
              "      <td>0</td>\n",
              "      <td>0.613657</td>\n",
              "      <td>0.533752</td>\n",
              "      <td>0.198087</td>\n",
              "      <td>0.513837</td>\n",
              "      <td>18:07</td>\n",
              "    </tr>\n",
              "    <tr>\n",
              "      <td>1</td>\n",
              "      <td>0.552711</td>\n",
              "      <td>0.508645</td>\n",
              "      <td>0.178962</td>\n",
              "      <td>0.549340</td>\n",
              "      <td>08:31</td>\n",
              "    </tr>\n",
              "    <tr>\n",
              "      <td>2</td>\n",
              "      <td>0.533144</td>\n",
              "      <td>0.495439</td>\n",
              "      <td>0.174863</td>\n",
              "      <td>0.567973</td>\n",
              "      <td>08:22</td>\n",
              "    </tr>\n",
              "    <tr>\n",
              "      <td>3</td>\n",
              "      <td>0.484175</td>\n",
              "      <td>0.501626</td>\n",
              "      <td>0.185792</td>\n",
              "      <td>0.520551</td>\n",
              "      <td>08:20</td>\n",
              "    </tr>\n",
              "    <tr>\n",
              "      <td>4</td>\n",
              "      <td>0.510629</td>\n",
              "      <td>0.489011</td>\n",
              "      <td>0.173497</td>\n",
              "      <td>0.541561</td>\n",
              "      <td>08:24</td>\n",
              "    </tr>\n",
              "  </tbody>\n",
              "</table>"
            ],
            "text/plain": [
              "<IPython.core.display.HTML object>"
            ]
          },
          "metadata": {
            "tags": []
          }
        },
        {
          "output_type": "stream",
          "text": [
            "Better model found at epoch 0 with kappa_score value: 0.5138371586799622.\n",
            "Better model found at epoch 1 with kappa_score value: 0.5493398904800415.\n",
            "Better model found at epoch 2 with kappa_score value: 0.5679731369018555.\n"
          ],
          "name": "stdout"
        }
      ]
    },
    {
      "cell_type": "code",
      "metadata": {
        "id": "db8Ry3JfKXtx",
        "colab_type": "code",
        "colab": {}
      },
      "source": [
        "# load weights from previous round of training\n",
        "learn.load(path/'models/models/trial5-rd1');"
      ],
      "execution_count": 0,
      "outputs": []
    },
    {
      "cell_type": "code",
      "metadata": {
        "id": "0dDuAaJxKXqa",
        "colab_type": "code",
        "outputId": "8084f1cf-df12-437b-fcc1-5115d99504c5",
        "colab": {
          "base_uri": "https://localhost:8080/",
          "height": 34
        }
      },
      "source": [
        "learn.lr_find()"
      ],
      "execution_count": 0,
      "outputs": [
        {
          "output_type": "display_data",
          "data": {
            "text/html": [
              ""
            ],
            "text/plain": [
              "<IPython.core.display.HTML object>"
            ]
          },
          "metadata": {
            "tags": []
          }
        },
        {
          "output_type": "stream",
          "text": [
            "LR Finder is complete, type {learner_name}.recorder.plot() to see the graph.\n"
          ],
          "name": "stdout"
        }
      ]
    },
    {
      "cell_type": "code",
      "metadata": {
        "id": "p5E5gf1DKXmb",
        "colab_type": "code",
        "outputId": "cbd4ac9e-a63b-4946-9528-70f3e9759adb",
        "colab": {
          "base_uri": "https://localhost:8080/",
          "height": 317
        }
      },
      "source": [
        "learn.recorder.plot(suggestion=True)"
      ],
      "execution_count": 0,
      "outputs": [
        {
          "output_type": "stream",
          "text": [
            "Min numerical gradient: 6.31E-07\n",
            "Min loss divided by 10: 7.59E-08\n"
          ],
          "name": "stdout"
        },
        {
          "output_type": "display_data",
          "data": {
            "image/png": "[encoded data removed]",
            "text/plain": [
              "<Figure size 432x288 with 1 Axes>"
            ]
          },
          "metadata": {
            "tags": [],
            "image/png": {
              "width": 396,
              "height": 266
            }
          }
        }
      ]
    },
    {
      "cell_type": "code",
      "metadata": {
        "id": "W7rWOAq0KXjO",
        "colab_type": "code",
        "colab": {}
      },
      "source": [
        "learn.unfreeze()"
      ],
      "execution_count": 0,
      "outputs": []
    },
    {
      "cell_type": "code",
      "metadata": {
        "id": "lFoe1e8WKXf7",
        "colab_type": "code",
        "outputId": "418983d2-c599-4062-de7e-06032f3e387a",
        "colab": {
          "base_uri": "https://localhost:8080/",
          "height": 34
        }
      },
      "source": [
        "learn.lr_find()"
      ],
      "execution_count": 0,
      "outputs": [
        {
          "output_type": "display_data",
          "data": {
            "text/html": [
              ""
            ],
            "text/plain": [
              "<IPython.core.display.HTML object>"
            ]
          },
          "metadata": {
            "tags": []
          }
        },
        {
          "output_type": "stream",
          "text": [
            "LR Finder is complete, type {learner_name}.recorder.plot() to see the graph.\n"
          ],
          "name": "stdout"
        }
      ]
    },
    {
      "cell_type": "code",
      "metadata": {
        "id": "OIw5umIfKXci",
        "colab_type": "code",
        "outputId": "ff97183f-48aa-492e-9fbc-05a07777a539",
        "colab": {
          "base_uri": "https://localhost:8080/",
          "height": 317
        }
      },
      "source": [
        "learn.recorder.plot(suggestion=True)"
      ],
      "execution_count": 0,
      "outputs": [
        {
          "output_type": "stream",
          "text": [
            "Min numerical gradient: 1.58E-06\n",
            "Min loss divided by 10: 3.98E-05\n"
          ],
          "name": "stdout"
        },
        {
          "output_type": "display_data",
          "data": {
            "image/png": "[encoded data removed]",
            "text/plain": [
              "<Figure size 432x288 with 1 Axes>"
            ]
          },
          "metadata": {
            "tags": [],
            "image/png": {
              "width": 389,
              "height": 266
            }
          }
        }
      ]
    },
    {
      "cell_type": "code",
      "metadata": {
        "id": "maK88qj8Mmw6",
        "colab_type": "code",
        "colab": {}
      },
      "source": [
        "learn.freeze()"
      ],
      "execution_count": 0,
      "outputs": []
    },
    {
      "cell_type": "code",
      "metadata": {
        "id": "2bwL0A8VMmrd",
        "colab_type": "code",
        "outputId": "a1ae7425-8674-4b12-d4fb-0c337f230a16",
        "colab": {
          "base_uri": "https://localhost:8080/",
          "height": 34
        }
      },
      "source": [
        "learn.lr_find()"
      ],
      "execution_count": 0,
      "outputs": [
        {
          "output_type": "display_data",
          "data": {
            "text/html": [
              ""
            ],
            "text/plain": [
              "<IPython.core.display.HTML object>"
            ]
          },
          "metadata": {
            "tags": []
          }
        },
        {
          "output_type": "stream",
          "text": [
            "LR Finder is complete, type {learner_name}.recorder.plot() to see the graph.\n"
          ],
          "name": "stdout"
        }
      ]
    },
    {
      "cell_type": "code",
      "metadata": {
        "id": "2a405YTUMmj7",
        "colab_type": "code",
        "outputId": "62221ba7-49fb-47cb-cc8b-20fcf5ff170a",
        "colab": {
          "base_uri": "https://localhost:8080/",
          "height": 317
        }
      },
      "source": [
        "learn.recorder.plot(suggestion=True)"
      ],
      "execution_count": 0,
      "outputs": [
        {
          "output_type": "stream",
          "text": [
            "Min numerical gradient: 3.02E-05\n",
            "Min loss divided by 10: 7.59E-08\n"
          ],
          "name": "stdout"
        },
        {
          "output_type": "display_data",
          "data": {
            "image/png": "[encoded data removed]",
            "text/plain": [
              "<Figure size 432x288 with 1 Axes>"
            ]
          },
          "metadata": {
            "tags": [],
            "image/png": {
              "width": 389,
              "height": 266
            }
          }
        }
      ]
    },
    {
      "cell_type": "markdown",
      "metadata": {
        "id": "yBNIUqWXOCXt",
        "colab_type": "text"
      },
      "source": [
        "### _Increase Image Size to 364_"
      ]
    },
    {
      "cell_type": "code",
      "metadata": {
        "id": "C8fiK6KVOCIa",
        "colab_type": "code",
        "colab": {}
      },
      "source": [
        "data_384 = (ImageDataBunch.from_df(path=path/'images_train',\n",
        "                              df=train_df,\n",
        "                              suffix='.png',\n",
        "                              size=384,\n",
        "                              bs=16))\n",
        "\n",
        "data_384.normalize(imagenet_stats)\n",
        "\n",
        "# add test set\n",
        "data_384.add_test(ImageList.from_df(test_df, path = path/'images_test', suffix='.png'))"
      ],
      "execution_count": 0,
      "outputs": []
    },
    {
      "cell_type": "code",
      "metadata": {
        "id": "w6xmqURmOCFg",
        "colab_type": "code",
        "colab": {}
      },
      "source": [
        "learn.data = data_384"
      ],
      "execution_count": 0,
      "outputs": []
    },
    {
      "cell_type": "code",
      "metadata": {
        "id": "qL2Ox6SxOCCh",
        "colab_type": "code",
        "colab": {}
      },
      "source": [
        "# load weights from previous round of training\n",
        "learn.load(path/'models/models/trial5-rd1');"
      ],
      "execution_count": 0,
      "outputs": []
    },
    {
      "cell_type": "code",
      "metadata": {
        "id": "TDVqiYV5OB_q",
        "colab_type": "code",
        "outputId": "b15bb1c0-65af-479f-8266-a2560a273352",
        "colab": {
          "base_uri": "https://localhost:8080/",
          "height": 34
        }
      },
      "source": [
        "learn.lr_find()"
      ],
      "execution_count": 0,
      "outputs": [
        {
          "output_type": "display_data",
          "data": {
            "text/html": [
              ""
            ],
            "text/plain": [
              "<IPython.core.display.HTML object>"
            ]
          },
          "metadata": {
            "tags": []
          }
        },
        {
          "output_type": "stream",
          "text": [
            "LR Finder is complete, type {learner_name}.recorder.plot() to see the graph.\n"
          ],
          "name": "stdout"
        }
      ]
    },
    {
      "cell_type": "code",
      "metadata": {
        "id": "HrHMp1YZOB8o",
        "colab_type": "code",
        "outputId": "43cb6a35-f8c0-4f64-cda1-05016a19179d",
        "colab": {
          "base_uri": "https://localhost:8080/",
          "height": 317
        }
      },
      "source": [
        "learn.recorder.plot(suggestion=True)"
      ],
      "execution_count": 0,
      "outputs": [
        {
          "output_type": "stream",
          "text": [
            "Min numerical gradient: 5.75E-06\n",
            "Min loss divided by 10: 6.31E-08\n"
          ],
          "name": "stdout"
        },
        {
          "output_type": "display_data",
          "data": {
            "image/png": "[encoded data removed]",
            "text/plain": [
              "<Figure size 432x288 with 1 Axes>"
            ]
          },
          "metadata": {
            "tags": [],
            "image/png": {
              "width": 396,
              "height": 266
            }
          }
        }
      ]
    },
    {
      "cell_type": "code",
      "metadata": {
        "id": "vULS98QYOB5q",
        "colab_type": "code",
        "outputId": "585a76e4-20b9-4141-cb13-86bdb127c39c",
        "colab": {
          "base_uri": "https://localhost:8080/",
          "height": 34
        }
      },
      "source": [
        "lr = learn.recorder.min_grad_lr\n",
        "lr"
      ],
      "execution_count": 0,
      "outputs": [
        {
          "output_type": "execute_result",
          "data": {
            "text/plain": [
              "5.754399373371569e-06"
            ]
          },
          "metadata": {
            "tags": []
          },
          "execution_count": 58
        }
      ]
    },
    {
      "cell_type": "code",
      "metadata": {
        "id": "viPLtL8zQBdZ",
        "colab_type": "code",
        "outputId": "f7191c2b-776d-42e2-81af-a00354f6b208",
        "colab": {
          "base_uri": "https://localhost:8080/",
          "height": 238
        }
      },
      "source": [
        "learn.fit_one_cycle(5, slice(lr), callbacks=[(SaveModelCallback(learn, \n",
        "                                                                every='improvement', \n",
        "                                                                monitor='kappa_score', \n",
        "                                                                name='trial5-rd2'))])"
      ],
      "execution_count": 0,
      "outputs": [
        {
          "output_type": "display_data",
          "data": {
            "text/html": [
              "<table border=\"1\" class=\"dataframe\">\n",
              "  <thead>\n",
              "    <tr style=\"text-align: left;\">\n",
              "      <th>epoch</th>\n",
              "      <th>train_loss</th>\n",
              "      <th>valid_loss</th>\n",
              "      <th>error_rate</th>\n",
              "      <th>kappa_score</th>\n",
              "      <th>time</th>\n",
              "    </tr>\n",
              "  </thead>\n",
              "  <tbody>\n",
              "    <tr>\n",
              "      <td>0</td>\n",
              "      <td>0.572315</td>\n",
              "      <td>0.472390</td>\n",
              "      <td>0.173497</td>\n",
              "      <td>0.581283</td>\n",
              "      <td>09:04</td>\n",
              "    </tr>\n",
              "    <tr>\n",
              "      <td>1</td>\n",
              "      <td>0.577461</td>\n",
              "      <td>0.469435</td>\n",
              "      <td>0.170765</td>\n",
              "      <td>0.589106</td>\n",
              "      <td>09:04</td>\n",
              "    </tr>\n",
              "    <tr>\n",
              "      <td>2</td>\n",
              "      <td>0.570043</td>\n",
              "      <td>0.467237</td>\n",
              "      <td>0.174863</td>\n",
              "      <td>0.562529</td>\n",
              "      <td>09:05</td>\n",
              "    </tr>\n",
              "    <tr>\n",
              "      <td>3</td>\n",
              "      <td>0.552989</td>\n",
              "      <td>0.470314</td>\n",
              "      <td>0.172131</td>\n",
              "      <td>0.576249</td>\n",
              "      <td>09:06</td>\n",
              "    </tr>\n",
              "    <tr>\n",
              "      <td>4</td>\n",
              "      <td>0.538735</td>\n",
              "      <td>0.472915</td>\n",
              "      <td>0.178962</td>\n",
              "      <td>0.564331</td>\n",
              "      <td>09:06</td>\n",
              "    </tr>\n",
              "  </tbody>\n",
              "</table>"
            ],
            "text/plain": [
              "<IPython.core.display.HTML object>"
            ]
          },
          "metadata": {
            "tags": []
          }
        },
        {
          "output_type": "stream",
          "text": [
            "Better model found at epoch 0 with kappa_score value: 0.581283450126648.\n",
            "Better model found at epoch 1 with kappa_score value: 0.5891056060791016.\n"
          ],
          "name": "stdout"
        }
      ]
    },
    {
      "cell_type": "markdown",
      "metadata": {
        "id": "KqmJGppcbB5y",
        "colab_type": "text"
      },
      "source": [
        "### _Increase Image Size to 448_"
      ]
    },
    {
      "cell_type": "code",
      "metadata": {
        "id": "h4i3ZknXQBaE",
        "colab_type": "code",
        "colab": {}
      },
      "source": [
        "data_448 = (ImageDataBunch.from_df(path=path/'images_train',\n",
        "                              df=train_df,\n",
        "                              suffix='.png',\n",
        "                              size=448,\n",
        "                              bs=8))\n",
        "\n",
        "data_448.normalize(imagenet_stats)\n",
        "\n",
        "# add test set\n",
        "data_448.add_test(ImageList.from_df(test_df, path = path/'images_test', suffix='.png'))"
      ],
      "execution_count": 0,
      "outputs": []
    },
    {
      "cell_type": "code",
      "metadata": {
        "id": "lTAGaG2vQBU5",
        "colab_type": "code",
        "colab": {}
      },
      "source": [
        "learn.data = data_448"
      ],
      "execution_count": 0,
      "outputs": []
    },
    {
      "cell_type": "code",
      "metadata": {
        "id": "AfSu7SxWbZ5M",
        "colab_type": "code",
        "colab": {}
      },
      "source": [
        "# load weights from previous round of training\n",
        "learn.load(path/'models/models/trial5-rd2');"
      ],
      "execution_count": 0,
      "outputs": []
    },
    {
      "cell_type": "code",
      "metadata": {
        "id": "TIjyg9xJbZ2G",
        "colab_type": "code",
        "outputId": "a541a449-6696-46fa-e74f-2a72650c488b",
        "colab": {
          "base_uri": "https://localhost:8080/",
          "height": 34
        }
      },
      "source": [
        "learn.lr_find()"
      ],
      "execution_count": 0,
      "outputs": [
        {
          "output_type": "display_data",
          "data": {
            "text/html": [
              ""
            ],
            "text/plain": [
              "<IPython.core.display.HTML object>"
            ]
          },
          "metadata": {
            "tags": []
          }
        },
        {
          "output_type": "stream",
          "text": [
            "LR Finder is complete, type {learner_name}.recorder.plot() to see the graph.\n"
          ],
          "name": "stdout"
        }
      ]
    },
    {
      "cell_type": "code",
      "metadata": {
        "id": "jbkrNsVDbZy6",
        "colab_type": "code",
        "outputId": "3ae6e2ea-e532-476c-f9f6-8532abc4d797",
        "colab": {
          "base_uri": "https://localhost:8080/",
          "height": 317
        }
      },
      "source": [
        "learn.recorder.plot(suggestion=True)"
      ],
      "execution_count": 0,
      "outputs": [
        {
          "output_type": "stream",
          "text": [
            "Min numerical gradient: 1.10E-06\n",
            "Min loss divided by 10: 2.09E-06\n"
          ],
          "name": "stdout"
        },
        {
          "output_type": "display_data",
          "data": {
            "image/png": "[encoded data removed]",
            "text/plain": [
              "<Figure size 432x288 with 1 Axes>"
            ]
          },
          "metadata": {
            "tags": [],
            "image/png": {
              "width": 396,
              "height": 266
            }
          }
        }
      ]
    },
    {
      "cell_type": "code",
      "metadata": {
        "id": "m-QmY-agbZvY",
        "colab_type": "code",
        "colab": {}
      },
      "source": [
        "learn.unfreeze()"
      ],
      "execution_count": 0,
      "outputs": []
    },
    {
      "cell_type": "code",
      "metadata": {
        "id": "arWeMR_zKXYq",
        "colab_type": "code",
        "outputId": "c094e740-c966-4325-876f-d57666c53e8f",
        "colab": {
          "base_uri": "https://localhost:8080/",
          "height": 34
        }
      },
      "source": [
        "learn.lr_find()"
      ],
      "execution_count": 0,
      "outputs": [
        {
          "output_type": "display_data",
          "data": {
            "text/html": [
              ""
            ],
            "text/plain": [
              "<IPython.core.display.HTML object>"
            ]
          },
          "metadata": {
            "tags": []
          }
        },
        {
          "output_type": "stream",
          "text": [
            "LR Finder is complete, type {learner_name}.recorder.plot() to see the graph.\n"
          ],
          "name": "stdout"
        }
      ]
    },
    {
      "cell_type": "code",
      "metadata": {
        "id": "XQEnqbPndC_J",
        "colab_type": "code",
        "outputId": "23f12da3-abe5-4412-e057-178f7696a782",
        "colab": {
          "base_uri": "https://localhost:8080/",
          "height": 317
        }
      },
      "source": [
        "learn.recorder.plot(suggestion=True)"
      ],
      "execution_count": 0,
      "outputs": [
        {
          "output_type": "stream",
          "text": [
            "Min numerical gradient: 1.10E-06\n",
            "Min loss divided by 10: 2.29E-05\n"
          ],
          "name": "stdout"
        },
        {
          "output_type": "display_data",
          "data": {
            "image/png": "[encoded data removed]",
            "text/plain": [
              "<Figure size 432x288 with 1 Axes>"
            ]
          },
          "metadata": {
            "tags": [],
            "image/png": {
              "width": 389,
              "height": 266
            }
          }
        }
      ]
    },
    {
      "cell_type": "code",
      "metadata": {
        "id": "FcYtrlgQdC7t",
        "colab_type": "code",
        "outputId": "fa21f944-999e-439e-bdc7-368e763d201e",
        "colab": {
          "base_uri": "https://localhost:8080/",
          "height": 238
        }
      },
      "source": [
        "learn.fit_one_cycle(5, slice(9e-6), callbacks=[(SaveModelCallback(learn, \n",
        "                                                                every='improvement', \n",
        "                                                                monitor='kappa_score', \n",
        "                                                                name='trial5-rd3'))])"
      ],
      "execution_count": 0,
      "outputs": [
        {
          "output_type": "display_data",
          "data": {
            "text/html": [
              "<table border=\"1\" class=\"dataframe\">\n",
              "  <thead>\n",
              "    <tr style=\"text-align: left;\">\n",
              "      <th>epoch</th>\n",
              "      <th>train_loss</th>\n",
              "      <th>valid_loss</th>\n",
              "      <th>error_rate</th>\n",
              "      <th>kappa_score</th>\n",
              "      <th>time</th>\n",
              "    </tr>\n",
              "  </thead>\n",
              "  <tbody>\n",
              "    <tr>\n",
              "      <td>0</td>\n",
              "      <td>0.704010</td>\n",
              "      <td>0.537611</td>\n",
              "      <td>0.215847</td>\n",
              "      <td>0.529271</td>\n",
              "      <td>10:05</td>\n",
              "    </tr>\n",
              "    <tr>\n",
              "      <td>1</td>\n",
              "      <td>0.647445</td>\n",
              "      <td>0.515455</td>\n",
              "      <td>0.198087</td>\n",
              "      <td>0.586786</td>\n",
              "      <td>10:09</td>\n",
              "    </tr>\n",
              "    <tr>\n",
              "      <td>2</td>\n",
              "      <td>0.639580</td>\n",
              "      <td>0.503867</td>\n",
              "      <td>0.193989</td>\n",
              "      <td>0.578559</td>\n",
              "      <td>10:08</td>\n",
              "    </tr>\n",
              "    <tr>\n",
              "      <td>3</td>\n",
              "      <td>0.609179</td>\n",
              "      <td>0.505132</td>\n",
              "      <td>0.193989</td>\n",
              "      <td>0.558894</td>\n",
              "      <td>10:14</td>\n",
              "    </tr>\n",
              "    <tr>\n",
              "      <td>4</td>\n",
              "      <td>0.639683</td>\n",
              "      <td>0.507250</td>\n",
              "      <td>0.200820</td>\n",
              "      <td>0.554854</td>\n",
              "      <td>10:15</td>\n",
              "    </tr>\n",
              "  </tbody>\n",
              "</table>"
            ],
            "text/plain": [
              "<IPython.core.display.HTML object>"
            ]
          },
          "metadata": {
            "tags": []
          }
        },
        {
          "output_type": "stream",
          "text": [
            "Better model found at epoch 0 with kappa_score value: 0.5292706489562988.\n",
            "Better model found at epoch 1 with kappa_score value: 0.5867859721183777.\n"
          ],
          "name": "stdout"
        }
      ]
    },
    {
      "cell_type": "code",
      "metadata": {
        "id": "r04qRXpUdC3y",
        "colab_type": "code",
        "colab": {}
      },
      "source": [
        ""
      ],
      "execution_count": 0,
      "outputs": []
    },
    {
      "cell_type": "markdown",
      "metadata": {
        "id": "CRsMSAD2tJZs",
        "colab_type": "text"
      },
      "source": [
        "### _Random Thoughts_\n",
        "\n",
        "The first thing that I need to address the training time...this is taking **way** too long. This Medium [article](https://medium.com/@oribarel/getting-the-most-out-of-your-google-colab-2b0585f82403) looks like it might provide some value in this particular realm. What I need to do is set up a new Colab notebook and go through the code and see what happens. It does make sense that the connection between my Google Drive and the learner may be a root cause of the lag but I can't say for sure at this point. \n",
        "\n",
        "Another thing that I need to talk about is what I'm going to do next. Yes, I still need to do my technical mock interview for Springboard. Also, I need to start prepping my presentation for Springboard Rise. What is your main goal? Do youi really want to just sit up there and regurgitate? Or do you want to tell a story?"
      ]
    },
    {
      "cell_type": "code",
      "metadata": {
        "id": "OTNR2TQnqBN6",
        "colab_type": "code",
        "colab": {}
      },
      "source": [
        ""
      ],
      "execution_count": 0,
      "outputs": []
    }
  ]
}