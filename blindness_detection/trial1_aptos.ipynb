{
  "nbformat": 4,
  "nbformat_minor": 0,
  "metadata": {
    "colab": {
      "name": "trial1_aptos.ipynb",
      "version": "0.3.2",
      "provenance": [],
      "collapsed_sections": []
    },
    "kernelspec": {
      "name": "python3",
      "display_name": "Python 3"
    },
    "accelerator": "GPU"
  },
  "cells": [
    {
      "cell_type": "code",
      "metadata": {
        "id": "NLVrbdac06rB",
        "colab_type": "code",
        "colab": {}
      },
      "source": [
        "# update pytorch and fastai to latest versions\n",
        "!pip install torch -U\n",
        "!pip install torchvision -U\n",
        "!pip install fastai -U \n",
        "!pip install kaggle"
      ],
      "execution_count": 0,
      "outputs": []
    },
    {
      "cell_type": "code",
      "metadata": {
        "id": "Nsjk5NpZ1K9v",
        "colab_type": "code",
        "colab": {}
      },
      "source": [
        "# import libraries\n",
        "import pandas as pd\n",
        "pd.options.display.max_columns = None\n",
        "import numpy as np\n",
        "import random\n",
        "import os\n",
        "\n",
        "# Matplotlib\n",
        "%matplotlib inline\n",
        "%config InlineBackend.figure_format='retina'\n",
        "import matplotlib as mpl\n",
        "import matplotlib.pyplot as plt\n",
        "import seaborn as sns\n",
        "plt.style.use('ggplot')"
      ],
      "execution_count": 0,
      "outputs": []
    },
    {
      "cell_type": "code",
      "metadata": {
        "id": "OCXzAcVW2Ebr",
        "colab_type": "code",
        "outputId": "467db777-8b94-405e-a5a5-0305b78eea90",
        "colab": {
          "base_uri": "https://localhost:8080/",
          "height": 54
        }
      },
      "source": [
        "# mount your google drive so you can save to it\n",
        "from google.colab import drive\n",
        "drive.mount('/content/gdrive')"
      ],
      "execution_count": 70,
      "outputs": [
        {
          "output_type": "stream",
          "text": [
            "Drive already mounted at /content/gdrive; to attempt to forcibly remount, call drive.mount(\"/content/gdrive\", force_remount=True).\n"
          ],
          "name": "stdout"
        }
      ]
    },
    {
      "cell_type": "code",
      "metadata": {
        "id": "eqchFuyR2LJG",
        "colab_type": "code",
        "outputId": "6d40ab38-7949-46ce-a6ce-ad7c4c3bad6e",
        "colab": {
          "base_uri": "https://localhost:8080/",
          "height": 34
        }
      },
      "source": [
        "os.getcwd()"
      ],
      "execution_count": 71,
      "outputs": [
        {
          "output_type": "execute_result",
          "data": {
            "text/plain": [
              "'/content/gdrive/My Drive/projects/blindness_detection'"
            ]
          },
          "metadata": {
            "tags": []
          },
          "execution_count": 71
        }
      ]
    },
    {
      "cell_type": "code",
      "metadata": {
        "id": "qSqwsJNN2wD_",
        "colab_type": "code",
        "colab": {}
      },
      "source": [
        "#os.mkdir('blindness_detection')"
      ],
      "execution_count": 0,
      "outputs": []
    },
    {
      "cell_type": "code",
      "metadata": {
        "id": "S5LbqjpD2a2l",
        "colab_type": "code",
        "colab": {}
      },
      "source": [
        "os.chdir('/content/gdrive/My Drive/projects/')"
      ],
      "execution_count": 0,
      "outputs": []
    },
    {
      "cell_type": "code",
      "metadata": {
        "id": "tSFOrS2n2unw",
        "colab_type": "code",
        "outputId": "f7893c39-03e8-4d61-a40e-5a0f8388167c",
        "colab": {
          "base_uri": "https://localhost:8080/",
          "height": 34
        }
      },
      "source": [
        "os.getcwd()"
      ],
      "execution_count": 74,
      "outputs": [
        {
          "output_type": "execute_result",
          "data": {
            "text/plain": [
              "'/content/gdrive/My Drive/projects'"
            ]
          },
          "metadata": {
            "tags": []
          },
          "execution_count": 74
        }
      ]
    },
    {
      "cell_type": "code",
      "metadata": {
        "id": "pEt4GD3B260j",
        "colab_type": "code",
        "outputId": "6b1e055d-1e6d-4aff-b534-ac58f2aea27c",
        "colab": {
          "base_uri": "https://localhost:8080/",
          "height": 34
        }
      },
      "source": [
        "os.listdir()"
      ],
      "execution_count": 75,
      "outputs": [
        {
          "output_type": "execute_result",
          "data": {
            "text/plain": [
              "['blindness_detection']"
            ]
          },
          "metadata": {
            "tags": []
          },
          "execution_count": 75
        }
      ]
    },
    {
      "cell_type": "code",
      "metadata": {
        "id": "Chf9mD9H29yZ",
        "colab_type": "code",
        "colab": {}
      },
      "source": [
        "# create environment variables for kaggle to authenticate with\n",
        "# os.environ['KAGGLE_USERNAME'] = \"insert-here\"\n",
        "# os.environ['KAGGLE_KEY'] = \"insert-here\""
      ],
      "execution_count": 0,
      "outputs": []
    },
    {
      "cell_type": "code",
      "metadata": {
        "id": "kW-4k9m64r4c",
        "colab_type": "code",
        "colab": {}
      },
      "source": [
        "#!kaggle competitions download -c aptos2019-blindness-detection -p 'blindness_detection'"
      ],
      "execution_count": 0,
      "outputs": []
    },
    {
      "cell_type": "code",
      "metadata": {
        "id": "YdwJwD7P5miL",
        "colab_type": "code",
        "outputId": "eb126b6c-5564-46c7-bcda-d8d3b4a12972",
        "colab": {
          "base_uri": "https://localhost:8080/",
          "height": 136
        }
      },
      "source": [
        "os.listdir('blindness_detection/')"
      ],
      "execution_count": 81,
      "outputs": [
        {
          "output_type": "execute_result",
          "data": {
            "text/plain": [
              "['train.csv',\n",
              " 'test.csv',\n",
              " 'sample_submission.csv',\n",
              " 'images_train',\n",
              " 'images_test',\n",
              " 'train_images',\n",
              " 'test_images']"
            ]
          },
          "metadata": {
            "tags": []
          },
          "execution_count": 81
        }
      ]
    },
    {
      "cell_type": "code",
      "metadata": {
        "id": "2jLhaudtMXpx",
        "colab_type": "code",
        "colab": {}
      },
      "source": [
        "#!unzip 'blindness_detection/train_images.zip' -d 'train_images'\n",
        "#!unzip 'blindness_detection/test_images.zip' -d 'test_images'"
      ],
      "execution_count": 0,
      "outputs": []
    },
    {
      "cell_type": "code",
      "metadata": {
        "id": "1KSiA_hnQqOu",
        "colab_type": "code",
        "colab": {}
      },
      "source": [
        "os.chdir('blindness_detection/')"
      ],
      "execution_count": 0,
      "outputs": []
    },
    {
      "cell_type": "code",
      "metadata": {
        "id": "ly4E7yLTQw6g",
        "colab_type": "code",
        "colab": {
          "base_uri": "https://localhost:8080/",
          "height": 34
        },
        "outputId": "0627fe8a-d6e3-40bc-f38e-61fc62378f25"
      },
      "source": [
        "from pathlib import Path\n",
        "\n",
        "#create path variable to primary directory\n",
        "path = Path(os.getcwd())\n",
        "path"
      ],
      "execution_count": 85,
      "outputs": [
        {
          "output_type": "execute_result",
          "data": {
            "text/plain": [
              "PosixPath('/content/gdrive/My Drive/projects/blindness_detection')"
            ]
          },
          "metadata": {
            "tags": []
          },
          "execution_count": 85
        }
      ]
    },
    {
      "cell_type": "code",
      "metadata": {
        "id": "SodhZxoOQR9E",
        "colab_type": "code",
        "colab": {}
      },
      "source": [
        "# make a dataframe from train.csv\n",
        "train_df = pd.read_csv(path/'train.csv')\n",
        "# make a dataframe from test.csv\n",
        "test_df = pd.read_csv(path/'test.csv')"
      ],
      "execution_count": 0,
      "outputs": []
    },
    {
      "cell_type": "code",
      "metadata": {
        "id": "CH1Nkkc0RacF",
        "colab_type": "code",
        "outputId": "67e23668-90db-4c06-dd26-f0387c2fc18e",
        "colab": {
          "base_uri": "https://localhost:8080/",
          "height": 204
        }
      },
      "source": [
        "train_df.head()"
      ],
      "execution_count": 87,
      "outputs": [
        {
          "output_type": "execute_result",
          "data": {
            "text/html": [
              "<div>\n",
              "<style scoped>\n",
              "    .dataframe tbody tr th:only-of-type {\n",
              "        vertical-align: middle;\n",
              "    }\n",
              "\n",
              "    .dataframe tbody tr th {\n",
              "        vertical-align: top;\n",
              "    }\n",
              "\n",
              "    .dataframe thead th {\n",
              "        text-align: right;\n",
              "    }\n",
              "</style>\n",
              "<table border=\"1\" class=\"dataframe\">\n",
              "  <thead>\n",
              "    <tr style=\"text-align: right;\">\n",
              "      <th></th>\n",
              "      <th>id_code</th>\n",
              "      <th>diagnosis</th>\n",
              "    </tr>\n",
              "  </thead>\n",
              "  <tbody>\n",
              "    <tr>\n",
              "      <th>0</th>\n",
              "      <td>000c1434d8d7</td>\n",
              "      <td>2</td>\n",
              "    </tr>\n",
              "    <tr>\n",
              "      <th>1</th>\n",
              "      <td>001639a390f0</td>\n",
              "      <td>4</td>\n",
              "    </tr>\n",
              "    <tr>\n",
              "      <th>2</th>\n",
              "      <td>0024cdab0c1e</td>\n",
              "      <td>1</td>\n",
              "    </tr>\n",
              "    <tr>\n",
              "      <th>3</th>\n",
              "      <td>002c21358ce6</td>\n",
              "      <td>0</td>\n",
              "    </tr>\n",
              "    <tr>\n",
              "      <th>4</th>\n",
              "      <td>005b95c28852</td>\n",
              "      <td>0</td>\n",
              "    </tr>\n",
              "  </tbody>\n",
              "</table>\n",
              "</div>"
            ],
            "text/plain": [
              "        id_code  diagnosis\n",
              "0  000c1434d8d7          2\n",
              "1  001639a390f0          4\n",
              "2  0024cdab0c1e          1\n",
              "3  002c21358ce6          0\n",
              "4  005b95c28852          0"
            ]
          },
          "metadata": {
            "tags": []
          },
          "execution_count": 87
        }
      ]
    },
    {
      "cell_type": "code",
      "metadata": {
        "id": "UVxLwpVLRaNI",
        "colab_type": "code",
        "outputId": "b6572861-d584-4e7a-f096-9fc9f51ab006",
        "colab": {
          "base_uri": "https://localhost:8080/",
          "height": 204
        }
      },
      "source": [
        "test_df.head()"
      ],
      "execution_count": 88,
      "outputs": [
        {
          "output_type": "execute_result",
          "data": {
            "text/html": [
              "<div>\n",
              "<style scoped>\n",
              "    .dataframe tbody tr th:only-of-type {\n",
              "        vertical-align: middle;\n",
              "    }\n",
              "\n",
              "    .dataframe tbody tr th {\n",
              "        vertical-align: top;\n",
              "    }\n",
              "\n",
              "    .dataframe thead th {\n",
              "        text-align: right;\n",
              "    }\n",
              "</style>\n",
              "<table border=\"1\" class=\"dataframe\">\n",
              "  <thead>\n",
              "    <tr style=\"text-align: right;\">\n",
              "      <th></th>\n",
              "      <th>id_code</th>\n",
              "    </tr>\n",
              "  </thead>\n",
              "  <tbody>\n",
              "    <tr>\n",
              "      <th>0</th>\n",
              "      <td>0005cfc8afb6</td>\n",
              "    </tr>\n",
              "    <tr>\n",
              "      <th>1</th>\n",
              "      <td>003f0afdcd15</td>\n",
              "    </tr>\n",
              "    <tr>\n",
              "      <th>2</th>\n",
              "      <td>006efc72b638</td>\n",
              "    </tr>\n",
              "    <tr>\n",
              "      <th>3</th>\n",
              "      <td>00836aaacf06</td>\n",
              "    </tr>\n",
              "    <tr>\n",
              "      <th>4</th>\n",
              "      <td>009245722fa4</td>\n",
              "    </tr>\n",
              "  </tbody>\n",
              "</table>\n",
              "</div>"
            ],
            "text/plain": [
              "        id_code\n",
              "0  0005cfc8afb6\n",
              "1  003f0afdcd15\n",
              "2  006efc72b638\n",
              "3  00836aaacf06\n",
              "4  009245722fa4"
            ]
          },
          "metadata": {
            "tags": []
          },
          "execution_count": 88
        }
      ]
    },
    {
      "cell_type": "code",
      "metadata": {
        "id": "9wz7zULqQ8Zi",
        "colab_type": "code",
        "colab": {}
      },
      "source": [
        "# create a dictionary for the varying levels of diabetic retinopathy\n",
        "dr_dict = {0: 'No DR', # no diabetic retinopathy,\n",
        "           1: 'Mild', # mild case of diabetic retinopathy,\n",
        "           2: 'Moderate', # moderate level of diabetic retinopathy\n",
        "           3: 'Severe', # severe case of diabetic retinopathy\n",
        "           4: 'Proliferative DR' # worst case scenario\n",
        "          }"
      ],
      "execution_count": 0,
      "outputs": []
    },
    {
      "cell_type": "code",
      "metadata": {
        "id": "fP9sU0SzSKeu",
        "colab_type": "code",
        "colab": {}
      },
      "source": [
        "# create target column that generates more descriptive labels vs. integer values\n",
        "train_df['target'] = train_df['diagnosis'].map(dr_dict)"
      ],
      "execution_count": 0,
      "outputs": []
    },
    {
      "cell_type": "code",
      "metadata": {
        "id": "Fc9tvGrcTDmj",
        "colab_type": "code",
        "outputId": "7d9550a9-cd49-48d9-ff39-e275c8375e61",
        "colab": {
          "base_uri": "https://localhost:8080/",
          "height": 204
        }
      },
      "source": [
        "train_df.tail()"
      ],
      "execution_count": 91,
      "outputs": [
        {
          "output_type": "execute_result",
          "data": {
            "text/html": [
              "<div>\n",
              "<style scoped>\n",
              "    .dataframe tbody tr th:only-of-type {\n",
              "        vertical-align: middle;\n",
              "    }\n",
              "\n",
              "    .dataframe tbody tr th {\n",
              "        vertical-align: top;\n",
              "    }\n",
              "\n",
              "    .dataframe thead th {\n",
              "        text-align: right;\n",
              "    }\n",
              "</style>\n",
              "<table border=\"1\" class=\"dataframe\">\n",
              "  <thead>\n",
              "    <tr style=\"text-align: right;\">\n",
              "      <th></th>\n",
              "      <th>id_code</th>\n",
              "      <th>diagnosis</th>\n",
              "      <th>target</th>\n",
              "    </tr>\n",
              "  </thead>\n",
              "  <tbody>\n",
              "    <tr>\n",
              "      <th>3657</th>\n",
              "      <td>ffa47f6a7bf4</td>\n",
              "      <td>2</td>\n",
              "      <td>Moderate</td>\n",
              "    </tr>\n",
              "    <tr>\n",
              "      <th>3658</th>\n",
              "      <td>ffc04fed30e6</td>\n",
              "      <td>0</td>\n",
              "      <td>No DR</td>\n",
              "    </tr>\n",
              "    <tr>\n",
              "      <th>3659</th>\n",
              "      <td>ffcf7b45f213</td>\n",
              "      <td>2</td>\n",
              "      <td>Moderate</td>\n",
              "    </tr>\n",
              "    <tr>\n",
              "      <th>3660</th>\n",
              "      <td>ffd97f8cd5aa</td>\n",
              "      <td>0</td>\n",
              "      <td>No DR</td>\n",
              "    </tr>\n",
              "    <tr>\n",
              "      <th>3661</th>\n",
              "      <td>ffec9a18a3ce</td>\n",
              "      <td>2</td>\n",
              "      <td>Moderate</td>\n",
              "    </tr>\n",
              "  </tbody>\n",
              "</table>\n",
              "</div>"
            ],
            "text/plain": [
              "           id_code  diagnosis    target\n",
              "3657  ffa47f6a7bf4          2  Moderate\n",
              "3658  ffc04fed30e6          0     No DR\n",
              "3659  ffcf7b45f213          2  Moderate\n",
              "3660  ffd97f8cd5aa          0     No DR\n",
              "3661  ffec9a18a3ce          2  Moderate"
            ]
          },
          "metadata": {
            "tags": []
          },
          "execution_count": 91
        }
      ]
    },
    {
      "cell_type": "code",
      "metadata": {
        "id": "LYoipmSGTZG2",
        "colab_type": "code",
        "outputId": "080108d3-12a3-41e2-a9c9-b35c2beb0145",
        "colab": {
          "base_uri": "https://localhost:8080/",
          "height": 153
        }
      },
      "source": [
        "train_df.info()"
      ],
      "execution_count": 92,
      "outputs": [
        {
          "output_type": "stream",
          "text": [
            "<class 'pandas.core.frame.DataFrame'>\n",
            "RangeIndex: 3662 entries, 0 to 3661\n",
            "Data columns (total 3 columns):\n",
            "id_code      3662 non-null object\n",
            "diagnosis    3662 non-null int64\n",
            "target       3662 non-null object\n",
            "dtypes: int64(1), object(2)\n",
            "memory usage: 85.9+ KB\n"
          ],
          "name": "stdout"
        }
      ]
    },
    {
      "cell_type": "code",
      "metadata": {
        "id": "gmI2-87NTfrT",
        "colab_type": "code",
        "colab": {}
      },
      "source": [
        "# convert target column to categorical type\n",
        "train_df['target'] = train_df['target'].astype('category')"
      ],
      "execution_count": 0,
      "outputs": []
    },
    {
      "cell_type": "code",
      "metadata": {
        "id": "6GzcIJjWTpp8",
        "colab_type": "code",
        "colab": {}
      },
      "source": [
        "# drop diagnosis column\n",
        "train_df.drop(labels='diagnosis', axis=1, inplace=True)"
      ],
      "execution_count": 0,
      "outputs": []
    },
    {
      "cell_type": "code",
      "metadata": {
        "id": "GMyhdu3eUdPL",
        "colab_type": "code",
        "outputId": "9d58ef05-f6f5-4f94-cb11-691040963fcc",
        "colab": {
          "base_uri": "https://localhost:8080/",
          "height": 204
        }
      },
      "source": [
        "train_df.head()"
      ],
      "execution_count": 95,
      "outputs": [
        {
          "output_type": "execute_result",
          "data": {
            "text/html": [
              "<div>\n",
              "<style scoped>\n",
              "    .dataframe tbody tr th:only-of-type {\n",
              "        vertical-align: middle;\n",
              "    }\n",
              "\n",
              "    .dataframe tbody tr th {\n",
              "        vertical-align: top;\n",
              "    }\n",
              "\n",
              "    .dataframe thead th {\n",
              "        text-align: right;\n",
              "    }\n",
              "</style>\n",
              "<table border=\"1\" class=\"dataframe\">\n",
              "  <thead>\n",
              "    <tr style=\"text-align: right;\">\n",
              "      <th></th>\n",
              "      <th>id_code</th>\n",
              "      <th>target</th>\n",
              "    </tr>\n",
              "  </thead>\n",
              "  <tbody>\n",
              "    <tr>\n",
              "      <th>0</th>\n",
              "      <td>000c1434d8d7</td>\n",
              "      <td>Moderate</td>\n",
              "    </tr>\n",
              "    <tr>\n",
              "      <th>1</th>\n",
              "      <td>001639a390f0</td>\n",
              "      <td>Proliferative DR</td>\n",
              "    </tr>\n",
              "    <tr>\n",
              "      <th>2</th>\n",
              "      <td>0024cdab0c1e</td>\n",
              "      <td>Mild</td>\n",
              "    </tr>\n",
              "    <tr>\n",
              "      <th>3</th>\n",
              "      <td>002c21358ce6</td>\n",
              "      <td>No DR</td>\n",
              "    </tr>\n",
              "    <tr>\n",
              "      <th>4</th>\n",
              "      <td>005b95c28852</td>\n",
              "      <td>No DR</td>\n",
              "    </tr>\n",
              "  </tbody>\n",
              "</table>\n",
              "</div>"
            ],
            "text/plain": [
              "        id_code            target\n",
              "0  000c1434d8d7          Moderate\n",
              "1  001639a390f0  Proliferative DR\n",
              "2  0024cdab0c1e              Mild\n",
              "3  002c21358ce6             No DR\n",
              "4  005b95c28852             No DR"
            ]
          },
          "metadata": {
            "tags": []
          },
          "execution_count": 95
        }
      ]
    },
    {
      "cell_type": "code",
      "metadata": {
        "id": "7fmJQtTfUwWH",
        "colab_type": "code",
        "outputId": "8feb601a-857f-4aaf-9265-4480a62d5fb9",
        "colab": {
          "base_uri": "https://localhost:8080/",
          "height": 102
        }
      },
      "source": [
        "os.listdir()"
      ],
      "execution_count": 96,
      "outputs": [
        {
          "output_type": "execute_result",
          "data": {
            "text/plain": [
              "['train.csv',\n",
              " 'test.csv',\n",
              " 'sample_submission.csv',\n",
              " 'images_train',\n",
              " 'images_test']"
            ]
          },
          "metadata": {
            "tags": []
          },
          "execution_count": 96
        }
      ]
    },
    {
      "cell_type": "code",
      "metadata": {
        "id": "NhH1tIToUewM",
        "colab_type": "code",
        "outputId": "1cddb3c7-33df-4be3-fc76-8a07247539b5",
        "colab": {
          "base_uri": "https://localhost:8080/",
          "height": 34
        }
      },
      "source": [
        "train_images_path = path/'images_train'\n",
        "train_images_path"
      ],
      "execution_count": 99,
      "outputs": [
        {
          "output_type": "execute_result",
          "data": {
            "text/plain": [
              "PosixPath('/content/gdrive/My Drive/projects/blindness_detection/images_train')"
            ]
          },
          "metadata": {
            "tags": []
          },
          "execution_count": 99
        }
      ]
    },
    {
      "cell_type": "code",
      "metadata": {
        "id": "_5Iney0yUj-M",
        "colab_type": "code",
        "colab": {}
      },
      "source": [
        "# import deep learning libraries\n",
        "import torch\n",
        "import fastai\n",
        "from fastai import *\n",
        "from fastai.vision import *\n",
        "\n",
        "# create ImageList from train_df\n",
        "data = (ImageDataBunch.from_df(path=path/'images_train',\n",
        "                              df=train_df,\n",
        "                              suffix='.png',\n",
        "                              size=64,\n",
        "                              bs=32)\n",
        "       )"
      ],
      "execution_count": 0,
      "outputs": []
    },
    {
      "cell_type": "code",
      "metadata": {
        "id": "8aTYLBg4Wnl-",
        "colab_type": "code",
        "colab": {
          "base_uri": "https://localhost:8080/",
          "height": 893
        },
        "outputId": "cae3975f-f129-4ef2-9f34-85ac71791e04"
      },
      "source": [
        "data.show_batch(rows=3)"
      ],
      "execution_count": 114,
      "outputs": [
        {
          "output_type": "display_data",
          "data": {
            "image/png": "[encoded data removed]",
            "text/plain": [
              "<Figure size 864x864 with 9 Axes>"
            ]
          },
          "metadata": {
            "tags": [],
            "image/png": {
              "width": 840,
              "height": 856
            }
          }
        }
      ]
    },
    {
      "cell_type": "code",
      "metadata": {
        "id": "WnzTQKGDZy2j",
        "colab_type": "code",
        "colab": {
          "base_uri": "https://localhost:8080/",
          "height": 119
        },
        "outputId": "7ebf5d57-2419-4017-be99-07efd488f108"
      },
      "source": [
        "os.listdir()"
      ],
      "execution_count": 115,
      "outputs": [
        {
          "output_type": "execute_result",
          "data": {
            "text/plain": [
              "['train.csv',\n",
              " 'test.csv',\n",
              " 'sample_submission.csv',\n",
              " 'images_train',\n",
              " 'images_test',\n",
              " 'models']"
            ]
          },
          "metadata": {
            "tags": []
          },
          "execution_count": 115
        }
      ]
    },
    {
      "cell_type": "code",
      "metadata": {
        "id": "NyReqcZGZ0gB",
        "colab_type": "code",
        "colab": {
          "base_uri": "https://localhost:8080/",
          "height": 306
        },
        "outputId": "5cdf2632-1dd3-4195-8787-e935de1cb1b2"
      },
      "source": [
        "data.normalize(imagenet_stats)"
      ],
      "execution_count": 116,
      "outputs": [
        {
          "output_type": "execute_result",
          "data": {
            "text/plain": [
              "ImageDataBunch;\n",
              "\n",
              "Train: LabelList (2930 items)\n",
              "x: ImageList\n",
              "Image (3, 64, 64),Image (3, 64, 64),Image (3, 64, 64),Image (3, 64, 64),Image (3, 64, 64)\n",
              "y: CategoryList\n",
              "Moderate,Mild,No DR,No DR,Proliferative DR\n",
              "Path: /content/gdrive/My Drive/projects/blindness_detection/images_train;\n",
              "\n",
              "Valid: LabelList (732 items)\n",
              "x: ImageList\n",
              "Image (3, 64, 64),Image (3, 64, 64),Image (3, 64, 64),Image (3, 64, 64),Image (3, 64, 64)\n",
              "y: CategoryList\n",
              "No DR,Moderate,Mild,No DR,Moderate\n",
              "Path: /content/gdrive/My Drive/projects/blindness_detection/images_train;\n",
              "\n",
              "Test: None"
            ]
          },
          "metadata": {
            "tags": []
          },
          "execution_count": 116
        }
      ]
    },
    {
      "cell_type": "code",
      "metadata": {
        "id": "DvnxKup6Z5_u",
        "colab_type": "code",
        "colab": {}
      },
      "source": [
        "# add test set\n",
        "data.add_test(ImageList.from_df(test_df, path = path/'images_test', suffix='.png'))"
      ],
      "execution_count": 0,
      "outputs": []
    },
    {
      "cell_type": "code",
      "metadata": {
        "id": "A3-WBz9JaT9d",
        "colab_type": "code",
        "colab": {
          "base_uri": "https://localhost:8080/",
          "height": 391
        },
        "outputId": "c8c90c4a-512a-4a68-b5aa-75e67d92698c"
      },
      "source": [
        "data"
      ],
      "execution_count": 118,
      "outputs": [
        {
          "output_type": "execute_result",
          "data": {
            "text/plain": [
              "ImageDataBunch;\n",
              "\n",
              "Train: LabelList (2930 items)\n",
              "x: ImageList\n",
              "Image (3, 64, 64),Image (3, 64, 64),Image (3, 64, 64),Image (3, 64, 64),Image (3, 64, 64)\n",
              "y: CategoryList\n",
              "Moderate,Mild,No DR,No DR,Proliferative DR\n",
              "Path: /content/gdrive/My Drive/projects/blindness_detection/images_train;\n",
              "\n",
              "Valid: LabelList (732 items)\n",
              "x: ImageList\n",
              "Image (3, 64, 64),Image (3, 64, 64),Image (3, 64, 64),Image (3, 64, 64),Image (3, 64, 64)\n",
              "y: CategoryList\n",
              "No DR,Moderate,Mild,No DR,Moderate\n",
              "Path: /content/gdrive/My Drive/projects/blindness_detection/images_train;\n",
              "\n",
              "Test: LabelList (1928 items)\n",
              "x: ImageList\n",
              "Image (3, 64, 64),Image (3, 64, 64),Image (3, 64, 64),Image (3, 64, 64),Image (3, 64, 64)\n",
              "y: EmptyLabelList\n",
              ",,,,\n",
              "Path: /content/gdrive/My Drive/projects/blindness_detection/images_train"
            ]
          },
          "metadata": {
            "tags": []
          },
          "execution_count": 118
        }
      ]
    },
    {
      "cell_type": "markdown",
      "metadata": {
        "id": "lmMHCjtSa1SU",
        "colab_type": "text"
      },
      "source": [
        "# Create Learner and Model Training"
      ]
    },
    {
      "cell_type": "code",
      "metadata": {
        "id": "5wfVIsA3bMQF",
        "colab_type": "code",
        "colab": {
          "base_uri": "https://localhost:8080/",
          "height": 34
        },
        "outputId": "8db06cd3-6aca-460c-994b-0b998052bc29"
      },
      "source": [
        "path"
      ],
      "execution_count": 119,
      "outputs": [
        {
          "output_type": "execute_result",
          "data": {
            "text/plain": [
              "PosixPath('/content/gdrive/My Drive/projects/blindness_detection')"
            ]
          },
          "metadata": {
            "tags": []
          },
          "execution_count": 119
        }
      ]
    },
    {
      "cell_type": "code",
      "metadata": {
        "id": "_p0G0oecaZCf",
        "colab_type": "code",
        "colab": {}
      },
      "source": [
        "learn = cnn_learner(data, models.resnet50,\n",
        "                    metrics=[error_rate, Recall(), Precision()],\n",
        "                    pretrained=True,\n",
        "                    bn_final=True,\n",
        "                    path=path/'models'\n",
        "                   )"
      ],
      "execution_count": 0,
      "outputs": []
    },
    {
      "cell_type": "code",
      "metadata": {
        "id": "JnWTn-uhbQZK",
        "colab_type": "code",
        "colab": {
          "base_uri": "https://localhost:8080/",
          "height": 34
        },
        "outputId": "869e357a-206d-4e77-f542-8d529464a767"
      },
      "source": [
        "learn.loss_func"
      ],
      "execution_count": 128,
      "outputs": [
        {
          "output_type": "execute_result",
          "data": {
            "text/plain": [
              "FlattenedLoss of CrossEntropyLoss()"
            ]
          },
          "metadata": {
            "tags": []
          },
          "execution_count": 128
        }
      ]
    },
    {
      "cell_type": "code",
      "metadata": {
        "id": "x112K4AfbTLZ",
        "colab_type": "code",
        "colab": {
          "base_uri": "https://localhost:8080/",
          "height": 34
        },
        "outputId": "15464c71-6ae3-4a35-e19a-1cf0ffc1290c"
      },
      "source": [
        "learn.lr_find()"
      ],
      "execution_count": 129,
      "outputs": [
        {
          "output_type": "display_data",
          "data": {
            "text/html": [
              ""
            ],
            "text/plain": [
              "<IPython.core.display.HTML object>"
            ]
          },
          "metadata": {
            "tags": []
          }
        },
        {
          "output_type": "stream",
          "text": [
            "LR Finder is complete, type {learner_name}.recorder.plot() to see the graph.\n"
          ],
          "name": "stdout"
        }
      ]
    },
    {
      "cell_type": "code",
      "metadata": {
        "id": "fl2EkgwXbg-e",
        "colab_type": "code",
        "colab": {
          "base_uri": "https://localhost:8080/",
          "height": 317
        },
        "outputId": "dab9bbf1-36ac-46b3-d351-2b1258aec3e4"
      },
      "source": [
        "learn.recorder.plot(suggestion=True)"
      ],
      "execution_count": 130,
      "outputs": [
        {
          "output_type": "stream",
          "text": [
            "Min numerical gradient: 2.75E-04\n",
            "Min loss divided by 10: 1.58E-01\n"
          ],
          "name": "stdout"
        },
        {
          "output_type": "display_data",
          "data": {
            "image/png": "[encoded data removed]",
            "text/plain": [
              "<Figure size 432x288 with 1 Axes>"
            ]
          },
          "metadata": {
            "tags": [],
            "image/png": {
              "width": 389,
              "height": 266
            }
          }
        }
      ]
    },
    {
      "cell_type": "code",
      "metadata": {
        "id": "WMPGTTIDdOBI",
        "colab_type": "code",
        "colab": {
          "base_uri": "https://localhost:8080/",
          "height": 34
        },
        "outputId": "47d0a491-87a8-40f0-b8a1-69d2c3267c72"
      },
      "source": [
        "# set learning rate\n",
        "lr = learn.recorder.min_grad_lr\n",
        "lr"
      ],
      "execution_count": 131,
      "outputs": [
        {
          "output_type": "execute_result",
          "data": {
            "text/plain": [
              "0.0002754228703338166"
            ]
          },
          "metadata": {
            "tags": []
          },
          "execution_count": 131
        }
      ]
    },
    {
      "cell_type": "code",
      "metadata": {
        "id": "EkgPF7h5dUQg",
        "colab_type": "code",
        "colab": {
          "base_uri": "https://localhost:8080/",
          "height": 326
        },
        "outputId": "55a4a50f-ef31-41ad-db7b-bcdbc25eadc1"
      },
      "source": [
        "from fastai.callbacks import SaveModelCallback\n",
        "\n",
        "learn.fit_one_cycle(5, lr,\n",
        "                   callbacks=[SaveModelCallback(learn, every='improvement', monitor='recall', \n",
        "                                               name='trial1-rd1')])"
      ],
      "execution_count": 132,
      "outputs": [
        {
          "output_type": "display_data",
          "data": {
            "text/html": [
              "<table border=\"1\" class=\"dataframe\">\n",
              "  <thead>\n",
              "    <tr style=\"text-align: left;\">\n",
              "      <th>epoch</th>\n",
              "      <th>train_loss</th>\n",
              "      <th>valid_loss</th>\n",
              "      <th>error_rate</th>\n",
              "      <th>recall</th>\n",
              "      <th>precision</th>\n",
              "      <th>time</th>\n",
              "    </tr>\n",
              "  </thead>\n",
              "  <tbody>\n",
              "    <tr>\n",
              "      <td>0</td>\n",
              "      <td>1.414288</td>\n",
              "      <td>1.118508</td>\n",
              "      <td>0.433060</td>\n",
              "      <td>0.404940</td>\n",
              "      <td>0.393627</td>\n",
              "      <td>07:25</td>\n",
              "    </tr>\n",
              "    <tr>\n",
              "      <td>1</td>\n",
              "      <td>1.126208</td>\n",
              "      <td>0.978650</td>\n",
              "      <td>0.348361</td>\n",
              "      <td>0.490582</td>\n",
              "      <td>0.471696</td>\n",
              "      <td>07:27</td>\n",
              "    </tr>\n",
              "    <tr>\n",
              "      <td>2</td>\n",
              "      <td>1.013420</td>\n",
              "      <td>0.945680</td>\n",
              "      <td>0.319672</td>\n",
              "      <td>0.520248</td>\n",
              "      <td>0.497910</td>\n",
              "      <td>07:27</td>\n",
              "    </tr>\n",
              "    <tr>\n",
              "      <td>3</td>\n",
              "      <td>0.945216</td>\n",
              "      <td>0.968091</td>\n",
              "      <td>0.308743</td>\n",
              "      <td>0.537234</td>\n",
              "      <td>0.510247</td>\n",
              "      <td>07:24</td>\n",
              "    </tr>\n",
              "    <tr>\n",
              "      <td>4</td>\n",
              "      <td>0.915838</td>\n",
              "      <td>1.001469</td>\n",
              "      <td>0.334699</td>\n",
              "      <td>0.496979</td>\n",
              "      <td>0.471369</td>\n",
              "      <td>07:23</td>\n",
              "    </tr>\n",
              "  </tbody>\n",
              "</table>"
            ],
            "text/plain": [
              "<IPython.core.display.HTML object>"
            ]
          },
          "metadata": {
            "tags": []
          }
        },
        {
          "output_type": "stream",
          "text": [
            "/usr/local/lib/python3.6/dist-packages/fastai/metrics.py:189: UserWarning: average=`binary` was selected for a non binary case. Value for average has now been set to `macro` instead.\n",
            "  warn(\"average=`binary` was selected for a non binary case. Value for average has now been set to `macro` instead.\")\n"
          ],
          "name": "stderr"
        },
        {
          "output_type": "stream",
          "text": [
            "Better model found at epoch 0 with recall value: 0.40494033694267273.\n",
            "Better model found at epoch 1 with recall value: 0.4905817210674286.\n",
            "Better model found at epoch 2 with recall value: 0.5202482342720032.\n",
            "Better model found at epoch 3 with recall value: 0.5372337102890015.\n"
          ],
          "name": "stdout"
        }
      ]
    },
    {
      "cell_type": "code",
      "metadata": {
        "id": "wSQBs3VAdwSY",
        "colab_type": "code",
        "colab": {}
      },
      "source": [
        ""
      ],
      "execution_count": 0,
      "outputs": []
    }
  ]
}