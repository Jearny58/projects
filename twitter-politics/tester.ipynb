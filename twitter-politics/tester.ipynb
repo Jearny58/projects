{
 "cells": [
  {
   "cell_type": "markdown",
   "metadata": {},
   "source": [
    "# _Test Notebook_\n",
    "\n",
    "This notebook is going to serve as a playground of sorts in order to build something that will connect to the Twitter API, stream X number of tweets, and then sleep for X minutes before streaming again. Additionally this will be done for a predefined time period. \n",
    "\n",
    "Alexander Galea's [blog](https://galeascience.wordpress.com/2016/03/18/collecting-twitter-data-with-python/) was instrumental in getting this going. A lot of the work below is adapted directly from his GitHub."
   ]
  },
  {
   "cell_type": "code",
   "execution_count": 43,
   "metadata": {},
   "outputs": [
    {
     "name": "stdout",
     "output_type": "stream",
     "text": [
      "Our current working directory is '/Users/jai/Documents/projects/twitter-politics'.\n",
      "/Users/jai/Documents/projects/twitter-politics\n"
     ]
    }
   ],
   "source": [
    "import os\n",
    "\n",
    "# what is our current working directory?\n",
    "print(\"Our current working directory is '{}'.\".format(os.getcwd()))\n",
    "\n",
    "# import Path to make working with directory even more manageable\n",
    "from pathlib import Path\n",
    "\n",
    "# store our main directory path in a variable in case we need to access/download information in that locaton directly\n",
    "PATH = Path(os.getcwd())\n",
    "print(PATH)"
   ]
  },
  {
   "cell_type": "code",
   "execution_count": 99,
   "metadata": {},
   "outputs": [],
   "source": [
    "# import personal tools\n",
    "from joetools import private\n",
    "from textblob import TextBlob\n",
    "import sqlite3\n",
    "import dataset\n",
    "import tweepy\n",
    "import time"
   ]
  },
  {
   "cell_type": "code",
   "execution_count": 107,
   "metadata": {},
   "outputs": [
    {
     "name": "stdout",
     "output_type": "stream",
     "text": [
      "API Set-up!\n",
      "Database connected; defining MyStreamListener\n"
     ]
    }
   ],
   "source": [
    "# setup tweepy to authenticate with Twitter with the following code\n",
    "auth = tweepy.OAuthHandler(private.TWITTER_APP_KEY, private.TWITTER_APP_SECRET)\n",
    "auth.set_access_token(private.TWITTER_KEY, private.TWITTER_SECRET)\n",
    "# create an API object to pull data from Twitter, pass in the authentication from above\n",
    "api = tweepy.API(auth, wait_on_rate_limit=True, wait_on_rate_limit_notify=True)\n",
    "print('API Set-up!')\n",
    "\n",
    "# connect to database\n",
    "db = dataset.connect(private.CONNECTION_STRING)\n",
    "print('Database connected; defining MyStreamListener')"
   ]
  },
  {
   "cell_type": "code",
   "execution_count": 103,
   "metadata": {},
   "outputs": [],
   "source": [
    "collection = {}"
   ]
  },
  {
   "cell_type": "code",
   "execution_count": 112,
   "metadata": {},
   "outputs": [],
   "source": [
    "#override tweepy.StreamListener to add logic to on_status\n",
    "class MyStreamListener(tweepy.StreamListener):\n",
    "    def __init__(self, api=None):\n",
    "        super(MyStreamListener, self).__init__()\n",
    "        self.num_tweets = 0\n",
    "\n",
    "    def on_status(self, status):\n",
    "        # we don't want retweets\n",
    "        if status.retweeted:\n",
    "            return\n",
    "        \n",
    "        description = status.user.description\n",
    "        loc = status.user.location\n",
    "        text = status.text\n",
    "        coords = status.coordinates\n",
    "        geo = status.geo\n",
    "        name = status.user.screen_name\n",
    "        user_created = status.user.created_at\n",
    "        followers = status.user.followers_count\n",
    "        id_str = status.id_str\n",
    "        created = status.created_at\n",
    "        retweets = status.retweet_count\n",
    "        bg_color = status.user.profile_background_color\n",
    "        blob = TextBlob(text)\n",
    "        sent = blob.sentiment\n",
    "\n",
    "        if geo is not None:\n",
    "            geo = json.dumps(geo)\n",
    "\n",
    "        if coords is not None:\n",
    "            coords = json.dumps(coords)\n",
    "\n",
    "        table = db[private.TABLE_NAME]\n",
    "        self.num_tweets += 1\n",
    "        if self.num_tweets < 20:\n",
    "            try:\n",
    "                table.insert(dict(\n",
    "                    user_description=description,\n",
    "                    user_location=loc,\n",
    "                    coordinates=coords,\n",
    "                    text=text,\n",
    "                    geo=geo,\n",
    "                    user_name=name,\n",
    "                    user_created=user_created,\n",
    "                    user_followers=followers,\n",
    "                    id_str=id_str,\n",
    "                    created=created,\n",
    "                    retweet_count=retweets,\n",
    "                    user_bg_color=bg_color,\n",
    "                    polarity=sent.polarity,\n",
    "                    subjectivity=sent.subjectivity\n",
    "                ))\n",
    "                return True\n",
    "            except ProgrammingError as err:\n",
    "                print(err)\n",
    "        else:\n",
    "                return False\n",
    "\n",
    "    def on_error(self, status_code):\n",
    "        if status_code == 420:\n",
    "            #returning False in on_data disconnects the stream\n",
    "            return False"
   ]
  },
  {
   "cell_type": "code",
   "execution_count": 113,
   "metadata": {},
   "outputs": [],
   "source": [
    "stream_listener = MyStreamListener()\n",
    "stream = tweepy.Stream(auth=api.auth, listener=stream_listener)\n",
    "stream.filter(track=private.TRACK_TERMS)"
   ]
  },
  {
   "cell_type": "code",
   "execution_count": 114,
   "metadata": {},
   "outputs": [],
   "source": [
    "from joetools import private\n",
    "import datafreeze\n",
    "from datafreeze import freeze\n",
    "import tweepy\n",
    "import dataset\n",
    "from textblob import TextBlob\n",
    "\n",
    "db = dataset.connect(private.CONNECTION_STRING)\n",
    "\n",
    "result = db[private.TABLE_NAME].all()\n",
    "freeze(result, format='csv', filename=private.CSV_NAME)"
   ]
  },
  {
   "cell_type": "code",
   "execution_count": null,
   "metadata": {},
   "outputs": [],
   "source": []
  },
  {
   "cell_type": "code",
   "execution_count": null,
   "metadata": {},
   "outputs": [],
   "source": []
  },
  {
   "cell_type": "code",
   "execution_count": null,
   "metadata": {},
   "outputs": [],
   "source": []
  },
  {
   "cell_type": "code",
   "execution_count": null,
   "metadata": {},
   "outputs": [],
   "source": []
  },
  {
   "cell_type": "code",
   "execution_count": null,
   "metadata": {},
   "outputs": [],
   "source": []
  },
  {
   "cell_type": "code",
   "execution_count": null,
   "metadata": {},
   "outputs": [],
   "source": []
  },
  {
   "cell_type": "code",
   "execution_count": null,
   "metadata": {},
   "outputs": [],
   "source": []
  },
  {
   "cell_type": "code",
   "execution_count": null,
   "metadata": {},
   "outputs": [],
   "source": []
  },
  {
   "cell_type": "code",
   "execution_count": null,
   "metadata": {},
   "outputs": [],
   "source": []
  },
  {
   "cell_type": "code",
   "execution_count": null,
   "metadata": {},
   "outputs": [],
   "source": []
  },
  {
   "cell_type": "code",
   "execution_count": null,
   "metadata": {},
   "outputs": [],
   "source": []
  },
  {
   "cell_type": "code",
   "execution_count": null,
   "metadata": {},
   "outputs": [],
   "source": []
  },
  {
   "cell_type": "code",
   "execution_count": null,
   "metadata": {},
   "outputs": [],
   "source": []
  },
  {
   "cell_type": "code",
   "execution_count": 92,
   "metadata": {},
   "outputs": [],
   "source": [
    "import sqlite3\n",
    "\n",
    "conn = sqlite3.connect('tweets.db')"
   ]
  },
  {
   "cell_type": "code",
   "execution_count": 93,
   "metadata": {},
   "outputs": [],
   "source": [
    "c = conn.cursor()\n",
    "c.execute('''CREATE TABLE tweets\n",
    "    (tweetText text,\n",
    "    user text,\n",
    "    followers integer,\n",
    "    date text,\n",
    "    location text)''')\n",
    "conn.commit()\n",
    "conn.close()"
   ]
  },
  {
   "cell_type": "code",
   "execution_count": 94,
   "metadata": {},
   "outputs": [
    {
     "name": "stdout",
     "output_type": "stream",
     "text": [
      "printed immediately\n",
      "Printed after 15 seconds\n"
     ]
    }
   ],
   "source": [
    "import time \n",
    "\n",
    "print(\"printed immediately\")\n",
    "time.sleep(15)\n",
    "print('Printed after 15 seconds')"
   ]
  },
  {
   "cell_type": "code",
   "execution_count": 97,
   "metadata": {},
   "outputs": [],
   "source": [
    "while time.sleep(5) is True:\n",
    "    print('True')\n",
    "    break"
   ]
  },
  {
   "cell_type": "code",
   "execution_count": null,
   "metadata": {},
   "outputs": [],
   "source": []
  },
  {
   "cell_type": "code",
   "execution_count": null,
   "metadata": {},
   "outputs": [],
   "source": []
  },
  {
   "cell_type": "code",
   "execution_count": null,
   "metadata": {},
   "outputs": [],
   "source": [
    "# function that does API set-up\n",
    "def load_api():\n",
    "    '''Loads Twitter API and authorizes user'''\n",
    "    consumer_key = secrets.TWITTER_API_KEY\n",
    "    consumer_secret = secrets.TWITTER_API_SECRET\n",
    "    access_token = secrets.TWITTER_TOKEN\n",
    "    access_secret = secrets.TWITTER_TOKEN_SECRET\n",
    "    auth "
   ]
  },
  {
   "cell_type": "code",
   "execution_count": 84,
   "metadata": {},
   "outputs": [],
   "source": [
    "search_phrases = [\"trump\",  \"pelosi\", \"impeachment\"]"
   ]
  },
  {
   "cell_type": "code",
   "execution_count": null,
   "metadata": {},
   "outputs": [],
   "source": [
    "def directory_setup():\n",
    "    '''function that updates directory to one we want to download data to'''\n",
    "    # print out the current working directory\n",
    "    print('Current working directory: {}'.format(os.getcwd()))\n",
    "    print('')\n",
    "    print('Is this the directory you want to use? Enter either YES or NO.')\n",
    "    user_input1 = input().lower()\n",
    "    while user_input1 not in ['yes', 'no']:\n",
    "        print(\"Invalid response, please try again (Please choose YES or NO)\")\n",
    "        user_input1 = input(\"Choose you answer: \")"
   ]
  },
  {
   "cell_type": "code",
   "execution_count": null,
   "metadata": {},
   "outputs": [],
   "source": [
    "directory_setup()"
   ]
  },
  {
   "cell_type": "code",
   "execution_count": null,
   "metadata": {},
   "outputs": [],
   "source": []
  },
  {
   "cell_type": "code",
   "execution_count": null,
   "metadata": {},
   "outputs": [],
   "source": []
  },
  {
   "cell_type": "code",
   "execution_count": 85,
   "metadata": {},
   "outputs": [
    {
     "name": "stdout",
     "output_type": "stream",
     "text": [
      "['trump']\n",
      "['pelosi']\n",
      "['impeachment']\n"
     ]
    }
   ],
   "source": [
    "for search_phrase in search_phrases:\n",
    "    #print('Search phrase =', search_phrase)\n",
    "    ''' other variables '''\n",
    "    name = search_phrase.split()\n",
    "    print(name)"
   ]
  },
  {
   "cell_type": "code",
   "execution_count": 46,
   "metadata": {},
   "outputs": [
    {
     "data": {
      "text/plain": [
       "True"
      ]
     },
     "execution_count": 46,
     "metadata": {},
     "output_type": "execute_result"
    }
   ],
   "source": [
    "PATH.exists()"
   ]
  },
  {
   "cell_type": "code",
   "execution_count": 47,
   "metadata": {},
   "outputs": [
    {
     "data": {
      "text/plain": [
       "True"
      ]
     },
     "execution_count": 47,
     "metadata": {},
     "output_type": "execute_result"
    }
   ],
   "source": [
    "PATH.is_dir()"
   ]
  },
  {
   "cell_type": "code",
   "execution_count": 49,
   "metadata": {},
   "outputs": [
    {
     "data": {
      "text/plain": [
       "PosixPath('/Users/jai')"
      ]
     },
     "execution_count": 49,
     "metadata": {},
     "output_type": "execute_result"
    }
   ],
   "source": [
    "PATH.home()"
   ]
  },
  {
   "cell_type": "code",
   "execution_count": 50,
   "metadata": {},
   "outputs": [
    {
     "data": {
      "text/plain": [
       "PosixPath('/Users/jai/Documents/projects/twitter-politics')"
      ]
     },
     "execution_count": 50,
     "metadata": {},
     "output_type": "execute_result"
    }
   ],
   "source": [
    "PATH.cwd()"
   ]
  },
  {
   "cell_type": "code",
   "execution_count": 48,
   "metadata": {},
   "outputs": [
    {
     "data": {
      "text/plain": [
       "[PosixPath('/Users/jai/Documents/projects/twitter-politics/joetools'),\n",
       " PosixPath('/Users/jai/Documents/projects/twitter-politics/.ipynb_checkpoints'),\n",
       " PosixPath('/Users/jai/Documents/projects/twitter-politics/data')]"
      ]
     },
     "execution_count": 48,
     "metadata": {},
     "output_type": "execute_result"
    }
   ],
   "source": [
    "[x for x in PATH.iterdir() if x.is_dir()]"
   ]
  },
  {
   "cell_type": "code",
   "execution_count": 87,
   "metadata": {},
   "outputs": [
    {
     "ename": "TypeError",
     "evalue": "an integer is required (got type str)",
     "output_type": "error",
     "traceback": [
      "\u001b[0;31m---------------------------------------------------------------------------\u001b[0m",
      "\u001b[0;31mTypeError\u001b[0m                                 Traceback (most recent call last)",
      "\u001b[0;32m<ipython-input-87-8c1502147f32>\u001b[0m in \u001b[0;36m<module>\u001b[0;34m\u001b[0m\n\u001b[1;32m      8\u001b[0m         \u001b[0mjson_file_root\u001b[0m \u001b[0;34m=\u001b[0m \u001b[0mstr\u001b[0m\u001b[0;34m(\u001b[0m\u001b[0mname\u001b[0m\u001b[0;34m[\u001b[0m\u001b[0;36m0\u001b[0m\u001b[0;34m]\u001b[0m\u001b[0;34m)\u001b[0m\u001b[0;34m\u001b[0m\u001b[0;34m\u001b[0m\u001b[0m\n\u001b[1;32m      9\u001b[0m \u001b[0;34m\u001b[0m\u001b[0m\n\u001b[0;32m---> 10\u001b[0;31m     \u001b[0mPATH\u001b[0m\u001b[0;34m.\u001b[0m\u001b[0mmkdir\u001b[0m\u001b[0;34m(\u001b[0m\u001b[0mjson_file_root\u001b[0m\u001b[0;34m,\u001b[0m \u001b[0mexist_ok\u001b[0m\u001b[0;34m=\u001b[0m\u001b[0;32mTrue\u001b[0m\u001b[0;34m)\u001b[0m\u001b[0;34m\u001b[0m\u001b[0;34m\u001b[0m\u001b[0m\n\u001b[0m",
      "\u001b[0;32m~/anaconda3/envs/twitter/lib/python3.7/pathlib.py\u001b[0m in \u001b[0;36mmkdir\u001b[0;34m(self, mode, parents, exist_ok)\u001b[0m\n\u001b[1;32m   1249\u001b[0m             \u001b[0mself\u001b[0m\u001b[0;34m.\u001b[0m\u001b[0m_raise_closed\u001b[0m\u001b[0;34m(\u001b[0m\u001b[0;34m)\u001b[0m\u001b[0;34m\u001b[0m\u001b[0;34m\u001b[0m\u001b[0m\n\u001b[1;32m   1250\u001b[0m         \u001b[0;32mtry\u001b[0m\u001b[0;34m:\u001b[0m\u001b[0;34m\u001b[0m\u001b[0;34m\u001b[0m\u001b[0m\n\u001b[0;32m-> 1251\u001b[0;31m             \u001b[0mself\u001b[0m\u001b[0;34m.\u001b[0m\u001b[0m_accessor\u001b[0m\u001b[0;34m.\u001b[0m\u001b[0mmkdir\u001b[0m\u001b[0;34m(\u001b[0m\u001b[0mself\u001b[0m\u001b[0;34m,\u001b[0m \u001b[0mmode\u001b[0m\u001b[0;34m)\u001b[0m\u001b[0;34m\u001b[0m\u001b[0;34m\u001b[0m\u001b[0m\n\u001b[0m\u001b[1;32m   1252\u001b[0m         \u001b[0;32mexcept\u001b[0m \u001b[0mFileNotFoundError\u001b[0m\u001b[0;34m:\u001b[0m\u001b[0;34m\u001b[0m\u001b[0;34m\u001b[0m\u001b[0m\n\u001b[1;32m   1253\u001b[0m             \u001b[0;32mif\u001b[0m \u001b[0;32mnot\u001b[0m \u001b[0mparents\u001b[0m \u001b[0;32mor\u001b[0m \u001b[0mself\u001b[0m\u001b[0;34m.\u001b[0m\u001b[0mparent\u001b[0m \u001b[0;34m==\u001b[0m \u001b[0mself\u001b[0m\u001b[0;34m:\u001b[0m\u001b[0;34m\u001b[0m\u001b[0;34m\u001b[0m\u001b[0m\n",
      "\u001b[0;31mTypeError\u001b[0m: an integer is required (got type str)"
     ]
    }
   ],
   "source": [
    "for search_phrase in search_phrases:\n",
    "    #print('Search phrase =', search_phrase)\n",
    "    ''' other variables '''\n",
    "    name = search_phrase.split()\n",
    "    if len(name) > 1:\n",
    "        json_file_root = name[0] + '_' + name[1]\n",
    "    else:\n",
    "        json_file_root = str(name[0])\n",
    "    \n",
    "    PATH.mkdir(json_file_root, exist_ok=True)"
   ]
  },
  {
   "cell_type": "code",
   "execution_count": null,
   "metadata": {},
   "outputs": [],
   "source": []
  }
 ],
 "metadata": {
  "kernelspec": {
   "display_name": "Python 3",
   "language": "python",
   "name": "python3"
  },
  "language_info": {
   "codemirror_mode": {
    "name": "ipython",
    "version": 3
   },
   "file_extension": ".py",
   "mimetype": "text/x-python",
   "name": "python",
   "nbconvert_exporter": "python",
   "pygments_lexer": "ipython3",
   "version": "3.7.3"
  }
 },
 "nbformat": 4,
 "nbformat_minor": 4
}
