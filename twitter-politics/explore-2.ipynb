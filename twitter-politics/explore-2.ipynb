{
 "cells": [
  {
   "cell_type": "markdown",
   "metadata": {},
   "source": [
    "# _Exploring The Tweeterverse: Analyzing @realDonaldTrump's tweets_\n",
    "\n",
    "In my first post, we got our Twitter API set up to be able to work with, and gather data from, Twitter. As a test run, I decided to pull @realDonaldTrump's most recent 3,199 tweets (as of Oct. 15th). We were able to gather such information as:\n",
    "\n",
    "- when the tweet was created\n",
    "- what 'tool' (i.e. iPhone, laptop, etc.) was used to send the tweet\n",
    "- the retweet and favorite counts\n",
    "- lastly, the actual text of the tweet\n",
    "\n",
    "I know the goal of this project is not to focus on Trump specifically, but instead to gauge how \"charged\" the current political environment is using tweets from political leaders on both sides of the aisle. However, after seeing Senthil's fascinating Medium [post](https://towardsdatascience.com/fun-with-analyzing-billgates-tweets-twitter-apis-step-by-step-analysis-11d9c0448110) that analyzed Bill Gates' tweets, I couldn't help but wonder what a similar analysis might look for the more temperamental Trump. As we learned from our previous work, we're going to have to generate a list of the column names we want to use as well as a dictionary that stores `id` as the key and `str` as the value to assure that the `id` column is read-in as a string/object type.\n",
    "\n",
    "After we do those two things we can read-in our csv and check out the first few rows!"
   ]
  },
  {
   "cell_type": "code",
   "execution_count": 1,
   "metadata": {},
   "outputs": [
    {
     "data": {
      "text/html": [
       "<div>\n",
       "<style scoped>\n",
       "    .dataframe tbody tr th:only-of-type {\n",
       "        vertical-align: middle;\n",
       "    }\n",
       "\n",
       "    .dataframe tbody tr th {\n",
       "        vertical-align: top;\n",
       "    }\n",
       "\n",
       "    .dataframe thead th {\n",
       "        text-align: right;\n",
       "    }\n",
       "</style>\n",
       "<table border=\"1\" class=\"dataframe\">\n",
       "  <thead>\n",
       "    <tr style=\"text-align: right;\">\n",
       "      <th></th>\n",
       "      <th>username</th>\n",
       "      <th>id</th>\n",
       "      <th>created_at</th>\n",
       "      <th>source</th>\n",
       "      <th>retweet_count</th>\n",
       "      <th>favorite_count</th>\n",
       "      <th>tweet</th>\n",
       "    </tr>\n",
       "  </thead>\n",
       "  <tbody>\n",
       "    <tr>\n",
       "      <th>0</th>\n",
       "      <td>realDonaldTrump</td>\n",
       "      <td>1183908206088728576</td>\n",
       "      <td>2019-10-15 00:51:26</td>\n",
       "      <td>Twitter for iPhone</td>\n",
       "      <td>3183</td>\n",
       "      <td>7994</td>\n",
       "      <td>b'\\xe2\\x80\\x9cProject Veritas-Obtained Underco...</td>\n",
       "    </tr>\n",
       "    <tr>\n",
       "      <th>1</th>\n",
       "      <td>realDonaldTrump</td>\n",
       "      <td>1183900672892309505</td>\n",
       "      <td>2019-10-15 00:21:30</td>\n",
       "      <td>Twitter for iPhone</td>\n",
       "      <td>8409</td>\n",
       "      <td>24211</td>\n",
       "      <td>b'A big scandal at @ABC News. They got caught ...</td>\n",
       "    </tr>\n",
       "    <tr>\n",
       "      <th>2</th>\n",
       "      <td>realDonaldTrump</td>\n",
       "      <td>1183899559124189184</td>\n",
       "      <td>2019-10-15 00:17:05</td>\n",
       "      <td>Twitter for iPhone</td>\n",
       "      <td>6571</td>\n",
       "      <td>21131</td>\n",
       "      <td>b'Shifty Schiff now seems to think they don\\xe...</td>\n",
       "    </tr>\n",
       "    <tr>\n",
       "      <th>3</th>\n",
       "      <td>realDonaldTrump</td>\n",
       "      <td>1183873633057476609</td>\n",
       "      <td>2019-10-14 22:34:04</td>\n",
       "      <td>Twitter Media Studio</td>\n",
       "      <td>11785</td>\n",
       "      <td>29106</td>\n",
       "      <td>b'\"The House gone rogue! I want to remind you ...</td>\n",
       "    </tr>\n",
       "    <tr>\n",
       "      <th>4</th>\n",
       "      <td>realDonaldTrump</td>\n",
       "      <td>1183869954640228352</td>\n",
       "      <td>2019-10-14 22:19:27</td>\n",
       "      <td>Twitter Media Studio</td>\n",
       "      <td>10572</td>\n",
       "      <td>27167</td>\n",
       "      <td>b'\"It doesn\\'t speak for the FULL HOUSE becaus...</td>\n",
       "    </tr>\n",
       "  </tbody>\n",
       "</table>\n",
       "</div>"
      ],
      "text/plain": [
       "          username                   id          created_at  \\\n",
       "0  realDonaldTrump  1183908206088728576 2019-10-15 00:51:26   \n",
       "1  realDonaldTrump  1183900672892309505 2019-10-15 00:21:30   \n",
       "2  realDonaldTrump  1183899559124189184 2019-10-15 00:17:05   \n",
       "3  realDonaldTrump  1183873633057476609 2019-10-14 22:34:04   \n",
       "4  realDonaldTrump  1183869954640228352 2019-10-14 22:19:27   \n",
       "\n",
       "                 source  retweet_count  favorite_count  \\\n",
       "0    Twitter for iPhone           3183            7994   \n",
       "1    Twitter for iPhone           8409           24211   \n",
       "2    Twitter for iPhone           6571           21131   \n",
       "3  Twitter Media Studio          11785           29106   \n",
       "4  Twitter Media Studio          10572           27167   \n",
       "\n",
       "                                               tweet  \n",
       "0  b'\\xe2\\x80\\x9cProject Veritas-Obtained Underco...  \n",
       "1  b'A big scandal at @ABC News. They got caught ...  \n",
       "2  b'Shifty Schiff now seems to think they don\\xe...  \n",
       "3  b'\"The House gone rogue! I want to remind you ...  \n",
       "4  b'\"It doesn\\'t speak for the FULL HOUSE becaus...  "
      ]
     },
     "execution_count": 1,
     "metadata": {},
     "output_type": "execute_result"
    }
   ],
   "source": [
    "# import pandas\n",
    "import pandas as pd\n",
    "# optional - changes the default setting so that all columns are output for a pandas Df\n",
    "pd.set_option('display.max_columns', None)\n",
    "\n",
    "# list containing the column names we want to assign the dataframe\n",
    "column_names = ['username', 'id', 'created_at', 'source', 'retweet_count', 'favorite_count', 'tweet']\n",
    "\n",
    "# create dictionary with column name as keys and data types as the values\n",
    "dtypes = {'id': str}\n",
    "\n",
    "# create pandas dataframe\n",
    "trump = pd.read_csv('data/realDonaldTrump_tweets.csv', names=column_names, dtype=dtypes, parse_dates=['created_at'], infer_datetime_format=True)\n",
    "\n",
    "# check out the first few rows\n",
    "trump.head()"
   ]
  },
  {
   "cell_type": "markdown",
   "metadata": {},
   "source": [
    "### _What is the range of dates?_\n",
    "\n",
    "The first column we'll take a look at is the `created_at` column. According to Twitter, the API technically returns a string-type object that has the UTC time of when the tweet was created. However, using the power of `pandas` we were able to read-in the `created_at` column as a `datetime` type. Additionally, with the co-parameter of `infer_datetime_format` set to `True`, `pandas` even went ahead and inferred the format for us as well! According to the documentation, this has a significant impact on speed, increasing 5-10x. ([Source](https://pandas.pydata.org/pandas-docs/stable/reference/api/pandas.read_csv.html))"
   ]
  },
  {
   "cell_type": "code",
   "execution_count": 2,
   "metadata": {},
   "outputs": [
    {
     "name": "stdout",
     "output_type": "stream",
     "text": [
      "<class 'pandas.core.frame.DataFrame'>\n",
      "RangeIndex: 3199 entries, 0 to 3198\n",
      "Data columns (total 7 columns):\n",
      "username          3199 non-null object\n",
      "id                3199 non-null object\n",
      "created_at        3199 non-null datetime64[ns]\n",
      "source            3199 non-null object\n",
      "retweet_count     3199 non-null int64\n",
      "favorite_count    3199 non-null int64\n",
      "tweet             3199 non-null object\n",
      "dtypes: datetime64[ns](1), int64(2), object(4)\n",
      "memory usage: 175.0+ KB\n"
     ]
    }
   ],
   "source": [
    "trump.info()"
   ]
  },
  {
   "cell_type": "code",
   "execution_count": 3,
   "metadata": {},
   "outputs": [
    {
     "name": "stdout",
     "output_type": "stream",
     "text": [
      "Data type for created_at column: datetime64[ns]\n"
     ]
    }
   ],
   "source": [
    "# confirm that created_at column is datetime type\n",
    "print('Data type for created_at column: {}'.format(trump['created_at'].dtype))"
   ]
  },
  {
   "cell_type": "markdown",
   "metadata": {},
   "source": [
    "Data type confirmed. Now what I've noticed in resources focused on time-series analysis is that they tend to have the dates as the index column. With our `trump` data set though, our index is a range of integers from 0 to 3198 (remember we gathered 3199 tweets and we're starting at 0). How can we set the `created_at` column as the index? \n",
    "\n",
    "Simple: with [`set_index`](https://pandas.pydata.org/pandas-docs/stable/reference/api/pandas.DataFrame.set_index.html).\n",
    "\n",
    "(Also, just a heads up I'm going to reassign the name `data` to our subsequent `pandas` dataframe and use that variable for the rest of the notebook.)"
   ]
  },
  {
   "cell_type": "code",
   "execution_count": 4,
   "metadata": {},
   "outputs": [
    {
     "data": {
      "text/html": [
       "<div>\n",
       "<style scoped>\n",
       "    .dataframe tbody tr th:only-of-type {\n",
       "        vertical-align: middle;\n",
       "    }\n",
       "\n",
       "    .dataframe tbody tr th {\n",
       "        vertical-align: top;\n",
       "    }\n",
       "\n",
       "    .dataframe thead th {\n",
       "        text-align: right;\n",
       "    }\n",
       "</style>\n",
       "<table border=\"1\" class=\"dataframe\">\n",
       "  <thead>\n",
       "    <tr style=\"text-align: right;\">\n",
       "      <th></th>\n",
       "      <th>username</th>\n",
       "      <th>id</th>\n",
       "      <th>source</th>\n",
       "      <th>retweet_count</th>\n",
       "      <th>favorite_count</th>\n",
       "      <th>tweet</th>\n",
       "    </tr>\n",
       "    <tr>\n",
       "      <th>created_at</th>\n",
       "      <th></th>\n",
       "      <th></th>\n",
       "      <th></th>\n",
       "      <th></th>\n",
       "      <th></th>\n",
       "      <th></th>\n",
       "    </tr>\n",
       "  </thead>\n",
       "  <tbody>\n",
       "    <tr>\n",
       "      <th>2019-10-15 00:51:26</th>\n",
       "      <td>realDonaldTrump</td>\n",
       "      <td>1183908206088728576</td>\n",
       "      <td>Twitter for iPhone</td>\n",
       "      <td>3183</td>\n",
       "      <td>7994</td>\n",
       "      <td>b'\\xe2\\x80\\x9cProject Veritas-Obtained Underco...</td>\n",
       "    </tr>\n",
       "    <tr>\n",
       "      <th>2019-10-15 00:21:30</th>\n",
       "      <td>realDonaldTrump</td>\n",
       "      <td>1183900672892309505</td>\n",
       "      <td>Twitter for iPhone</td>\n",
       "      <td>8409</td>\n",
       "      <td>24211</td>\n",
       "      <td>b'A big scandal at @ABC News. They got caught ...</td>\n",
       "    </tr>\n",
       "    <tr>\n",
       "      <th>2019-10-15 00:17:05</th>\n",
       "      <td>realDonaldTrump</td>\n",
       "      <td>1183899559124189184</td>\n",
       "      <td>Twitter for iPhone</td>\n",
       "      <td>6571</td>\n",
       "      <td>21131</td>\n",
       "      <td>b'Shifty Schiff now seems to think they don\\xe...</td>\n",
       "    </tr>\n",
       "    <tr>\n",
       "      <th>2019-10-14 22:34:04</th>\n",
       "      <td>realDonaldTrump</td>\n",
       "      <td>1183873633057476609</td>\n",
       "      <td>Twitter Media Studio</td>\n",
       "      <td>11785</td>\n",
       "      <td>29106</td>\n",
       "      <td>b'\"The House gone rogue! I want to remind you ...</td>\n",
       "    </tr>\n",
       "    <tr>\n",
       "      <th>2019-10-14 22:19:27</th>\n",
       "      <td>realDonaldTrump</td>\n",
       "      <td>1183869954640228352</td>\n",
       "      <td>Twitter Media Studio</td>\n",
       "      <td>10572</td>\n",
       "      <td>27167</td>\n",
       "      <td>b'\"It doesn\\'t speak for the FULL HOUSE becaus...</td>\n",
       "    </tr>\n",
       "  </tbody>\n",
       "</table>\n",
       "</div>"
      ],
      "text/plain": [
       "                            username                   id  \\\n",
       "created_at                                                  \n",
       "2019-10-15 00:51:26  realDonaldTrump  1183908206088728576   \n",
       "2019-10-15 00:21:30  realDonaldTrump  1183900672892309505   \n",
       "2019-10-15 00:17:05  realDonaldTrump  1183899559124189184   \n",
       "2019-10-14 22:34:04  realDonaldTrump  1183873633057476609   \n",
       "2019-10-14 22:19:27  realDonaldTrump  1183869954640228352   \n",
       "\n",
       "                                   source  retweet_count  favorite_count  \\\n",
       "created_at                                                                 \n",
       "2019-10-15 00:51:26    Twitter for iPhone           3183            7994   \n",
       "2019-10-15 00:21:30    Twitter for iPhone           8409           24211   \n",
       "2019-10-15 00:17:05    Twitter for iPhone           6571           21131   \n",
       "2019-10-14 22:34:04  Twitter Media Studio          11785           29106   \n",
       "2019-10-14 22:19:27  Twitter Media Studio          10572           27167   \n",
       "\n",
       "                                                                 tweet  \n",
       "created_at                                                              \n",
       "2019-10-15 00:51:26  b'\\xe2\\x80\\x9cProject Veritas-Obtained Underco...  \n",
       "2019-10-15 00:21:30  b'A big scandal at @ABC News. They got caught ...  \n",
       "2019-10-15 00:17:05  b'Shifty Schiff now seems to think they don\\xe...  \n",
       "2019-10-14 22:34:04  b'\"The House gone rogue! I want to remind you ...  \n",
       "2019-10-14 22:19:27  b'\"It doesn\\'t speak for the FULL HOUSE becaus...  "
      ]
     },
     "execution_count": 4,
     "metadata": {},
     "output_type": "execute_result"
    }
   ],
   "source": [
    "# set the index to created_at column and see what the first few rows look like\n",
    "data = trump.set_index('created_at'); data.head()"
   ]
  },
  {
   "cell_type": "code",
   "execution_count": 5,
   "metadata": {},
   "outputs": [
    {
     "name": "stdout",
     "output_type": "stream",
     "text": [
      "The dates in our data set range from 2019-05-23 02:28:36\n",
      "at the earliest, and 2019-10-15 00:51:26 being the most recent.\n"
     ]
    }
   ],
   "source": [
    "# When was the most recent tweet tweeted? What abot the oldest tweet?\n",
    "min_date = data.index.min()\n",
    "max_date = data.index.max()\n",
    "\n",
    "print('The dates in our data set range from {}\\nat the earliest, and {} being the most recent.'.format(min_date, max_date))"
   ]
  },
  {
   "cell_type": "markdown",
   "metadata": {},
   "source": [
    "Looks like the tweets started on May 23rd, and go all the way through October 15th wo we're working with a few months worth of tweets. \n",
    "\n",
    "You may be asking though: what's the benefit of using `Datetime` as an index? To put it succintly, using a [`DatetimeIndex`](https://pandas.pydata.org/pandas-docs/version/0.25/reference/api/pandas.DatetimeIndex.html) packs some cool features for time-series analysis:\n",
    "- by grabbing just a slice of dates, we can generate subsequent date ranges very fast\n",
    "- regularization functions like [`snap`](https://pandas.pydata.org/pandas-docs/version/0.25/reference/api/pandas.DatetimeIndex.snap.html) and [`asof`](https://pandas.pydata.org/pandas-docs/stable/reference/api/pandas.Index.asof.html) \n",
    "- perhaps most importantly, the ability quickly access properties like the year, month, or even day of the week\n",
    "\n",
    "([Source](https://pandas.pydata.org/pandas-docs/stable/user_guide/timeseries.html#indexing))\n",
    "\n",
    "We'll start by playing around with all the subproperties that we can extract, like the `hour` of the day, or what `weekday` it is. "
   ]
  },
  {
   "cell_type": "code",
   "execution_count": 6,
   "metadata": {},
   "outputs": [
    {
     "name": "stdout",
     "output_type": "stream",
     "text": [
      "0\n",
      "0\n",
      "0\n",
      "22\n",
      "22\n"
     ]
    }
   ],
   "source": [
    "# quick example showing the hour that the tweet was created\n",
    "for n in range(5):\n",
    "    print(data.index[n].hour)"
   ]
  },
  {
   "cell_type": "code",
   "execution_count": 7,
   "metadata": {},
   "outputs": [
    {
     "name": "stdout",
     "output_type": "stream",
     "text": [
      "1\n",
      "1\n",
      "1\n",
      "0\n",
      "0\n"
     ]
    }
   ],
   "source": [
    "# another quick example showing the day of the week for the tweet\n",
    "for n in range(5):\n",
    "    print(data.index[n].dayofweek)"
   ]
  },
  {
   "cell_type": "markdown",
   "metadata": {},
   "source": [
    "Quick note: when we use either `dayofweek` or `weekday`, a number between 0 and 6 is going to be returned. A value of 0 is equal to Monday and a value of 6 is equal to Sunday.\n",
    "\n",
    "However, there is also [`day_name`](https://pandas.pydata.org/pandas-docs/version/0.25/reference/api/pandas.Series.dt.day_name.html#pandas.Series.dt.day_name) which returns the actual day of the week."
   ]
  },
  {
   "cell_type": "code",
   "execution_count": 8,
   "metadata": {},
   "outputs": [
    {
     "name": "stdout",
     "output_type": "stream",
     "text": [
      "Tuesday\n",
      "Tuesday\n",
      "Tuesday\n",
      "Monday\n",
      "Monday\n"
     ]
    }
   ],
   "source": [
    "# print out the day name for the first 5 observations\n",
    "for n in range(5):\n",
    "    print(data.index[n].day_name())"
   ]
  },
  {
   "cell_type": "code",
   "execution_count": 9,
   "metadata": {},
   "outputs": [
    {
     "name": "stdout",
     "output_type": "stream",
     "text": [
      "Dienstag\n",
      "Dienstag\n",
      "Dienstag\n",
      "Montag\n",
      "Montag\n"
     ]
    }
   ],
   "source": [
    "# we could even return the name of the day in another language like German!\n",
    "for n in range(5):\n",
    "    print(data.index[n].day_name(locale='de_DE'))"
   ]
  },
  {
   "cell_type": "code",
   "execution_count": 10,
   "metadata": {},
   "outputs": [
    {
     "name": "stdout",
     "output_type": "stream",
     "text": [
      "Вторник\n",
      "Вторник\n",
      "Вторник\n",
      "Понедельник\n",
      "Понедельник\n"
     ]
    }
   ],
   "source": [
    "# or in Russian...\n",
    "for n in range(5):\n",
    "    print(data.index[n].day_name(locale='ru_RU'))"
   ]
  },
  {
   "cell_type": "markdown",
   "metadata": {},
   "source": [
    "Now that we know how to add additional information about when these tweets were tweeted, let's go ahead and add them our data!"
   ]
  },
  {
   "cell_type": "code",
   "execution_count": 11,
   "metadata": {},
   "outputs": [],
   "source": [
    "# month\n",
    "month = data.index.month.to_list()\n",
    "# day (number) of the datetime\n",
    "day = data.index.day.to_list()\n",
    "# hour of the day for each observation\n",
    "hour = data.index.hour.to_list()\n",
    "# ordinal day of year\n",
    "dayofyear = data.index.dayofyear.to_list()\n",
    "# week ordinal of the year\n",
    "weekofyear = data.index.weekofyear.to_list()\n",
    "# day of the week\n",
    "dayofweek = data.index.day_name().to_list()"
   ]
  },
  {
   "cell_type": "code",
   "execution_count": 12,
   "metadata": {},
   "outputs": [],
   "source": [
    "# create a dictionary with keys as the column name and its corresponding values \n",
    "new_cols = {'month': month, 'day': day, 'hour': hour, 'dayofyear': dayofyear, \n",
    "           'dayofweek': dayofweek}"
   ]
  },
  {
   "cell_type": "markdown",
   "metadata": {},
   "source": [
    "For now I think that is plenty of datetime information to work with! Now we're going to insert these extracted values into `data` using [`insert`](https://pandas.pydata.org/pandas-docs/stable/reference/api/pandas.DataFrame.insert.html), which allows us to insert a column at a specified location."
   ]
  },
  {
   "cell_type": "code",
   "execution_count": 13,
   "metadata": {},
   "outputs": [],
   "source": [
    "# index we want to start, will count up to indicate new loc\n",
    "start_index = 0\n",
    "\n",
    "# loop through key, values in dictionary with new columns\n",
    "# inserting at value stored in start_index, column name as key string, and keys associated\n",
    "# values\n",
    "for key, vals in new_cols.items():\n",
    "    data.insert(loc=start_index, column=str(key), value=vals)\n",
    "    start_index += 1"
   ]
  },
  {
   "cell_type": "code",
   "execution_count": 16,
   "metadata": {},
   "outputs": [
    {
     "data": {
      "text/html": [
       "<div>\n",
       "<style scoped>\n",
       "    .dataframe tbody tr th:only-of-type {\n",
       "        vertical-align: middle;\n",
       "    }\n",
       "\n",
       "    .dataframe tbody tr th {\n",
       "        vertical-align: top;\n",
       "    }\n",
       "\n",
       "    .dataframe thead th {\n",
       "        text-align: right;\n",
       "    }\n",
       "</style>\n",
       "<table border=\"1\" class=\"dataframe\">\n",
       "  <thead>\n",
       "    <tr style=\"text-align: right;\">\n",
       "      <th></th>\n",
       "      <th>month</th>\n",
       "      <th>day</th>\n",
       "      <th>hour</th>\n",
       "      <th>dayofyear</th>\n",
       "      <th>dayofweek</th>\n",
       "      <th>username</th>\n",
       "      <th>id</th>\n",
       "      <th>source</th>\n",
       "      <th>retweet_count</th>\n",
       "      <th>favorite_count</th>\n",
       "      <th>tweet</th>\n",
       "    </tr>\n",
       "    <tr>\n",
       "      <th>created_at</th>\n",
       "      <th></th>\n",
       "      <th></th>\n",
       "      <th></th>\n",
       "      <th></th>\n",
       "      <th></th>\n",
       "      <th></th>\n",
       "      <th></th>\n",
       "      <th></th>\n",
       "      <th></th>\n",
       "      <th></th>\n",
       "      <th></th>\n",
       "    </tr>\n",
       "  </thead>\n",
       "  <tbody>\n",
       "    <tr>\n",
       "      <th>2019-10-15 00:51:26</th>\n",
       "      <td>10</td>\n",
       "      <td>15</td>\n",
       "      <td>0</td>\n",
       "      <td>288</td>\n",
       "      <td>Tuesday</td>\n",
       "      <td>realDonaldTrump</td>\n",
       "      <td>1183908206088728576</td>\n",
       "      <td>Twitter for iPhone</td>\n",
       "      <td>3183</td>\n",
       "      <td>7994</td>\n",
       "      <td>b'\\xe2\\x80\\x9cProject Veritas-Obtained Underco...</td>\n",
       "    </tr>\n",
       "    <tr>\n",
       "      <th>2019-10-15 00:21:30</th>\n",
       "      <td>10</td>\n",
       "      <td>15</td>\n",
       "      <td>0</td>\n",
       "      <td>288</td>\n",
       "      <td>Tuesday</td>\n",
       "      <td>realDonaldTrump</td>\n",
       "      <td>1183900672892309505</td>\n",
       "      <td>Twitter for iPhone</td>\n",
       "      <td>8409</td>\n",
       "      <td>24211</td>\n",
       "      <td>b'A big scandal at @ABC News. They got caught ...</td>\n",
       "    </tr>\n",
       "    <tr>\n",
       "      <th>2019-10-15 00:17:05</th>\n",
       "      <td>10</td>\n",
       "      <td>15</td>\n",
       "      <td>0</td>\n",
       "      <td>288</td>\n",
       "      <td>Tuesday</td>\n",
       "      <td>realDonaldTrump</td>\n",
       "      <td>1183899559124189184</td>\n",
       "      <td>Twitter for iPhone</td>\n",
       "      <td>6571</td>\n",
       "      <td>21131</td>\n",
       "      <td>b'Shifty Schiff now seems to think they don\\xe...</td>\n",
       "    </tr>\n",
       "    <tr>\n",
       "      <th>2019-10-14 22:34:04</th>\n",
       "      <td>10</td>\n",
       "      <td>14</td>\n",
       "      <td>22</td>\n",
       "      <td>287</td>\n",
       "      <td>Monday</td>\n",
       "      <td>realDonaldTrump</td>\n",
       "      <td>1183873633057476609</td>\n",
       "      <td>Twitter Media Studio</td>\n",
       "      <td>11785</td>\n",
       "      <td>29106</td>\n",
       "      <td>b'\"The House gone rogue! I want to remind you ...</td>\n",
       "    </tr>\n",
       "    <tr>\n",
       "      <th>2019-10-14 22:19:27</th>\n",
       "      <td>10</td>\n",
       "      <td>14</td>\n",
       "      <td>22</td>\n",
       "      <td>287</td>\n",
       "      <td>Monday</td>\n",
       "      <td>realDonaldTrump</td>\n",
       "      <td>1183869954640228352</td>\n",
       "      <td>Twitter Media Studio</td>\n",
       "      <td>10572</td>\n",
       "      <td>27167</td>\n",
       "      <td>b'\"It doesn\\'t speak for the FULL HOUSE becaus...</td>\n",
       "    </tr>\n",
       "  </tbody>\n",
       "</table>\n",
       "</div>"
      ],
      "text/plain": [
       "                     month  day  hour  dayofyear dayofweek         username  \\\n",
       "created_at                                                                    \n",
       "2019-10-15 00:51:26     10   15     0        288   Tuesday  realDonaldTrump   \n",
       "2019-10-15 00:21:30     10   15     0        288   Tuesday  realDonaldTrump   \n",
       "2019-10-15 00:17:05     10   15     0        288   Tuesday  realDonaldTrump   \n",
       "2019-10-14 22:34:04     10   14    22        287    Monday  realDonaldTrump   \n",
       "2019-10-14 22:19:27     10   14    22        287    Monday  realDonaldTrump   \n",
       "\n",
       "                                      id                source  retweet_count  \\\n",
       "created_at                                                                      \n",
       "2019-10-15 00:51:26  1183908206088728576    Twitter for iPhone           3183   \n",
       "2019-10-15 00:21:30  1183900672892309505    Twitter for iPhone           8409   \n",
       "2019-10-15 00:17:05  1183899559124189184    Twitter for iPhone           6571   \n",
       "2019-10-14 22:34:04  1183873633057476609  Twitter Media Studio          11785   \n",
       "2019-10-14 22:19:27  1183869954640228352  Twitter Media Studio          10572   \n",
       "\n",
       "                     favorite_count  \\\n",
       "created_at                            \n",
       "2019-10-15 00:51:26            7994   \n",
       "2019-10-15 00:21:30           24211   \n",
       "2019-10-15 00:17:05           21131   \n",
       "2019-10-14 22:34:04           29106   \n",
       "2019-10-14 22:19:27           27167   \n",
       "\n",
       "                                                                 tweet  \n",
       "created_at                                                              \n",
       "2019-10-15 00:51:26  b'\\xe2\\x80\\x9cProject Veritas-Obtained Underco...  \n",
       "2019-10-15 00:21:30  b'A big scandal at @ABC News. They got caught ...  \n",
       "2019-10-15 00:17:05  b'Shifty Schiff now seems to think they don\\xe...  \n",
       "2019-10-14 22:34:04  b'\"The House gone rogue! I want to remind you ...  \n",
       "2019-10-14 22:19:27  b'\"It doesn\\'t speak for the FULL HOUSE becaus...  "
      ]
     },
     "execution_count": 16,
     "metadata": {},
     "output_type": "execute_result"
    }
   ],
   "source": [
    "# check out first few rows to make sure it worked\n",
    "data.head()"
   ]
  },
  {
   "cell_type": "code",
   "execution_count": 17,
   "metadata": {},
   "outputs": [
    {
     "name": "stdout",
     "output_type": "stream",
     "text": [
      "<class 'pandas.core.frame.DataFrame'>\n",
      "DatetimeIndex: 3199 entries, 2019-10-15 00:51:26 to 2019-05-23 02:28:36\n",
      "Data columns (total 11 columns):\n",
      "month             3199 non-null int64\n",
      "day               3199 non-null int64\n",
      "hour              3199 non-null int64\n",
      "dayofyear         3199 non-null int64\n",
      "dayofweek         3199 non-null object\n",
      "username          3199 non-null object\n",
      "id                3199 non-null object\n",
      "source            3199 non-null object\n",
      "retweet_count     3199 non-null int64\n",
      "favorite_count    3199 non-null int64\n",
      "tweet             3199 non-null object\n",
      "dtypes: int64(6), object(5)\n",
      "memory usage: 299.9+ KB\n"
     ]
    }
   ],
   "source": [
    "# confirm they are integer types (except for dayofweek)\n",
    "data.info()"
   ]
  },
  {
   "cell_type": "markdown",
   "metadata": {},
   "source": [
    "Everything is looking good up to this point! "
   ]
  },
  {
   "cell_type": "code",
   "execution_count": 20,
   "metadata": {},
   "outputs": [
    {
     "data": {
      "image/png": "[encoded data removed]",
      "text/plain": [
       "<Figure size 432x288 with 1 Axes>"
      ]
     },
     "metadata": {
      "image/png": {
       "height": 248,
       "width": 460
      },
      "needs_background": "light"
     },
     "output_type": "display_data"
    }
   ],
   "source": [
    "import matplotlib.pyplot as plt\n",
    "%config InlineBackend.figure_format = 'retina'\n",
    "%matplotlib inline\n",
    "\n",
    "data['source'].value_counts().plot.barh();"
   ]
  },
  {
   "cell_type": "code",
   "execution_count": 38,
   "metadata": {},
   "outputs": [
    {
     "data": {
      "image/png": "[encoded data removed]",
      "text/plain": [
       "<Figure size 432x288 with 1 Axes>"
      ]
     },
     "metadata": {
      "image/png": {
       "height": 248,
       "width": 428
      },
      "needs_background": "light"
     },
     "output_type": "display_data"
    }
   ],
   "source": [
    "data.groupby('dayofweek')['tweet'].agg('count').sort_values().plot.barh();"
   ]
  },
  {
   "cell_type": "code",
   "execution_count": 47,
   "metadata": {},
   "outputs": [
    {
     "data": {
      "image/png": "[encoded data removed]",
      "text/plain": [
       "<Figure size 432x288 with 1 Axes>"
      ]
     },
     "metadata": {
      "image/png": {
       "height": 248,
       "width": 382
      },
      "needs_background": "light"
     },
     "output_type": "display_data"
    }
   ],
   "source": [
    "data.groupby('hour')['tweet'].agg('count').sort_values().plot.barh();"
   ]
  },
  {
   "cell_type": "code",
   "execution_count": 50,
   "metadata": {},
   "outputs": [
    {
     "data": {
      "image/png": "[encoded data removed]",
      "text/plain": [
       "<Figure size 432x288 with 1 Axes>"
      ]
     },
     "metadata": {
      "image/png": {
       "height": 261,
       "width": 369
      },
      "needs_background": "light"
     },
     "output_type": "display_data"
    }
   ],
   "source": [
    "data.groupby('dayofyear')['tweet'].agg('count').plot.line();"
   ]
  },
  {
   "cell_type": "code",
   "execution_count": null,
   "metadata": {},
   "outputs": [],
   "source": []
  }
 ],
 "metadata": {
  "kernelspec": {
   "display_name": "Python 3",
   "language": "python",
   "name": "python3"
  },
  "language_info": {
   "codemirror_mode": {
    "name": "ipython",
    "version": 3
   },
   "file_extension": ".py",
   "mimetype": "text/x-python",
   "name": "python",
   "nbconvert_exporter": "python",
   "pygments_lexer": "ipython3",
   "version": "3.7.3"
  }
 },
 "nbformat": 4,
 "nbformat_minor": 4
}
