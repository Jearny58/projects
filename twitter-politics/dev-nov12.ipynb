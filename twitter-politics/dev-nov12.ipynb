{
 "cells": [
  {
   "cell_type": "markdown",
   "metadata": {},
   "source": [
    "# _Development: Nov. 12, 2019_\n",
    "\n",
    "**_Today's Focus_**\n",
    "\n",
    "To set up a simple `Streamlit` app that pulls my Tweets and shows 3 visualizations regarding the information. "
   ]
  },
  {
   "cell_type": "code",
   "execution_count": 22,
   "metadata": {},
   "outputs": [],
   "source": [
    "from joetools import private\n",
    "import pandas as pd\n",
    "import tweepy\n",
    "import os\n",
    "import time\n",
    "import random\n",
    "import sys\n",
    "from vaderSentiment.vaderSentiment import SentimentIntensityAnalyzer"
   ]
  },
  {
   "cell_type": "code",
   "execution_count": 23,
   "metadata": {},
   "outputs": [],
   "source": [
    "def environment_variables():\n",
    "    # Set environment variables\n",
    "    os.environ['TWITTER_API_KEY'] = private.TWITTER_API_KEY\n",
    "    os.environ['TWITTER_API_SECRET'] = private.TWITTER_API_SECRET\n",
    "    os.environ['TWITTER_TOKEN'] = private.TWITTER_TOKEN\n",
    "    os.environ['TWITTER_TOKEN_SECRET'] = private.TWITTER_TOKEN_SECRET\n",
    "    \n",
    "def api_setup():\n",
    "    '''set up Twitter API'''\n",
    "    # run to assign environment variables \n",
    "    environment_variables()\n",
    "\n",
    "    # access tweepy authenticator\n",
    "    auth = tweepy.OAuthHandler(os.environ.get('TWITTER_API_KEY'), os.environ.get('TWITTER_API_SECRET'))\n",
    "    auth.set_access_token(os.environ.get('TWITTER_TOKEN'), os.environ.get('TWITTER_TOKEN_SECRET'))\n",
    "\n",
    "    # pass in above authentication to API\n",
    "    api = tweepy.API(auth, wait_on_rate_limit=True, wait_on_rate_limit_notify=True)\n",
    "    \n",
    "    return api\n",
    "\n",
    "def main():\n",
    "    api = api_setup()\n",
    "    # verify my credentials\n",
    "    try:\n",
    "        api.verify_credentials()\n",
    "        print(\"Authentication verified.\")\n",
    "    except:\n",
    "        print(\"Error during authentication.\")\n",
    "        \n",
    "def sentiment_analyzer_scores(text):\n",
    "    analyzer = SentimentIntensityAnalyzer()\n",
    "    score = analyzer.polarity_scores(text)\n",
    "    return score\n",
    "\n",
    "def load_data(tweets_list):\n",
    "    data = pd.DataFrame(tweets_list)\n",
    "    return data\n",
    "\n",
    "#@st.cache\n",
    "def get_user_tweets(username):\n",
    "    # instantiate empty list\n",
    "    tweets_list = []\n",
    "    \n",
    "    for tweet in tweepy.Cursor(api.user_timeline, id=username, tweet_mode='extended').items(100):\n",
    "        tweet_dict = {'created_at': tweet.created_at,\n",
    "                     'tweet': tweet.full_text,\n",
    "                     'positivity': sentiment_analyzer_scores(tweet.full_text)['pos'],\n",
    "                     'negativity': sentiment_analyzer_scores(tweet.full_text)['neg']\n",
    "                     }\n",
    "        tweets_list.append(tweet_dict)\n",
    "        \n",
    "    # input created csv into pandas and return as DataFrame\n",
    "    data = load_data(tweets_list)\n",
    "    return data"
   ]
  },
  {
   "cell_type": "code",
   "execution_count": 24,
   "metadata": {},
   "outputs": [],
   "source": [
    "environment_variables()"
   ]
  },
  {
   "cell_type": "code",
   "execution_count": 25,
   "metadata": {},
   "outputs": [],
   "source": [
    "# access tweepy authenticator\n",
    "auth = tweepy.OAuthHandler(os.environ.get('TWITTER_API_KEY'), os.environ.get('TWITTER_API_SECRET'))\n",
    "auth.set_access_token(os.environ.get('TWITTER_TOKEN'), os.environ.get('TWITTER_TOKEN_SECRET'))\n",
    "\n",
    "# pass in above authentication to API\n",
    "api = tweepy.API(auth, wait_on_rate_limit=True, wait_on_rate_limit_notify=True)"
   ]
  },
  {
   "cell_type": "code",
   "execution_count": 26,
   "metadata": {},
   "outputs": [
    {
     "name": "stdout",
     "output_type": "stream",
     "text": [
      "Authentication verified.\n"
     ]
    }
   ],
   "source": [
    "# verify my credentials\n",
    "try:\n",
    "    api.verify_credentials()\n",
    "    print(\"Authentication verified.\")\n",
    "except:\n",
    "    print(\"Error during authentication.\")"
   ]
  },
  {
   "cell_type": "code",
   "execution_count": 27,
   "metadata": {},
   "outputs": [],
   "source": [
    "data = get_user_tweets('earny_joe')"
   ]
  },
  {
   "cell_type": "code",
   "execution_count": 28,
   "metadata": {},
   "outputs": [
    {
     "data": {
      "text/html": [
       "<div>\n",
       "<style scoped>\n",
       "    .dataframe tbody tr th:only-of-type {\n",
       "        vertical-align: middle;\n",
       "    }\n",
       "\n",
       "    .dataframe tbody tr th {\n",
       "        vertical-align: top;\n",
       "    }\n",
       "\n",
       "    .dataframe thead th {\n",
       "        text-align: right;\n",
       "    }\n",
       "</style>\n",
       "<table border=\"1\" class=\"dataframe\">\n",
       "  <thead>\n",
       "    <tr style=\"text-align: right;\">\n",
       "      <th></th>\n",
       "      <th>created_at</th>\n",
       "      <th>negativity</th>\n",
       "      <th>positivity</th>\n",
       "      <th>tweet</th>\n",
       "    </tr>\n",
       "  </thead>\n",
       "  <tbody>\n",
       "    <tr>\n",
       "      <th>0</th>\n",
       "      <td>2019-11-11 18:55:18</td>\n",
       "      <td>0.000</td>\n",
       "      <td>0.227</td>\n",
       "      <td>RT @TimothyKassis: We're excited to release a ...</td>\n",
       "    </tr>\n",
       "    <tr>\n",
       "      <th>1</th>\n",
       "      <td>2019-11-11 04:20:35</td>\n",
       "      <td>0.000</td>\n",
       "      <td>0.000</td>\n",
       "      <td>A few code examples for working with the Twitt...</td>\n",
       "    </tr>\n",
       "    <tr>\n",
       "      <th>2</th>\n",
       "      <td>2019-11-11 02:27:51</td>\n",
       "      <td>0.000</td>\n",
       "      <td>0.000</td>\n",
       "      <td>RT @DynamicWebPaige: ✨📒 @GoogleColab now has @...</td>\n",
       "    </tr>\n",
       "    <tr>\n",
       "      <th>3</th>\n",
       "      <td>2019-11-09 13:56:26</td>\n",
       "      <td>0.224</td>\n",
       "      <td>0.000</td>\n",
       "      <td>RT @peterpomeranzev: Information War has repla...</td>\n",
       "    </tr>\n",
       "    <tr>\n",
       "      <th>4</th>\n",
       "      <td>2019-11-09 05:33:23</td>\n",
       "      <td>0.000</td>\n",
       "      <td>0.415</td>\n",
       "      <td>Day 10...to be honest, pleasantly surprised I ...</td>\n",
       "    </tr>\n",
       "  </tbody>\n",
       "</table>\n",
       "</div>"
      ],
      "text/plain": [
       "           created_at  negativity  positivity  \\\n",
       "0 2019-11-11 18:55:18       0.000       0.227   \n",
       "1 2019-11-11 04:20:35       0.000       0.000   \n",
       "2 2019-11-11 02:27:51       0.000       0.000   \n",
       "3 2019-11-09 13:56:26       0.224       0.000   \n",
       "4 2019-11-09 05:33:23       0.000       0.415   \n",
       "\n",
       "                                               tweet  \n",
       "0  RT @TimothyKassis: We're excited to release a ...  \n",
       "1  A few code examples for working with the Twitt...  \n",
       "2  RT @DynamicWebPaige: ✨📒 @GoogleColab now has @...  \n",
       "3  RT @peterpomeranzev: Information War has repla...  \n",
       "4  Day 10...to be honest, pleasantly surprised I ...  "
      ]
     },
     "execution_count": 28,
     "metadata": {},
     "output_type": "execute_result"
    }
   ],
   "source": [
    "data.head()"
   ]
  },
  {
   "cell_type": "code",
   "execution_count": 29,
   "metadata": {},
   "outputs": [
    {
     "data": {
      "text/html": [
       "<div>\n",
       "<style scoped>\n",
       "    .dataframe tbody tr th:only-of-type {\n",
       "        vertical-align: middle;\n",
       "    }\n",
       "\n",
       "    .dataframe tbody tr th {\n",
       "        vertical-align: top;\n",
       "    }\n",
       "\n",
       "    .dataframe thead th {\n",
       "        text-align: right;\n",
       "    }\n",
       "</style>\n",
       "<table border=\"1\" class=\"dataframe\">\n",
       "  <thead>\n",
       "    <tr style=\"text-align: right;\">\n",
       "      <th></th>\n",
       "      <th>created_at</th>\n",
       "      <th>negativity</th>\n",
       "      <th>positivity</th>\n",
       "      <th>tweet</th>\n",
       "    </tr>\n",
       "  </thead>\n",
       "  <tbody>\n",
       "    <tr>\n",
       "      <th>95</th>\n",
       "      <td>2019-10-17 18:38:59</td>\n",
       "      <td>0.0</td>\n",
       "      <td>0.000</td>\n",
       "      <td>RT @math_rachel: Come work with me as a Data E...</td>\n",
       "    </tr>\n",
       "    <tr>\n",
       "      <th>96</th>\n",
       "      <td>2019-10-17 16:09:35</td>\n",
       "      <td>0.0</td>\n",
       "      <td>0.000</td>\n",
       "      <td>RT @anthilemoon: “Originality is undetected pl...</td>\n",
       "    </tr>\n",
       "    <tr>\n",
       "      <th>97</th>\n",
       "      <td>2019-10-16 23:34:02</td>\n",
       "      <td>0.0</td>\n",
       "      <td>0.000</td>\n",
       "      <td>RT @srmsoumya: I will be speaking at O'Reilly ...</td>\n",
       "    </tr>\n",
       "    <tr>\n",
       "      <th>98</th>\n",
       "      <td>2019-10-16 17:32:36</td>\n",
       "      <td>0.0</td>\n",
       "      <td>0.299</td>\n",
       "      <td>RT @ansjin: I just published: How to create an...</td>\n",
       "    </tr>\n",
       "    <tr>\n",
       "      <th>99</th>\n",
       "      <td>2019-10-16 15:06:19</td>\n",
       "      <td>0.0</td>\n",
       "      <td>0.435</td>\n",
       "      <td>RT @MLWhiz: Thanks, @ThiagoTDotCom for the sha...</td>\n",
       "    </tr>\n",
       "  </tbody>\n",
       "</table>\n",
       "</div>"
      ],
      "text/plain": [
       "            created_at  negativity  positivity  \\\n",
       "95 2019-10-17 18:38:59         0.0       0.000   \n",
       "96 2019-10-17 16:09:35         0.0       0.000   \n",
       "97 2019-10-16 23:34:02         0.0       0.000   \n",
       "98 2019-10-16 17:32:36         0.0       0.299   \n",
       "99 2019-10-16 15:06:19         0.0       0.435   \n",
       "\n",
       "                                                tweet  \n",
       "95  RT @math_rachel: Come work with me as a Data E...  \n",
       "96  RT @anthilemoon: “Originality is undetected pl...  \n",
       "97  RT @srmsoumya: I will be speaking at O'Reilly ...  \n",
       "98  RT @ansjin: I just published: How to create an...  \n",
       "99  RT @MLWhiz: Thanks, @ThiagoTDotCom for the sha...  "
      ]
     },
     "execution_count": 29,
     "metadata": {},
     "output_type": "execute_result"
    }
   ],
   "source": [
    "data.tail()"
   ]
  },
  {
   "cell_type": "code",
   "execution_count": null,
   "metadata": {},
   "outputs": [],
   "source": []
  }
 ],
 "metadata": {
  "kernelspec": {
   "display_name": "Python 3",
   "language": "python",
   "name": "python3"
  },
  "language_info": {
   "codemirror_mode": {
    "name": "ipython",
    "version": 3
   },
   "file_extension": ".py",
   "mimetype": "text/x-python",
   "name": "python",
   "nbconvert_exporter": "python",
   "pygments_lexer": "ipython3",
   "version": "3.7.3"
  }
 },
 "nbformat": 4,
 "nbformat_minor": 4
}
