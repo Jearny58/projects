{
 "cells": [
  {
   "cell_type": "markdown",
   "metadata": {
    "colab_type": "text",
    "id": "UCewD7WEv3F9"
   },
   "source": [
    "# _What are you tweeting about?_\n",
    "\n",
    "When I first heard of Twitter way back when I thought it was stupid. I mean, who would really want to put their thoughts (in 140 or fewer characters) out for the world to see? \n",
    "\n",
    "Apparently, a lot of people...\n",
    "\n",
    "It has only been in the past six months or so that I've come to use Twitter regularly. However, I don't tweet all that much, so what's the point? Information curation. \n",
    "\n",
    "Twitter has given me virtual access to experts in the fields of data science, machine learning and deep learning. The list of names is exceptionally long, but all these individuals combine to help show the way, so to speak. They highlight the signal within all the noise around the above subjects. Additionally, **I** have the choice in whose information I allow to populate the screen of my smartphone or laptop. In summary, much like an art connoisseur curates artworks for a showing, I can curate what information populates my feed. \n",
    "\n",
    "Now there are issues with this, the most obvious of which is that one can begin to silo themselves into a bubble. Since we have the power to control our feed, and for the most part, many of us want to read about what we're already interested in, why would we be compelled to follow anybody with completely opposite views? \n",
    "\n",
    "However, I don't want to get too far into the weeds because this notebook has a different and very specific purpose. Continuing with the #trend, we're going to look into gathering tweets from Twitter and analyzing them using Python. More specifically, we're going to be focusing on the tweets from members of the United States federal government - particularly those in the Legislative and Executive Branches - where we'll use a range of NLP (natural language processing) techniques to analyze the sentiment associated with each tweet. \n",
    "\n",
    "### Purpose\n",
    "\n",
    "Firstly, I want to get a better understanding of Twitter's [API](https://developer.twitter.com/en/docs). Ever since I went through Dataquest's [tutorial](https://www.dataquest.io/blog/streaming-data-python/) on the Twitter API, I've made it a focus to get more comfortable with it. \n",
    "\n",
    "As an extension, I want to expand my understanding of the wide range of tools available in Python for NLP (natural-language processing). When I first started my journey into data science, I was hugely intimidated by working with text. After all, how do you analyze anything but numbers? Luckily, I've been exposed to some really insightful resources (which I'll list below) that have really helped me to grasp the many approaches available to us with NLP. \n",
    "\n",
    "I feel like I'm starting to ramble, so without further ado, let's dive in! Our first step will be making sure `tweepy` is installed in our environment.\n",
    "\n",
    "\n"
   ]
  },
  {
   "cell_type": "code",
   "execution_count": null,
   "metadata": {
    "colab": {},
    "colab_type": "code",
    "id": "q2ddYT3SvxLZ"
   },
   "outputs": [],
   "source": [
    "# install tweepy\n",
    "!pip install tweepy"
   ]
  },
  {
   "cell_type": "markdown",
   "metadata": {
    "colab_type": "text",
    "id": "uLhMVM3C7W5Z"
   },
   "source": [
    "### _What is `tweepy`?_\n",
    "\n",
    "_\"An easy-to-use Python library for accessing the Twitter API.\"_\n",
    "\n",
    "Couldn't put it more succinctly than that. Like `sklearn` does for machine learning, or `pandas` does for data wrangling, `tweepy` gives us tools to work directly with and access information on Twitter. \n",
    "\n",
    "Before we can analyze tweets though we need to set up an app via Twitter's developer site. While I won't be diving further into this initial app set-up, Dataquest's [tutorial](https://www.dataquest.io/blog/streaming-data-python/) gives an excellent high-level overview of how to do this. \n",
    "\n",
    "So after setting up our app, we have access to an assortment of \"Keys and Access Tokens\". Much like the press need badges to get into White House press meetings, these keys/tokens are the credentials that allow us to access Twitter. I want to highlight here the importance of keeping these _private_. If someone else had these keys/tokens, they could access Twitter and potentially do some nefarious acts in your name, which we don't want! \n",
    "\n",
    "To better keep these key/variables private, they'll be stored as variables in a private Python script. We'll then be able to call to each key/token directly without directly having to put actual combinations in. For clarification, though, below is some background on the different keys/tokens and what variables they'll be stored in.\n",
    "\n",
    "- Consumer Key (i.e., API Key) - will be stored in a variable called `TWITTER_API_KEY`\n",
    "- Consumer Secret (i.e., API Secret Key) - will be stored in a variable called `TWITTER_API_SECRET`\n",
    "- Access Token - will be stored in a variable called `TWITTER_TOKEN`\n",
    "- Access Token Secret - will be stored in a variable called `TWITTER_TOKEN_SECRET`\n",
    "\n",
    "### _Setting Up the Environment_\n",
    "\n",
    "With all this talk about `tweepy`, I nearly forgot about one crucial step: setting up my working environment! Since I only had access to an older Macbook for this project, I'll be using Google Colab today which means to access any of the scripts I mentioned previously, I'll have to \"mount\" this Colab notebook to my Google Drive. After that, I'll update the main directory to the correct location; this will serve as our \"home base,\" where any data we access (or decide to download) will be stored. It takes just a few steps, so let's do that now.\n"
   ]
  },
  {
   "cell_type": "code",
   "execution_count": 5,
   "metadata": {
    "colab": {
     "base_uri": "https://localhost:8080/",
     "height": 54
    },
    "colab_type": "code",
    "id": "Kdo_nDE36S1X",
    "outputId": "8f6f57ac-5460-4412-b18c-673550c216f4"
   },
   "outputs": [
    {
     "name": "stdout",
     "output_type": "stream",
     "text": [
      "Drive already mounted at /content/gdrive; to attempt to forcibly remount, call drive.mount(\"/content/gdrive\", force_remount=True).\n"
     ]
    }
   ],
   "source": [
    "# mount your Google Drive, giving us access to any files we have stored there\n",
    "from google.colab import drive\n",
    "drive.mount('/content/gdrive')"
   ]
  },
  {
   "cell_type": "markdown",
   "metadata": {
    "colab_type": "text",
    "id": "KB9aaBX13ItN"
   },
   "source": [
    "Ok we've mounted our Google Drive, now we need to see what our current working directory is. This is important to address up-front because it'll help us stay better organized for the rest of the project."
   ]
  },
  {
   "cell_type": "code",
   "execution_count": 6,
   "metadata": {
    "colab": {
     "base_uri": "https://localhost:8080/",
     "height": 34
    },
    "colab_type": "code",
    "id": "R0eMbsWB6JYX",
    "outputId": "3405c8cb-1c23-4764-c840-9263688b1a8b"
   },
   "outputs": [
    {
     "name": "stdout",
     "output_type": "stream",
     "text": [
      "Our current working directory is '/content'.\n"
     ]
    }
   ],
   "source": [
    "# import os library to better help us navigate directories (which in this) case is our Google Drive\n",
    "import os\n",
    "\n",
    "# what is our current working directory?\n",
    "print(\"Our current working directory is '{}'.\".format(os.getcwd()))"
   ]
  },
  {
   "cell_type": "markdown",
   "metadata": {
    "colab_type": "text",
    "id": "B_XYB82WERGH"
   },
   "source": [
    "We'll need to update this to the correct location. We can do this through the `os` library as well, more specifically by calling `chdir()` and inputting the path name in the parentheses. "
   ]
  },
  {
   "cell_type": "code",
   "execution_count": 7,
   "metadata": {
    "colab": {
     "base_uri": "https://localhost:8080/",
     "height": 34
    },
    "colab_type": "code",
    "id": "SZTwc5HhD-3Z",
    "outputId": "71eacf4b-1408-45c3-bdb3-500127240512"
   },
   "outputs": [
    {
     "data": {
      "text/plain": [
       "'/content/gdrive/My Drive/projects/trump-tweets'"
      ]
     },
     "execution_count": 7,
     "metadata": {
      "tags": []
     },
     "output_type": "execute_result"
    }
   ],
   "source": [
    "# change our directory to the one associated with this project\n",
    "os.chdir('/content/gdrive/My Drive/projects/trump-tweets')\n",
    "\n",
    "# lets confirm that it updated the directory accordingly\n",
    "os.getcwd()"
   ]
  },
  {
   "cell_type": "code",
   "execution_count": 8,
   "metadata": {
    "colab": {
     "base_uri": "https://localhost:8080/",
     "height": 34
    },
    "colab_type": "code",
    "id": "NRAajvaoFAHH",
    "outputId": "dbecfc9c-db21-4539-e082-db1337d0a9c1"
   },
   "outputs": [
    {
     "name": "stdout",
     "output_type": "stream",
     "text": [
      "/content/gdrive/My Drive/projects/trump-tweets\n"
     ]
    }
   ],
   "source": [
    "# import Path to make working with directory even more manageable\n",
    "from pathlib import Path\n",
    "\n",
    "# store our main directory path in a variable in case we need to access/download information in that locaton directly\n",
    "PATH = Path(os.getcwd())\n",
    "print(PATH)"
   ]
  },
  {
   "cell_type": "markdown",
   "metadata": {
    "colab_type": "text",
    "id": "irOCmX3gE64E"
   },
   "source": [
    "Awesome! Our working directory is set, and we have our path stored safely, which may come in handy as a data lighthouse of sorts in case we ever get lost with the directories. Our next steps will now be to import `joetools`, which is our very own custom library, which has the sole purpose of storing the Python script with our Twitter keys and tokens. \n",
    "\n",
    "We'll import it and then be able to easily access those while keeping them private at the same time!"
   ]
  },
  {
   "cell_type": "code",
   "execution_count": null,
   "metadata": {
    "colab": {},
    "colab_type": "code",
    "id": "cVcV47s_Ey_7"
   },
   "outputs": [],
   "source": [
    "# now we have access to the keys and tokens!\n",
    "from joetools import get_tweets, secrets"
   ]
  },
  {
   "cell_type": "markdown",
   "metadata": {
    "colab_type": "text",
    "id": "YMfhCSmiHddd"
   },
   "source": [
    "### _Authentication_\n",
    "\n",
    "Environment and main directory set up? Check.\n",
    "\n",
    "Access to Twitter keys and tokens? Check.\n",
    "\n",
    "Now comes the next part: authentication. It is relatively easy to do this with just a few lines of code thanks to `tweepy`! We'll first authenticate our request to access Twitter using `TWITTER_API_KEY` and `TWITTER_API_SECRET`. Then we'll set our access tokens - using `TWITTER_TOKEN` and `TWITTER_TOKEN_SECRET`. \n",
    "\n",
    "We are now authenticated, and the next step is to simply pass this authentication in an API object, which will then allow us to pull data from Twitter. "
   ]
  },
  {
   "cell_type": "code",
   "execution_count": null,
   "metadata": {
    "colab": {},
    "colab_type": "code",
    "id": "hVCX5eEOHYX8"
   },
   "outputs": [],
   "source": [
    "# be sure to import tweepy!\n",
    "import tweepy\n",
    "\n",
    "# access tweepy authenticator, passing in our two API keys, then set access tokens\n",
    "auth = tweepy.OAuthHandler(secrets.TWITTER_API_KEY, secrets.TWITTER_API_SECRET)\n",
    "auth.set_access_token(secrets.TWITTER_TOKEN, secrets.TWITTER_TOKEN_SECRET)\n",
    "\n",
    "# pass in above authentication to API\n",
    "api = tweepy.API(auth)"
   ]
  },
  {
   "cell_type": "markdown",
   "metadata": {
    "colab_type": "text",
    "id": "hUjOesMtKNIg"
   },
   "source": [
    "In three lines of code (four if you want to count importing the library...), we're able to get access to the entire Twitter [RESTful API](https://tweepy.readthedocs.io/en/latest/api.html#api-reference) and its methods! Since I am not too technically-inclined (yet), I try to keep my code as simple as possible. This does not mean that things can't get complex and multi-tiered; things can blow up and blow up quickly to be sure. \n",
    "\n",
    "However, I do my best to follow the principle of [_Occam's razor_](https://en.wikipedia.org/wiki/Occam%27s_razor), which states: \n",
    "\n",
    "_\"Entities should not be multiplied without necessity.\"_\n",
    "\n",
    "Basically, when two competing theories make exactly the same predictions, the simpler one is the better one [(Source)](http://math.ucr.edu/home/baez/physics/General/occam.html). \n",
    "\n",
    "We can loosely translate that to the following: keep it simple stupid!\n",
    "\n",
    "As a quick and simple example of the power of the API, let's print out some tweets from my very own Twitter account using `home_timeline()` in conjecture with our `api`. "
   ]
  },
  {
   "cell_type": "code",
   "execution_count": null,
   "metadata": {
    "colab": {},
    "colab_type": "code",
    "id": "KlJZOhpsGQ-V"
   },
   "outputs": [],
   "source": [
    "# access home_timeline()\n",
    "public_tweets = api.home_timeline()"
   ]
  },
  {
   "cell_type": "code",
   "execution_count": 12,
   "metadata": {
    "colab": {
     "base_uri": "https://localhost:8080/",
     "height": 280
    },
    "colab_type": "code",
    "id": "5nsVXzsvNSrJ",
    "outputId": "3417b52e-d905-4fa9-b591-65d0372c8508"
   },
   "outputs": [
    {
     "name": "stdout",
     "output_type": "stream",
     "text": [
      "RT @phil_tinline: Defining features of “Soviet style purges” included prolonged torture, false confessions at kangaroo show trials, sometim…\n",
      "What we learned from the NFL’s upset-heavy week 6 --&gt; https://t.co/EpgmJtTpIG\n",
      "RT @Liquidata1: @fchollet We don't think APIs are the answer. For many applications, you need to see the entire dataset. We have a really s…\n",
      "RT @juliaioffe: American hero https://t.co/ylrb9IXxL1\n",
      "The right’s anti-Trump bloc: https://t.co/wImHYHRtwv\n",
      "“Whatever can be understood, can be understood through explanatory knowledge. And more, any physical process can be… https://t.co/No4gFaq5je\n",
      "Google Home PM: Alright, so only voice commands?\n",
      "\n",
      "Google Home product engineers: Sounds good.\n",
      "\n",
      "[everyone gets up an… https://t.co/QOXR1I2yW9\n",
      "Where we discuss self-scandalisation as a propaganda tactic and the reason politicians can’t be held accountable wi… https://t.co/jew0hDMBoH\n",
      "Convo/thread https://t.co/cQ9OY3ZW3S\n",
      "Not all #Pokemon are created equal. #Pikachu may have his own #DetectivePikachu movie, but he isn't legendary.… https://t.co/3CL5LolJcR\n"
     ]
    }
   ],
   "source": [
    "# access some recent tweets/retweets\n",
    "for tweet in public_tweets[:10]:\n",
    "    print(tweet.text)"
   ]
  },
  {
   "cell_type": "markdown",
   "metadata": {
    "colab_type": "text",
    "id": "2kGOhAl-T01F"
   },
   "source": [
    "We can also gather tweets from other users. To keep things simple let's get access to user `earny_joe`'s tweets (which is me!)."
   ]
  },
  {
   "cell_type": "code",
   "execution_count": 13,
   "metadata": {
    "colab": {
     "base_uri": "https://localhost:8080/",
     "height": 52
    },
    "colab_type": "code",
    "id": "rZGmp2mTNUTc",
    "outputId": "2205267a-1bae-4df0-d38c-f39f3363c502"
   },
   "outputs": [
    {
     "name": "stdout",
     "output_type": "stream",
     "text": [
      "What timezone is user earny_joe in? --> None\n",
      "How many followers does earny_joe have? --> 40\n"
     ]
    }
   ],
   "source": [
    "# use get_user method to access data from a specific user\n",
    "user = api.get_user('earny_joe')\n",
    "\n",
    "print('What timezone is user {} in? --> {}'.format(user.screen_name, user.time_zone))\n",
    "print('How many followers does {} have? --> {}'.format(user.screen_name, user.followers_count))"
   ]
  },
  {
   "cell_type": "markdown",
   "metadata": {
    "colab_type": "text",
    "id": "dkq2H_ELXiNf"
   },
   "source": [
    "### _Next Steps: Create A Function to Get Tweets_\n",
    "\n",
    "You may have noticed earlier when we imported the scripts from `joetools` that we in addition to our `secrets` script (which has the keys/tokens stored in it) we imported another one called `get_tweets`.\n",
    "\n",
    "What is the point of this script? The `get_tweets` script contains the function that we can use to get specified users' tweets from Twitter! Luckily this step was pretty quick; after a quick Google search, I came across David Yanofsky's Python script ([link](https://gist.github.com/yanofsky/5436496)) that did most of the leg work. I made a few slight tweaks to it for this project, but David did most of the leg work, so thank you! \n",
    "\n",
    "I'll be calling it via the command `get_tweets.get_tweets()`, which takes two inputs:\n",
    "1. `username`: The individual's Twitter username, or 'handle'\n",
    "2. `num_tweets`: number of tweets to process; as a reminder there is a limit of the `3200` most recent tweets\n",
    "With these two inputs, the function gets to work. But first, let's take a slight detour back to the keys and tokens. After all, we have to get the keys authenticated and set the access tokens to use the Twitter API! \n",
    "\n",
    "This was one of the small tweaks I made; I added a call to the `secrets` script, which contains all the secret info! We can then safely access our secret keys//tokens and store them in variables for use later. \n",
    "\n",
    "Ok, now back to the function! Below is a quick description of the steps that the function takes to gather, process, and then store the information:\n",
    "\n",
    "1. Authenticates with API keys and sets access tokens so that we can access Twitter via `tweepy`.\n",
    "2. Uses a [_cursor_](http://docs.tweepy.org/en/v3.5.0/cursor_tutorial.html) object to access our inputted user's items, things like the username, retweet count, favorite count, and the tweet text.\n",
    "3. Generate a CSV file that we can then put into a `pandas` data frame.\n",
    "\n",
    "Since we now have a better understanding of what is going on behind the scenes, let's dive in and get to work, pulling some tweets!"
   ]
  },
  {
   "cell_type": "code",
   "execution_count": 15,
   "metadata": {
    "colab": {
     "base_uri": "https://localhost:8080/",
     "height": 34
    },
    "colab_type": "code",
    "id": "O5KH0CZ0PUit",
    "outputId": "2cabf7d6-7d62-4d83-db95-ed7335c9347e"
   },
   "outputs": [
    {
     "name": "stdout",
     "output_type": "stream",
     "text": [
      "writing to realDonaldTrump_tweets.csv\n"
     ]
    }
   ],
   "source": [
    "# get 3199 most recent tweets from Donal Trump\n",
    "get_tweets.get_tweets(username='realDonaldTrump', num_tweets=3199)"
   ]
  },
  {
   "cell_type": "markdown",
   "metadata": {
    "colab_type": "text",
    "id": "ognArhk57pAe"
   },
   "source": [
    "Ok so why did I set `num_tweets` to 3,199? For some reason when I set the number to 3200 (the limit specified by Twitter) sometimes it'll only return a few hundred tweets. I haven't figured out why this is though; I don't make that many requests (i.e. < 5) on any given day so I don't think it is due to me making too many calls in a short period of time. It is something I'll have to go more in-depth with the [documentation](https://developer.twitter.com/en/docs/tweets/timelines/api-reference/get-statuses-user_timeline) to figure out what is going on."
   ]
  },
  {
   "cell_type": "code",
   "execution_count": null,
   "metadata": {
    "colab": {},
    "colab_type": "code",
    "id": "jAQI-7X-PUex"
   },
   "outputs": [],
   "source": [
    "# see what the CSV looks like\n",
    "import pandas as pd\n",
    "# optional - changes the default setting so that all columns are output for a pandas Df\n",
    "pd.set_option('display.max_columns', None)\n",
    "\n",
    "# create pandas dataframe\n",
    "trump = pd.read_csv('realDonaldTrump_tweets.csv')"
   ]
  },
  {
   "cell_type": "code",
   "execution_count": 17,
   "metadata": {
    "colab": {
     "base_uri": "https://localhost:8080/",
     "height": 415
    },
    "colab_type": "code",
    "id": "kGuMA9HdPUa5",
    "outputId": "319f96cb-7b67-4d39-b8c3-72eea5d0795a"
   },
   "outputs": [
    {
     "data": {
      "text/html": [
       "<div>\n",
       "<style scoped>\n",
       "    .dataframe tbody tr th:only-of-type {\n",
       "        vertical-align: middle;\n",
       "    }\n",
       "\n",
       "    .dataframe tbody tr th {\n",
       "        vertical-align: top;\n",
       "    }\n",
       "\n",
       "    .dataframe thead th {\n",
       "        text-align: right;\n",
       "    }\n",
       "</style>\n",
       "<table border=\"1\" class=\"dataframe\">\n",
       "  <thead>\n",
       "    <tr style=\"text-align: right;\">\n",
       "      <th></th>\n",
       "      <th>realDonaldTrump</th>\n",
       "      <th>1183908206088728576</th>\n",
       "      <th>2019-10-15 00:51:26</th>\n",
       "      <th>Twitter for iPhone</th>\n",
       "      <th>3183</th>\n",
       "      <th>7994</th>\n",
       "      <th>b'\\xe2\\x80\\x9cProject Veritas-Obtained Undercover Videos Highlight Jeff Zucker\\xe2\\x80\\x99s (@CNN) Campaign To Destroy Trump. Videos Reveal\\xe2\\x80\\xa6 https://t.co/yJSfxoGt7e'</th>\n",
       "    </tr>\n",
       "  </thead>\n",
       "  <tbody>\n",
       "    <tr>\n",
       "      <th>0</th>\n",
       "      <td>realDonaldTrump</td>\n",
       "      <td>1183900672892309505</td>\n",
       "      <td>2019-10-15 00:21:30</td>\n",
       "      <td>Twitter for iPhone</td>\n",
       "      <td>8409</td>\n",
       "      <td>24211</td>\n",
       "      <td>b'A big scandal at @ABC News. They got caught ...</td>\n",
       "    </tr>\n",
       "    <tr>\n",
       "      <th>1</th>\n",
       "      <td>realDonaldTrump</td>\n",
       "      <td>1183899559124189184</td>\n",
       "      <td>2019-10-15 00:17:05</td>\n",
       "      <td>Twitter for iPhone</td>\n",
       "      <td>6571</td>\n",
       "      <td>21131</td>\n",
       "      <td>b'Shifty Schiff now seems to think they don\\xe...</td>\n",
       "    </tr>\n",
       "    <tr>\n",
       "      <th>2</th>\n",
       "      <td>realDonaldTrump</td>\n",
       "      <td>1183873633057476609</td>\n",
       "      <td>2019-10-14 22:34:04</td>\n",
       "      <td>Twitter Media Studio</td>\n",
       "      <td>11785</td>\n",
       "      <td>29106</td>\n",
       "      <td>b'\"The House gone rogue! I want to remind you ...</td>\n",
       "    </tr>\n",
       "    <tr>\n",
       "      <th>3</th>\n",
       "      <td>realDonaldTrump</td>\n",
       "      <td>1183869954640228352</td>\n",
       "      <td>2019-10-14 22:19:27</td>\n",
       "      <td>Twitter Media Studio</td>\n",
       "      <td>10572</td>\n",
       "      <td>27167</td>\n",
       "      <td>b'\"It doesn\\'t speak for the FULL HOUSE becaus...</td>\n",
       "    </tr>\n",
       "    <tr>\n",
       "      <th>4</th>\n",
       "      <td>realDonaldTrump</td>\n",
       "      <td>1183869189049737217</td>\n",
       "      <td>2019-10-14 22:16:24</td>\n",
       "      <td>Twitter Media Studio</td>\n",
       "      <td>9258</td>\n",
       "      <td>24080</td>\n",
       "      <td>b'\"The Democrat Party has hijacked the House o...</td>\n",
       "    </tr>\n",
       "  </tbody>\n",
       "</table>\n",
       "</div>"
      ],
      "text/plain": [
       "   realDonaldTrump  1183908206088728576  2019-10-15 00:51:26  \\\n",
       "0  realDonaldTrump  1183900672892309505  2019-10-15 00:21:30   \n",
       "1  realDonaldTrump  1183899559124189184  2019-10-15 00:17:05   \n",
       "2  realDonaldTrump  1183873633057476609  2019-10-14 22:34:04   \n",
       "3  realDonaldTrump  1183869954640228352  2019-10-14 22:19:27   \n",
       "4  realDonaldTrump  1183869189049737217  2019-10-14 22:16:24   \n",
       "\n",
       "     Twitter for iPhone   3183   7994  \\\n",
       "0    Twitter for iPhone   8409  24211   \n",
       "1    Twitter for iPhone   6571  21131   \n",
       "2  Twitter Media Studio  11785  29106   \n",
       "3  Twitter Media Studio  10572  27167   \n",
       "4  Twitter Media Studio   9258  24080   \n",
       "\n",
       "  b'\\xe2\\x80\\x9cProject Veritas-Obtained Undercover Videos Highlight Jeff Zucker\\xe2\\x80\\x99s (@CNN) Campaign To Destroy Trump. Videos Reveal\\xe2\\x80\\xa6 https://t.co/yJSfxoGt7e'  \n",
       "0  b'A big scandal at @ABC News. They got caught ...                                                                                                                                \n",
       "1  b'Shifty Schiff now seems to think they don\\xe...                                                                                                                                \n",
       "2  b'\"The House gone rogue! I want to remind you ...                                                                                                                                \n",
       "3  b'\"It doesn\\'t speak for the FULL HOUSE becaus...                                                                                                                                \n",
       "4  b'\"The Democrat Party has hijacked the House o...                                                                                                                                "
      ]
     },
     "execution_count": 17,
     "metadata": {
      "tags": []
     },
     "output_type": "execute_result"
    }
   ],
   "source": [
    "# check out the first five rows\n",
    "trump.head()"
   ]
  },
  {
   "cell_type": "markdown",
   "metadata": {
    "colab_type": "text",
    "id": "AGfOul50trLC"
   },
   "source": [
    "### _Observations_\n",
    "For the most part, this looks like we're off to a great start. However, it appears that the header row represents an actual tweet! This is a relatively easy fix; we'll recall the `pd.read_csv()` function, but this time include an additional input called `names` that'll contain a list of column names to assign to the DataFrame. Let us do this now!"
   ]
  },
  {
   "cell_type": "code",
   "execution_count": null,
   "metadata": {
    "colab": {},
    "colab_type": "code",
    "id": "qKRqlHc6zAO2"
   },
   "outputs": [],
   "source": [
    "# list containing the column names we want to assign the dataframe\n",
    "column_names = ['username', 'id', 'created_at', 'source', 'retweet_count', 'favorite_count', 'tweet']"
   ]
  },
  {
   "cell_type": "code",
   "execution_count": 19,
   "metadata": {
    "colab": {
     "base_uri": "https://localhost:8080/",
     "height": 293
    },
    "colab_type": "code",
    "id": "8_M7Ad1VyXhU",
    "outputId": "b5c5ec06-73d4-48eb-9b9f-a8e7f99f7872"
   },
   "outputs": [
    {
     "data": {
      "text/html": [
       "<div>\n",
       "<style scoped>\n",
       "    .dataframe tbody tr th:only-of-type {\n",
       "        vertical-align: middle;\n",
       "    }\n",
       "\n",
       "    .dataframe tbody tr th {\n",
       "        vertical-align: top;\n",
       "    }\n",
       "\n",
       "    .dataframe thead th {\n",
       "        text-align: right;\n",
       "    }\n",
       "</style>\n",
       "<table border=\"1\" class=\"dataframe\">\n",
       "  <thead>\n",
       "    <tr style=\"text-align: right;\">\n",
       "      <th></th>\n",
       "      <th>username</th>\n",
       "      <th>id</th>\n",
       "      <th>created_at</th>\n",
       "      <th>source</th>\n",
       "      <th>retweet_count</th>\n",
       "      <th>favorite_count</th>\n",
       "      <th>tweet</th>\n",
       "    </tr>\n",
       "  </thead>\n",
       "  <tbody>\n",
       "    <tr>\n",
       "      <th>0</th>\n",
       "      <td>realDonaldTrump</td>\n",
       "      <td>1183908206088728576</td>\n",
       "      <td>2019-10-15 00:51:26</td>\n",
       "      <td>Twitter for iPhone</td>\n",
       "      <td>3183</td>\n",
       "      <td>7994</td>\n",
       "      <td>b'\\xe2\\x80\\x9cProject Veritas-Obtained Underco...</td>\n",
       "    </tr>\n",
       "    <tr>\n",
       "      <th>1</th>\n",
       "      <td>realDonaldTrump</td>\n",
       "      <td>1183900672892309505</td>\n",
       "      <td>2019-10-15 00:21:30</td>\n",
       "      <td>Twitter for iPhone</td>\n",
       "      <td>8409</td>\n",
       "      <td>24211</td>\n",
       "      <td>b'A big scandal at @ABC News. They got caught ...</td>\n",
       "    </tr>\n",
       "    <tr>\n",
       "      <th>2</th>\n",
       "      <td>realDonaldTrump</td>\n",
       "      <td>1183899559124189184</td>\n",
       "      <td>2019-10-15 00:17:05</td>\n",
       "      <td>Twitter for iPhone</td>\n",
       "      <td>6571</td>\n",
       "      <td>21131</td>\n",
       "      <td>b'Shifty Schiff now seems to think they don\\xe...</td>\n",
       "    </tr>\n",
       "    <tr>\n",
       "      <th>3</th>\n",
       "      <td>realDonaldTrump</td>\n",
       "      <td>1183873633057476609</td>\n",
       "      <td>2019-10-14 22:34:04</td>\n",
       "      <td>Twitter Media Studio</td>\n",
       "      <td>11785</td>\n",
       "      <td>29106</td>\n",
       "      <td>b'\"The House gone rogue! I want to remind you ...</td>\n",
       "    </tr>\n",
       "    <tr>\n",
       "      <th>4</th>\n",
       "      <td>realDonaldTrump</td>\n",
       "      <td>1183869954640228352</td>\n",
       "      <td>2019-10-14 22:19:27</td>\n",
       "      <td>Twitter Media Studio</td>\n",
       "      <td>10572</td>\n",
       "      <td>27167</td>\n",
       "      <td>b'\"It doesn\\'t speak for the FULL HOUSE becaus...</td>\n",
       "    </tr>\n",
       "  </tbody>\n",
       "</table>\n",
       "</div>"
      ],
      "text/plain": [
       "          username                   id           created_at  \\\n",
       "0  realDonaldTrump  1183908206088728576  2019-10-15 00:51:26   \n",
       "1  realDonaldTrump  1183900672892309505  2019-10-15 00:21:30   \n",
       "2  realDonaldTrump  1183899559124189184  2019-10-15 00:17:05   \n",
       "3  realDonaldTrump  1183873633057476609  2019-10-14 22:34:04   \n",
       "4  realDonaldTrump  1183869954640228352  2019-10-14 22:19:27   \n",
       "\n",
       "                 source  retweet_count  favorite_count  \\\n",
       "0    Twitter for iPhone           3183            7994   \n",
       "1    Twitter for iPhone           8409           24211   \n",
       "2    Twitter for iPhone           6571           21131   \n",
       "3  Twitter Media Studio          11785           29106   \n",
       "4  Twitter Media Studio          10572           27167   \n",
       "\n",
       "                                               tweet  \n",
       "0  b'\\xe2\\x80\\x9cProject Veritas-Obtained Underco...  \n",
       "1  b'A big scandal at @ABC News. They got caught ...  \n",
       "2  b'Shifty Schiff now seems to think they don\\xe...  \n",
       "3  b'\"The House gone rogue! I want to remind you ...  \n",
       "4  b'\"It doesn\\'t speak for the FULL HOUSE becaus...  "
      ]
     },
     "execution_count": 19,
     "metadata": {
      "tags": []
     },
     "output_type": "execute_result"
    }
   ],
   "source": [
    "# create pandas dataframe\n",
    "trump = pd.read_csv('realDonaldTrump_tweets.csv', names=column_names)\n",
    "\n",
    "# recheck first few rows\n",
    "trump.head()"
   ]
  },
  {
   "cell_type": "code",
   "execution_count": 20,
   "metadata": {
    "colab": {
     "base_uri": "https://localhost:8080/",
     "height": 34
    },
    "colab_type": "code",
    "id": "sIqOXCDmyXau",
    "outputId": "dcbde896-bade-49dc-a0c6-1e90dff4ede7"
   },
   "outputs": [
    {
     "name": "stdout",
     "output_type": "stream",
     "text": [
      "There are 3199 rows and 7 columns in our Donald Trump tweet dataset.\n"
     ]
    }
   ],
   "source": [
    "# what is the shape of our dataframe?\n",
    "print('There are {} rows and {} columns in our Donald Trump tweet dataset.'.format(trump.shape[0], trump.shape[1]))"
   ]
  },
  {
   "cell_type": "markdown",
   "metadata": {
    "colab_type": "text",
    "id": "eQNbh5oD0sSc"
   },
   "source": [
    "As we can see above, we're working with 3198 tweets! Now it's time to explore the data a little bit and see how we might be able to clean it up into a more advantageous format."
   ]
  },
  {
   "cell_type": "code",
   "execution_count": 21,
   "metadata": {
    "colab": {
     "base_uri": "https://localhost:8080/",
     "height": 225
    },
    "colab_type": "code",
    "id": "5rSNJcLv0r0F",
    "outputId": "67c1e6d8-b952-41d3-b153-f54b9f167573"
   },
   "outputs": [
    {
     "name": "stdout",
     "output_type": "stream",
     "text": [
      "<class 'pandas.core.frame.DataFrame'>\n",
      "RangeIndex: 3199 entries, 0 to 3198\n",
      "Data columns (total 7 columns):\n",
      "username          3199 non-null object\n",
      "id                3199 non-null int64\n",
      "created_at        3199 non-null object\n",
      "source            3199 non-null object\n",
      "retweet_count     3199 non-null int64\n",
      "favorite_count    3199 non-null int64\n",
      "tweet             3199 non-null object\n",
      "dtypes: int64(3), object(4)\n",
      "memory usage: 175.0+ KB\n"
     ]
    }
   ],
   "source": [
    "# what data types are in each of the columns?\n",
    "trump.info()"
   ]
  },
  {
   "cell_type": "markdown",
   "metadata": {
    "colab_type": "text",
    "id": "bilIwO7o1aaV"
   },
   "source": [
    "We can see that by calling `info()`, we're able to get a good high-level overview of what is in each column. It looks like we're working with `int` and `object` data types. (FYI - `object` means strings).\n",
    "\n",
    "Now might be an excellent time to take a step back and assess what happened when we accessed the tweets with our `get_tweets` function and what was returned from the API.\n",
    "\n",
    "To access Donald Trump's tweets, we use what is called a `Cursor` object. Now, what is it? Well, when we use the Twitter API, we inevitably run into something called [pagination](http://docs.tweepy.org/en/v3.4.0/cursor_tutorial.html). In other words, we are often going to have to iterate over things to get the information we want. For example, the `get_tweets` iterates through `realDonaldTrump`'s timeline until it has gathered the number of tweets specified. \n",
    "\n",
    "What the `Cursor` does is simplify this iteration. Instead of a combination of `if-else` statements and `for` loops, we simply pass in the username! \n",
    "\n",
    "Ok, that's cool and all, but how do we go about collecting the actual tweets?\n",
    "\n",
    "The data returned from the API is called a Tweet object (really original...). Within this object, there is a long list of ‘root-level’ attributes, including fundamental attributes such as `id`, `created_at`, and `text`. ([source](https://developer.twitter.com/en/docs/tweets/data-dictionary/overview/tweet-object))\n",
    "\n",
    "For reference, I've decided to describe what each column represents below. I'll present the column name, then its subsequent description, data type and the Tweet object `Attribute` name (all of which can also be found at this [link](https://developer.twitter.com/en/docs/tweets/data-dictionary/overview/tweet-object)):\n",
    "\n",
    "- `username`: Twitter username/handle of individual of interest; in our function we technically used the username that was input in the `get_tweets` function; this could be accessed however by calling `user`, which returns a [User object](https://developer.twitter.com/en/docs/tweets/data-dictionary/overview/user-object) that is also a data dictionary containing assorted data about the user \n",
    "- `id`: the unique identifier of the tweet, the root-level attribute name is `id_str`, which returns a string; there is technically another attribute that returns the same thing, but as an `int` however, Twitter advises using the string version to be on the safe side\n",
    "- `created_at`: UTC time when Tweet was created, the root-level attribute name is also `created_at` which returns a string type\n",
    "- `source`: utility used to post the tweet, i.e. 'did you use your smartphone or computer/laptop to post it?', the root-level attribute name is also `source` which returns a string type\n",
    "- `retweet_count`: number of times tweet has been retweeted, the root-level attribute name is `retweet-count` which returns an integer type\n",
    "- `favorite_count`: approximately how many times the tweet's been liked by other users, the root-level attribute name is also `favorite_count` which returns an integer type\n",
    "- `tweet`: the actual text of the tweet, the root-level attribute name is `text` which returns a string type\n",
    "\n",
    "As we can see though, there is a mismatch between the columns and their types, the most obvious being the `id` column. Despite us retrieving the `id_str` attribute from the Tweet object, `pandas` saw the numbers and implied that it should be an `int` type instead.\n",
    "\n",
    "Luckily we can fix this as the `read_csv()` function has a way for us to define data types for each column by inputting a dictionary into the `dtype` parameter. Let's go ahead and create this dictionary and then pass it into the CSV function again! After all, third time is a charm!"
   ]
  },
  {
   "cell_type": "code",
   "execution_count": 22,
   "metadata": {
    "colab": {
     "base_uri": "https://localhost:8080/",
     "height": 34
    },
    "colab_type": "code",
    "id": "eLEl-EJZNe2Q",
    "outputId": "94cae09d-ff60-4cf9-e1f9-00a98de70f25"
   },
   "outputs": [
    {
     "name": "stdout",
     "output_type": "stream",
     "text": [
      "['username', 'id', 'created_at', 'source', 'retweet_count', 'favorite_count', 'tweet']\n"
     ]
    }
   ],
   "source": [
    "# print list of column names\n",
    "print(list(trump.columns))"
   ]
  },
  {
   "cell_type": "code",
   "execution_count": null,
   "metadata": {
    "colab": {},
    "colab_type": "code",
    "id": "bf_BnSoJNSqw"
   },
   "outputs": [],
   "source": [
    "# create dictionary with column name as keys and data types as the values\n",
    "dtypes = {'id': str}"
   ]
  },
  {
   "cell_type": "markdown",
   "metadata": {
    "colab_type": "text",
    "id": "V4mwz7M5OqA4"
   },
   "source": [
    "Another thing we can do is attempt to address the dates up-front in the `created_at` column. At this point in time, `pandas` returns the values in that column as a string; yet, there are two parameters - `parse_dates` & `infer_datetime_format` - we can use to potentially address this datetime issue upfront. \n",
    "\n",
    "So, here are the next two things we'll be doing: \n",
    "1. Making sure the `id` column is returned as a string type\n",
    "2. Assign a value of `True` to both the `parse_dates` and `infer_datetime_format` so that pandas converts the `created_at` column from a string type to a hopefully correctly formatted datetime type."
   ]
  },
  {
   "cell_type": "code",
   "execution_count": 24,
   "metadata": {
    "colab": {
     "base_uri": "https://localhost:8080/",
     "height": 293
    },
    "colab_type": "code",
    "id": "daoMVHE5PtiP",
    "outputId": "c072c648-9532-47a1-d529-ea58a39be577"
   },
   "outputs": [
    {
     "data": {
      "text/html": [
       "<div>\n",
       "<style scoped>\n",
       "    .dataframe tbody tr th:only-of-type {\n",
       "        vertical-align: middle;\n",
       "    }\n",
       "\n",
       "    .dataframe tbody tr th {\n",
       "        vertical-align: top;\n",
       "    }\n",
       "\n",
       "    .dataframe thead th {\n",
       "        text-align: right;\n",
       "    }\n",
       "</style>\n",
       "<table border=\"1\" class=\"dataframe\">\n",
       "  <thead>\n",
       "    <tr style=\"text-align: right;\">\n",
       "      <th></th>\n",
       "      <th>username</th>\n",
       "      <th>id</th>\n",
       "      <th>created_at</th>\n",
       "      <th>source</th>\n",
       "      <th>retweet_count</th>\n",
       "      <th>favorite_count</th>\n",
       "      <th>tweet</th>\n",
       "    </tr>\n",
       "  </thead>\n",
       "  <tbody>\n",
       "    <tr>\n",
       "      <th>0</th>\n",
       "      <td>realDonaldTrump</td>\n",
       "      <td>1183908206088728576</td>\n",
       "      <td>2019-10-15 00:51:26</td>\n",
       "      <td>Twitter for iPhone</td>\n",
       "      <td>3183</td>\n",
       "      <td>7994</td>\n",
       "      <td>b'\\xe2\\x80\\x9cProject Veritas-Obtained Underco...</td>\n",
       "    </tr>\n",
       "    <tr>\n",
       "      <th>1</th>\n",
       "      <td>realDonaldTrump</td>\n",
       "      <td>1183900672892309505</td>\n",
       "      <td>2019-10-15 00:21:30</td>\n",
       "      <td>Twitter for iPhone</td>\n",
       "      <td>8409</td>\n",
       "      <td>24211</td>\n",
       "      <td>b'A big scandal at @ABC News. They got caught ...</td>\n",
       "    </tr>\n",
       "    <tr>\n",
       "      <th>2</th>\n",
       "      <td>realDonaldTrump</td>\n",
       "      <td>1183899559124189184</td>\n",
       "      <td>2019-10-15 00:17:05</td>\n",
       "      <td>Twitter for iPhone</td>\n",
       "      <td>6571</td>\n",
       "      <td>21131</td>\n",
       "      <td>b'Shifty Schiff now seems to think they don\\xe...</td>\n",
       "    </tr>\n",
       "    <tr>\n",
       "      <th>3</th>\n",
       "      <td>realDonaldTrump</td>\n",
       "      <td>1183873633057476609</td>\n",
       "      <td>2019-10-14 22:34:04</td>\n",
       "      <td>Twitter Media Studio</td>\n",
       "      <td>11785</td>\n",
       "      <td>29106</td>\n",
       "      <td>b'\"The House gone rogue! I want to remind you ...</td>\n",
       "    </tr>\n",
       "    <tr>\n",
       "      <th>4</th>\n",
       "      <td>realDonaldTrump</td>\n",
       "      <td>1183869954640228352</td>\n",
       "      <td>2019-10-14 22:19:27</td>\n",
       "      <td>Twitter Media Studio</td>\n",
       "      <td>10572</td>\n",
       "      <td>27167</td>\n",
       "      <td>b'\"It doesn\\'t speak for the FULL HOUSE becaus...</td>\n",
       "    </tr>\n",
       "  </tbody>\n",
       "</table>\n",
       "</div>"
      ],
      "text/plain": [
       "          username                   id          created_at  \\\n",
       "0  realDonaldTrump  1183908206088728576 2019-10-15 00:51:26   \n",
       "1  realDonaldTrump  1183900672892309505 2019-10-15 00:21:30   \n",
       "2  realDonaldTrump  1183899559124189184 2019-10-15 00:17:05   \n",
       "3  realDonaldTrump  1183873633057476609 2019-10-14 22:34:04   \n",
       "4  realDonaldTrump  1183869954640228352 2019-10-14 22:19:27   \n",
       "\n",
       "                 source  retweet_count  favorite_count  \\\n",
       "0    Twitter for iPhone           3183            7994   \n",
       "1    Twitter for iPhone           8409           24211   \n",
       "2    Twitter for iPhone           6571           21131   \n",
       "3  Twitter Media Studio          11785           29106   \n",
       "4  Twitter Media Studio          10572           27167   \n",
       "\n",
       "                                               tweet  \n",
       "0  b'\\xe2\\x80\\x9cProject Veritas-Obtained Underco...  \n",
       "1  b'A big scandal at @ABC News. They got caught ...  \n",
       "2  b'Shifty Schiff now seems to think they don\\xe...  \n",
       "3  b'\"The House gone rogue! I want to remind you ...  \n",
       "4  b'\"It doesn\\'t speak for the FULL HOUSE becaus...  "
      ]
     },
     "execution_count": 24,
     "metadata": {
      "tags": []
     },
     "output_type": "execute_result"
    }
   ],
   "source": [
    "# create pandas dataframe\n",
    "trump = pd.read_csv('realDonaldTrump_tweets.csv', names=column_names, dtype=dtypes, parse_dates=['created_at'], infer_datetime_format=True)\n",
    "\n",
    "trump.head()"
   ]
  },
  {
   "cell_type": "code",
   "execution_count": 25,
   "metadata": {
    "colab": {
     "base_uri": "https://localhost:8080/",
     "height": 225
    },
    "colab_type": "code",
    "id": "uUz7vUdDPtd_",
    "outputId": "2d08cc22-766d-499a-b564-7b8444b26be8"
   },
   "outputs": [
    {
     "name": "stdout",
     "output_type": "stream",
     "text": [
      "<class 'pandas.core.frame.DataFrame'>\n",
      "RangeIndex: 3199 entries, 0 to 3198\n",
      "Data columns (total 7 columns):\n",
      "username          3199 non-null object\n",
      "id                3199 non-null object\n",
      "created_at        3199 non-null datetime64[ns]\n",
      "source            3199 non-null object\n",
      "retweet_count     3199 non-null int64\n",
      "favorite_count    3199 non-null int64\n",
      "tweet             3199 non-null object\n",
      "dtypes: datetime64[ns](1), int64(2), object(4)\n",
      "memory usage: 175.0+ KB\n"
     ]
    }
   ],
   "source": [
    "trump.info()"
   ]
  },
  {
   "cell_type": "markdown",
   "metadata": {
    "colab_type": "text",
    "id": "hXaOngNTRPJ2"
   },
   "source": [
    "Yes! Looks like we're good to go in terms of the correct data types for each column! \n",
    "\n",
    "Unfortunately, I think this is a great point to call it a day. Tomorrow I'll start getting into the fun stuff: analyzing and visualizing the data we've gathered, with a particular focus on the text of the tweets!\n",
    "\n",
    "Until then, auf wiedersehen! "
   ]
  }
 ],
 "metadata": {
  "colab": {
   "collapsed_sections": [],
   "name": "intro-gathering-tweets.ipynb",
   "provenance": []
  },
  "kernelspec": {
   "display_name": "Python 3",
   "language": "python",
   "name": "python3"
  },
  "language_info": {
   "codemirror_mode": {
    "name": "ipython",
    "version": 3
   },
   "file_extension": ".py",
   "mimetype": "text/x-python",
   "name": "python",
   "nbconvert_exporter": "python",
   "pygments_lexer": "ipython3",
   "version": "3.7.3"
  }
 },
 "nbformat": 4,
 "nbformat_minor": 4
}
