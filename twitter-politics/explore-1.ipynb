{
 "cells": [
  {
   "cell_type": "markdown",
   "metadata": {},
   "source": [
    "# _Initial Exploration with `TextBlob`_\n",
    "\n",
    "So we figured out how to utilize the Twitter API to download 3,199 of Donald Trump's most recent tweets (as of late-afternoon on October 14, 2019). This is a good start as far as data retrieval goes for this project however simply downloading tweets to a CSV is the foundation. The goal for the web-app is to be able to analyze user's tweets in (near) real-time so we'll need to dive further into things like how to store these tweets (perhaps in a database of some sort) and how to stream new tweets, add them to some data set, and update said storage. \n",
    "\n",
    "That will be for another day though. Today's focus will be on something called sentiment analysis. Here's the definition according to _Wikipedia_:\n",
    "\n",
    "    Sentiment analysis (also known as opinion mining or emotion AI) refers to the use of natural language processing, text analysis, computational linguistics, and biometrics to systematically identify, extract, quantify, and study affective states and subjective information. Sentiment analysis is widely applied to voice of the customer materials such as reviews and survey responses, online and social media, and healthcare materials for applications that range from marketing to customer service to clinical medicine.\n",
    "    \n",
    "There are quite a few NLP tools available to us in Python, but the first one we'll be checking out is called [`TextBlob`](https://textblob.readthedocs.io/en/dev/). From my experience, it is fairly easy to get up and going with this particular library and it offers a nice range of features in addition to sentiment analysis, including:\n",
    "\n",
    "- Noun phrase extraction\n",
    "- Part-of-speech tagging\n",
    "- Sentiment analysis\n",
    "- Classification (Naive Bayes, Decision Tree)\n",
    "- Language translation and detection powered by Google Translate\n",
    "- Tokenization (splitting text into words and sentences)\n",
    "- Word and phrase frequencies\n",
    "- Parsing\n",
    "- n-grams\n",
    "- Word inflection (pluralization and singularization) and lemmatization\n",
    "- Spelling correction\n",
    "- Add new models or languages through extensions\n",
    "- WordNet integration\n",
    "\n",
    "We'll start by loading in the CSV containing the information pulled from Twitter and then do a simple example with `textblob` to show some of the basic functionality.\n",
    "\n",
    "As a reminder there are a few things that we need to input in our `read_csv` call in order to return our `pandas` DataFrame in the appropriate format. These include:\n",
    "\n",
    "1. Creating a list of column names\n",
    "2. Create a dictionary that ensures the `id` column is a `str` type\n",
    "3. Assign a value of `True` to both the `parse_dates` and `infer_datetime_format` so that `pandas` converts the `created_at` column from a string type to a hopefully correctly formatted datetime type."
   ]
  },
  {
   "cell_type": "code",
   "execution_count": 1,
   "metadata": {},
   "outputs": [
    {
     "name": "stdout",
     "output_type": "stream",
     "text": [
      "The current working directory is /Users/jai/Documents/projects/twitter-politics.\n"
     ]
    }
   ],
   "source": [
    "# ensure we're in correct directory\n",
    "import os\n",
    "\n",
    "print('The current working directory is {}.'.format(os.getcwd()))"
   ]
  },
  {
   "cell_type": "code",
   "execution_count": 4,
   "metadata": {},
   "outputs": [
    {
     "name": "stdout",
     "output_type": "stream",
     "text": [
      "/Users/jai/Documents/projects/twitter-politics\n"
     ]
    }
   ],
   "source": [
    "# import Path to make working with directory even more manageable\n",
    "from pathlib import Path\n",
    "\n",
    "# store our main directory path in a variable in case we need to access/download information in that locaton directly\n",
    "PATH = Path(os.getcwd())\n",
    "print(PATH)"
   ]
  },
  {
   "cell_type": "code",
   "execution_count": 6,
   "metadata": {},
   "outputs": [
    {
     "data": {
      "text/html": [
       "<div>\n",
       "<style scoped>\n",
       "    .dataframe tbody tr th:only-of-type {\n",
       "        vertical-align: middle;\n",
       "    }\n",
       "\n",
       "    .dataframe tbody tr th {\n",
       "        vertical-align: top;\n",
       "    }\n",
       "\n",
       "    .dataframe thead th {\n",
       "        text-align: right;\n",
       "    }\n",
       "</style>\n",
       "<table border=\"1\" class=\"dataframe\">\n",
       "  <thead>\n",
       "    <tr style=\"text-align: right;\">\n",
       "      <th></th>\n",
       "      <th>username</th>\n",
       "      <th>id</th>\n",
       "      <th>created_at</th>\n",
       "      <th>source</th>\n",
       "      <th>retweet_count</th>\n",
       "      <th>favorite_count</th>\n",
       "      <th>tweet</th>\n",
       "    </tr>\n",
       "  </thead>\n",
       "  <tbody>\n",
       "    <tr>\n",
       "      <th>0</th>\n",
       "      <td>realDonaldTrump</td>\n",
       "      <td>1183908206088728576</td>\n",
       "      <td>2019-10-15 00:51:26</td>\n",
       "      <td>Twitter for iPhone</td>\n",
       "      <td>3183</td>\n",
       "      <td>7994</td>\n",
       "      <td>b'\\xe2\\x80\\x9cProject Veritas-Obtained Underco...</td>\n",
       "    </tr>\n",
       "    <tr>\n",
       "      <th>1</th>\n",
       "      <td>realDonaldTrump</td>\n",
       "      <td>1183900672892309505</td>\n",
       "      <td>2019-10-15 00:21:30</td>\n",
       "      <td>Twitter for iPhone</td>\n",
       "      <td>8409</td>\n",
       "      <td>24211</td>\n",
       "      <td>b'A big scandal at @ABC News. They got caught ...</td>\n",
       "    </tr>\n",
       "    <tr>\n",
       "      <th>2</th>\n",
       "      <td>realDonaldTrump</td>\n",
       "      <td>1183899559124189184</td>\n",
       "      <td>2019-10-15 00:17:05</td>\n",
       "      <td>Twitter for iPhone</td>\n",
       "      <td>6571</td>\n",
       "      <td>21131</td>\n",
       "      <td>b'Shifty Schiff now seems to think they don\\xe...</td>\n",
       "    </tr>\n",
       "    <tr>\n",
       "      <th>3</th>\n",
       "      <td>realDonaldTrump</td>\n",
       "      <td>1183873633057476609</td>\n",
       "      <td>2019-10-14 22:34:04</td>\n",
       "      <td>Twitter Media Studio</td>\n",
       "      <td>11785</td>\n",
       "      <td>29106</td>\n",
       "      <td>b'\"The House gone rogue! I want to remind you ...</td>\n",
       "    </tr>\n",
       "    <tr>\n",
       "      <th>4</th>\n",
       "      <td>realDonaldTrump</td>\n",
       "      <td>1183869954640228352</td>\n",
       "      <td>2019-10-14 22:19:27</td>\n",
       "      <td>Twitter Media Studio</td>\n",
       "      <td>10572</td>\n",
       "      <td>27167</td>\n",
       "      <td>b'\"It doesn\\'t speak for the FULL HOUSE becaus...</td>\n",
       "    </tr>\n",
       "  </tbody>\n",
       "</table>\n",
       "</div>"
      ],
      "text/plain": [
       "          username                   id          created_at  \\\n",
       "0  realDonaldTrump  1183908206088728576 2019-10-15 00:51:26   \n",
       "1  realDonaldTrump  1183900672892309505 2019-10-15 00:21:30   \n",
       "2  realDonaldTrump  1183899559124189184 2019-10-15 00:17:05   \n",
       "3  realDonaldTrump  1183873633057476609 2019-10-14 22:34:04   \n",
       "4  realDonaldTrump  1183869954640228352 2019-10-14 22:19:27   \n",
       "\n",
       "                 source  retweet_count  favorite_count  \\\n",
       "0    Twitter for iPhone           3183            7994   \n",
       "1    Twitter for iPhone           8409           24211   \n",
       "2    Twitter for iPhone           6571           21131   \n",
       "3  Twitter Media Studio          11785           29106   \n",
       "4  Twitter Media Studio          10572           27167   \n",
       "\n",
       "                                               tweet  \n",
       "0  b'\\xe2\\x80\\x9cProject Veritas-Obtained Underco...  \n",
       "1  b'A big scandal at @ABC News. They got caught ...  \n",
       "2  b'Shifty Schiff now seems to think they don\\xe...  \n",
       "3  b'\"The House gone rogue! I want to remind you ...  \n",
       "4  b'\"It doesn\\'t speak for the FULL HOUSE becaus...  "
      ]
     },
     "execution_count": 6,
     "metadata": {},
     "output_type": "execute_result"
    }
   ],
   "source": [
    "# import pandas\n",
    "import pandas as pd\n",
    "# changes the default setting so that all columns are output for a pandas Df\n",
    "pd.set_option('display.max_columns', None)\n",
    "\n",
    "# list containing the column names we want to assign the dataframe\n",
    "column_names = ['username', 'id', 'created_at', 'source', 'retweet_count', 'favorite_count', 'tweet']\n",
    "\n",
    "# create dictionary with column name as keys and data types as the values\n",
    "dtypes = {'id': str}\n",
    "\n",
    "# import the Twitter data\n",
    "data = pd.read_csv('data/realDonaldTrump_tweets.csv', names=column_names, dtype=dtypes, \n",
    "                   parse_dates=['created_at'], infer_datetime_format=True)\n",
    "\n",
    "# see first few rows\n",
    "data.head()"
   ]
  },
  {
   "cell_type": "code",
   "execution_count": 7,
   "metadata": {},
   "outputs": [
    {
     "name": "stdout",
     "output_type": "stream",
     "text": [
      "<class 'pandas.core.frame.DataFrame'>\n",
      "RangeIndex: 3199 entries, 0 to 3198\n",
      "Data columns (total 7 columns):\n",
      "username          3199 non-null object\n",
      "id                3199 non-null object\n",
      "created_at        3199 non-null datetime64[ns]\n",
      "source            3199 non-null object\n",
      "retweet_count     3199 non-null int64\n",
      "favorite_count    3199 non-null int64\n",
      "tweet             3199 non-null object\n",
      "dtypes: datetime64[ns](1), int64(2), object(4)\n",
      "memory usage: 175.0+ KB\n"
     ]
    }
   ],
   "source": [
    "# ensure data types in each column are appropriate\n",
    "data.info()"
   ]
  },
  {
   "cell_type": "markdown",
   "metadata": {},
   "source": [
    "### _Simple `TextBlob` Example_\n",
    "\n",
    "We'll now take the text from the first tweet and showcase a few basic features from the `TextBlob` library, including:\n",
    "\n",
    "- `tags`\n",
    "- `noun_phrases`\n",
    "- `polarity`\n",
    "\n",
    "And we'll even see what happens when we try to translate the tweet into Spanish!"
   ]
  },
  {
   "cell_type": "code",
   "execution_count": 25,
   "metadata": {},
   "outputs": [
    {
     "name": "stdout",
     "output_type": "stream",
     "text": [
      "[(\"b'Shifty\", 'JJ'), ('Schiff', 'NNP'), ('now', 'RB'), ('seems', 'VBZ'), ('to', 'TO'), ('think', 'VB'), ('they', 'PRP'), ('don\\\\xe2\\\\x80\\\\x99t', 'VBP'), ('need', 'VBP'), ('the', 'DT'), ('Whistleblower', 'NNP'), ('who', 'WP'), ('started', 'VBD'), ('the', 'DT'), ('whole', 'JJ'), ('Scam', 'NNP'), ('The', 'DT'), ('reason', 'NN'), ('is', 'VBZ'), ('that\\\\xe2\\\\x80\\\\xa6', 'JJ'), ('https', 'NN'), ('//t.co/nuvZedQ0M4', 'NN')]\n"
     ]
    }
   ],
   "source": [
    "# import TextBlob\n",
    "from textblob import TextBlob\n",
    "\n",
    "# pull the third tweet\n",
    "text = data['tweet'][2]\n",
    "\n",
    "# create textblob object\n",
    "blob = TextBlob(text)\n",
    "\n",
    "# print out tags\n",
    "print(blob.tags)"
   ]
  },
  {
   "cell_type": "code",
   "execution_count": 26,
   "metadata": {},
   "outputs": [
    {
     "name": "stdout",
     "output_type": "stream",
     "text": [
      "['schiff', 'don\\\\xe2\\\\x80\\\\x99t need', 'whistleblower', 'scam', 'that\\\\xe2\\\\x80\\\\xa6 https']\n"
     ]
    }
   ],
   "source": [
    "# print out noun phrases\n",
    "print(blob.noun_phrases)"
   ]
  },
  {
   "cell_type": "code",
   "execution_count": 27,
   "metadata": {},
   "outputs": [
    {
     "name": "stdout",
     "output_type": "stream",
     "text": [
      "0.2\n"
     ]
    }
   ],
   "source": [
    "# return polarity of the tweet\n",
    "print(blob.sentiment.polarity)"
   ]
  },
  {
   "cell_type": "code",
   "execution_count": 28,
   "metadata": {},
   "outputs": [
    {
     "data": {
      "text/plain": [
       "TextBlob(\"b 'Shifty Schiff ahora parece pensar que no \\ xe2 \\ x80 \\ x99t necesitan al Denunciante, que comenzó toda la estafa. La razón es que \\ xe2 \\ x80 \\ xa6 https://t.co/nuvZedQ0M4 '\")"
      ]
     },
     "execution_count": 28,
     "metadata": {},
     "output_type": "execute_result"
    }
   ],
   "source": [
    "# translate to Spanish\n",
    "blob.translate(to=\"es\")"
   ]
  },
  {
   "cell_type": "code",
   "execution_count": null,
   "metadata": {},
   "outputs": [],
   "source": []
  }
 ],
 "metadata": {
  "kernelspec": {
   "display_name": "Python 3",
   "language": "python",
   "name": "python3"
  },
  "language_info": {
   "codemirror_mode": {
    "name": "ipython",
    "version": 3
   },
   "file_extension": ".py",
   "mimetype": "text/x-python",
   "name": "python",
   "nbconvert_exporter": "python",
   "pygments_lexer": "ipython3",
   "version": "3.7.3"
  }
 },
 "nbformat": 4,
 "nbformat_minor": 4
}
