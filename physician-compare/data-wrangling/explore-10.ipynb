{
 "cells": [
  {
   "cell_type": "markdown",
   "metadata": {},
   "source": [
    "# _Physician Compare National: Explore #10_\n",
    "\n",
    "This notebook is a continuation from of my analysis on the following data gathered via [Data.Medicare.gov](https://data.medicare.gov/Physician-Compare/Physician-Compare-National-Downloadable-File/mj5m-pzi6). It contains general information about individual eligible professionals (EPs) such as demographic information and Medicare quality program participation. This dataset is updated twice a month with the most current demographic information available at that time.\n",
    "\n",
    "# _Today's Goal(s)_\n",
    "\n",
    "Keep working with how to best clean up the zip code column. Now, why am I spending so much time on this particular column? Zip codes are probably going to be our most important geoindicator for this project. We'll use this value to place each observation into the correct location, which will then be used to (hopefully) generate a wide-range of interactive visualizations."
   ]
  },
  {
   "cell_type": "code",
   "execution_count": 1,
   "metadata": {},
   "outputs": [
    {
     "name": "stdout",
     "output_type": "stream",
     "text": [
      "Work started:  2019-10-07 09:26:23.961108\n"
     ]
    }
   ],
   "source": [
    "from datetime import datetime\n",
    "\n",
    "# current date and time\n",
    "now = datetime.now()\n",
    "\n",
    "# timestamp to signify the beginning of work\n",
    "print(\"Work started: \", now)"
   ]
  },
  {
   "cell_type": "code",
   "execution_count": 2,
   "metadata": {},
   "outputs": [
    {
     "data": {
      "text/html": [
       "<div>\n",
       "<style scoped>\n",
       "    .dataframe tbody tr th:only-of-type {\n",
       "        vertical-align: middle;\n",
       "    }\n",
       "\n",
       "    .dataframe tbody tr th {\n",
       "        vertical-align: top;\n",
       "    }\n",
       "\n",
       "    .dataframe thead th {\n",
       "        text-align: right;\n",
       "    }\n",
       "</style>\n",
       "<table border=\"1\" class=\"dataframe\">\n",
       "  <thead>\n",
       "    <tr style=\"text-align: right;\">\n",
       "      <th></th>\n",
       "      <th>npi</th>\n",
       "      <th>ind_pac_id</th>\n",
       "      <th>ind_enrl_id</th>\n",
       "      <th>full_nm</th>\n",
       "      <th>gndr</th>\n",
       "      <th>cred</th>\n",
       "      <th>med_sch</th>\n",
       "      <th>grd_yr</th>\n",
       "      <th>pri_spec</th>\n",
       "      <th>sec_spec_1</th>\n",
       "      <th>sec_spec_2</th>\n",
       "      <th>sec_spec_3</th>\n",
       "      <th>sec_spec_4</th>\n",
       "      <th>sec_spec_all</th>\n",
       "      <th>org_lgl_nm</th>\n",
       "      <th>org_pac_id</th>\n",
       "      <th>num_org_mem</th>\n",
       "      <th>full_adr</th>\n",
       "      <th>ln_2_sprs</th>\n",
       "      <th>cty</th>\n",
       "      <th>st</th>\n",
       "      <th>zip</th>\n",
       "      <th>phn_numbr</th>\n",
       "      <th>hosp_afl_1</th>\n",
       "      <th>hosp_afl_lbn_1</th>\n",
       "      <th>hosp_afl_2</th>\n",
       "      <th>hosp_afl_lbn_2</th>\n",
       "      <th>hosp_afl_3</th>\n",
       "      <th>hosp_afl_lbn_3</th>\n",
       "      <th>hosp_afl_4</th>\n",
       "      <th>hosp_afl_lbn_4</th>\n",
       "      <th>hosp_afl_5</th>\n",
       "      <th>hosp_afl_lbn_5</th>\n",
       "      <th>assgn</th>\n",
       "    </tr>\n",
       "  </thead>\n",
       "  <tbody>\n",
       "    <tr>\n",
       "      <th>0</th>\n",
       "      <td>1003000126</td>\n",
       "      <td>7517003643</td>\n",
       "      <td>I20130530000085</td>\n",
       "      <td>ARDALAN  ENKESHAFI</td>\n",
       "      <td>M</td>\n",
       "      <td>Not Listed</td>\n",
       "      <td>OTHER</td>\n",
       "      <td>1994</td>\n",
       "      <td>INTERNAL MEDICINE</td>\n",
       "      <td>None</td>\n",
       "      <td>None</td>\n",
       "      <td>None</td>\n",
       "      <td>None</td>\n",
       "      <td>None</td>\n",
       "      <td>EMERGENCY MEDICINE ASSOCIATES PA PC</td>\n",
       "      <td>8.022915e+09</td>\n",
       "      <td>182</td>\n",
       "      <td>1850 TOWN CTR PKWY</td>\n",
       "      <td>N</td>\n",
       "      <td>RESTON</td>\n",
       "      <td>VA</td>\n",
       "      <td>201903219</td>\n",
       "      <td>7.036899e+09</td>\n",
       "      <td>490112.0</td>\n",
       "      <td>CJW MEDICAL CENTER</td>\n",
       "      <td>210028.0</td>\n",
       "      <td>MEDSTAR SAINT MARY'S HOSPITAL</td>\n",
       "      <td>NaN</td>\n",
       "      <td>NaN</td>\n",
       "      <td>NaN</td>\n",
       "      <td>NaN</td>\n",
       "      <td>NaN</td>\n",
       "      <td>NaN</td>\n",
       "      <td>Y</td>\n",
       "    </tr>\n",
       "    <tr>\n",
       "      <th>1</th>\n",
       "      <td>1003000126</td>\n",
       "      <td>7517003643</td>\n",
       "      <td>I20130530000085</td>\n",
       "      <td>ARDALAN  ENKESHAFI</td>\n",
       "      <td>M</td>\n",
       "      <td>Not Listed</td>\n",
       "      <td>OTHER</td>\n",
       "      <td>1994</td>\n",
       "      <td>INTERNAL MEDICINE</td>\n",
       "      <td>None</td>\n",
       "      <td>None</td>\n",
       "      <td>None</td>\n",
       "      <td>None</td>\n",
       "      <td>None</td>\n",
       "      <td>EMERGENCY MEDICINE ASSOCIATES PA PC</td>\n",
       "      <td>8.022915e+09</td>\n",
       "      <td>182</td>\n",
       "      <td>1701 N GEORGE MASON DR</td>\n",
       "      <td>N</td>\n",
       "      <td>ARLINGTON</td>\n",
       "      <td>VA</td>\n",
       "      <td>222053610</td>\n",
       "      <td>7.035586e+09</td>\n",
       "      <td>490112.0</td>\n",
       "      <td>CJW MEDICAL CENTER</td>\n",
       "      <td>210028.0</td>\n",
       "      <td>MEDSTAR SAINT MARY'S HOSPITAL</td>\n",
       "      <td>NaN</td>\n",
       "      <td>NaN</td>\n",
       "      <td>NaN</td>\n",
       "      <td>NaN</td>\n",
       "      <td>NaN</td>\n",
       "      <td>NaN</td>\n",
       "      <td>Y</td>\n",
       "    </tr>\n",
       "    <tr>\n",
       "      <th>2</th>\n",
       "      <td>1003000126</td>\n",
       "      <td>7517003643</td>\n",
       "      <td>I20150824000105</td>\n",
       "      <td>ARDALAN  ENKESHAFI</td>\n",
       "      <td>M</td>\n",
       "      <td>Not Listed</td>\n",
       "      <td>OTHER</td>\n",
       "      <td>1994</td>\n",
       "      <td>INTERNAL MEDICINE</td>\n",
       "      <td>None</td>\n",
       "      <td>None</td>\n",
       "      <td>None</td>\n",
       "      <td>None</td>\n",
       "      <td>None</td>\n",
       "      <td>EMERGENCY MEDICINE ASSOCIATES PA PC</td>\n",
       "      <td>8.022915e+09</td>\n",
       "      <td>182</td>\n",
       "      <td>24440 STONE SPRINGS BLVD</td>\n",
       "      <td>N</td>\n",
       "      <td>DULLES</td>\n",
       "      <td>VA</td>\n",
       "      <td>201662247</td>\n",
       "      <td>5.713674e+09</td>\n",
       "      <td>490112.0</td>\n",
       "      <td>CJW MEDICAL CENTER</td>\n",
       "      <td>210028.0</td>\n",
       "      <td>MEDSTAR SAINT MARY'S HOSPITAL</td>\n",
       "      <td>NaN</td>\n",
       "      <td>NaN</td>\n",
       "      <td>NaN</td>\n",
       "      <td>NaN</td>\n",
       "      <td>NaN</td>\n",
       "      <td>NaN</td>\n",
       "      <td>Y</td>\n",
       "    </tr>\n",
       "    <tr>\n",
       "      <th>3</th>\n",
       "      <td>1003000126</td>\n",
       "      <td>7517003643</td>\n",
       "      <td>I20150824000105</td>\n",
       "      <td>ARDALAN  ENKESHAFI</td>\n",
       "      <td>M</td>\n",
       "      <td>Not Listed</td>\n",
       "      <td>OTHER</td>\n",
       "      <td>1994</td>\n",
       "      <td>INTERNAL MEDICINE</td>\n",
       "      <td>None</td>\n",
       "      <td>None</td>\n",
       "      <td>None</td>\n",
       "      <td>None</td>\n",
       "      <td>None</td>\n",
       "      <td>SOUTHEASTERN INTENSIVIST SERVICES PC</td>\n",
       "      <td>9.335152e+09</td>\n",
       "      <td>133</td>\n",
       "      <td>1401 JOHNSTON WILLIS DR</td>\n",
       "      <td>N</td>\n",
       "      <td>NORTH CHESTERFIELD</td>\n",
       "      <td>VA</td>\n",
       "      <td>232354730</td>\n",
       "      <td>8.044835e+09</td>\n",
       "      <td>490112.0</td>\n",
       "      <td>CJW MEDICAL CENTER</td>\n",
       "      <td>210028.0</td>\n",
       "      <td>MEDSTAR SAINT MARY'S HOSPITAL</td>\n",
       "      <td>NaN</td>\n",
       "      <td>NaN</td>\n",
       "      <td>NaN</td>\n",
       "      <td>NaN</td>\n",
       "      <td>NaN</td>\n",
       "      <td>NaN</td>\n",
       "      <td>Y</td>\n",
       "    </tr>\n",
       "    <tr>\n",
       "      <th>4</th>\n",
       "      <td>1003000126</td>\n",
       "      <td>7517003643</td>\n",
       "      <td>I20150824000105</td>\n",
       "      <td>ARDALAN  ENKESHAFI</td>\n",
       "      <td>M</td>\n",
       "      <td>Not Listed</td>\n",
       "      <td>OTHER</td>\n",
       "      <td>1994</td>\n",
       "      <td>INTERNAL MEDICINE</td>\n",
       "      <td>None</td>\n",
       "      <td>None</td>\n",
       "      <td>None</td>\n",
       "      <td>None</td>\n",
       "      <td>None</td>\n",
       "      <td>SOUTHEASTERN INTENSIVIST SERVICES PC</td>\n",
       "      <td>9.335152e+09</td>\n",
       "      <td>133</td>\n",
       "      <td>411 W RANDOLPH RD</td>\n",
       "      <td>N</td>\n",
       "      <td>HOPEWELL</td>\n",
       "      <td>VA</td>\n",
       "      <td>238602938</td>\n",
       "      <td>8.045412e+09</td>\n",
       "      <td>490112.0</td>\n",
       "      <td>CJW MEDICAL CENTER</td>\n",
       "      <td>210028.0</td>\n",
       "      <td>MEDSTAR SAINT MARY'S HOSPITAL</td>\n",
       "      <td>NaN</td>\n",
       "      <td>NaN</td>\n",
       "      <td>NaN</td>\n",
       "      <td>NaN</td>\n",
       "      <td>NaN</td>\n",
       "      <td>NaN</td>\n",
       "      <td>Y</td>\n",
       "    </tr>\n",
       "  </tbody>\n",
       "</table>\n",
       "</div>"
      ],
      "text/plain": [
       "          npi  ind_pac_id      ind_enrl_id              full_nm gndr  \\\n",
       "0  1003000126  7517003643  I20130530000085  ARDALAN  ENKESHAFI     M   \n",
       "1  1003000126  7517003643  I20130530000085  ARDALAN  ENKESHAFI     M   \n",
       "2  1003000126  7517003643  I20150824000105  ARDALAN  ENKESHAFI     M   \n",
       "3  1003000126  7517003643  I20150824000105  ARDALAN  ENKESHAFI     M   \n",
       "4  1003000126  7517003643  I20150824000105  ARDALAN  ENKESHAFI     M   \n",
       "\n",
       "         cred med_sch  grd_yr           pri_spec sec_spec_1 sec_spec_2  \\\n",
       "0  Not Listed   OTHER    1994  INTERNAL MEDICINE       None       None   \n",
       "1  Not Listed   OTHER    1994  INTERNAL MEDICINE       None       None   \n",
       "2  Not Listed   OTHER    1994  INTERNAL MEDICINE       None       None   \n",
       "3  Not Listed   OTHER    1994  INTERNAL MEDICINE       None       None   \n",
       "4  Not Listed   OTHER    1994  INTERNAL MEDICINE       None       None   \n",
       "\n",
       "  sec_spec_3 sec_spec_4 sec_spec_all                            org_lgl_nm  \\\n",
       "0       None       None         None   EMERGENCY MEDICINE ASSOCIATES PA PC   \n",
       "1       None       None         None   EMERGENCY MEDICINE ASSOCIATES PA PC   \n",
       "2       None       None         None   EMERGENCY MEDICINE ASSOCIATES PA PC   \n",
       "3       None       None         None  SOUTHEASTERN INTENSIVIST SERVICES PC   \n",
       "4       None       None         None  SOUTHEASTERN INTENSIVIST SERVICES PC   \n",
       "\n",
       "     org_pac_id  num_org_mem                   full_adr ln_2_sprs  \\\n",
       "0  8.022915e+09          182        1850 TOWN CTR PKWY          N   \n",
       "1  8.022915e+09          182    1701 N GEORGE MASON DR          N   \n",
       "2  8.022915e+09          182  24440 STONE SPRINGS BLVD          N   \n",
       "3  9.335152e+09          133   1401 JOHNSTON WILLIS DR          N   \n",
       "4  9.335152e+09          133         411 W RANDOLPH RD          N   \n",
       "\n",
       "                  cty  st        zip     phn_numbr hosp_afl_1  \\\n",
       "0              RESTON  VA  201903219  7.036899e+09   490112.0   \n",
       "1           ARLINGTON  VA  222053610  7.035586e+09   490112.0   \n",
       "2              DULLES  VA  201662247  5.713674e+09   490112.0   \n",
       "3  NORTH CHESTERFIELD  VA  232354730  8.044835e+09   490112.0   \n",
       "4            HOPEWELL  VA  238602938  8.045412e+09   490112.0   \n",
       "\n",
       "       hosp_afl_lbn_1 hosp_afl_2                 hosp_afl_lbn_2 hosp_afl_3  \\\n",
       "0  CJW MEDICAL CENTER   210028.0  MEDSTAR SAINT MARY'S HOSPITAL        NaN   \n",
       "1  CJW MEDICAL CENTER   210028.0  MEDSTAR SAINT MARY'S HOSPITAL        NaN   \n",
       "2  CJW MEDICAL CENTER   210028.0  MEDSTAR SAINT MARY'S HOSPITAL        NaN   \n",
       "3  CJW MEDICAL CENTER   210028.0  MEDSTAR SAINT MARY'S HOSPITAL        NaN   \n",
       "4  CJW MEDICAL CENTER   210028.0  MEDSTAR SAINT MARY'S HOSPITAL        NaN   \n",
       "\n",
       "  hosp_afl_lbn_3 hosp_afl_4 hosp_afl_lbn_4  hosp_afl_5 hosp_afl_lbn_5 assgn  \n",
       "0            NaN        NaN            NaN         NaN            NaN     Y  \n",
       "1            NaN        NaN            NaN         NaN            NaN     Y  \n",
       "2            NaN        NaN            NaN         NaN            NaN     Y  \n",
       "3            NaN        NaN            NaN         NaN            NaN     Y  \n",
       "4            NaN        NaN            NaN         NaN            NaN     Y  "
      ]
     },
     "execution_count": 2,
     "metadata": {},
     "output_type": "execute_result"
    }
   ],
   "source": [
    "# first thing we need to do --> load in the data\n",
    "# import pandas\n",
    "import pandas as pd\n",
    "pd.options.display.max_columns = None\n",
    "%load_ext autoreload\n",
    "%autoreload 2\n",
    "\n",
    "# import data from yesterday\n",
    "data = pd.read_csv('physician_compare_national-updates-2.csv', low_memory=False);\n",
    "\n",
    "# inspect the first five rows\n",
    "data.head()"
   ]
  },
  {
   "cell_type": "code",
   "execution_count": 75,
   "metadata": {},
   "outputs": [
    {
     "name": "stdout",
     "output_type": "stream",
     "text": [
      "<class 'pandas.core.frame.DataFrame'>\n",
      "RangeIndex: 2210790 entries, 0 to 2210789\n",
      "Data columns (total 34 columns):\n",
      "npi               int64\n",
      "ind_pac_id        int64\n",
      "ind_enrl_id       object\n",
      "full_nm           object\n",
      "gndr              object\n",
      "cred              object\n",
      "med_sch           object\n",
      "grd_yr            int64\n",
      "pri_spec          object\n",
      "sec_spec_1        object\n",
      "sec_spec_2        object\n",
      "sec_spec_3        object\n",
      "sec_spec_4        object\n",
      "sec_spec_all      object\n",
      "org_lgl_nm        object\n",
      "org_pac_id        float64\n",
      "num_org_mem       int64\n",
      "full_adr          object\n",
      "ln_2_sprs         object\n",
      "cty               object\n",
      "st                object\n",
      "zip               object\n",
      "phn_numbr         float64\n",
      "hosp_afl_1        object\n",
      "hosp_afl_lbn_1    object\n",
      "hosp_afl_2        object\n",
      "hosp_afl_lbn_2    object\n",
      "hosp_afl_3        object\n",
      "hosp_afl_lbn_3    object\n",
      "hosp_afl_4        object\n",
      "hosp_afl_lbn_4    object\n",
      "hosp_afl_5        float64\n",
      "hosp_afl_lbn_5    object\n",
      "assgn             object\n",
      "dtypes: float64(3), int64(4), object(27)\n",
      "memory usage: 573.5+ MB\n"
     ]
    }
   ],
   "source": [
    "# what are the data types in each column?\n",
    "data.info()"
   ]
  },
  {
   "cell_type": "markdown",
   "metadata": {},
   "source": [
    "## _One Last Attempt at Trying to Look Up Zip Codes_"
   ]
  },
  {
   "cell_type": "code",
   "execution_count": 77,
   "metadata": {},
   "outputs": [],
   "source": [
    "# extract the first 1000 rows\n",
    "thousand = data[:1000]"
   ]
  },
  {
   "cell_type": "code",
   "execution_count": 78,
   "metadata": {},
   "outputs": [
    {
     "data": {
      "text/plain": [
       "dtype('O')"
      ]
     },
     "execution_count": 78,
     "metadata": {},
     "output_type": "execute_result"
    }
   ],
   "source": [
    "# what is the data type of the zip column in thousand?\n",
    "thousand['zip'].dtype"
   ]
  },
  {
   "cell_type": "code",
   "execution_count": 79,
   "metadata": {},
   "outputs": [
    {
     "name": "stdout",
     "output_type": "stream",
     "text": [
      "9\n",
      "9\n",
      "9\n",
      "9\n",
      "9\n"
     ]
    }
   ],
   "source": [
    "# what are the lengths of the first five zip codes in the zip column?\n",
    "for x in thousand['zip'].head():\n",
    "    print(len(str(x)))"
   ]
  },
  {
   "cell_type": "code",
   "execution_count": 82,
   "metadata": {},
   "outputs": [
    {
     "data": {
      "text/plain": [
       "[4, 5, 7, 8, 9]"
      ]
     },
     "execution_count": 82,
     "metadata": {},
     "output_type": "execute_result"
    }
   ],
   "source": [
    "# what are the unique lengths of the zip codes in the zip column\n",
    "sorted(thousand['zip'].astype(str).str.len().unique())"
   ]
  },
  {
   "cell_type": "code",
   "execution_count": 83,
   "metadata": {},
   "outputs": [
    {
     "data": {
      "text/plain": [
       "9    918\n",
       "8     66\n",
       "5      9\n",
       "7      5\n",
       "4      2\n",
       "Name: zip, dtype: int64"
      ]
     },
     "execution_count": 83,
     "metadata": {},
     "output_type": "execute_result"
    }
   ],
   "source": [
    "# what are the value counts for the associated zip code lengths?\n",
    "thousand['zip'].astype(str).str.len().value_counts()"
   ]
  },
  {
   "cell_type": "markdown",
   "metadata": {},
   "source": [
    "### _Create `full_location` Column_\n",
    "\n",
    "We'll combine values of `cty` and `st` to create a new column that has the full location."
   ]
  },
  {
   "cell_type": "code",
   "execution_count": 91,
   "metadata": {},
   "outputs": [
    {
     "name": "stdout",
     "output_type": "stream",
     "text": [
      "object\n",
      "object\n"
     ]
    }
   ],
   "source": [
    "# what are the data types for each column?\n",
    "print(thousand['cty'].dtype)\n",
    "print(thousand['st'].dtype)"
   ]
  },
  {
   "cell_type": "code",
   "execution_count": 84,
   "metadata": {},
   "outputs": [
    {
     "data": {
      "text/plain": [
       "0                RESTON\n",
       "1             ARLINGTON\n",
       "2                DULLES\n",
       "3    NORTH CHESTERFIELD\n",
       "4              HOPEWELL\n",
       "Name: cty, dtype: object"
      ]
     },
     "execution_count": 84,
     "metadata": {},
     "output_type": "execute_result"
    }
   ],
   "source": [
    "# check out the first five cty\n",
    "thousand['cty'].head()"
   ]
  },
  {
   "cell_type": "code",
   "execution_count": 85,
   "metadata": {},
   "outputs": [
    {
     "data": {
      "text/plain": [
       "0    VA\n",
       "1    VA\n",
       "2    VA\n",
       "3    VA\n",
       "4    VA\n",
       "Name: st, dtype: object"
      ]
     },
     "execution_count": 85,
     "metadata": {},
     "output_type": "execute_result"
    }
   ],
   "source": [
    "# what are the first five states?\n",
    "thousand['st'].head()"
   ]
  },
  {
   "cell_type": "code",
   "execution_count": 90,
   "metadata": {},
   "outputs": [
    {
     "name": "stdout",
     "output_type": "stream",
     "text": [
      "0                RESTONVA\n",
      "1             ARLINGTONVA\n",
      "2                DULLESVA\n",
      "3    NORTH CHESTERFIELDVA\n",
      "4              HOPEWELLVA\n",
      "dtype: object\n",
      "------------------------------\n",
      "0                RESTON VA\n",
      "1             ARLINGTON VA\n",
      "2                DULLES VA\n",
      "3    NORTH CHESTERFIELD VA\n",
      "4              HOPEWELL VA\n",
      "dtype: object\n",
      "------------------------------\n",
      "0                RESTON, VA\n",
      "1             ARLINGTON, VA\n",
      "2                DULLES, VA\n",
      "3    NORTH CHESTERFIELD, VA\n",
      "4              HOPEWELL, VA\n",
      "dtype: object\n",
      "------------------------------\n"
     ]
    }
   ],
   "source": [
    "# how can we combine them?\n",
    "print(thousand['cty'].head() + thousand['st'].head())\n",
    "print('-' * 30)\n",
    "print(thousand['cty'].head() + ' ' + thousand['st'].head())\n",
    "print('-' * 30)\n",
    "print(thousand['cty'].head() + ', ' + thousand['st'].head())\n",
    "print('-' * 30)"
   ]
  },
  {
   "cell_type": "code",
   "execution_count": 99,
   "metadata": {},
   "outputs": [],
   "source": [
    "# create full_location by combining cty and st\n",
    "full_location = thousand['cty'] + ', ' + thousand['st']"
   ]
  },
  {
   "cell_type": "code",
   "execution_count": 96,
   "metadata": {},
   "outputs": [
    {
     "name": "stdout",
     "output_type": "stream",
     "text": [
      "Column index: 0 Column name: npi\n",
      "Column index: 1 Column name: ind_pac_id\n",
      "Column index: 2 Column name: ind_enrl_id\n",
      "Column index: 3 Column name: full_nm\n",
      "Column index: 4 Column name: gndr\n",
      "Column index: 5 Column name: cred\n",
      "Column index: 6 Column name: med_sch\n",
      "Column index: 7 Column name: grd_yr\n",
      "Column index: 8 Column name: pri_spec\n",
      "Column index: 9 Column name: sec_spec_1\n",
      "Column index: 10 Column name: sec_spec_2\n",
      "Column index: 11 Column name: sec_spec_3\n",
      "Column index: 12 Column name: sec_spec_4\n",
      "Column index: 13 Column name: sec_spec_all\n",
      "Column index: 14 Column name: org_lgl_nm\n",
      "Column index: 15 Column name: org_pac_id\n",
      "Column index: 16 Column name: num_org_mem\n",
      "Column index: 17 Column name: full_adr\n",
      "Column index: 18 Column name: ln_2_sprs\n",
      "Column index: 19 Column name: cty\n",
      "Column index: 20 Column name: st\n",
      "Column index: 21 Column name: zip\n",
      "Column index: 22 Column name: phn_numbr\n",
      "Column index: 23 Column name: hosp_afl_1\n",
      "Column index: 24 Column name: hosp_afl_lbn_1\n",
      "Column index: 25 Column name: hosp_afl_2\n",
      "Column index: 26 Column name: hosp_afl_lbn_2\n",
      "Column index: 27 Column name: hosp_afl_3\n",
      "Column index: 28 Column name: hosp_afl_lbn_3\n",
      "Column index: 29 Column name: hosp_afl_4\n",
      "Column index: 30 Column name: hosp_afl_lbn_4\n",
      "Column index: 31 Column name: hosp_afl_5\n",
      "Column index: 32 Column name: hosp_afl_lbn_5\n",
      "Column index: 33 Column name: assgn\n"
     ]
    }
   ],
   "source": [
    "# print out the columns and their associated index\n",
    "for i, v in enumerate(list(thousand.columns)):\n",
    "    print('Column index: {} Column name: {}'.format(i, v))"
   ]
  },
  {
   "cell_type": "code",
   "execution_count": 101,
   "metadata": {},
   "outputs": [],
   "source": [
    "# insert full location after st column (index = 21)\n",
    "thousand.insert(loc=21, column='full_location', value=full_location)"
   ]
  },
  {
   "cell_type": "code",
   "execution_count": 102,
   "metadata": {},
   "outputs": [
    {
     "data": {
      "text/html": [
       "<div>\n",
       "<style scoped>\n",
       "    .dataframe tbody tr th:only-of-type {\n",
       "        vertical-align: middle;\n",
       "    }\n",
       "\n",
       "    .dataframe tbody tr th {\n",
       "        vertical-align: top;\n",
       "    }\n",
       "\n",
       "    .dataframe thead th {\n",
       "        text-align: right;\n",
       "    }\n",
       "</style>\n",
       "<table border=\"1\" class=\"dataframe\">\n",
       "  <thead>\n",
       "    <tr style=\"text-align: right;\">\n",
       "      <th></th>\n",
       "      <th>npi</th>\n",
       "      <th>ind_pac_id</th>\n",
       "      <th>ind_enrl_id</th>\n",
       "      <th>full_nm</th>\n",
       "      <th>gndr</th>\n",
       "      <th>cred</th>\n",
       "      <th>med_sch</th>\n",
       "      <th>grd_yr</th>\n",
       "      <th>pri_spec</th>\n",
       "      <th>sec_spec_1</th>\n",
       "      <th>sec_spec_2</th>\n",
       "      <th>sec_spec_3</th>\n",
       "      <th>sec_spec_4</th>\n",
       "      <th>sec_spec_all</th>\n",
       "      <th>org_lgl_nm</th>\n",
       "      <th>org_pac_id</th>\n",
       "      <th>num_org_mem</th>\n",
       "      <th>full_adr</th>\n",
       "      <th>ln_2_sprs</th>\n",
       "      <th>cty</th>\n",
       "      <th>st</th>\n",
       "      <th>full_location</th>\n",
       "      <th>zip</th>\n",
       "      <th>phn_numbr</th>\n",
       "      <th>hosp_afl_1</th>\n",
       "      <th>hosp_afl_lbn_1</th>\n",
       "      <th>hosp_afl_2</th>\n",
       "      <th>hosp_afl_lbn_2</th>\n",
       "      <th>hosp_afl_3</th>\n",
       "      <th>hosp_afl_lbn_3</th>\n",
       "      <th>hosp_afl_4</th>\n",
       "      <th>hosp_afl_lbn_4</th>\n",
       "      <th>hosp_afl_5</th>\n",
       "      <th>hosp_afl_lbn_5</th>\n",
       "      <th>assgn</th>\n",
       "    </tr>\n",
       "  </thead>\n",
       "  <tbody>\n",
       "    <tr>\n",
       "      <th>0</th>\n",
       "      <td>1003000126</td>\n",
       "      <td>7517003643</td>\n",
       "      <td>I20130530000085</td>\n",
       "      <td>ARDALAN  ENKESHAFI</td>\n",
       "      <td>M</td>\n",
       "      <td>Not Listed</td>\n",
       "      <td>OTHER</td>\n",
       "      <td>1994</td>\n",
       "      <td>INTERNAL MEDICINE</td>\n",
       "      <td>None</td>\n",
       "      <td>None</td>\n",
       "      <td>None</td>\n",
       "      <td>None</td>\n",
       "      <td>None</td>\n",
       "      <td>EMERGENCY MEDICINE ASSOCIATES PA PC</td>\n",
       "      <td>8.022915e+09</td>\n",
       "      <td>182</td>\n",
       "      <td>1850 TOWN CTR PKWY</td>\n",
       "      <td>N</td>\n",
       "      <td>RESTON</td>\n",
       "      <td>VA</td>\n",
       "      <td>RESTON, VA</td>\n",
       "      <td>201903219</td>\n",
       "      <td>7.036899e+09</td>\n",
       "      <td>490112.0</td>\n",
       "      <td>CJW MEDICAL CENTER</td>\n",
       "      <td>210028.0</td>\n",
       "      <td>MEDSTAR SAINT MARY'S HOSPITAL</td>\n",
       "      <td>NaN</td>\n",
       "      <td>NaN</td>\n",
       "      <td>NaN</td>\n",
       "      <td>NaN</td>\n",
       "      <td>NaN</td>\n",
       "      <td>NaN</td>\n",
       "      <td>Y</td>\n",
       "    </tr>\n",
       "    <tr>\n",
       "      <th>1</th>\n",
       "      <td>1003000126</td>\n",
       "      <td>7517003643</td>\n",
       "      <td>I20130530000085</td>\n",
       "      <td>ARDALAN  ENKESHAFI</td>\n",
       "      <td>M</td>\n",
       "      <td>Not Listed</td>\n",
       "      <td>OTHER</td>\n",
       "      <td>1994</td>\n",
       "      <td>INTERNAL MEDICINE</td>\n",
       "      <td>None</td>\n",
       "      <td>None</td>\n",
       "      <td>None</td>\n",
       "      <td>None</td>\n",
       "      <td>None</td>\n",
       "      <td>EMERGENCY MEDICINE ASSOCIATES PA PC</td>\n",
       "      <td>8.022915e+09</td>\n",
       "      <td>182</td>\n",
       "      <td>1701 N GEORGE MASON DR</td>\n",
       "      <td>N</td>\n",
       "      <td>ARLINGTON</td>\n",
       "      <td>VA</td>\n",
       "      <td>ARLINGTON, VA</td>\n",
       "      <td>222053610</td>\n",
       "      <td>7.035586e+09</td>\n",
       "      <td>490112.0</td>\n",
       "      <td>CJW MEDICAL CENTER</td>\n",
       "      <td>210028.0</td>\n",
       "      <td>MEDSTAR SAINT MARY'S HOSPITAL</td>\n",
       "      <td>NaN</td>\n",
       "      <td>NaN</td>\n",
       "      <td>NaN</td>\n",
       "      <td>NaN</td>\n",
       "      <td>NaN</td>\n",
       "      <td>NaN</td>\n",
       "      <td>Y</td>\n",
       "    </tr>\n",
       "  </tbody>\n",
       "</table>\n",
       "</div>"
      ],
      "text/plain": [
       "          npi  ind_pac_id      ind_enrl_id              full_nm gndr  \\\n",
       "0  1003000126  7517003643  I20130530000085  ARDALAN  ENKESHAFI     M   \n",
       "1  1003000126  7517003643  I20130530000085  ARDALAN  ENKESHAFI     M   \n",
       "\n",
       "         cred med_sch  grd_yr           pri_spec sec_spec_1 sec_spec_2  \\\n",
       "0  Not Listed   OTHER    1994  INTERNAL MEDICINE       None       None   \n",
       "1  Not Listed   OTHER    1994  INTERNAL MEDICINE       None       None   \n",
       "\n",
       "  sec_spec_3 sec_spec_4 sec_spec_all                           org_lgl_nm  \\\n",
       "0       None       None         None  EMERGENCY MEDICINE ASSOCIATES PA PC   \n",
       "1       None       None         None  EMERGENCY MEDICINE ASSOCIATES PA PC   \n",
       "\n",
       "     org_pac_id  num_org_mem                 full_adr ln_2_sprs        cty  \\\n",
       "0  8.022915e+09          182      1850 TOWN CTR PKWY          N     RESTON   \n",
       "1  8.022915e+09          182  1701 N GEORGE MASON DR          N  ARLINGTON   \n",
       "\n",
       "   st  full_location        zip     phn_numbr hosp_afl_1      hosp_afl_lbn_1  \\\n",
       "0  VA     RESTON, VA  201903219  7.036899e+09   490112.0  CJW MEDICAL CENTER   \n",
       "1  VA  ARLINGTON, VA  222053610  7.035586e+09   490112.0  CJW MEDICAL CENTER   \n",
       "\n",
       "  hosp_afl_2                 hosp_afl_lbn_2 hosp_afl_3 hosp_afl_lbn_3  \\\n",
       "0   210028.0  MEDSTAR SAINT MARY'S HOSPITAL        NaN            NaN   \n",
       "1   210028.0  MEDSTAR SAINT MARY'S HOSPITAL        NaN            NaN   \n",
       "\n",
       "  hosp_afl_4 hosp_afl_lbn_4  hosp_afl_5 hosp_afl_lbn_5 assgn  \n",
       "0        NaN            NaN         NaN            NaN     Y  \n",
       "1        NaN            NaN         NaN            NaN     Y  "
      ]
     },
     "execution_count": 102,
     "metadata": {},
     "output_type": "execute_result"
    }
   ],
   "source": [
    "# see if insertion worked\n",
    "thousand.head(2)"
   ]
  },
  {
   "cell_type": "markdown",
   "metadata": {},
   "source": [
    "## _Extract info from `full_location`, search by city and state_"
   ]
  },
  {
   "cell_type": "code",
   "execution_count": 107,
   "metadata": {},
   "outputs": [
    {
     "name": "stdout",
     "output_type": "stream",
     "text": [
      "RESTON VA\n",
      "ARLINGTON VA\n",
      "DULLES VA\n",
      "NORTH CHESTERFIELD VA\n",
      "HOPEWELL VA\n"
     ]
    }
   ],
   "source": [
    "# how do we extract information from full_location\n",
    "# method 1: split on the comma, then extract\n",
    "for loc in thousand['full_location'].head().str.split(','):\n",
    "    print(loc[0].strip(), loc[1].strip())"
   ]
  },
  {
   "cell_type": "code",
   "execution_count": 110,
   "metadata": {},
   "outputs": [],
   "source": [
    "# import library that can potentially helps us query USA zip codes\n",
    "import uszipcode"
   ]
  },
  {
   "cell_type": "code",
   "execution_count": 112,
   "metadata": {},
   "outputs": [],
   "source": [
    "# initialize US Zip code search engine from uszipcode library\n",
    "search = uszipcode.SearchEngine()"
   ]
  },
  {
   "cell_type": "code",
   "execution_count": 122,
   "metadata": {},
   "outputs": [
    {
     "name": "stdout",
     "output_type": "stream",
     "text": [
      "RESTON VA\n"
     ]
    }
   ],
   "source": [
    "# split first observation from full_location\n",
    "cty, st = [x.strip() for x in thousand['full_location'][0].split(',')]\n",
    "print(cty, st)\n",
    "#search.by_city_and_state(thousand['zip'][0])"
   ]
  },
  {
   "cell_type": "code",
   "execution_count": 148,
   "metadata": {},
   "outputs": [
    {
     "data": {
      "text/plain": [
       "'20190'"
      ]
     },
     "execution_count": 148,
     "metadata": {},
     "output_type": "execute_result"
    }
   ],
   "source": [
    "# input cty and st into uszipcode search_by_city_and_state\n",
    "(search.by_city_and_state(city=cty, state=st)[0]).values()[0]"
   ]
  },
  {
   "cell_type": "code",
   "execution_count": 151,
   "metadata": {},
   "outputs": [
    {
     "name": "stdout",
     "output_type": "stream",
     "text": [
      "RESTON VA 20190\n",
      "ARLINGTON VA 22201\n",
      "DULLES VA 20189\n",
      "NORTH CHESTERFIELD VA 23831\n",
      "HOPEWELL VA 23860\n",
      "GLENVIEW IL 60025\n",
      "GLENVIEW IL 60025\n",
      "HIGHLAND PARK IL 60035\n",
      "HIGHALND PARK IL 60035\n",
      "SKOKIE IL 60076\n",
      "SKOKIE IL 60076\n",
      "SKOKIE IL 60076\n",
      "EVANSTON IL 60201\n",
      "EVANSTON IL 60201\n",
      "TOLEDO OH 43601\n",
      "TOLEDO OH 43601\n",
      "OREGON OH 43616\n",
      "TOLEDO OH 43601\n",
      "TOLEDO OH 43601\n",
      "TOLEDO OH 43601\n",
      "MENTOR OH 44060\n",
      "AURORA CO 80010\n",
      "AURORA CO 80010\n",
      "ORANGE CITY FL 32763\n",
      "ORANGE CITY FL 32763\n"
     ]
    }
   ],
   "source": [
    "import time\n",
    "import random\n",
    "\n",
    "# generate a loop that goes through first 25 rows and extracts zip code\n",
    "for city in thousand['full_location'].head(25):\n",
    "    # initialize new US zip code search engine\n",
    "    search = uszipcode.SearchEngine()\n",
    "    # split observation into cty and st\n",
    "    cty, st = [x.strip() for x in city.split(', ')]\n",
    "    # input cty, st to search for zip code\n",
    "    zipcode = (search.by_city_and_state(city=cty, state=st)[0]).values()[0]\n",
    "    time.sleep(random.uniform(0,1))\n",
    "    print(cty, st, zipcode)"
   ]
  },
  {
   "cell_type": "code",
   "execution_count": 160,
   "metadata": {},
   "outputs": [],
   "source": [
    "# lets put the above into a new function\n",
    "def zipcode_lookup(df, empty_list):\n",
    "    # generate a loop that goes rows extracts zip code\n",
    "    for city in df['full_location']:\n",
    "        # initialize new US zip code search engine\n",
    "        search = uszipcode.SearchEngine()\n",
    "        # split observation into cty and st\n",
    "        cty, st = [x.strip() for x in city.split(', ')]\n",
    "        # input cty, st to search for zip code\n",
    "        zipcode = (search.by_city_and_state(city=cty, state=st)[0]).values()[0]\n",
    "        # append zipcode to empty_list\n",
    "        empty_list.append(zipcode)\n",
    "        time.sleep(random.uniform(0,1))\n",
    "        print(cty, st, zipcode)\n",
    "        \n",
    "    return empty_list"
   ]
  },
  {
   "cell_type": "code",
   "execution_count": 161,
   "metadata": {},
   "outputs": [
    {
     "name": "stdout",
     "output_type": "stream",
     "text": [
      "RESTON VA 20190\n",
      "ARLINGTON VA 22201\n",
      "DULLES VA 20189\n",
      "NORTH CHESTERFIELD VA 23831\n",
      "HOPEWELL VA 23860\n",
      "GLENVIEW IL 60025\n",
      "GLENVIEW IL 60025\n",
      "HIGHLAND PARK IL 60035\n",
      "HIGHALND PARK IL 60035\n",
      "SKOKIE IL 60076\n",
      "SKOKIE IL 60076\n",
      "SKOKIE IL 60076\n",
      "EVANSTON IL 60201\n",
      "EVANSTON IL 60201\n",
      "TOLEDO OH 43601\n",
      "TOLEDO OH 43601\n",
      "OREGON OH 43616\n",
      "TOLEDO OH 43601\n",
      "TOLEDO OH 43601\n",
      "TOLEDO OH 43601\n",
      "MENTOR OH 44060\n",
      "AURORA CO 80010\n",
      "AURORA CO 80010\n",
      "ORANGE CITY FL 32763\n",
      "ORANGE CITY FL 32763\n",
      "ORANGE CITY FL 32763\n",
      "QUAKERTOWN PA 18951\n",
      "QUAKERTOWN PA 18951\n",
      "TULSA OK 74103\n",
      "LOS ANGELES CA 90001\n",
      "LOS ANGELES CA 90001\n",
      "MOUNT VERNON OH 43050\n",
      "MOUNT VERNON OH 43050\n",
      "HOUSTON TX 77002\n"
     ]
    },
    {
     "ename": "IndexError",
     "evalue": "list index out of range",
     "output_type": "error",
     "traceback": [
      "\u001b[0;31m---------------------------------------------------------------------------\u001b[0m",
      "\u001b[0;31mIndexError\u001b[0m                                Traceback (most recent call last)",
      "\u001b[0;32m<ipython-input-161-d1857fedec85>\u001b[0m in \u001b[0;36m<module>\u001b[0;34m\u001b[0m\n\u001b[1;32m      1\u001b[0m \u001b[0mzip_list\u001b[0m \u001b[0;34m=\u001b[0m \u001b[0;34m[\u001b[0m\u001b[0;34m]\u001b[0m\u001b[0;34m\u001b[0m\u001b[0;34m\u001b[0m\u001b[0m\n\u001b[1;32m      2\u001b[0m \u001b[0;31m# lets test the above function using only the first 25 rows again\u001b[0m\u001b[0;34m\u001b[0m\u001b[0;34m\u001b[0m\u001b[0;34m\u001b[0m\u001b[0m\n\u001b[0;32m----> 3\u001b[0;31m \u001b[0mupdated_zip_list\u001b[0m \u001b[0;34m=\u001b[0m \u001b[0mzipcode_lookup\u001b[0m\u001b[0;34m(\u001b[0m\u001b[0mthousand\u001b[0m\u001b[0;34m,\u001b[0m \u001b[0mzip_list\u001b[0m\u001b[0;34m)\u001b[0m\u001b[0;34m\u001b[0m\u001b[0;34m\u001b[0m\u001b[0m\n\u001b[0m",
      "\u001b[0;32m<ipython-input-160-93be8e446d08>\u001b[0m in \u001b[0;36mzipcode_lookup\u001b[0;34m(df, empty_list)\u001b[0m\n\u001b[1;32m      8\u001b[0m         \u001b[0mcty\u001b[0m\u001b[0;34m,\u001b[0m \u001b[0mst\u001b[0m \u001b[0;34m=\u001b[0m \u001b[0;34m[\u001b[0m\u001b[0mx\u001b[0m\u001b[0;34m.\u001b[0m\u001b[0mstrip\u001b[0m\u001b[0;34m(\u001b[0m\u001b[0;34m)\u001b[0m \u001b[0;32mfor\u001b[0m \u001b[0mx\u001b[0m \u001b[0;32min\u001b[0m \u001b[0mcity\u001b[0m\u001b[0;34m.\u001b[0m\u001b[0msplit\u001b[0m\u001b[0;34m(\u001b[0m\u001b[0;34m', '\u001b[0m\u001b[0;34m)\u001b[0m\u001b[0;34m]\u001b[0m\u001b[0;34m\u001b[0m\u001b[0;34m\u001b[0m\u001b[0m\n\u001b[1;32m      9\u001b[0m         \u001b[0;31m# input cty, st to search for zip code\u001b[0m\u001b[0;34m\u001b[0m\u001b[0;34m\u001b[0m\u001b[0;34m\u001b[0m\u001b[0m\n\u001b[0;32m---> 10\u001b[0;31m         \u001b[0mzipcode\u001b[0m \u001b[0;34m=\u001b[0m \u001b[0;34m(\u001b[0m\u001b[0msearch\u001b[0m\u001b[0;34m.\u001b[0m\u001b[0mby_city_and_state\u001b[0m\u001b[0;34m(\u001b[0m\u001b[0mcity\u001b[0m\u001b[0;34m=\u001b[0m\u001b[0mcty\u001b[0m\u001b[0;34m,\u001b[0m \u001b[0mstate\u001b[0m\u001b[0;34m=\u001b[0m\u001b[0mst\u001b[0m\u001b[0;34m)\u001b[0m\u001b[0;34m[\u001b[0m\u001b[0;36m0\u001b[0m\u001b[0;34m]\u001b[0m\u001b[0;34m)\u001b[0m\u001b[0;34m.\u001b[0m\u001b[0mvalues\u001b[0m\u001b[0;34m(\u001b[0m\u001b[0;34m)\u001b[0m\u001b[0;34m[\u001b[0m\u001b[0;36m0\u001b[0m\u001b[0;34m]\u001b[0m\u001b[0;34m\u001b[0m\u001b[0;34m\u001b[0m\u001b[0m\n\u001b[0m\u001b[1;32m     11\u001b[0m         \u001b[0;31m# append zipcode to empty_list\u001b[0m\u001b[0;34m\u001b[0m\u001b[0;34m\u001b[0m\u001b[0;34m\u001b[0m\u001b[0m\n\u001b[1;32m     12\u001b[0m         \u001b[0mempty_list\u001b[0m\u001b[0;34m.\u001b[0m\u001b[0mappend\u001b[0m\u001b[0;34m(\u001b[0m\u001b[0mzipcode\u001b[0m\u001b[0;34m)\u001b[0m\u001b[0;34m\u001b[0m\u001b[0;34m\u001b[0m\u001b[0m\n",
      "\u001b[0;31mIndexError\u001b[0m: list index out of range"
     ]
    }
   ],
   "source": [
    "zip_list = []\n",
    "# lets test the above function using only the first 25 rows again\n",
    "updated_zip_list = zipcode_lookup(thousand, zip_list)"
   ]
  },
  {
   "cell_type": "code",
   "execution_count": 200,
   "metadata": {},
   "outputs": [
    {
     "data": {
      "text/plain": [
       "9    40\n",
       "8     8\n",
       "5     1\n",
       "4     1\n",
       "Name: zip, dtype: int64"
      ]
     },
     "execution_count": 200,
     "metadata": {},
     "output_type": "execute_result"
    }
   ],
   "source": [
    "thousand['zip'][100:150].astype(str).str.len().value_counts()"
   ]
  },
  {
   "cell_type": "code",
   "execution_count": 195,
   "metadata": {},
   "outputs": [
    {
     "name": "stdout",
     "output_type": "stream",
     "text": [
      "102 Not 9 or 5 \n",
      "Row zip = 8824\n",
      "108 Not 9 or 5 \n",
      "Row zip = 21842508\n",
      "113 Not 9 or 5 \n",
      "Row zip = 30872008\n",
      "114 Not 9 or 5 \n",
      "Row zip = 33015300\n",
      "115 Not 9 or 5 \n",
      "Row zip = 38015409\n",
      "116 Not 9 or 5 \n",
      "Row zip = 38202403\n",
      "117 Not 9 or 5 \n",
      "Row zip = 38852585\n",
      "136 Not 9 or 5 \n",
      "Row zip = 77483052\n",
      "139 Not 9 or 5 \n",
      "Row zip = 79606136\n"
     ]
    }
   ],
   "source": [
    "for index, row in thousand[100:150].iterrows():\n",
    "    if len(row['zip']) == 9: \n",
    "        pass\n",
    "    elif len(row['zip']) == 5:\n",
    "        pass\n",
    "    else:\n",
    "        print(index, 'Not 9 or 5', '\\nRow zip = {}'.format(row['zip']))"
   ]
  },
  {
   "cell_type": "code",
   "execution_count": 206,
   "metadata": {},
   "outputs": [],
   "source": [
    "# create an empty list for test below\n",
    "test = []"
   ]
  },
  {
   "cell_type": "code",
   "execution_count": 207,
   "metadata": {},
   "outputs": [],
   "source": [
    "# see if we can create a counter for the above to return the number of values that aren't 9 or 5 and returns a list of indexes\n",
    "count = 0\n",
    "for index, row in thousand[100:150].iterrows():\n",
    "    if len(row['zip']) == 9: \n",
    "        pass\n",
    "    elif len(row['zip']) == 5:\n",
    "        pass\n",
    "    else:\n",
    "        count += 1\n",
    "        # append index to test list\n",
    "        test.append(index)\n",
    "        # print(index, 'Not 9 or 5', '\\nRow zip = {}'.format(row['zip']))"
   ]
  },
  {
   "cell_type": "code",
   "execution_count": 208,
   "metadata": {},
   "outputs": [
    {
     "data": {
      "text/plain": [
       "(9, [102, 108, 113, 114, 115, 116, 117, 136, 139])"
      ]
     },
     "execution_count": 208,
     "metadata": {},
     "output_type": "execute_result"
    }
   ],
   "source": [
    "count, test"
   ]
  },
  {
   "cell_type": "code",
   "execution_count": 210,
   "metadata": {},
   "outputs": [],
   "source": [
    "whole_test = []"
   ]
  },
  {
   "cell_type": "code",
   "execution_count": 211,
   "metadata": {},
   "outputs": [],
   "source": [
    "# see if we can create a counter for the above to return the number of values that aren't 9 or 5 and returns a list of indexes for whole dataset\n",
    "count = 0\n",
    "for index, row in thousand.iterrows():\n",
    "    if len(row['zip']) == 9: \n",
    "        pass\n",
    "    elif len(row['zip']) == 5:\n",
    "        pass\n",
    "    else:\n",
    "        count += 1\n",
    "        # append index to test list\n",
    "        whole_test.append(index)"
   ]
  },
  {
   "cell_type": "code",
   "execution_count": 213,
   "metadata": {},
   "outputs": [
    {
     "data": {
      "text/plain": [
       "(73, [46, 47, 64, 65, 69])"
      ]
     },
     "execution_count": 213,
     "metadata": {},
     "output_type": "execute_result"
    }
   ],
   "source": [
    "count, whole_test[:5]"
   ]
  },
  {
   "cell_type": "code",
   "execution_count": 214,
   "metadata": {},
   "outputs": [
    {
     "data": {
      "text/plain": [
       "9    918\n",
       "8     66\n",
       "5      9\n",
       "7      5\n",
       "4      2\n",
       "Name: zip, dtype: int64"
      ]
     },
     "execution_count": 214,
     "metadata": {},
     "output_type": "execute_result"
    }
   ],
   "source": [
    "thousand['zip'].astype(str).str.len().value_counts()"
   ]
  },
  {
   "cell_type": "code",
   "execution_count": 215,
   "metadata": {},
   "outputs": [
    {
     "data": {
      "text/plain": [
       "73"
      ]
     },
     "execution_count": 215,
     "metadata": {},
     "output_type": "execute_result"
    }
   ],
   "source": [
    "66 + 5 + 2"
   ]
  },
  {
   "cell_type": "code",
   "execution_count": 217,
   "metadata": {},
   "outputs": [
    {
     "name": "stdout",
     "output_type": "stream",
     "text": [
      "Index is in whole_test list.\n",
      "Index is in whole_test list.\n",
      "Index is in whole_test list.\n",
      "Index is in whole_test list.\n",
      "Index is in whole_test list.\n",
      "Index is in whole_test list.\n",
      "Index is in whole_test list.\n",
      "Index is in whole_test list.\n",
      "Index is in whole_test list.\n"
     ]
    }
   ],
   "source": [
    "for index, val in thousand[100:150].iterrows():\n",
    "    if index in whole_test:\n",
    "        print('Index is in whole_test list.')\n",
    "    else:\n",
    "        pass"
   ]
  },
  {
   "cell_type": "code",
   "execution_count": 238,
   "metadata": {},
   "outputs": [
    {
     "name": "stdout",
     "output_type": "stream",
     "text": [
      "Index is in whole_test list.\n",
      "KENDALL PARK NJ 08824\n"
     ]
    },
    {
     "name": "stderr",
     "output_type": "stream",
     "text": [
      "/Users/jai/anaconda3/envs/geography/lib/python3.7/site-packages/ipykernel_launcher.py:10: SettingWithCopyWarning: \n",
      "A value is trying to be set on a copy of a slice from a DataFrame\n",
      "\n",
      "See the caveats in the documentation: http://pandas.pydata.org/pandas-docs/stable/indexing.html#indexing-view-versus-copy\n",
      "  # Remove the CWD from sys.path while we load stuff.\n",
      "/Users/jai/anaconda3/envs/geography/lib/python3.7/site-packages/IPython/core/interactiveshell.py:3325: SettingWithCopyWarning: \n",
      "A value is trying to be set on a copy of a slice from a DataFrame\n",
      "\n",
      "See the caveats in the documentation: http://pandas.pydata.org/pandas-docs/stable/indexing.html#indexing-view-versus-copy\n",
      "  exec(code_obj, self.user_global_ns, self.user_ns)\n"
     ]
    },
    {
     "name": "stdout",
     "output_type": "stream",
     "text": [
      "Input new zip code for observation\n",
      "Index is in whole_test list.\n",
      "BRAINTREE MA 02184\n",
      "Input new zip code for observation\n",
      "Index is in whole_test list.\n",
      "WINDHAM NH 03087\n",
      "Input new zip code for observation\n",
      "Index is in whole_test list.\n",
      "CONCORD NH 03301\n",
      "Input new zip code for observation\n",
      "Index is in whole_test list.\n",
      "PORTSMOUTH NH 03801\n",
      "Input new zip code for observation\n",
      "Index is in whole_test list.\n",
      "DOVER NH 03820\n",
      "Input new zip code for observation\n",
      "Index is in whole_test list.\n",
      "STRATHAM NH 03885\n",
      "Input new zip code for observation\n",
      "Index is in whole_test list.\n",
      "MIDDLETOWN NJ 07748\n",
      "Input new zip code for observation\n",
      "Index is in whole_test list.\n",
      "MORRISTOWN NJ 07960\n",
      "Input new zip code for observation\n"
     ]
    }
   ],
   "source": [
    "for index, row in thousand[100:150].iterrows():\n",
    "    if index in whole_test:\n",
    "        print('Index is in whole_test list.')\n",
    "        # split observation into cty and st\n",
    "        cty, st = [x.strip() for x in row['full_location'].split(', ')]\n",
    "        # input cty, st to search for zip code\n",
    "        zipcode = (search.by_city_and_state(city=cty, state=st)[0]).values()[0]\n",
    "        print(cty, st, zipcode)\n",
    "        # assign new zipcode to zip column\n",
    "        thousand['zip'][index] = zipcode\n",
    "        # print(thousand['zip'].at(int(index)))\n",
    "        print('Input new zip code for observation')\n",
    "        time.sleep(random.uniform(0,1))\n",
    "    else:\n",
    "        pass"
   ]
  },
  {
   "cell_type": "markdown",
   "metadata": {},
   "source": [
    "Now let's check the value counts for the rows between `100:150`; there should no longer be any zip code values that not either 9 or 5 in length."
   ]
  },
  {
   "cell_type": "code",
   "execution_count": 239,
   "metadata": {},
   "outputs": [
    {
     "data": {
      "text/plain": [
       "9    40\n",
       "5    10\n",
       "Name: zip, dtype: int64"
      ]
     },
     "execution_count": 239,
     "metadata": {},
     "output_type": "execute_result"
    }
   ],
   "source": [
    "thousand['zip'][100:150].astype(str).str.len().value_counts()"
   ]
  },
  {
   "cell_type": "code",
   "execution_count": 240,
   "metadata": {},
   "outputs": [
    {
     "data": {
      "text/plain": [
       "9    918\n",
       "8     58\n",
       "5     18\n",
       "7      5\n",
       "4      1\n",
       "Name: zip, dtype: int64"
      ]
     },
     "execution_count": 240,
     "metadata": {},
     "output_type": "execute_result"
    }
   ],
   "source": [
    "thousand['zip'].astype(str).str.len().value_counts()"
   ]
  },
  {
   "cell_type": "code",
   "execution_count": 241,
   "metadata": {},
   "outputs": [],
   "source": [
    "# see if we can create a counter for the above to return the number of values that aren't 9 or 5 and returns a list of indexes for whole dataset\n",
    "whole_test = []\n",
    "count = 0\n",
    "for index, row in thousand.iterrows():\n",
    "    if len(row['zip']) == 9: \n",
    "        pass\n",
    "    elif len(row['zip']) == 5:\n",
    "        pass\n",
    "    else:\n",
    "        count += 1\n",
    "        # append index to test list\n",
    "        whole_test.append(index)"
   ]
  },
  {
   "cell_type": "code",
   "execution_count": 243,
   "metadata": {},
   "outputs": [
    {
     "data": {
      "text/plain": [
       "64"
      ]
     },
     "execution_count": 243,
     "metadata": {},
     "output_type": "execute_result"
    }
   ],
   "source": [
    "count"
   ]
  },
  {
   "cell_type": "code",
   "execution_count": 244,
   "metadata": {},
   "outputs": [
    {
     "data": {
      "text/plain": [
       "64"
      ]
     },
     "execution_count": 244,
     "metadata": {},
     "output_type": "execute_result"
    }
   ],
   "source": [
    "58 + 5 + 1"
   ]
  },
  {
   "cell_type": "markdown",
   "metadata": {},
   "source": [
    "We're closer to confirming that we have something that will update the `zip` column to how we want to! Let's generate a function from the example a few cells above so that we can tinker if necessary."
   ]
  },
  {
   "cell_type": "code",
   "execution_count": 254,
   "metadata": {},
   "outputs": [],
   "source": [
    "def zipcode_looker(df, index_list):\n",
    "    count = 0\n",
    "    for index, row in df.iterrows():\n",
    "        if index in index_list:\n",
    "            print('Found index that needs updating at index {}.'.format(index))\n",
    "            # split observation into cty and st\n",
    "            cty, st = [x.strip() for x in row['full_location'].split(', ')]\n",
    "            # input cty, st to search for zip code\n",
    "            zipcode = (search.by_city_and_state(city=cty, state=st)[0]).values()[0]\n",
    "            # print(cty, st, zipcode)\n",
    "            # assign new zipcode to zip column\n",
    "            df['zip'][index] = zipcode\n",
    "            # print(thousand['zip'].at(int(index)))\n",
    "            print('Input new zip code for observation at index {}'.format(index))\n",
    "            count += 1\n",
    "            print('Rows edited = {}'.format(count))\n",
    "            time.sleep(random.uniform(0,0.5))\n",
    "            \n",
    "    else:\n",
    "        pass\n",
    "    \n",
    "    return df"
   ]
  },
  {
   "cell_type": "code",
   "execution_count": 255,
   "metadata": {},
   "outputs": [],
   "source": [
    "# create a copy of thousand to be able to compare before/after value counts\n",
    "before = thousand.copy()"
   ]
  },
  {
   "cell_type": "code",
   "execution_count": 256,
   "metadata": {},
   "outputs": [
    {
     "data": {
      "text/plain": [
       "9    918\n",
       "8     58\n",
       "5     18\n",
       "7      5\n",
       "4      1\n",
       "Name: zip, dtype: int64"
      ]
     },
     "execution_count": 256,
     "metadata": {},
     "output_type": "execute_result"
    }
   ],
   "source": [
    "# check value counts of before\n",
    "before['zip'].astype(str).str.len().value_counts()"
   ]
  },
  {
   "cell_type": "code",
   "execution_count": 257,
   "metadata": {},
   "outputs": [
    {
     "name": "stdout",
     "output_type": "stream",
     "text": [
      "Found index that needs updating at index 46.\n"
     ]
    },
    {
     "name": "stderr",
     "output_type": "stream",
     "text": [
      "/Users/jai/anaconda3/envs/geography/lib/python3.7/site-packages/ipykernel_launcher.py:12: SettingWithCopyWarning: \n",
      "A value is trying to be set on a copy of a slice from a DataFrame\n",
      "\n",
      "See the caveats in the documentation: http://pandas.pydata.org/pandas-docs/stable/indexing.html#indexing-view-versus-copy\n",
      "  if sys.path[0] == '':\n"
     ]
    },
    {
     "name": "stdout",
     "output_type": "stream",
     "text": [
      "Input new zip code for observation at index 46\n",
      "Rows edited = 1\n",
      "Found index that needs updating at index 47.\n",
      "Input new zip code for observation at index 47\n",
      "Rows edited = 2\n",
      "Found index that needs updating at index 64.\n",
      "Input new zip code for observation at index 64\n",
      "Rows edited = 3\n",
      "Found index that needs updating at index 65.\n",
      "Input new zip code for observation at index 65\n",
      "Rows edited = 4\n",
      "Found index that needs updating at index 69.\n",
      "Input new zip code for observation at index 69\n",
      "Rows edited = 5\n",
      "Found index that needs updating at index 77.\n",
      "Input new zip code for observation at index 77\n",
      "Rows edited = 6\n",
      "Found index that needs updating at index 78.\n",
      "Input new zip code for observation at index 78\n",
      "Rows edited = 7\n",
      "Found index that needs updating at index 82.\n",
      "Input new zip code for observation at index 82\n",
      "Rows edited = 8\n",
      "Found index that needs updating at index 93.\n",
      "Input new zip code for observation at index 93\n",
      "Rows edited = 9\n",
      "Found index that needs updating at index 94.\n",
      "Input new zip code for observation at index 94\n",
      "Rows edited = 10\n",
      "Found index that needs updating at index 200.\n",
      "Input new zip code for observation at index 200\n",
      "Rows edited = 11\n",
      "Found index that needs updating at index 201.\n",
      "Input new zip code for observation at index 201\n",
      "Rows edited = 12\n",
      "Found index that needs updating at index 244.\n",
      "Input new zip code for observation at index 244\n",
      "Rows edited = 13\n",
      "Found index that needs updating at index 245.\n",
      "Input new zip code for observation at index 245\n",
      "Rows edited = 14\n",
      "Found index that needs updating at index 251.\n",
      "Input new zip code for observation at index 251\n",
      "Rows edited = 15\n",
      "Found index that needs updating at index 252.\n",
      "Input new zip code for observation at index 252\n",
      "Rows edited = 16\n",
      "Found index that needs updating at index 271.\n",
      "Input new zip code for observation at index 271\n",
      "Rows edited = 17\n",
      "Found index that needs updating at index 283.\n",
      "Input new zip code for observation at index 283\n",
      "Rows edited = 18\n",
      "Found index that needs updating at index 284.\n",
      "Input new zip code for observation at index 284\n",
      "Rows edited = 19\n",
      "Found index that needs updating at index 285.\n",
      "Input new zip code for observation at index 285\n",
      "Rows edited = 20\n",
      "Found index that needs updating at index 338.\n",
      "Input new zip code for observation at index 338\n",
      "Rows edited = 21\n",
      "Found index that needs updating at index 339.\n",
      "Input new zip code for observation at index 339\n",
      "Rows edited = 22\n",
      "Found index that needs updating at index 358.\n",
      "Input new zip code for observation at index 358\n",
      "Rows edited = 23\n",
      "Found index that needs updating at index 362.\n",
      "Input new zip code for observation at index 362\n",
      "Rows edited = 24\n",
      "Found index that needs updating at index 363.\n",
      "Input new zip code for observation at index 363\n",
      "Rows edited = 25\n",
      "Found index that needs updating at index 376.\n",
      "Input new zip code for observation at index 376\n",
      "Rows edited = 26\n",
      "Found index that needs updating at index 377.\n",
      "Input new zip code for observation at index 377\n",
      "Rows edited = 27\n",
      "Found index that needs updating at index 378.\n",
      "Input new zip code for observation at index 378\n",
      "Rows edited = 28\n",
      "Found index that needs updating at index 379.\n",
      "Input new zip code for observation at index 379\n",
      "Rows edited = 29\n",
      "Found index that needs updating at index 402.\n",
      "Input new zip code for observation at index 402\n",
      "Rows edited = 30\n",
      "Found index that needs updating at index 505.\n",
      "Input new zip code for observation at index 505\n",
      "Rows edited = 31\n",
      "Found index that needs updating at index 588.\n",
      "Input new zip code for observation at index 588\n",
      "Rows edited = 32\n",
      "Found index that needs updating at index 589.\n",
      "Input new zip code for observation at index 589\n",
      "Rows edited = 33\n",
      "Found index that needs updating at index 590.\n",
      "Input new zip code for observation at index 590\n",
      "Rows edited = 34\n",
      "Found index that needs updating at index 591.\n",
      "Input new zip code for observation at index 591\n",
      "Rows edited = 35\n",
      "Found index that needs updating at index 592.\n",
      "Input new zip code for observation at index 592\n",
      "Rows edited = 36\n",
      "Found index that needs updating at index 593.\n",
      "Input new zip code for observation at index 593\n",
      "Rows edited = 37\n",
      "Found index that needs updating at index 594.\n",
      "Input new zip code for observation at index 594\n",
      "Rows edited = 38\n",
      "Found index that needs updating at index 639.\n",
      "Input new zip code for observation at index 639\n",
      "Rows edited = 39\n",
      "Found index that needs updating at index 650.\n",
      "Input new zip code for observation at index 650\n",
      "Rows edited = 40\n",
      "Found index that needs updating at index 659.\n",
      "Input new zip code for observation at index 659\n",
      "Rows edited = 41\n",
      "Found index that needs updating at index 660.\n",
      "Input new zip code for observation at index 660\n",
      "Rows edited = 42\n",
      "Found index that needs updating at index 666.\n",
      "Input new zip code for observation at index 666\n",
      "Rows edited = 43\n",
      "Found index that needs updating at index 667.\n",
      "Input new zip code for observation at index 667\n",
      "Rows edited = 44\n",
      "Found index that needs updating at index 668.\n",
      "Input new zip code for observation at index 668\n",
      "Rows edited = 45\n",
      "Found index that needs updating at index 669.\n",
      "Input new zip code for observation at index 669\n",
      "Rows edited = 46\n",
      "Found index that needs updating at index 670.\n",
      "Input new zip code for observation at index 670\n",
      "Rows edited = 47\n",
      "Found index that needs updating at index 682.\n",
      "Input new zip code for observation at index 682\n",
      "Rows edited = 48\n",
      "Found index that needs updating at index 691.\n",
      "Input new zip code for observation at index 691\n",
      "Rows edited = 49\n",
      "Found index that needs updating at index 692.\n",
      "Input new zip code for observation at index 692\n",
      "Rows edited = 50\n",
      "Found index that needs updating at index 764.\n",
      "Input new zip code for observation at index 764\n",
      "Rows edited = 51\n",
      "Found index that needs updating at index 840.\n",
      "Input new zip code for observation at index 840\n",
      "Rows edited = 52\n",
      "Found index that needs updating at index 860.\n",
      "Input new zip code for observation at index 860\n",
      "Rows edited = 53\n",
      "Found index that needs updating at index 861.\n",
      "Input new zip code for observation at index 861\n",
      "Rows edited = 54\n",
      "Found index that needs updating at index 879.\n",
      "Input new zip code for observation at index 879\n",
      "Rows edited = 55\n",
      "Found index that needs updating at index 880.\n",
      "Input new zip code for observation at index 880\n",
      "Rows edited = 56\n",
      "Found index that needs updating at index 881.\n",
      "Input new zip code for observation at index 881\n",
      "Rows edited = 57\n",
      "Found index that needs updating at index 889.\n"
     ]
    },
    {
     "ename": "IndexError",
     "evalue": "list index out of range",
     "output_type": "error",
     "traceback": [
      "\u001b[0;31m---------------------------------------------------------------------------\u001b[0m",
      "\u001b[0;31mIndexError\u001b[0m                                Traceback (most recent call last)",
      "\u001b[0;32m<ipython-input-257-a0d1d4d184cb>\u001b[0m in \u001b[0;36m<module>\u001b[0;34m\u001b[0m\n\u001b[1;32m      1\u001b[0m \u001b[0;31m# pass before into zipcode function: initial test\u001b[0m\u001b[0;34m\u001b[0m\u001b[0;34m\u001b[0m\u001b[0;34m\u001b[0m\u001b[0m\n\u001b[0;32m----> 2\u001b[0;31m \u001b[0mafter\u001b[0m \u001b[0;34m=\u001b[0m \u001b[0mzipcode_looker\u001b[0m\u001b[0;34m(\u001b[0m\u001b[0mbefore\u001b[0m\u001b[0;34m,\u001b[0m \u001b[0mwhole_test\u001b[0m\u001b[0;34m)\u001b[0m\u001b[0;34m;\u001b[0m\u001b[0;34m\u001b[0m\u001b[0;34m\u001b[0m\u001b[0m\n\u001b[0m",
      "\u001b[0;32m<ipython-input-254-eaa79872d03e>\u001b[0m in \u001b[0;36mzipcode_looker\u001b[0;34m(df, index_list)\u001b[0m\n\u001b[1;32m      7\u001b[0m             \u001b[0mcty\u001b[0m\u001b[0;34m,\u001b[0m \u001b[0mst\u001b[0m \u001b[0;34m=\u001b[0m \u001b[0;34m[\u001b[0m\u001b[0mx\u001b[0m\u001b[0;34m.\u001b[0m\u001b[0mstrip\u001b[0m\u001b[0;34m(\u001b[0m\u001b[0;34m)\u001b[0m \u001b[0;32mfor\u001b[0m \u001b[0mx\u001b[0m \u001b[0;32min\u001b[0m \u001b[0mrow\u001b[0m\u001b[0;34m[\u001b[0m\u001b[0;34m'full_location'\u001b[0m\u001b[0;34m]\u001b[0m\u001b[0;34m.\u001b[0m\u001b[0msplit\u001b[0m\u001b[0;34m(\u001b[0m\u001b[0;34m', '\u001b[0m\u001b[0;34m)\u001b[0m\u001b[0;34m]\u001b[0m\u001b[0;34m\u001b[0m\u001b[0;34m\u001b[0m\u001b[0m\n\u001b[1;32m      8\u001b[0m             \u001b[0;31m# input cty, st to search for zip code\u001b[0m\u001b[0;34m\u001b[0m\u001b[0;34m\u001b[0m\u001b[0;34m\u001b[0m\u001b[0m\n\u001b[0;32m----> 9\u001b[0;31m             \u001b[0mzipcode\u001b[0m \u001b[0;34m=\u001b[0m \u001b[0;34m(\u001b[0m\u001b[0msearch\u001b[0m\u001b[0;34m.\u001b[0m\u001b[0mby_city_and_state\u001b[0m\u001b[0;34m(\u001b[0m\u001b[0mcity\u001b[0m\u001b[0;34m=\u001b[0m\u001b[0mcty\u001b[0m\u001b[0;34m,\u001b[0m \u001b[0mstate\u001b[0m\u001b[0;34m=\u001b[0m\u001b[0mst\u001b[0m\u001b[0;34m)\u001b[0m\u001b[0;34m[\u001b[0m\u001b[0;36m0\u001b[0m\u001b[0;34m]\u001b[0m\u001b[0;34m)\u001b[0m\u001b[0;34m.\u001b[0m\u001b[0mvalues\u001b[0m\u001b[0;34m(\u001b[0m\u001b[0;34m)\u001b[0m\u001b[0;34m[\u001b[0m\u001b[0;36m0\u001b[0m\u001b[0;34m]\u001b[0m\u001b[0;34m\u001b[0m\u001b[0;34m\u001b[0m\u001b[0m\n\u001b[0m\u001b[1;32m     10\u001b[0m             \u001b[0;31m# print(cty, st, zipcode)\u001b[0m\u001b[0;34m\u001b[0m\u001b[0;34m\u001b[0m\u001b[0;34m\u001b[0m\u001b[0m\n\u001b[1;32m     11\u001b[0m             \u001b[0;31m# assign new zipcode to zip column\u001b[0m\u001b[0;34m\u001b[0m\u001b[0;34m\u001b[0m\u001b[0;34m\u001b[0m\u001b[0m\n",
      "\u001b[0;31mIndexError\u001b[0m: list index out of range"
     ]
    }
   ],
   "source": [
    "# pass before into zipcode function: initial test\n",
    "after = zipcode_looker(before, whole_test);"
   ]
  },
  {
   "cell_type": "markdown",
   "metadata": {},
   "source": [
    "While our function didn't technically work (again...) we have a clue this time thanks to our function printing out the indexes of each observation that was going to be changed. We can see that at index `889` the zip code for that particular observation needed to be updated (due to it not having either a length of 5 or 9) however, the variable `zipcode` in our function returned an `IndexError: list index out of range`. Up to this point, I haven't thought that the list it is talking about might be associated with the returned object from the `uszipcodes` search! \n",
    "\n",
    "Let's look closer at the observation at index `889`, and see what returns for that `cty`, `st` combination."
   ]
  },
  {
   "cell_type": "code",
   "execution_count": 259,
   "metadata": {},
   "outputs": [
    {
     "data": {
      "text/plain": [
       "npi                                   1003021866\n",
       "ind_pac_id                            4082844022\n",
       "ind_enrl_id                      I20140313000428\n",
       "full_nm                            DONNA  MELLE \n",
       "gndr                                           F\n",
       "cred                                  Not Listed\n",
       "med_sch                                    OTHER\n",
       "grd_yr                                      1995\n",
       "pri_spec           CERTIFIED NURSE MIDWIFE (CNM)\n",
       "sec_spec_1                                  None\n",
       "sec_spec_2                                  None\n",
       "sec_spec_3                                  None\n",
       "sec_spec_4                                  None\n",
       "sec_spec_all                                None\n",
       "org_lgl_nm        ATLANTICARE PHYSICIAN GROUP PA\n",
       "org_pac_id                           8.52795e+09\n",
       "num_org_mem                                  382\n",
       "full_adr                   65 W JIMMIE LEEDS RD \n",
       "ln_2_sprs                                      N\n",
       "cty                                       POMONA\n",
       "st                                            NJ\n",
       "full_location                         POMONA, NJ\n",
       "zip                                     82409102\n",
       "phn_numbr                            6.09652e+09\n",
       "hosp_afl_1                                   NaN\n",
       "hosp_afl_lbn_1                               NaN\n",
       "hosp_afl_2                                   NaN\n",
       "hosp_afl_lbn_2                               NaN\n",
       "hosp_afl_3                                   NaN\n",
       "hosp_afl_lbn_3                               NaN\n",
       "hosp_afl_4                                   NaN\n",
       "hosp_afl_lbn_4                               NaN\n",
       "hosp_afl_5                                   NaN\n",
       "hosp_afl_lbn_5                               NaN\n",
       "assgn                                          Y\n",
       "Name: 889, dtype: object"
      ]
     },
     "execution_count": 259,
     "metadata": {},
     "output_type": "execute_result"
    }
   ],
   "source": [
    "# see what the observation looks like\n",
    "before.iloc[889]"
   ]
  },
  {
   "cell_type": "code",
   "execution_count": 264,
   "metadata": {},
   "outputs": [
    {
     "data": {
      "text/plain": [
       "[]"
      ]
     },
     "execution_count": 264,
     "metadata": {},
     "output_type": "execute_result"
    }
   ],
   "source": [
    "# search by POMONA, NJ\n",
    "search.by_city_and_state(city=\"POMONA\", state=\"NJ\") # .values()[0]"
   ]
  },
  {
   "cell_type": "markdown",
   "metadata": {},
   "source": [
    "Think we may have found the culprit! The issue is when we search for the city of `POMONA, NJ` we get an empty list! And because we are calling the value at index `0` in our function, this will cause an error since there is no values in the list! We can update our function to pass and then possibly store the index we were't able to find, and thus, update. "
   ]
  },
  {
   "cell_type": "code",
   "execution_count": 284,
   "metadata": {},
   "outputs": [],
   "source": [
    "def zipcode_looker(df, index_list):\n",
    "    # counters to keep track of number of indexes updated or not updated\n",
    "    updated_count = 0\n",
    "    noupdate_count = 0\n",
    "    # list to store indexes that weren't updated\n",
    "    noupdate_list = []\n",
    "    for index, row in df.iterrows():\n",
    "        if index in index_list:\n",
    "            print('Found index that needs updating at index {}.'.format(index))\n",
    "            # split observation into cty and st\n",
    "            cty, st = [x.strip() for x in row['full_location'].split(', ')]\n",
    "            # use searchengine to look up cty and state\n",
    "            lookup = search.by_city_and_state(city=cty, state=st)\n",
    "            # check if zi is an empty list\n",
    "            if lookup == []:\n",
    "                print('Could not update the observation at index {}'.format(index))\n",
    "                noupdate_count += 1\n",
    "                print('Rows edited: {}\\nRows Not Updated Due to Error: {}'.format(updated_count, noupdate_count))\n",
    "                noupdate_list.append(index)\n",
    "                print('-' * 30)\n",
    "                pass\n",
    "            else:\n",
    "                # input cty, st to search for zip code\n",
    "                zipcode = lookup[0].values()[0]\n",
    "                # assign new zipcode to zip column\n",
    "                df['zip'][index] = zipcode\n",
    "                # print(thousand['zip'].at(int(index)))\n",
    "                print('Input new zip code for observation at index {}'.format(index))\n",
    "                updated_count += 1\n",
    "                print('Rows edited: {}\\nRows Not Updated Due to Error: {}'.format(updated_count, noupdate_count))\n",
    "                print('-' * 30)\n",
    "                time.sleep(random.uniform(0,0.5))\n",
    "            \n",
    "    else:\n",
    "        pass\n",
    "    \n",
    "    return df, noupdate_list"
   ]
  },
  {
   "cell_type": "code",
   "execution_count": 285,
   "metadata": {},
   "outputs": [
    {
     "data": {
      "text/plain": [
       "True"
      ]
     },
     "execution_count": 285,
     "metadata": {},
     "output_type": "execute_result"
    }
   ],
   "source": [
    "zipcode = []\n",
    "zipcode == []"
   ]
  },
  {
   "cell_type": "code",
   "execution_count": 286,
   "metadata": {},
   "outputs": [
    {
     "data": {
      "text/plain": [
       "9    918\n",
       "5     81\n",
       "8      1\n",
       "Name: zip, dtype: int64"
      ]
     },
     "execution_count": 286,
     "metadata": {},
     "output_type": "execute_result"
    }
   ],
   "source": [
    "# check value counts of before\n",
    "before['zip'].astype(str).str.len().value_counts()"
   ]
  },
  {
   "cell_type": "code",
   "execution_count": 287,
   "metadata": {},
   "outputs": [
    {
     "name": "stdout",
     "output_type": "stream",
     "text": [
      "Found index that needs updating at index 46.\n"
     ]
    },
    {
     "name": "stderr",
     "output_type": "stream",
     "text": [
      "/Users/jai/anaconda3/envs/geography/lib/python3.7/site-packages/ipykernel_launcher.py:26: SettingWithCopyWarning: \n",
      "A value is trying to be set on a copy of a slice from a DataFrame\n",
      "\n",
      "See the caveats in the documentation: http://pandas.pydata.org/pandas-docs/stable/indexing.html#indexing-view-versus-copy\n"
     ]
    },
    {
     "name": "stdout",
     "output_type": "stream",
     "text": [
      "Input new zip code for observation at index 46\n",
      "Rows edited: 1\n",
      "Rows Not Updated Due to Error: 0\n",
      "------------------------------\n",
      "Found index that needs updating at index 47.\n",
      "Input new zip code for observation at index 47\n",
      "Rows edited: 2\n",
      "Rows Not Updated Due to Error: 0\n",
      "------------------------------\n",
      "Found index that needs updating at index 64.\n",
      "Input new zip code for observation at index 64\n",
      "Rows edited: 3\n",
      "Rows Not Updated Due to Error: 0\n",
      "------------------------------\n",
      "Found index that needs updating at index 65.\n",
      "Input new zip code for observation at index 65\n",
      "Rows edited: 4\n",
      "Rows Not Updated Due to Error: 0\n",
      "------------------------------\n",
      "Found index that needs updating at index 69.\n",
      "Input new zip code for observation at index 69\n",
      "Rows edited: 5\n",
      "Rows Not Updated Due to Error: 0\n",
      "------------------------------\n",
      "Found index that needs updating at index 77.\n",
      "Input new zip code for observation at index 77\n",
      "Rows edited: 6\n",
      "Rows Not Updated Due to Error: 0\n",
      "------------------------------\n",
      "Found index that needs updating at index 78.\n",
      "Input new zip code for observation at index 78\n",
      "Rows edited: 7\n",
      "Rows Not Updated Due to Error: 0\n",
      "------------------------------\n",
      "Found index that needs updating at index 82.\n",
      "Input new zip code for observation at index 82\n",
      "Rows edited: 8\n",
      "Rows Not Updated Due to Error: 0\n",
      "------------------------------\n",
      "Found index that needs updating at index 93.\n",
      "Input new zip code for observation at index 93\n",
      "Rows edited: 9\n",
      "Rows Not Updated Due to Error: 0\n",
      "------------------------------\n",
      "Found index that needs updating at index 94.\n",
      "Input new zip code for observation at index 94\n",
      "Rows edited: 10\n",
      "Rows Not Updated Due to Error: 0\n",
      "------------------------------\n",
      "Found index that needs updating at index 200.\n",
      "Input new zip code for observation at index 200\n",
      "Rows edited: 11\n",
      "Rows Not Updated Due to Error: 0\n",
      "------------------------------\n",
      "Found index that needs updating at index 201.\n",
      "Input new zip code for observation at index 201\n",
      "Rows edited: 12\n",
      "Rows Not Updated Due to Error: 0\n",
      "------------------------------\n",
      "Found index that needs updating at index 244.\n",
      "Input new zip code for observation at index 244\n",
      "Rows edited: 13\n",
      "Rows Not Updated Due to Error: 0\n",
      "------------------------------\n",
      "Found index that needs updating at index 245.\n",
      "Input new zip code for observation at index 245\n",
      "Rows edited: 14\n",
      "Rows Not Updated Due to Error: 0\n",
      "------------------------------\n",
      "Found index that needs updating at index 251.\n",
      "Input new zip code for observation at index 251\n",
      "Rows edited: 15\n",
      "Rows Not Updated Due to Error: 0\n",
      "------------------------------\n",
      "Found index that needs updating at index 252.\n",
      "Input new zip code for observation at index 252\n",
      "Rows edited: 16\n",
      "Rows Not Updated Due to Error: 0\n",
      "------------------------------\n",
      "Found index that needs updating at index 271.\n",
      "Input new zip code for observation at index 271\n",
      "Rows edited: 17\n",
      "Rows Not Updated Due to Error: 0\n",
      "------------------------------\n",
      "Found index that needs updating at index 283.\n",
      "Input new zip code for observation at index 283\n",
      "Rows edited: 18\n",
      "Rows Not Updated Due to Error: 0\n",
      "------------------------------\n",
      "Found index that needs updating at index 284.\n",
      "Input new zip code for observation at index 284\n",
      "Rows edited: 19\n",
      "Rows Not Updated Due to Error: 0\n",
      "------------------------------\n",
      "Found index that needs updating at index 285.\n",
      "Input new zip code for observation at index 285\n",
      "Rows edited: 20\n",
      "Rows Not Updated Due to Error: 0\n",
      "------------------------------\n",
      "Found index that needs updating at index 338.\n",
      "Input new zip code for observation at index 338\n",
      "Rows edited: 21\n",
      "Rows Not Updated Due to Error: 0\n",
      "------------------------------\n",
      "Found index that needs updating at index 339.\n",
      "Input new zip code for observation at index 339\n",
      "Rows edited: 22\n",
      "Rows Not Updated Due to Error: 0\n",
      "------------------------------\n",
      "Found index that needs updating at index 358.\n",
      "Input new zip code for observation at index 358\n",
      "Rows edited: 23\n",
      "Rows Not Updated Due to Error: 0\n",
      "------------------------------\n",
      "Found index that needs updating at index 362.\n",
      "Input new zip code for observation at index 362\n",
      "Rows edited: 24\n",
      "Rows Not Updated Due to Error: 0\n",
      "------------------------------\n",
      "Found index that needs updating at index 363.\n",
      "Input new zip code for observation at index 363\n",
      "Rows edited: 25\n",
      "Rows Not Updated Due to Error: 0\n",
      "------------------------------\n",
      "Found index that needs updating at index 376.\n",
      "Input new zip code for observation at index 376\n",
      "Rows edited: 26\n",
      "Rows Not Updated Due to Error: 0\n",
      "------------------------------\n",
      "Found index that needs updating at index 377.\n",
      "Input new zip code for observation at index 377\n",
      "Rows edited: 27\n",
      "Rows Not Updated Due to Error: 0\n",
      "------------------------------\n",
      "Found index that needs updating at index 378.\n",
      "Input new zip code for observation at index 378\n",
      "Rows edited: 28\n",
      "Rows Not Updated Due to Error: 0\n",
      "------------------------------\n",
      "Found index that needs updating at index 379.\n",
      "Input new zip code for observation at index 379\n",
      "Rows edited: 29\n",
      "Rows Not Updated Due to Error: 0\n",
      "------------------------------\n",
      "Found index that needs updating at index 402.\n",
      "Input new zip code for observation at index 402\n",
      "Rows edited: 30\n",
      "Rows Not Updated Due to Error: 0\n",
      "------------------------------\n",
      "Found index that needs updating at index 505.\n",
      "Input new zip code for observation at index 505\n",
      "Rows edited: 31\n",
      "Rows Not Updated Due to Error: 0\n",
      "------------------------------\n",
      "Found index that needs updating at index 588.\n",
      "Input new zip code for observation at index 588\n",
      "Rows edited: 32\n",
      "Rows Not Updated Due to Error: 0\n",
      "------------------------------\n",
      "Found index that needs updating at index 589.\n",
      "Input new zip code for observation at index 589\n",
      "Rows edited: 33\n",
      "Rows Not Updated Due to Error: 0\n",
      "------------------------------\n",
      "Found index that needs updating at index 590.\n",
      "Input new zip code for observation at index 590\n",
      "Rows edited: 34\n",
      "Rows Not Updated Due to Error: 0\n",
      "------------------------------\n",
      "Found index that needs updating at index 591.\n",
      "Input new zip code for observation at index 591\n",
      "Rows edited: 35\n",
      "Rows Not Updated Due to Error: 0\n",
      "------------------------------\n",
      "Found index that needs updating at index 592.\n",
      "Input new zip code for observation at index 592\n",
      "Rows edited: 36\n",
      "Rows Not Updated Due to Error: 0\n",
      "------------------------------\n",
      "Found index that needs updating at index 593.\n",
      "Input new zip code for observation at index 593\n",
      "Rows edited: 37\n",
      "Rows Not Updated Due to Error: 0\n",
      "------------------------------\n",
      "Found index that needs updating at index 594.\n",
      "Input new zip code for observation at index 594\n",
      "Rows edited: 38\n",
      "Rows Not Updated Due to Error: 0\n",
      "------------------------------\n",
      "Found index that needs updating at index 639.\n",
      "Input new zip code for observation at index 639\n",
      "Rows edited: 39\n",
      "Rows Not Updated Due to Error: 0\n",
      "------------------------------\n",
      "Found index that needs updating at index 650.\n",
      "Input new zip code for observation at index 650\n",
      "Rows edited: 40\n",
      "Rows Not Updated Due to Error: 0\n",
      "------------------------------\n",
      "Found index that needs updating at index 659.\n",
      "Input new zip code for observation at index 659\n",
      "Rows edited: 41\n",
      "Rows Not Updated Due to Error: 0\n",
      "------------------------------\n",
      "Found index that needs updating at index 660.\n",
      "Input new zip code for observation at index 660\n",
      "Rows edited: 42\n",
      "Rows Not Updated Due to Error: 0\n",
      "------------------------------\n",
      "Found index that needs updating at index 666.\n",
      "Input new zip code for observation at index 666\n",
      "Rows edited: 43\n",
      "Rows Not Updated Due to Error: 0\n",
      "------------------------------\n",
      "Found index that needs updating at index 667.\n",
      "Input new zip code for observation at index 667\n",
      "Rows edited: 44\n",
      "Rows Not Updated Due to Error: 0\n",
      "------------------------------\n",
      "Found index that needs updating at index 668.\n",
      "Input new zip code for observation at index 668\n",
      "Rows edited: 45\n",
      "Rows Not Updated Due to Error: 0\n",
      "------------------------------\n",
      "Found index that needs updating at index 669.\n",
      "Input new zip code for observation at index 669\n",
      "Rows edited: 46\n",
      "Rows Not Updated Due to Error: 0\n",
      "------------------------------\n",
      "Found index that needs updating at index 670.\n",
      "Input new zip code for observation at index 670\n",
      "Rows edited: 47\n",
      "Rows Not Updated Due to Error: 0\n",
      "------------------------------\n",
      "Found index that needs updating at index 682.\n",
      "Input new zip code for observation at index 682\n",
      "Rows edited: 48\n",
      "Rows Not Updated Due to Error: 0\n",
      "------------------------------\n",
      "Found index that needs updating at index 691.\n",
      "Input new zip code for observation at index 691\n",
      "Rows edited: 49\n",
      "Rows Not Updated Due to Error: 0\n",
      "------------------------------\n",
      "Found index that needs updating at index 692.\n",
      "Input new zip code for observation at index 692\n",
      "Rows edited: 50\n",
      "Rows Not Updated Due to Error: 0\n",
      "------------------------------\n",
      "Found index that needs updating at index 764.\n",
      "Input new zip code for observation at index 764\n",
      "Rows edited: 51\n",
      "Rows Not Updated Due to Error: 0\n",
      "------------------------------\n",
      "Found index that needs updating at index 840.\n",
      "Input new zip code for observation at index 840\n",
      "Rows edited: 52\n",
      "Rows Not Updated Due to Error: 0\n",
      "------------------------------\n",
      "Found index that needs updating at index 860.\n",
      "Input new zip code for observation at index 860\n",
      "Rows edited: 53\n",
      "Rows Not Updated Due to Error: 0\n",
      "------------------------------\n",
      "Found index that needs updating at index 861.\n",
      "Input new zip code for observation at index 861\n",
      "Rows edited: 54\n",
      "Rows Not Updated Due to Error: 0\n",
      "------------------------------\n",
      "Found index that needs updating at index 879.\n",
      "Input new zip code for observation at index 879\n",
      "Rows edited: 55\n",
      "Rows Not Updated Due to Error: 0\n",
      "------------------------------\n",
      "Found index that needs updating at index 880.\n",
      "Input new zip code for observation at index 880\n",
      "Rows edited: 56\n",
      "Rows Not Updated Due to Error: 0\n",
      "------------------------------\n",
      "Found index that needs updating at index 881.\n",
      "Input new zip code for observation at index 881\n",
      "Rows edited: 57\n",
      "Rows Not Updated Due to Error: 0\n",
      "------------------------------\n",
      "Found index that needs updating at index 889.\n",
      "Could not update the observation at index 889\n",
      "Rows edited: 57\n",
      "Rows Not Updated Due to Error: 1\n",
      "------------------------------\n",
      "Found index that needs updating at index 890.\n",
      "Input new zip code for observation at index 890\n",
      "Rows edited: 58\n",
      "Rows Not Updated Due to Error: 1\n",
      "------------------------------\n",
      "Found index that needs updating at index 911.\n",
      "Input new zip code for observation at index 911\n",
      "Rows edited: 59\n",
      "Rows Not Updated Due to Error: 1\n",
      "------------------------------\n",
      "Found index that needs updating at index 950.\n",
      "Input new zip code for observation at index 950\n",
      "Rows edited: 60\n",
      "Rows Not Updated Due to Error: 1\n",
      "------------------------------\n",
      "Found index that needs updating at index 951.\n",
      "Input new zip code for observation at index 951\n",
      "Rows edited: 61\n",
      "Rows Not Updated Due to Error: 1\n",
      "------------------------------\n",
      "Found index that needs updating at index 959.\n",
      "Input new zip code for observation at index 959\n",
      "Rows edited: 62\n",
      "Rows Not Updated Due to Error: 1\n",
      "------------------------------\n",
      "Found index that needs updating at index 962.\n",
      "Input new zip code for observation at index 962\n",
      "Rows edited: 63\n",
      "Rows Not Updated Due to Error: 1\n",
      "------------------------------\n"
     ]
    }
   ],
   "source": [
    "# pass before into zipcode function: second test\n",
    "after, noupdate_list = zipcode_looker(before, whole_test);"
   ]
  },
  {
   "cell_type": "code",
   "execution_count": 288,
   "metadata": {},
   "outputs": [
    {
     "data": {
      "text/plain": [
       "9    918\n",
       "5     81\n",
       "8      1\n",
       "Name: zip, dtype: int64"
      ]
     },
     "execution_count": 288,
     "metadata": {},
     "output_type": "execute_result"
    }
   ],
   "source": [
    "# check value counts of after\n",
    "after['zip'].astype(str).str.len().value_counts()"
   ]
  },
  {
   "cell_type": "code",
   "execution_count": 290,
   "metadata": {},
   "outputs": [
    {
     "data": {
      "text/plain": [
       "[889]"
      ]
     },
     "execution_count": 290,
     "metadata": {},
     "output_type": "execute_result"
    }
   ],
   "source": [
    "# what is the index that could not be updated?\n",
    "noupdate_list"
   ]
  },
  {
   "cell_type": "code",
   "execution_count": 293,
   "metadata": {},
   "outputs": [
    {
     "data": {
      "text/plain": [
       "npi                                   1003021866\n",
       "ind_pac_id                            4082844022\n",
       "ind_enrl_id                      I20140313000428\n",
       "full_nm                            DONNA  MELLE \n",
       "gndr                                           F\n",
       "cred                                  Not Listed\n",
       "med_sch                                    OTHER\n",
       "grd_yr                                      1995\n",
       "pri_spec           CERTIFIED NURSE MIDWIFE (CNM)\n",
       "sec_spec_1                                  None\n",
       "sec_spec_2                                  None\n",
       "sec_spec_3                                  None\n",
       "sec_spec_4                                  None\n",
       "sec_spec_all                                None\n",
       "org_lgl_nm        ATLANTICARE PHYSICIAN GROUP PA\n",
       "org_pac_id                           8.52795e+09\n",
       "num_org_mem                                  382\n",
       "full_adr                   65 W JIMMIE LEEDS RD \n",
       "ln_2_sprs                                      N\n",
       "cty                                       POMONA\n",
       "st                                            NJ\n",
       "full_location                         POMONA, NJ\n",
       "zip                                     82409102\n",
       "phn_numbr                            6.09652e+09\n",
       "hosp_afl_1                                   NaN\n",
       "hosp_afl_lbn_1                               NaN\n",
       "hosp_afl_2                                   NaN\n",
       "hosp_afl_lbn_2                               NaN\n",
       "hosp_afl_3                                   NaN\n",
       "hosp_afl_lbn_3                               NaN\n",
       "hosp_afl_4                                   NaN\n",
       "hosp_afl_lbn_4                               NaN\n",
       "hosp_afl_5                                   NaN\n",
       "hosp_afl_lbn_5                               NaN\n",
       "assgn                                          Y\n",
       "Name: 889, dtype: object"
      ]
     },
     "execution_count": 293,
     "metadata": {},
     "output_type": "execute_result"
    }
   ],
   "source": [
    "# what does observation at index 889 look like?\n",
    "after.iloc[889]"
   ]
  },
  {
   "cell_type": "code",
   "execution_count": 294,
   "metadata": {},
   "outputs": [
    {
     "data": {
      "text/plain": [
       "[]"
      ]
     },
     "execution_count": 294,
     "metadata": {},
     "output_type": "execute_result"
    }
   ],
   "source": [
    "# let's see what returns when we input cty and st\n",
    "search.by_city_and_state(city=\"POMONA\", state=\"NJ\")"
   ]
  },
  {
   "cell_type": "markdown",
   "metadata": {},
   "source": [
    "### _Update: `Pomona, New Jersey`_\n",
    "\n",
    "It looks like this particular location is an 'unincorporated community and census-designated place (CDP) located within Galloway Township\" ([Wikipedia](https://en.wikipedia.org/wiki/Pomona,_New_Jersey)). From my interpretation this is sort of a town within a town. Now comes the hard part: do we just retrieve the corresponding zip code or include the zip code of the associated township? \n",
    "\n",
    "Before we rush into an answer, let's update our `zipcode_looker` function to make it more functional by eliminating the printouts and editing so that we might be able to use something like `apply()` to generate a new column."
   ]
  },
  {
   "cell_type": "code",
   "execution_count": 308,
   "metadata": {},
   "outputs": [],
   "source": [
    "def zip_generator(row):\n",
    "    # split observation into cty and st\n",
    "    cty, st = [x.strip() for x in row['full_location'].split(', ')]\n",
    "    # use searchengine to look up cty and state\n",
    "    lookup = search.by_city_and_state(city=cty, state=st)\n",
    "    if lookup == []:\n",
    "        return row['zip']\n",
    "    else:\n",
    "        zipcode = lookup[0].values()[0]\n",
    "        time.sleep(random.uniform(0, 0.25))\n",
    "        return zipcode"
   ]
  },
  {
   "cell_type": "code",
   "execution_count": 309,
   "metadata": {},
   "outputs": [
    {
     "data": {
      "text/plain": [
       "0    20190\n",
       "1    22201\n",
       "2    20189\n",
       "3    23831\n",
       "4    23860\n",
       "dtype: object"
      ]
     },
     "execution_count": 309,
     "metadata": {},
     "output_type": "execute_result"
    }
   ],
   "source": [
    "# test to see if the above function works with apply\n",
    "thousand.head(5).apply(lambda row: zip_generator(row), axis=1)"
   ]
  },
  {
   "cell_type": "code",
   "execution_count": 326,
   "metadata": {},
   "outputs": [],
   "source": [
    "# create a copy of data set that we can test on\n",
    "tester = thousand.copy()"
   ]
  },
  {
   "cell_type": "code",
   "execution_count": 327,
   "metadata": {},
   "outputs": [],
   "source": [
    "# let's test to see if we can generate a new column using the function we just created with apply\n",
    "# tester.apply(lambda row: zip_generator(row), axis=1)\n",
    "# it worked but was taking WAY too long..."
   ]
  },
  {
   "cell_type": "code",
   "execution_count": 338,
   "metadata": {},
   "outputs": [],
   "source": [
    "# update on function above\n",
    "def zip_generator(row):\n",
    "    if len(row['zip']) == 9:\n",
    "        return row['zip'][:5]\n",
    "        pass\n",
    "    elif len(row['zip']) == 5:\n",
    "        return row['zip']\n",
    "        pass\n",
    "    else:\n",
    "        # split observation into cty and st\n",
    "        cty, st = [x.strip() for x in row['full_location'].split(', ')]\n",
    "        # use searchengine to look up cty and state\n",
    "        lookup = search.by_city_and_state(city=cty, state=st)\n",
    "        if lookup == []:\n",
    "            return row['zip']\n",
    "        else:\n",
    "            zipcode = lookup[0].values()[0]\n",
    "            #time.sleep(random.uniform(0, 0.25))\n",
    "            return zipcode"
   ]
  },
  {
   "cell_type": "code",
   "execution_count": 339,
   "metadata": {},
   "outputs": [
    {
     "data": {
      "text/plain": [
       "0    20190\n",
       "1    22205\n",
       "2    20166\n",
       "3    23235\n",
       "4    23860\n",
       "dtype: object"
      ]
     },
     "execution_count": 339,
     "metadata": {},
     "output_type": "execute_result"
    }
   ],
   "source": [
    "# test to see if the above function works with apply\n",
    "tester.head(5).apply(lambda row: zip_generator(row), axis=1)"
   ]
  },
  {
   "cell_type": "code",
   "execution_count": 340,
   "metadata": {},
   "outputs": [
    {
     "name": "stdout",
     "output_type": "stream",
     "text": [
      "CPU times: user 1.11 s, sys: 35.9 ms, total: 1.14 s\n",
      "Wall time: 1.35 s\n"
     ]
    },
    {
     "data": {
      "text/plain": [
       "0     20190\n",
       "1     22205\n",
       "2     20166\n",
       "3     23235\n",
       "4     23860\n",
       "5     60026\n",
       "6     60026\n",
       "7     60035\n",
       "8     60035\n",
       "9     60076\n",
       "10    60076\n",
       "11    60076\n",
       "12    60201\n",
       "13    60201\n",
       "14    43608\n",
       "15    43608\n",
       "16    43616\n",
       "17    43623\n",
       "18    43623\n",
       "19    43623\n",
       "20    44060\n",
       "21    80045\n",
       "22    80045\n",
       "23    32763\n",
       "24    32763\n",
       "25    32763\n",
       "26    18951\n",
       "27    18951\n",
       "28    74104\n",
       "29    90095\n",
       "      ...  \n",
       "70    74104\n",
       "71    48059\n",
       "72    30094\n",
       "73    48532\n",
       "74    77656\n",
       "75    94538\n",
       "76    34669\n",
       "77    07731\n",
       "78    08827\n",
       "79    44087\n",
       "80    70433\n",
       "81    91402\n",
       "82    02188\n",
       "83    97213\n",
       "84    63090\n",
       "85    77566\n",
       "86    14618\n",
       "87    14642\n",
       "88    37777\n",
       "89    37801\n",
       "90    95370\n",
       "91    15202\n",
       "92    15212\n",
       "93    07410\n",
       "94    07834\n",
       "95    29615\n",
       "96    85711\n",
       "97    80601\n",
       "98    15905\n",
       "99    49337\n",
       "Length: 100, dtype: object"
      ]
     },
     "execution_count": 340,
     "metadata": {},
     "output_type": "execute_result"
    }
   ],
   "source": [
    "%%time \n",
    "# let's test it now on the first 100 hundreds rows and time it\n",
    "# test to see if the above function works with apply\n",
    "tester.head(100).apply(lambda row: zip_generator(row), axis=1)"
   ]
  },
  {
   "cell_type": "code",
   "execution_count": 341,
   "metadata": {},
   "outputs": [
    {
     "name": "stdout",
     "output_type": "stream",
     "text": [
      "CPU times: user 6.52 s, sys: 140 ms, total: 6.66 s\n",
      "Wall time: 6.69 s\n"
     ]
    }
   ],
   "source": [
    "%%time\n",
    "\n",
    "# ok let's test it on the whole data set and create a new column\n",
    "tester['new_zip'] = tester.apply(lambda row: zip_generator(row), axis=1)"
   ]
  },
  {
   "cell_type": "code",
   "execution_count": 342,
   "metadata": {},
   "outputs": [
    {
     "data": {
      "text/plain": [
       "5    999\n",
       "8      1\n",
       "Name: new_zip, dtype: int64"
      ]
     },
     "execution_count": 342,
     "metadata": {},
     "output_type": "execute_result"
    }
   ],
   "source": [
    "# check out the unique lengths in new_zip column\n",
    "# check value counts of after\n",
    "tester['new_zip'].astype(str).str.len().value_counts()"
   ]
  },
  {
   "cell_type": "code",
   "execution_count": 343,
   "metadata": {},
   "outputs": [
    {
     "data": {
      "text/plain": [
       "10.220833333333333"
      ]
     },
     "execution_count": 343,
     "metadata": {},
     "output_type": "execute_result"
    }
   ],
   "source": [
    "((2200000 / 1000) * 6.69) / 60 /24"
   ]
  }
 ],
 "metadata": {
  "kernelspec": {
   "display_name": "Python 3",
   "language": "python",
   "name": "python3"
  },
  "language_info": {
   "codemirror_mode": {
    "name": "ipython",
    "version": 3
   },
   "file_extension": ".py",
   "mimetype": "text/x-python",
   "name": "python",
   "nbconvert_exporter": "python",
   "pygments_lexer": "ipython3",
   "version": "3.7.3"
  }
 },
 "nbformat": 4,
 "nbformat_minor": 4
}
