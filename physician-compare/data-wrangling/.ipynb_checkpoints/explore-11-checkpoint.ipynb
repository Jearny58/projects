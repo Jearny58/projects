{
 "cells": [
  {
   "cell_type": "markdown",
   "metadata": {},
   "source": [
    "# _Physician Compare National: Explore #10_\n",
    "\n",
    "This notebook is a continuation from of my analysis on the following data gathered via [Data.Medicare.gov](https://data.medicare.gov/Physician-Compare/Physician-Compare-National-Downloadable-File/mj5m-pzi6). It contains general information about individual eligible professionals (EPs) such as demographic information and Medicare quality program participation. This dataset is updated twice a month with the most current demographic information available at that time.\n",
    "\n",
    "# _Today's Goal(s)_\n",
    "\n",
    "Further test functions designed yesterday to clean the zip code column; if a viable solution is developed, then I will implement on the full data set."
   ]
  },
  {
   "cell_type": "code",
   "execution_count": 1,
   "metadata": {},
   "outputs": [
    {
     "name": "stdout",
     "output_type": "stream",
     "text": [
      "Work started:  2019-10-08 09:07:05.612815\n"
     ]
    }
   ],
   "source": [
    "from datetime import datetime\n",
    "\n",
    "# current date and time\n",
    "now = datetime.now()\n",
    "\n",
    "# timestamp to signify the beginning of work\n",
    "print(\"Work started: \", now)"
   ]
  },
  {
   "cell_type": "code",
   "execution_count": 2,
   "metadata": {},
   "outputs": [
    {
     "data": {
      "text/html": [
       "<div>\n",
       "<style scoped>\n",
       "    .dataframe tbody tr th:only-of-type {\n",
       "        vertical-align: middle;\n",
       "    }\n",
       "\n",
       "    .dataframe tbody tr th {\n",
       "        vertical-align: top;\n",
       "    }\n",
       "\n",
       "    .dataframe thead th {\n",
       "        text-align: right;\n",
       "    }\n",
       "</style>\n",
       "<table border=\"1\" class=\"dataframe\">\n",
       "  <thead>\n",
       "    <tr style=\"text-align: right;\">\n",
       "      <th></th>\n",
       "      <th>npi</th>\n",
       "      <th>ind_pac_id</th>\n",
       "      <th>ind_enrl_id</th>\n",
       "      <th>full_nm</th>\n",
       "      <th>gndr</th>\n",
       "      <th>cred</th>\n",
       "      <th>med_sch</th>\n",
       "      <th>grd_yr</th>\n",
       "      <th>pri_spec</th>\n",
       "      <th>sec_spec_1</th>\n",
       "      <th>sec_spec_2</th>\n",
       "      <th>sec_spec_3</th>\n",
       "      <th>sec_spec_4</th>\n",
       "      <th>sec_spec_all</th>\n",
       "      <th>org_lgl_nm</th>\n",
       "      <th>org_pac_id</th>\n",
       "      <th>num_org_mem</th>\n",
       "      <th>full_adr</th>\n",
       "      <th>ln_2_sprs</th>\n",
       "      <th>cty</th>\n",
       "      <th>st</th>\n",
       "      <th>zip</th>\n",
       "      <th>phn_numbr</th>\n",
       "      <th>hosp_afl_1</th>\n",
       "      <th>hosp_afl_lbn_1</th>\n",
       "      <th>hosp_afl_2</th>\n",
       "      <th>hosp_afl_lbn_2</th>\n",
       "      <th>hosp_afl_3</th>\n",
       "      <th>hosp_afl_lbn_3</th>\n",
       "      <th>hosp_afl_4</th>\n",
       "      <th>hosp_afl_lbn_4</th>\n",
       "      <th>hosp_afl_5</th>\n",
       "      <th>hosp_afl_lbn_5</th>\n",
       "      <th>assgn</th>\n",
       "    </tr>\n",
       "  </thead>\n",
       "  <tbody>\n",
       "    <tr>\n",
       "      <th>0</th>\n",
       "      <td>1003000126</td>\n",
       "      <td>7517003643</td>\n",
       "      <td>I20130530000085</td>\n",
       "      <td>ARDALAN  ENKESHAFI</td>\n",
       "      <td>M</td>\n",
       "      <td>Not Listed</td>\n",
       "      <td>OTHER</td>\n",
       "      <td>1994</td>\n",
       "      <td>INTERNAL MEDICINE</td>\n",
       "      <td>None</td>\n",
       "      <td>None</td>\n",
       "      <td>None</td>\n",
       "      <td>None</td>\n",
       "      <td>None</td>\n",
       "      <td>EMERGENCY MEDICINE ASSOCIATES PA PC</td>\n",
       "      <td>8.022915e+09</td>\n",
       "      <td>182</td>\n",
       "      <td>1850 TOWN CTR PKWY</td>\n",
       "      <td>N</td>\n",
       "      <td>RESTON</td>\n",
       "      <td>VA</td>\n",
       "      <td>201903219</td>\n",
       "      <td>7.036899e+09</td>\n",
       "      <td>490112.0</td>\n",
       "      <td>CJW MEDICAL CENTER</td>\n",
       "      <td>210028.0</td>\n",
       "      <td>MEDSTAR SAINT MARY'S HOSPITAL</td>\n",
       "      <td>NaN</td>\n",
       "      <td>NaN</td>\n",
       "      <td>NaN</td>\n",
       "      <td>NaN</td>\n",
       "      <td>NaN</td>\n",
       "      <td>NaN</td>\n",
       "      <td>Y</td>\n",
       "    </tr>\n",
       "    <tr>\n",
       "      <th>1</th>\n",
       "      <td>1003000126</td>\n",
       "      <td>7517003643</td>\n",
       "      <td>I20130530000085</td>\n",
       "      <td>ARDALAN  ENKESHAFI</td>\n",
       "      <td>M</td>\n",
       "      <td>Not Listed</td>\n",
       "      <td>OTHER</td>\n",
       "      <td>1994</td>\n",
       "      <td>INTERNAL MEDICINE</td>\n",
       "      <td>None</td>\n",
       "      <td>None</td>\n",
       "      <td>None</td>\n",
       "      <td>None</td>\n",
       "      <td>None</td>\n",
       "      <td>EMERGENCY MEDICINE ASSOCIATES PA PC</td>\n",
       "      <td>8.022915e+09</td>\n",
       "      <td>182</td>\n",
       "      <td>1701 N GEORGE MASON DR</td>\n",
       "      <td>N</td>\n",
       "      <td>ARLINGTON</td>\n",
       "      <td>VA</td>\n",
       "      <td>222053610</td>\n",
       "      <td>7.035586e+09</td>\n",
       "      <td>490112.0</td>\n",
       "      <td>CJW MEDICAL CENTER</td>\n",
       "      <td>210028.0</td>\n",
       "      <td>MEDSTAR SAINT MARY'S HOSPITAL</td>\n",
       "      <td>NaN</td>\n",
       "      <td>NaN</td>\n",
       "      <td>NaN</td>\n",
       "      <td>NaN</td>\n",
       "      <td>NaN</td>\n",
       "      <td>NaN</td>\n",
       "      <td>Y</td>\n",
       "    </tr>\n",
       "    <tr>\n",
       "      <th>2</th>\n",
       "      <td>1003000126</td>\n",
       "      <td>7517003643</td>\n",
       "      <td>I20150824000105</td>\n",
       "      <td>ARDALAN  ENKESHAFI</td>\n",
       "      <td>M</td>\n",
       "      <td>Not Listed</td>\n",
       "      <td>OTHER</td>\n",
       "      <td>1994</td>\n",
       "      <td>INTERNAL MEDICINE</td>\n",
       "      <td>None</td>\n",
       "      <td>None</td>\n",
       "      <td>None</td>\n",
       "      <td>None</td>\n",
       "      <td>None</td>\n",
       "      <td>EMERGENCY MEDICINE ASSOCIATES PA PC</td>\n",
       "      <td>8.022915e+09</td>\n",
       "      <td>182</td>\n",
       "      <td>24440 STONE SPRINGS BLVD</td>\n",
       "      <td>N</td>\n",
       "      <td>DULLES</td>\n",
       "      <td>VA</td>\n",
       "      <td>201662247</td>\n",
       "      <td>5.713674e+09</td>\n",
       "      <td>490112.0</td>\n",
       "      <td>CJW MEDICAL CENTER</td>\n",
       "      <td>210028.0</td>\n",
       "      <td>MEDSTAR SAINT MARY'S HOSPITAL</td>\n",
       "      <td>NaN</td>\n",
       "      <td>NaN</td>\n",
       "      <td>NaN</td>\n",
       "      <td>NaN</td>\n",
       "      <td>NaN</td>\n",
       "      <td>NaN</td>\n",
       "      <td>Y</td>\n",
       "    </tr>\n",
       "    <tr>\n",
       "      <th>3</th>\n",
       "      <td>1003000126</td>\n",
       "      <td>7517003643</td>\n",
       "      <td>I20150824000105</td>\n",
       "      <td>ARDALAN  ENKESHAFI</td>\n",
       "      <td>M</td>\n",
       "      <td>Not Listed</td>\n",
       "      <td>OTHER</td>\n",
       "      <td>1994</td>\n",
       "      <td>INTERNAL MEDICINE</td>\n",
       "      <td>None</td>\n",
       "      <td>None</td>\n",
       "      <td>None</td>\n",
       "      <td>None</td>\n",
       "      <td>None</td>\n",
       "      <td>SOUTHEASTERN INTENSIVIST SERVICES PC</td>\n",
       "      <td>9.335152e+09</td>\n",
       "      <td>133</td>\n",
       "      <td>1401 JOHNSTON WILLIS DR</td>\n",
       "      <td>N</td>\n",
       "      <td>NORTH CHESTERFIELD</td>\n",
       "      <td>VA</td>\n",
       "      <td>232354730</td>\n",
       "      <td>8.044835e+09</td>\n",
       "      <td>490112.0</td>\n",
       "      <td>CJW MEDICAL CENTER</td>\n",
       "      <td>210028.0</td>\n",
       "      <td>MEDSTAR SAINT MARY'S HOSPITAL</td>\n",
       "      <td>NaN</td>\n",
       "      <td>NaN</td>\n",
       "      <td>NaN</td>\n",
       "      <td>NaN</td>\n",
       "      <td>NaN</td>\n",
       "      <td>NaN</td>\n",
       "      <td>Y</td>\n",
       "    </tr>\n",
       "    <tr>\n",
       "      <th>4</th>\n",
       "      <td>1003000126</td>\n",
       "      <td>7517003643</td>\n",
       "      <td>I20150824000105</td>\n",
       "      <td>ARDALAN  ENKESHAFI</td>\n",
       "      <td>M</td>\n",
       "      <td>Not Listed</td>\n",
       "      <td>OTHER</td>\n",
       "      <td>1994</td>\n",
       "      <td>INTERNAL MEDICINE</td>\n",
       "      <td>None</td>\n",
       "      <td>None</td>\n",
       "      <td>None</td>\n",
       "      <td>None</td>\n",
       "      <td>None</td>\n",
       "      <td>SOUTHEASTERN INTENSIVIST SERVICES PC</td>\n",
       "      <td>9.335152e+09</td>\n",
       "      <td>133</td>\n",
       "      <td>411 W RANDOLPH RD</td>\n",
       "      <td>N</td>\n",
       "      <td>HOPEWELL</td>\n",
       "      <td>VA</td>\n",
       "      <td>238602938</td>\n",
       "      <td>8.045412e+09</td>\n",
       "      <td>490112.0</td>\n",
       "      <td>CJW MEDICAL CENTER</td>\n",
       "      <td>210028.0</td>\n",
       "      <td>MEDSTAR SAINT MARY'S HOSPITAL</td>\n",
       "      <td>NaN</td>\n",
       "      <td>NaN</td>\n",
       "      <td>NaN</td>\n",
       "      <td>NaN</td>\n",
       "      <td>NaN</td>\n",
       "      <td>NaN</td>\n",
       "      <td>Y</td>\n",
       "    </tr>\n",
       "  </tbody>\n",
       "</table>\n",
       "</div>"
      ],
      "text/plain": [
       "          npi  ind_pac_id      ind_enrl_id              full_nm gndr  \\\n",
       "0  1003000126  7517003643  I20130530000085  ARDALAN  ENKESHAFI     M   \n",
       "1  1003000126  7517003643  I20130530000085  ARDALAN  ENKESHAFI     M   \n",
       "2  1003000126  7517003643  I20150824000105  ARDALAN  ENKESHAFI     M   \n",
       "3  1003000126  7517003643  I20150824000105  ARDALAN  ENKESHAFI     M   \n",
       "4  1003000126  7517003643  I20150824000105  ARDALAN  ENKESHAFI     M   \n",
       "\n",
       "         cred med_sch  grd_yr           pri_spec sec_spec_1 sec_spec_2  \\\n",
       "0  Not Listed   OTHER    1994  INTERNAL MEDICINE       None       None   \n",
       "1  Not Listed   OTHER    1994  INTERNAL MEDICINE       None       None   \n",
       "2  Not Listed   OTHER    1994  INTERNAL MEDICINE       None       None   \n",
       "3  Not Listed   OTHER    1994  INTERNAL MEDICINE       None       None   \n",
       "4  Not Listed   OTHER    1994  INTERNAL MEDICINE       None       None   \n",
       "\n",
       "  sec_spec_3 sec_spec_4 sec_spec_all                            org_lgl_nm  \\\n",
       "0       None       None         None   EMERGENCY MEDICINE ASSOCIATES PA PC   \n",
       "1       None       None         None   EMERGENCY MEDICINE ASSOCIATES PA PC   \n",
       "2       None       None         None   EMERGENCY MEDICINE ASSOCIATES PA PC   \n",
       "3       None       None         None  SOUTHEASTERN INTENSIVIST SERVICES PC   \n",
       "4       None       None         None  SOUTHEASTERN INTENSIVIST SERVICES PC   \n",
       "\n",
       "     org_pac_id  num_org_mem                   full_adr ln_2_sprs  \\\n",
       "0  8.022915e+09          182        1850 TOWN CTR PKWY          N   \n",
       "1  8.022915e+09          182    1701 N GEORGE MASON DR          N   \n",
       "2  8.022915e+09          182  24440 STONE SPRINGS BLVD          N   \n",
       "3  9.335152e+09          133   1401 JOHNSTON WILLIS DR          N   \n",
       "4  9.335152e+09          133         411 W RANDOLPH RD          N   \n",
       "\n",
       "                  cty  st        zip     phn_numbr hosp_afl_1  \\\n",
       "0              RESTON  VA  201903219  7.036899e+09   490112.0   \n",
       "1           ARLINGTON  VA  222053610  7.035586e+09   490112.0   \n",
       "2              DULLES  VA  201662247  5.713674e+09   490112.0   \n",
       "3  NORTH CHESTERFIELD  VA  232354730  8.044835e+09   490112.0   \n",
       "4            HOPEWELL  VA  238602938  8.045412e+09   490112.0   \n",
       "\n",
       "       hosp_afl_lbn_1 hosp_afl_2                 hosp_afl_lbn_2 hosp_afl_3  \\\n",
       "0  CJW MEDICAL CENTER   210028.0  MEDSTAR SAINT MARY'S HOSPITAL        NaN   \n",
       "1  CJW MEDICAL CENTER   210028.0  MEDSTAR SAINT MARY'S HOSPITAL        NaN   \n",
       "2  CJW MEDICAL CENTER   210028.0  MEDSTAR SAINT MARY'S HOSPITAL        NaN   \n",
       "3  CJW MEDICAL CENTER   210028.0  MEDSTAR SAINT MARY'S HOSPITAL        NaN   \n",
       "4  CJW MEDICAL CENTER   210028.0  MEDSTAR SAINT MARY'S HOSPITAL        NaN   \n",
       "\n",
       "  hosp_afl_lbn_3 hosp_afl_4 hosp_afl_lbn_4  hosp_afl_5 hosp_afl_lbn_5 assgn  \n",
       "0            NaN        NaN            NaN         NaN            NaN     Y  \n",
       "1            NaN        NaN            NaN         NaN            NaN     Y  \n",
       "2            NaN        NaN            NaN         NaN            NaN     Y  \n",
       "3            NaN        NaN            NaN         NaN            NaN     Y  \n",
       "4            NaN        NaN            NaN         NaN            NaN     Y  "
      ]
     },
     "execution_count": 2,
     "metadata": {},
     "output_type": "execute_result"
    }
   ],
   "source": [
    "# first thing we need to do --> load in the data\n",
    "# import pandas\n",
    "import pandas as pd\n",
    "pd.options.display.max_columns = None\n",
    "%load_ext autoreload\n",
    "%autoreload 2\n",
    "\n",
    "# import data from yesterday\n",
    "data = pd.read_csv('physician_compare_national-updates-2.csv', low_memory=False);\n",
    "\n",
    "# inspect the first five rows\n",
    "data.head()"
   ]
  },
  {
   "cell_type": "code",
   "execution_count": 3,
   "metadata": {},
   "outputs": [
    {
     "name": "stdout",
     "output_type": "stream",
     "text": [
      "Length of zip codes take the following values: [3, 4, 5, 7, 8, 9]\n"
     ]
    }
   ],
   "source": [
    "# what are the unique lengths of the zip codes?\n",
    "print('Length of zip codes take the following values: {}'.format(sorted(data['zip'].str.len().unique())))"
   ]
  },
  {
   "cell_type": "code",
   "execution_count": 4,
   "metadata": {},
   "outputs": [
    {
     "data": {
      "text/plain": [
       "9    2059140\n",
       "8     132917\n",
       "5      13060\n",
       "7       3039\n",
       "3       1710\n",
       "4        924\n",
       "Name: zip, dtype: int64"
      ]
     },
     "execution_count": 4,
     "metadata": {},
     "output_type": "execute_result"
    }
   ],
   "source": [
    "# what are the value counts for each length of the zip codes?\n",
    "data['zip'].str.len().value_counts()"
   ]
  },
  {
   "cell_type": "markdown",
   "metadata": {},
   "source": [
    "## _Reimplement Zipcode Function from `explore-9`_"
   ]
  },
  {
   "cell_type": "code",
   "execution_count": 5,
   "metadata": {},
   "outputs": [],
   "source": [
    "# sample 25% of original data\n",
    "sample = data.sample(frac=0.25, random_state=1)"
   ]
  },
  {
   "cell_type": "code",
   "execution_count": 6,
   "metadata": {},
   "outputs": [
    {
     "name": "stdout",
     "output_type": "stream",
     "text": [
      "<class 'pandas.core.frame.DataFrame'>\n",
      "Int64Index: 552698 entries, 1471535 to 1131096\n",
      "Data columns (total 34 columns):\n",
      "npi               552698 non-null int64\n",
      "ind_pac_id        552698 non-null int64\n",
      "ind_enrl_id       552698 non-null object\n",
      "full_nm           552698 non-null object\n",
      "gndr              552698 non-null object\n",
      "cred              552698 non-null object\n",
      "med_sch           552698 non-null object\n",
      "grd_yr            552698 non-null int64\n",
      "pri_spec          552698 non-null object\n",
      "sec_spec_1        552698 non-null object\n",
      "sec_spec_2        552698 non-null object\n",
      "sec_spec_3        552698 non-null object\n",
      "sec_spec_4        552698 non-null object\n",
      "sec_spec_all      552698 non-null object\n",
      "org_lgl_nm        552698 non-null object\n",
      "org_pac_id        508216 non-null float64\n",
      "num_org_mem       552698 non-null int64\n",
      "full_adr          552698 non-null object\n",
      "ln_2_sprs         552698 non-null object\n",
      "cty               552698 non-null object\n",
      "st                552698 non-null object\n",
      "zip               552698 non-null object\n",
      "phn_numbr         468381 non-null float64\n",
      "hosp_afl_1        405421 non-null object\n",
      "hosp_afl_lbn_1    404855 non-null object\n",
      "hosp_afl_2        223928 non-null object\n",
      "hosp_afl_lbn_2    223183 non-null object\n",
      "hosp_afl_3        128975 non-null object\n",
      "hosp_afl_lbn_3    128466 non-null object\n",
      "hosp_afl_4        78734 non-null object\n",
      "hosp_afl_lbn_4    78449 non-null object\n",
      "hosp_afl_5        51067 non-null float64\n",
      "hosp_afl_lbn_5    50855 non-null object\n",
      "assgn             552698 non-null object\n",
      "dtypes: float64(3), int64(4), object(27)\n",
      "memory usage: 147.6+ MB\n"
     ]
    }
   ],
   "source": [
    "sample.info()"
   ]
  },
  {
   "cell_type": "code",
   "execution_count": 8,
   "metadata": {},
   "outputs": [
    {
     "data": {
      "text/plain": [
       "dtype('O')"
      ]
     },
     "execution_count": 8,
     "metadata": {},
     "output_type": "execute_result"
    }
   ],
   "source": [
    "# what is the data type of the zip column in thousand?\n",
    "sample['zip'].dtype"
   ]
  },
  {
   "cell_type": "code",
   "execution_count": 9,
   "metadata": {},
   "outputs": [
    {
     "name": "stdout",
     "output_type": "stream",
     "text": [
      "9\n",
      "9\n",
      "9\n",
      "9\n",
      "9\n"
     ]
    }
   ],
   "source": [
    "# what are the lengths of the first five zip codes in the zip column?\n",
    "for x in sample['zip'].head():\n",
    "    print(len(str(x)))"
   ]
  },
  {
   "cell_type": "code",
   "execution_count": 10,
   "metadata": {},
   "outputs": [
    {
     "data": {
      "text/plain": [
       "[3, 4, 5, 7, 8, 9]"
      ]
     },
     "execution_count": 10,
     "metadata": {},
     "output_type": "execute_result"
    }
   ],
   "source": [
    "# what are the unique lengths of the zip codes in the zip column\n",
    "sorted(sample['zip'].astype(str).str.len().unique())"
   ]
  },
  {
   "cell_type": "code",
   "execution_count": 11,
   "metadata": {},
   "outputs": [
    {
     "data": {
      "text/plain": [
       "9    514907\n",
       "8     33060\n",
       "5      3272\n",
       "7       760\n",
       "3       443\n",
       "4       256\n",
       "Name: zip, dtype: int64"
      ]
     },
     "execution_count": 11,
     "metadata": {},
     "output_type": "execute_result"
    }
   ],
   "source": [
    "# what are the value counts for the associated zip code lengths?\n",
    "sample['zip'].astype(str).str.len().value_counts()"
   ]
  },
  {
   "cell_type": "markdown",
   "metadata": {},
   "source": [
    "## _Create `full_location` column in `sample`_"
   ]
  },
  {
   "cell_type": "code",
   "execution_count": 12,
   "metadata": {},
   "outputs": [
    {
     "name": "stdout",
     "output_type": "stream",
     "text": [
      "CPU times: user 101 ms, sys: 34.1 ms, total: 135 ms\n",
      "Wall time: 207 ms\n"
     ]
    }
   ],
   "source": [
    "%%time\n",
    "# create full_location by combining cty and st\n",
    "full_location = sample['cty'] + ', ' + sample['st']"
   ]
  },
  {
   "cell_type": "code",
   "execution_count": 13,
   "metadata": {},
   "outputs": [
    {
     "name": "stdout",
     "output_type": "stream",
     "text": [
      "Column index: 0 Column name: npi\n",
      "Column index: 1 Column name: ind_pac_id\n",
      "Column index: 2 Column name: ind_enrl_id\n",
      "Column index: 3 Column name: full_nm\n",
      "Column index: 4 Column name: gndr\n",
      "Column index: 5 Column name: cred\n",
      "Column index: 6 Column name: med_sch\n",
      "Column index: 7 Column name: grd_yr\n",
      "Column index: 8 Column name: pri_spec\n",
      "Column index: 9 Column name: sec_spec_1\n",
      "Column index: 10 Column name: sec_spec_2\n",
      "Column index: 11 Column name: sec_spec_3\n",
      "Column index: 12 Column name: sec_spec_4\n",
      "Column index: 13 Column name: sec_spec_all\n",
      "Column index: 14 Column name: org_lgl_nm\n",
      "Column index: 15 Column name: org_pac_id\n",
      "Column index: 16 Column name: num_org_mem\n",
      "Column index: 17 Column name: full_adr\n",
      "Column index: 18 Column name: ln_2_sprs\n",
      "Column index: 19 Column name: cty\n",
      "Column index: 20 Column name: st\n",
      "Column index: 21 Column name: zip\n",
      "Column index: 22 Column name: phn_numbr\n",
      "Column index: 23 Column name: hosp_afl_1\n",
      "Column index: 24 Column name: hosp_afl_lbn_1\n",
      "Column index: 25 Column name: hosp_afl_2\n",
      "Column index: 26 Column name: hosp_afl_lbn_2\n",
      "Column index: 27 Column name: hosp_afl_3\n",
      "Column index: 28 Column name: hosp_afl_lbn_3\n",
      "Column index: 29 Column name: hosp_afl_4\n",
      "Column index: 30 Column name: hosp_afl_lbn_4\n",
      "Column index: 31 Column name: hosp_afl_5\n",
      "Column index: 32 Column name: hosp_afl_lbn_5\n",
      "Column index: 33 Column name: assgn\n"
     ]
    }
   ],
   "source": [
    "# print out the columns and their associated index\n",
    "for i, v in enumerate(list(sample.columns)):\n",
    "    print('Column index: {} Column name: {}'.format(i, v))"
   ]
  },
  {
   "cell_type": "code",
   "execution_count": 14,
   "metadata": {},
   "outputs": [],
   "source": [
    "# insert full location after st column (index = 21)\n",
    "sample.insert(loc=21, column='full_location', value=full_location)"
   ]
  },
  {
   "cell_type": "code",
   "execution_count": 15,
   "metadata": {},
   "outputs": [
    {
     "data": {
      "text/html": [
       "<div>\n",
       "<style scoped>\n",
       "    .dataframe tbody tr th:only-of-type {\n",
       "        vertical-align: middle;\n",
       "    }\n",
       "\n",
       "    .dataframe tbody tr th {\n",
       "        vertical-align: top;\n",
       "    }\n",
       "\n",
       "    .dataframe thead th {\n",
       "        text-align: right;\n",
       "    }\n",
       "</style>\n",
       "<table border=\"1\" class=\"dataframe\">\n",
       "  <thead>\n",
       "    <tr style=\"text-align: right;\">\n",
       "      <th></th>\n",
       "      <th>npi</th>\n",
       "      <th>ind_pac_id</th>\n",
       "      <th>ind_enrl_id</th>\n",
       "      <th>full_nm</th>\n",
       "      <th>gndr</th>\n",
       "      <th>cred</th>\n",
       "      <th>med_sch</th>\n",
       "      <th>grd_yr</th>\n",
       "      <th>pri_spec</th>\n",
       "      <th>sec_spec_1</th>\n",
       "      <th>sec_spec_2</th>\n",
       "      <th>sec_spec_3</th>\n",
       "      <th>sec_spec_4</th>\n",
       "      <th>sec_spec_all</th>\n",
       "      <th>org_lgl_nm</th>\n",
       "      <th>org_pac_id</th>\n",
       "      <th>num_org_mem</th>\n",
       "      <th>full_adr</th>\n",
       "      <th>ln_2_sprs</th>\n",
       "      <th>cty</th>\n",
       "      <th>st</th>\n",
       "      <th>full_location</th>\n",
       "      <th>zip</th>\n",
       "      <th>phn_numbr</th>\n",
       "      <th>hosp_afl_1</th>\n",
       "      <th>hosp_afl_lbn_1</th>\n",
       "      <th>hosp_afl_2</th>\n",
       "      <th>hosp_afl_lbn_2</th>\n",
       "      <th>hosp_afl_3</th>\n",
       "      <th>hosp_afl_lbn_3</th>\n",
       "      <th>hosp_afl_4</th>\n",
       "      <th>hosp_afl_lbn_4</th>\n",
       "      <th>hosp_afl_5</th>\n",
       "      <th>hosp_afl_lbn_5</th>\n",
       "      <th>assgn</th>\n",
       "    </tr>\n",
       "  </thead>\n",
       "  <tbody>\n",
       "    <tr>\n",
       "      <th>1471535</th>\n",
       "      <td>1669574299</td>\n",
       "      <td>6103910880</td>\n",
       "      <td>I20070926000346</td>\n",
       "      <td>JYOTHI  JOLEPALEM</td>\n",
       "      <td>M</td>\n",
       "      <td>Not Listed</td>\n",
       "      <td>OTHER</td>\n",
       "      <td>1988</td>\n",
       "      <td>PULMONARY DISEASE</td>\n",
       "      <td>CRITICAL CARE (INTENSIVISTS)</td>\n",
       "      <td>None</td>\n",
       "      <td>None</td>\n",
       "      <td>None</td>\n",
       "      <td>CRITICAL CARE (INTENSIVISTS)</td>\n",
       "      <td>None</td>\n",
       "      <td>NaN</td>\n",
       "      <td>1</td>\n",
       "      <td>3 ERIE CT SUITE 7010</td>\n",
       "      <td>N</td>\n",
       "      <td>OAK PARK</td>\n",
       "      <td>IL</td>\n",
       "      <td>OAK PARK, IL</td>\n",
       "      <td>603022519</td>\n",
       "      <td>NaN</td>\n",
       "      <td>140049.0</td>\n",
       "      <td>WEST SUBURBAN MEDICAL CENTER</td>\n",
       "      <td>140082.0</td>\n",
       "      <td>LOUIS A WEISS MEMORIAL HOSPITAL</td>\n",
       "      <td>140251.0</td>\n",
       "      <td>COMMUNITY FIRST MEDICAL CENTER</td>\n",
       "      <td>140240.0</td>\n",
       "      <td>WESTLAKE COMMUNITY HOSPITAL</td>\n",
       "      <td>NaN</td>\n",
       "      <td>NaN</td>\n",
       "      <td>M</td>\n",
       "    </tr>\n",
       "    <tr>\n",
       "      <th>965233</th>\n",
       "      <td>1437367109</td>\n",
       "      <td>3779656590</td>\n",
       "      <td>I20080725000695</td>\n",
       "      <td>LISA A GOMBITA</td>\n",
       "      <td>F</td>\n",
       "      <td>Not Listed</td>\n",
       "      <td>OTHER</td>\n",
       "      <td>2006</td>\n",
       "      <td>NURSE PRACTITIONER</td>\n",
       "      <td>None</td>\n",
       "      <td>None</td>\n",
       "      <td>None</td>\n",
       "      <td>None</td>\n",
       "      <td>None</td>\n",
       "      <td>ONCOLOGY HEMATOLOGY ASSOCIATION INC</td>\n",
       "      <td>9.830003e+09</td>\n",
       "      <td>110</td>\n",
       "      <td>1600 CORAOPOLIS HEIGHTS RD F</td>\n",
       "      <td>N</td>\n",
       "      <td>CORAOPOLIS</td>\n",
       "      <td>PA</td>\n",
       "      <td>CORAOPOLIS, PA</td>\n",
       "      <td>151084307</td>\n",
       "      <td>4.123292e+09</td>\n",
       "      <td>390114.0</td>\n",
       "      <td>MAGEE WOMENS HOSPITAL OF UPMC HEALTH SYSTEM</td>\n",
       "      <td>390037.0</td>\n",
       "      <td>HERITAGE VALLEY SEWICKLEY</td>\n",
       "      <td>390036</td>\n",
       "      <td>HERITAGE VALLEY BEAVER</td>\n",
       "      <td>390157.0</td>\n",
       "      <td>OHIO VALLEY GENERAL HOSPITAL</td>\n",
       "      <td>390107.0</td>\n",
       "      <td>UPMC PASSAVANT</td>\n",
       "      <td>Y</td>\n",
       "    </tr>\n",
       "  </tbody>\n",
       "</table>\n",
       "</div>"
      ],
      "text/plain": [
       "                npi  ind_pac_id      ind_enrl_id             full_nm gndr  \\\n",
       "1471535  1669574299  6103910880  I20070926000346  JYOTHI  JOLEPALEM     M   \n",
       "965233   1437367109  3779656590  I20080725000695     LISA A GOMBITA     F   \n",
       "\n",
       "               cred med_sch  grd_yr            pri_spec  \\\n",
       "1471535  Not Listed   OTHER    1988   PULMONARY DISEASE   \n",
       "965233   Not Listed   OTHER    2006  NURSE PRACTITIONER   \n",
       "\n",
       "                           sec_spec_1 sec_spec_2 sec_spec_3 sec_spec_4  \\\n",
       "1471535  CRITICAL CARE (INTENSIVISTS)       None       None       None   \n",
       "965233                           None       None       None       None   \n",
       "\n",
       "                         sec_spec_all                           org_lgl_nm  \\\n",
       "1471535  CRITICAL CARE (INTENSIVISTS)                                 None   \n",
       "965233                           None  ONCOLOGY HEMATOLOGY ASSOCIATION INC   \n",
       "\n",
       "           org_pac_id  num_org_mem                       full_adr ln_2_sprs  \\\n",
       "1471535           NaN            1           3 ERIE CT SUITE 7010         N   \n",
       "965233   9.830003e+09          110  1600 CORAOPOLIS HEIGHTS RD F          N   \n",
       "\n",
       "                cty  st   full_location        zip     phn_numbr hosp_afl_1  \\\n",
       "1471535    OAK PARK  IL    OAK PARK, IL  603022519           NaN   140049.0   \n",
       "965233   CORAOPOLIS  PA  CORAOPOLIS, PA  151084307  4.123292e+09   390114.0   \n",
       "\n",
       "                                      hosp_afl_lbn_1 hosp_afl_2  \\\n",
       "1471535                 WEST SUBURBAN MEDICAL CENTER   140082.0   \n",
       "965233   MAGEE WOMENS HOSPITAL OF UPMC HEALTH SYSTEM   390037.0   \n",
       "\n",
       "                          hosp_afl_lbn_2 hosp_afl_3  \\\n",
       "1471535  LOUIS A WEISS MEMORIAL HOSPITAL   140251.0   \n",
       "965233         HERITAGE VALLEY SEWICKLEY     390036   \n",
       "\n",
       "                         hosp_afl_lbn_3 hosp_afl_4  \\\n",
       "1471535  COMMUNITY FIRST MEDICAL CENTER   140240.0   \n",
       "965233           HERITAGE VALLEY BEAVER   390157.0   \n",
       "\n",
       "                       hosp_afl_lbn_4  hosp_afl_5  hosp_afl_lbn_5 assgn  \n",
       "1471535   WESTLAKE COMMUNITY HOSPITAL         NaN             NaN     M  \n",
       "965233   OHIO VALLEY GENERAL HOSPITAL    390107.0  UPMC PASSAVANT     Y  "
      ]
     },
     "execution_count": 15,
     "metadata": {},
     "output_type": "execute_result"
    }
   ],
   "source": [
    "# see if insertion worked\n",
    "sample.head(2)"
   ]
  },
  {
   "cell_type": "code",
   "execution_count": 20,
   "metadata": {},
   "outputs": [],
   "source": [
    "# import libraries\n",
    "from uszipcode import SearchEngine, SimpleZipcode, Zipcode\n",
    "\n",
    "# initialize zip code search engine object\n",
    "search = SearchEngine()\n",
    "\n",
    "# function developed to generate zip codes in format best ready for analysis\n",
    "def zip_generator(row):\n",
    "    if len(row['zip']) == 9:\n",
    "        return row['zip'][:5]\n",
    "        pass\n",
    "    elif len(row['zip']) == 5:\n",
    "        return row['zip']\n",
    "        pass\n",
    "    else:\n",
    "        # split observation into cty and st\n",
    "        cty, st = [x.strip() for x in row['full_location'].split(', ')]\n",
    "        # use searchengine to look up cty and state\n",
    "        lookup = search.by_city_and_state(city=cty, state=st)\n",
    "        if lookup == []:\n",
    "            return row['zip']\n",
    "        else:\n",
    "            zipcode = lookup[0].values()[0]\n",
    "            #time.sleep(random.uniform(0, 0.25))\n",
    "            return zipcode"
   ]
  },
  {
   "cell_type": "markdown",
   "metadata": {},
   "source": [
    "### _Test Function_"
   ]
  },
  {
   "cell_type": "code",
   "execution_count": 17,
   "metadata": {},
   "outputs": [],
   "source": [
    "# create a copy of data set that we can test on\n",
    "tester = sample.copy()"
   ]
  },
  {
   "cell_type": "code",
   "execution_count": 18,
   "metadata": {},
   "outputs": [
    {
     "data": {
      "text/plain": [
       "1471535    60302\n",
       "965233     15108\n",
       "582461     59405\n",
       "1070284    43205\n",
       "1153666    33133\n",
       "dtype: object"
      ]
     },
     "execution_count": 18,
     "metadata": {},
     "output_type": "execute_result"
    }
   ],
   "source": [
    "# test to see if the above function works with apply\n",
    "tester.head(5).apply(lambda row: zip_generator(row), axis=1)"
   ]
  },
  {
   "cell_type": "code",
   "execution_count": 21,
   "metadata": {},
   "outputs": [
    {
     "name": "stdout",
     "output_type": "stream",
     "text": [
      "CPU times: user 526 ms, sys: 46.1 ms, total: 572 ms\n",
      "Wall time: 826 ms\n"
     ]
    },
    {
     "data": {
      "text/plain": [
       "1471535    60302\n",
       "965233     15108\n",
       "582461     59405\n",
       "1070284    43205\n",
       "1153666    33133\n",
       "543951     43351\n",
       "323086     27910\n",
       "2200522    18301\n",
       "1939920    40517\n",
       "1793826    94063\n",
       "1406228    74501\n",
       "1510661    01803\n",
       "2156628    55455\n",
       "1275864    86023\n",
       "797013     85209\n",
       "1513891    12208\n",
       "1669106    00757\n",
       "2079948    04102\n",
       "1680837    29902\n",
       "2073754    46219\n",
       "1927017    92108\n",
       "113232     60026\n",
       "781935     34287\n",
       "1545566    29072\n",
       "278760     68769\n",
       "1588833    84094\n",
       "750783     67002\n",
       "2120505    72903\n",
       "1215491    85032\n",
       "1288042    75226\n",
       "           ...  \n",
       "913707     75390\n",
       "988340     60637\n",
       "1463853    64064\n",
       "732622     98026\n",
       "569075     27705\n",
       "1327785    37411\n",
       "2072525    89406\n",
       "1439192    19810\n",
       "1953633    67950\n",
       "1602335    94063\n",
       "1282539    32803\n",
       "2009064    70726\n",
       "189574     38501\n",
       "1951912    08077\n",
       "1567970    10801\n",
       "506324     37918\n",
       "889850     07601\n",
       "351808     66160\n",
       "78525      48109\n",
       "1577154    15701\n",
       "374263     89074\n",
       "341096     30236\n",
       "1252488    98201\n",
       "5084       38671\n",
       "906734     33486\n",
       "408499     32504\n",
       "819552     44195\n",
       "2105003    30060\n",
       "2158731    41339\n",
       "487314     48093\n",
       "Length: 100, dtype: object"
      ]
     },
     "execution_count": 21,
     "metadata": {},
     "output_type": "execute_result"
    }
   ],
   "source": [
    "%%time \n",
    "# let's test it now on the first 100 hundreds rows and time it\n",
    "# test to see if the above function works with apply\n",
    "tester.head(100).apply(lambda row: zip_generator(row), axis=1);"
   ]
  },
  {
   "cell_type": "code",
   "execution_count": 22,
   "metadata": {},
   "outputs": [
    {
     "data": {
      "text/plain": [
       "(552698, 35)"
      ]
     },
     "execution_count": 22,
     "metadata": {},
     "output_type": "execute_result"
    }
   ],
   "source": [
    "# what is the shape of our tester dataframe?\n",
    "tester.shape"
   ]
  },
  {
   "cell_type": "code",
   "execution_count": 29,
   "metadata": {},
   "outputs": [
    {
     "ename": "KeyError",
     "evalue": "('VI', 'occurred at index 385599')",
     "output_type": "error",
     "traceback": [
      "\u001b[0;31m---------------------------------------------------------------------------\u001b[0m",
      "\u001b[0;31mKeyError\u001b[0m                                  Traceback (most recent call last)",
      "\u001b[0;32m<timed exec>\u001b[0m in \u001b[0;36m<module>\u001b[0;34m\u001b[0m\n",
      "\u001b[0;32m~/anaconda3/envs/geography/lib/python3.7/site-packages/pandas/core/frame.py\u001b[0m in \u001b[0;36mapply\u001b[0;34m(self, func, axis, broadcast, raw, reduce, result_type, args, **kwds)\u001b[0m\n\u001b[1;32m   6485\u001b[0m                          \u001b[0margs\u001b[0m\u001b[0;34m=\u001b[0m\u001b[0margs\u001b[0m\u001b[0;34m,\u001b[0m\u001b[0;34m\u001b[0m\u001b[0;34m\u001b[0m\u001b[0m\n\u001b[1;32m   6486\u001b[0m                          kwds=kwds)\n\u001b[0;32m-> 6487\u001b[0;31m         \u001b[0;32mreturn\u001b[0m \u001b[0mop\u001b[0m\u001b[0;34m.\u001b[0m\u001b[0mget_result\u001b[0m\u001b[0;34m(\u001b[0m\u001b[0;34m)\u001b[0m\u001b[0;34m\u001b[0m\u001b[0;34m\u001b[0m\u001b[0m\n\u001b[0m\u001b[1;32m   6488\u001b[0m \u001b[0;34m\u001b[0m\u001b[0m\n\u001b[1;32m   6489\u001b[0m     \u001b[0;32mdef\u001b[0m \u001b[0mapplymap\u001b[0m\u001b[0;34m(\u001b[0m\u001b[0mself\u001b[0m\u001b[0;34m,\u001b[0m \u001b[0mfunc\u001b[0m\u001b[0;34m)\u001b[0m\u001b[0;34m:\u001b[0m\u001b[0;34m\u001b[0m\u001b[0;34m\u001b[0m\u001b[0m\n",
      "\u001b[0;32m~/anaconda3/envs/geography/lib/python3.7/site-packages/pandas/core/apply.py\u001b[0m in \u001b[0;36mget_result\u001b[0;34m(self)\u001b[0m\n\u001b[1;32m    149\u001b[0m             \u001b[0;32mreturn\u001b[0m \u001b[0mself\u001b[0m\u001b[0;34m.\u001b[0m\u001b[0mapply_raw\u001b[0m\u001b[0;34m(\u001b[0m\u001b[0;34m)\u001b[0m\u001b[0;34m\u001b[0m\u001b[0;34m\u001b[0m\u001b[0m\n\u001b[1;32m    150\u001b[0m \u001b[0;34m\u001b[0m\u001b[0m\n\u001b[0;32m--> 151\u001b[0;31m         \u001b[0;32mreturn\u001b[0m \u001b[0mself\u001b[0m\u001b[0;34m.\u001b[0m\u001b[0mapply_standard\u001b[0m\u001b[0;34m(\u001b[0m\u001b[0;34m)\u001b[0m\u001b[0;34m\u001b[0m\u001b[0;34m\u001b[0m\u001b[0m\n\u001b[0m\u001b[1;32m    152\u001b[0m \u001b[0;34m\u001b[0m\u001b[0m\n\u001b[1;32m    153\u001b[0m     \u001b[0;32mdef\u001b[0m \u001b[0mapply_empty_result\u001b[0m\u001b[0;34m(\u001b[0m\u001b[0mself\u001b[0m\u001b[0;34m)\u001b[0m\u001b[0;34m:\u001b[0m\u001b[0;34m\u001b[0m\u001b[0;34m\u001b[0m\u001b[0m\n",
      "\u001b[0;32m~/anaconda3/envs/geography/lib/python3.7/site-packages/pandas/core/apply.py\u001b[0m in \u001b[0;36mapply_standard\u001b[0;34m(self)\u001b[0m\n\u001b[1;32m    255\u001b[0m \u001b[0;34m\u001b[0m\u001b[0m\n\u001b[1;32m    256\u001b[0m         \u001b[0;31m# compute the result using the series generator\u001b[0m\u001b[0;34m\u001b[0m\u001b[0;34m\u001b[0m\u001b[0;34m\u001b[0m\u001b[0m\n\u001b[0;32m--> 257\u001b[0;31m         \u001b[0mself\u001b[0m\u001b[0;34m.\u001b[0m\u001b[0mapply_series_generator\u001b[0m\u001b[0;34m(\u001b[0m\u001b[0;34m)\u001b[0m\u001b[0;34m\u001b[0m\u001b[0;34m\u001b[0m\u001b[0m\n\u001b[0m\u001b[1;32m    258\u001b[0m \u001b[0;34m\u001b[0m\u001b[0m\n\u001b[1;32m    259\u001b[0m         \u001b[0;31m# wrap results\u001b[0m\u001b[0;34m\u001b[0m\u001b[0;34m\u001b[0m\u001b[0;34m\u001b[0m\u001b[0m\n",
      "\u001b[0;32m~/anaconda3/envs/geography/lib/python3.7/site-packages/pandas/core/apply.py\u001b[0m in \u001b[0;36mapply_series_generator\u001b[0;34m(self)\u001b[0m\n\u001b[1;32m    284\u001b[0m             \u001b[0;32mtry\u001b[0m\u001b[0;34m:\u001b[0m\u001b[0;34m\u001b[0m\u001b[0;34m\u001b[0m\u001b[0m\n\u001b[1;32m    285\u001b[0m                 \u001b[0;32mfor\u001b[0m \u001b[0mi\u001b[0m\u001b[0;34m,\u001b[0m \u001b[0mv\u001b[0m \u001b[0;32min\u001b[0m \u001b[0menumerate\u001b[0m\u001b[0;34m(\u001b[0m\u001b[0mseries_gen\u001b[0m\u001b[0;34m)\u001b[0m\u001b[0;34m:\u001b[0m\u001b[0;34m\u001b[0m\u001b[0;34m\u001b[0m\u001b[0m\n\u001b[0;32m--> 286\u001b[0;31m                     \u001b[0mresults\u001b[0m\u001b[0;34m[\u001b[0m\u001b[0mi\u001b[0m\u001b[0;34m]\u001b[0m \u001b[0;34m=\u001b[0m \u001b[0mself\u001b[0m\u001b[0;34m.\u001b[0m\u001b[0mf\u001b[0m\u001b[0;34m(\u001b[0m\u001b[0mv\u001b[0m\u001b[0;34m)\u001b[0m\u001b[0;34m\u001b[0m\u001b[0;34m\u001b[0m\u001b[0m\n\u001b[0m\u001b[1;32m    287\u001b[0m                     \u001b[0mkeys\u001b[0m\u001b[0;34m.\u001b[0m\u001b[0mappend\u001b[0m\u001b[0;34m(\u001b[0m\u001b[0mv\u001b[0m\u001b[0;34m.\u001b[0m\u001b[0mname\u001b[0m\u001b[0;34m)\u001b[0m\u001b[0;34m\u001b[0m\u001b[0;34m\u001b[0m\u001b[0m\n\u001b[1;32m    288\u001b[0m             \u001b[0;32mexcept\u001b[0m \u001b[0mException\u001b[0m \u001b[0;32mas\u001b[0m \u001b[0me\u001b[0m\u001b[0;34m:\u001b[0m\u001b[0;34m\u001b[0m\u001b[0;34m\u001b[0m\u001b[0m\n",
      "\u001b[0;32m<timed exec>\u001b[0m in \u001b[0;36m<lambda>\u001b[0;34m(row)\u001b[0m\n",
      "\u001b[0;32m<ipython-input-20-6c49269005cb>\u001b[0m in \u001b[0;36mzip_generator\u001b[0;34m(row)\u001b[0m\n\u001b[1;32m     17\u001b[0m         \u001b[0mcty\u001b[0m\u001b[0;34m,\u001b[0m \u001b[0mst\u001b[0m \u001b[0;34m=\u001b[0m \u001b[0;34m[\u001b[0m\u001b[0mx\u001b[0m\u001b[0;34m.\u001b[0m\u001b[0mstrip\u001b[0m\u001b[0;34m(\u001b[0m\u001b[0;34m)\u001b[0m \u001b[0;32mfor\u001b[0m \u001b[0mx\u001b[0m \u001b[0;32min\u001b[0m \u001b[0mrow\u001b[0m\u001b[0;34m[\u001b[0m\u001b[0;34m'full_location'\u001b[0m\u001b[0;34m]\u001b[0m\u001b[0;34m.\u001b[0m\u001b[0msplit\u001b[0m\u001b[0;34m(\u001b[0m\u001b[0;34m', '\u001b[0m\u001b[0;34m)\u001b[0m\u001b[0;34m]\u001b[0m\u001b[0;34m\u001b[0m\u001b[0;34m\u001b[0m\u001b[0m\n\u001b[1;32m     18\u001b[0m         \u001b[0;31m# use searchengine to look up cty and state\u001b[0m\u001b[0;34m\u001b[0m\u001b[0;34m\u001b[0m\u001b[0;34m\u001b[0m\u001b[0m\n\u001b[0;32m---> 19\u001b[0;31m         \u001b[0mlookup\u001b[0m \u001b[0;34m=\u001b[0m \u001b[0msearch\u001b[0m\u001b[0;34m.\u001b[0m\u001b[0mby_city_and_state\u001b[0m\u001b[0;34m(\u001b[0m\u001b[0mcity\u001b[0m\u001b[0;34m=\u001b[0m\u001b[0mcty\u001b[0m\u001b[0;34m,\u001b[0m \u001b[0mstate\u001b[0m\u001b[0;34m=\u001b[0m\u001b[0mst\u001b[0m\u001b[0;34m)\u001b[0m\u001b[0;34m\u001b[0m\u001b[0;34m\u001b[0m\u001b[0m\n\u001b[0m\u001b[1;32m     20\u001b[0m         \u001b[0;32mif\u001b[0m \u001b[0mlookup\u001b[0m \u001b[0;34m==\u001b[0m \u001b[0;34m[\u001b[0m\u001b[0;34m]\u001b[0m\u001b[0;34m:\u001b[0m\u001b[0;34m\u001b[0m\u001b[0;34m\u001b[0m\u001b[0m\n\u001b[1;32m     21\u001b[0m             \u001b[0;32mreturn\u001b[0m \u001b[0mrow\u001b[0m\u001b[0;34m[\u001b[0m\u001b[0;34m'zip'\u001b[0m\u001b[0;34m]\u001b[0m\u001b[0;34m\u001b[0m\u001b[0;34m\u001b[0m\u001b[0m\n",
      "\u001b[0;32m~/anaconda3/envs/geography/lib/python3.7/site-packages/uszipcode/search.py\u001b[0m in \u001b[0;36mby_city_and_state\u001b[0;34m(self, city, state, zipcode_type, sort_by, ascending, returns)\u001b[0m\n\u001b[1;32m    647\u001b[0m             \u001b[0mstate\u001b[0m\u001b[0;34m=\u001b[0m\u001b[0mstate\u001b[0m\u001b[0;34m,\u001b[0m\u001b[0;34m\u001b[0m\u001b[0;34m\u001b[0m\u001b[0m\n\u001b[1;32m    648\u001b[0m             \u001b[0msort_by\u001b[0m\u001b[0;34m=\u001b[0m\u001b[0msort_by\u001b[0m\u001b[0;34m,\u001b[0m \u001b[0mzipcode_type\u001b[0m\u001b[0;34m=\u001b[0m\u001b[0mzipcode_type\u001b[0m\u001b[0;34m,\u001b[0m\u001b[0;34m\u001b[0m\u001b[0;34m\u001b[0m\u001b[0m\n\u001b[0;32m--> 649\u001b[0;31m             \u001b[0mascending\u001b[0m\u001b[0;34m=\u001b[0m\u001b[0mascending\u001b[0m\u001b[0;34m,\u001b[0m \u001b[0mreturns\u001b[0m\u001b[0;34m=\u001b[0m\u001b[0mreturns\u001b[0m\u001b[0;34m,\u001b[0m\u001b[0;34m\u001b[0m\u001b[0;34m\u001b[0m\u001b[0m\n\u001b[0m\u001b[1;32m    650\u001b[0m         )\n\u001b[1;32m    651\u001b[0m \u001b[0;34m\u001b[0m\u001b[0m\n",
      "\u001b[0;32m~/anaconda3/envs/geography/lib/python3.7/site-packages/uszipcode/search.py\u001b[0m in \u001b[0;36mquery\u001b[0;34m(self, zipcode, prefix, pattern, city, state, lat, lng, radius, population_lower, population_upper, population_density_lower, population_density_upper, land_area_in_sqmi_lower, land_area_in_sqmi_upper, water_area_in_sqmi_lower, water_area_in_sqmi_upper, housing_units_lower, housing_units_upper, occupied_housing_units_lower, occupied_housing_units_upper, median_home_value_lower, median_home_value_upper, median_household_income_lower, median_household_income_upper, zipcode_type, sort_by, ascending, returns)\u001b[0m\n\u001b[1;32m    397\u001b[0m             \u001b[0;32mtry\u001b[0m\u001b[0;34m:\u001b[0m\u001b[0;34m\u001b[0m\u001b[0;34m\u001b[0m\u001b[0m\n\u001b[1;32m    398\u001b[0m                 \u001b[0mstate\u001b[0m \u001b[0;34m=\u001b[0m \u001b[0mself\u001b[0m\u001b[0;34m.\u001b[0m\u001b[0mfind_state\u001b[0m\u001b[0;34m(\u001b[0m\u001b[0mstate\u001b[0m\u001b[0;34m,\u001b[0m \u001b[0mbest_match\u001b[0m\u001b[0;34m=\u001b[0m\u001b[0;32mTrue\u001b[0m\u001b[0;34m)\u001b[0m\u001b[0;34m[\u001b[0m\u001b[0;36m0\u001b[0m\u001b[0;34m]\u001b[0m\u001b[0;34m\u001b[0m\u001b[0;34m\u001b[0m\u001b[0m\n\u001b[0;32m--> 399\u001b[0;31m                 \u001b[0mcity\u001b[0m \u001b[0;34m=\u001b[0m \u001b[0mself\u001b[0m\u001b[0;34m.\u001b[0m\u001b[0mfind_city\u001b[0m\u001b[0;34m(\u001b[0m\u001b[0mcity\u001b[0m\u001b[0;34m,\u001b[0m \u001b[0mstate\u001b[0m\u001b[0;34m,\u001b[0m \u001b[0mbest_match\u001b[0m\u001b[0;34m=\u001b[0m\u001b[0;32mTrue\u001b[0m\u001b[0;34m)\u001b[0m\u001b[0;34m[\u001b[0m\u001b[0;36m0\u001b[0m\u001b[0;34m]\u001b[0m\u001b[0;34m\u001b[0m\u001b[0;34m\u001b[0m\u001b[0m\n\u001b[0m\u001b[1;32m    400\u001b[0m                 \u001b[0mfilters\u001b[0m\u001b[0;34m.\u001b[0m\u001b[0mappend\u001b[0m\u001b[0;34m(\u001b[0m\u001b[0mself\u001b[0m\u001b[0;34m.\u001b[0m\u001b[0mzip_klass\u001b[0m\u001b[0;34m.\u001b[0m\u001b[0mstate\u001b[0m \u001b[0;34m==\u001b[0m \u001b[0mstate\u001b[0m\u001b[0;34m)\u001b[0m\u001b[0;34m\u001b[0m\u001b[0;34m\u001b[0m\u001b[0m\n\u001b[1;32m    401\u001b[0m                 \u001b[0mfilters\u001b[0m\u001b[0;34m.\u001b[0m\u001b[0mappend\u001b[0m\u001b[0;34m(\u001b[0m\u001b[0mself\u001b[0m\u001b[0;34m.\u001b[0m\u001b[0mzip_klass\u001b[0m\u001b[0;34m.\u001b[0m\u001b[0mmajor_city\u001b[0m \u001b[0;34m==\u001b[0m \u001b[0mcity\u001b[0m\u001b[0;34m)\u001b[0m\u001b[0;34m\u001b[0m\u001b[0;34m\u001b[0m\u001b[0m\n",
      "\u001b[0;32m~/anaconda3/envs/geography/lib/python3.7/site-packages/uszipcode/search.py\u001b[0m in \u001b[0;36mfind_city\u001b[0;34m(self, city, state, best_match, min_similarity)\u001b[0m\n\u001b[1;32m    225\u001b[0m         \u001b[0;32mif\u001b[0m \u001b[0mstate\u001b[0m\u001b[0;34m:\u001b[0m\u001b[0;34m\u001b[0m\u001b[0;34m\u001b[0m\u001b[0m\n\u001b[1;32m    226\u001b[0m             \u001b[0mstate_sort\u001b[0m \u001b[0;34m=\u001b[0m \u001b[0mself\u001b[0m\u001b[0;34m.\u001b[0m\u001b[0mfind_state\u001b[0m\u001b[0;34m(\u001b[0m\u001b[0mstate\u001b[0m\u001b[0;34m,\u001b[0m \u001b[0mbest_match\u001b[0m\u001b[0;34m=\u001b[0m\u001b[0;32mTrue\u001b[0m\u001b[0;34m)\u001b[0m\u001b[0;34m[\u001b[0m\u001b[0;36m0\u001b[0m\u001b[0;34m]\u001b[0m\u001b[0;34m\u001b[0m\u001b[0;34m\u001b[0m\u001b[0m\n\u001b[0;32m--> 227\u001b[0;31m             \u001b[0mcity_pool\u001b[0m \u001b[0;34m=\u001b[0m \u001b[0mself\u001b[0m\u001b[0;34m.\u001b[0m\u001b[0mstate_to_city_mapper\u001b[0m\u001b[0;34m[\u001b[0m\u001b[0mstate_sort\u001b[0m\u001b[0;34m.\u001b[0m\u001b[0mupper\u001b[0m\u001b[0;34m(\u001b[0m\u001b[0;34m)\u001b[0m\u001b[0;34m]\u001b[0m\u001b[0;34m\u001b[0m\u001b[0;34m\u001b[0m\u001b[0m\n\u001b[0m\u001b[1;32m    228\u001b[0m         \u001b[0;32melse\u001b[0m\u001b[0;34m:\u001b[0m\u001b[0;34m\u001b[0m\u001b[0;34m\u001b[0m\u001b[0m\n\u001b[1;32m    229\u001b[0m             \u001b[0mcity_pool\u001b[0m \u001b[0;34m=\u001b[0m \u001b[0mself\u001b[0m\u001b[0;34m.\u001b[0m\u001b[0mcity_list\u001b[0m\u001b[0;34m\u001b[0m\u001b[0;34m\u001b[0m\u001b[0m\n",
      "\u001b[0;31mKeyError\u001b[0m: ('VI', 'occurred at index 385599')"
     ]
    }
   ],
   "source": [
    "%%time\n",
    "# test out by creating a new column on whole tester dataset\n",
    "tester['new_zipcode'] = tester.apply(lambda row: zip_generator(row), axis=1);"
   ]
  },
  {
   "cell_type": "markdown",
   "metadata": {},
   "source": [
    "Uh-oh ran into an error! It looks like a value of `VI` resulted in a `KeyError`. Now I remember that we have observations that were in places like Puerto Rico and the U.S. Virgin Islands; we'll have to remove these observations for now."
   ]
  },
  {
   "cell_type": "code",
   "execution_count": 32,
   "metadata": {},
   "outputs": [
    {
     "data": {
      "text/plain": [
       "55"
      ]
     },
     "execution_count": 32,
     "metadata": {},
     "output_type": "execute_result"
    }
   ],
   "source": [
    "# how many states are there in the sample?\n",
    "len(sample['st'].astype(str).unique())"
   ]
  },
  {
   "cell_type": "markdown",
   "metadata": {},
   "source": [
    "There are `55` states in our state column. We'll need to investigate further to determine which ones we need to drop."
   ]
  },
  {
   "cell_type": "code",
   "execution_count": 31,
   "metadata": {},
   "outputs": [
    {
     "data": {
      "text/plain": [
       "CA    45762\n",
       "NY    36855\n",
       "TX    35635\n",
       "FL    30347\n",
       "PA    29343\n",
       "MI    26057\n",
       "IL    23238\n",
       "OH    22069\n",
       "NC    20454\n",
       "MA    16954\n",
       "WI    16034\n",
       "MN    15826\n",
       "NJ    14738\n",
       "GA    14101\n",
       "WA    13783\n",
       "VA    13389\n",
       "IN    12443\n",
       "MD    12154\n",
       "MO    10931\n",
       "TN    10903\n",
       "AZ    10578\n",
       "CO     9283\n",
       "KY     7922\n",
       "OR     7840\n",
       "CT     7566\n",
       "SC     7007\n",
       "LA     6514\n",
       "IA     6028\n",
       "AL     5783\n",
       "KS     5517\n",
       "OK     5115\n",
       "UT     4457\n",
       "MS     4020\n",
       "ME     3531\n",
       "AR     3491\n",
       "NE     3473\n",
       "ID     3265\n",
       "NV     2905\n",
       "WV     2893\n",
       "NH     2845\n",
       "NM     2781\n",
       "DE     2384\n",
       "SD     2035\n",
       "RI     1992\n",
       "MT     1980\n",
       "ND     1828\n",
       "HI     1795\n",
       "PR     1683\n",
       "DC     1539\n",
       "AK     1258\n",
       "VT     1257\n",
       "WY      957\n",
       "GU       88\n",
       "VI       52\n",
       "MP       20\n",
       "Name: st, dtype: int64"
      ]
     },
     "execution_count": 31,
     "metadata": {},
     "output_type": "execute_result"
    }
   ],
   "source": [
    "# what are the value counts for the associated zip code lengths?\n",
    "sample['st'].astype(str).value_counts()"
   ]
  },
  {
   "cell_type": "markdown",
   "metadata": {},
   "source": [
    "There are a few state abbreviations that seem different: `PR`, `GU`, `VI`, `MP` and `DC`.\n",
    "\n",
    "- `PR` : Puerto Rico\n",
    "- `GU` : Guam\n",
    "- `VI` : U.S. Virgin Islands\n",
    "- `MP` : Northern Marianas\n",
    "- `DC` : District of Columbia\n",
    "\n",
    "Since we're focused primarily on the 50 states, we'll have to drop the observations which have the abbreviations mentioned above. But before we do that, let's take a look at `DC` to see if the `uszipcode` library can look up locations in the District of Columbia."
   ]
  },
  {
   "cell_type": "code",
   "execution_count": 33,
   "metadata": {},
   "outputs": [],
   "source": [
    "# initialize zip code search engine object\n",
    "search = SearchEngine()"
   ]
  },
  {
   "cell_type": "code",
   "execution_count": 34,
   "metadata": {},
   "outputs": [
    {
     "data": {
      "text/plain": [
       "[SimpleZipcode(zipcode='20001', zipcode_type='Standard', major_city='Washington', post_office_city='Washington, DC', common_city_list=['Washington'], county='District of Columbia', state='DC', lat=38.91, lng=-77.02, timezone='Eastern', radius_in_miles=2.0, area_code_list=['202'], population=38551, population_density=17689.0, land_area_in_sqmi=2.18, water_area_in_sqmi=0.06, housing_units=18751, occupied_housing_units=16500, median_home_value=495300, median_household_income=78848, bounds_west=-77.028292, bounds_east=-77.007177, bounds_north=38.929279, bounds_south=38.89071),\n",
       " SimpleZipcode(zipcode='20002', zipcode_type='Standard', major_city='Washington', post_office_city='Washington, DC', common_city_list=['Washington'], county='District of Columbia', state='DC', lat=38.91, lng=-76.98, timezone='Eastern', radius_in_miles=2.0, area_code_list=['202'], population=52370, population_density=9961.0, land_area_in_sqmi=5.26, water_area_in_sqmi=0.22, housing_units=26166, occupied_housing_units=22973, median_home_value=428500, median_household_income=65000, bounds_west=-77.012513, bounds_east=-76.943858, bounds_north=38.92701, bounds_south=38.887588),\n",
       " SimpleZipcode(zipcode='20003', zipcode_type='Standard', major_city='Washington', post_office_city='Washington, DC', common_city_list=['Washington'], county='District of Columbia', state='DC', lat=38.88, lng=-76.99, timezone='Eastern', radius_in_miles=2.0, area_code_list=['202'], population=26454, population_density=11799.0, land_area_in_sqmi=2.24, water_area_in_sqmi=0.26, housing_units=13216, occupied_housing_units=11724, median_home_value=616000, median_household_income=107966, bounds_west=-77.010791, bounds_east=-76.963382, bounds_north=38.892011, bounds_south=38.867283),\n",
       " SimpleZipcode(zipcode='20004', zipcode_type='Standard', major_city='Washington', post_office_city='Washington, DC', common_city_list=['Washington'], county='District of Columbia', state='DC', lat=38.894, lng=-77.028, timezone='Eastern', radius_in_miles=0.625, area_code_list=['202'], population=1622, population_density=4659.0, land_area_in_sqmi=0.35, water_area_in_sqmi=0.0, housing_units=1543, occupied_housing_units=1127, median_home_value=470700, median_household_income=126765, bounds_west=-77.039481, bounds_east=-77.019899, bounds_north=38.898782, bounds_south=38.892075),\n",
       " SimpleZipcode(zipcode='20005', zipcode_type='Standard', major_city='Washington', post_office_city='Washington, DC', common_city_list=['Washington'], county='District of Columbia', state='DC', lat=38.904, lng=-77.032, timezone='Eastern', radius_in_miles=0.6818181818181818, area_code_list=['202'], population=12775, population_density=29979.0, land_area_in_sqmi=0.43, water_area_in_sqmi=0.0, housing_units=9218, occupied_housing_units=8316, median_home_value=493900, median_household_income=81864, bounds_west=-77.036546, bounds_east=-77.027029, bounds_north=38.911129, bounds_south=38.897337)]"
      ]
     },
     "execution_count": 34,
     "metadata": {},
     "output_type": "execute_result"
    }
   ],
   "source": [
    "# are we able to look up observations located in Washington, DC?\n",
    "search.by_city_and_state(city='Washington', state='DC')"
   ]
  },
  {
   "cell_type": "markdown",
   "metadata": {},
   "source": [
    "Looks like `uszipcode` includes Washington, DC in its lookup! This means we'll technically have 51 unique values in the `st` column.\n",
    "\n",
    "So let's drop the observations with `PR`, `GU`, `VI` and `MP` so we can retry our function."
   ]
  },
  {
   "cell_type": "code",
   "execution_count": 51,
   "metadata": {},
   "outputs": [],
   "source": [
    "drop_index = []\n",
    "\n",
    "for val in ['PR', 'GU', 'VI', 'MP']:\n",
    "    # gather indexs of observations with val\n",
    "    indexes = list(tester[tester['st'] == val].index)\n",
    "    drop_index.append(indexes)"
   ]
  },
  {
   "cell_type": "code",
   "execution_count": 52,
   "metadata": {},
   "outputs": [
    {
     "data": {
      "text/plain": [
       "4"
      ]
     },
     "execution_count": 52,
     "metadata": {},
     "output_type": "execute_result"
    }
   ],
   "source": [
    "len(drop_index)"
   ]
  },
  {
   "cell_type": "code",
   "execution_count": 55,
   "metadata": {},
   "outputs": [
    {
     "data": {
      "text/plain": [
       "[1669106, 989051, 2127358, 553874, 160340]"
      ]
     },
     "execution_count": 55,
     "metadata": {},
     "output_type": "execute_result"
    }
   ],
   "source": [
    "# extract first five indexes from first list in drop_index\n",
    "drop_index[0][:5]"
   ]
  },
  {
   "cell_type": "code",
   "execution_count": 56,
   "metadata": {},
   "outputs": [],
   "source": [
    "# since drop_index is a list of lists, lets flatten it then sort it by the values\n",
    "flat_index = [item for sublist in drop_index for item in sublist]"
   ]
  },
  {
   "cell_type": "markdown",
   "metadata": {},
   "source": [
    "**Resource**: [How to flatten a list](https://stackoverflow.com/questions/952914/how-to-make-a-flat-list-out-of-list-of-lists)"
   ]
  },
  {
   "cell_type": "code",
   "execution_count": 58,
   "metadata": {},
   "outputs": [
    {
     "data": {
      "text/plain": [
       "1843"
      ]
     },
     "execution_count": 58,
     "metadata": {},
     "output_type": "execute_result"
    }
   ],
   "source": [
    "# how long is our flattened list?\n",
    "len(flat_index)"
   ]
  },
  {
   "cell_type": "code",
   "execution_count": 59,
   "metadata": {},
   "outputs": [
    {
     "data": {
      "text/plain": [
       "[1669106,\n",
       " 989051,\n",
       " 2127358,\n",
       " 553874,\n",
       " 160340,\n",
       " 331296,\n",
       " 1355872,\n",
       " 215634,\n",
       " 584436,\n",
       " 1859962]"
      ]
     },
     "execution_count": 59,
     "metadata": {},
     "output_type": "execute_result"
    }
   ],
   "source": [
    "# let's take a look at the first few observations\n",
    "flat_index[:10]"
   ]
  },
  {
   "cell_type": "code",
   "execution_count": 60,
   "metadata": {},
   "outputs": [
    {
     "data": {
      "text/plain": [
       "[2468, 3106, 4698, 8053, 11178, 11378, 11907, 12400, 14959, 16904]"
      ]
     },
     "execution_count": 60,
     "metadata": {},
     "output_type": "execute_result"
    }
   ],
   "source": [
    "# we need to sort flat_index\n",
    "flat_index = sorted(flat_index); flat_index[:10]"
   ]
  },
  {
   "cell_type": "code",
   "execution_count": 62,
   "metadata": {},
   "outputs": [
    {
     "data": {
      "text/plain": [
       "CA    45762\n",
       "NY    36855\n",
       "TX    35635\n",
       "FL    30347\n",
       "PA    29343\n",
       "MI    26057\n",
       "IL    23238\n",
       "OH    22069\n",
       "NC    20454\n",
       "MA    16954\n",
       "WI    16034\n",
       "MN    15826\n",
       "NJ    14738\n",
       "GA    14101\n",
       "WA    13783\n",
       "VA    13389\n",
       "IN    12443\n",
       "MD    12154\n",
       "MO    10931\n",
       "TN    10903\n",
       "AZ    10578\n",
       "CO     9283\n",
       "KY     7922\n",
       "OR     7840\n",
       "CT     7566\n",
       "SC     7007\n",
       "LA     6514\n",
       "IA     6028\n",
       "AL     5783\n",
       "KS     5517\n",
       "OK     5115\n",
       "UT     4457\n",
       "MS     4020\n",
       "ME     3531\n",
       "AR     3491\n",
       "NE     3473\n",
       "ID     3265\n",
       "NV     2905\n",
       "WV     2893\n",
       "NH     2845\n",
       "NM     2781\n",
       "DE     2384\n",
       "SD     2035\n",
       "RI     1992\n",
       "MT     1980\n",
       "ND     1828\n",
       "HI     1795\n",
       "DC     1539\n",
       "AK     1258\n",
       "VT     1257\n",
       "WY      957\n",
       "Name: st, dtype: int64"
      ]
     },
     "execution_count": 62,
     "metadata": {},
     "output_type": "execute_result"
    }
   ],
   "source": [
    "# with our list of indexes, let's drop these observations\n",
    "tester.drop(flat_index)['st'].value_counts()"
   ]
  },
  {
   "cell_type": "code",
   "execution_count": 64,
   "metadata": {},
   "outputs": [
    {
     "data": {
      "text/plain": [
       "51"
      ]
     },
     "execution_count": 64,
     "metadata": {},
     "output_type": "execute_result"
    }
   ],
   "source": [
    "# how many unique values are in the state column once we drop according to flat_index?\n",
    "len(tester.drop(flat_index)['st'].astype(str).unique())"
   ]
  },
  {
   "cell_type": "markdown",
   "metadata": {},
   "source": [
    "Looks good! Lets apply this now to our `tester` DataFrame, after which we can apply our zipcode function!"
   ]
  },
  {
   "cell_type": "code",
   "execution_count": 65,
   "metadata": {},
   "outputs": [],
   "source": [
    "# drop indexes with state abbreviations we're not focused on\n",
    "tester = tester.drop(flat_index)"
   ]
  },
  {
   "cell_type": "code",
   "execution_count": 67,
   "metadata": {},
   "outputs": [
    {
     "ename": "ValueError",
     "evalue": "('too many values to unpack (expected 2)', 'occurred at index 286572')",
     "output_type": "error",
     "traceback": [
      "\u001b[0;31m---------------------------------------------------------------------------\u001b[0m",
      "\u001b[0;31mValueError\u001b[0m                                Traceback (most recent call last)",
      "\u001b[0;32m<timed exec>\u001b[0m in \u001b[0;36m<module>\u001b[0;34m\u001b[0m\n",
      "\u001b[0;32m~/anaconda3/envs/geography/lib/python3.7/site-packages/pandas/core/frame.py\u001b[0m in \u001b[0;36mapply\u001b[0;34m(self, func, axis, broadcast, raw, reduce, result_type, args, **kwds)\u001b[0m\n\u001b[1;32m   6485\u001b[0m                          \u001b[0margs\u001b[0m\u001b[0;34m=\u001b[0m\u001b[0margs\u001b[0m\u001b[0;34m,\u001b[0m\u001b[0;34m\u001b[0m\u001b[0;34m\u001b[0m\u001b[0m\n\u001b[1;32m   6486\u001b[0m                          kwds=kwds)\n\u001b[0;32m-> 6487\u001b[0;31m         \u001b[0;32mreturn\u001b[0m \u001b[0mop\u001b[0m\u001b[0;34m.\u001b[0m\u001b[0mget_result\u001b[0m\u001b[0;34m(\u001b[0m\u001b[0;34m)\u001b[0m\u001b[0;34m\u001b[0m\u001b[0;34m\u001b[0m\u001b[0m\n\u001b[0m\u001b[1;32m   6488\u001b[0m \u001b[0;34m\u001b[0m\u001b[0m\n\u001b[1;32m   6489\u001b[0m     \u001b[0;32mdef\u001b[0m \u001b[0mapplymap\u001b[0m\u001b[0;34m(\u001b[0m\u001b[0mself\u001b[0m\u001b[0;34m,\u001b[0m \u001b[0mfunc\u001b[0m\u001b[0;34m)\u001b[0m\u001b[0;34m:\u001b[0m\u001b[0;34m\u001b[0m\u001b[0;34m\u001b[0m\u001b[0m\n",
      "\u001b[0;32m~/anaconda3/envs/geography/lib/python3.7/site-packages/pandas/core/apply.py\u001b[0m in \u001b[0;36mget_result\u001b[0;34m(self)\u001b[0m\n\u001b[1;32m    149\u001b[0m             \u001b[0;32mreturn\u001b[0m \u001b[0mself\u001b[0m\u001b[0;34m.\u001b[0m\u001b[0mapply_raw\u001b[0m\u001b[0;34m(\u001b[0m\u001b[0;34m)\u001b[0m\u001b[0;34m\u001b[0m\u001b[0;34m\u001b[0m\u001b[0m\n\u001b[1;32m    150\u001b[0m \u001b[0;34m\u001b[0m\u001b[0m\n\u001b[0;32m--> 151\u001b[0;31m         \u001b[0;32mreturn\u001b[0m \u001b[0mself\u001b[0m\u001b[0;34m.\u001b[0m\u001b[0mapply_standard\u001b[0m\u001b[0;34m(\u001b[0m\u001b[0;34m)\u001b[0m\u001b[0;34m\u001b[0m\u001b[0;34m\u001b[0m\u001b[0m\n\u001b[0m\u001b[1;32m    152\u001b[0m \u001b[0;34m\u001b[0m\u001b[0m\n\u001b[1;32m    153\u001b[0m     \u001b[0;32mdef\u001b[0m \u001b[0mapply_empty_result\u001b[0m\u001b[0;34m(\u001b[0m\u001b[0mself\u001b[0m\u001b[0;34m)\u001b[0m\u001b[0;34m:\u001b[0m\u001b[0;34m\u001b[0m\u001b[0;34m\u001b[0m\u001b[0m\n",
      "\u001b[0;32m~/anaconda3/envs/geography/lib/python3.7/site-packages/pandas/core/apply.py\u001b[0m in \u001b[0;36mapply_standard\u001b[0;34m(self)\u001b[0m\n\u001b[1;32m    255\u001b[0m \u001b[0;34m\u001b[0m\u001b[0m\n\u001b[1;32m    256\u001b[0m         \u001b[0;31m# compute the result using the series generator\u001b[0m\u001b[0;34m\u001b[0m\u001b[0;34m\u001b[0m\u001b[0;34m\u001b[0m\u001b[0m\n\u001b[0;32m--> 257\u001b[0;31m         \u001b[0mself\u001b[0m\u001b[0;34m.\u001b[0m\u001b[0mapply_series_generator\u001b[0m\u001b[0;34m(\u001b[0m\u001b[0;34m)\u001b[0m\u001b[0;34m\u001b[0m\u001b[0;34m\u001b[0m\u001b[0m\n\u001b[0m\u001b[1;32m    258\u001b[0m \u001b[0;34m\u001b[0m\u001b[0m\n\u001b[1;32m    259\u001b[0m         \u001b[0;31m# wrap results\u001b[0m\u001b[0;34m\u001b[0m\u001b[0;34m\u001b[0m\u001b[0;34m\u001b[0m\u001b[0m\n",
      "\u001b[0;32m~/anaconda3/envs/geography/lib/python3.7/site-packages/pandas/core/apply.py\u001b[0m in \u001b[0;36mapply_series_generator\u001b[0;34m(self)\u001b[0m\n\u001b[1;32m    284\u001b[0m             \u001b[0;32mtry\u001b[0m\u001b[0;34m:\u001b[0m\u001b[0;34m\u001b[0m\u001b[0;34m\u001b[0m\u001b[0m\n\u001b[1;32m    285\u001b[0m                 \u001b[0;32mfor\u001b[0m \u001b[0mi\u001b[0m\u001b[0;34m,\u001b[0m \u001b[0mv\u001b[0m \u001b[0;32min\u001b[0m \u001b[0menumerate\u001b[0m\u001b[0;34m(\u001b[0m\u001b[0mseries_gen\u001b[0m\u001b[0;34m)\u001b[0m\u001b[0;34m:\u001b[0m\u001b[0;34m\u001b[0m\u001b[0;34m\u001b[0m\u001b[0m\n\u001b[0;32m--> 286\u001b[0;31m                     \u001b[0mresults\u001b[0m\u001b[0;34m[\u001b[0m\u001b[0mi\u001b[0m\u001b[0;34m]\u001b[0m \u001b[0;34m=\u001b[0m \u001b[0mself\u001b[0m\u001b[0;34m.\u001b[0m\u001b[0mf\u001b[0m\u001b[0;34m(\u001b[0m\u001b[0mv\u001b[0m\u001b[0;34m)\u001b[0m\u001b[0;34m\u001b[0m\u001b[0;34m\u001b[0m\u001b[0m\n\u001b[0m\u001b[1;32m    287\u001b[0m                     \u001b[0mkeys\u001b[0m\u001b[0;34m.\u001b[0m\u001b[0mappend\u001b[0m\u001b[0;34m(\u001b[0m\u001b[0mv\u001b[0m\u001b[0;34m.\u001b[0m\u001b[0mname\u001b[0m\u001b[0;34m)\u001b[0m\u001b[0;34m\u001b[0m\u001b[0;34m\u001b[0m\u001b[0m\n\u001b[1;32m    288\u001b[0m             \u001b[0;32mexcept\u001b[0m \u001b[0mException\u001b[0m \u001b[0;32mas\u001b[0m \u001b[0me\u001b[0m\u001b[0;34m:\u001b[0m\u001b[0;34m\u001b[0m\u001b[0;34m\u001b[0m\u001b[0m\n",
      "\u001b[0;32m<timed exec>\u001b[0m in \u001b[0;36m<lambda>\u001b[0;34m(row)\u001b[0m\n",
      "\u001b[0;32m<ipython-input-20-6c49269005cb>\u001b[0m in \u001b[0;36mzip_generator\u001b[0;34m(row)\u001b[0m\n\u001b[1;32m     15\u001b[0m     \u001b[0;32melse\u001b[0m\u001b[0;34m:\u001b[0m\u001b[0;34m\u001b[0m\u001b[0;34m\u001b[0m\u001b[0m\n\u001b[1;32m     16\u001b[0m         \u001b[0;31m# split observation into cty and st\u001b[0m\u001b[0;34m\u001b[0m\u001b[0;34m\u001b[0m\u001b[0;34m\u001b[0m\u001b[0m\n\u001b[0;32m---> 17\u001b[0;31m         \u001b[0mcty\u001b[0m\u001b[0;34m,\u001b[0m \u001b[0mst\u001b[0m \u001b[0;34m=\u001b[0m \u001b[0;34m[\u001b[0m\u001b[0mx\u001b[0m\u001b[0;34m.\u001b[0m\u001b[0mstrip\u001b[0m\u001b[0;34m(\u001b[0m\u001b[0;34m)\u001b[0m \u001b[0;32mfor\u001b[0m \u001b[0mx\u001b[0m \u001b[0;32min\u001b[0m \u001b[0mrow\u001b[0m\u001b[0;34m[\u001b[0m\u001b[0;34m'full_location'\u001b[0m\u001b[0;34m]\u001b[0m\u001b[0;34m.\u001b[0m\u001b[0msplit\u001b[0m\u001b[0;34m(\u001b[0m\u001b[0;34m', '\u001b[0m\u001b[0;34m)\u001b[0m\u001b[0;34m]\u001b[0m\u001b[0;34m\u001b[0m\u001b[0;34m\u001b[0m\u001b[0m\n\u001b[0m\u001b[1;32m     18\u001b[0m         \u001b[0;31m# use searchengine to look up cty and state\u001b[0m\u001b[0;34m\u001b[0m\u001b[0;34m\u001b[0m\u001b[0;34m\u001b[0m\u001b[0m\n\u001b[1;32m     19\u001b[0m         \u001b[0mlookup\u001b[0m \u001b[0;34m=\u001b[0m \u001b[0msearch\u001b[0m\u001b[0;34m.\u001b[0m\u001b[0mby_city_and_state\u001b[0m\u001b[0;34m(\u001b[0m\u001b[0mcity\u001b[0m\u001b[0;34m=\u001b[0m\u001b[0mcty\u001b[0m\u001b[0;34m,\u001b[0m \u001b[0mstate\u001b[0m\u001b[0;34m=\u001b[0m\u001b[0mst\u001b[0m\u001b[0;34m)\u001b[0m\u001b[0;34m\u001b[0m\u001b[0;34m\u001b[0m\u001b[0m\n",
      "\u001b[0;31mValueError\u001b[0m: ('too many values to unpack (expected 2)', 'occurred at index 286572')"
     ]
    }
   ],
   "source": [
    "%%time\n",
    "# second test of zip_generator function\n",
    "tester['new_zipcode'] = tester.apply(lambda row: zip_generator(row), axis=1);"
   ]
  },
  {
   "cell_type": "code",
   "execution_count": 70,
   "metadata": {},
   "outputs": [
    {
     "data": {
      "text/plain": [
       "npi                                                      1124580857\n",
       "ind_pac_id                                               4688908700\n",
       "ind_enrl_id                                         I20190624002728\n",
       "full_nm                                              ELINOR M KURZ \n",
       "gndr                                                              F\n",
       "cred                                                     Not Listed\n",
       "med_sch                                                       OTHER\n",
       "grd_yr                                                         2018\n",
       "pri_spec                                         NURSE PRACTITIONER\n",
       "sec_spec_1                                                     None\n",
       "sec_spec_2                                                     None\n",
       "sec_spec_3                                                     None\n",
       "sec_spec_4                                                     None\n",
       "sec_spec_all                                                   None\n",
       "org_lgl_nm                                            YORK HOSPITAL\n",
       "org_pac_id                                              6.40677e+09\n",
       "num_org_mem                                                     173\n",
       "full_adr          75 US ROUTE ONE BYPASS YORK HOSPITAL MEDICAL S...\n",
       "ln_2_sprs                                                         N\n",
       "cty                                               KITTERY, ME 03904\n",
       "st                                                               ME\n",
       "full_location                                 KITTERY, ME 03904, ME\n",
       "zip                                                        39041784\n",
       "phn_numbr                                               2.07439e+09\n",
       "hosp_afl_1                                                 200020.0\n",
       "hosp_afl_lbn_1                                        YORK HOSPITAL\n",
       "hosp_afl_2                                                      NaN\n",
       "hosp_afl_lbn_2                                                  NaN\n",
       "hosp_afl_3                                                      NaN\n",
       "hosp_afl_lbn_3                                                  NaN\n",
       "hosp_afl_4                                                      NaN\n",
       "hosp_afl_lbn_4                                                  NaN\n",
       "hosp_afl_5                                                      NaN\n",
       "hosp_afl_lbn_5                                                  NaN\n",
       "assgn                                                             Y\n",
       "Name: 286572, dtype: object"
      ]
     },
     "execution_count": 70,
     "metadata": {},
     "output_type": "execute_result"
    }
   ],
   "source": [
    "# look up observation at index 286572 \n",
    "tester.loc[286572]"
   ]
  },
  {
   "cell_type": "code",
   "execution_count": 69,
   "metadata": {},
   "outputs": [
    {
     "data": {
      "text/plain": [
       "'KITTERY, ME 03904, ME'"
      ]
     },
     "execution_count": 69,
     "metadata": {},
     "output_type": "execute_result"
    }
   ],
   "source": [
    "# grab full_location from above observation\n",
    "tester.loc[286572, 'full_location']"
   ]
  },
  {
   "cell_type": "markdown",
   "metadata": {},
   "source": [
    "Looks like we have a typo for this observation! For value of `cty`, it looks like it was entered in with all the location information (city, state, and zip code). Let's explore how we can address this specific observation, and see if there are any other observations that may be entered in similarly."
   ]
  },
  {
   "cell_type": "code",
   "execution_count": 76,
   "metadata": {},
   "outputs": [
    {
     "data": {
      "text/plain": [
       "7"
      ]
     },
     "execution_count": 76,
     "metadata": {},
     "output_type": "execute_result"
    }
   ],
   "source": [
    "tester.loc[286572, 'full_location'].find(',')"
   ]
  },
  {
   "cell_type": "code",
   "execution_count": 77,
   "metadata": {},
   "outputs": [
    {
     "data": {
      "text/plain": [
       "7"
      ]
     },
     "execution_count": 77,
     "metadata": {},
     "output_type": "execute_result"
    }
   ],
   "source": [
    "tester.loc[286572, 'cty'].find(',')"
   ]
  },
  {
   "cell_type": "code",
   "execution_count": 74,
   "metadata": {},
   "outputs": [
    {
     "name": "stdout",
     "output_type": "stream",
     "text": [
      "True\n"
     ]
    }
   ],
   "source": [
    "if tester.loc[286572, 'full_location'].find(',') > 0:\n",
    "    print('True')"
   ]
  },
  {
   "cell_type": "code",
   "execution_count": 80,
   "metadata": {},
   "outputs": [
    {
     "name": "stdout",
     "output_type": "stream",
     "text": [
      "No comma found in cty value\n",
      "No comma found in cty value\n",
      "No comma found in cty value\n",
      "No comma found in cty value\n",
      "No comma found in cty value\n"
     ]
    }
   ],
   "source": [
    "for city in tester['cty'].head():\n",
    "    if city.find(',') > 0:\n",
    "        print('Comma in cty value')\n",
    "    else:\n",
    "        print('No comma found in cty value')"
   ]
  },
  {
   "cell_type": "code",
   "execution_count": 85,
   "metadata": {},
   "outputs": [
    {
     "data": {
      "text/plain": [
       "[',', ',']"
      ]
     },
     "execution_count": 85,
     "metadata": {},
     "output_type": "execute_result"
    }
   ],
   "source": [
    "import re\n",
    "\n",
    "re.findall(r',', tester.loc[286572, 'full_location'])"
   ]
  },
  {
   "cell_type": "code",
   "execution_count": 101,
   "metadata": {},
   "outputs": [
    {
     "name": "stdout",
     "output_type": "stream",
     "text": [
      "Full location with at least two commas found at 332637\n",
      "Full location with at least two commas found at 415837\n",
      "Full location with at least two commas found at 1551245\n",
      "Full location with at least two commas found at 286572\n",
      "Full location with at least two commas found at 2195532\n",
      "CPU times: user 50.8 s, sys: 856 ms, total: 51.6 s\n",
      "Wall time: 54.5 s\n"
     ]
    }
   ],
   "source": [
    "%%time\n",
    "# for loop that will check for other observations that have 2 or more commas\n",
    "for index, row in tester.iterrows():\n",
    "    comma_check = re.findall(r',', row['full_location'])\n",
    "    if len(comma_check) >= 2:\n",
    "        print('Full location with at least two commas found at {}'.format(index))\n",
    "    else:\n",
    "        pass"
   ]
  },
  {
   "cell_type": "markdown",
   "metadata": {},
   "source": [
    "Our `for` loop above found five observations with at least two columns. However, one thing we should be sure to take into account is that it took nearly a minute to iterate over all the rows. While not all that long, we do have to consider that this particular strategy may run into some issues if we were to try it on the whole data set.\n",
    "\n",
    "Let's go ahead and explore these five observations to see what is going on."
   ]
  },
  {
   "cell_type": "code",
   "execution_count": 102,
   "metadata": {},
   "outputs": [
    {
     "name": "stdout",
     "output_type": "stream",
     "text": [
      "Full location with at least two commas found at 332637\n",
      "Full location with at least two commas found at 415837\n",
      "Full location with at least two commas found at 1551245\n",
      "Full location with at least two commas found at 286572\n",
      "Full location with at least two commas found at 2195532\n",
      "CPU times: user 52.2 s, sys: 668 ms, total: 52.9 s\n",
      "Wall time: 57 s\n"
     ]
    }
   ],
   "source": [
    "%%time\n",
    "# empty list to store indexes with more than 2 commas\n",
    "commas2 = []\n",
    "\n",
    "# for loop that will check for other observations that have 2 or more commas\n",
    "for index, row in tester.iterrows():\n",
    "    comma_check = re.findall(r',', row['full_location'])\n",
    "    if len(comma_check) >= 2:\n",
    "        commas2.append(index)\n",
    "        print('Full location with at least two commas found at {}'.format(index))\n",
    "    else:\n",
    "        pass"
   ]
  },
  {
   "cell_type": "code",
   "execution_count": 103,
   "metadata": {},
   "outputs": [
    {
     "data": {
      "text/plain": [
       "[332637, 415837, 1551245, 286572, 2195532]"
      ]
     },
     "execution_count": 103,
     "metadata": {},
     "output_type": "execute_result"
    }
   ],
   "source": [
    "# check out the list we just created\n",
    "commas2"
   ]
  },
  {
   "cell_type": "code",
   "execution_count": 107,
   "metadata": {},
   "outputs": [
    {
     "name": "stdout",
     "output_type": "stream",
     "text": [
      "NEW YORK,, NY\n",
      "WASHINGTON, DC 20037, DC\n",
      "RIDGEWOOD, NEW JERSEY, NJ\n",
      "KITTERY, ME 03904, ME\n",
      "ALEXANDRIA,, IN\n"
     ]
    }
   ],
   "source": [
    "# loop through and print out full location\n",
    "for idx in commas2:\n",
    "    print(tester['full_location'][idx])"
   ]
  },
  {
   "cell_type": "code",
   "execution_count": 121,
   "metadata": {},
   "outputs": [
    {
     "name": "stderr",
     "output_type": "stream",
     "text": [
      "/Users/jai/anaconda3/envs/geography/lib/python3.7/site-packages/ipykernel_launcher.py:5: SettingWithCopyWarning: \n",
      "A value is trying to be set on a copy of a slice from a DataFrame\n",
      "\n",
      "See the caveats in the documentation: http://pandas.pydata.org/pandas-docs/stable/indexing.html#indexing-view-versus-copy\n",
      "  \"\"\"\n"
     ]
    }
   ],
   "source": [
    "# for loop that splits tring on commas and then returns string in correct format\n",
    "for idx in commas2:\n",
    "    one, two, three = tester['full_location'][idx].split(',')\n",
    "    new_string = (one + ',' + three)\n",
    "    tester['full_location'][idx] = new_string"
   ]
  },
  {
   "cell_type": "code",
   "execution_count": 122,
   "metadata": {},
   "outputs": [
    {
     "name": "stdout",
     "output_type": "stream",
     "text": [
      "NEW YORK, NY\n",
      "WASHINGTON, DC\n",
      "RIDGEWOOD, NJ\n",
      "KITTERY, ME\n",
      "ALEXANDRIA, IN\n"
     ]
    }
   ],
   "source": [
    "# loop through values and see if full_locations were updated\n",
    "for idx in commas2:\n",
    "    print(tester['full_location'][idx])"
   ]
  },
  {
   "cell_type": "code",
   "execution_count": 124,
   "metadata": {},
   "outputs": [
    {
     "name": "stdout",
     "output_type": "stream",
     "text": [
      "NEW YORK,\n",
      "WASHINGTON, DC 20037\n",
      "RIDGEWOOD, NEW JERSEY\n",
      "KITTERY, ME 03904\n",
      "ALEXANDRIA,\n"
     ]
    }
   ],
   "source": [
    "# the issue stemmed from the value in the cty column, let's loop through those to see what they look like\n",
    "for idx in commas2:\n",
    "    print(tester['cty'][idx])"
   ]
  },
  {
   "cell_type": "code",
   "execution_count": 128,
   "metadata": {},
   "outputs": [
    {
     "name": "stderr",
     "output_type": "stream",
     "text": [
      "/Users/jai/anaconda3/envs/geography/lib/python3.7/site-packages/ipykernel_launcher.py:3: SettingWithCopyWarning: \n",
      "A value is trying to be set on a copy of a slice from a DataFrame\n",
      "\n",
      "See the caveats in the documentation: http://pandas.pydata.org/pandas-docs/stable/indexing.html#indexing-view-versus-copy\n",
      "  This is separate from the ipykernel package so we can avoid doing imports until\n"
     ]
    },
    {
     "name": "stdout",
     "output_type": "stream",
     "text": [
      "Updated cty column for index 332637\n",
      "Updated cty column for index 415837\n",
      "Updated cty column for index 1551245\n",
      "Updated cty column for index 286572\n",
      "Updated cty column for index 2195532\n"
     ]
    }
   ],
   "source": [
    "for idx in commas2:\n",
    "    cty, st = tester['full_location'][idx].split(',')\n",
    "    tester['cty'][idx] = cty\n",
    "    print('Updated cty column for index {}'.format(idx))"
   ]
  },
  {
   "cell_type": "code",
   "execution_count": 130,
   "metadata": {},
   "outputs": [
    {
     "name": "stdout",
     "output_type": "stream",
     "text": [
      "NEW YORK\n",
      "WASHINGTON\n",
      "RIDGEWOOD\n",
      "KITTERY\n",
      "ALEXANDRIA\n"
     ]
    }
   ],
   "source": [
    "# loop through cty observations to make sure they've been updated\n",
    "for idx in commas2:\n",
    "    print(tester['cty'][idx])"
   ]
  },
  {
   "cell_type": "code",
   "execution_count": 132,
   "metadata": {},
   "outputs": [],
   "source": [
    "# for loop that will check for other observations that have 2 or more commas (TO CONFIRM NO MORE)\n",
    "for index, row in tester.iterrows():\n",
    "    comma_check = re.findall(r',', row['full_location'])\n",
    "    if len(comma_check) >= 2:\n",
    "        print('Full location with at least two commas found at {}'.format(index))\n",
    "    else:\n",
    "        pass"
   ]
  },
  {
   "cell_type": "markdown",
   "metadata": {},
   "source": [
    "### _Second Trial Run of `zip_generator`_"
   ]
  },
  {
   "cell_type": "code",
   "execution_count": 133,
   "metadata": {},
   "outputs": [
    {
     "name": "stdout",
     "output_type": "stream",
     "text": [
      "CPU times: user 1h 2min 41s, sys: 1min 23s, total: 1h 4min 5s\n",
      "Wall time: 1h 5min 45s\n"
     ]
    }
   ],
   "source": [
    "%%time\n",
    "# second test of zip_generator function\n",
    "tester['new_zipcode'] = tester.apply(lambda row: zip_generator(row), axis=1);"
   ]
  },
  {
   "cell_type": "code",
   "execution_count": 136,
   "metadata": {},
   "outputs": [
    {
     "data": {
      "text/plain": [
       "5    550424\n",
       "8       423\n",
       "4         7\n",
       "3         1\n",
       "Name: new_zipcode, dtype: int64"
      ]
     },
     "execution_count": 136,
     "metadata": {},
     "output_type": "execute_result"
    }
   ],
   "source": [
    "# check to see what the new lengths are in the new zipcode column\n",
    "tester['new_zipcode'].str.len().value_counts()"
   ]
  },
  {
   "cell_type": "markdown",
   "metadata": {},
   "source": [
    "For the most part, it looked like it worked. There appears to be some potential edge cases that we didn't account for though (hence the values of `8`, `4`, and `3`). However, I am going to call it a night so this will be something to look into tomorrow! "
   ]
  }
 ],
 "metadata": {
  "kernelspec": {
   "display_name": "Python 3",
   "language": "python",
   "name": "python3"
  },
  "language_info": {
   "codemirror_mode": {
    "name": "ipython",
    "version": 3
   },
   "file_extension": ".py",
   "mimetype": "text/x-python",
   "name": "python",
   "nbconvert_exporter": "python",
   "pygments_lexer": "ipython3",
   "version": "3.7.3"
  }
 },
 "nbformat": 4,
 "nbformat_minor": 4
}
