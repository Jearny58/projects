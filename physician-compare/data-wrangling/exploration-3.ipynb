{
 "cells": [
  {
   "cell_type": "markdown",
   "metadata": {},
   "source": [
    "# _Physician Compare National_\n",
    "\n",
    "This notebook is a continuation from of my analysis on the following data gathered via [Data.Medicare.gov](https://data.medicare.gov/Physician-Compare/Physician-Compare-National-Downloadable-File/mj5m-pzi6). It contains general information about individual eligible professionals (EPs) such as demographic information and Medicare quality program participation. This dataset is updated twice a month with the most current demographic information available at that time."
   ]
  },
  {
   "cell_type": "code",
   "execution_count": 1,
   "metadata": {},
   "outputs": [],
   "source": [
    "# import pandas\n",
    "import pandas as pd\n",
    "pd.options.display.max_columns = None"
   ]
  },
  {
   "cell_type": "code",
   "execution_count": 2,
   "metadata": {},
   "outputs": [
    {
     "name": "stderr",
     "output_type": "stream",
     "text": [
      "/Users/jai/anaconda3/envs/fastai/lib/python3.7/site-packages/IPython/core/interactiveshell.py:3057: DtypeWarning: Columns (16,26,28,30,32,34) have mixed types. Specify dtype option on import or set low_memory=False.\n",
      "  interactivity=interactivity, compiler=compiler, result=result)\n"
     ]
    }
   ],
   "source": [
    "# import data from yesterday\n",
    "data = pd.read_csv('physician_compare_national-updates-1.csv');"
   ]
  },
  {
   "cell_type": "code",
   "execution_count": 3,
   "metadata": {},
   "outputs": [
    {
     "data": {
      "text/html": [
       "<div>\n",
       "<style scoped>\n",
       "    .dataframe tbody tr th:only-of-type {\n",
       "        vertical-align: middle;\n",
       "    }\n",
       "\n",
       "    .dataframe tbody tr th {\n",
       "        vertical-align: top;\n",
       "    }\n",
       "\n",
       "    .dataframe thead th {\n",
       "        text-align: right;\n",
       "    }\n",
       "</style>\n",
       "<table border=\"1\" class=\"dataframe\">\n",
       "  <thead>\n",
       "    <tr style=\"text-align: right;\">\n",
       "      <th></th>\n",
       "      <th>npi</th>\n",
       "      <th>ind_pac_id</th>\n",
       "      <th>ind_enrl_id</th>\n",
       "      <th>lst_nm</th>\n",
       "      <th>frst_nm</th>\n",
       "      <th>mid_nm</th>\n",
       "      <th>suff</th>\n",
       "      <th>full_nm</th>\n",
       "      <th>gndr</th>\n",
       "      <th>cred</th>\n",
       "      <th>med_sch</th>\n",
       "      <th>grd_yr</th>\n",
       "      <th>pri_spec</th>\n",
       "      <th>sec_spec_1</th>\n",
       "      <th>sec_spec_2</th>\n",
       "      <th>sec_spec_3</th>\n",
       "      <th>sec_spec_4</th>\n",
       "      <th>sec_spec_all</th>\n",
       "      <th>org_lgl_nm</th>\n",
       "      <th>org_pac_id</th>\n",
       "      <th>num_org_mem</th>\n",
       "      <th>adr_ln_1</th>\n",
       "      <th>adr_ln_2</th>\n",
       "      <th>ln_2_sprs</th>\n",
       "      <th>cty</th>\n",
       "      <th>st</th>\n",
       "      <th>zip</th>\n",
       "      <th>phn_numbr</th>\n",
       "      <th>hosp_afl_1</th>\n",
       "      <th>hosp_afl_lbn_1</th>\n",
       "      <th>hosp_afl_2</th>\n",
       "      <th>hosp_afl_lbn_2</th>\n",
       "      <th>hosp_afl_3</th>\n",
       "      <th>hosp_afl_lbn_3</th>\n",
       "      <th>hosp_afl_4</th>\n",
       "      <th>hosp_afl_lbn_4</th>\n",
       "      <th>hosp_afl_5</th>\n",
       "      <th>hosp_afl_lbn_5</th>\n",
       "      <th>assgn</th>\n",
       "    </tr>\n",
       "  </thead>\n",
       "  <tbody>\n",
       "    <tr>\n",
       "      <th>0</th>\n",
       "      <td>1003000126</td>\n",
       "      <td>7517003643</td>\n",
       "      <td>I20130530000085</td>\n",
       "      <td>ENKESHAFI</td>\n",
       "      <td>ARDALAN</td>\n",
       "      <td>NaN</td>\n",
       "      <td>NaN</td>\n",
       "      <td>ARDALAN  ENKESHAFI</td>\n",
       "      <td>M</td>\n",
       "      <td>NaN</td>\n",
       "      <td>OTHER</td>\n",
       "      <td>1994.0</td>\n",
       "      <td>INTERNAL MEDICINE</td>\n",
       "      <td>NaN</td>\n",
       "      <td>NaN</td>\n",
       "      <td>NaN</td>\n",
       "      <td>NaN</td>\n",
       "      <td>NaN</td>\n",
       "      <td>EMERGENCY MEDICINE ASSOCIATES PA PC</td>\n",
       "      <td>8.022915e+09</td>\n",
       "      <td>182.0</td>\n",
       "      <td>1850 TOWN CTR PKWY</td>\n",
       "      <td>NaN</td>\n",
       "      <td>NaN</td>\n",
       "      <td>RESTON</td>\n",
       "      <td>VA</td>\n",
       "      <td>201903219</td>\n",
       "      <td>7.036899e+09</td>\n",
       "      <td>490112</td>\n",
       "      <td>CJW MEDICAL CENTER</td>\n",
       "      <td>210028</td>\n",
       "      <td>MEDSTAR SAINT MARY'S HOSPITAL</td>\n",
       "      <td>NaN</td>\n",
       "      <td>NaN</td>\n",
       "      <td>NaN</td>\n",
       "      <td>NaN</td>\n",
       "      <td>NaN</td>\n",
       "      <td>NaN</td>\n",
       "      <td>Y</td>\n",
       "    </tr>\n",
       "    <tr>\n",
       "      <th>1</th>\n",
       "      <td>1003000126</td>\n",
       "      <td>7517003643</td>\n",
       "      <td>I20130530000085</td>\n",
       "      <td>ENKESHAFI</td>\n",
       "      <td>ARDALAN</td>\n",
       "      <td>NaN</td>\n",
       "      <td>NaN</td>\n",
       "      <td>ARDALAN  ENKESHAFI</td>\n",
       "      <td>M</td>\n",
       "      <td>NaN</td>\n",
       "      <td>OTHER</td>\n",
       "      <td>1994.0</td>\n",
       "      <td>INTERNAL MEDICINE</td>\n",
       "      <td>NaN</td>\n",
       "      <td>NaN</td>\n",
       "      <td>NaN</td>\n",
       "      <td>NaN</td>\n",
       "      <td>NaN</td>\n",
       "      <td>EMERGENCY MEDICINE ASSOCIATES PA PC</td>\n",
       "      <td>8.022915e+09</td>\n",
       "      <td>182.0</td>\n",
       "      <td>1701 N GEORGE MASON DR</td>\n",
       "      <td>NaN</td>\n",
       "      <td>NaN</td>\n",
       "      <td>ARLINGTON</td>\n",
       "      <td>VA</td>\n",
       "      <td>222053610</td>\n",
       "      <td>7.035586e+09</td>\n",
       "      <td>490112</td>\n",
       "      <td>CJW MEDICAL CENTER</td>\n",
       "      <td>210028</td>\n",
       "      <td>MEDSTAR SAINT MARY'S HOSPITAL</td>\n",
       "      <td>NaN</td>\n",
       "      <td>NaN</td>\n",
       "      <td>NaN</td>\n",
       "      <td>NaN</td>\n",
       "      <td>NaN</td>\n",
       "      <td>NaN</td>\n",
       "      <td>Y</td>\n",
       "    </tr>\n",
       "    <tr>\n",
       "      <th>2</th>\n",
       "      <td>1003000126</td>\n",
       "      <td>7517003643</td>\n",
       "      <td>I20150824000105</td>\n",
       "      <td>ENKESHAFI</td>\n",
       "      <td>ARDALAN</td>\n",
       "      <td>NaN</td>\n",
       "      <td>NaN</td>\n",
       "      <td>ARDALAN  ENKESHAFI</td>\n",
       "      <td>M</td>\n",
       "      <td>NaN</td>\n",
       "      <td>OTHER</td>\n",
       "      <td>1994.0</td>\n",
       "      <td>INTERNAL MEDICINE</td>\n",
       "      <td>NaN</td>\n",
       "      <td>NaN</td>\n",
       "      <td>NaN</td>\n",
       "      <td>NaN</td>\n",
       "      <td>NaN</td>\n",
       "      <td>EMERGENCY MEDICINE ASSOCIATES PA PC</td>\n",
       "      <td>8.022915e+09</td>\n",
       "      <td>182.0</td>\n",
       "      <td>24440 STONE SPRINGS BLVD</td>\n",
       "      <td>NaN</td>\n",
       "      <td>NaN</td>\n",
       "      <td>DULLES</td>\n",
       "      <td>VA</td>\n",
       "      <td>201662247</td>\n",
       "      <td>5.713674e+09</td>\n",
       "      <td>490112</td>\n",
       "      <td>CJW MEDICAL CENTER</td>\n",
       "      <td>210028</td>\n",
       "      <td>MEDSTAR SAINT MARY'S HOSPITAL</td>\n",
       "      <td>NaN</td>\n",
       "      <td>NaN</td>\n",
       "      <td>NaN</td>\n",
       "      <td>NaN</td>\n",
       "      <td>NaN</td>\n",
       "      <td>NaN</td>\n",
       "      <td>Y</td>\n",
       "    </tr>\n",
       "    <tr>\n",
       "      <th>3</th>\n",
       "      <td>1003000126</td>\n",
       "      <td>7517003643</td>\n",
       "      <td>I20150824000105</td>\n",
       "      <td>ENKESHAFI</td>\n",
       "      <td>ARDALAN</td>\n",
       "      <td>NaN</td>\n",
       "      <td>NaN</td>\n",
       "      <td>ARDALAN  ENKESHAFI</td>\n",
       "      <td>M</td>\n",
       "      <td>NaN</td>\n",
       "      <td>OTHER</td>\n",
       "      <td>1994.0</td>\n",
       "      <td>INTERNAL MEDICINE</td>\n",
       "      <td>NaN</td>\n",
       "      <td>NaN</td>\n",
       "      <td>NaN</td>\n",
       "      <td>NaN</td>\n",
       "      <td>NaN</td>\n",
       "      <td>SOUTHEASTERN INTENSIVIST SERVICES PC</td>\n",
       "      <td>9.335152e+09</td>\n",
       "      <td>133.0</td>\n",
       "      <td>1401 JOHNSTON WILLIS DR</td>\n",
       "      <td>NaN</td>\n",
       "      <td>NaN</td>\n",
       "      <td>NORTH CHESTERFIELD</td>\n",
       "      <td>VA</td>\n",
       "      <td>232354730</td>\n",
       "      <td>8.044835e+09</td>\n",
       "      <td>490112</td>\n",
       "      <td>CJW MEDICAL CENTER</td>\n",
       "      <td>210028</td>\n",
       "      <td>MEDSTAR SAINT MARY'S HOSPITAL</td>\n",
       "      <td>NaN</td>\n",
       "      <td>NaN</td>\n",
       "      <td>NaN</td>\n",
       "      <td>NaN</td>\n",
       "      <td>NaN</td>\n",
       "      <td>NaN</td>\n",
       "      <td>Y</td>\n",
       "    </tr>\n",
       "    <tr>\n",
       "      <th>4</th>\n",
       "      <td>1003000126</td>\n",
       "      <td>7517003643</td>\n",
       "      <td>I20150824000105</td>\n",
       "      <td>ENKESHAFI</td>\n",
       "      <td>ARDALAN</td>\n",
       "      <td>NaN</td>\n",
       "      <td>NaN</td>\n",
       "      <td>ARDALAN  ENKESHAFI</td>\n",
       "      <td>M</td>\n",
       "      <td>NaN</td>\n",
       "      <td>OTHER</td>\n",
       "      <td>1994.0</td>\n",
       "      <td>INTERNAL MEDICINE</td>\n",
       "      <td>NaN</td>\n",
       "      <td>NaN</td>\n",
       "      <td>NaN</td>\n",
       "      <td>NaN</td>\n",
       "      <td>NaN</td>\n",
       "      <td>SOUTHEASTERN INTENSIVIST SERVICES PC</td>\n",
       "      <td>9.335152e+09</td>\n",
       "      <td>133.0</td>\n",
       "      <td>411 W RANDOLPH RD</td>\n",
       "      <td>NaN</td>\n",
       "      <td>NaN</td>\n",
       "      <td>HOPEWELL</td>\n",
       "      <td>VA</td>\n",
       "      <td>238602938</td>\n",
       "      <td>8.045412e+09</td>\n",
       "      <td>490112</td>\n",
       "      <td>CJW MEDICAL CENTER</td>\n",
       "      <td>210028</td>\n",
       "      <td>MEDSTAR SAINT MARY'S HOSPITAL</td>\n",
       "      <td>NaN</td>\n",
       "      <td>NaN</td>\n",
       "      <td>NaN</td>\n",
       "      <td>NaN</td>\n",
       "      <td>NaN</td>\n",
       "      <td>NaN</td>\n",
       "      <td>Y</td>\n",
       "    </tr>\n",
       "  </tbody>\n",
       "</table>\n",
       "</div>"
      ],
      "text/plain": [
       "          npi  ind_pac_id      ind_enrl_id     lst_nm  frst_nm mid_nm suff  \\\n",
       "0  1003000126  7517003643  I20130530000085  ENKESHAFI  ARDALAN    NaN  NaN   \n",
       "1  1003000126  7517003643  I20130530000085  ENKESHAFI  ARDALAN    NaN  NaN   \n",
       "2  1003000126  7517003643  I20150824000105  ENKESHAFI  ARDALAN    NaN  NaN   \n",
       "3  1003000126  7517003643  I20150824000105  ENKESHAFI  ARDALAN    NaN  NaN   \n",
       "4  1003000126  7517003643  I20150824000105  ENKESHAFI  ARDALAN    NaN  NaN   \n",
       "\n",
       "               full_nm gndr cred med_sch  grd_yr           pri_spec  \\\n",
       "0  ARDALAN  ENKESHAFI     M  NaN   OTHER  1994.0  INTERNAL MEDICINE   \n",
       "1  ARDALAN  ENKESHAFI     M  NaN   OTHER  1994.0  INTERNAL MEDICINE   \n",
       "2  ARDALAN  ENKESHAFI     M  NaN   OTHER  1994.0  INTERNAL MEDICINE   \n",
       "3  ARDALAN  ENKESHAFI     M  NaN   OTHER  1994.0  INTERNAL MEDICINE   \n",
       "4  ARDALAN  ENKESHAFI     M  NaN   OTHER  1994.0  INTERNAL MEDICINE   \n",
       "\n",
       "  sec_spec_1 sec_spec_2 sec_spec_3 sec_spec_4 sec_spec_all  \\\n",
       "0        NaN        NaN        NaN        NaN          NaN   \n",
       "1        NaN        NaN        NaN        NaN          NaN   \n",
       "2        NaN        NaN        NaN        NaN          NaN   \n",
       "3        NaN        NaN        NaN        NaN          NaN   \n",
       "4        NaN        NaN        NaN        NaN          NaN   \n",
       "\n",
       "                             org_lgl_nm    org_pac_id  num_org_mem  \\\n",
       "0   EMERGENCY MEDICINE ASSOCIATES PA PC  8.022915e+09        182.0   \n",
       "1   EMERGENCY MEDICINE ASSOCIATES PA PC  8.022915e+09        182.0   \n",
       "2   EMERGENCY MEDICINE ASSOCIATES PA PC  8.022915e+09        182.0   \n",
       "3  SOUTHEASTERN INTENSIVIST SERVICES PC  9.335152e+09        133.0   \n",
       "4  SOUTHEASTERN INTENSIVIST SERVICES PC  9.335152e+09        133.0   \n",
       "\n",
       "                   adr_ln_1 adr_ln_2 ln_2_sprs                 cty  st  \\\n",
       "0        1850 TOWN CTR PKWY      NaN       NaN              RESTON  VA   \n",
       "1    1701 N GEORGE MASON DR      NaN       NaN           ARLINGTON  VA   \n",
       "2  24440 STONE SPRINGS BLVD      NaN       NaN              DULLES  VA   \n",
       "3   1401 JOHNSTON WILLIS DR      NaN       NaN  NORTH CHESTERFIELD  VA   \n",
       "4         411 W RANDOLPH RD      NaN       NaN            HOPEWELL  VA   \n",
       "\n",
       "         zip     phn_numbr hosp_afl_1      hosp_afl_lbn_1 hosp_afl_2  \\\n",
       "0  201903219  7.036899e+09     490112  CJW MEDICAL CENTER     210028   \n",
       "1  222053610  7.035586e+09     490112  CJW MEDICAL CENTER     210028   \n",
       "2  201662247  5.713674e+09     490112  CJW MEDICAL CENTER     210028   \n",
       "3  232354730  8.044835e+09     490112  CJW MEDICAL CENTER     210028   \n",
       "4  238602938  8.045412e+09     490112  CJW MEDICAL CENTER     210028   \n",
       "\n",
       "                  hosp_afl_lbn_2 hosp_afl_3 hosp_afl_lbn_3 hosp_afl_4  \\\n",
       "0  MEDSTAR SAINT MARY'S HOSPITAL        NaN            NaN        NaN   \n",
       "1  MEDSTAR SAINT MARY'S HOSPITAL        NaN            NaN        NaN   \n",
       "2  MEDSTAR SAINT MARY'S HOSPITAL        NaN            NaN        NaN   \n",
       "3  MEDSTAR SAINT MARY'S HOSPITAL        NaN            NaN        NaN   \n",
       "4  MEDSTAR SAINT MARY'S HOSPITAL        NaN            NaN        NaN   \n",
       "\n",
       "  hosp_afl_lbn_4  hosp_afl_5 hosp_afl_lbn_5 assgn  \n",
       "0            NaN         NaN            NaN     Y  \n",
       "1            NaN         NaN            NaN     Y  \n",
       "2            NaN         NaN            NaN     Y  \n",
       "3            NaN         NaN            NaN     Y  \n",
       "4            NaN         NaN            NaN     Y  "
      ]
     },
     "execution_count": 3,
     "metadata": {},
     "output_type": "execute_result"
    }
   ],
   "source": [
    "# see the first 5 rows\n",
    "data.head()"
   ]
  },
  {
   "cell_type": "code",
   "execution_count": 4,
   "metadata": {},
   "outputs": [
    {
     "data": {
      "text/html": [
       "<div>\n",
       "<style scoped>\n",
       "    .dataframe tbody tr th:only-of-type {\n",
       "        vertical-align: middle;\n",
       "    }\n",
       "\n",
       "    .dataframe tbody tr th {\n",
       "        vertical-align: top;\n",
       "    }\n",
       "\n",
       "    .dataframe thead th {\n",
       "        text-align: right;\n",
       "    }\n",
       "</style>\n",
       "<table border=\"1\" class=\"dataframe\">\n",
       "  <thead>\n",
       "    <tr style=\"text-align: right;\">\n",
       "      <th></th>\n",
       "      <th>npi</th>\n",
       "      <th>ind_pac_id</th>\n",
       "      <th>ind_enrl_id</th>\n",
       "      <th>lst_nm</th>\n",
       "      <th>frst_nm</th>\n",
       "      <th>mid_nm</th>\n",
       "      <th>suff</th>\n",
       "      <th>full_nm</th>\n",
       "      <th>gndr</th>\n",
       "      <th>cred</th>\n",
       "      <th>med_sch</th>\n",
       "      <th>grd_yr</th>\n",
       "      <th>pri_spec</th>\n",
       "      <th>sec_spec_1</th>\n",
       "      <th>sec_spec_2</th>\n",
       "      <th>sec_spec_3</th>\n",
       "      <th>sec_spec_4</th>\n",
       "      <th>sec_spec_all</th>\n",
       "      <th>org_lgl_nm</th>\n",
       "      <th>org_pac_id</th>\n",
       "      <th>num_org_mem</th>\n",
       "      <th>adr_ln_1</th>\n",
       "      <th>adr_ln_2</th>\n",
       "      <th>ln_2_sprs</th>\n",
       "      <th>cty</th>\n",
       "      <th>st</th>\n",
       "      <th>zip</th>\n",
       "      <th>phn_numbr</th>\n",
       "      <th>hosp_afl_1</th>\n",
       "      <th>hosp_afl_lbn_1</th>\n",
       "      <th>hosp_afl_2</th>\n",
       "      <th>hosp_afl_lbn_2</th>\n",
       "      <th>hosp_afl_3</th>\n",
       "      <th>hosp_afl_lbn_3</th>\n",
       "      <th>hosp_afl_4</th>\n",
       "      <th>hosp_afl_lbn_4</th>\n",
       "      <th>hosp_afl_5</th>\n",
       "      <th>hosp_afl_lbn_5</th>\n",
       "      <th>assgn</th>\n",
       "    </tr>\n",
       "  </thead>\n",
       "  <tbody>\n",
       "    <tr>\n",
       "      <th>2210785</th>\n",
       "      <td>1992999825</td>\n",
       "      <td>143414284</td>\n",
       "      <td>I20101102000933</td>\n",
       "      <td>DESCHENES</td>\n",
       "      <td>GEOFFREY</td>\n",
       "      <td>R</td>\n",
       "      <td>NaN</td>\n",
       "      <td>GEOFFREY R DESCHENES</td>\n",
       "      <td>M</td>\n",
       "      <td>NaN</td>\n",
       "      <td>JEFFERSON MEDICAL COLLEGE OF THOMAS JEFFERSON ...</td>\n",
       "      <td>2005.0</td>\n",
       "      <td>OTOLARYNGOLOGY</td>\n",
       "      <td>NaN</td>\n",
       "      <td>NaN</td>\n",
       "      <td>NaN</td>\n",
       "      <td>NaN</td>\n",
       "      <td>NaN</td>\n",
       "      <td>VIRGINIA MASON MEDICAL CENTER</td>\n",
       "      <td>9.830003e+09</td>\n",
       "      <td>776.0</td>\n",
       "      <td>19116 33RD AVE W</td>\n",
       "      <td>VIRGINIA MASON LYNNWOOD</td>\n",
       "      <td>NaN</td>\n",
       "      <td>LYNNWOOD</td>\n",
       "      <td>WA</td>\n",
       "      <td>980364706</td>\n",
       "      <td>4.257128e+09</td>\n",
       "      <td>500005</td>\n",
       "      <td>VIRGINIA MASON MEDICAL CENTER</td>\n",
       "      <td>NaN</td>\n",
       "      <td>NaN</td>\n",
       "      <td>NaN</td>\n",
       "      <td>NaN</td>\n",
       "      <td>NaN</td>\n",
       "      <td>NaN</td>\n",
       "      <td>NaN</td>\n",
       "      <td>NaN</td>\n",
       "      <td>Y</td>\n",
       "    </tr>\n",
       "    <tr>\n",
       "      <th>2210786</th>\n",
       "      <td>1992999825</td>\n",
       "      <td>143414284</td>\n",
       "      <td>I20101102000933</td>\n",
       "      <td>DESCHENES</td>\n",
       "      <td>GEOFFREY</td>\n",
       "      <td>R</td>\n",
       "      <td>NaN</td>\n",
       "      <td>GEOFFREY R DESCHENES</td>\n",
       "      <td>M</td>\n",
       "      <td>NaN</td>\n",
       "      <td>JEFFERSON MEDICAL COLLEGE OF THOMAS JEFFERSON ...</td>\n",
       "      <td>2005.0</td>\n",
       "      <td>OTOLARYNGOLOGY</td>\n",
       "      <td>NaN</td>\n",
       "      <td>NaN</td>\n",
       "      <td>NaN</td>\n",
       "      <td>NaN</td>\n",
       "      <td>NaN</td>\n",
       "      <td>VIRGINIA MASON MEDICAL CENTER</td>\n",
       "      <td>9.830003e+09</td>\n",
       "      <td>776.0</td>\n",
       "      <td>925 SENECA ST</td>\n",
       "      <td>VIRGINIA MASON HOSPITAL</td>\n",
       "      <td>NaN</td>\n",
       "      <td>SEATTLE</td>\n",
       "      <td>WA</td>\n",
       "      <td>981012742</td>\n",
       "      <td>2.062237e+09</td>\n",
       "      <td>500005</td>\n",
       "      <td>VIRGINIA MASON MEDICAL CENTER</td>\n",
       "      <td>NaN</td>\n",
       "      <td>NaN</td>\n",
       "      <td>NaN</td>\n",
       "      <td>NaN</td>\n",
       "      <td>NaN</td>\n",
       "      <td>NaN</td>\n",
       "      <td>NaN</td>\n",
       "      <td>NaN</td>\n",
       "      <td>Y</td>\n",
       "    </tr>\n",
       "    <tr>\n",
       "      <th>2210787</th>\n",
       "      <td>1992999825</td>\n",
       "      <td>143414284</td>\n",
       "      <td>I20101102000933</td>\n",
       "      <td>DESCHENES</td>\n",
       "      <td>GEOFFREY</td>\n",
       "      <td>R</td>\n",
       "      <td>NaN</td>\n",
       "      <td>GEOFFREY R DESCHENES</td>\n",
       "      <td>M</td>\n",
       "      <td>NaN</td>\n",
       "      <td>JEFFERSON MEDICAL COLLEGE OF THOMAS JEFFERSON ...</td>\n",
       "      <td>2005.0</td>\n",
       "      <td>OTOLARYNGOLOGY</td>\n",
       "      <td>NaN</td>\n",
       "      <td>NaN</td>\n",
       "      <td>NaN</td>\n",
       "      <td>NaN</td>\n",
       "      <td>NaN</td>\n",
       "      <td>VIRGINIA MASON MEDICAL CENTER</td>\n",
       "      <td>9.830003e+09</td>\n",
       "      <td>776.0</td>\n",
       "      <td>1100 9TH AVE</td>\n",
       "      <td>NaN</td>\n",
       "      <td>NaN</td>\n",
       "      <td>SEATTLE</td>\n",
       "      <td>WA</td>\n",
       "      <td>981012756</td>\n",
       "      <td>NaN</td>\n",
       "      <td>500005</td>\n",
       "      <td>VIRGINIA MASON MEDICAL CENTER</td>\n",
       "      <td>NaN</td>\n",
       "      <td>NaN</td>\n",
       "      <td>NaN</td>\n",
       "      <td>NaN</td>\n",
       "      <td>NaN</td>\n",
       "      <td>NaN</td>\n",
       "      <td>NaN</td>\n",
       "      <td>NaN</td>\n",
       "      <td>Y</td>\n",
       "    </tr>\n",
       "    <tr>\n",
       "      <th>2210788</th>\n",
       "      <td>1992999825</td>\n",
       "      <td>143414284</td>\n",
       "      <td>I20101102000933</td>\n",
       "      <td>DESCHENES</td>\n",
       "      <td>GEOFFREY</td>\n",
       "      <td>R</td>\n",
       "      <td>NaN</td>\n",
       "      <td>GEOFFREY R DESCHENES</td>\n",
       "      <td>M</td>\n",
       "      <td>NaN</td>\n",
       "      <td>JEFFERSON MEDICAL COLLEGE OF THOMAS JEFFERSON ...</td>\n",
       "      <td>2005.0</td>\n",
       "      <td>OTOLARYNGOLOGY</td>\n",
       "      <td>NaN</td>\n",
       "      <td>NaN</td>\n",
       "      <td>NaN</td>\n",
       "      <td>NaN</td>\n",
       "      <td>NaN</td>\n",
       "      <td>VIRGINIA MASON MEDICAL CENTER</td>\n",
       "      <td>9.830003e+09</td>\n",
       "      <td>776.0</td>\n",
       "      <td>4575 SANDPOINT WAY NE</td>\n",
       "      <td>NaN</td>\n",
       "      <td>Y</td>\n",
       "      <td>SEATTLE</td>\n",
       "      <td>WA</td>\n",
       "      <td>981053999</td>\n",
       "      <td>2.065258e+09</td>\n",
       "      <td>500005</td>\n",
       "      <td>VIRGINIA MASON MEDICAL CENTER</td>\n",
       "      <td>NaN</td>\n",
       "      <td>NaN</td>\n",
       "      <td>NaN</td>\n",
       "      <td>NaN</td>\n",
       "      <td>NaN</td>\n",
       "      <td>NaN</td>\n",
       "      <td>NaN</td>\n",
       "      <td>NaN</td>\n",
       "      <td>Y</td>\n",
       "    </tr>\n",
       "    <tr>\n",
       "      <th>2210789</th>\n",
       "      <td>1992999825</td>\n",
       "      <td>143414284</td>\n",
       "      <td>I20101102000933</td>\n",
       "      <td>DESCHENES</td>\n",
       "      <td>GEOFFREY</td>\n",
       "      <td>R</td>\n",
       "      <td>NaN</td>\n",
       "      <td>GEOFFREY R DESCHENES</td>\n",
       "      <td>M</td>\n",
       "      <td>NaN</td>\n",
       "      <td>JEFFERSON MEDICAL COLLEGE OF THOMAS JEFFERSON ...</td>\n",
       "      <td>2005.0</td>\n",
       "      <td>OTOLARYNGOLOGY</td>\n",
       "      <td>NaN</td>\n",
       "      <td>NaN</td>\n",
       "      <td>NaN</td>\n",
       "      <td>NaN</td>\n",
       "      <td>NaN</td>\n",
       "      <td>VIRGINIA MASON MEDICAL CENTER</td>\n",
       "      <td>9.830003e+09</td>\n",
       "      <td>776.0</td>\n",
       "      <td>4575 SAND POINT WAY NE</td>\n",
       "      <td>108 VIRGINIA MASON SAND POINT</td>\n",
       "      <td>NaN</td>\n",
       "      <td>SEATTLE</td>\n",
       "      <td>WA</td>\n",
       "      <td>981053999</td>\n",
       "      <td>2.065258e+09</td>\n",
       "      <td>500005</td>\n",
       "      <td>VIRGINIA MASON MEDICAL CENTER</td>\n",
       "      <td>NaN</td>\n",
       "      <td>NaN</td>\n",
       "      <td>NaN</td>\n",
       "      <td>NaN</td>\n",
       "      <td>NaN</td>\n",
       "      <td>NaN</td>\n",
       "      <td>NaN</td>\n",
       "      <td>NaN</td>\n",
       "      <td>Y</td>\n",
       "    </tr>\n",
       "  </tbody>\n",
       "</table>\n",
       "</div>"
      ],
      "text/plain": [
       "                npi  ind_pac_id      ind_enrl_id     lst_nm   frst_nm mid_nm  \\\n",
       "2210785  1992999825   143414284  I20101102000933  DESCHENES  GEOFFREY      R   \n",
       "2210786  1992999825   143414284  I20101102000933  DESCHENES  GEOFFREY      R   \n",
       "2210787  1992999825   143414284  I20101102000933  DESCHENES  GEOFFREY      R   \n",
       "2210788  1992999825   143414284  I20101102000933  DESCHENES  GEOFFREY      R   \n",
       "2210789  1992999825   143414284  I20101102000933  DESCHENES  GEOFFREY      R   \n",
       "\n",
       "        suff                full_nm gndr cred  \\\n",
       "2210785  NaN  GEOFFREY R DESCHENES     M  NaN   \n",
       "2210786  NaN  GEOFFREY R DESCHENES     M  NaN   \n",
       "2210787  NaN  GEOFFREY R DESCHENES     M  NaN   \n",
       "2210788  NaN  GEOFFREY R DESCHENES     M  NaN   \n",
       "2210789  NaN  GEOFFREY R DESCHENES     M  NaN   \n",
       "\n",
       "                                                   med_sch  grd_yr  \\\n",
       "2210785  JEFFERSON MEDICAL COLLEGE OF THOMAS JEFFERSON ...  2005.0   \n",
       "2210786  JEFFERSON MEDICAL COLLEGE OF THOMAS JEFFERSON ...  2005.0   \n",
       "2210787  JEFFERSON MEDICAL COLLEGE OF THOMAS JEFFERSON ...  2005.0   \n",
       "2210788  JEFFERSON MEDICAL COLLEGE OF THOMAS JEFFERSON ...  2005.0   \n",
       "2210789  JEFFERSON MEDICAL COLLEGE OF THOMAS JEFFERSON ...  2005.0   \n",
       "\n",
       "               pri_spec sec_spec_1 sec_spec_2 sec_spec_3 sec_spec_4  \\\n",
       "2210785  OTOLARYNGOLOGY        NaN        NaN        NaN        NaN   \n",
       "2210786  OTOLARYNGOLOGY        NaN        NaN        NaN        NaN   \n",
       "2210787  OTOLARYNGOLOGY        NaN        NaN        NaN        NaN   \n",
       "2210788  OTOLARYNGOLOGY        NaN        NaN        NaN        NaN   \n",
       "2210789  OTOLARYNGOLOGY        NaN        NaN        NaN        NaN   \n",
       "\n",
       "        sec_spec_all                     org_lgl_nm    org_pac_id  \\\n",
       "2210785          NaN  VIRGINIA MASON MEDICAL CENTER  9.830003e+09   \n",
       "2210786          NaN  VIRGINIA MASON MEDICAL CENTER  9.830003e+09   \n",
       "2210787          NaN  VIRGINIA MASON MEDICAL CENTER  9.830003e+09   \n",
       "2210788          NaN  VIRGINIA MASON MEDICAL CENTER  9.830003e+09   \n",
       "2210789          NaN  VIRGINIA MASON MEDICAL CENTER  9.830003e+09   \n",
       "\n",
       "         num_org_mem                adr_ln_1                       adr_ln_2  \\\n",
       "2210785        776.0        19116 33RD AVE W        VIRGINIA MASON LYNNWOOD   \n",
       "2210786        776.0           925 SENECA ST        VIRGINIA MASON HOSPITAL   \n",
       "2210787        776.0            1100 9TH AVE                            NaN   \n",
       "2210788        776.0   4575 SANDPOINT WAY NE                            NaN   \n",
       "2210789        776.0  4575 SAND POINT WAY NE  108 VIRGINIA MASON SAND POINT   \n",
       "\n",
       "        ln_2_sprs       cty  st        zip     phn_numbr hosp_afl_1  \\\n",
       "2210785       NaN  LYNNWOOD  WA  980364706  4.257128e+09     500005   \n",
       "2210786       NaN   SEATTLE  WA  981012742  2.062237e+09     500005   \n",
       "2210787       NaN   SEATTLE  WA  981012756           NaN     500005   \n",
       "2210788         Y   SEATTLE  WA  981053999  2.065258e+09     500005   \n",
       "2210789       NaN   SEATTLE  WA  981053999  2.065258e+09     500005   \n",
       "\n",
       "                        hosp_afl_lbn_1 hosp_afl_2 hosp_afl_lbn_2 hosp_afl_3  \\\n",
       "2210785  VIRGINIA MASON MEDICAL CENTER        NaN            NaN        NaN   \n",
       "2210786  VIRGINIA MASON MEDICAL CENTER        NaN            NaN        NaN   \n",
       "2210787  VIRGINIA MASON MEDICAL CENTER        NaN            NaN        NaN   \n",
       "2210788  VIRGINIA MASON MEDICAL CENTER        NaN            NaN        NaN   \n",
       "2210789  VIRGINIA MASON MEDICAL CENTER        NaN            NaN        NaN   \n",
       "\n",
       "        hosp_afl_lbn_3 hosp_afl_4 hosp_afl_lbn_4  hosp_afl_5 hosp_afl_lbn_5  \\\n",
       "2210785            NaN        NaN            NaN         NaN            NaN   \n",
       "2210786            NaN        NaN            NaN         NaN            NaN   \n",
       "2210787            NaN        NaN            NaN         NaN            NaN   \n",
       "2210788            NaN        NaN            NaN         NaN            NaN   \n",
       "2210789            NaN        NaN            NaN         NaN            NaN   \n",
       "\n",
       "        assgn  \n",
       "2210785     Y  \n",
       "2210786     Y  \n",
       "2210787     Y  \n",
       "2210788     Y  \n",
       "2210789     Y  "
      ]
     },
     "execution_count": 4,
     "metadata": {},
     "output_type": "execute_result"
    }
   ],
   "source": [
    "# see the last 5 rows\n",
    "data.tail()"
   ]
  },
  {
   "cell_type": "markdown",
   "metadata": {},
   "source": [
    "# _Diving Back Into The Data!_\n",
    "\n",
    "Yesterday in our `exploration-2.ipynb` we did quite a few things. First, we addressed the multiple name-related columns - `lst_nm`, `frst_nm`, `mid_nm` and `suff` - and combined them into one, `full_nm`. The reason for this was hypothesized to help us better associate the names with the multiple ID columns. When taken separately, there were significantly fewer unique names than IDs but by combining them all together, we were able to bring the number of unique names nearly in line with the number of unique IDs (specifically for `npi` and `ind_pac_id`).\n",
    "\n",
    "More outside research needs to be conducted on the `ind_enrl_id` as there appeared to be evidence that a single physician could have multiple different IDs for this particular column. At this point in time I do not know why this is, hence the need for further investigation. \n",
    "\n",
    "The next thing we looked at was the distribution of where the physicians went to medical school. Using `npi` as our unique identifier, we were able to return the counts for each school. The runaway winner with approximate ~53% of the observations was `Other`. \n",
    "\n",
    "Let's keep exploring along this line and see what we find out about the schooling background of this group of physicians. We can also look into graudation year and credentials earned. "
   ]
  },
  {
   "cell_type": "code",
   "execution_count": 5,
   "metadata": {},
   "outputs": [
    {
     "data": {
      "text/plain": [
       "full_nm\n",
       "A  MIRANDA                 MICHIGAN STATE UNIVERSITY COLLEGE OF HUMAN MED...\n",
       "A  NARASIMHA RAO                                                       OTHER\n",
       "A ALAN SEMINE                            TUFTS UNIVERSITY SCHOOL OF MEDICINE\n",
       "A ANANTH  RAMAN                                                        OTHER\n",
       "A ANDREW RUDMANN                 JOHNS HOPKINS UNIVERSITY SCHOOL OF MEDICINE\n",
       "A B  M MASUDUR  RAHMAN                                                 OTHER\n",
       "A BENEDICT  COSIMI                                                     OTHER\n",
       "A BETHEL  GILBERT                                                      OTHER\n",
       "A BRANT LIPSCOMB JR.                VANDERBILT UNIVERSITY SCHOOL OF MEDICINE\n",
       "A C BADDER                                                             OTHER\n",
       "Name: med_sch, dtype: object"
      ]
     },
     "execution_count": 5,
     "metadata": {},
     "output_type": "execute_result"
    }
   ],
   "source": [
    "# group by name and see distribution of schooling (to see if there are any discrepencies versus using NPI)\n",
    "data.groupby('full_nm')['med_sch'].first()[:10]"
   ]
  },
  {
   "cell_type": "code",
   "execution_count": 6,
   "metadata": {},
   "outputs": [
    {
     "data": {
      "text/html": [
       "<div>\n",
       "<style scoped>\n",
       "    .dataframe tbody tr th:only-of-type {\n",
       "        vertical-align: middle;\n",
       "    }\n",
       "\n",
       "    .dataframe tbody tr th {\n",
       "        vertical-align: top;\n",
       "    }\n",
       "\n",
       "    .dataframe thead th {\n",
       "        text-align: right;\n",
       "    }\n",
       "</style>\n",
       "<table border=\"1\" class=\"dataframe\">\n",
       "  <thead>\n",
       "    <tr style=\"text-align: right;\">\n",
       "      <th></th>\n",
       "      <th>med_sch</th>\n",
       "    </tr>\n",
       "    <tr>\n",
       "      <th>full_nm</th>\n",
       "      <th></th>\n",
       "    </tr>\n",
       "  </thead>\n",
       "  <tbody>\n",
       "    <tr>\n",
       "      <th>A  MIRANDA</th>\n",
       "      <td>MICHIGAN STATE UNIVERSITY COLLEGE OF HUMAN MED...</td>\n",
       "    </tr>\n",
       "    <tr>\n",
       "      <th>A  NARASIMHA RAO</th>\n",
       "      <td>OTHER</td>\n",
       "    </tr>\n",
       "    <tr>\n",
       "      <th>A ALAN SEMINE</th>\n",
       "      <td>TUFTS UNIVERSITY SCHOOL OF MEDICINE</td>\n",
       "    </tr>\n",
       "    <tr>\n",
       "      <th>A ANANTH  RAMAN</th>\n",
       "      <td>OTHER</td>\n",
       "    </tr>\n",
       "    <tr>\n",
       "      <th>A ANDREW RUDMANN</th>\n",
       "      <td>JOHNS HOPKINS UNIVERSITY SCHOOL OF MEDICINE</td>\n",
       "    </tr>\n",
       "  </tbody>\n",
       "</table>\n",
       "</div>"
      ],
      "text/plain": [
       "                                                             med_sch\n",
       "full_nm                                                             \n",
       "A  MIRANDA         MICHIGAN STATE UNIVERSITY COLLEGE OF HUMAN MED...\n",
       "A  NARASIMHA RAO                                               OTHER\n",
       "A ALAN SEMINE                    TUFTS UNIVERSITY SCHOOL OF MEDICINE\n",
       "A ANANTH  RAMAN                                                OTHER\n",
       "A ANDREW RUDMANN         JOHNS HOPKINS UNIVERSITY SCHOOL OF MEDICINE"
      ]
     },
     "execution_count": 6,
     "metadata": {},
     "output_type": "execute_result"
    }
   ],
   "source": [
    "# lets see what it looks like as a pandas DataFrame\n",
    "pd.DataFrame(data.groupby('full_nm')['med_sch'].first()).head()"
   ]
  },
  {
   "cell_type": "code",
   "execution_count": 7,
   "metadata": {},
   "outputs": [
    {
     "data": {
      "text/plain": [
       "(1072060, 1)"
      ]
     },
     "execution_count": 7,
     "metadata": {},
     "output_type": "execute_result"
    }
   ],
   "source": [
    "pd.DataFrame(data.groupby('full_nm')['med_sch'].first()).shape"
   ]
  },
  {
   "cell_type": "code",
   "execution_count": 8,
   "metadata": {},
   "outputs": [
    {
     "name": "stdout",
     "output_type": "stream",
     "text": [
      "The list of words is : ['NORTH CAROLINA']\n"
     ]
    }
   ],
   "source": [
    "# initialize test string\n",
    "unc_string = \"UNIVERSITY OF NORTH CAROLINA\"\n",
    "\n",
    "# import re to better work with strings\n",
    "import re\n",
    "\n",
    "# use findall to extract words from string\n",
    "res = re.findall(r'NORTH CAROLINA', unc_string)\n",
    "\n",
    "# print the result\n",
    "print('The list of words is : {}'.format(str(res)))"
   ]
  },
  {
   "cell_type": "code",
   "execution_count": 22,
   "metadata": {},
   "outputs": [
    {
     "name": "stderr",
     "output_type": "stream",
     "text": [
      "/Users/jai/anaconda3/envs/fastai/lib/python3.7/site-packages/ipykernel_launcher.py:2: UserWarning: This pattern has match groups. To actually get the groups, use str.extract.\n",
      "  \n"
     ]
    },
    {
     "data": {
      "text/plain": [
       "False    2185442\n",
       "True       25341\n",
       "Name: med_sch, dtype: int64"
      ]
     },
     "execution_count": 22,
     "metadata": {},
     "output_type": "execute_result"
    }
   ],
   "source": [
    "# test on data set\n",
    "data['med_sch'].str.contains(r'(Carolina)', flags=re.IGNORECASE).value_counts()"
   ]
  },
  {
   "cell_type": "code",
   "execution_count": 35,
   "metadata": {},
   "outputs": [
    {
     "name": "stderr",
     "output_type": "stream",
     "text": [
      "/Users/jai/anaconda3/envs/fastai/lib/python3.7/site-packages/ipykernel_launcher.py:1: UserWarning: This pattern has match groups. To actually get the groups, use str.extract.\n",
      "  \"\"\"Entry point for launching an IPython kernel.\n"
     ]
    },
    {
     "data": {
      "text/plain": [
       "False    2185442\n",
       "True       25341\n",
       "NaN            7\n",
       "Name: med_sch, dtype: int64"
      ]
     },
     "execution_count": 35,
     "metadata": {},
     "output_type": "execute_result"
    }
   ],
   "source": [
    "carolina_boolean = data['med_sch'].str.contains(r'(Carolina)', flags=re.IGNORECASE); carolina_boolean.value_counts(dropna=False)"
   ]
  },
  {
   "cell_type": "code",
   "execution_count": 39,
   "metadata": {},
   "outputs": [
    {
     "data": {
      "text/html": [
       "<div>\n",
       "<style scoped>\n",
       "    .dataframe tbody tr th:only-of-type {\n",
       "        vertical-align: middle;\n",
       "    }\n",
       "\n",
       "    .dataframe tbody tr th {\n",
       "        vertical-align: top;\n",
       "    }\n",
       "\n",
       "    .dataframe thead th {\n",
       "        text-align: right;\n",
       "    }\n",
       "</style>\n",
       "<table border=\"1\" class=\"dataframe\">\n",
       "  <thead>\n",
       "    <tr style=\"text-align: right;\">\n",
       "      <th></th>\n",
       "      <th>med_sch</th>\n",
       "    </tr>\n",
       "  </thead>\n",
       "  <tbody>\n",
       "    <tr>\n",
       "      <th>0</th>\n",
       "      <td>False</td>\n",
       "    </tr>\n",
       "    <tr>\n",
       "      <th>1</th>\n",
       "      <td>False</td>\n",
       "    </tr>\n",
       "    <tr>\n",
       "      <th>2</th>\n",
       "      <td>False</td>\n",
       "    </tr>\n",
       "    <tr>\n",
       "      <th>3</th>\n",
       "      <td>False</td>\n",
       "    </tr>\n",
       "    <tr>\n",
       "      <th>4</th>\n",
       "      <td>False</td>\n",
       "    </tr>\n",
       "  </tbody>\n",
       "</table>\n",
       "</div>"
      ],
      "text/plain": [
       "  med_sch\n",
       "0   False\n",
       "1   False\n",
       "2   False\n",
       "3   False\n",
       "4   False"
      ]
     },
     "execution_count": 39,
     "metadata": {},
     "output_type": "execute_result"
    }
   ],
   "source": [
    "carolina_boolean = pd.DataFrame(carolina_boolean); carolina_boolean.head()"
   ]
  },
  {
   "cell_type": "code",
   "execution_count": 43,
   "metadata": {},
   "outputs": [
    {
     "data": {
      "text/html": [
       "<div>\n",
       "<style scoped>\n",
       "    .dataframe tbody tr th:only-of-type {\n",
       "        vertical-align: middle;\n",
       "    }\n",
       "\n",
       "    .dataframe tbody tr th {\n",
       "        vertical-align: top;\n",
       "    }\n",
       "\n",
       "    .dataframe thead th {\n",
       "        text-align: right;\n",
       "    }\n",
       "</style>\n",
       "<table border=\"1\" class=\"dataframe\">\n",
       "  <thead>\n",
       "    <tr style=\"text-align: right;\">\n",
       "      <th></th>\n",
       "      <th>med_sch</th>\n",
       "    </tr>\n",
       "  </thead>\n",
       "  <tbody>\n",
       "    <tr>\n",
       "      <th>725995</th>\n",
       "      <td>NaN</td>\n",
       "    </tr>\n",
       "    <tr>\n",
       "      <th>725996</th>\n",
       "      <td>NaN</td>\n",
       "    </tr>\n",
       "    <tr>\n",
       "      <th>777334</th>\n",
       "      <td>NaN</td>\n",
       "    </tr>\n",
       "    <tr>\n",
       "      <th>1049892</th>\n",
       "      <td>NaN</td>\n",
       "    </tr>\n",
       "    <tr>\n",
       "      <th>1049893</th>\n",
       "      <td>NaN</td>\n",
       "    </tr>\n",
       "    <tr>\n",
       "      <th>1074739</th>\n",
       "      <td>NaN</td>\n",
       "    </tr>\n",
       "    <tr>\n",
       "      <th>2157019</th>\n",
       "      <td>NaN</td>\n",
       "    </tr>\n",
       "  </tbody>\n",
       "</table>\n",
       "</div>"
      ],
      "text/plain": [
       "        med_sch\n",
       "725995      NaN\n",
       "725996      NaN\n",
       "777334      NaN\n",
       "1049892     NaN\n",
       "1049893     NaN\n",
       "1074739     NaN\n",
       "2157019     NaN"
      ]
     },
     "execution_count": 43,
     "metadata": {},
     "output_type": "execute_result"
    }
   ],
   "source": [
    "# see which values were returned NaN from our Carolina Med school search\n",
    "carolina_boolean[carolina_boolean['med_sch'].isna()]"
   ]
  },
  {
   "cell_type": "code",
   "execution_count": 46,
   "metadata": {},
   "outputs": [
    {
     "data": {
      "text/html": [
       "<div>\n",
       "<style scoped>\n",
       "    .dataframe tbody tr th:only-of-type {\n",
       "        vertical-align: middle;\n",
       "    }\n",
       "\n",
       "    .dataframe tbody tr th {\n",
       "        vertical-align: top;\n",
       "    }\n",
       "\n",
       "    .dataframe thead th {\n",
       "        text-align: right;\n",
       "    }\n",
       "</style>\n",
       "<table border=\"1\" class=\"dataframe\">\n",
       "  <thead>\n",
       "    <tr style=\"text-align: right;\">\n",
       "      <th></th>\n",
       "      <th>npi</th>\n",
       "      <th>ind_pac_id</th>\n",
       "      <th>ind_enrl_id</th>\n",
       "      <th>lst_nm</th>\n",
       "      <th>frst_nm</th>\n",
       "      <th>mid_nm</th>\n",
       "      <th>suff</th>\n",
       "      <th>full_nm</th>\n",
       "      <th>gndr</th>\n",
       "      <th>cred</th>\n",
       "      <th>med_sch</th>\n",
       "      <th>grd_yr</th>\n",
       "      <th>pri_spec</th>\n",
       "      <th>sec_spec_1</th>\n",
       "      <th>sec_spec_2</th>\n",
       "      <th>sec_spec_3</th>\n",
       "      <th>sec_spec_4</th>\n",
       "      <th>sec_spec_all</th>\n",
       "      <th>org_lgl_nm</th>\n",
       "      <th>org_pac_id</th>\n",
       "      <th>num_org_mem</th>\n",
       "      <th>adr_ln_1</th>\n",
       "      <th>adr_ln_2</th>\n",
       "      <th>ln_2_sprs</th>\n",
       "      <th>cty</th>\n",
       "      <th>st</th>\n",
       "      <th>zip</th>\n",
       "      <th>phn_numbr</th>\n",
       "      <th>hosp_afl_1</th>\n",
       "      <th>hosp_afl_lbn_1</th>\n",
       "      <th>hosp_afl_2</th>\n",
       "      <th>hosp_afl_lbn_2</th>\n",
       "      <th>hosp_afl_3</th>\n",
       "      <th>hosp_afl_lbn_3</th>\n",
       "      <th>hosp_afl_4</th>\n",
       "      <th>hosp_afl_lbn_4</th>\n",
       "      <th>hosp_afl_5</th>\n",
       "      <th>hosp_afl_lbn_5</th>\n",
       "      <th>assgn</th>\n",
       "    </tr>\n",
       "  </thead>\n",
       "  <tbody>\n",
       "    <tr>\n",
       "      <th>725995</th>\n",
       "      <td>1326378779</td>\n",
       "      <td>8628201779</td>\n",
       "      <td>I20141218000015</td>\n",
       "      <td>KUO</td>\n",
       "      <td>CALVIN</td>\n",
       "      <td>C</td>\n",
       "      <td>NaN</td>\n",
       "      <td>CALVIN C KUO</td>\n",
       "      <td>M</td>\n",
       "      <td>NaN</td>\n",
       "      <td>NaN</td>\n",
       "      <td>NaN</td>\n",
       "      <td>ORTHOPEDIC SURGERY</td>\n",
       "      <td>NaN</td>\n",
       "      <td>NaN</td>\n",
       "      <td>NaN</td>\n",
       "      <td>NaN</td>\n",
       "      <td>NaN</td>\n",
       "      <td>PERMANENTE MEDICAL GROUP INC</td>\n",
       "      <td>8.921910e+09</td>\n",
       "      <td>7392.0</td>\n",
       "      <td>275 W MACARTHUR BLVD</td>\n",
       "      <td>NaN</td>\n",
       "      <td>NaN</td>\n",
       "      <td>OAKLAND</td>\n",
       "      <td>CA</td>\n",
       "      <td>946115641</td>\n",
       "      <td>5.107521e+09</td>\n",
       "      <td>50075</td>\n",
       "      <td>KAISER FOUNDATION HOSPITAL - OAKLAND/RICHMOND</td>\n",
       "      <td>NaN</td>\n",
       "      <td>NaN</td>\n",
       "      <td>NaN</td>\n",
       "      <td>NaN</td>\n",
       "      <td>NaN</td>\n",
       "      <td>NaN</td>\n",
       "      <td>NaN</td>\n",
       "      <td>NaN</td>\n",
       "      <td>Y</td>\n",
       "    </tr>\n",
       "    <tr>\n",
       "      <th>725996</th>\n",
       "      <td>1326378779</td>\n",
       "      <td>8628201779</td>\n",
       "      <td>I20141218000015</td>\n",
       "      <td>KUO</td>\n",
       "      <td>CALVIN</td>\n",
       "      <td>C</td>\n",
       "      <td>NaN</td>\n",
       "      <td>CALVIN C KUO</td>\n",
       "      <td>M</td>\n",
       "      <td>NaN</td>\n",
       "      <td>NaN</td>\n",
       "      <td>NaN</td>\n",
       "      <td>ORTHOPEDIC SURGERY</td>\n",
       "      <td>NaN</td>\n",
       "      <td>NaN</td>\n",
       "      <td>NaN</td>\n",
       "      <td>NaN</td>\n",
       "      <td>NaN</td>\n",
       "      <td>PERMANENTE MEDICAL GROUP INC</td>\n",
       "      <td>8.921910e+09</td>\n",
       "      <td>7392.0</td>\n",
       "      <td>901 NEVIN AVE</td>\n",
       "      <td>NaN</td>\n",
       "      <td>NaN</td>\n",
       "      <td>RICHMOND</td>\n",
       "      <td>CA</td>\n",
       "      <td>948013143</td>\n",
       "      <td>5.103072e+09</td>\n",
       "      <td>50075</td>\n",
       "      <td>KAISER FOUNDATION HOSPITAL - OAKLAND/RICHMOND</td>\n",
       "      <td>NaN</td>\n",
       "      <td>NaN</td>\n",
       "      <td>NaN</td>\n",
       "      <td>NaN</td>\n",
       "      <td>NaN</td>\n",
       "      <td>NaN</td>\n",
       "      <td>NaN</td>\n",
       "      <td>NaN</td>\n",
       "      <td>Y</td>\n",
       "    </tr>\n",
       "    <tr>\n",
       "      <th>777334</th>\n",
       "      <td>1356330286</td>\n",
       "      <td>8224027222</td>\n",
       "      <td>I20100605000212</td>\n",
       "      <td>DOLITSKY</td>\n",
       "      <td>BRUCE</td>\n",
       "      <td>R</td>\n",
       "      <td>NaN</td>\n",
       "      <td>BRUCE R DOLITSKY</td>\n",
       "      <td>M</td>\n",
       "      <td>NaN</td>\n",
       "      <td>NaN</td>\n",
       "      <td>NaN</td>\n",
       "      <td>ORTHOPEDIC SURGERY</td>\n",
       "      <td>NaN</td>\n",
       "      <td>NaN</td>\n",
       "      <td>NaN</td>\n",
       "      <td>NaN</td>\n",
       "      <td>NaN</td>\n",
       "      <td>DU PAGE MEDICAL GROUP LTD</td>\n",
       "      <td>5.496668e+09</td>\n",
       "      <td>1138.0</td>\n",
       "      <td>2320 HIGH ST</td>\n",
       "      <td>NaN</td>\n",
       "      <td>NaN</td>\n",
       "      <td>BLUE ISLAND</td>\n",
       "      <td>IL</td>\n",
       "      <td>604062426</td>\n",
       "      <td>7.083886e+09</td>\n",
       "      <td>140118</td>\n",
       "      <td>METROSOUTH MEDICAL CENTER</td>\n",
       "      <td>140231</td>\n",
       "      <td>EDWARD HOSPITAL</td>\n",
       "      <td>NaN</td>\n",
       "      <td>NaN</td>\n",
       "      <td>NaN</td>\n",
       "      <td>NaN</td>\n",
       "      <td>NaN</td>\n",
       "      <td>NaN</td>\n",
       "      <td>Y</td>\n",
       "    </tr>\n",
       "    <tr>\n",
       "      <th>1049892</th>\n",
       "      <td>1477605418</td>\n",
       "      <td>8426172891</td>\n",
       "      <td>I20121024000533</td>\n",
       "      <td>QUINN</td>\n",
       "      <td>LORE</td>\n",
       "      <td>A</td>\n",
       "      <td>NaN</td>\n",
       "      <td>LORE A QUINN</td>\n",
       "      <td>F</td>\n",
       "      <td>NaN</td>\n",
       "      <td>NaN</td>\n",
       "      <td>NaN</td>\n",
       "      <td>NURSE PRACTITIONER</td>\n",
       "      <td>NaN</td>\n",
       "      <td>NaN</td>\n",
       "      <td>NaN</td>\n",
       "      <td>NaN</td>\n",
       "      <td>NaN</td>\n",
       "      <td>PLANNED PARENTHOOD MINNESOTA, NORTH DAKOTA, SO...</td>\n",
       "      <td>6.002710e+09</td>\n",
       "      <td>35.0</td>\n",
       "      <td>671 VANDALIA ST</td>\n",
       "      <td>NaN</td>\n",
       "      <td>NaN</td>\n",
       "      <td>SAINT PAUL</td>\n",
       "      <td>MN</td>\n",
       "      <td>551141312</td>\n",
       "      <td>6.516982e+09</td>\n",
       "      <td>NaN</td>\n",
       "      <td>NaN</td>\n",
       "      <td>NaN</td>\n",
       "      <td>NaN</td>\n",
       "      <td>NaN</td>\n",
       "      <td>NaN</td>\n",
       "      <td>NaN</td>\n",
       "      <td>NaN</td>\n",
       "      <td>NaN</td>\n",
       "      <td>NaN</td>\n",
       "      <td>Y</td>\n",
       "    </tr>\n",
       "    <tr>\n",
       "      <th>1049893</th>\n",
       "      <td>1477605418</td>\n",
       "      <td>8426172891</td>\n",
       "      <td>I20121024000533</td>\n",
       "      <td>QUINN</td>\n",
       "      <td>LORE</td>\n",
       "      <td>A</td>\n",
       "      <td>NaN</td>\n",
       "      <td>LORE A QUINN</td>\n",
       "      <td>F</td>\n",
       "      <td>NaN</td>\n",
       "      <td>NaN</td>\n",
       "      <td>NaN</td>\n",
       "      <td>NURSE PRACTITIONER</td>\n",
       "      <td>NaN</td>\n",
       "      <td>NaN</td>\n",
       "      <td>NaN</td>\n",
       "      <td>NaN</td>\n",
       "      <td>NaN</td>\n",
       "      <td>PLANNED PARENTHOOD MINNESOTA, NORTH DAKOTA, SO...</td>\n",
       "      <td>6.002710e+09</td>\n",
       "      <td>35.0</td>\n",
       "      <td>1001 E CENTRAL ENTRANCE</td>\n",
       "      <td>SUITE 200</td>\n",
       "      <td>NaN</td>\n",
       "      <td>DULUTH</td>\n",
       "      <td>MN</td>\n",
       "      <td>558115525</td>\n",
       "      <td>2.187221e+09</td>\n",
       "      <td>NaN</td>\n",
       "      <td>NaN</td>\n",
       "      <td>NaN</td>\n",
       "      <td>NaN</td>\n",
       "      <td>NaN</td>\n",
       "      <td>NaN</td>\n",
       "      <td>NaN</td>\n",
       "      <td>NaN</td>\n",
       "      <td>NaN</td>\n",
       "      <td>NaN</td>\n",
       "      <td>Y</td>\n",
       "    </tr>\n",
       "    <tr>\n",
       "      <th>1074739</th>\n",
       "      <td>1487720652</td>\n",
       "      <td>7416900238</td>\n",
       "      <td>I20050222000134</td>\n",
       "      <td>LYONS</td>\n",
       "      <td>STEPHANIE</td>\n",
       "      <td>L</td>\n",
       "      <td>NaN</td>\n",
       "      <td>STEPHANIE L LYONS</td>\n",
       "      <td>M</td>\n",
       "      <td>CSW</td>\n",
       "      <td>NaN</td>\n",
       "      <td>NaN</td>\n",
       "      <td>CLINICAL SOCIAL WORKER</td>\n",
       "      <td>NaN</td>\n",
       "      <td>NaN</td>\n",
       "      <td>NaN</td>\n",
       "      <td>NaN</td>\n",
       "      <td>NaN</td>\n",
       "      <td>NORTHSHORE UNIVERSITY HEALTHSYSTEM FACULTY PRA...</td>\n",
       "      <td>2.163335e+09</td>\n",
       "      <td>1286.0</td>\n",
       "      <td>2650 RIDGE AVE</td>\n",
       "      <td>NaN</td>\n",
       "      <td>Y</td>\n",
       "      <td>EVANSTON</td>\n",
       "      <td>IL</td>\n",
       "      <td>602011718</td>\n",
       "      <td>NaN</td>\n",
       "      <td>140010</td>\n",
       "      <td>NORTHSHORE UNIVERSITY HEALTHSYSTEM - EVANSTON ...</td>\n",
       "      <td>NaN</td>\n",
       "      <td>NaN</td>\n",
       "      <td>NaN</td>\n",
       "      <td>NaN</td>\n",
       "      <td>NaN</td>\n",
       "      <td>NaN</td>\n",
       "      <td>NaN</td>\n",
       "      <td>NaN</td>\n",
       "      <td>Y</td>\n",
       "    </tr>\n",
       "    <tr>\n",
       "      <th>2157019</th>\n",
       "      <td>1972693679</td>\n",
       "      <td>6507966009</td>\n",
       "      <td>I20150624001044</td>\n",
       "      <td>TOEVS</td>\n",
       "      <td>CHRISTINE</td>\n",
       "      <td>C</td>\n",
       "      <td>NaN</td>\n",
       "      <td>CHRISTINE C TOEVS</td>\n",
       "      <td>F</td>\n",
       "      <td>NaN</td>\n",
       "      <td>NaN</td>\n",
       "      <td>NaN</td>\n",
       "      <td>GENERAL SURGERY</td>\n",
       "      <td>NaN</td>\n",
       "      <td>NaN</td>\n",
       "      <td>NaN</td>\n",
       "      <td>NaN</td>\n",
       "      <td>NaN</td>\n",
       "      <td>BAIKAL SURGICAL SPECIALISTS LLC</td>\n",
       "      <td>5.496073e+09</td>\n",
       "      <td>9.0</td>\n",
       "      <td>3901 7TH S ST</td>\n",
       "      <td>NaN</td>\n",
       "      <td>NaN</td>\n",
       "      <td>TERRE HAUTE</td>\n",
       "      <td>IN</td>\n",
       "      <td>478025709</td>\n",
       "      <td>8.122320e+09</td>\n",
       "      <td>150046</td>\n",
       "      <td>TERRE HAUTE REGIONAL HOSPITAL</td>\n",
       "      <td>150084</td>\n",
       "      <td>ST. VINCENT HOSPITALS AND HEALTH SERVICES</td>\n",
       "      <td>151309</td>\n",
       "      <td>ST. VINCENT CLAY HOSPITAL INC</td>\n",
       "      <td>151327</td>\n",
       "      <td>SULLIVAN COUNTY COMMUNITY HOSPITAL</td>\n",
       "      <td>NaN</td>\n",
       "      <td>NaN</td>\n",
       "      <td>Y</td>\n",
       "    </tr>\n",
       "  </tbody>\n",
       "</table>\n",
       "</div>"
      ],
      "text/plain": [
       "                npi  ind_pac_id      ind_enrl_id    lst_nm    frst_nm mid_nm  \\\n",
       "725995   1326378779  8628201779  I20141218000015       KUO     CALVIN      C   \n",
       "725996   1326378779  8628201779  I20141218000015       KUO     CALVIN      C   \n",
       "777334   1356330286  8224027222  I20100605000212  DOLITSKY      BRUCE      R   \n",
       "1049892  1477605418  8426172891  I20121024000533     QUINN       LORE      A   \n",
       "1049893  1477605418  8426172891  I20121024000533     QUINN       LORE      A   \n",
       "1074739  1487720652  7416900238  I20050222000134     LYONS  STEPHANIE      L   \n",
       "2157019  1972693679  6507966009  I20150624001044     TOEVS  CHRISTINE      C   \n",
       "\n",
       "        suff             full_nm gndr cred med_sch  grd_yr  \\\n",
       "725995   NaN       CALVIN C KUO     M  NaN     NaN     NaN   \n",
       "725996   NaN       CALVIN C KUO     M  NaN     NaN     NaN   \n",
       "777334   NaN   BRUCE R DOLITSKY     M  NaN     NaN     NaN   \n",
       "1049892  NaN       LORE A QUINN     F  NaN     NaN     NaN   \n",
       "1049893  NaN       LORE A QUINN     F  NaN     NaN     NaN   \n",
       "1074739  NaN  STEPHANIE L LYONS     M  CSW     NaN     NaN   \n",
       "2157019  NaN  CHRISTINE C TOEVS     F  NaN     NaN     NaN   \n",
       "\n",
       "                       pri_spec sec_spec_1 sec_spec_2 sec_spec_3 sec_spec_4  \\\n",
       "725995       ORTHOPEDIC SURGERY        NaN        NaN        NaN        NaN   \n",
       "725996       ORTHOPEDIC SURGERY        NaN        NaN        NaN        NaN   \n",
       "777334       ORTHOPEDIC SURGERY        NaN        NaN        NaN        NaN   \n",
       "1049892      NURSE PRACTITIONER        NaN        NaN        NaN        NaN   \n",
       "1049893      NURSE PRACTITIONER        NaN        NaN        NaN        NaN   \n",
       "1074739  CLINICAL SOCIAL WORKER        NaN        NaN        NaN        NaN   \n",
       "2157019         GENERAL SURGERY        NaN        NaN        NaN        NaN   \n",
       "\n",
       "        sec_spec_all                                         org_lgl_nm  \\\n",
       "725995           NaN                       PERMANENTE MEDICAL GROUP INC   \n",
       "725996           NaN                       PERMANENTE MEDICAL GROUP INC   \n",
       "777334           NaN                          DU PAGE MEDICAL GROUP LTD   \n",
       "1049892          NaN  PLANNED PARENTHOOD MINNESOTA, NORTH DAKOTA, SO...   \n",
       "1049893          NaN  PLANNED PARENTHOOD MINNESOTA, NORTH DAKOTA, SO...   \n",
       "1074739          NaN  NORTHSHORE UNIVERSITY HEALTHSYSTEM FACULTY PRA...   \n",
       "2157019          NaN                    BAIKAL SURGICAL SPECIALISTS LLC   \n",
       "\n",
       "           org_pac_id  num_org_mem                 adr_ln_1   adr_ln_2  \\\n",
       "725995   8.921910e+09       7392.0     275 W MACARTHUR BLVD        NaN   \n",
       "725996   8.921910e+09       7392.0            901 NEVIN AVE        NaN   \n",
       "777334   5.496668e+09       1138.0             2320 HIGH ST        NaN   \n",
       "1049892  6.002710e+09         35.0          671 VANDALIA ST        NaN   \n",
       "1049893  6.002710e+09         35.0  1001 E CENTRAL ENTRANCE  SUITE 200   \n",
       "1074739  2.163335e+09       1286.0           2650 RIDGE AVE        NaN   \n",
       "2157019  5.496073e+09          9.0            3901 7TH S ST        NaN   \n",
       "\n",
       "        ln_2_sprs          cty  st        zip     phn_numbr hosp_afl_1  \\\n",
       "725995        NaN      OAKLAND  CA  946115641  5.107521e+09      50075   \n",
       "725996        NaN     RICHMOND  CA  948013143  5.103072e+09      50075   \n",
       "777334        NaN  BLUE ISLAND  IL  604062426  7.083886e+09     140118   \n",
       "1049892       NaN   SAINT PAUL  MN  551141312  6.516982e+09        NaN   \n",
       "1049893       NaN       DULUTH  MN  558115525  2.187221e+09        NaN   \n",
       "1074739         Y     EVANSTON  IL  602011718           NaN     140010   \n",
       "2157019       NaN  TERRE HAUTE  IN  478025709  8.122320e+09     150046   \n",
       "\n",
       "                                            hosp_afl_lbn_1 hosp_afl_2  \\\n",
       "725995       KAISER FOUNDATION HOSPITAL - OAKLAND/RICHMOND        NaN   \n",
       "725996       KAISER FOUNDATION HOSPITAL - OAKLAND/RICHMOND        NaN   \n",
       "777334                           METROSOUTH MEDICAL CENTER     140231   \n",
       "1049892                                                NaN        NaN   \n",
       "1049893                                                NaN        NaN   \n",
       "1074739  NORTHSHORE UNIVERSITY HEALTHSYSTEM - EVANSTON ...        NaN   \n",
       "2157019                      TERRE HAUTE REGIONAL HOSPITAL     150084   \n",
       "\n",
       "                                    hosp_afl_lbn_2 hosp_afl_3  \\\n",
       "725995                                         NaN        NaN   \n",
       "725996                                         NaN        NaN   \n",
       "777334                             EDWARD HOSPITAL        NaN   \n",
       "1049892                                        NaN        NaN   \n",
       "1049893                                        NaN        NaN   \n",
       "1074739                                        NaN        NaN   \n",
       "2157019  ST. VINCENT HOSPITALS AND HEALTH SERVICES     151309   \n",
       "\n",
       "                        hosp_afl_lbn_3 hosp_afl_4  \\\n",
       "725995                             NaN        NaN   \n",
       "725996                             NaN        NaN   \n",
       "777334                             NaN        NaN   \n",
       "1049892                            NaN        NaN   \n",
       "1049893                            NaN        NaN   \n",
       "1074739                            NaN        NaN   \n",
       "2157019  ST. VINCENT CLAY HOSPITAL INC     151327   \n",
       "\n",
       "                             hosp_afl_lbn_4  hosp_afl_5 hosp_afl_lbn_5 assgn  \n",
       "725995                                  NaN         NaN            NaN     Y  \n",
       "725996                                  NaN         NaN            NaN     Y  \n",
       "777334                                  NaN         NaN            NaN     Y  \n",
       "1049892                                 NaN         NaN            NaN     Y  \n",
       "1049893                                 NaN         NaN            NaN     Y  \n",
       "1074739                                 NaN         NaN            NaN     Y  \n",
       "2157019  SULLIVAN COUNTY COMMUNITY HOSPITAL         NaN            NaN     Y  "
      ]
     },
     "execution_count": 46,
     "metadata": {},
     "output_type": "execute_result"
    }
   ],
   "source": [
    "# store the index from these observations to extract them from original data set\n",
    "nan_school = list(carolina_boolean[carolina_boolean['med_sch'].isna()].index)\n",
    "\n",
    "# extract from data for further investigation\n",
    "data.iloc[nan_school, :]"
   ]
  },
  {
   "cell_type": "markdown",
   "metadata": {},
   "source": [
    "Ok so now I'm doubting my original analysis about the school counts because I forget to set `dropna` to `False`. By doing this we'll get a better sense for how much missing data there is in the `med_sch` column."
   ]
  },
  {
   "cell_type": "code",
   "execution_count": 52,
   "metadata": {},
   "outputs": [
    {
     "data": {
      "text/plain": [
       "7"
      ]
     },
     "execution_count": 52,
     "metadata": {},
     "output_type": "execute_result"
    }
   ],
   "source": [
    "# return the sum of NaN observations from med school column\n",
    "data['med_sch'].isna().sum()"
   ]
  },
  {
   "cell_type": "markdown",
   "metadata": {},
   "source": [
    "Ok so it looks like we're in the clear. But again we're running into the situation where there is still valuable information we can gather from these particular observations, like the physicians primary specialty, location and hospital affilation. So...what do we do?\n",
    "\n",
    "I'm going to replace the `NaN` values with `Missing`, which is similar to what I did with the name columns. Additionally, to not be redundant, let's drop all the other name columns because we have all the information compounded into the `full_nm` column"
   ]
  },
  {
   "cell_type": "code",
   "execution_count": 54,
   "metadata": {},
   "outputs": [
    {
     "data": {
      "text/plain": [
       "0"
      ]
     },
     "execution_count": 54,
     "metadata": {},
     "output_type": "execute_result"
    }
   ],
   "source": [
    "# replace NaN observations in med school column with 'Missing'\n",
    "data['med_sch'].fillna('Missing').isna().sum()"
   ]
  },
  {
   "cell_type": "code",
   "execution_count": 55,
   "metadata": {},
   "outputs": [],
   "source": [
    "# replace NaN observations in med school column with 'Missing'\n",
    "data['med_sch'] = data['med_sch'].fillna('Missing')"
   ]
  },
  {
   "cell_type": "markdown",
   "metadata": {},
   "source": [
    "Ok, so now that there are no more `NaN` in the medical school column lets revisit the `carolina_boolean` which was an attempt to locate physicians who went to a school with `Carolina` in the name. But first, lets drop the name columns: `lst_nm`, `frst_nm`, `mid_nm`, and `suff`."
   ]
  },
  {
   "cell_type": "code",
   "execution_count": 57,
   "metadata": {},
   "outputs": [
    {
     "data": {
      "text/html": [
       "<div>\n",
       "<style scoped>\n",
       "    .dataframe tbody tr th:only-of-type {\n",
       "        vertical-align: middle;\n",
       "    }\n",
       "\n",
       "    .dataframe tbody tr th {\n",
       "        vertical-align: top;\n",
       "    }\n",
       "\n",
       "    .dataframe thead th {\n",
       "        text-align: right;\n",
       "    }\n",
       "</style>\n",
       "<table border=\"1\" class=\"dataframe\">\n",
       "  <thead>\n",
       "    <tr style=\"text-align: right;\">\n",
       "      <th></th>\n",
       "      <th>npi</th>\n",
       "      <th>ind_pac_id</th>\n",
       "      <th>ind_enrl_id</th>\n",
       "      <th>full_nm</th>\n",
       "      <th>gndr</th>\n",
       "      <th>cred</th>\n",
       "      <th>med_sch</th>\n",
       "      <th>grd_yr</th>\n",
       "      <th>pri_spec</th>\n",
       "      <th>sec_spec_1</th>\n",
       "      <th>sec_spec_2</th>\n",
       "      <th>sec_spec_3</th>\n",
       "      <th>sec_spec_4</th>\n",
       "      <th>sec_spec_all</th>\n",
       "      <th>org_lgl_nm</th>\n",
       "      <th>org_pac_id</th>\n",
       "      <th>num_org_mem</th>\n",
       "      <th>adr_ln_1</th>\n",
       "      <th>adr_ln_2</th>\n",
       "      <th>ln_2_sprs</th>\n",
       "      <th>cty</th>\n",
       "      <th>st</th>\n",
       "      <th>zip</th>\n",
       "      <th>phn_numbr</th>\n",
       "      <th>hosp_afl_1</th>\n",
       "      <th>hosp_afl_lbn_1</th>\n",
       "      <th>hosp_afl_2</th>\n",
       "      <th>hosp_afl_lbn_2</th>\n",
       "      <th>hosp_afl_3</th>\n",
       "      <th>hosp_afl_lbn_3</th>\n",
       "      <th>hosp_afl_4</th>\n",
       "      <th>hosp_afl_lbn_4</th>\n",
       "      <th>hosp_afl_5</th>\n",
       "      <th>hosp_afl_lbn_5</th>\n",
       "      <th>assgn</th>\n",
       "    </tr>\n",
       "  </thead>\n",
       "  <tbody>\n",
       "    <tr>\n",
       "      <th>0</th>\n",
       "      <td>1003000126</td>\n",
       "      <td>7517003643</td>\n",
       "      <td>I20130530000085</td>\n",
       "      <td>ARDALAN  ENKESHAFI</td>\n",
       "      <td>M</td>\n",
       "      <td>NaN</td>\n",
       "      <td>OTHER</td>\n",
       "      <td>1994.0</td>\n",
       "      <td>INTERNAL MEDICINE</td>\n",
       "      <td>NaN</td>\n",
       "      <td>NaN</td>\n",
       "      <td>NaN</td>\n",
       "      <td>NaN</td>\n",
       "      <td>NaN</td>\n",
       "      <td>EMERGENCY MEDICINE ASSOCIATES PA PC</td>\n",
       "      <td>8.022915e+09</td>\n",
       "      <td>182.0</td>\n",
       "      <td>1850 TOWN CTR PKWY</td>\n",
       "      <td>NaN</td>\n",
       "      <td>NaN</td>\n",
       "      <td>RESTON</td>\n",
       "      <td>VA</td>\n",
       "      <td>201903219</td>\n",
       "      <td>7.036899e+09</td>\n",
       "      <td>490112</td>\n",
       "      <td>CJW MEDICAL CENTER</td>\n",
       "      <td>210028</td>\n",
       "      <td>MEDSTAR SAINT MARY'S HOSPITAL</td>\n",
       "      <td>NaN</td>\n",
       "      <td>NaN</td>\n",
       "      <td>NaN</td>\n",
       "      <td>NaN</td>\n",
       "      <td>NaN</td>\n",
       "      <td>NaN</td>\n",
       "      <td>Y</td>\n",
       "    </tr>\n",
       "    <tr>\n",
       "      <th>1</th>\n",
       "      <td>1003000126</td>\n",
       "      <td>7517003643</td>\n",
       "      <td>I20130530000085</td>\n",
       "      <td>ARDALAN  ENKESHAFI</td>\n",
       "      <td>M</td>\n",
       "      <td>NaN</td>\n",
       "      <td>OTHER</td>\n",
       "      <td>1994.0</td>\n",
       "      <td>INTERNAL MEDICINE</td>\n",
       "      <td>NaN</td>\n",
       "      <td>NaN</td>\n",
       "      <td>NaN</td>\n",
       "      <td>NaN</td>\n",
       "      <td>NaN</td>\n",
       "      <td>EMERGENCY MEDICINE ASSOCIATES PA PC</td>\n",
       "      <td>8.022915e+09</td>\n",
       "      <td>182.0</td>\n",
       "      <td>1701 N GEORGE MASON DR</td>\n",
       "      <td>NaN</td>\n",
       "      <td>NaN</td>\n",
       "      <td>ARLINGTON</td>\n",
       "      <td>VA</td>\n",
       "      <td>222053610</td>\n",
       "      <td>7.035586e+09</td>\n",
       "      <td>490112</td>\n",
       "      <td>CJW MEDICAL CENTER</td>\n",
       "      <td>210028</td>\n",
       "      <td>MEDSTAR SAINT MARY'S HOSPITAL</td>\n",
       "      <td>NaN</td>\n",
       "      <td>NaN</td>\n",
       "      <td>NaN</td>\n",
       "      <td>NaN</td>\n",
       "      <td>NaN</td>\n",
       "      <td>NaN</td>\n",
       "      <td>Y</td>\n",
       "    </tr>\n",
       "    <tr>\n",
       "      <th>2</th>\n",
       "      <td>1003000126</td>\n",
       "      <td>7517003643</td>\n",
       "      <td>I20150824000105</td>\n",
       "      <td>ARDALAN  ENKESHAFI</td>\n",
       "      <td>M</td>\n",
       "      <td>NaN</td>\n",
       "      <td>OTHER</td>\n",
       "      <td>1994.0</td>\n",
       "      <td>INTERNAL MEDICINE</td>\n",
       "      <td>NaN</td>\n",
       "      <td>NaN</td>\n",
       "      <td>NaN</td>\n",
       "      <td>NaN</td>\n",
       "      <td>NaN</td>\n",
       "      <td>EMERGENCY MEDICINE ASSOCIATES PA PC</td>\n",
       "      <td>8.022915e+09</td>\n",
       "      <td>182.0</td>\n",
       "      <td>24440 STONE SPRINGS BLVD</td>\n",
       "      <td>NaN</td>\n",
       "      <td>NaN</td>\n",
       "      <td>DULLES</td>\n",
       "      <td>VA</td>\n",
       "      <td>201662247</td>\n",
       "      <td>5.713674e+09</td>\n",
       "      <td>490112</td>\n",
       "      <td>CJW MEDICAL CENTER</td>\n",
       "      <td>210028</td>\n",
       "      <td>MEDSTAR SAINT MARY'S HOSPITAL</td>\n",
       "      <td>NaN</td>\n",
       "      <td>NaN</td>\n",
       "      <td>NaN</td>\n",
       "      <td>NaN</td>\n",
       "      <td>NaN</td>\n",
       "      <td>NaN</td>\n",
       "      <td>Y</td>\n",
       "    </tr>\n",
       "    <tr>\n",
       "      <th>3</th>\n",
       "      <td>1003000126</td>\n",
       "      <td>7517003643</td>\n",
       "      <td>I20150824000105</td>\n",
       "      <td>ARDALAN  ENKESHAFI</td>\n",
       "      <td>M</td>\n",
       "      <td>NaN</td>\n",
       "      <td>OTHER</td>\n",
       "      <td>1994.0</td>\n",
       "      <td>INTERNAL MEDICINE</td>\n",
       "      <td>NaN</td>\n",
       "      <td>NaN</td>\n",
       "      <td>NaN</td>\n",
       "      <td>NaN</td>\n",
       "      <td>NaN</td>\n",
       "      <td>SOUTHEASTERN INTENSIVIST SERVICES PC</td>\n",
       "      <td>9.335152e+09</td>\n",
       "      <td>133.0</td>\n",
       "      <td>1401 JOHNSTON WILLIS DR</td>\n",
       "      <td>NaN</td>\n",
       "      <td>NaN</td>\n",
       "      <td>NORTH CHESTERFIELD</td>\n",
       "      <td>VA</td>\n",
       "      <td>232354730</td>\n",
       "      <td>8.044835e+09</td>\n",
       "      <td>490112</td>\n",
       "      <td>CJW MEDICAL CENTER</td>\n",
       "      <td>210028</td>\n",
       "      <td>MEDSTAR SAINT MARY'S HOSPITAL</td>\n",
       "      <td>NaN</td>\n",
       "      <td>NaN</td>\n",
       "      <td>NaN</td>\n",
       "      <td>NaN</td>\n",
       "      <td>NaN</td>\n",
       "      <td>NaN</td>\n",
       "      <td>Y</td>\n",
       "    </tr>\n",
       "    <tr>\n",
       "      <th>4</th>\n",
       "      <td>1003000126</td>\n",
       "      <td>7517003643</td>\n",
       "      <td>I20150824000105</td>\n",
       "      <td>ARDALAN  ENKESHAFI</td>\n",
       "      <td>M</td>\n",
       "      <td>NaN</td>\n",
       "      <td>OTHER</td>\n",
       "      <td>1994.0</td>\n",
       "      <td>INTERNAL MEDICINE</td>\n",
       "      <td>NaN</td>\n",
       "      <td>NaN</td>\n",
       "      <td>NaN</td>\n",
       "      <td>NaN</td>\n",
       "      <td>NaN</td>\n",
       "      <td>SOUTHEASTERN INTENSIVIST SERVICES PC</td>\n",
       "      <td>9.335152e+09</td>\n",
       "      <td>133.0</td>\n",
       "      <td>411 W RANDOLPH RD</td>\n",
       "      <td>NaN</td>\n",
       "      <td>NaN</td>\n",
       "      <td>HOPEWELL</td>\n",
       "      <td>VA</td>\n",
       "      <td>238602938</td>\n",
       "      <td>8.045412e+09</td>\n",
       "      <td>490112</td>\n",
       "      <td>CJW MEDICAL CENTER</td>\n",
       "      <td>210028</td>\n",
       "      <td>MEDSTAR SAINT MARY'S HOSPITAL</td>\n",
       "      <td>NaN</td>\n",
       "      <td>NaN</td>\n",
       "      <td>NaN</td>\n",
       "      <td>NaN</td>\n",
       "      <td>NaN</td>\n",
       "      <td>NaN</td>\n",
       "      <td>Y</td>\n",
       "    </tr>\n",
       "  </tbody>\n",
       "</table>\n",
       "</div>"
      ],
      "text/plain": [
       "          npi  ind_pac_id      ind_enrl_id              full_nm gndr cred  \\\n",
       "0  1003000126  7517003643  I20130530000085  ARDALAN  ENKESHAFI     M  NaN   \n",
       "1  1003000126  7517003643  I20130530000085  ARDALAN  ENKESHAFI     M  NaN   \n",
       "2  1003000126  7517003643  I20150824000105  ARDALAN  ENKESHAFI     M  NaN   \n",
       "3  1003000126  7517003643  I20150824000105  ARDALAN  ENKESHAFI     M  NaN   \n",
       "4  1003000126  7517003643  I20150824000105  ARDALAN  ENKESHAFI     M  NaN   \n",
       "\n",
       "  med_sch  grd_yr           pri_spec sec_spec_1 sec_spec_2 sec_spec_3  \\\n",
       "0   OTHER  1994.0  INTERNAL MEDICINE        NaN        NaN        NaN   \n",
       "1   OTHER  1994.0  INTERNAL MEDICINE        NaN        NaN        NaN   \n",
       "2   OTHER  1994.0  INTERNAL MEDICINE        NaN        NaN        NaN   \n",
       "3   OTHER  1994.0  INTERNAL MEDICINE        NaN        NaN        NaN   \n",
       "4   OTHER  1994.0  INTERNAL MEDICINE        NaN        NaN        NaN   \n",
       "\n",
       "  sec_spec_4 sec_spec_all                            org_lgl_nm    org_pac_id  \\\n",
       "0        NaN          NaN   EMERGENCY MEDICINE ASSOCIATES PA PC  8.022915e+09   \n",
       "1        NaN          NaN   EMERGENCY MEDICINE ASSOCIATES PA PC  8.022915e+09   \n",
       "2        NaN          NaN   EMERGENCY MEDICINE ASSOCIATES PA PC  8.022915e+09   \n",
       "3        NaN          NaN  SOUTHEASTERN INTENSIVIST SERVICES PC  9.335152e+09   \n",
       "4        NaN          NaN  SOUTHEASTERN INTENSIVIST SERVICES PC  9.335152e+09   \n",
       "\n",
       "   num_org_mem                  adr_ln_1 adr_ln_2 ln_2_sprs  \\\n",
       "0        182.0        1850 TOWN CTR PKWY      NaN       NaN   \n",
       "1        182.0    1701 N GEORGE MASON DR      NaN       NaN   \n",
       "2        182.0  24440 STONE SPRINGS BLVD      NaN       NaN   \n",
       "3        133.0   1401 JOHNSTON WILLIS DR      NaN       NaN   \n",
       "4        133.0         411 W RANDOLPH RD      NaN       NaN   \n",
       "\n",
       "                  cty  st        zip     phn_numbr hosp_afl_1  \\\n",
       "0              RESTON  VA  201903219  7.036899e+09     490112   \n",
       "1           ARLINGTON  VA  222053610  7.035586e+09     490112   \n",
       "2              DULLES  VA  201662247  5.713674e+09     490112   \n",
       "3  NORTH CHESTERFIELD  VA  232354730  8.044835e+09     490112   \n",
       "4            HOPEWELL  VA  238602938  8.045412e+09     490112   \n",
       "\n",
       "       hosp_afl_lbn_1 hosp_afl_2                 hosp_afl_lbn_2 hosp_afl_3  \\\n",
       "0  CJW MEDICAL CENTER     210028  MEDSTAR SAINT MARY'S HOSPITAL        NaN   \n",
       "1  CJW MEDICAL CENTER     210028  MEDSTAR SAINT MARY'S HOSPITAL        NaN   \n",
       "2  CJW MEDICAL CENTER     210028  MEDSTAR SAINT MARY'S HOSPITAL        NaN   \n",
       "3  CJW MEDICAL CENTER     210028  MEDSTAR SAINT MARY'S HOSPITAL        NaN   \n",
       "4  CJW MEDICAL CENTER     210028  MEDSTAR SAINT MARY'S HOSPITAL        NaN   \n",
       "\n",
       "  hosp_afl_lbn_3 hosp_afl_4 hosp_afl_lbn_4  hosp_afl_5 hosp_afl_lbn_5 assgn  \n",
       "0            NaN        NaN            NaN         NaN            NaN     Y  \n",
       "1            NaN        NaN            NaN         NaN            NaN     Y  \n",
       "2            NaN        NaN            NaN         NaN            NaN     Y  \n",
       "3            NaN        NaN            NaN         NaN            NaN     Y  \n",
       "4            NaN        NaN            NaN         NaN            NaN     Y  "
      ]
     },
     "execution_count": 57,
     "metadata": {},
     "output_type": "execute_result"
    }
   ],
   "source": [
    "# drop name columns (except full_nm)\n",
    "data = data.drop(['lst_nm', 'frst_nm', 'mid_nm', 'suff'], axis=1); data.head()"
   ]
  },
  {
   "cell_type": "markdown",
   "metadata": {},
   "source": [
    "Also, let's change `grad_yr` while we're at it. It's somewhat annoying that a year is being presented as a float type...But first let's check for missing values!"
   ]
  },
  {
   "cell_type": "code",
   "execution_count": 64,
   "metadata": {},
   "outputs": [
    {
     "data": {
      "text/plain": [
       "5199"
      ]
     },
     "execution_count": 64,
     "metadata": {},
     "output_type": "execute_result"
    }
   ],
   "source": [
    "# how many missing values are in the graduation year column\n",
    "data['grd_yr'].isna().sum()"
   ]
  },
  {
   "cell_type": "markdown",
   "metadata": {},
   "source": [
    "Unfortunately it looks like we have some `NaN` in the graduation year column! Let's change the value to `0` to signify that that particular observations graduation year is missing. This is similar to what we did with missing names and filling them with `Missing` except we need to use an integer since the column is numeric."
   ]
  },
  {
   "cell_type": "code",
   "execution_count": 65,
   "metadata": {},
   "outputs": [
    {
     "data": {
      "text/plain": [
       "0"
      ]
     },
     "execution_count": 65,
     "metadata": {},
     "output_type": "execute_result"
    }
   ],
   "source": [
    "data['grd_yr'].fillna(0).isna().sum()"
   ]
  },
  {
   "cell_type": "code",
   "execution_count": 66,
   "metadata": {},
   "outputs": [],
   "source": [
    "# let's go ahead an apply the above to the grd_yr column\n",
    "data['grd_yr'] = data['grd_yr'].fillna(0)"
   ]
  },
  {
   "cell_type": "markdown",
   "metadata": {},
   "source": [
    "Now that there are no `NaN` in the `grd_yr` column, let's change the column type to `int`."
   ]
  },
  {
   "cell_type": "code",
   "execution_count": 69,
   "metadata": {},
   "outputs": [
    {
     "data": {
      "text/plain": [
       "0    1994\n",
       "1    1994\n",
       "2    1994\n",
       "3    1994\n",
       "4    1994\n",
       "5    2003\n",
       "6    2003\n",
       "7    2003\n",
       "8    2003\n",
       "9    2003\n",
       "Name: grd_yr, dtype: int64"
      ]
     },
     "execution_count": 69,
     "metadata": {},
     "output_type": "execute_result"
    }
   ],
   "source": [
    "# change graduation year from float to int\n",
    "data['grd_yr'] = data['grd_yr'].astype(int); data['grd_yr'][:10]"
   ]
  },
  {
   "cell_type": "markdown",
   "metadata": {},
   "source": [
    "Awesome! Since there are quite a few observations (~2.1M), trying to see the distribution of graduation years would be extremely tedious if we didn't use some sort of visualization. So...lets go ahead and create a histogram! \n",
    "\n",
    "However, we need to remember that for the missing values we inputted a value of `0` which will skew the histogram. Since there were only 5,199 observations, which is a very small percentage of the whole data set, lets go ahead and create a subset of `data` that doesn't include the cases where graduation year is `0`"
   ]
  },
  {
   "cell_type": "code",
   "execution_count": 70,
   "metadata": {},
   "outputs": [
    {
     "data": {
      "text/plain": [
       "(2205591, 35)"
      ]
     },
     "execution_count": 70,
     "metadata": {},
     "output_type": "execute_result"
    }
   ],
   "source": [
    "# create subset of original data that does not include observations with a grad yr equal to 0\n",
    "grdyr_data = data[data['grd_yr'] != 0]; grdyr_data.shape"
   ]
  },
  {
   "cell_type": "code",
   "execution_count": 79,
   "metadata": {},
   "outputs": [
    {
     "data": {
      "text/html": [
       "<div>\n",
       "<style scoped>\n",
       "    .dataframe tbody tr th:only-of-type {\n",
       "        vertical-align: middle;\n",
       "    }\n",
       "\n",
       "    .dataframe tbody tr th {\n",
       "        vertical-align: top;\n",
       "    }\n",
       "\n",
       "    .dataframe thead th {\n",
       "        text-align: right;\n",
       "    }\n",
       "</style>\n",
       "<table border=\"1\" class=\"dataframe\">\n",
       "  <thead>\n",
       "    <tr style=\"text-align: right;\">\n",
       "      <th></th>\n",
       "      <th>npi</th>\n",
       "      <th>full_nm</th>\n",
       "      <th>grd_yr</th>\n",
       "    </tr>\n",
       "  </thead>\n",
       "  <tbody>\n",
       "    <tr>\n",
       "      <th>0</th>\n",
       "      <td>1003000126</td>\n",
       "      <td>ARDALAN  ENKESHAFI</td>\n",
       "      <td>1994</td>\n",
       "    </tr>\n",
       "    <tr>\n",
       "      <th>1</th>\n",
       "      <td>1003000134</td>\n",
       "      <td>THOMAS L CIBULL</td>\n",
       "      <td>2003</td>\n",
       "    </tr>\n",
       "    <tr>\n",
       "      <th>2</th>\n",
       "      <td>1003000142</td>\n",
       "      <td>RASHID  KHALIL</td>\n",
       "      <td>1999</td>\n",
       "    </tr>\n",
       "    <tr>\n",
       "      <th>3</th>\n",
       "      <td>1003000423</td>\n",
       "      <td>JENNIFER A VELOTTA</td>\n",
       "      <td>2007</td>\n",
       "    </tr>\n",
       "    <tr>\n",
       "      <th>4</th>\n",
       "      <td>1003000480</td>\n",
       "      <td>KEVIN B ROTHCHILD</td>\n",
       "      <td>1997</td>\n",
       "    </tr>\n",
       "  </tbody>\n",
       "</table>\n",
       "</div>"
      ],
      "text/plain": [
       "          npi              full_nm  grd_yr\n",
       "0  1003000126  ARDALAN  ENKESHAFI     1994\n",
       "1  1003000134     THOMAS L CIBULL     2003\n",
       "2  1003000142      RASHID  KHALIL     1999\n",
       "3  1003000423  JENNIFER A VELOTTA     2007\n",
       "4  1003000480   KEVIN B ROTHCHILD     1997"
      ]
     },
     "execution_count": 79,
     "metadata": {},
     "output_type": "execute_result"
    }
   ],
   "source": [
    "# create new dataframe, grouped by NPI, and including full name and graduation year\n",
    "grdyr_grouped = pd.DataFrame(grdyr_data.groupby('npi')['full_nm', 'grd_yr'].first()).reset_index(); grdyr_grouped.head()"
   ]
  },
  {
   "cell_type": "code",
   "execution_count": 84,
   "metadata": {},
   "outputs": [
    {
     "data": {
      "text/plain": [
       "0    False\n",
       "1    False\n",
       "2    False\n",
       "3    False\n",
       "4    False\n",
       "5    False\n",
       "6    False\n",
       "7    False\n",
       "8    False\n",
       "9    False\n",
       "dtype: bool"
      ]
     },
     "execution_count": 84,
     "metadata": {},
     "output_type": "execute_result"
    }
   ],
   "source": [
    "# see if there are any duplicate values in NPI column\n",
    "grdyr_grouped.duplicated(subset='npi')[:10]"
   ]
  },
  {
   "cell_type": "markdown",
   "metadata": {},
   "source": [
    "What we get returned is a series of boolean values indicating whether or not that particular observation in the `npi` column is a duplicate entry. Since `True` takes a value of `1` and `False` is equal to `0` we can use `sum()` to see how many total duplicate entries there are."
   ]
  },
  {
   "cell_type": "code",
   "execution_count": 85,
   "metadata": {},
   "outputs": [
    {
     "data": {
      "text/plain": [
       "0"
      ]
     },
     "execution_count": 85,
     "metadata": {},
     "output_type": "execute_result"
    }
   ],
   "source": [
    "grdyr_grouped.duplicated(subset='npi').sum()"
   ]
  },
  {
   "cell_type": "markdown",
   "metadata": {},
   "source": [
    "Ok no duplicated entries. Let's check the `full_nm` column for duplicates now."
   ]
  },
  {
   "cell_type": "code",
   "execution_count": 86,
   "metadata": {},
   "outputs": [
    {
     "data": {
      "text/plain": [
       "31116"
      ]
     },
     "execution_count": 86,
     "metadata": {},
     "output_type": "execute_result"
    }
   ],
   "source": [
    "# check full name column for duplicate entries\n",
    "grdyr_grouped.duplicated(subset='full_nm').sum()"
   ]
  },
  {
   "cell_type": "markdown",
   "metadata": {},
   "source": [
    "A-ha! We have a winner...or loser I guess. So this is evidence that a physician can have multiple NPI IDs as well. Going forward, I think the best tactic is to use `full_nm` as the unique identifier for physicians."
   ]
  },
  {
   "cell_type": "code",
   "execution_count": 88,
   "metadata": {},
   "outputs": [
    {
     "data": {
      "text/html": [
       "<div>\n",
       "<style scoped>\n",
       "    .dataframe tbody tr th:only-of-type {\n",
       "        vertical-align: middle;\n",
       "    }\n",
       "\n",
       "    .dataframe tbody tr th {\n",
       "        vertical-align: top;\n",
       "    }\n",
       "\n",
       "    .dataframe thead th {\n",
       "        text-align: right;\n",
       "    }\n",
       "</style>\n",
       "<table border=\"1\" class=\"dataframe\">\n",
       "  <thead>\n",
       "    <tr style=\"text-align: right;\">\n",
       "      <th></th>\n",
       "      <th>full_nm</th>\n",
       "      <th>grd_yr</th>\n",
       "    </tr>\n",
       "  </thead>\n",
       "  <tbody>\n",
       "    <tr>\n",
       "      <th>0</th>\n",
       "      <td>A  MIRANDA</td>\n",
       "      <td>1998</td>\n",
       "    </tr>\n",
       "    <tr>\n",
       "      <th>1</th>\n",
       "      <td>A  NARASIMHA RAO</td>\n",
       "      <td>2002</td>\n",
       "    </tr>\n",
       "    <tr>\n",
       "      <th>2</th>\n",
       "      <td>A ALAN SEMINE</td>\n",
       "      <td>1978</td>\n",
       "    </tr>\n",
       "    <tr>\n",
       "      <th>3</th>\n",
       "      <td>A ANANTH  RAMAN</td>\n",
       "      <td>1974</td>\n",
       "    </tr>\n",
       "    <tr>\n",
       "      <th>4</th>\n",
       "      <td>A ANDREW RUDMANN</td>\n",
       "      <td>1993</td>\n",
       "    </tr>\n",
       "  </tbody>\n",
       "</table>\n",
       "</div>"
      ],
      "text/plain": [
       "             full_nm  grd_yr\n",
       "0        A  MIRANDA     1998\n",
       "1  A  NARASIMHA RAO     2002\n",
       "2     A ALAN SEMINE     1978\n",
       "3   A ANANTH  RAMAN     1974\n",
       "4  A ANDREW RUDMANN     1993"
      ]
     },
     "execution_count": 88,
     "metadata": {},
     "output_type": "execute_result"
    }
   ],
   "source": [
    "# regroup grad year subset according to full name\n",
    "grad_name_grouped = pd.DataFrame(grdyr_data.groupby('full_nm')['grd_yr'].first()).reset_index(); grad_name_grouped.head()"
   ]
  },
  {
   "cell_type": "markdown",
   "metadata": {},
   "source": [
    "I just got a brilliant idea! Don't know why I didn't think of this sooner but why don't we add `med_sch` and then we could have a more complete picture of each physicians schooling! Let's do that next."
   ]
  },
  {
   "cell_type": "code",
   "execution_count": 89,
   "metadata": {},
   "outputs": [
    {
     "data": {
      "text/html": [
       "<div>\n",
       "<style scoped>\n",
       "    .dataframe tbody tr th:only-of-type {\n",
       "        vertical-align: middle;\n",
       "    }\n",
       "\n",
       "    .dataframe tbody tr th {\n",
       "        vertical-align: top;\n",
       "    }\n",
       "\n",
       "    .dataframe thead th {\n",
       "        text-align: right;\n",
       "    }\n",
       "</style>\n",
       "<table border=\"1\" class=\"dataframe\">\n",
       "  <thead>\n",
       "    <tr style=\"text-align: right;\">\n",
       "      <th></th>\n",
       "      <th>full_nm</th>\n",
       "      <th>med_sch</th>\n",
       "      <th>grd_yr</th>\n",
       "    </tr>\n",
       "  </thead>\n",
       "  <tbody>\n",
       "    <tr>\n",
       "      <th>0</th>\n",
       "      <td>A  MIRANDA</td>\n",
       "      <td>MICHIGAN STATE UNIVERSITY COLLEGE OF HUMAN MED...</td>\n",
       "      <td>1998</td>\n",
       "    </tr>\n",
       "    <tr>\n",
       "      <th>1</th>\n",
       "      <td>A  NARASIMHA RAO</td>\n",
       "      <td>OTHER</td>\n",
       "      <td>2002</td>\n",
       "    </tr>\n",
       "    <tr>\n",
       "      <th>2</th>\n",
       "      <td>A ALAN SEMINE</td>\n",
       "      <td>TUFTS UNIVERSITY SCHOOL OF MEDICINE</td>\n",
       "      <td>1978</td>\n",
       "    </tr>\n",
       "    <tr>\n",
       "      <th>3</th>\n",
       "      <td>A ANANTH  RAMAN</td>\n",
       "      <td>OTHER</td>\n",
       "      <td>1974</td>\n",
       "    </tr>\n",
       "    <tr>\n",
       "      <th>4</th>\n",
       "      <td>A ANDREW RUDMANN</td>\n",
       "      <td>JOHNS HOPKINS UNIVERSITY SCHOOL OF MEDICINE</td>\n",
       "      <td>1993</td>\n",
       "    </tr>\n",
       "  </tbody>\n",
       "</table>\n",
       "</div>"
      ],
      "text/plain": [
       "             full_nm                                            med_sch  \\\n",
       "0        A  MIRANDA   MICHIGAN STATE UNIVERSITY COLLEGE OF HUMAN MED...   \n",
       "1  A  NARASIMHA RAO                                               OTHER   \n",
       "2     A ALAN SEMINE                 TUFTS UNIVERSITY SCHOOL OF MEDICINE   \n",
       "3   A ANANTH  RAMAN                                               OTHER   \n",
       "4  A ANDREW RUDMANN         JOHNS HOPKINS UNIVERSITY SCHOOL OF MEDICINE   \n",
       "\n",
       "   grd_yr  \n",
       "0    1998  \n",
       "1    2002  \n",
       "2    1978  \n",
       "3    1974  \n",
       "4    1993  "
      ]
     },
     "execution_count": 89,
     "metadata": {},
     "output_type": "execute_result"
    }
   ],
   "source": [
    "# regroup grad year subset according to full name\n",
    "grad_name_grouped = pd.DataFrame(grdyr_data.groupby('full_nm')['med_sch', 'grd_yr'].first()).reset_index(); grad_name_grouped.head()"
   ]
  },
  {
   "cell_type": "markdown",
   "metadata": {},
   "source": [
    "Ok so we have a subset of the data, that eliminates the duplicate entries by grouping observations together according to the physicians full name. This will allow us, with more accuracy, to be able to get a picture of what is going on with the educational background of the physicians in this data set. \n",
    "\n",
    "Let's start getting into some visualizations now! First, lets take a look at the distribution of graduation years with a histogram. "
   ]
  },
  {
   "cell_type": "code",
   "execution_count": 92,
   "metadata": {},
   "outputs": [
    {
     "data": {
      "text/plain": [
       "<matplotlib.axes._subplots.AxesSubplot at 0x18c0382e8>"
      ]
     },
     "execution_count": 92,
     "metadata": {},
     "output_type": "execute_result"
    },
    {
     "data": {
      "image/png": "[encoded data removed]",
      "text/plain": [
       "<Figure size 432x288 with 1 Axes>"
      ]
     },
     "metadata": {
      "needs_background": "light"
     },
     "output_type": "display_data"
    }
   ],
   "source": [
    "# import visualization libraries\n",
    "import matplotlib.pyplot as plt\n",
    "import seaborn as sns\n",
    "%matplotlib inline\n",
    "\n",
    "grad_name_grouped['grd_yr'].plot(kind='hist')"
   ]
  },
  {
   "cell_type": "markdown",
   "metadata": {},
   "source": [
    "Ok so we get a good high-level overview of what is going on with `grd_yr`. Let's make this a little prettier/easier to comprehend."
   ]
  },
  {
   "cell_type": "code",
   "execution_count": 99,
   "metadata": {},
   "outputs": [
    {
     "data": {
      "image/png": "[encoded data removed]",
      "text/plain": [
       "<Figure size 432x288 with 1 Axes>"
      ]
     },
     "metadata": {
      "image/png": {
       "height": 248,
       "width": 410
      }
     },
     "output_type": "display_data"
    }
   ],
   "source": [
    "# command for higher resolution output\n",
    "%config InlineBackend.figure_format = 'retina'\n",
    "# utilize ggplot style\n",
    "plt.style.use('ggplot')\n",
    "\n",
    "grad_name_grouped['grd_yr'].plot(kind='hist');"
   ]
  },
  {
   "cell_type": "code",
   "execution_count": 104,
   "metadata": {},
   "outputs": [
    {
     "data": {
      "image/png": "[encoded data removed]",
      "text/plain": [
       "<Figure size 864x576 with 1 Axes>"
      ]
     },
     "metadata": {
      "image/png": {
       "height": 465,
       "width": 745
      }
     },
     "output_type": "display_data"
    }
   ],
   "source": [
    "# make the histogram look nicer\n",
    "plt.figure(figsize=(12,8))\n",
    "grad_name_grouped['grd_yr'].plot(kind='hist', bins=10, color='steelblue', edgecolor='black');"
   ]
  },
  {
   "cell_type": "markdown",
   "metadata": {},
   "source": [
    "Ok so the histogram is looking a lot nicer visually, however I want to see what we should do about the bins. What is a bin? In the histogram above, a bin is represented by each bar, which represents a range of values. I want to get a better idea of what the range of graduation years is like so I can potentially better represent the distribution by selecting a more advantageous bin number. "
   ]
  },
  {
   "cell_type": "code",
   "execution_count": 105,
   "metadata": {},
   "outputs": [
    {
     "data": {
      "text/plain": [
       "2020"
      ]
     },
     "execution_count": 105,
     "metadata": {},
     "output_type": "execute_result"
    }
   ],
   "source": [
    "# what is the max value in grd_yr?\n",
    "grad_name_grouped['grd_yr'].max()"
   ]
  },
  {
   "cell_type": "code",
   "execution_count": 106,
   "metadata": {},
   "outputs": [
    {
     "data": {
      "text/plain": [
       "1944"
      ]
     },
     "execution_count": 106,
     "metadata": {},
     "output_type": "execute_result"
    }
   ],
   "source": [
    "# what is the min value in grd_yr?\n",
    "grad_name_grouped['grd_yr'].min()"
   ]
  },
  {
   "cell_type": "markdown",
   "metadata": {},
   "source": [
    "Looks like our range is from `1944` to `2020`, which is a little confusing seeing as it is 2019...this is something else to take note of and explore. However our current focus is on producing a histogram of `grd_yr`. "
   ]
  },
  {
   "cell_type": "code",
   "execution_count": 107,
   "metadata": {},
   "outputs": [
    {
     "data": {
      "text/plain": [
       "76"
      ]
     },
     "execution_count": 107,
     "metadata": {},
     "output_type": "execute_result"
    }
   ],
   "source": [
    "# what is the difference in years between the earliest and most recent graduation years?\n",
    "abs(grad_name_grouped['grd_yr'].max() - grad_name_grouped['grd_yr'].min())"
   ]
  },
  {
   "cell_type": "markdown",
   "metadata": {},
   "source": [
    "76 years is the difference between the earliest and most recent graduation years. Now let's experiment with bin numbers to see if we can better depict the distribution via a histogram."
   ]
  },
  {
   "cell_type": "code",
   "execution_count": 109,
   "metadata": {},
   "outputs": [
    {
     "data": {
      "image/png": "[encoded data removed]",
      "text/plain": [
       "<Figure size 864x576 with 1 Axes>"
      ]
     },
     "metadata": {
      "image/png": {
       "height": 465,
       "width": 739
      }
     },
     "output_type": "display_data"
    }
   ],
   "source": [
    "# use 38 bins (with each bin representing a 2-year interval)\n",
    "plt.figure(figsize=(12,8))\n",
    "grad_name_grouped['grd_yr'].plot(kind='hist', bins=38, color='steelblue', edgecolor='black');"
   ]
  },
  {
   "cell_type": "code",
   "execution_count": 110,
   "metadata": {},
   "outputs": [
    {
     "data": {
      "image/png": "[encoded data removed]",
      "text/plain": [
       "<Figure size 864x576 with 1 Axes>"
      ]
     },
     "metadata": {
      "image/png": {
       "height": 465,
       "width": 745
      }
     },
     "output_type": "display_data"
    }
   ],
   "source": [
    "# use 19 bins (with each bin representing a 4-year interval)\n",
    "plt.figure(figsize=(12,8))\n",
    "grad_name_grouped['grd_yr'].plot(kind='hist', bins=19, color='steelblue', edgecolor='black');"
   ]
  },
  {
   "cell_type": "markdown",
   "metadata": {},
   "source": [
    "Both of the histograms above are an improvement on the 10 bin histogram. The first one uses 38 bins, which means each bin represents a 2-year interval; the second uses 19 bins, each representing a 4-year interval. \n",
    "\n",
    "They are essentially showing us the same thing but I like the first one because it is a little more nuanced so we'll use 38 bins going forward for `grd_yr`."
   ]
  },
  {
   "cell_type": "code",
   "execution_count": 121,
   "metadata": {},
   "outputs": [
    {
     "data": {
      "image/png": "[encoded data removed]",
      "text/plain": [
       "<Figure size 1008x576 with 1 Axes>"
      ]
     },
     "metadata": {
      "image/png": {
       "height": 487,
       "width": 857
      }
     },
     "output_type": "display_data"
    }
   ],
   "source": [
    "# use 38 bins (with each bin representing a 2-year interval)\n",
    "plt.figure(figsize=(14,8))\n",
    "plt.title('US Physicians Medical School Graduation Year', size='xx-large')\n",
    "grad_name_grouped['grd_yr'].plot(kind='hist', bins=38, color='steelblue', edgecolor='black', fontsize=12);"
   ]
  },
  {
   "cell_type": "markdown",
   "metadata": {},
   "source": [
    "Not too bad! Now let's revisit what is going on with grauation year, namely how many observations are there in 2020. We'll drop these observations from the next histogram because they technically haven't graduated yet!"
   ]
  },
  {
   "cell_type": "code",
   "execution_count": 122,
   "metadata": {},
   "outputs": [
    {
     "data": {
      "text/html": [
       "<div>\n",
       "<style scoped>\n",
       "    .dataframe tbody tr th:only-of-type {\n",
       "        vertical-align: middle;\n",
       "    }\n",
       "\n",
       "    .dataframe tbody tr th {\n",
       "        vertical-align: top;\n",
       "    }\n",
       "\n",
       "    .dataframe thead th {\n",
       "        text-align: right;\n",
       "    }\n",
       "</style>\n",
       "<table border=\"1\" class=\"dataframe\">\n",
       "  <thead>\n",
       "    <tr style=\"text-align: right;\">\n",
       "      <th></th>\n",
       "      <th>full_nm</th>\n",
       "      <th>med_sch</th>\n",
       "      <th>grd_yr</th>\n",
       "    </tr>\n",
       "  </thead>\n",
       "  <tbody>\n",
       "    <tr>\n",
       "      <th>54328</th>\n",
       "      <td>ANDREW A EMERSON</td>\n",
       "      <td>OTHER</td>\n",
       "      <td>2020</td>\n",
       "    </tr>\n",
       "    <tr>\n",
       "      <th>575609</th>\n",
       "      <td>KRISTAL L LANG</td>\n",
       "      <td>OTHER</td>\n",
       "      <td>2020</td>\n",
       "    </tr>\n",
       "    <tr>\n",
       "      <th>901415</th>\n",
       "      <td>SARA  KROLEWICZ</td>\n",
       "      <td>VANDERBILT UNIVERSITY SCHOOL OF MEDICINE</td>\n",
       "      <td>2020</td>\n",
       "    </tr>\n",
       "  </tbody>\n",
       "</table>\n",
       "</div>"
      ],
      "text/plain": [
       "                  full_nm                                   med_sch  grd_yr\n",
       "54328   ANDREW A EMERSON                                      OTHER    2020\n",
       "575609    KRISTAL L LANG                                      OTHER    2020\n",
       "901415   SARA  KROLEWICZ   VANDERBILT UNIVERSITY SCHOOL OF MEDICINE    2020"
      ]
     },
     "execution_count": 122,
     "metadata": {},
     "output_type": "execute_result"
    }
   ],
   "source": [
    "# how many observations are there whose graduation year is 2020?\n",
    "grad_name_grouped[grad_name_grouped['grd_yr'] == 2020]"
   ]
  },
  {
   "cell_type": "code",
   "execution_count": 127,
   "metadata": {},
   "outputs": [
    {
     "name": "stdout",
     "output_type": "stream",
     "text": [
      "There are 2079 observations whose graduation year is 2019.\n"
     ]
    }
   ],
   "source": [
    "# how many observations are there whose graduation year is 2019?\n",
    "print('There are {} observations whose graduation year is 2019.'.format(len(grad_name_grouped[grad_name_grouped['grd_yr'] == 2019])))"
   ]
  },
  {
   "cell_type": "code",
   "execution_count": 129,
   "metadata": {},
   "outputs": [
    {
     "name": "stdout",
     "output_type": "stream",
     "text": [
      "There are 24412 observations whose graduation year is 2018.\n"
     ]
    }
   ],
   "source": [
    "# how many observations are there whose graduation year is 2018?\n",
    "print('There are {} observations whose graduation year is 2018.'.format(len(grad_name_grouped[grad_name_grouped['grd_yr'] == 2018])))"
   ]
  },
  {
   "cell_type": "markdown",
   "metadata": {},
   "source": [
    "As we can see above, there are only 3 observations who are going to graduate in 2020 so this isn't going to have any visible impact on the histogram above. Additionally, it looks like the vast majority of the observations in this bin are from 2018.\n",
    "\n",
    "We've got a good high-level overview of what is going on with graduation year, now lets take a look at where these physicians went to school!"
   ]
  },
  {
   "cell_type": "code",
   "execution_count": 130,
   "metadata": {},
   "outputs": [
    {
     "data": {
      "text/plain": [
       "OTHER                                                           573408\n",
       "INDIANA UNIVERSITY SCHOOL OF MEDICINE                             7091\n",
       "WAYNE STATE UNIVERSITY SCHOOL OF MEDICINE                         7078\n",
       "PALMER COLLEGE CHIROPRACTIC - DAVENPORT                           6648\n",
       "PHILADELPHIA COLLEGE OF OSTEOPATHIC MEDICINE                      6049\n",
       "UNIVERSITY OF MINNESOTA MEDICAL SCHOOL                            6007\n",
       "TEMPLE UNIVERSITY SCHOOL OF MEDICINE                              5779\n",
       "OHIO STATE UNIVERSITY COLLEGE OF MEDICINE                         5774\n",
       "UNIVERSITY OF ILLINOIS AT CHICAGO HEALTH SCIENCE CENTER           5445\n",
       "JEFFERSON MEDICAL COLLEGE OF THOMAS JEFFERSON UNIVERSITY          5240\n",
       "NEW YORK MEDICAL COLLEGE                                          5188\n",
       "UNIVERSITY OF MICHIGAN MEDICAL SCHOOL                             5134\n",
       "GEORGETOWN UNIVERSITY OF MEDICINE                                 4958\n",
       "UNIVERSITY OF ALABAMA SCHOOL OF MEDICINE                          4792\n",
       "UNIVERSITY OF KANSAS SCHOOL OF MEDICINE                           4728\n",
       "MEDICAL COLLEGE OF GEORGIA                                        4689\n",
       "UNIVERSITY OF TENNESSEE COLLEGE OF MEDICINE                       4646\n",
       "UNIVERSITY OF CINCINNATI COLLEGE OF MEDICINE                      4616\n",
       "UNIVERSITY OF TEXAS MEDICAL BRANCH AT GALVESTON                   4521\n",
       "UNIVERSITY OF TEXAS SOUTHWESTERN MEDICAL SCHOOL AT DALLAS         4514\n",
       "NEW YORK UNIVERSITY SCHOOL OF MEDICINE                            4453\n",
       "UNIVERSITY OF WASHINGTON SCHOOL OF MEDICINE                       4369\n",
       "LOUISIANA STATE UNIVERSITY SCHOOL OF MEDICINE IN NEW ORLEANS      4341\n",
       "MEDICAL COLLEGE OF WISCONSIN                                      4310\n",
       "UNIVERSITY OF IOWA COLLEGE OF MEDICINE                            4249\n",
       "BAYLOR COLLEGE OF MEDICINE                                        4179\n",
       "UNIVERSITY OF WISCONSIN MEDICAL SCHOOL                            4120\n",
       "BOSTON UNIVERSITY SCHOOL OF MEDICINE                              4069\n",
       "NORTHWESTERN UNIVERSITY MEDICAL SCHOOL                            4002\n",
       "TUFTS UNIVERSITY SCHOOL OF MEDICINE                               3988\n",
       "                                                                 ...  \n",
       "UNIVERSITE DE MONTREAL FACULTE DE MED DENTAIRE                       3\n",
       "COLLEGE OF PHYSICIANS AND SURGEONS (KANSAS)                          3\n",
       "DENVER COLLEGE OF PHYSICIANS AND SURGEONS - NLG                      3\n",
       "UNIVERSITE LAVAL FACULTE DE MEDECINE DENTAIRE                        3\n",
       "CLEVELAND MEDICAL COLLEGE, HOMEOPATHIC                               3\n",
       "DUNHAM MEDICAL COLLEGE                                               3\n",
       "DEARBORN MEDICAL COLLEGE                                             3\n",
       "CENTRAL COLLEGE OF PHYSICIANS AND SURGEONS                           3\n",
       "ATLANTA COLLEGE OF PHYSICIANS AND SURGEONS                           2\n",
       "COLLEGE OF PHYSICIANS AND SURGEONS (TENNESSEE)                       2\n",
       "LOUISVILLE NATIONAL MEDICAL COLLEGE                                  2\n",
       "GATE CITY MEDICAL COLLEGE                                            2\n",
       "DENVER AND GROSS COLLEGE OF MEDICINE                                 2\n",
       "COLUMBIA COLLEGE OF CHIROPRACTIC - ALAMEDA                           2\n",
       "ATLANTIC STATES/COLUMBIA CHIROPRACTIC INSTITUTE                      2\n",
       "COLLEGE OF PHYSICIANS AND SURGEONS OF SAN FRANCISCO                  2\n",
       "STARLING MEDICAL COLLEGE                                             2\n",
       "UNIV OF BRITISH COLUMBIA FACULTY OF DENTISTRY                        2\n",
       "LOUISVILLE HOSPITAL MEDICAL COLLEGE                                  2\n",
       "GROSS MEDICAL COLLEGE - NLG                                          1\n",
       "MARYLAND COLLEGE OF ECLECTIC MEDICINE AND SURGERY                    1\n",
       "PHYSIOLOGICAL MEDICAL COLLEGE OF INDIANA                             1\n",
       "BELLEVUE HOSPITAL MEDICAL COLLEGE                                    1\n",
       "ENSWORTH MEDICAL COLLEGE                                             1\n",
       "ECLECTIC MEDICAL UNIVERSITY                                          1\n",
       "BOOKER T. WASHINGTON COLLEGE OF CHIROPRACTIC                         1\n",
       "BENNETT MEDICAL SCHOOL                                               1\n",
       "CRISCO CHIROPRACTIC COLLEGE                                          1\n",
       "UNIV OF MANITOBA FACULTY OF DENTISTRY                                1\n",
       "PHYSIOLOGICAL MEDICAL COLLEGE OF TEXAS                               1\n",
       "Name: med_sch, Length: 400, dtype: int64"
      ]
     },
     "execution_count": 130,
     "metadata": {},
     "output_type": "execute_result"
    }
   ],
   "source": [
    "# get the value counts for med_sch\n",
    "grad_name_grouped['med_sch'].value_counts()"
   ]
  },
  {
   "cell_type": "markdown",
   "metadata": {},
   "source": [
    "First off let's address `OTHER`. Since we are not gaining any relevant information from these observations (in the context of schools) let's create another subset of the data that exclude observations with `OTHER` for their medical school."
   ]
  },
  {
   "cell_type": "code",
   "execution_count": 132,
   "metadata": {},
   "outputs": [],
   "source": [
    "# create subset without OTHER med_sch\n",
    "no_other_school = grad_name_grouped[grad_name_grouped['med_sch'] != 'OTHER']"
   ]
  },
  {
   "cell_type": "code",
   "execution_count": 134,
   "metadata": {},
   "outputs": [
    {
     "data": {
      "text/plain": [
       "True"
      ]
     },
     "execution_count": 134,
     "metadata": {},
     "output_type": "execute_result"
    }
   ],
   "source": [
    "# check to make sure we created the subset correctly\n",
    "abs(len(no_other_school) - len(grad_name_grouped)) == len(grad_name_grouped[grad_name_grouped['med_sch'] == 'OTHER'])"
   ]
  },
  {
   "cell_type": "markdown",
   "metadata": {},
   "source": [
    "The above code is checking that the difference in length between `no_other_school` and `grad_name_grouped` is equal to the number of `OTHER` observations in `grad_name_grouped`. We can see that it returns the boolean of `True`, meaning that our subset correctly excluded the `OTHER` observations.\n",
    "\n",
    "Now lets check the value counts by medical school."
   ]
  },
  {
   "cell_type": "code",
   "execution_count": 136,
   "metadata": {},
   "outputs": [
    {
     "data": {
      "text/plain": [
       "INDIANA UNIVERSITY SCHOOL OF MEDICINE                       7091\n",
       "WAYNE STATE UNIVERSITY SCHOOL OF MEDICINE                   7078\n",
       "PALMER COLLEGE CHIROPRACTIC - DAVENPORT                     6648\n",
       "PHILADELPHIA COLLEGE OF OSTEOPATHIC MEDICINE                6049\n",
       "UNIVERSITY OF MINNESOTA MEDICAL SCHOOL                      6007\n",
       "TEMPLE UNIVERSITY SCHOOL OF MEDICINE                        5779\n",
       "OHIO STATE UNIVERSITY COLLEGE OF MEDICINE                   5774\n",
       "UNIVERSITY OF ILLINOIS AT CHICAGO HEALTH SCIENCE CENTER     5445\n",
       "JEFFERSON MEDICAL COLLEGE OF THOMAS JEFFERSON UNIVERSITY    5240\n",
       "NEW YORK MEDICAL COLLEGE                                    5188\n",
       "Name: med_sch, dtype: int64"
      ]
     },
     "execution_count": 136,
     "metadata": {},
     "output_type": "execute_result"
    }
   ],
   "source": [
    "# get the top 10 medical schools by number of physicians \n",
    "no_other_school['med_sch'].value_counts()[:10]"
   ]
  },
  {
   "cell_type": "code",
   "execution_count": 137,
   "metadata": {},
   "outputs": [
    {
     "data": {
      "text/plain": [
       "INDIANA UNIVERSITY SCHOOL OF MEDICINE                           7091\n",
       "WAYNE STATE UNIVERSITY SCHOOL OF MEDICINE                       7078\n",
       "PALMER COLLEGE CHIROPRACTIC - DAVENPORT                         6648\n",
       "PHILADELPHIA COLLEGE OF OSTEOPATHIC MEDICINE                    6049\n",
       "UNIVERSITY OF MINNESOTA MEDICAL SCHOOL                          6007\n",
       "TEMPLE UNIVERSITY SCHOOL OF MEDICINE                            5779\n",
       "OHIO STATE UNIVERSITY COLLEGE OF MEDICINE                       5774\n",
       "UNIVERSITY OF ILLINOIS AT CHICAGO HEALTH SCIENCE CENTER         5445\n",
       "JEFFERSON MEDICAL COLLEGE OF THOMAS JEFFERSON UNIVERSITY        5240\n",
       "NEW YORK MEDICAL COLLEGE                                        5188\n",
       "UNIVERSITY OF MICHIGAN MEDICAL SCHOOL                           5134\n",
       "GEORGETOWN UNIVERSITY OF MEDICINE                               4958\n",
       "UNIVERSITY OF ALABAMA SCHOOL OF MEDICINE                        4792\n",
       "UNIVERSITY OF KANSAS SCHOOL OF MEDICINE                         4728\n",
       "MEDICAL COLLEGE OF GEORGIA                                      4689\n",
       "UNIVERSITY OF TENNESSEE COLLEGE OF MEDICINE                     4646\n",
       "UNIVERSITY OF CINCINNATI COLLEGE OF MEDICINE                    4616\n",
       "UNIVERSITY OF TEXAS MEDICAL BRANCH AT GALVESTON                 4521\n",
       "UNIVERSITY OF TEXAS SOUTHWESTERN MEDICAL SCHOOL AT DALLAS       4514\n",
       "NEW YORK UNIVERSITY SCHOOL OF MEDICINE                          4453\n",
       "UNIVERSITY OF WASHINGTON SCHOOL OF MEDICINE                     4369\n",
       "LOUISIANA STATE UNIVERSITY SCHOOL OF MEDICINE IN NEW ORLEANS    4341\n",
       "MEDICAL COLLEGE OF WISCONSIN                                    4310\n",
       "UNIVERSITY OF IOWA COLLEGE OF MEDICINE                          4249\n",
       "BAYLOR COLLEGE OF MEDICINE                                      4179\n",
       "Name: med_sch, dtype: int64"
      ]
     },
     "execution_count": 137,
     "metadata": {},
     "output_type": "execute_result"
    }
   ],
   "source": [
    "# get the top 25 medical schools by number of physicians\n",
    "no_other_school['med_sch'].value_counts()[:25]"
   ]
  },
  {
   "cell_type": "code",
   "execution_count": 170,
   "metadata": {},
   "outputs": [],
   "source": [
    "# create list of names of top 10 schools by attendance\n",
    "top_10_schools = list(no_other_school['med_sch'].value_counts()[:10].index)"
   ]
  },
  {
   "cell_type": "code",
   "execution_count": 177,
   "metadata": {},
   "outputs": [
    {
     "data": {
      "image/png": "[encoded data removed]",
      "text/plain": [
       "<Figure size 1008x576 with 1 Axes>"
      ]
     },
     "metadata": {
      "image/png": {
       "height": 482,
       "width": 1141
      }
     },
     "output_type": "display_data"
    }
   ],
   "source": [
    "# get the top 10 medical schools by number of physicians \n",
    "fig = plt.figure(figsize=(14,8))\n",
    "no_other_school['med_sch'].value_counts()[:10].sort_values(ascending=True).plot.barh(color='green', edgecolor='black', linewidth=1.25, \n",
    "                                                                                    tick_label=top_10_schools)\n",
    "plt.tick_params(axis='x', left=False)\n",
    "plt.title('US Physicians: Total Count by Medical School');"
   ]
  },
  {
   "cell_type": "markdown",
   "metadata": {},
   "source": [
    "Nice! We've now generated two visualizations, one being a histogram showing the distribution of graduation years for US physicians and the second being the top 10 medical schools physicans attended (other than `OTHER`). I think this is a good point to end things for today but before I close everything out let's make sure our updated `data` is reflected in a new CSV file, so that we don't have to make the same changes again. "
   ]
  },
  {
   "cell_type": "code",
   "execution_count": 180,
   "metadata": {},
   "outputs": [
    {
     "data": {
      "text/plain": [
       "npi                0.000\n",
       "ind_pac_id         0.000\n",
       "ind_enrl_id        0.000\n",
       "full_nm            0.000\n",
       "gndr               0.000\n",
       "cred              68.976\n",
       "med_sch            0.000\n",
       "grd_yr             0.000\n",
       "pri_spec           0.000\n",
       "sec_spec_1        85.576\n",
       "sec_spec_2        98.406\n",
       "sec_spec_3        99.833\n",
       "sec_spec_4        99.973\n",
       "sec_spec_all      85.576\n",
       "org_lgl_nm         8.051\n",
       "org_pac_id         8.051\n",
       "num_org_mem        8.051\n",
       "adr_ln_1           0.000\n",
       "adr_ln_2          65.159\n",
       "ln_2_sprs         94.270\n",
       "cty                0.000\n",
       "st                 0.000\n",
       "zip                0.000\n",
       "phn_numbr         15.288\n",
       "hosp_afl_1        26.610\n",
       "hosp_afl_lbn_1    26.715\n",
       "hosp_afl_2        59.499\n",
       "hosp_afl_lbn_2    59.635\n",
       "hosp_afl_3        76.644\n",
       "hosp_afl_lbn_3    76.739\n",
       "hosp_afl_4        85.746\n",
       "hosp_afl_lbn_4    85.799\n",
       "hosp_afl_5        90.769\n",
       "hosp_afl_lbn_5    90.807\n",
       "assgn              0.000\n",
       "dtype: float64"
      ]
     },
     "execution_count": 180,
     "metadata": {},
     "output_type": "execute_result"
    }
   ],
   "source": [
    "# check percentage of missing values for each column\n",
    "round(data.isna().mean() * 100, 3)"
   ]
  },
  {
   "cell_type": "markdown",
   "metadata": {},
   "source": [
    "Looking at `full_nm`, `med_sch` and `grd_yr` - the primary columns we focused on today - we can see there are no missing values! Let's go ahead and export `data` to a CSV and that'll be a wrap for today!"
   ]
  },
  {
   "cell_type": "code",
   "execution_count": 181,
   "metadata": {},
   "outputs": [
    {
     "data": {
      "text/html": [
       "<div>\n",
       "<style scoped>\n",
       "    .dataframe tbody tr th:only-of-type {\n",
       "        vertical-align: middle;\n",
       "    }\n",
       "\n",
       "    .dataframe tbody tr th {\n",
       "        vertical-align: top;\n",
       "    }\n",
       "\n",
       "    .dataframe thead th {\n",
       "        text-align: right;\n",
       "    }\n",
       "</style>\n",
       "<table border=\"1\" class=\"dataframe\">\n",
       "  <thead>\n",
       "    <tr style=\"text-align: right;\">\n",
       "      <th></th>\n",
       "      <th>npi</th>\n",
       "      <th>ind_pac_id</th>\n",
       "      <th>ind_enrl_id</th>\n",
       "      <th>full_nm</th>\n",
       "      <th>gndr</th>\n",
       "      <th>cred</th>\n",
       "      <th>med_sch</th>\n",
       "      <th>grd_yr</th>\n",
       "      <th>pri_spec</th>\n",
       "      <th>sec_spec_1</th>\n",
       "      <th>sec_spec_2</th>\n",
       "      <th>sec_spec_3</th>\n",
       "      <th>sec_spec_4</th>\n",
       "      <th>sec_spec_all</th>\n",
       "      <th>org_lgl_nm</th>\n",
       "      <th>org_pac_id</th>\n",
       "      <th>num_org_mem</th>\n",
       "      <th>adr_ln_1</th>\n",
       "      <th>adr_ln_2</th>\n",
       "      <th>ln_2_sprs</th>\n",
       "      <th>cty</th>\n",
       "      <th>st</th>\n",
       "      <th>zip</th>\n",
       "      <th>phn_numbr</th>\n",
       "      <th>hosp_afl_1</th>\n",
       "      <th>hosp_afl_lbn_1</th>\n",
       "      <th>hosp_afl_2</th>\n",
       "      <th>hosp_afl_lbn_2</th>\n",
       "      <th>hosp_afl_3</th>\n",
       "      <th>hosp_afl_lbn_3</th>\n",
       "      <th>hosp_afl_4</th>\n",
       "      <th>hosp_afl_lbn_4</th>\n",
       "      <th>hosp_afl_5</th>\n",
       "      <th>hosp_afl_lbn_5</th>\n",
       "      <th>assgn</th>\n",
       "    </tr>\n",
       "  </thead>\n",
       "  <tbody>\n",
       "    <tr>\n",
       "      <th>0</th>\n",
       "      <td>1003000126</td>\n",
       "      <td>7517003643</td>\n",
       "      <td>I20130530000085</td>\n",
       "      <td>ARDALAN  ENKESHAFI</td>\n",
       "      <td>M</td>\n",
       "      <td>NaN</td>\n",
       "      <td>OTHER</td>\n",
       "      <td>1994</td>\n",
       "      <td>INTERNAL MEDICINE</td>\n",
       "      <td>NaN</td>\n",
       "      <td>NaN</td>\n",
       "      <td>NaN</td>\n",
       "      <td>NaN</td>\n",
       "      <td>NaN</td>\n",
       "      <td>EMERGENCY MEDICINE ASSOCIATES PA PC</td>\n",
       "      <td>8.022915e+09</td>\n",
       "      <td>182.0</td>\n",
       "      <td>1850 TOWN CTR PKWY</td>\n",
       "      <td>NaN</td>\n",
       "      <td>NaN</td>\n",
       "      <td>RESTON</td>\n",
       "      <td>VA</td>\n",
       "      <td>201903219</td>\n",
       "      <td>7.036899e+09</td>\n",
       "      <td>490112</td>\n",
       "      <td>CJW MEDICAL CENTER</td>\n",
       "      <td>210028</td>\n",
       "      <td>MEDSTAR SAINT MARY'S HOSPITAL</td>\n",
       "      <td>NaN</td>\n",
       "      <td>NaN</td>\n",
       "      <td>NaN</td>\n",
       "      <td>NaN</td>\n",
       "      <td>NaN</td>\n",
       "      <td>NaN</td>\n",
       "      <td>Y</td>\n",
       "    </tr>\n",
       "    <tr>\n",
       "      <th>1</th>\n",
       "      <td>1003000126</td>\n",
       "      <td>7517003643</td>\n",
       "      <td>I20130530000085</td>\n",
       "      <td>ARDALAN  ENKESHAFI</td>\n",
       "      <td>M</td>\n",
       "      <td>NaN</td>\n",
       "      <td>OTHER</td>\n",
       "      <td>1994</td>\n",
       "      <td>INTERNAL MEDICINE</td>\n",
       "      <td>NaN</td>\n",
       "      <td>NaN</td>\n",
       "      <td>NaN</td>\n",
       "      <td>NaN</td>\n",
       "      <td>NaN</td>\n",
       "      <td>EMERGENCY MEDICINE ASSOCIATES PA PC</td>\n",
       "      <td>8.022915e+09</td>\n",
       "      <td>182.0</td>\n",
       "      <td>1701 N GEORGE MASON DR</td>\n",
       "      <td>NaN</td>\n",
       "      <td>NaN</td>\n",
       "      <td>ARLINGTON</td>\n",
       "      <td>VA</td>\n",
       "      <td>222053610</td>\n",
       "      <td>7.035586e+09</td>\n",
       "      <td>490112</td>\n",
       "      <td>CJW MEDICAL CENTER</td>\n",
       "      <td>210028</td>\n",
       "      <td>MEDSTAR SAINT MARY'S HOSPITAL</td>\n",
       "      <td>NaN</td>\n",
       "      <td>NaN</td>\n",
       "      <td>NaN</td>\n",
       "      <td>NaN</td>\n",
       "      <td>NaN</td>\n",
       "      <td>NaN</td>\n",
       "      <td>Y</td>\n",
       "    </tr>\n",
       "    <tr>\n",
       "      <th>2</th>\n",
       "      <td>1003000126</td>\n",
       "      <td>7517003643</td>\n",
       "      <td>I20150824000105</td>\n",
       "      <td>ARDALAN  ENKESHAFI</td>\n",
       "      <td>M</td>\n",
       "      <td>NaN</td>\n",
       "      <td>OTHER</td>\n",
       "      <td>1994</td>\n",
       "      <td>INTERNAL MEDICINE</td>\n",
       "      <td>NaN</td>\n",
       "      <td>NaN</td>\n",
       "      <td>NaN</td>\n",
       "      <td>NaN</td>\n",
       "      <td>NaN</td>\n",
       "      <td>EMERGENCY MEDICINE ASSOCIATES PA PC</td>\n",
       "      <td>8.022915e+09</td>\n",
       "      <td>182.0</td>\n",
       "      <td>24440 STONE SPRINGS BLVD</td>\n",
       "      <td>NaN</td>\n",
       "      <td>NaN</td>\n",
       "      <td>DULLES</td>\n",
       "      <td>VA</td>\n",
       "      <td>201662247</td>\n",
       "      <td>5.713674e+09</td>\n",
       "      <td>490112</td>\n",
       "      <td>CJW MEDICAL CENTER</td>\n",
       "      <td>210028</td>\n",
       "      <td>MEDSTAR SAINT MARY'S HOSPITAL</td>\n",
       "      <td>NaN</td>\n",
       "      <td>NaN</td>\n",
       "      <td>NaN</td>\n",
       "      <td>NaN</td>\n",
       "      <td>NaN</td>\n",
       "      <td>NaN</td>\n",
       "      <td>Y</td>\n",
       "    </tr>\n",
       "    <tr>\n",
       "      <th>3</th>\n",
       "      <td>1003000126</td>\n",
       "      <td>7517003643</td>\n",
       "      <td>I20150824000105</td>\n",
       "      <td>ARDALAN  ENKESHAFI</td>\n",
       "      <td>M</td>\n",
       "      <td>NaN</td>\n",
       "      <td>OTHER</td>\n",
       "      <td>1994</td>\n",
       "      <td>INTERNAL MEDICINE</td>\n",
       "      <td>NaN</td>\n",
       "      <td>NaN</td>\n",
       "      <td>NaN</td>\n",
       "      <td>NaN</td>\n",
       "      <td>NaN</td>\n",
       "      <td>SOUTHEASTERN INTENSIVIST SERVICES PC</td>\n",
       "      <td>9.335152e+09</td>\n",
       "      <td>133.0</td>\n",
       "      <td>1401 JOHNSTON WILLIS DR</td>\n",
       "      <td>NaN</td>\n",
       "      <td>NaN</td>\n",
       "      <td>NORTH CHESTERFIELD</td>\n",
       "      <td>VA</td>\n",
       "      <td>232354730</td>\n",
       "      <td>8.044835e+09</td>\n",
       "      <td>490112</td>\n",
       "      <td>CJW MEDICAL CENTER</td>\n",
       "      <td>210028</td>\n",
       "      <td>MEDSTAR SAINT MARY'S HOSPITAL</td>\n",
       "      <td>NaN</td>\n",
       "      <td>NaN</td>\n",
       "      <td>NaN</td>\n",
       "      <td>NaN</td>\n",
       "      <td>NaN</td>\n",
       "      <td>NaN</td>\n",
       "      <td>Y</td>\n",
       "    </tr>\n",
       "    <tr>\n",
       "      <th>4</th>\n",
       "      <td>1003000126</td>\n",
       "      <td>7517003643</td>\n",
       "      <td>I20150824000105</td>\n",
       "      <td>ARDALAN  ENKESHAFI</td>\n",
       "      <td>M</td>\n",
       "      <td>NaN</td>\n",
       "      <td>OTHER</td>\n",
       "      <td>1994</td>\n",
       "      <td>INTERNAL MEDICINE</td>\n",
       "      <td>NaN</td>\n",
       "      <td>NaN</td>\n",
       "      <td>NaN</td>\n",
       "      <td>NaN</td>\n",
       "      <td>NaN</td>\n",
       "      <td>SOUTHEASTERN INTENSIVIST SERVICES PC</td>\n",
       "      <td>9.335152e+09</td>\n",
       "      <td>133.0</td>\n",
       "      <td>411 W RANDOLPH RD</td>\n",
       "      <td>NaN</td>\n",
       "      <td>NaN</td>\n",
       "      <td>HOPEWELL</td>\n",
       "      <td>VA</td>\n",
       "      <td>238602938</td>\n",
       "      <td>8.045412e+09</td>\n",
       "      <td>490112</td>\n",
       "      <td>CJW MEDICAL CENTER</td>\n",
       "      <td>210028</td>\n",
       "      <td>MEDSTAR SAINT MARY'S HOSPITAL</td>\n",
       "      <td>NaN</td>\n",
       "      <td>NaN</td>\n",
       "      <td>NaN</td>\n",
       "      <td>NaN</td>\n",
       "      <td>NaN</td>\n",
       "      <td>NaN</td>\n",
       "      <td>Y</td>\n",
       "    </tr>\n",
       "  </tbody>\n",
       "</table>\n",
       "</div>"
      ],
      "text/plain": [
       "          npi  ind_pac_id      ind_enrl_id              full_nm gndr cred  \\\n",
       "0  1003000126  7517003643  I20130530000085  ARDALAN  ENKESHAFI     M  NaN   \n",
       "1  1003000126  7517003643  I20130530000085  ARDALAN  ENKESHAFI     M  NaN   \n",
       "2  1003000126  7517003643  I20150824000105  ARDALAN  ENKESHAFI     M  NaN   \n",
       "3  1003000126  7517003643  I20150824000105  ARDALAN  ENKESHAFI     M  NaN   \n",
       "4  1003000126  7517003643  I20150824000105  ARDALAN  ENKESHAFI     M  NaN   \n",
       "\n",
       "  med_sch  grd_yr           pri_spec sec_spec_1 sec_spec_2 sec_spec_3  \\\n",
       "0   OTHER    1994  INTERNAL MEDICINE        NaN        NaN        NaN   \n",
       "1   OTHER    1994  INTERNAL MEDICINE        NaN        NaN        NaN   \n",
       "2   OTHER    1994  INTERNAL MEDICINE        NaN        NaN        NaN   \n",
       "3   OTHER    1994  INTERNAL MEDICINE        NaN        NaN        NaN   \n",
       "4   OTHER    1994  INTERNAL MEDICINE        NaN        NaN        NaN   \n",
       "\n",
       "  sec_spec_4 sec_spec_all                            org_lgl_nm    org_pac_id  \\\n",
       "0        NaN          NaN   EMERGENCY MEDICINE ASSOCIATES PA PC  8.022915e+09   \n",
       "1        NaN          NaN   EMERGENCY MEDICINE ASSOCIATES PA PC  8.022915e+09   \n",
       "2        NaN          NaN   EMERGENCY MEDICINE ASSOCIATES PA PC  8.022915e+09   \n",
       "3        NaN          NaN  SOUTHEASTERN INTENSIVIST SERVICES PC  9.335152e+09   \n",
       "4        NaN          NaN  SOUTHEASTERN INTENSIVIST SERVICES PC  9.335152e+09   \n",
       "\n",
       "   num_org_mem                  adr_ln_1 adr_ln_2 ln_2_sprs  \\\n",
       "0        182.0        1850 TOWN CTR PKWY      NaN       NaN   \n",
       "1        182.0    1701 N GEORGE MASON DR      NaN       NaN   \n",
       "2        182.0  24440 STONE SPRINGS BLVD      NaN       NaN   \n",
       "3        133.0   1401 JOHNSTON WILLIS DR      NaN       NaN   \n",
       "4        133.0         411 W RANDOLPH RD      NaN       NaN   \n",
       "\n",
       "                  cty  st        zip     phn_numbr hosp_afl_1  \\\n",
       "0              RESTON  VA  201903219  7.036899e+09     490112   \n",
       "1           ARLINGTON  VA  222053610  7.035586e+09     490112   \n",
       "2              DULLES  VA  201662247  5.713674e+09     490112   \n",
       "3  NORTH CHESTERFIELD  VA  232354730  8.044835e+09     490112   \n",
       "4            HOPEWELL  VA  238602938  8.045412e+09     490112   \n",
       "\n",
       "       hosp_afl_lbn_1 hosp_afl_2                 hosp_afl_lbn_2 hosp_afl_3  \\\n",
       "0  CJW MEDICAL CENTER     210028  MEDSTAR SAINT MARY'S HOSPITAL        NaN   \n",
       "1  CJW MEDICAL CENTER     210028  MEDSTAR SAINT MARY'S HOSPITAL        NaN   \n",
       "2  CJW MEDICAL CENTER     210028  MEDSTAR SAINT MARY'S HOSPITAL        NaN   \n",
       "3  CJW MEDICAL CENTER     210028  MEDSTAR SAINT MARY'S HOSPITAL        NaN   \n",
       "4  CJW MEDICAL CENTER     210028  MEDSTAR SAINT MARY'S HOSPITAL        NaN   \n",
       "\n",
       "  hosp_afl_lbn_3 hosp_afl_4 hosp_afl_lbn_4  hosp_afl_5 hosp_afl_lbn_5 assgn  \n",
       "0            NaN        NaN            NaN         NaN            NaN     Y  \n",
       "1            NaN        NaN            NaN         NaN            NaN     Y  \n",
       "2            NaN        NaN            NaN         NaN            NaN     Y  \n",
       "3            NaN        NaN            NaN         NaN            NaN     Y  \n",
       "4            NaN        NaN            NaN         NaN            NaN     Y  "
      ]
     },
     "execution_count": 181,
     "metadata": {},
     "output_type": "execute_result"
    }
   ],
   "source": [
    "data.head()"
   ]
  },
  {
   "cell_type": "code",
   "execution_count": 183,
   "metadata": {},
   "outputs": [],
   "source": [
    "data.to_csv('physician_compare_national-updates-1.csv', index=False)"
   ]
  }
 ],
 "metadata": {
  "kernelspec": {
   "display_name": "Python 3",
   "language": "python",
   "name": "python3"
  },
  "language_info": {
   "codemirror_mode": {
    "name": "ipython",
    "version": 3
   },
   "file_extension": ".py",
   "mimetype": "text/x-python",
   "name": "python",
   "nbconvert_exporter": "python",
   "pygments_lexer": "ipython3",
   "version": "3.7.3"
  }
 },
 "nbformat": 4,
 "nbformat_minor": 4
}
