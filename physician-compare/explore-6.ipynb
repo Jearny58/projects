{
 "cells": [
  {
   "cell_type": "markdown",
   "metadata": {},
   "source": [
    "# _Physician Compare National: Explore #5_\n",
    "\n",
    "This notebook is a continuation from of my analysis on the following data gathered via [Data.Medicare.gov](https://data.medicare.gov/Physician-Compare/Physician-Compare-National-Downloadable-File/mj5m-pzi6). It contains general information about individual eligible professionals (EPs) such as demographic information and Medicare quality program participation. This dataset is updated twice a month with the most current demographic information available at that time.\n",
    "\n",
    "# _Today's Goal_\n",
    "\n",
    "My primary goal is to intial cleaning of the data set. There are still multiple columns I have not looked at so further exploration into the unique values within each column, and any missing values, need to be assessed and dealth with.\n",
    "\n",
    "A secondary goal is to figure out a way to better format the zip codes column; further, I will look for a way to add information regarding county level data, whether that is through ZIP or FIPS codes. Time permitting, I could also begin initial trials of putting together a visual via `plot.ly`."
   ]
  },
  {
   "cell_type": "code",
   "execution_count": 1,
   "metadata": {},
   "outputs": [
    {
     "data": {
      "text/html": [
       "<div>\n",
       "<style scoped>\n",
       "    .dataframe tbody tr th:only-of-type {\n",
       "        vertical-align: middle;\n",
       "    }\n",
       "\n",
       "    .dataframe tbody tr th {\n",
       "        vertical-align: top;\n",
       "    }\n",
       "\n",
       "    .dataframe thead th {\n",
       "        text-align: right;\n",
       "    }\n",
       "</style>\n",
       "<table border=\"1\" class=\"dataframe\">\n",
       "  <thead>\n",
       "    <tr style=\"text-align: right;\">\n",
       "      <th></th>\n",
       "      <th>npi</th>\n",
       "      <th>ind_pac_id</th>\n",
       "      <th>ind_enrl_id</th>\n",
       "      <th>full_nm</th>\n",
       "      <th>gndr</th>\n",
       "      <th>cred</th>\n",
       "      <th>med_sch</th>\n",
       "      <th>grd_yr</th>\n",
       "      <th>pri_spec</th>\n",
       "      <th>sec_spec_1</th>\n",
       "      <th>sec_spec_2</th>\n",
       "      <th>sec_spec_3</th>\n",
       "      <th>sec_spec_4</th>\n",
       "      <th>sec_spec_all</th>\n",
       "      <th>org_lgl_nm</th>\n",
       "      <th>org_pac_id</th>\n",
       "      <th>num_org_mem</th>\n",
       "      <th>adr_ln_1</th>\n",
       "      <th>adr_ln_2</th>\n",
       "      <th>ln_2_sprs</th>\n",
       "      <th>cty</th>\n",
       "      <th>st</th>\n",
       "      <th>zip</th>\n",
       "      <th>phn_numbr</th>\n",
       "      <th>hosp_afl_1</th>\n",
       "      <th>hosp_afl_lbn_1</th>\n",
       "      <th>hosp_afl_2</th>\n",
       "      <th>hosp_afl_lbn_2</th>\n",
       "      <th>hosp_afl_3</th>\n",
       "      <th>hosp_afl_lbn_3</th>\n",
       "      <th>hosp_afl_4</th>\n",
       "      <th>hosp_afl_lbn_4</th>\n",
       "      <th>hosp_afl_5</th>\n",
       "      <th>hosp_afl_lbn_5</th>\n",
       "      <th>assgn</th>\n",
       "    </tr>\n",
       "  </thead>\n",
       "  <tbody>\n",
       "    <tr>\n",
       "      <th>0</th>\n",
       "      <td>1003000126</td>\n",
       "      <td>7517003643</td>\n",
       "      <td>I20130530000085</td>\n",
       "      <td>ARDALAN  ENKESHAFI</td>\n",
       "      <td>M</td>\n",
       "      <td>Not Listed</td>\n",
       "      <td>OTHER</td>\n",
       "      <td>1994</td>\n",
       "      <td>INTERNAL MEDICINE</td>\n",
       "      <td>None</td>\n",
       "      <td>None</td>\n",
       "      <td>None</td>\n",
       "      <td>None</td>\n",
       "      <td>None</td>\n",
       "      <td>EMERGENCY MEDICINE ASSOCIATES PA PC</td>\n",
       "      <td>8.022915e+09</td>\n",
       "      <td>182.0</td>\n",
       "      <td>1850 TOWN CTR PKWY</td>\n",
       "      <td>NaN</td>\n",
       "      <td>NaN</td>\n",
       "      <td>RESTON</td>\n",
       "      <td>VA</td>\n",
       "      <td>201903219</td>\n",
       "      <td>7.036899e+09</td>\n",
       "      <td>490112.0</td>\n",
       "      <td>CJW MEDICAL CENTER</td>\n",
       "      <td>210028.0</td>\n",
       "      <td>MEDSTAR SAINT MARY'S HOSPITAL</td>\n",
       "      <td>NaN</td>\n",
       "      <td>NaN</td>\n",
       "      <td>NaN</td>\n",
       "      <td>NaN</td>\n",
       "      <td>NaN</td>\n",
       "      <td>NaN</td>\n",
       "      <td>Y</td>\n",
       "    </tr>\n",
       "    <tr>\n",
       "      <th>1</th>\n",
       "      <td>1003000126</td>\n",
       "      <td>7517003643</td>\n",
       "      <td>I20130530000085</td>\n",
       "      <td>ARDALAN  ENKESHAFI</td>\n",
       "      <td>M</td>\n",
       "      <td>Not Listed</td>\n",
       "      <td>OTHER</td>\n",
       "      <td>1994</td>\n",
       "      <td>INTERNAL MEDICINE</td>\n",
       "      <td>None</td>\n",
       "      <td>None</td>\n",
       "      <td>None</td>\n",
       "      <td>None</td>\n",
       "      <td>None</td>\n",
       "      <td>EMERGENCY MEDICINE ASSOCIATES PA PC</td>\n",
       "      <td>8.022915e+09</td>\n",
       "      <td>182.0</td>\n",
       "      <td>1701 N GEORGE MASON DR</td>\n",
       "      <td>NaN</td>\n",
       "      <td>NaN</td>\n",
       "      <td>ARLINGTON</td>\n",
       "      <td>VA</td>\n",
       "      <td>222053610</td>\n",
       "      <td>7.035586e+09</td>\n",
       "      <td>490112.0</td>\n",
       "      <td>CJW MEDICAL CENTER</td>\n",
       "      <td>210028.0</td>\n",
       "      <td>MEDSTAR SAINT MARY'S HOSPITAL</td>\n",
       "      <td>NaN</td>\n",
       "      <td>NaN</td>\n",
       "      <td>NaN</td>\n",
       "      <td>NaN</td>\n",
       "      <td>NaN</td>\n",
       "      <td>NaN</td>\n",
       "      <td>Y</td>\n",
       "    </tr>\n",
       "    <tr>\n",
       "      <th>2</th>\n",
       "      <td>1003000126</td>\n",
       "      <td>7517003643</td>\n",
       "      <td>I20150824000105</td>\n",
       "      <td>ARDALAN  ENKESHAFI</td>\n",
       "      <td>M</td>\n",
       "      <td>Not Listed</td>\n",
       "      <td>OTHER</td>\n",
       "      <td>1994</td>\n",
       "      <td>INTERNAL MEDICINE</td>\n",
       "      <td>None</td>\n",
       "      <td>None</td>\n",
       "      <td>None</td>\n",
       "      <td>None</td>\n",
       "      <td>None</td>\n",
       "      <td>EMERGENCY MEDICINE ASSOCIATES PA PC</td>\n",
       "      <td>8.022915e+09</td>\n",
       "      <td>182.0</td>\n",
       "      <td>24440 STONE SPRINGS BLVD</td>\n",
       "      <td>NaN</td>\n",
       "      <td>NaN</td>\n",
       "      <td>DULLES</td>\n",
       "      <td>VA</td>\n",
       "      <td>201662247</td>\n",
       "      <td>5.713674e+09</td>\n",
       "      <td>490112.0</td>\n",
       "      <td>CJW MEDICAL CENTER</td>\n",
       "      <td>210028.0</td>\n",
       "      <td>MEDSTAR SAINT MARY'S HOSPITAL</td>\n",
       "      <td>NaN</td>\n",
       "      <td>NaN</td>\n",
       "      <td>NaN</td>\n",
       "      <td>NaN</td>\n",
       "      <td>NaN</td>\n",
       "      <td>NaN</td>\n",
       "      <td>Y</td>\n",
       "    </tr>\n",
       "    <tr>\n",
       "      <th>3</th>\n",
       "      <td>1003000126</td>\n",
       "      <td>7517003643</td>\n",
       "      <td>I20150824000105</td>\n",
       "      <td>ARDALAN  ENKESHAFI</td>\n",
       "      <td>M</td>\n",
       "      <td>Not Listed</td>\n",
       "      <td>OTHER</td>\n",
       "      <td>1994</td>\n",
       "      <td>INTERNAL MEDICINE</td>\n",
       "      <td>None</td>\n",
       "      <td>None</td>\n",
       "      <td>None</td>\n",
       "      <td>None</td>\n",
       "      <td>None</td>\n",
       "      <td>SOUTHEASTERN INTENSIVIST SERVICES PC</td>\n",
       "      <td>9.335152e+09</td>\n",
       "      <td>133.0</td>\n",
       "      <td>1401 JOHNSTON WILLIS DR</td>\n",
       "      <td>NaN</td>\n",
       "      <td>NaN</td>\n",
       "      <td>NORTH CHESTERFIELD</td>\n",
       "      <td>VA</td>\n",
       "      <td>232354730</td>\n",
       "      <td>8.044835e+09</td>\n",
       "      <td>490112.0</td>\n",
       "      <td>CJW MEDICAL CENTER</td>\n",
       "      <td>210028.0</td>\n",
       "      <td>MEDSTAR SAINT MARY'S HOSPITAL</td>\n",
       "      <td>NaN</td>\n",
       "      <td>NaN</td>\n",
       "      <td>NaN</td>\n",
       "      <td>NaN</td>\n",
       "      <td>NaN</td>\n",
       "      <td>NaN</td>\n",
       "      <td>Y</td>\n",
       "    </tr>\n",
       "    <tr>\n",
       "      <th>4</th>\n",
       "      <td>1003000126</td>\n",
       "      <td>7517003643</td>\n",
       "      <td>I20150824000105</td>\n",
       "      <td>ARDALAN  ENKESHAFI</td>\n",
       "      <td>M</td>\n",
       "      <td>Not Listed</td>\n",
       "      <td>OTHER</td>\n",
       "      <td>1994</td>\n",
       "      <td>INTERNAL MEDICINE</td>\n",
       "      <td>None</td>\n",
       "      <td>None</td>\n",
       "      <td>None</td>\n",
       "      <td>None</td>\n",
       "      <td>None</td>\n",
       "      <td>SOUTHEASTERN INTENSIVIST SERVICES PC</td>\n",
       "      <td>9.335152e+09</td>\n",
       "      <td>133.0</td>\n",
       "      <td>411 W RANDOLPH RD</td>\n",
       "      <td>NaN</td>\n",
       "      <td>NaN</td>\n",
       "      <td>HOPEWELL</td>\n",
       "      <td>VA</td>\n",
       "      <td>238602938</td>\n",
       "      <td>8.045412e+09</td>\n",
       "      <td>490112.0</td>\n",
       "      <td>CJW MEDICAL CENTER</td>\n",
       "      <td>210028.0</td>\n",
       "      <td>MEDSTAR SAINT MARY'S HOSPITAL</td>\n",
       "      <td>NaN</td>\n",
       "      <td>NaN</td>\n",
       "      <td>NaN</td>\n",
       "      <td>NaN</td>\n",
       "      <td>NaN</td>\n",
       "      <td>NaN</td>\n",
       "      <td>Y</td>\n",
       "    </tr>\n",
       "  </tbody>\n",
       "</table>\n",
       "</div>"
      ],
      "text/plain": [
       "          npi  ind_pac_id      ind_enrl_id              full_nm gndr  \\\n",
       "0  1003000126  7517003643  I20130530000085  ARDALAN  ENKESHAFI     M   \n",
       "1  1003000126  7517003643  I20130530000085  ARDALAN  ENKESHAFI     M   \n",
       "2  1003000126  7517003643  I20150824000105  ARDALAN  ENKESHAFI     M   \n",
       "3  1003000126  7517003643  I20150824000105  ARDALAN  ENKESHAFI     M   \n",
       "4  1003000126  7517003643  I20150824000105  ARDALAN  ENKESHAFI     M   \n",
       "\n",
       "         cred med_sch  grd_yr           pri_spec sec_spec_1 sec_spec_2  \\\n",
       "0  Not Listed   OTHER    1994  INTERNAL MEDICINE       None       None   \n",
       "1  Not Listed   OTHER    1994  INTERNAL MEDICINE       None       None   \n",
       "2  Not Listed   OTHER    1994  INTERNAL MEDICINE       None       None   \n",
       "3  Not Listed   OTHER    1994  INTERNAL MEDICINE       None       None   \n",
       "4  Not Listed   OTHER    1994  INTERNAL MEDICINE       None       None   \n",
       "\n",
       "  sec_spec_3 sec_spec_4 sec_spec_all                            org_lgl_nm  \\\n",
       "0       None       None         None   EMERGENCY MEDICINE ASSOCIATES PA PC   \n",
       "1       None       None         None   EMERGENCY MEDICINE ASSOCIATES PA PC   \n",
       "2       None       None         None   EMERGENCY MEDICINE ASSOCIATES PA PC   \n",
       "3       None       None         None  SOUTHEASTERN INTENSIVIST SERVICES PC   \n",
       "4       None       None         None  SOUTHEASTERN INTENSIVIST SERVICES PC   \n",
       "\n",
       "     org_pac_id  num_org_mem                  adr_ln_1 adr_ln_2 ln_2_sprs  \\\n",
       "0  8.022915e+09        182.0        1850 TOWN CTR PKWY      NaN       NaN   \n",
       "1  8.022915e+09        182.0    1701 N GEORGE MASON DR      NaN       NaN   \n",
       "2  8.022915e+09        182.0  24440 STONE SPRINGS BLVD      NaN       NaN   \n",
       "3  9.335152e+09        133.0   1401 JOHNSTON WILLIS DR      NaN       NaN   \n",
       "4  9.335152e+09        133.0         411 W RANDOLPH RD      NaN       NaN   \n",
       "\n",
       "                  cty  st        zip     phn_numbr hosp_afl_1  \\\n",
       "0              RESTON  VA  201903219  7.036899e+09   490112.0   \n",
       "1           ARLINGTON  VA  222053610  7.035586e+09   490112.0   \n",
       "2              DULLES  VA  201662247  5.713674e+09   490112.0   \n",
       "3  NORTH CHESTERFIELD  VA  232354730  8.044835e+09   490112.0   \n",
       "4            HOPEWELL  VA  238602938  8.045412e+09   490112.0   \n",
       "\n",
       "       hosp_afl_lbn_1 hosp_afl_2                 hosp_afl_lbn_2 hosp_afl_3  \\\n",
       "0  CJW MEDICAL CENTER   210028.0  MEDSTAR SAINT MARY'S HOSPITAL        NaN   \n",
       "1  CJW MEDICAL CENTER   210028.0  MEDSTAR SAINT MARY'S HOSPITAL        NaN   \n",
       "2  CJW MEDICAL CENTER   210028.0  MEDSTAR SAINT MARY'S HOSPITAL        NaN   \n",
       "3  CJW MEDICAL CENTER   210028.0  MEDSTAR SAINT MARY'S HOSPITAL        NaN   \n",
       "4  CJW MEDICAL CENTER   210028.0  MEDSTAR SAINT MARY'S HOSPITAL        NaN   \n",
       "\n",
       "  hosp_afl_lbn_3 hosp_afl_4 hosp_afl_lbn_4  hosp_afl_5 hosp_afl_lbn_5 assgn  \n",
       "0            NaN        NaN            NaN         NaN            NaN     Y  \n",
       "1            NaN        NaN            NaN         NaN            NaN     Y  \n",
       "2            NaN        NaN            NaN         NaN            NaN     Y  \n",
       "3            NaN        NaN            NaN         NaN            NaN     Y  \n",
       "4            NaN        NaN            NaN         NaN            NaN     Y  "
      ]
     },
     "execution_count": 1,
     "metadata": {},
     "output_type": "execute_result"
    }
   ],
   "source": [
    "# first thing we need to do --> load in the data\n",
    "# import pandas\n",
    "import pandas as pd\n",
    "pd.options.display.max_columns = None\n",
    "%load_ext autoreload\n",
    "%autoreload 2\n",
    "\n",
    "# import data from yesterday\n",
    "data = pd.read_csv('physician_compare_national-updates-1.csv', low_memory=False);\n",
    "\n",
    "# inspect the first five rows\n",
    "data.head()"
   ]
  },
  {
   "cell_type": "markdown",
   "metadata": {},
   "source": [
    "To ensure all the IDs and the `full_nm` column are good to go, let's check if there were any missing values in the first four columns. We can also take a look at the total number of unique IDs and names there are in the data set. "
   ]
  },
  {
   "cell_type": "code",
   "execution_count": 2,
   "metadata": {},
   "outputs": [
    {
     "data": {
      "text/plain": [
       "npi            0\n",
       "ind_pac_id     0\n",
       "ind_enrl_id    0\n",
       "full_nm        0\n",
       "dtype: int64"
      ]
     },
     "execution_count": 2,
     "metadata": {},
     "output_type": "execute_result"
    }
   ],
   "source": [
    "# check for missing values\n",
    "data[['npi', 'ind_pac_id', 'ind_enrl_id', 'full_nm']].isna().sum()"
   ]
  },
  {
   "cell_type": "code",
   "execution_count": 3,
   "metadata": {},
   "outputs": [
    {
     "name": "stdout",
     "output_type": "stream",
     "text": [
      "There are 1103330 unique values in the npi column.\n",
      "There are 1103330 unique values in the ind_pac_id column.\n",
      "There are 1147121 unique values in the ind_enrl_id column.\n",
      "There are 1072060 unique values in the full_nm column.\n"
     ]
    }
   ],
   "source": [
    "# no missing values! No let's take a look at how many unique values we have in each column\n",
    "for col in data[['npi', 'ind_pac_id', 'ind_enrl_id', 'full_nm']]:\n",
    "    unique = len(data[col].unique())\n",
    "    print('There are {} unique values in the {} column.'.format(unique, col))"
   ]
  },
  {
   "cell_type": "markdown",
   "metadata": {},
   "source": [
    "As we can see there is difference in the number of unique observations amongst the first four columns. The reason why this is important to look into further is that we need to use a column to group observations. In previous notebooks, we have seen that the same physician will have multiple rows, just take a look at the first five rows printed out above! \n",
    "\n",
    "However, since there are no missing values in any of these columns we can move onto cleaning the others."
   ]
  },
  {
   "cell_type": "code",
   "execution_count": 4,
   "metadata": {},
   "outputs": [
    {
     "name": "stdout",
     "output_type": "stream",
     "text": [
      "There are 0 missing values in the gender column\n"
     ]
    }
   ],
   "source": [
    "# take a look at how many missing values there are in gender column\n",
    "print('There are {} missing values in the gender column'.format(data['gndr'].isna().sum()))"
   ]
  },
  {
   "cell_type": "code",
   "execution_count": 5,
   "metadata": {},
   "outputs": [
    {
     "data": {
      "text/plain": [
       "M    55.359\n",
       "F    44.641\n",
       "Name: gndr, dtype: float64"
      ]
     },
     "execution_count": 5,
     "metadata": {},
     "output_type": "execute_result"
    }
   ],
   "source": [
    "# get the relative value counts in the gender column\n",
    "round((data['gndr'].value_counts(normalize=True)) * 100, 3)"
   ]
  },
  {
   "cell_type": "markdown",
   "metadata": {},
   "source": [
    "Our physician data set is approximately 55% male and ~45% female. With no missing values lets move onto the `cred` column."
   ]
  },
  {
   "cell_type": "code",
   "execution_count": 6,
   "metadata": {},
   "outputs": [
    {
     "data": {
      "text/plain": [
       "0"
      ]
     },
     "execution_count": 6,
     "metadata": {},
     "output_type": "execute_result"
    }
   ],
   "source": [
    "# take a look at the absolute number of missing values in credential column\n",
    "data['cred'].isna().sum()"
   ]
  },
  {
   "cell_type": "code",
   "execution_count": 7,
   "metadata": {},
   "outputs": [
    {
     "name": "stdout",
     "output_type": "stream",
     "text": [
      "Approximately 0.0% of the cred column is missing.\n"
     ]
    }
   ],
   "source": [
    "# what percentage of the cred column is missing values?\n",
    "print('Approximately {}% of the cred column is missing.'.format(round((data['cred'].isna().mean()) * 100, 3)))"
   ]
  },
  {
   "cell_type": "code",
   "execution_count": 8,
   "metadata": {},
   "outputs": [
    {
     "name": "stdout",
     "output_type": "stream",
     "text": [
      "There are 22 unique values in the credential column.\n"
     ]
    }
   ],
   "source": [
    "# how many unique values are there in the cred column?\n",
    "print('There are {} unique values in the credential column.'.format(len(data['cred'].unique())))"
   ]
  },
  {
   "cell_type": "code",
   "execution_count": 9,
   "metadata": {},
   "outputs": [
    {
     "name": "stdout",
     "output_type": "stream",
     "text": [
      "Not Listed\n",
      "PA\n",
      "PT\n",
      "CNS\n",
      "MD\n",
      "CSW\n",
      "CNA\n",
      "DC\n",
      "NP\n",
      "OD\n",
      "CP\n",
      "DO\n",
      "CNM\n",
      "AU\n",
      "OT\n",
      "MNT\n",
      "DPM\n",
      "AA\n",
      "DDS\n",
      "PSY\n",
      "DDM\n",
      "SCW\n"
     ]
    }
   ],
   "source": [
    "# what are the unique values in the credential column?\n",
    "for cred in data['cred'].unique():\n",
    "    print(cred)"
   ]
  },
  {
   "cell_type": "markdown",
   "metadata": {},
   "source": [
    "Above are all the unique values in the credential column. The first one is `nan` which means '_not a number_' and is something we'll address in a little bit. There is two more issues: the first being that we need to do some research about what each of these mean; secondly, there appears to be a leading whitespcate in some of the values. \n",
    "\n",
    "Before we start our research, let's go ahead and replace `NaN` but how do we want to approach this? We don't want to replace it with `None` as being a medical professional virtually always requires some type of certification to ensure that particular individual has the requisite skills to care for patients. However, it is not plausible to research each and every physician to determine what school they graduated from. \n",
    "\n",
    "However, before we go any further lets check out the `grd_yr` column to see if there are any missing values. Essentially, `grd_yr` can serve as a proxy for `cred` in that we can firt confirm that an individual graduated from a program in the first place. If there are no missing values, this represents the case that all graduated from somewhere, we just don't know where that somewhere is. "
   ]
  },
  {
   "cell_type": "code",
   "execution_count": 10,
   "metadata": {},
   "outputs": [
    {
     "name": "stdout",
     "output_type": "stream",
     "text": [
      "There are 0 missing values in the graduation year column.\n"
     ]
    }
   ],
   "source": [
    "# check grad_yr for missing values\n",
    "print('There are {} missing values in the graduation year column.'.format(data['grd_yr'].isna().sum()))"
   ]
  },
  {
   "cell_type": "code",
   "execution_count": 11,
   "metadata": {},
   "outputs": [
    {
     "name": "stdout",
     "output_type": "stream",
     "text": [
      "0\n",
      "1944\n",
      "1945\n",
      "1947\n",
      "1948\n",
      "1949\n",
      "1950\n",
      "1951\n",
      "1952\n",
      "1953\n",
      "1954\n",
      "1955\n",
      "1956\n",
      "1957\n",
      "1958\n",
      "1959\n",
      "1960\n",
      "1961\n",
      "1962\n",
      "1963\n",
      "1964\n",
      "1965\n",
      "1966\n",
      "1967\n",
      "1968\n",
      "1969\n",
      "1970\n",
      "1971\n",
      "1972\n",
      "1973\n",
      "1974\n",
      "1975\n",
      "1976\n",
      "1977\n",
      "1978\n",
      "1979\n",
      "1980\n",
      "1981\n",
      "1982\n",
      "1983\n",
      "1984\n",
      "1985\n",
      "1986\n",
      "1987\n",
      "1988\n",
      "1989\n",
      "1990\n",
      "1991\n",
      "1992\n",
      "1993\n",
      "1994\n",
      "1995\n",
      "1996\n",
      "1997\n",
      "1998\n",
      "1999\n",
      "2000\n",
      "2001\n",
      "2002\n",
      "2003\n",
      "2004\n",
      "2005\n",
      "2006\n",
      "2007\n",
      "2008\n",
      "2009\n",
      "2010\n",
      "2011\n",
      "2012\n",
      "2013\n",
      "2014\n",
      "2015\n",
      "2016\n",
      "2017\n",
      "2018\n",
      "2019\n",
      "2020\n"
     ]
    }
   ],
   "source": [
    "# print out the unique graduation years\n",
    "for year in sorted(data['grd_yr'].unique()):\n",
    "    print(year)"
   ]
  },
  {
   "cell_type": "markdown",
   "metadata": {},
   "source": [
    "A-ha! Despite having no missing values it looks like there are values of `0` in the column as indicated by a print out of all the unique values! Now I remember that a few notebooks back I looked into the `grd_yr` column and reassigned the missing values to `0`. This was done in an attempt to preserve any other information that might be useful in that particular observation. \n",
    "\n",
    "Let's take a quick look and see how many observations have a value of `0` for `grd_yr`."
   ]
  },
  {
   "cell_type": "code",
   "execution_count": 12,
   "metadata": {},
   "outputs": [
    {
     "name": "stdout",
     "output_type": "stream",
     "text": [
      "There are 5199 observations in the grd_yr column that have a value of 0.\n"
     ]
    }
   ],
   "source": [
    "# how many observations have a value of 0 in grd_yr?\n",
    "zero = len(data[data['grd_yr'] == 0])\n",
    "print('There are {} observations in the grd_yr column that have a value of 0.'.format(zero))"
   ]
  },
  {
   "cell_type": "code",
   "execution_count": 13,
   "metadata": {},
   "outputs": [
    {
     "name": "stdout",
     "output_type": "stream",
     "text": [
      "There are 0 missing values in the credential column.\n"
     ]
    }
   ],
   "source": [
    "# as a reminder, how many observations are missing in the cred column?\n",
    "print('There are {} missing values in the credential column.'.format(data['cred'].isna().sum()))"
   ]
  },
  {
   "cell_type": "markdown",
   "metadata": {},
   "source": [
    "As we can see, there is a disjoint between the graduation date and credential data. The vast majority of observations seem to have a graduation year, with only _~0.24%_ having a missing value (i.e., corresponding to a value of `0`. In comparison to the `cred` column, missing values comprise _~68.98%_ of observations. \n",
    "\n",
    "What is this telling us? That virtually all the physicians graduated from _some institution_ but we aren't sure exactly which institution that is. Now, what can we do? It is highly unfeasible to go through every observation, look up the physician's name, and then determine what credential they graduated with. While it would provide a complete picture of the data, the time one would have to invest is significant, so that throws this option out of the window. \n",
    "\n",
    "What can we do? Something similar to what we did in the `grd_yr` column when we labeled the missing values as `0`. In this particular case, though we can substitute something like `not listed` seeing as the data type is string-oriented. That way we can keep the other information for that physician; plus if we take a look at the `pri_spec` column, which gives us the primary specialty of that physician, we can perhaps get a rough inference of what that particular physician may have a credential in. "
   ]
  },
  {
   "cell_type": "code",
   "execution_count": 14,
   "metadata": {},
   "outputs": [
    {
     "data": {
      "text/plain": [
       "0    Not Listed\n",
       "1    Not Listed\n",
       "2    Not Listed\n",
       "3    Not Listed\n",
       "4    Not Listed\n",
       "Name: cred, dtype: object"
      ]
     },
     "execution_count": 14,
     "metadata": {},
     "output_type": "execute_result"
    }
   ],
   "source": [
    "# example of how to fill na's \n",
    "data['cred'].fillna('Not Listed')[:5]"
   ]
  },
  {
   "cell_type": "code",
   "execution_count": 15,
   "metadata": {},
   "outputs": [
    {
     "data": {
      "text/plain": [
       "0    Not Listed\n",
       "1    Not Listed\n",
       "2    Not Listed\n",
       "3    Not Listed\n",
       "4    Not Listed\n",
       "Name: cred, dtype: object"
      ]
     },
     "execution_count": 15,
     "metadata": {},
     "output_type": "execute_result"
    }
   ],
   "source": [
    "# lets go ahead and apply the above to the credential column\n",
    "data['cred'] = data['cred'].fillna('Not Listed'); data['cred'][:5]"
   ]
  },
  {
   "cell_type": "code",
   "execution_count": 16,
   "metadata": {},
   "outputs": [
    {
     "data": {
      "text/html": [
       "<div>\n",
       "<style scoped>\n",
       "    .dataframe tbody tr th:only-of-type {\n",
       "        vertical-align: middle;\n",
       "    }\n",
       "\n",
       "    .dataframe tbody tr th {\n",
       "        vertical-align: top;\n",
       "    }\n",
       "\n",
       "    .dataframe thead th {\n",
       "        text-align: right;\n",
       "    }\n",
       "</style>\n",
       "<table border=\"1\" class=\"dataframe\">\n",
       "  <thead>\n",
       "    <tr style=\"text-align: right;\">\n",
       "      <th></th>\n",
       "      <th>npi</th>\n",
       "      <th>ind_pac_id</th>\n",
       "      <th>ind_enrl_id</th>\n",
       "      <th>full_nm</th>\n",
       "      <th>gndr</th>\n",
       "      <th>cred</th>\n",
       "      <th>med_sch</th>\n",
       "      <th>grd_yr</th>\n",
       "      <th>pri_spec</th>\n",
       "      <th>sec_spec_1</th>\n",
       "      <th>sec_spec_2</th>\n",
       "      <th>sec_spec_3</th>\n",
       "      <th>sec_spec_4</th>\n",
       "      <th>sec_spec_all</th>\n",
       "      <th>org_lgl_nm</th>\n",
       "      <th>org_pac_id</th>\n",
       "      <th>num_org_mem</th>\n",
       "      <th>adr_ln_1</th>\n",
       "      <th>adr_ln_2</th>\n",
       "      <th>ln_2_sprs</th>\n",
       "      <th>cty</th>\n",
       "      <th>st</th>\n",
       "      <th>zip</th>\n",
       "      <th>phn_numbr</th>\n",
       "      <th>hosp_afl_1</th>\n",
       "      <th>hosp_afl_lbn_1</th>\n",
       "      <th>hosp_afl_2</th>\n",
       "      <th>hosp_afl_lbn_2</th>\n",
       "      <th>hosp_afl_3</th>\n",
       "      <th>hosp_afl_lbn_3</th>\n",
       "      <th>hosp_afl_4</th>\n",
       "      <th>hosp_afl_lbn_4</th>\n",
       "      <th>hosp_afl_5</th>\n",
       "      <th>hosp_afl_lbn_5</th>\n",
       "      <th>assgn</th>\n",
       "    </tr>\n",
       "  </thead>\n",
       "  <tbody>\n",
       "    <tr>\n",
       "      <th>0</th>\n",
       "      <td>1003000126</td>\n",
       "      <td>7517003643</td>\n",
       "      <td>I20130530000085</td>\n",
       "      <td>ARDALAN  ENKESHAFI</td>\n",
       "      <td>M</td>\n",
       "      <td>Not Listed</td>\n",
       "      <td>OTHER</td>\n",
       "      <td>1994</td>\n",
       "      <td>INTERNAL MEDICINE</td>\n",
       "      <td>None</td>\n",
       "      <td>None</td>\n",
       "      <td>None</td>\n",
       "      <td>None</td>\n",
       "      <td>None</td>\n",
       "      <td>EMERGENCY MEDICINE ASSOCIATES PA PC</td>\n",
       "      <td>8.022915e+09</td>\n",
       "      <td>182.0</td>\n",
       "      <td>1850 TOWN CTR PKWY</td>\n",
       "      <td>NaN</td>\n",
       "      <td>NaN</td>\n",
       "      <td>RESTON</td>\n",
       "      <td>VA</td>\n",
       "      <td>201903219</td>\n",
       "      <td>7.036899e+09</td>\n",
       "      <td>490112.0</td>\n",
       "      <td>CJW MEDICAL CENTER</td>\n",
       "      <td>210028.0</td>\n",
       "      <td>MEDSTAR SAINT MARY'S HOSPITAL</td>\n",
       "      <td>NaN</td>\n",
       "      <td>NaN</td>\n",
       "      <td>NaN</td>\n",
       "      <td>NaN</td>\n",
       "      <td>NaN</td>\n",
       "      <td>NaN</td>\n",
       "      <td>Y</td>\n",
       "    </tr>\n",
       "    <tr>\n",
       "      <th>1</th>\n",
       "      <td>1003000126</td>\n",
       "      <td>7517003643</td>\n",
       "      <td>I20130530000085</td>\n",
       "      <td>ARDALAN  ENKESHAFI</td>\n",
       "      <td>M</td>\n",
       "      <td>Not Listed</td>\n",
       "      <td>OTHER</td>\n",
       "      <td>1994</td>\n",
       "      <td>INTERNAL MEDICINE</td>\n",
       "      <td>None</td>\n",
       "      <td>None</td>\n",
       "      <td>None</td>\n",
       "      <td>None</td>\n",
       "      <td>None</td>\n",
       "      <td>EMERGENCY MEDICINE ASSOCIATES PA PC</td>\n",
       "      <td>8.022915e+09</td>\n",
       "      <td>182.0</td>\n",
       "      <td>1701 N GEORGE MASON DR</td>\n",
       "      <td>NaN</td>\n",
       "      <td>NaN</td>\n",
       "      <td>ARLINGTON</td>\n",
       "      <td>VA</td>\n",
       "      <td>222053610</td>\n",
       "      <td>7.035586e+09</td>\n",
       "      <td>490112.0</td>\n",
       "      <td>CJW MEDICAL CENTER</td>\n",
       "      <td>210028.0</td>\n",
       "      <td>MEDSTAR SAINT MARY'S HOSPITAL</td>\n",
       "      <td>NaN</td>\n",
       "      <td>NaN</td>\n",
       "      <td>NaN</td>\n",
       "      <td>NaN</td>\n",
       "      <td>NaN</td>\n",
       "      <td>NaN</td>\n",
       "      <td>Y</td>\n",
       "    </tr>\n",
       "    <tr>\n",
       "      <th>2</th>\n",
       "      <td>1003000126</td>\n",
       "      <td>7517003643</td>\n",
       "      <td>I20150824000105</td>\n",
       "      <td>ARDALAN  ENKESHAFI</td>\n",
       "      <td>M</td>\n",
       "      <td>Not Listed</td>\n",
       "      <td>OTHER</td>\n",
       "      <td>1994</td>\n",
       "      <td>INTERNAL MEDICINE</td>\n",
       "      <td>None</td>\n",
       "      <td>None</td>\n",
       "      <td>None</td>\n",
       "      <td>None</td>\n",
       "      <td>None</td>\n",
       "      <td>EMERGENCY MEDICINE ASSOCIATES PA PC</td>\n",
       "      <td>8.022915e+09</td>\n",
       "      <td>182.0</td>\n",
       "      <td>24440 STONE SPRINGS BLVD</td>\n",
       "      <td>NaN</td>\n",
       "      <td>NaN</td>\n",
       "      <td>DULLES</td>\n",
       "      <td>VA</td>\n",
       "      <td>201662247</td>\n",
       "      <td>5.713674e+09</td>\n",
       "      <td>490112.0</td>\n",
       "      <td>CJW MEDICAL CENTER</td>\n",
       "      <td>210028.0</td>\n",
       "      <td>MEDSTAR SAINT MARY'S HOSPITAL</td>\n",
       "      <td>NaN</td>\n",
       "      <td>NaN</td>\n",
       "      <td>NaN</td>\n",
       "      <td>NaN</td>\n",
       "      <td>NaN</td>\n",
       "      <td>NaN</td>\n",
       "      <td>Y</td>\n",
       "    </tr>\n",
       "    <tr>\n",
       "      <th>3</th>\n",
       "      <td>1003000126</td>\n",
       "      <td>7517003643</td>\n",
       "      <td>I20150824000105</td>\n",
       "      <td>ARDALAN  ENKESHAFI</td>\n",
       "      <td>M</td>\n",
       "      <td>Not Listed</td>\n",
       "      <td>OTHER</td>\n",
       "      <td>1994</td>\n",
       "      <td>INTERNAL MEDICINE</td>\n",
       "      <td>None</td>\n",
       "      <td>None</td>\n",
       "      <td>None</td>\n",
       "      <td>None</td>\n",
       "      <td>None</td>\n",
       "      <td>SOUTHEASTERN INTENSIVIST SERVICES PC</td>\n",
       "      <td>9.335152e+09</td>\n",
       "      <td>133.0</td>\n",
       "      <td>1401 JOHNSTON WILLIS DR</td>\n",
       "      <td>NaN</td>\n",
       "      <td>NaN</td>\n",
       "      <td>NORTH CHESTERFIELD</td>\n",
       "      <td>VA</td>\n",
       "      <td>232354730</td>\n",
       "      <td>8.044835e+09</td>\n",
       "      <td>490112.0</td>\n",
       "      <td>CJW MEDICAL CENTER</td>\n",
       "      <td>210028.0</td>\n",
       "      <td>MEDSTAR SAINT MARY'S HOSPITAL</td>\n",
       "      <td>NaN</td>\n",
       "      <td>NaN</td>\n",
       "      <td>NaN</td>\n",
       "      <td>NaN</td>\n",
       "      <td>NaN</td>\n",
       "      <td>NaN</td>\n",
       "      <td>Y</td>\n",
       "    </tr>\n",
       "    <tr>\n",
       "      <th>4</th>\n",
       "      <td>1003000126</td>\n",
       "      <td>7517003643</td>\n",
       "      <td>I20150824000105</td>\n",
       "      <td>ARDALAN  ENKESHAFI</td>\n",
       "      <td>M</td>\n",
       "      <td>Not Listed</td>\n",
       "      <td>OTHER</td>\n",
       "      <td>1994</td>\n",
       "      <td>INTERNAL MEDICINE</td>\n",
       "      <td>None</td>\n",
       "      <td>None</td>\n",
       "      <td>None</td>\n",
       "      <td>None</td>\n",
       "      <td>None</td>\n",
       "      <td>SOUTHEASTERN INTENSIVIST SERVICES PC</td>\n",
       "      <td>9.335152e+09</td>\n",
       "      <td>133.0</td>\n",
       "      <td>411 W RANDOLPH RD</td>\n",
       "      <td>NaN</td>\n",
       "      <td>NaN</td>\n",
       "      <td>HOPEWELL</td>\n",
       "      <td>VA</td>\n",
       "      <td>238602938</td>\n",
       "      <td>8.045412e+09</td>\n",
       "      <td>490112.0</td>\n",
       "      <td>CJW MEDICAL CENTER</td>\n",
       "      <td>210028.0</td>\n",
       "      <td>MEDSTAR SAINT MARY'S HOSPITAL</td>\n",
       "      <td>NaN</td>\n",
       "      <td>NaN</td>\n",
       "      <td>NaN</td>\n",
       "      <td>NaN</td>\n",
       "      <td>NaN</td>\n",
       "      <td>NaN</td>\n",
       "      <td>Y</td>\n",
       "    </tr>\n",
       "  </tbody>\n",
       "</table>\n",
       "</div>"
      ],
      "text/plain": [
       "          npi  ind_pac_id      ind_enrl_id              full_nm gndr  \\\n",
       "0  1003000126  7517003643  I20130530000085  ARDALAN  ENKESHAFI     M   \n",
       "1  1003000126  7517003643  I20130530000085  ARDALAN  ENKESHAFI     M   \n",
       "2  1003000126  7517003643  I20150824000105  ARDALAN  ENKESHAFI     M   \n",
       "3  1003000126  7517003643  I20150824000105  ARDALAN  ENKESHAFI     M   \n",
       "4  1003000126  7517003643  I20150824000105  ARDALAN  ENKESHAFI     M   \n",
       "\n",
       "         cred med_sch  grd_yr           pri_spec sec_spec_1 sec_spec_2  \\\n",
       "0  Not Listed   OTHER    1994  INTERNAL MEDICINE       None       None   \n",
       "1  Not Listed   OTHER    1994  INTERNAL MEDICINE       None       None   \n",
       "2  Not Listed   OTHER    1994  INTERNAL MEDICINE       None       None   \n",
       "3  Not Listed   OTHER    1994  INTERNAL MEDICINE       None       None   \n",
       "4  Not Listed   OTHER    1994  INTERNAL MEDICINE       None       None   \n",
       "\n",
       "  sec_spec_3 sec_spec_4 sec_spec_all                            org_lgl_nm  \\\n",
       "0       None       None         None   EMERGENCY MEDICINE ASSOCIATES PA PC   \n",
       "1       None       None         None   EMERGENCY MEDICINE ASSOCIATES PA PC   \n",
       "2       None       None         None   EMERGENCY MEDICINE ASSOCIATES PA PC   \n",
       "3       None       None         None  SOUTHEASTERN INTENSIVIST SERVICES PC   \n",
       "4       None       None         None  SOUTHEASTERN INTENSIVIST SERVICES PC   \n",
       "\n",
       "     org_pac_id  num_org_mem                  adr_ln_1 adr_ln_2 ln_2_sprs  \\\n",
       "0  8.022915e+09        182.0        1850 TOWN CTR PKWY      NaN       NaN   \n",
       "1  8.022915e+09        182.0    1701 N GEORGE MASON DR      NaN       NaN   \n",
       "2  8.022915e+09        182.0  24440 STONE SPRINGS BLVD      NaN       NaN   \n",
       "3  9.335152e+09        133.0   1401 JOHNSTON WILLIS DR      NaN       NaN   \n",
       "4  9.335152e+09        133.0         411 W RANDOLPH RD      NaN       NaN   \n",
       "\n",
       "                  cty  st        zip     phn_numbr hosp_afl_1  \\\n",
       "0              RESTON  VA  201903219  7.036899e+09   490112.0   \n",
       "1           ARLINGTON  VA  222053610  7.035586e+09   490112.0   \n",
       "2              DULLES  VA  201662247  5.713674e+09   490112.0   \n",
       "3  NORTH CHESTERFIELD  VA  232354730  8.044835e+09   490112.0   \n",
       "4            HOPEWELL  VA  238602938  8.045412e+09   490112.0   \n",
       "\n",
       "       hosp_afl_lbn_1 hosp_afl_2                 hosp_afl_lbn_2 hosp_afl_3  \\\n",
       "0  CJW MEDICAL CENTER   210028.0  MEDSTAR SAINT MARY'S HOSPITAL        NaN   \n",
       "1  CJW MEDICAL CENTER   210028.0  MEDSTAR SAINT MARY'S HOSPITAL        NaN   \n",
       "2  CJW MEDICAL CENTER   210028.0  MEDSTAR SAINT MARY'S HOSPITAL        NaN   \n",
       "3  CJW MEDICAL CENTER   210028.0  MEDSTAR SAINT MARY'S HOSPITAL        NaN   \n",
       "4  CJW MEDICAL CENTER   210028.0  MEDSTAR SAINT MARY'S HOSPITAL        NaN   \n",
       "\n",
       "  hosp_afl_lbn_3 hosp_afl_4 hosp_afl_lbn_4  hosp_afl_5 hosp_afl_lbn_5 assgn  \n",
       "0            NaN        NaN            NaN         NaN            NaN     Y  \n",
       "1            NaN        NaN            NaN         NaN            NaN     Y  \n",
       "2            NaN        NaN            NaN         NaN            NaN     Y  \n",
       "3            NaN        NaN            NaN         NaN            NaN     Y  \n",
       "4            NaN        NaN            NaN         NaN            NaN     Y  "
      ]
     },
     "execution_count": 16,
     "metadata": {},
     "output_type": "execute_result"
    }
   ],
   "source": [
    "data.head()"
   ]
  },
  {
   "cell_type": "markdown",
   "metadata": {},
   "source": [
    "Columns `npi` through `grd_yr` have been addressed; now, let us take a look at the `pri_spec` column."
   ]
  },
  {
   "cell_type": "code",
   "execution_count": 17,
   "metadata": {},
   "outputs": [
    {
     "name": "stdout",
     "output_type": "stream",
     "text": [
      "There are 0 missing values in the primary specialty column.\n"
     ]
    }
   ],
   "source": [
    "# how many missing values are there in the pri_spec column?\n",
    "print('There are {} missing values in the primary specialty column.'.format(data['pri_spec'].isna().sum()))"
   ]
  },
  {
   "cell_type": "code",
   "execution_count": 18,
   "metadata": {},
   "outputs": [
    {
     "name": "stdout",
     "output_type": "stream",
     "text": [
      "Number of unique values in primary specialty column: 83\n"
     ]
    }
   ],
   "source": [
    "# how many unique values are there in the pri_spec column?\n",
    "print('Number of unique values in primary specialty column: {}'.format(len(data['pri_spec'].unique())))"
   ]
  },
  {
   "cell_type": "markdown",
   "metadata": {},
   "source": [
    "With 83 unique values, we have quite a few specialty's listed. Lets print out the unique values and then get the value counts for each."
   ]
  },
  {
   "cell_type": "code",
   "execution_count": 19,
   "metadata": {},
   "outputs": [
    {
     "name": "stdout",
     "output_type": "stream",
     "text": [
      "ADDICTION MEDICINE\n",
      "ADVANCED HEART FAILURE AND TRANSPLANT CARDIOLOGY\n",
      "ALLERGY/IMMUNOLOGY\n",
      "ANESTHESIOLOGY\n",
      "ANESTHESIOLOGY ASSISTANT\n",
      "CARDIAC ELECTROPHYSIOLOGY\n",
      "CARDIAC SURGERY\n",
      "CARDIOVASCULAR DISEASE (CARDIOLOGY)\n",
      "CERTIFIED CLINICAL NURSE SPECIALIST (CNS)\n",
      "CERTIFIED NURSE MIDWIFE (CNM)\n",
      "CERTIFIED REGISTERED NURSE ANESTHETIST (CRNA)\n",
      "CHIROPRACTIC\n",
      "CLINICAL SOCIAL WORKER\n",
      "COLORECTAL SURGERY (PROCTOLOGY)\n",
      "CRITICAL CARE (INTENSIVISTS)\n",
      "DENTIST\n",
      "DERMATOLOGY\n",
      "DIAGNOSTIC RADIOLOGY\n",
      "EMERGENCY MEDICINE\n",
      "ENDOCRINOLOGY\n",
      "FAMILY MEDICINE\n",
      "GASTROENTEROLOGY\n",
      "GENERAL PRACTICE\n",
      "GENERAL SURGERY\n",
      "GERIATRIC MEDICINE\n",
      "GERIATRIC PSYCHIATRY\n",
      "GYNECOLOGICAL ONCOLOGY\n",
      "HAND SURGERY\n",
      "HEMATOLOGY\n",
      "HEMATOLOGY/ONCOLOGY\n",
      "HEMATOPOIETIC CELL TRANSPLANTATION AND CELLULAR TH\n",
      "HOSPICE/PALLIATIVE CARE\n",
      "HOSPITALIST\n",
      "INFECTIOUS DISEASE\n",
      "INTERNAL MEDICINE\n",
      "INTERVENTIONAL CARDIOLOGY\n",
      "INTERVENTIONAL PAIN MANAGEMENT\n",
      "INTERVENTIONAL RADIOLOGY\n",
      "MAXILLOFACIAL SURGERY\n",
      "MEDICAL GENETICS AND GENOMICS\n",
      "MEDICAL ONCOLOGY\n",
      "MEDICAL TOXICOLOGY\n",
      "NEPHROLOGY\n",
      "NEUROLOGY\n",
      "NEUROPSYCHIATRY\n",
      "NEUROSURGERY\n",
      "NUCLEAR MEDICINE\n",
      "NURSE PRACTITIONER\n",
      "OBSTETRICS/GYNECOLOGY\n",
      "OCCUPATIONAL THERAPY\n",
      "OPHTHALMOLOGY\n",
      "OPTOMETRY\n",
      "ORAL SURGERY\n",
      "ORTHOPEDIC SURGERY\n",
      "OSTEOPATHIC MANIPULATIVE MEDICINE\n",
      "OTOLARYNGOLOGY\n",
      "PAIN MANAGEMENT\n",
      "PATHOLOGY\n",
      "PEDIATRIC MEDICINE\n",
      "PERIPHERAL VASCULAR DISEASE\n",
      "PHYSICAL MEDICINE AND REHABILITATION\n",
      "PHYSICAL THERAPY\n",
      "PHYSICIAN ASSISTANT\n",
      "PLASTIC AND RECONSTRUCTIVE SURGERY\n",
      "PODIATRY\n",
      "PREVENTATIVE MEDICINE\n",
      "PSYCHIATRY\n",
      "PSYCHOLOGIST, CLINICAL\n",
      "PULMONARY DISEASE\n",
      "QUALIFIED AUDIOLOGIST\n",
      "QUALIFIED SPEECH LANGUAGE PATHOLOGIST\n",
      "RADIATION ONCOLOGY\n",
      "REGISTERED DIETITIAN OR NUTRITION PROFESSIONAL\n",
      "RHEUMATOLOGY\n",
      "SLEEP MEDICINE\n",
      "SPORTS MEDICINE\n",
      "SURGICAL ONCOLOGY\n",
      "THORACIC SURGERY\n",
      "UNDEFINED NON-PHYSICIAN TYPE (SPECIFY)\n",
      "UNDEFINED PHYSICIAN TYPE (SPECIFY)\n",
      "UNDERSEA AND HYPERBARIC MEDICINE\n",
      "UROLOGY\n",
      "VASCULAR SURGERY\n"
     ]
    }
   ],
   "source": [
    "# print out the unqiue specialties in the pri_spec column, sorted\n",
    "for specialty in sorted(data['pri_spec'].unique()):\n",
    "    print(specialty)"
   ]
  },
  {
   "cell_type": "markdown",
   "metadata": {},
   "source": [
    "Nothing too out of the ordinary with the specialties listed above. However, there is something to perhaps explore a little further. Near the end there are two values - `UNDEFINED NON-PHYSICIAN TYPE (SPECIFY)` & `UNDEFINED PHYSICIAN TYPE (SPECIFY)` that are essentially flagging unknown values. Let's take a quick detour and explore these specific values before going any further. "
   ]
  },
  {
   "cell_type": "code",
   "execution_count": 20,
   "metadata": {},
   "outputs": [
    {
     "data": {
      "text/plain": [
       "18"
      ]
     },
     "execution_count": 20,
     "metadata": {},
     "output_type": "execute_result"
    }
   ],
   "source": [
    "# how many values in pri_spec column are of the undefined non-physician type?\n",
    "len(data[data['pri_spec'] == 'UNDEFINED NON-PHYSICIAN TYPE (SPECIFY)'])"
   ]
  },
  {
   "cell_type": "code",
   "execution_count": 21,
   "metadata": {},
   "outputs": [
    {
     "data": {
      "text/plain": [
       "612"
      ]
     },
     "execution_count": 21,
     "metadata": {},
     "output_type": "execute_result"
    }
   ],
   "source": [
    "# how many values in pri_spec column are of the undefined physician type?\n",
    "len(data[data['pri_spec'] == 'UNDEFINED PHYSICIAN TYPE (SPECIFY)'])"
   ]
  },
  {
   "cell_type": "markdown",
   "metadata": {},
   "source": [
    "It looks like there are very few of these observations when compared to the overall data set (which is 2.1M rows). However, lets keep this in mind going forward as perhaps we might be able to find more information in another column, perhaps in one of the secondary specialty columns.\n",
    "\n",
    "Next, we'll get back to the higher level overview of the `pri_spec` column by getting the value counts for each unique value in the column."
   ]
  },
  {
   "cell_type": "code",
   "execution_count": 22,
   "metadata": {},
   "outputs": [
    {
     "data": {
      "text/plain": [
       "NURSE PRACTITIONER                               235345\n",
       "PHYSICIAN ASSISTANT                              203371\n",
       "INTERNAL MEDICINE                                182186\n",
       "FAMILY MEDICINE                                  158359\n",
       "DIAGNOSTIC RADIOLOGY                             156303\n",
       "PHYSICAL THERAPY                                  84096\n",
       "CERTIFIED REGISTERED NURSE ANESTHETIST (CRNA)     79246\n",
       "ANESTHESIOLOGY                                    75169\n",
       "CARDIOVASCULAR DISEASE (CARDIOLOGY)               66414\n",
       "OBSTETRICS/GYNECOLOGY                             59125\n",
       "CLINICAL SOCIAL WORKER                            49860\n",
       "ORTHOPEDIC SURGERY                                45332\n",
       "OPTOMETRY                                         44946\n",
       "GENERAL SURGERY                                   44396\n",
       "CHIROPRACTIC                                      42595\n",
       "PSYCHIATRY                                        39718\n",
       "OPHTHALMOLOGY                                     34855\n",
       "NEUROLOGY                                         34010\n",
       "PSYCHOLOGIST, CLINICAL                            33686\n",
       "GASTROENTEROLOGY                                  31889\n",
       "Name: pri_spec, dtype: int64"
      ]
     },
     "execution_count": 22,
     "metadata": {},
     "output_type": "execute_result"
    }
   ],
   "source": [
    "# return absolute value counts for top 20 values in primary specialty column\n",
    "data['pri_spec'].value_counts()[:20]"
   ]
  },
  {
   "cell_type": "markdown",
   "metadata": {},
   "source": [
    "Quickly, what is wrong with the above?\n",
    "\n",
    "YOU FORGOT THAT THERE IS DUPLICATE ENTRIES, i.e. there are physicians that are listed multiple times and will thus inflate the numbers for whatever the `pri_spec` is! \n",
    "\n",
    "To get a more accurate picture we would first need to groupby the physician and then we can return a more accurate value count."
   ]
  },
  {
   "cell_type": "code",
   "execution_count": 23,
   "metadata": {},
   "outputs": [
    {
     "data": {
      "text/plain": [
       "full_nm\n",
       "A  MIRANDA                       MEDICAL ONCOLOGY\n",
       "A  NARASIMHA RAO                        NEUROLOGY\n",
       "A ALAN SEMINE                DIAGNOSTIC RADIOLOGY\n",
       "A ANANTH  RAMAN                 PULMONARY DISEASE\n",
       "A ANDREW RUDMANN                INTERNAL MEDICINE\n",
       "A B  M MASUDUR  RAHMAN            FAMILY MEDICINE\n",
       "A BENEDICT  COSIMI              SURGICAL ONCOLOGY\n",
       "A BETHEL  GILBERT          CLINICAL SOCIAL WORKER\n",
       "A BRANT LIPSCOMB JR.           ORTHOPEDIC SURGERY\n",
       "A C BADDER                       PHYSICAL THERAPY\n",
       "Name: pri_spec, dtype: object"
      ]
     },
     "execution_count": 23,
     "metadata": {},
     "output_type": "execute_result"
    }
   ],
   "source": [
    "# group by physician (condensing down duplicate physicians) and grab their associated pri_spec\n",
    "data.groupby('full_nm')['pri_spec'].first()[:10]"
   ]
  },
  {
   "cell_type": "code",
   "execution_count": 24,
   "metadata": {},
   "outputs": [
    {
     "data": {
      "text/html": [
       "<div>\n",
       "<style scoped>\n",
       "    .dataframe tbody tr th:only-of-type {\n",
       "        vertical-align: middle;\n",
       "    }\n",
       "\n",
       "    .dataframe tbody tr th {\n",
       "        vertical-align: top;\n",
       "    }\n",
       "\n",
       "    .dataframe thead th {\n",
       "        text-align: right;\n",
       "    }\n",
       "</style>\n",
       "<table border=\"1\" class=\"dataframe\">\n",
       "  <thead>\n",
       "    <tr style=\"text-align: right;\">\n",
       "      <th></th>\n",
       "      <th>full_nm</th>\n",
       "      <th>pri_spec</th>\n",
       "    </tr>\n",
       "  </thead>\n",
       "  <tbody>\n",
       "    <tr>\n",
       "      <th>0</th>\n",
       "      <td>A  MIRANDA</td>\n",
       "      <td>MEDICAL ONCOLOGY</td>\n",
       "    </tr>\n",
       "    <tr>\n",
       "      <th>1</th>\n",
       "      <td>A  NARASIMHA RAO</td>\n",
       "      <td>NEUROLOGY</td>\n",
       "    </tr>\n",
       "    <tr>\n",
       "      <th>2</th>\n",
       "      <td>A ALAN SEMINE</td>\n",
       "      <td>DIAGNOSTIC RADIOLOGY</td>\n",
       "    </tr>\n",
       "    <tr>\n",
       "      <th>3</th>\n",
       "      <td>A ANANTH  RAMAN</td>\n",
       "      <td>PULMONARY DISEASE</td>\n",
       "    </tr>\n",
       "    <tr>\n",
       "      <th>4</th>\n",
       "      <td>A ANDREW RUDMANN</td>\n",
       "      <td>INTERNAL MEDICINE</td>\n",
       "    </tr>\n",
       "  </tbody>\n",
       "</table>\n",
       "</div>"
      ],
      "text/plain": [
       "             full_nm              pri_spec\n",
       "0        A  MIRANDA       MEDICAL ONCOLOGY\n",
       "1  A  NARASIMHA RAO              NEUROLOGY\n",
       "2     A ALAN SEMINE   DIAGNOSTIC RADIOLOGY\n",
       "3   A ANANTH  RAMAN      PULMONARY DISEASE\n",
       "4  A ANDREW RUDMANN      INTERNAL MEDICINE"
      ]
     },
     "execution_count": 24,
     "metadata": {},
     "output_type": "execute_result"
    }
   ],
   "source": [
    "# make a dataframe of the above and reset the index\n",
    "pri_spec_df = pd.DataFrame(data.groupby('full_nm')['pri_spec'].first()).reset_index(); pri_spec_df.head()"
   ]
  },
  {
   "cell_type": "code",
   "execution_count": 25,
   "metadata": {},
   "outputs": [],
   "source": [
    "# adjust column names\n",
    "pri_spec_df.columns = ['name', 'primary_specialty']"
   ]
  },
  {
   "cell_type": "code",
   "execution_count": 26,
   "metadata": {},
   "outputs": [
    {
     "data": {
      "text/plain": [
       "NURSE PRACTITIONER                               130090\n",
       "INTERNAL MEDICINE                                 89304\n",
       "FAMILY MEDICINE                                   82162\n",
       "PHYSICIAN ASSISTANT                               73635\n",
       "PHYSICAL THERAPY                                  57298\n",
       "CERTIFIED REGISTERED NURSE ANESTHETIST (CRNA)     41544\n",
       "CLINICAL SOCIAL WORKER                            39863\n",
       "CHIROPRACTIC                                      39173\n",
       "ANESTHESIOLOGY                                    37146\n",
       "OPTOMETRY                                         31212\n",
       "Name: primary_specialty, dtype: int64"
      ]
     },
     "execution_count": 26,
     "metadata": {},
     "output_type": "execute_result"
    }
   ],
   "source": [
    "# now return value count in primary specialty column, similar to how we did above\n",
    "pri_spec_df['primary_specialty'].value_counts()[:10]"
   ]
  },
  {
   "cell_type": "markdown",
   "metadata": {},
   "source": [
    "As we can see, by reformatting the data to condense duplicate entries down to one for each physician in the data, we cut many of the values from before nearly in half! This is the more accurate count of the primary specialty for each person in the data set. We'll take note of this for later use however since this column - i.e., `pri_spec` in original `data` DataFrame - is void of missing values we can move forward with our cleaning process to the columns associated with secondary specialties. "
   ]
  },
  {
   "cell_type": "code",
   "execution_count": 27,
   "metadata": {},
   "outputs": [
    {
     "data": {
      "text/plain": [
       "sec_spec_1      0\n",
       "sec_spec_2      0\n",
       "sec_spec_3      0\n",
       "sec_spec_4      0\n",
       "sec_spec_all    0\n",
       "dtype: int64"
      ]
     },
     "execution_count": 27,
     "metadata": {},
     "output_type": "execute_result"
    }
   ],
   "source": [
    "# check the missing values in the columns associated with second specialties\n",
    "data[['sec_spec_1', 'sec_spec_2', 'sec_spec_3', 'sec_spec_4', 'sec_spec_all']].isna().sum()"
   ]
  },
  {
   "cell_type": "code",
   "execution_count": 28,
   "metadata": {},
   "outputs": [
    {
     "data": {
      "text/plain": [
       "sec_spec_1      0.0\n",
       "sec_spec_2      0.0\n",
       "sec_spec_3      0.0\n",
       "sec_spec_4      0.0\n",
       "sec_spec_all    0.0\n",
       "dtype: float64"
      ]
     },
     "execution_count": 28,
     "metadata": {},
     "output_type": "execute_result"
    }
   ],
   "source": [
    "# same as above but relayed as a percentage of the column\n",
    "round((data[['sec_spec_1', 'sec_spec_2', 'sec_spec_3', 'sec_spec_4', 'sec_spec_all']].isna().mean()) * 100, 3)"
   ]
  },
  {
   "cell_type": "markdown",
   "metadata": {},
   "source": [
    "It appears that a very large percentage of all these columns don't have any values. Upon a second look though, it appears that we might have a column - `sec_spec_all` - that combines all the secondary specialties into one. Let's check it out further to either confirm or refute this."
   ]
  },
  {
   "cell_type": "code",
   "execution_count": 29,
   "metadata": {},
   "outputs": [
    {
     "name": "stdout",
     "output_type": "stream",
     "text": [
      "Number of unique values in sec_spec_1: 69\n",
      "Number of unique values in sec_spec_2: 64\n",
      "Number of unique values in sec_spec_3: 56\n",
      "Number of unique values in sec_spec_4: 43\n",
      "Number of unique values in sec_spec_all: 1556\n"
     ]
    }
   ],
   "source": [
    "# loop through all the secondary specialty columns to see how many unique values they have\n",
    "for col in data[['sec_spec_1', 'sec_spec_2', 'sec_spec_3', 'sec_spec_4', 'sec_spec_all']]:\n",
    "    unique = len(data[col].unique())\n",
    "    print('Number of unique values in {}: {}'.format(col, unique))"
   ]
  },
  {
   "cell_type": "markdown",
   "metadata": {},
   "source": [
    "This is further evidence towards the `sec_spec_all` column containing all the combinations of all the physicians secondary specialties. Let's dive further into each one through as it might gives us some clues as to what are the most common secondary specialties that physicians have."
   ]
  },
  {
   "cell_type": "code",
   "execution_count": 30,
   "metadata": {},
   "outputs": [],
   "source": [
    "# remember: we have to reformat the dataframe so that it combines all the physicians and their duplicates\n",
    "# into one observation\n",
    "specialty_df = pd.DataFrame(data.groupby('full_nm')[['pri_spec', \n",
    "                                                     'sec_spec_1', \n",
    "                                                     'sec_spec_2', \n",
    "                                                     'sec_spec_3', \n",
    "                                                     'sec_spec_4', \n",
    "                                                     'sec_spec_all']].first()).reset_index()"
   ]
  },
  {
   "cell_type": "code",
   "execution_count": 31,
   "metadata": {},
   "outputs": [
    {
     "data": {
      "text/html": [
       "<div>\n",
       "<style scoped>\n",
       "    .dataframe tbody tr th:only-of-type {\n",
       "        vertical-align: middle;\n",
       "    }\n",
       "\n",
       "    .dataframe tbody tr th {\n",
       "        vertical-align: top;\n",
       "    }\n",
       "\n",
       "    .dataframe thead th {\n",
       "        text-align: right;\n",
       "    }\n",
       "</style>\n",
       "<table border=\"1\" class=\"dataframe\">\n",
       "  <thead>\n",
       "    <tr style=\"text-align: right;\">\n",
       "      <th></th>\n",
       "      <th>full_nm</th>\n",
       "      <th>pri_spec</th>\n",
       "      <th>sec_spec_1</th>\n",
       "      <th>sec_spec_2</th>\n",
       "      <th>sec_spec_3</th>\n",
       "      <th>sec_spec_4</th>\n",
       "      <th>sec_spec_all</th>\n",
       "    </tr>\n",
       "  </thead>\n",
       "  <tbody>\n",
       "    <tr>\n",
       "      <th>0</th>\n",
       "      <td>A  MIRANDA</td>\n",
       "      <td>MEDICAL ONCOLOGY</td>\n",
       "      <td>None</td>\n",
       "      <td>None</td>\n",
       "      <td>None</td>\n",
       "      <td>None</td>\n",
       "      <td>None</td>\n",
       "    </tr>\n",
       "    <tr>\n",
       "      <th>1</th>\n",
       "      <td>A  NARASIMHA RAO</td>\n",
       "      <td>NEUROLOGY</td>\n",
       "      <td>None</td>\n",
       "      <td>None</td>\n",
       "      <td>None</td>\n",
       "      <td>None</td>\n",
       "      <td>None</td>\n",
       "    </tr>\n",
       "    <tr>\n",
       "      <th>2</th>\n",
       "      <td>A ALAN SEMINE</td>\n",
       "      <td>DIAGNOSTIC RADIOLOGY</td>\n",
       "      <td>None</td>\n",
       "      <td>None</td>\n",
       "      <td>None</td>\n",
       "      <td>None</td>\n",
       "      <td>None</td>\n",
       "    </tr>\n",
       "    <tr>\n",
       "      <th>3</th>\n",
       "      <td>A ANANTH  RAMAN</td>\n",
       "      <td>PULMONARY DISEASE</td>\n",
       "      <td>SLEEP MEDICINE</td>\n",
       "      <td>None</td>\n",
       "      <td>None</td>\n",
       "      <td>None</td>\n",
       "      <td>SLEEP MEDICINE</td>\n",
       "    </tr>\n",
       "    <tr>\n",
       "      <th>4</th>\n",
       "      <td>A ANDREW RUDMANN</td>\n",
       "      <td>INTERNAL MEDICINE</td>\n",
       "      <td>None</td>\n",
       "      <td>None</td>\n",
       "      <td>None</td>\n",
       "      <td>None</td>\n",
       "      <td>None</td>\n",
       "    </tr>\n",
       "  </tbody>\n",
       "</table>\n",
       "</div>"
      ],
      "text/plain": [
       "             full_nm              pri_spec      sec_spec_1 sec_spec_2  \\\n",
       "0        A  MIRANDA       MEDICAL ONCOLOGY            None       None   \n",
       "1  A  NARASIMHA RAO              NEUROLOGY            None       None   \n",
       "2     A ALAN SEMINE   DIAGNOSTIC RADIOLOGY            None       None   \n",
       "3   A ANANTH  RAMAN      PULMONARY DISEASE  SLEEP MEDICINE       None   \n",
       "4  A ANDREW RUDMANN      INTERNAL MEDICINE            None       None   \n",
       "\n",
       "  sec_spec_3 sec_spec_4    sec_spec_all  \n",
       "0       None       None            None  \n",
       "1       None       None            None  \n",
       "2       None       None            None  \n",
       "3       None       None  SLEEP MEDICINE  \n",
       "4       None       None            None  "
      ]
     },
     "execution_count": 31,
     "metadata": {},
     "output_type": "execute_result"
    }
   ],
   "source": [
    "# check out the first few lines of the dataframe we just created\n",
    "specialty_df.head()"
   ]
  },
  {
   "cell_type": "code",
   "execution_count": 32,
   "metadata": {},
   "outputs": [
    {
     "name": "stdout",
     "output_type": "stream",
     "text": [
      "Top 10 Value Counts of sec_spec_1 column\n",
      " \n",
      "None                                   944588\n",
      "INTERNAL MEDICINE                       44526\n",
      "CRITICAL CARE (INTENSIVISTS)             8178\n",
      "PEDIATRIC MEDICINE                       6365\n",
      "CARDIOVASCULAR DISEASE (CARDIOLOGY)      6232\n",
      "FAMILY MEDICINE                          4020\n",
      "GENERAL SURGERY                          3998\n",
      "GERIATRIC MEDICINE                       3250\n",
      "EMERGENCY MEDICINE                       3171\n",
      "PAIN MANAGEMENT                          2872\n",
      "Name: sec_spec_1, dtype: int64\n",
      "------------------------------\n",
      "Top 10 Value Counts of sec_spec_2 column\n",
      " \n",
      "None                       1058939\n",
      "INTERNAL MEDICINE             4974\n",
      "PULMONARY DISEASE             1130\n",
      "PAIN MANAGEMENT                676\n",
      "PEDIATRIC MEDICINE             596\n",
      "MEDICAL ONCOLOGY               439\n",
      "VASCULAR SURGERY               423\n",
      "SLEEP MEDICINE                 412\n",
      "NUCLEAR MEDICINE               298\n",
      "HOSPICE/PALLIATIVE CARE        261\n",
      "Name: sec_spec_2, dtype: int64\n",
      "------------------------------\n",
      "Top 10 Value Counts of sec_spec_3 column\n",
      " \n",
      "None                           1070518\n",
      "SLEEP MEDICINE                     271\n",
      "INTERNAL MEDICINE                  183\n",
      "VASCULAR SURGERY                   112\n",
      "PULMONARY DISEASE                   85\n",
      "MEDICAL ONCOLOGY                    73\n",
      "PAIN MANAGEMENT                     70\n",
      "PERIPHERAL VASCULAR DISEASE         67\n",
      "PEDIATRIC MEDICINE                  64\n",
      "PREVENTATIVE MEDICINE               55\n",
      "Name: sec_spec_3, dtype: int64\n",
      "------------------------------\n",
      "Top 10 Value Counts of sec_spec_4 column\n",
      " \n",
      "None                           1071761\n",
      "VASCULAR SURGERY                    37\n",
      "PREVENTATIVE MEDICINE               28\n",
      "PAIN MANAGEMENT                     25\n",
      "PERIPHERAL VASCULAR DISEASE         20\n",
      "INTERNAL MEDICINE                   19\n",
      "SLEEP MEDICINE                      13\n",
      "SURGICAL ONCOLOGY                   12\n",
      "THORACIC SURGERY                    12\n",
      "SPORTS MEDICINE                     11\n",
      "Name: sec_spec_4, dtype: int64\n",
      "------------------------------\n"
     ]
    }
   ],
   "source": [
    "# loop through each numbered secondary specialty column and retrieve top 10 value counts\n",
    "for col in specialty_df[['sec_spec_1', 'sec_spec_2', 'sec_spec_3', 'sec_spec_4']]:\n",
    "    print('Top 10 Value Counts of {} column'.format(col))\n",
    "    print(' ')\n",
    "    print(specialty_df[col].value_counts()[:10])\n",
    "    print('-' * 30)"
   ]
  },
  {
   "cell_type": "markdown",
   "metadata": {},
   "source": [
    "A quick look yields that `INTERNAL MEDICINE` is a value that is in the top 10 of all of the secondary specialty columns. Let's see what's in store for us in the `sec_spec_all` column."
   ]
  },
  {
   "cell_type": "code",
   "execution_count": 33,
   "metadata": {},
   "outputs": [
    {
     "data": {
      "text/plain": [
       "None                                               88.109621\n",
       "INTERNAL MEDICINE                                   3.970207\n",
       "PEDIATRIC MEDICINE                                  0.588307\n",
       "CRITICAL CARE (INTENSIVISTS)                        0.473201\n",
       "CARDIOVASCULAR DISEASE (CARDIOLOGY)                 0.441113\n",
       "GENERAL SURGERY                                     0.344384\n",
       "FAMILY MEDICINE                                     0.334123\n",
       "GERIATRIC MEDICINE                                  0.258941\n",
       "PAIN MANAGEMENT                                     0.257821\n",
       "EMERGENCY MEDICINE                                  0.254557\n",
       "SPORTS MEDICINE                                     0.235155\n",
       "HOSPITALIST                                         0.196911\n",
       "ANESTHESIOLOGY                                      0.176389\n",
       "CRITICAL CARE (INTENSIVISTS), INTERNAL MEDICINE     0.169953\n",
       "PULMONARY DISEASE                                   0.165942\n",
       "INTERVENTIONAL RADIOLOGY                            0.155122\n",
       "ORTHOPEDIC SURGERY                                  0.132828\n",
       "GENERAL PRACTICE                                    0.125086\n",
       "DIAGNOSTIC RADIOLOGY                                0.123034\n",
       "INTERVENTIONAL PAIN MANAGEMENT                      0.122754\n",
       "Name: sec_spec_all, dtype: float64"
      ]
     },
     "execution_count": 33,
     "metadata": {},
     "output_type": "execute_result"
    }
   ],
   "source": [
    "# get top 20 value counts (normalized to show percentage) of the sec_spec_all column\n",
    "(specialty_df['sec_spec_all'].value_counts(normalize=True) * 100)[:20]"
   ]
  },
  {
   "cell_type": "markdown",
   "metadata": {},
   "source": [
    "For the most part it appears of the physicians that do have a secondary specialty a large portion tend to have one, `INTERNAL MEDICINE`. Another thing to note is that there is only one entry - `CRITICAL CARE (INTENSIVISTS), INTERNAL MEDICINE` - that lists more than one secondary specialty. This is an indicator that it appears most physicians don't tend to have more than one other specialty in addition to their primary one. \n",
    "\n",
    "But lets get back to what we were originally seeking to do: fill in the `NaN`s in the secondary specialty columns. For these columns we can go ahead and replace `NaN` with `None` as it most likely to be the case that a particular physician doesn't have a secondary specialty if there is a value of `NaN`. "
   ]
  },
  {
   "cell_type": "code",
   "execution_count": 34,
   "metadata": {},
   "outputs": [],
   "source": [
    "# replace NaN in all the secondary specialty columns with None\n",
    "data[['sec_spec_1', 'sec_spec_2', 'sec_spec_3', 'sec_spec_4', 'sec_spec_all']] = data[['sec_spec_1', 'sec_spec_2', 'sec_spec_3', 'sec_spec_4', 'sec_spec_all']].fillna('None')"
   ]
  },
  {
   "cell_type": "markdown",
   "metadata": {},
   "source": [
    "Now that we've cleaned up more than a few columns, lets take a look at the first few rows of `data` and see how it is shaping up."
   ]
  },
  {
   "cell_type": "code",
   "execution_count": 35,
   "metadata": {},
   "outputs": [
    {
     "data": {
      "text/html": [
       "<div>\n",
       "<style scoped>\n",
       "    .dataframe tbody tr th:only-of-type {\n",
       "        vertical-align: middle;\n",
       "    }\n",
       "\n",
       "    .dataframe tbody tr th {\n",
       "        vertical-align: top;\n",
       "    }\n",
       "\n",
       "    .dataframe thead th {\n",
       "        text-align: right;\n",
       "    }\n",
       "</style>\n",
       "<table border=\"1\" class=\"dataframe\">\n",
       "  <thead>\n",
       "    <tr style=\"text-align: right;\">\n",
       "      <th></th>\n",
       "      <th>npi</th>\n",
       "      <th>ind_pac_id</th>\n",
       "      <th>ind_enrl_id</th>\n",
       "      <th>full_nm</th>\n",
       "      <th>gndr</th>\n",
       "      <th>cred</th>\n",
       "      <th>med_sch</th>\n",
       "      <th>grd_yr</th>\n",
       "      <th>pri_spec</th>\n",
       "      <th>sec_spec_1</th>\n",
       "      <th>sec_spec_2</th>\n",
       "      <th>sec_spec_3</th>\n",
       "      <th>sec_spec_4</th>\n",
       "      <th>sec_spec_all</th>\n",
       "      <th>org_lgl_nm</th>\n",
       "      <th>org_pac_id</th>\n",
       "      <th>num_org_mem</th>\n",
       "      <th>adr_ln_1</th>\n",
       "      <th>adr_ln_2</th>\n",
       "      <th>ln_2_sprs</th>\n",
       "      <th>cty</th>\n",
       "      <th>st</th>\n",
       "      <th>zip</th>\n",
       "      <th>phn_numbr</th>\n",
       "      <th>hosp_afl_1</th>\n",
       "      <th>hosp_afl_lbn_1</th>\n",
       "      <th>hosp_afl_2</th>\n",
       "      <th>hosp_afl_lbn_2</th>\n",
       "      <th>hosp_afl_3</th>\n",
       "      <th>hosp_afl_lbn_3</th>\n",
       "      <th>hosp_afl_4</th>\n",
       "      <th>hosp_afl_lbn_4</th>\n",
       "      <th>hosp_afl_5</th>\n",
       "      <th>hosp_afl_lbn_5</th>\n",
       "      <th>assgn</th>\n",
       "    </tr>\n",
       "  </thead>\n",
       "  <tbody>\n",
       "    <tr>\n",
       "      <th>0</th>\n",
       "      <td>1003000126</td>\n",
       "      <td>7517003643</td>\n",
       "      <td>I20130530000085</td>\n",
       "      <td>ARDALAN  ENKESHAFI</td>\n",
       "      <td>M</td>\n",
       "      <td>Not Listed</td>\n",
       "      <td>OTHER</td>\n",
       "      <td>1994</td>\n",
       "      <td>INTERNAL MEDICINE</td>\n",
       "      <td>None</td>\n",
       "      <td>None</td>\n",
       "      <td>None</td>\n",
       "      <td>None</td>\n",
       "      <td>None</td>\n",
       "      <td>EMERGENCY MEDICINE ASSOCIATES PA PC</td>\n",
       "      <td>8.022915e+09</td>\n",
       "      <td>182.0</td>\n",
       "      <td>1850 TOWN CTR PKWY</td>\n",
       "      <td>NaN</td>\n",
       "      <td>NaN</td>\n",
       "      <td>RESTON</td>\n",
       "      <td>VA</td>\n",
       "      <td>201903219</td>\n",
       "      <td>7.036899e+09</td>\n",
       "      <td>490112.0</td>\n",
       "      <td>CJW MEDICAL CENTER</td>\n",
       "      <td>210028.0</td>\n",
       "      <td>MEDSTAR SAINT MARY'S HOSPITAL</td>\n",
       "      <td>NaN</td>\n",
       "      <td>NaN</td>\n",
       "      <td>NaN</td>\n",
       "      <td>NaN</td>\n",
       "      <td>NaN</td>\n",
       "      <td>NaN</td>\n",
       "      <td>Y</td>\n",
       "    </tr>\n",
       "    <tr>\n",
       "      <th>1</th>\n",
       "      <td>1003000126</td>\n",
       "      <td>7517003643</td>\n",
       "      <td>I20130530000085</td>\n",
       "      <td>ARDALAN  ENKESHAFI</td>\n",
       "      <td>M</td>\n",
       "      <td>Not Listed</td>\n",
       "      <td>OTHER</td>\n",
       "      <td>1994</td>\n",
       "      <td>INTERNAL MEDICINE</td>\n",
       "      <td>None</td>\n",
       "      <td>None</td>\n",
       "      <td>None</td>\n",
       "      <td>None</td>\n",
       "      <td>None</td>\n",
       "      <td>EMERGENCY MEDICINE ASSOCIATES PA PC</td>\n",
       "      <td>8.022915e+09</td>\n",
       "      <td>182.0</td>\n",
       "      <td>1701 N GEORGE MASON DR</td>\n",
       "      <td>NaN</td>\n",
       "      <td>NaN</td>\n",
       "      <td>ARLINGTON</td>\n",
       "      <td>VA</td>\n",
       "      <td>222053610</td>\n",
       "      <td>7.035586e+09</td>\n",
       "      <td>490112.0</td>\n",
       "      <td>CJW MEDICAL CENTER</td>\n",
       "      <td>210028.0</td>\n",
       "      <td>MEDSTAR SAINT MARY'S HOSPITAL</td>\n",
       "      <td>NaN</td>\n",
       "      <td>NaN</td>\n",
       "      <td>NaN</td>\n",
       "      <td>NaN</td>\n",
       "      <td>NaN</td>\n",
       "      <td>NaN</td>\n",
       "      <td>Y</td>\n",
       "    </tr>\n",
       "    <tr>\n",
       "      <th>2</th>\n",
       "      <td>1003000126</td>\n",
       "      <td>7517003643</td>\n",
       "      <td>I20150824000105</td>\n",
       "      <td>ARDALAN  ENKESHAFI</td>\n",
       "      <td>M</td>\n",
       "      <td>Not Listed</td>\n",
       "      <td>OTHER</td>\n",
       "      <td>1994</td>\n",
       "      <td>INTERNAL MEDICINE</td>\n",
       "      <td>None</td>\n",
       "      <td>None</td>\n",
       "      <td>None</td>\n",
       "      <td>None</td>\n",
       "      <td>None</td>\n",
       "      <td>EMERGENCY MEDICINE ASSOCIATES PA PC</td>\n",
       "      <td>8.022915e+09</td>\n",
       "      <td>182.0</td>\n",
       "      <td>24440 STONE SPRINGS BLVD</td>\n",
       "      <td>NaN</td>\n",
       "      <td>NaN</td>\n",
       "      <td>DULLES</td>\n",
       "      <td>VA</td>\n",
       "      <td>201662247</td>\n",
       "      <td>5.713674e+09</td>\n",
       "      <td>490112.0</td>\n",
       "      <td>CJW MEDICAL CENTER</td>\n",
       "      <td>210028.0</td>\n",
       "      <td>MEDSTAR SAINT MARY'S HOSPITAL</td>\n",
       "      <td>NaN</td>\n",
       "      <td>NaN</td>\n",
       "      <td>NaN</td>\n",
       "      <td>NaN</td>\n",
       "      <td>NaN</td>\n",
       "      <td>NaN</td>\n",
       "      <td>Y</td>\n",
       "    </tr>\n",
       "    <tr>\n",
       "      <th>3</th>\n",
       "      <td>1003000126</td>\n",
       "      <td>7517003643</td>\n",
       "      <td>I20150824000105</td>\n",
       "      <td>ARDALAN  ENKESHAFI</td>\n",
       "      <td>M</td>\n",
       "      <td>Not Listed</td>\n",
       "      <td>OTHER</td>\n",
       "      <td>1994</td>\n",
       "      <td>INTERNAL MEDICINE</td>\n",
       "      <td>None</td>\n",
       "      <td>None</td>\n",
       "      <td>None</td>\n",
       "      <td>None</td>\n",
       "      <td>None</td>\n",
       "      <td>SOUTHEASTERN INTENSIVIST SERVICES PC</td>\n",
       "      <td>9.335152e+09</td>\n",
       "      <td>133.0</td>\n",
       "      <td>1401 JOHNSTON WILLIS DR</td>\n",
       "      <td>NaN</td>\n",
       "      <td>NaN</td>\n",
       "      <td>NORTH CHESTERFIELD</td>\n",
       "      <td>VA</td>\n",
       "      <td>232354730</td>\n",
       "      <td>8.044835e+09</td>\n",
       "      <td>490112.0</td>\n",
       "      <td>CJW MEDICAL CENTER</td>\n",
       "      <td>210028.0</td>\n",
       "      <td>MEDSTAR SAINT MARY'S HOSPITAL</td>\n",
       "      <td>NaN</td>\n",
       "      <td>NaN</td>\n",
       "      <td>NaN</td>\n",
       "      <td>NaN</td>\n",
       "      <td>NaN</td>\n",
       "      <td>NaN</td>\n",
       "      <td>Y</td>\n",
       "    </tr>\n",
       "    <tr>\n",
       "      <th>4</th>\n",
       "      <td>1003000126</td>\n",
       "      <td>7517003643</td>\n",
       "      <td>I20150824000105</td>\n",
       "      <td>ARDALAN  ENKESHAFI</td>\n",
       "      <td>M</td>\n",
       "      <td>Not Listed</td>\n",
       "      <td>OTHER</td>\n",
       "      <td>1994</td>\n",
       "      <td>INTERNAL MEDICINE</td>\n",
       "      <td>None</td>\n",
       "      <td>None</td>\n",
       "      <td>None</td>\n",
       "      <td>None</td>\n",
       "      <td>None</td>\n",
       "      <td>SOUTHEASTERN INTENSIVIST SERVICES PC</td>\n",
       "      <td>9.335152e+09</td>\n",
       "      <td>133.0</td>\n",
       "      <td>411 W RANDOLPH RD</td>\n",
       "      <td>NaN</td>\n",
       "      <td>NaN</td>\n",
       "      <td>HOPEWELL</td>\n",
       "      <td>VA</td>\n",
       "      <td>238602938</td>\n",
       "      <td>8.045412e+09</td>\n",
       "      <td>490112.0</td>\n",
       "      <td>CJW MEDICAL CENTER</td>\n",
       "      <td>210028.0</td>\n",
       "      <td>MEDSTAR SAINT MARY'S HOSPITAL</td>\n",
       "      <td>NaN</td>\n",
       "      <td>NaN</td>\n",
       "      <td>NaN</td>\n",
       "      <td>NaN</td>\n",
       "      <td>NaN</td>\n",
       "      <td>NaN</td>\n",
       "      <td>Y</td>\n",
       "    </tr>\n",
       "  </tbody>\n",
       "</table>\n",
       "</div>"
      ],
      "text/plain": [
       "          npi  ind_pac_id      ind_enrl_id              full_nm gndr  \\\n",
       "0  1003000126  7517003643  I20130530000085  ARDALAN  ENKESHAFI     M   \n",
       "1  1003000126  7517003643  I20130530000085  ARDALAN  ENKESHAFI     M   \n",
       "2  1003000126  7517003643  I20150824000105  ARDALAN  ENKESHAFI     M   \n",
       "3  1003000126  7517003643  I20150824000105  ARDALAN  ENKESHAFI     M   \n",
       "4  1003000126  7517003643  I20150824000105  ARDALAN  ENKESHAFI     M   \n",
       "\n",
       "         cred med_sch  grd_yr           pri_spec sec_spec_1 sec_spec_2  \\\n",
       "0  Not Listed   OTHER    1994  INTERNAL MEDICINE       None       None   \n",
       "1  Not Listed   OTHER    1994  INTERNAL MEDICINE       None       None   \n",
       "2  Not Listed   OTHER    1994  INTERNAL MEDICINE       None       None   \n",
       "3  Not Listed   OTHER    1994  INTERNAL MEDICINE       None       None   \n",
       "4  Not Listed   OTHER    1994  INTERNAL MEDICINE       None       None   \n",
       "\n",
       "  sec_spec_3 sec_spec_4 sec_spec_all                            org_lgl_nm  \\\n",
       "0       None       None         None   EMERGENCY MEDICINE ASSOCIATES PA PC   \n",
       "1       None       None         None   EMERGENCY MEDICINE ASSOCIATES PA PC   \n",
       "2       None       None         None   EMERGENCY MEDICINE ASSOCIATES PA PC   \n",
       "3       None       None         None  SOUTHEASTERN INTENSIVIST SERVICES PC   \n",
       "4       None       None         None  SOUTHEASTERN INTENSIVIST SERVICES PC   \n",
       "\n",
       "     org_pac_id  num_org_mem                  adr_ln_1 adr_ln_2 ln_2_sprs  \\\n",
       "0  8.022915e+09        182.0        1850 TOWN CTR PKWY      NaN       NaN   \n",
       "1  8.022915e+09        182.0    1701 N GEORGE MASON DR      NaN       NaN   \n",
       "2  8.022915e+09        182.0  24440 STONE SPRINGS BLVD      NaN       NaN   \n",
       "3  9.335152e+09        133.0   1401 JOHNSTON WILLIS DR      NaN       NaN   \n",
       "4  9.335152e+09        133.0         411 W RANDOLPH RD      NaN       NaN   \n",
       "\n",
       "                  cty  st        zip     phn_numbr hosp_afl_1  \\\n",
       "0              RESTON  VA  201903219  7.036899e+09   490112.0   \n",
       "1           ARLINGTON  VA  222053610  7.035586e+09   490112.0   \n",
       "2              DULLES  VA  201662247  5.713674e+09   490112.0   \n",
       "3  NORTH CHESTERFIELD  VA  232354730  8.044835e+09   490112.0   \n",
       "4            HOPEWELL  VA  238602938  8.045412e+09   490112.0   \n",
       "\n",
       "       hosp_afl_lbn_1 hosp_afl_2                 hosp_afl_lbn_2 hosp_afl_3  \\\n",
       "0  CJW MEDICAL CENTER   210028.0  MEDSTAR SAINT MARY'S HOSPITAL        NaN   \n",
       "1  CJW MEDICAL CENTER   210028.0  MEDSTAR SAINT MARY'S HOSPITAL        NaN   \n",
       "2  CJW MEDICAL CENTER   210028.0  MEDSTAR SAINT MARY'S HOSPITAL        NaN   \n",
       "3  CJW MEDICAL CENTER   210028.0  MEDSTAR SAINT MARY'S HOSPITAL        NaN   \n",
       "4  CJW MEDICAL CENTER   210028.0  MEDSTAR SAINT MARY'S HOSPITAL        NaN   \n",
       "\n",
       "  hosp_afl_lbn_3 hosp_afl_4 hosp_afl_lbn_4  hosp_afl_5 hosp_afl_lbn_5 assgn  \n",
       "0            NaN        NaN            NaN         NaN            NaN     Y  \n",
       "1            NaN        NaN            NaN         NaN            NaN     Y  \n",
       "2            NaN        NaN            NaN         NaN            NaN     Y  \n",
       "3            NaN        NaN            NaN         NaN            NaN     Y  \n",
       "4            NaN        NaN            NaN         NaN            NaN     Y  "
      ]
     },
     "execution_count": 35,
     "metadata": {},
     "output_type": "execute_result"
    }
   ],
   "source": [
    "data.head()"
   ]
  },
  {
   "cell_type": "code",
   "execution_count": 36,
   "metadata": {},
   "outputs": [
    {
     "data": {
      "text/plain": [
       "npi             0.0\n",
       "ind_pac_id      0.0\n",
       "ind_enrl_id     0.0\n",
       "full_nm         0.0\n",
       "gndr            0.0\n",
       "cred            0.0\n",
       "med_sch         0.0\n",
       "grd_yr          0.0\n",
       "pri_spec        0.0\n",
       "sec_spec_1      0.0\n",
       "sec_spec_2      0.0\n",
       "sec_spec_3      0.0\n",
       "sec_spec_4      0.0\n",
       "sec_spec_all    0.0\n",
       "dtype: float64"
      ]
     },
     "execution_count": 36,
     "metadata": {},
     "output_type": "execute_result"
    }
   ],
   "source": [
    "# check the percentage of missing values in the columns we've cleaned so far\n",
    "data.iloc[:, :14].isna().mean() * 100"
   ]
  },
  {
   "cell_type": "code",
   "execution_count": null,
   "metadata": {},
   "outputs": [],
   "source": [
    "# save updates to CSV so that tomorrow we can pick up where we left off\n",
    "data.to_csv('physician_compare_national-updates-1.csv', index=False)"
   ]
  },
  {
   "cell_type": "markdown",
   "metadata": {},
   "source": [
    "# _Work Completed (9/30/19)_\n",
    "\n",
    "Due to time constraints, I'm going to cut off this notebook here. Above we saved our updates into a CSV so that tomorrow we can just read it in via `pandas` and start right back up where we left off. Below is an overview of the steps that still need to be completed:\n",
    "1. Examine all columns after, and including, `org_lgl_nm`\n",
    "2. Determine if any cleaning is needed on each respective column\n",
    "3. If cleaning is necessary, determine best how to address missing/unusual values\n",
    "\n",
    "# _Work Restarted (10/1/29)_\n",
    "\n",
    "Another day, more data cleaning! We'll jump right in where we left off and being by exploring the `org_lgl_nm` which is the \"legal name of the Group Practice that the individual professional works with - will be blank if the address is not linked to a Group Practice.\" Key thing to remember that if it is blank there is not a link to a group practice, which will help us fill in the `NaN`s, should there be any."
   ]
  },
  {
   "cell_type": "code",
   "execution_count": 38,
   "metadata": {},
   "outputs": [
    {
     "name": "stdout",
     "output_type": "stream",
     "text": [
      "Work restarted:  2019-10-01 10:45:00.434774\n"
     ]
    }
   ],
   "source": [
    "from datetime import datetime\n",
    "# current date and time\n",
    "now = datetime.now()\n",
    "print(\"Work restarted: \", now)"
   ]
  },
  {
   "cell_type": "code",
   "execution_count": 41,
   "metadata": {},
   "outputs": [
    {
     "name": "stdout",
     "output_type": "stream",
     "text": [
      "There are 177997 missing values in org_lgl_nm column.\n"
     ]
    }
   ],
   "source": [
    "# initial check for missing values in Group Practice column\n",
    "print('There are {} missing values in org_lgl_nm column.'.format(data['org_lgl_nm'].isna().sum()))"
   ]
  },
  {
   "cell_type": "code",
   "execution_count": 43,
   "metadata": {},
   "outputs": [
    {
     "name": "stdout",
     "output_type": "stream",
     "text": [
      "There are 74366 unique values in the org_lgl_nm column.\n"
     ]
    }
   ],
   "source": [
    "# how many unique values are there in the Group Practice column?\n",
    "print('There are {} unique values in the org_lgl_nm column.'.format(len(data['org_lgl_nm'].unique())))"
   ]
  },
  {
   "cell_type": "code",
   "execution_count": 45,
   "metadata": {},
   "outputs": [
    {
     "data": {
      "text/plain": [
       "NaN                                             177997\n",
       "REGENTS OF THE UNIVERSITY OF MICHIGAN            30852\n",
       "SOUTHERN CALIFORNIA PERMANENTE MEDICAL GROUP     18240\n",
       "THE CLEVELAND CLINIC FOUNDATION                  13097\n",
       "PERMANENTE MEDICAL GROUP INC                     12647\n",
       "PRIVATE DIAGNOSTIC CLINIC PLLC                   12462\n",
       "UNIVERSITY OF PITTSBURGH PHYSICIANS              12242\n",
       "NORTH SHORE-LIJ MEDICAL PC                       11005\n",
       "NEW YORK UNIVERSITY                               9143\n",
       "FLORIDA CLINICAL PRACTICE ASSOCIATION INC         8397\n",
       "Name: org_lgl_nm, dtype: int64"
      ]
     },
     "execution_count": 45,
     "metadata": {},
     "output_type": "execute_result"
    }
   ],
   "source": [
    "# let's see if NaN values show up in the top 10 for value counts\n",
    "data['org_lgl_nm'].value_counts(dropna=False)[:10]"
   ]
  },
  {
   "cell_type": "markdown",
   "metadata": {},
   "source": [
    "`NaN` is the top value! Remember that this represents that it is not linked to a Group Practice so we can go ahead and replace `NaN` with `None`. Below is an example of what we'll be doing for the whole `org_lgl_nm` column; see index 197 and 201 where the corresponding values have been converted from `NaN` to `None`."
   ]
  },
  {
   "cell_type": "code",
   "execution_count": 50,
   "metadata": {},
   "outputs": [
    {
     "data": {
      "text/plain": [
       "190            ADVOCATE HEALTH AND HOSPITALS CORPORATION\n",
       "191    PROFESSIONAL SERVICES IN CARDIOLOGY PHYSICIANS...\n",
       "192                                  ADNAN AFZAL, MD, PA\n",
       "193                    YAKIMA VALLEY FARM WORKERS CLINIC\n",
       "194                    YAKIMA VALLEY FARM WORKERS CLINIC\n",
       "195                    YAKIMA VALLEY FARM WORKERS CLINIC\n",
       "196                    YAKIMA VALLEY FARM WORKERS CLINIC\n",
       "197                                                 None\n",
       "198                                 ALLINA HEALTH SYSTEM\n",
       "199                       HENNEPIN HEALTHCARE SYSTEM INC\n",
       "200                        BERGEN ANESTHESIA GROUP, P.C.\n",
       "201                                                 None\n",
       "202                                            UPMC KANE\n",
       "203                                            UPMC KANE\n",
       "204                               OHIOHEALTH CORPORATION\n",
       "205                               OHIOHEALTH CORPORATION\n",
       "206                               OHIOHEALTH CORPORATION\n",
       "207                               OHIOHEALTH CORPORATION\n",
       "208                               OHIOHEALTH CORPORATION\n",
       "209                               KENMORE MERCY HOSPITAL\n",
       "Name: org_lgl_nm, dtype: object"
      ]
     },
     "execution_count": 50,
     "metadata": {},
     "output_type": "execute_result"
    }
   ],
   "source": [
    "# example of what we'll be doing\n",
    "data['org_lgl_nm'].fillna('None')[190:210]"
   ]
  },
  {
   "cell_type": "code",
   "execution_count": 51,
   "metadata": {},
   "outputs": [],
   "source": [
    "# apply the above to data set\n",
    "data['org_lgl_nm'] = data['org_lgl_nm'].fillna('None')"
   ]
  },
  {
   "cell_type": "markdown",
   "metadata": {},
   "source": [
    "Now we're going to move onto the `org_pac_id` column; below is the corresponding description from [data.medicare.gov](https://data.medicare.gov/Physician-Compare/Physician-Compare-National-Downloadable-File/mj5m-pzi6):\n",
    "- \"_Unique Group Practice ID assigned by PECOS to the Group Practice that the individual professional works with- will be blank if the address is not linked to a Group Practice_\"\n",
    "\n",
    "In theory, because this column is linked with the one we just worked with - `org_lgl_nm` - we should see similarities in the number of `NaN`s and unique values."
   ]
  },
  {
   "cell_type": "code",
   "execution_count": 53,
   "metadata": {},
   "outputs": [
    {
     "name": "stdout",
     "output_type": "stream",
     "text": [
      "There are 177997 missing values in org_pac_id column.\n"
     ]
    }
   ],
   "source": [
    "# how many missing values are in the org_pac_id column\n",
    "print('There are {} missing values in org_pac_id column.'.format(data['org_pac_id'].isna().sum()))"
   ]
  },
  {
   "cell_type": "code",
   "execution_count": 56,
   "metadata": {},
   "outputs": [
    {
     "name": "stdout",
     "output_type": "stream",
     "text": [
      "There are 74998 unique values in the org_pac_id column.\n"
     ]
    }
   ],
   "source": [
    "# how many unique values are there in the org_pac_id column?\n",
    "print('There are {} unique values in the org_pac_id column.'.format(len(data['org_pac_id'].unique())))"
   ]
  },
  {
   "cell_type": "markdown",
   "metadata": {},
   "source": [
    "Quick observation: there are slightly more (~600) unique values in `org_pac_id` than in the `org_lgl_nm` column. It could be similar to what was going on with the ID columns pertaining to the physicians in that certain Group Practices may have multiple IDs. "
   ]
  },
  {
   "cell_type": "code",
   "execution_count": 63,
   "metadata": {},
   "outputs": [
    {
     "data": {
      "text/plain": [
       "NaN             177997\n",
       "3.779497e+09     30852\n",
       "6.002729e+09     18240\n",
       "1.850204e+09     13097\n",
       "8.921910e+09     12647\n",
       "1.355254e+09     12462\n",
       "8.729990e+09     12242\n",
       "3.375702e+09     11005\n",
       "1.355232e+09      9143\n",
       "3.451463e+08      8397\n",
       "Name: org_pac_id, dtype: int64"
      ]
     },
     "execution_count": 63,
     "metadata": {},
     "output_type": "execute_result"
    }
   ],
   "source": [
    "# let's see if NaN values show up in the top 10 for value counts\n",
    "data['org_pac_id'].value_counts(dropna=False).head(10)"
   ]
  },
  {
   "cell_type": "markdown",
   "metadata": {},
   "source": [
    "`NaN` is again the leader. However, we cannot use `None` here because they data in this column is a `int64` numeric type. What we can do then, as a proxy for `None` is to use `0`. Let's go ahead and see what happens when we apply this change."
   ]
  },
  {
   "cell_type": "code",
   "execution_count": 66,
   "metadata": {},
   "outputs": [
    {
     "data": {
      "text/plain": [
       "0.000000e+00    177997\n",
       "3.779497e+09     30852\n",
       "6.002729e+09     18240\n",
       "1.850204e+09     13097\n",
       "8.921910e+09     12647\n",
       "1.355254e+09     12462\n",
       "8.729990e+09     12242\n",
       "3.375702e+09     11005\n",
       "1.355232e+09      9143\n",
       "3.451463e+08      8397\n",
       "Name: org_pac_id, dtype: int64"
      ]
     },
     "execution_count": 66,
     "metadata": {},
     "output_type": "execute_result"
    }
   ],
   "source": [
    "# fill NaN with 0 and return top 10 value coounts\n",
    "data['org_pac_id'].fillna(0).value_counts().head(10)"
   ]
  },
  {
   "cell_type": "markdown",
   "metadata": {},
   "source": [
    "Good, all of the `NaN`s have been replaced by `0`. We'll need to take note though that there was that discrepancy between the number of unique values in the `org_lgl_nm` column and the `org_pac_id` column and explore it further. For now though lets move onto the `num_org_mem` column, which is linked to the previous two columns as well. Below is the columns description:\n",
    "\n",
    "- \"_Total number of individual professionals affiliated with the Group Practice based on Group Practice PAC ID_\"\n",
    "\n",
    "From the description, this number has to do with how many professionals are in each Group Practice. So if an individual physician is not part of a Group Practice, it could be said that there is only 1 in that group (i.e. just that individual physician). However, let's be sure to take a look at the value counts because this may be one of the values already, and if it is, then we'll have to find another way to address the `NaN`s."
   ]
  },
  {
   "cell_type": "code",
   "execution_count": 70,
   "metadata": {},
   "outputs": [
    {
     "name": "stdout",
     "output_type": "stream",
     "text": [
      "There are 177997 missing values in the num_org_mem column.\n"
     ]
    }
   ],
   "source": [
    "# how many missing values are in the num_org_mem column?\n",
    "print('There are {} missing values in the num_org_mem column.'.format(data['num_org_mem'].isna().sum()))"
   ]
  },
  {
   "cell_type": "code",
   "execution_count": 72,
   "metadata": {},
   "outputs": [
    {
     "name": "stdout",
     "output_type": "stream",
     "text": [
      "There are 649 unique values in the num_org_mem column.\n"
     ]
    }
   ],
   "source": [
    "# how many unique values are there in the num_org_mem column?\n",
    "print('There are {} unique values in the num_org_mem column.'.format(len(data['num_org_mem'].unique())))"
   ]
  },
  {
   "cell_type": "code",
   "execution_count": 73,
   "metadata": {},
   "outputs": [
    {
     "data": {
      "text/plain": [
       "NaN       177997\n",
       "2.0        56170\n",
       "3.0        42884\n",
       "4.0        36351\n",
       "5.0        31302\n",
       "2686.0     30852\n",
       "6.0        26382\n",
       "7.0        23366\n",
       "8.0        22634\n",
       "9.0        19526\n",
       "Name: num_org_mem, dtype: int64"
      ]
     },
     "execution_count": 73,
     "metadata": {},
     "output_type": "execute_result"
    }
   ],
   "source": [
    "# let's see if NaN values show up in the top 10 for value counts\n",
    "data['num_org_mem'].value_counts(dropna=False).head(10)"
   ]
  },
  {
   "cell_type": "markdown",
   "metadata": {},
   "source": [
    "The value count above gives us a few insights into the `num_org_mem` column. The first one is that we need to change this column from a `float` to an `int` type; the second one is that since there are no values of `1` in this column (representing a solo physician), we can use that to represent physician's that are not associated with any particular Group Practice; lastly, we can see that outside the value of `2686.0` it looks like most physicians tend to be part of Group Practices that are relatively small (_< 10_). This will be something to explore further later on. For now though lets replace the `NaN` with `1` and remove the decimal."
   ]
  },
  {
   "cell_type": "code",
   "execution_count": 77,
   "metadata": {},
   "outputs": [
    {
     "data": {
      "text/plain": [
       "2210761    1079.0\n",
       "2210762       NaN\n",
       "2210763       3.0\n",
       "2210764       3.0\n",
       "2210765       4.0\n",
       "2210766    8118.0\n",
       "2210767    8118.0\n",
       "2210768    8118.0\n",
       "2210769    8118.0\n",
       "2210770    1147.0\n",
       "2210771       9.0\n",
       "2210772       9.0\n",
       "2210773       NaN\n",
       "2210774       NaN\n",
       "2210775     105.0\n",
       "Name: num_org_mem, dtype: float64"
      ]
     },
     "execution_count": 77,
     "metadata": {},
     "output_type": "execute_result"
    }
   ],
   "source": [
    "# show what missing values looked like before\n",
    "data['num_org_mem'][2210761:2210776]"
   ]
  },
  {
   "cell_type": "code",
   "execution_count": 78,
   "metadata": {},
   "outputs": [
    {
     "data": {
      "text/plain": [
       "2210761    1079.0\n",
       "2210762       1.0\n",
       "2210763       3.0\n",
       "2210764       3.0\n",
       "2210765       4.0\n",
       "2210766    8118.0\n",
       "2210767    8118.0\n",
       "2210768    8118.0\n",
       "2210769    8118.0\n",
       "2210770    1147.0\n",
       "2210771       9.0\n",
       "2210772       9.0\n",
       "2210773       1.0\n",
       "2210774       1.0\n",
       "2210775     105.0\n",
       "Name: num_org_mem, dtype: float64"
      ]
     },
     "execution_count": 78,
     "metadata": {},
     "output_type": "execute_result"
    }
   ],
   "source": [
    "# show the after (i.e. what we are doing with missing values in column)\n",
    "data['num_org_mem'].fillna(1)[2210761:2210776]"
   ]
  },
  {
   "cell_type": "code",
   "execution_count": 79,
   "metadata": {},
   "outputs": [],
   "source": [
    "# apply the above method to the num_org_mem column\n",
    "data['num_org_mem'] = data['num_org_mem'].fillna(1)"
   ]
  },
  {
   "cell_type": "code",
   "execution_count": 82,
   "metadata": {},
   "outputs": [
    {
     "data": {
      "text/plain": [
       "0    182\n",
       "1    182\n",
       "2    182\n",
       "3    133\n",
       "4    133\n",
       "Name: num_org_mem, dtype: int64"
      ]
     },
     "execution_count": 82,
     "metadata": {},
     "output_type": "execute_result"
    }
   ],
   "source": [
    "# example of converting to int type (i.e. no decimals since you can't have a portion of a person!)\n",
    "data['num_org_mem'].astype(int)[:5]"
   ]
  },
  {
   "cell_type": "code",
   "execution_count": 83,
   "metadata": {},
   "outputs": [],
   "source": [
    "# apply the above method to the column\n",
    "data['num_org_mem'] = data['num_org_mem'].astype(int)"
   ]
  },
  {
   "cell_type": "code",
   "execution_count": 84,
   "metadata": {},
   "outputs": [
    {
     "data": {
      "text/plain": [
       "1       177997\n",
       "2        56170\n",
       "3        42884\n",
       "4        36351\n",
       "5        31302\n",
       "2686     30852\n",
       "6        26382\n",
       "7        23366\n",
       "8        22634\n",
       "9        19526\n",
       "Name: num_org_mem, dtype: int64"
      ]
     },
     "execution_count": 84,
     "metadata": {},
     "output_type": "execute_result"
    }
   ],
   "source": [
    "# final check of the column\n",
    "data['num_org_mem'].value_counts(dropna=False).head(10)"
   ]
  },
  {
   "cell_type": "markdown",
   "metadata": {},
   "source": [
    "Next we're going to move into the columns pertaining to addresses. Lets take a look at the number of missing values in each of them."
   ]
  },
  {
   "cell_type": "code",
   "execution_count": 86,
   "metadata": {},
   "outputs": [
    {
     "name": "stdout",
     "output_type": "stream",
     "text": [
      "There are 0 missing values in the adr_ln_1 column\n",
      "There are 1440523 missing values in the adr_ln_2 column\n",
      "There are 2084103 missing values in the ln_2_sprs column\n",
      "There are 0 missing values in the cty column\n",
      "There are 0 missing values in the st column\n",
      "There are 0 missing values in the zip column\n"
     ]
    }
   ],
   "source": [
    "# gather counts for missing values for columns linked to address information\n",
    "for col in data[['adr_ln_1', 'adr_ln_2', 'ln_2_sprs', 'cty', 'st', 'zip']]:\n",
    "    missing = data[col].isna().sum()\n",
    "    print('There are {} missing values in the {} column'.format(missing, col))"
   ]
  },
  {
   "cell_type": "markdown",
   "metadata": {},
   "source": [
    "It looks like we're good to go in regards to the primary address columns: `adr_ln_1`, `cty`, `st` and `zip`. The first column with missing values - `adr_ln_2` - is mostly supplementary; however, `ln_2_sprs` is its own entity and represents if that particular observations address may be incomplete. What should we do here? Well we can first fill in the `NaN`s in the `adr_ln_2` columns with a blank `\"\"`, and then we can look further into the `ln_2_sprs` to see how many incomplete addresses we are dealing with. \n",
    "\n",
    "After that, we can then look into combining address information into one column, as `pandas` makes it pretty easy to combine columns."
   ]
  },
  {
   "cell_type": "code",
   "execution_count": 90,
   "metadata": {},
   "outputs": [],
   "source": [
    "# replace NaN with blank input for adr_ln_2 column\n",
    "data['adr_ln_2'] = data['adr_ln_2'].fillna(\"\")"
   ]
  },
  {
   "cell_type": "code",
   "execution_count": 91,
   "metadata": {},
   "outputs": [
    {
     "data": {
      "text/plain": [
       "NaN    2084103\n",
       "Y       126687\n",
       "Name: ln_2_sprs, dtype: int64"
      ]
     },
     "execution_count": 91,
     "metadata": {},
     "output_type": "execute_result"
    }
   ],
   "source": [
    "# take a look at the value count in the ln_2_sprs column\n",
    "data['ln_2_sprs'].value_counts(dropna=False)"
   ]
  },
  {
   "cell_type": "code",
   "execution_count": 96,
   "metadata": {},
   "outputs": [
    {
     "data": {
      "text/plain": [
       "NaN    94.27\n",
       "Y       5.73\n",
       "Name: ln_2_sprs, dtype: float64"
      ]
     },
     "execution_count": 96,
     "metadata": {},
     "output_type": "execute_result"
    }
   ],
   "source": [
    "# same as above but presented as a percentage of the values\n",
    "round((data['ln_2_sprs'].value_counts(dropna=False, normalize=True) * 100), 2)"
   ]
  },
  {
   "cell_type": "markdown",
   "metadata": {},
   "source": [
    "It looks like most of the addresses are good, with only approximately ~5% potentially being incomplete. Let's take a quick look at these 'incomplete' addresses to see what they may look like."
   ]
  },
  {
   "cell_type": "code",
   "execution_count": 98,
   "metadata": {},
   "outputs": [
    {
     "data": {
      "text/plain": [
       "0    N\n",
       "1    N\n",
       "2    N\n",
       "3    N\n",
       "4    N\n",
       "5    N\n",
       "6    Y\n",
       "7    N\n",
       "8    Y\n",
       "9    N\n",
       "Name: ln_2_sprs, dtype: object"
      ]
     },
     "execution_count": 98,
     "metadata": {},
     "output_type": "execute_result"
    }
   ],
   "source": [
    "# replace NaN with N (represents No)\n",
    "data['ln_2_sprs'] = data['ln_2_sprs'].fillna('N'); data['ln_2_sprs'][:10]"
   ]
  },
  {
   "cell_type": "code",
   "execution_count": 99,
   "metadata": {},
   "outputs": [
    {
     "data": {
      "text/plain": [
       "N    94.27\n",
       "Y     5.73\n",
       "Name: ln_2_sprs, dtype: float64"
      ]
     },
     "execution_count": 99,
     "metadata": {},
     "output_type": "execute_result"
    }
   ],
   "source": [
    "# same as above but presented as a percentage of the values\n",
    "round((data['ln_2_sprs'].value_counts(dropna=False, normalize=True) * 100), 2)"
   ]
  },
  {
   "cell_type": "code",
   "execution_count": 102,
   "metadata": {},
   "outputs": [
    {
     "data": {
      "text/html": [
       "<div>\n",
       "<style scoped>\n",
       "    .dataframe tbody tr th:only-of-type {\n",
       "        vertical-align: middle;\n",
       "    }\n",
       "\n",
       "    .dataframe tbody tr th {\n",
       "        vertical-align: top;\n",
       "    }\n",
       "\n",
       "    .dataframe thead th {\n",
       "        text-align: right;\n",
       "    }\n",
       "</style>\n",
       "<table border=\"1\" class=\"dataframe\">\n",
       "  <thead>\n",
       "    <tr style=\"text-align: right;\">\n",
       "      <th></th>\n",
       "      <th>npi</th>\n",
       "      <th>ind_pac_id</th>\n",
       "      <th>ind_enrl_id</th>\n",
       "      <th>full_nm</th>\n",
       "      <th>gndr</th>\n",
       "      <th>cred</th>\n",
       "      <th>med_sch</th>\n",
       "      <th>grd_yr</th>\n",
       "      <th>pri_spec</th>\n",
       "      <th>sec_spec_1</th>\n",
       "      <th>sec_spec_2</th>\n",
       "      <th>sec_spec_3</th>\n",
       "      <th>sec_spec_4</th>\n",
       "      <th>sec_spec_all</th>\n",
       "      <th>org_lgl_nm</th>\n",
       "      <th>org_pac_id</th>\n",
       "      <th>num_org_mem</th>\n",
       "      <th>adr_ln_1</th>\n",
       "      <th>adr_ln_2</th>\n",
       "      <th>ln_2_sprs</th>\n",
       "      <th>cty</th>\n",
       "      <th>st</th>\n",
       "      <th>zip</th>\n",
       "      <th>phn_numbr</th>\n",
       "      <th>hosp_afl_1</th>\n",
       "      <th>hosp_afl_lbn_1</th>\n",
       "      <th>hosp_afl_2</th>\n",
       "      <th>hosp_afl_lbn_2</th>\n",
       "      <th>hosp_afl_3</th>\n",
       "      <th>hosp_afl_lbn_3</th>\n",
       "      <th>hosp_afl_4</th>\n",
       "      <th>hosp_afl_lbn_4</th>\n",
       "      <th>hosp_afl_5</th>\n",
       "      <th>hosp_afl_lbn_5</th>\n",
       "      <th>assgn</th>\n",
       "    </tr>\n",
       "  </thead>\n",
       "  <tbody>\n",
       "    <tr>\n",
       "      <th>6</th>\n",
       "      <td>1003000134</td>\n",
       "      <td>4284706367</td>\n",
       "      <td>I20080707000385</td>\n",
       "      <td>THOMAS L CIBULL</td>\n",
       "      <td>M</td>\n",
       "      <td>Not Listed</td>\n",
       "      <td>UNIVERSITY OF KENTUCKY COLLEGE OF MEDICINE</td>\n",
       "      <td>2003</td>\n",
       "      <td>PATHOLOGY</td>\n",
       "      <td>None</td>\n",
       "      <td>None</td>\n",
       "      <td>None</td>\n",
       "      <td>None</td>\n",
       "      <td>None</td>\n",
       "      <td>NORTHSHORE UNIVERSITY HEALTHSYSTEM FACULTY PRA...</td>\n",
       "      <td>2.163335e+09</td>\n",
       "      <td>1286</td>\n",
       "      <td>2180 PFINGSTEN RD 1ST FLOOR</td>\n",
       "      <td></td>\n",
       "      <td>Y</td>\n",
       "      <td>GLENVIEW</td>\n",
       "      <td>IL</td>\n",
       "      <td>600261301</td>\n",
       "      <td>NaN</td>\n",
       "      <td>140010.0</td>\n",
       "      <td>NORTHSHORE UNIVERSITY HEALTHSYSTEM - EVANSTON ...</td>\n",
       "      <td>NaN</td>\n",
       "      <td>NaN</td>\n",
       "      <td>NaN</td>\n",
       "      <td>NaN</td>\n",
       "      <td>NaN</td>\n",
       "      <td>NaN</td>\n",
       "      <td>NaN</td>\n",
       "      <td>NaN</td>\n",
       "      <td>Y</td>\n",
       "    </tr>\n",
       "    <tr>\n",
       "      <th>8</th>\n",
       "      <td>1003000134</td>\n",
       "      <td>4284706367</td>\n",
       "      <td>I20080707000385</td>\n",
       "      <td>THOMAS L CIBULL</td>\n",
       "      <td>M</td>\n",
       "      <td>Not Listed</td>\n",
       "      <td>UNIVERSITY OF KENTUCKY COLLEGE OF MEDICINE</td>\n",
       "      <td>2003</td>\n",
       "      <td>PATHOLOGY</td>\n",
       "      <td>None</td>\n",
       "      <td>None</td>\n",
       "      <td>None</td>\n",
       "      <td>None</td>\n",
       "      <td>None</td>\n",
       "      <td>NORTHSHORE UNIVERSITY HEALTHSYSTEM FACULTY PRA...</td>\n",
       "      <td>2.163335e+09</td>\n",
       "      <td>1286</td>\n",
       "      <td>777 PARK AVE W</td>\n",
       "      <td></td>\n",
       "      <td>Y</td>\n",
       "      <td>HIGHALND PARK</td>\n",
       "      <td>IL</td>\n",
       "      <td>600352433</td>\n",
       "      <td>NaN</td>\n",
       "      <td>140010.0</td>\n",
       "      <td>NORTHSHORE UNIVERSITY HEALTHSYSTEM - EVANSTON ...</td>\n",
       "      <td>NaN</td>\n",
       "      <td>NaN</td>\n",
       "      <td>NaN</td>\n",
       "      <td>NaN</td>\n",
       "      <td>NaN</td>\n",
       "      <td>NaN</td>\n",
       "      <td>NaN</td>\n",
       "      <td>NaN</td>\n",
       "      <td>Y</td>\n",
       "    </tr>\n",
       "    <tr>\n",
       "      <th>11</th>\n",
       "      <td>1003000134</td>\n",
       "      <td>4284706367</td>\n",
       "      <td>I20080707000385</td>\n",
       "      <td>THOMAS L CIBULL</td>\n",
       "      <td>M</td>\n",
       "      <td>Not Listed</td>\n",
       "      <td>UNIVERSITY OF KENTUCKY COLLEGE OF MEDICINE</td>\n",
       "      <td>2003</td>\n",
       "      <td>PATHOLOGY</td>\n",
       "      <td>None</td>\n",
       "      <td>None</td>\n",
       "      <td>None</td>\n",
       "      <td>None</td>\n",
       "      <td>None</td>\n",
       "      <td>NORTHSHORE UNIVERSITY HEALTHSYSTEM FACULTY PRA...</td>\n",
       "      <td>2.163335e+09</td>\n",
       "      <td>1286</td>\n",
       "      <td>9650 GROSS POINT RD</td>\n",
       "      <td></td>\n",
       "      <td>Y</td>\n",
       "      <td>SKOKIE</td>\n",
       "      <td>IL</td>\n",
       "      <td>600761214</td>\n",
       "      <td>NaN</td>\n",
       "      <td>140010.0</td>\n",
       "      <td>NORTHSHORE UNIVERSITY HEALTHSYSTEM - EVANSTON ...</td>\n",
       "      <td>NaN</td>\n",
       "      <td>NaN</td>\n",
       "      <td>NaN</td>\n",
       "      <td>NaN</td>\n",
       "      <td>NaN</td>\n",
       "      <td>NaN</td>\n",
       "      <td>NaN</td>\n",
       "      <td>NaN</td>\n",
       "      <td>Y</td>\n",
       "    </tr>\n",
       "    <tr>\n",
       "      <th>14</th>\n",
       "      <td>1003000142</td>\n",
       "      <td>9931380672</td>\n",
       "      <td>I20110801000609</td>\n",
       "      <td>RASHID  KHALIL</td>\n",
       "      <td>M</td>\n",
       "      <td>Not Listed</td>\n",
       "      <td>OTHER</td>\n",
       "      <td>1999</td>\n",
       "      <td>ANESTHESIOLOGY</td>\n",
       "      <td>None</td>\n",
       "      <td>None</td>\n",
       "      <td>None</td>\n",
       "      <td>None</td>\n",
       "      <td>None</td>\n",
       "      <td>MERCY HEALTH PHYSICIANS - NORTH, LLC.</td>\n",
       "      <td>2.668522e+09</td>\n",
       "      <td>376</td>\n",
       "      <td>2213 CHERRY ST</td>\n",
       "      <td></td>\n",
       "      <td>Y</td>\n",
       "      <td>TOLEDO</td>\n",
       "      <td>OH</td>\n",
       "      <td>436082603</td>\n",
       "      <td>NaN</td>\n",
       "      <td>360262.0</td>\n",
       "      <td>MERCY ST ANNE HOSPITAL</td>\n",
       "      <td>360112.0</td>\n",
       "      <td>MERCY ST VINCENT MEDICAL CENTER</td>\n",
       "      <td>360081.0</td>\n",
       "      <td>MERCY ST CHARLES HOSPITAL</td>\n",
       "      <td>NaN</td>\n",
       "      <td>NaN</td>\n",
       "      <td>NaN</td>\n",
       "      <td>NaN</td>\n",
       "      <td>Y</td>\n",
       "    </tr>\n",
       "    <tr>\n",
       "      <th>15</th>\n",
       "      <td>1003000142</td>\n",
       "      <td>9931380672</td>\n",
       "      <td>I20110801000609</td>\n",
       "      <td>RASHID  KHALIL</td>\n",
       "      <td>M</td>\n",
       "      <td>Not Listed</td>\n",
       "      <td>OTHER</td>\n",
       "      <td>1999</td>\n",
       "      <td>ANESTHESIOLOGY</td>\n",
       "      <td>None</td>\n",
       "      <td>None</td>\n",
       "      <td>None</td>\n",
       "      <td>None</td>\n",
       "      <td>None</td>\n",
       "      <td>MERCY HEALTH PHYSICIANS - NORTH, LLC.</td>\n",
       "      <td>2.668522e+09</td>\n",
       "      <td>376</td>\n",
       "      <td>2222 CHERRY ST</td>\n",
       "      <td></td>\n",
       "      <td>Y</td>\n",
       "      <td>TOLEDO</td>\n",
       "      <td>OH</td>\n",
       "      <td>436082675</td>\n",
       "      <td>NaN</td>\n",
       "      <td>360262.0</td>\n",
       "      <td>MERCY ST ANNE HOSPITAL</td>\n",
       "      <td>360112.0</td>\n",
       "      <td>MERCY ST VINCENT MEDICAL CENTER</td>\n",
       "      <td>360081.0</td>\n",
       "      <td>MERCY ST CHARLES HOSPITAL</td>\n",
       "      <td>NaN</td>\n",
       "      <td>NaN</td>\n",
       "      <td>NaN</td>\n",
       "      <td>NaN</td>\n",
       "      <td>Y</td>\n",
       "    </tr>\n",
       "  </tbody>\n",
       "</table>\n",
       "</div>"
      ],
      "text/plain": [
       "           npi  ind_pac_id      ind_enrl_id           full_nm gndr  \\\n",
       "6   1003000134  4284706367  I20080707000385  THOMAS L CIBULL     M   \n",
       "8   1003000134  4284706367  I20080707000385  THOMAS L CIBULL     M   \n",
       "11  1003000134  4284706367  I20080707000385  THOMAS L CIBULL     M   \n",
       "14  1003000142  9931380672  I20110801000609   RASHID  KHALIL     M   \n",
       "15  1003000142  9931380672  I20110801000609   RASHID  KHALIL     M   \n",
       "\n",
       "          cred                                     med_sch  grd_yr  \\\n",
       "6   Not Listed  UNIVERSITY OF KENTUCKY COLLEGE OF MEDICINE    2003   \n",
       "8   Not Listed  UNIVERSITY OF KENTUCKY COLLEGE OF MEDICINE    2003   \n",
       "11  Not Listed  UNIVERSITY OF KENTUCKY COLLEGE OF MEDICINE    2003   \n",
       "14  Not Listed                                       OTHER    1999   \n",
       "15  Not Listed                                       OTHER    1999   \n",
       "\n",
       "          pri_spec sec_spec_1 sec_spec_2 sec_spec_3 sec_spec_4 sec_spec_all  \\\n",
       "6        PATHOLOGY       None       None       None       None         None   \n",
       "8        PATHOLOGY       None       None       None       None         None   \n",
       "11       PATHOLOGY       None       None       None       None         None   \n",
       "14  ANESTHESIOLOGY       None       None       None       None         None   \n",
       "15  ANESTHESIOLOGY       None       None       None       None         None   \n",
       "\n",
       "                                           org_lgl_nm    org_pac_id  \\\n",
       "6   NORTHSHORE UNIVERSITY HEALTHSYSTEM FACULTY PRA...  2.163335e+09   \n",
       "8   NORTHSHORE UNIVERSITY HEALTHSYSTEM FACULTY PRA...  2.163335e+09   \n",
       "11  NORTHSHORE UNIVERSITY HEALTHSYSTEM FACULTY PRA...  2.163335e+09   \n",
       "14              MERCY HEALTH PHYSICIANS - NORTH, LLC.  2.668522e+09   \n",
       "15              MERCY HEALTH PHYSICIANS - NORTH, LLC.  2.668522e+09   \n",
       "\n",
       "    num_org_mem                     adr_ln_1 adr_ln_2 ln_2_sprs  \\\n",
       "6          1286  2180 PFINGSTEN RD 1ST FLOOR                  Y   \n",
       "8          1286               777 PARK AVE W                  Y   \n",
       "11         1286          9650 GROSS POINT RD                  Y   \n",
       "14          376               2213 CHERRY ST                  Y   \n",
       "15          376               2222 CHERRY ST                  Y   \n",
       "\n",
       "              cty  st        zip  phn_numbr hosp_afl_1  \\\n",
       "6        GLENVIEW  IL  600261301        NaN   140010.0   \n",
       "8   HIGHALND PARK  IL  600352433        NaN   140010.0   \n",
       "11         SKOKIE  IL  600761214        NaN   140010.0   \n",
       "14         TOLEDO  OH  436082603        NaN   360262.0   \n",
       "15         TOLEDO  OH  436082675        NaN   360262.0   \n",
       "\n",
       "                                       hosp_afl_lbn_1 hosp_afl_2  \\\n",
       "6   NORTHSHORE UNIVERSITY HEALTHSYSTEM - EVANSTON ...        NaN   \n",
       "8   NORTHSHORE UNIVERSITY HEALTHSYSTEM - EVANSTON ...        NaN   \n",
       "11  NORTHSHORE UNIVERSITY HEALTHSYSTEM - EVANSTON ...        NaN   \n",
       "14                             MERCY ST ANNE HOSPITAL   360112.0   \n",
       "15                             MERCY ST ANNE HOSPITAL   360112.0   \n",
       "\n",
       "                     hosp_afl_lbn_2 hosp_afl_3             hosp_afl_lbn_3  \\\n",
       "6                               NaN        NaN                        NaN   \n",
       "8                               NaN        NaN                        NaN   \n",
       "11                              NaN        NaN                        NaN   \n",
       "14  MERCY ST VINCENT MEDICAL CENTER   360081.0  MERCY ST CHARLES HOSPITAL   \n",
       "15  MERCY ST VINCENT MEDICAL CENTER   360081.0  MERCY ST CHARLES HOSPITAL   \n",
       "\n",
       "   hosp_afl_4 hosp_afl_lbn_4  hosp_afl_5 hosp_afl_lbn_5 assgn  \n",
       "6         NaN            NaN         NaN            NaN     Y  \n",
       "8         NaN            NaN         NaN            NaN     Y  \n",
       "11        NaN            NaN         NaN            NaN     Y  \n",
       "14        NaN            NaN         NaN            NaN     Y  \n",
       "15        NaN            NaN         NaN            NaN     Y  "
      ]
     },
     "execution_count": 102,
     "metadata": {},
     "output_type": "execute_result"
    }
   ],
   "source": [
    "# subset of observations that have Y for potentially incomplete addresses\n",
    "data[data['ln_2_sprs'] == 'Y'].head()"
   ]
  },
  {
   "cell_type": "markdown",
   "metadata": {},
   "source": [
    "From a quick glance, it appears that what might be going on is the case where the physician's exact location is not known. For example, the primary address could be for a hospital's location, but does not include the physician's specific office number (or a similar situation). Let's go ahead and combine the two address columns - `adr_ln_1` and `adr_ln_2` into one column. We'll keep the `ln_2_sprs` column just in case we need it down the road though."
   ]
  },
  {
   "cell_type": "code",
   "execution_count": 110,
   "metadata": {},
   "outputs": [],
   "source": [
    "# combine address columns together into a full address column\n",
    "full_adr = data['adr_ln_1'].astype(str) + ' ' + data['adr_ln_2'].astype(str)"
   ]
  },
  {
   "cell_type": "code",
   "execution_count": 111,
   "metadata": {},
   "outputs": [],
   "source": [
    "# insert the combined addresses into data at specified column index\n",
    "data.insert(19, column='full_adr', value=full_adr)"
   ]
  },
  {
   "cell_type": "code",
   "execution_count": 113,
   "metadata": {},
   "outputs": [
    {
     "data": {
      "text/html": [
       "<div>\n",
       "<style scoped>\n",
       "    .dataframe tbody tr th:only-of-type {\n",
       "        vertical-align: middle;\n",
       "    }\n",
       "\n",
       "    .dataframe tbody tr th {\n",
       "        vertical-align: top;\n",
       "    }\n",
       "\n",
       "    .dataframe thead th {\n",
       "        text-align: right;\n",
       "    }\n",
       "</style>\n",
       "<table border=\"1\" class=\"dataframe\">\n",
       "  <thead>\n",
       "    <tr style=\"text-align: right;\">\n",
       "      <th></th>\n",
       "      <th>npi</th>\n",
       "      <th>ind_pac_id</th>\n",
       "      <th>ind_enrl_id</th>\n",
       "      <th>full_nm</th>\n",
       "      <th>gndr</th>\n",
       "      <th>cred</th>\n",
       "      <th>med_sch</th>\n",
       "      <th>grd_yr</th>\n",
       "      <th>pri_spec</th>\n",
       "      <th>sec_spec_1</th>\n",
       "      <th>sec_spec_2</th>\n",
       "      <th>sec_spec_3</th>\n",
       "      <th>sec_spec_4</th>\n",
       "      <th>sec_spec_all</th>\n",
       "      <th>org_lgl_nm</th>\n",
       "      <th>org_pac_id</th>\n",
       "      <th>num_org_mem</th>\n",
       "      <th>adr_ln_1</th>\n",
       "      <th>adr_ln_2</th>\n",
       "      <th>full_adr</th>\n",
       "      <th>ln_2_sprs</th>\n",
       "      <th>cty</th>\n",
       "      <th>st</th>\n",
       "      <th>zip</th>\n",
       "      <th>phn_numbr</th>\n",
       "      <th>hosp_afl_1</th>\n",
       "      <th>hosp_afl_lbn_1</th>\n",
       "      <th>hosp_afl_2</th>\n",
       "      <th>hosp_afl_lbn_2</th>\n",
       "      <th>hosp_afl_3</th>\n",
       "      <th>hosp_afl_lbn_3</th>\n",
       "      <th>hosp_afl_4</th>\n",
       "      <th>hosp_afl_lbn_4</th>\n",
       "      <th>hosp_afl_5</th>\n",
       "      <th>hosp_afl_lbn_5</th>\n",
       "      <th>assgn</th>\n",
       "    </tr>\n",
       "  </thead>\n",
       "  <tbody>\n",
       "    <tr>\n",
       "      <th>0</th>\n",
       "      <td>1003000126</td>\n",
       "      <td>7517003643</td>\n",
       "      <td>I20130530000085</td>\n",
       "      <td>ARDALAN  ENKESHAFI</td>\n",
       "      <td>M</td>\n",
       "      <td>Not Listed</td>\n",
       "      <td>OTHER</td>\n",
       "      <td>1994</td>\n",
       "      <td>INTERNAL MEDICINE</td>\n",
       "      <td>None</td>\n",
       "      <td>None</td>\n",
       "      <td>None</td>\n",
       "      <td>None</td>\n",
       "      <td>None</td>\n",
       "      <td>EMERGENCY MEDICINE ASSOCIATES PA PC</td>\n",
       "      <td>8.022915e+09</td>\n",
       "      <td>182</td>\n",
       "      <td>1850 TOWN CTR PKWY</td>\n",
       "      <td></td>\n",
       "      <td>1850 TOWN CTR PKWY</td>\n",
       "      <td>N</td>\n",
       "      <td>RESTON</td>\n",
       "      <td>VA</td>\n",
       "      <td>201903219</td>\n",
       "      <td>7.036899e+09</td>\n",
       "      <td>490112.0</td>\n",
       "      <td>CJW MEDICAL CENTER</td>\n",
       "      <td>210028.0</td>\n",
       "      <td>MEDSTAR SAINT MARY'S HOSPITAL</td>\n",
       "      <td>NaN</td>\n",
       "      <td>NaN</td>\n",
       "      <td>NaN</td>\n",
       "      <td>NaN</td>\n",
       "      <td>NaN</td>\n",
       "      <td>NaN</td>\n",
       "      <td>Y</td>\n",
       "    </tr>\n",
       "    <tr>\n",
       "      <th>1</th>\n",
       "      <td>1003000126</td>\n",
       "      <td>7517003643</td>\n",
       "      <td>I20130530000085</td>\n",
       "      <td>ARDALAN  ENKESHAFI</td>\n",
       "      <td>M</td>\n",
       "      <td>Not Listed</td>\n",
       "      <td>OTHER</td>\n",
       "      <td>1994</td>\n",
       "      <td>INTERNAL MEDICINE</td>\n",
       "      <td>None</td>\n",
       "      <td>None</td>\n",
       "      <td>None</td>\n",
       "      <td>None</td>\n",
       "      <td>None</td>\n",
       "      <td>EMERGENCY MEDICINE ASSOCIATES PA PC</td>\n",
       "      <td>8.022915e+09</td>\n",
       "      <td>182</td>\n",
       "      <td>1701 N GEORGE MASON DR</td>\n",
       "      <td></td>\n",
       "      <td>1701 N GEORGE MASON DR</td>\n",
       "      <td>N</td>\n",
       "      <td>ARLINGTON</td>\n",
       "      <td>VA</td>\n",
       "      <td>222053610</td>\n",
       "      <td>7.035586e+09</td>\n",
       "      <td>490112.0</td>\n",
       "      <td>CJW MEDICAL CENTER</td>\n",
       "      <td>210028.0</td>\n",
       "      <td>MEDSTAR SAINT MARY'S HOSPITAL</td>\n",
       "      <td>NaN</td>\n",
       "      <td>NaN</td>\n",
       "      <td>NaN</td>\n",
       "      <td>NaN</td>\n",
       "      <td>NaN</td>\n",
       "      <td>NaN</td>\n",
       "      <td>Y</td>\n",
       "    </tr>\n",
       "    <tr>\n",
       "      <th>2</th>\n",
       "      <td>1003000126</td>\n",
       "      <td>7517003643</td>\n",
       "      <td>I20150824000105</td>\n",
       "      <td>ARDALAN  ENKESHAFI</td>\n",
       "      <td>M</td>\n",
       "      <td>Not Listed</td>\n",
       "      <td>OTHER</td>\n",
       "      <td>1994</td>\n",
       "      <td>INTERNAL MEDICINE</td>\n",
       "      <td>None</td>\n",
       "      <td>None</td>\n",
       "      <td>None</td>\n",
       "      <td>None</td>\n",
       "      <td>None</td>\n",
       "      <td>EMERGENCY MEDICINE ASSOCIATES PA PC</td>\n",
       "      <td>8.022915e+09</td>\n",
       "      <td>182</td>\n",
       "      <td>24440 STONE SPRINGS BLVD</td>\n",
       "      <td></td>\n",
       "      <td>24440 STONE SPRINGS BLVD</td>\n",
       "      <td>N</td>\n",
       "      <td>DULLES</td>\n",
       "      <td>VA</td>\n",
       "      <td>201662247</td>\n",
       "      <td>5.713674e+09</td>\n",
       "      <td>490112.0</td>\n",
       "      <td>CJW MEDICAL CENTER</td>\n",
       "      <td>210028.0</td>\n",
       "      <td>MEDSTAR SAINT MARY'S HOSPITAL</td>\n",
       "      <td>NaN</td>\n",
       "      <td>NaN</td>\n",
       "      <td>NaN</td>\n",
       "      <td>NaN</td>\n",
       "      <td>NaN</td>\n",
       "      <td>NaN</td>\n",
       "      <td>Y</td>\n",
       "    </tr>\n",
       "    <tr>\n",
       "      <th>3</th>\n",
       "      <td>1003000126</td>\n",
       "      <td>7517003643</td>\n",
       "      <td>I20150824000105</td>\n",
       "      <td>ARDALAN  ENKESHAFI</td>\n",
       "      <td>M</td>\n",
       "      <td>Not Listed</td>\n",
       "      <td>OTHER</td>\n",
       "      <td>1994</td>\n",
       "      <td>INTERNAL MEDICINE</td>\n",
       "      <td>None</td>\n",
       "      <td>None</td>\n",
       "      <td>None</td>\n",
       "      <td>None</td>\n",
       "      <td>None</td>\n",
       "      <td>SOUTHEASTERN INTENSIVIST SERVICES PC</td>\n",
       "      <td>9.335152e+09</td>\n",
       "      <td>133</td>\n",
       "      <td>1401 JOHNSTON WILLIS DR</td>\n",
       "      <td></td>\n",
       "      <td>1401 JOHNSTON WILLIS DR</td>\n",
       "      <td>N</td>\n",
       "      <td>NORTH CHESTERFIELD</td>\n",
       "      <td>VA</td>\n",
       "      <td>232354730</td>\n",
       "      <td>8.044835e+09</td>\n",
       "      <td>490112.0</td>\n",
       "      <td>CJW MEDICAL CENTER</td>\n",
       "      <td>210028.0</td>\n",
       "      <td>MEDSTAR SAINT MARY'S HOSPITAL</td>\n",
       "      <td>NaN</td>\n",
       "      <td>NaN</td>\n",
       "      <td>NaN</td>\n",
       "      <td>NaN</td>\n",
       "      <td>NaN</td>\n",
       "      <td>NaN</td>\n",
       "      <td>Y</td>\n",
       "    </tr>\n",
       "    <tr>\n",
       "      <th>4</th>\n",
       "      <td>1003000126</td>\n",
       "      <td>7517003643</td>\n",
       "      <td>I20150824000105</td>\n",
       "      <td>ARDALAN  ENKESHAFI</td>\n",
       "      <td>M</td>\n",
       "      <td>Not Listed</td>\n",
       "      <td>OTHER</td>\n",
       "      <td>1994</td>\n",
       "      <td>INTERNAL MEDICINE</td>\n",
       "      <td>None</td>\n",
       "      <td>None</td>\n",
       "      <td>None</td>\n",
       "      <td>None</td>\n",
       "      <td>None</td>\n",
       "      <td>SOUTHEASTERN INTENSIVIST SERVICES PC</td>\n",
       "      <td>9.335152e+09</td>\n",
       "      <td>133</td>\n",
       "      <td>411 W RANDOLPH RD</td>\n",
       "      <td></td>\n",
       "      <td>411 W RANDOLPH RD</td>\n",
       "      <td>N</td>\n",
       "      <td>HOPEWELL</td>\n",
       "      <td>VA</td>\n",
       "      <td>238602938</td>\n",
       "      <td>8.045412e+09</td>\n",
       "      <td>490112.0</td>\n",
       "      <td>CJW MEDICAL CENTER</td>\n",
       "      <td>210028.0</td>\n",
       "      <td>MEDSTAR SAINT MARY'S HOSPITAL</td>\n",
       "      <td>NaN</td>\n",
       "      <td>NaN</td>\n",
       "      <td>NaN</td>\n",
       "      <td>NaN</td>\n",
       "      <td>NaN</td>\n",
       "      <td>NaN</td>\n",
       "      <td>Y</td>\n",
       "    </tr>\n",
       "  </tbody>\n",
       "</table>\n",
       "</div>"
      ],
      "text/plain": [
       "          npi  ind_pac_id      ind_enrl_id              full_nm gndr  \\\n",
       "0  1003000126  7517003643  I20130530000085  ARDALAN  ENKESHAFI     M   \n",
       "1  1003000126  7517003643  I20130530000085  ARDALAN  ENKESHAFI     M   \n",
       "2  1003000126  7517003643  I20150824000105  ARDALAN  ENKESHAFI     M   \n",
       "3  1003000126  7517003643  I20150824000105  ARDALAN  ENKESHAFI     M   \n",
       "4  1003000126  7517003643  I20150824000105  ARDALAN  ENKESHAFI     M   \n",
       "\n",
       "         cred med_sch  grd_yr           pri_spec sec_spec_1 sec_spec_2  \\\n",
       "0  Not Listed   OTHER    1994  INTERNAL MEDICINE       None       None   \n",
       "1  Not Listed   OTHER    1994  INTERNAL MEDICINE       None       None   \n",
       "2  Not Listed   OTHER    1994  INTERNAL MEDICINE       None       None   \n",
       "3  Not Listed   OTHER    1994  INTERNAL MEDICINE       None       None   \n",
       "4  Not Listed   OTHER    1994  INTERNAL MEDICINE       None       None   \n",
       "\n",
       "  sec_spec_3 sec_spec_4 sec_spec_all                            org_lgl_nm  \\\n",
       "0       None       None         None   EMERGENCY MEDICINE ASSOCIATES PA PC   \n",
       "1       None       None         None   EMERGENCY MEDICINE ASSOCIATES PA PC   \n",
       "2       None       None         None   EMERGENCY MEDICINE ASSOCIATES PA PC   \n",
       "3       None       None         None  SOUTHEASTERN INTENSIVIST SERVICES PC   \n",
       "4       None       None         None  SOUTHEASTERN INTENSIVIST SERVICES PC   \n",
       "\n",
       "     org_pac_id  num_org_mem                  adr_ln_1 adr_ln_2  \\\n",
       "0  8.022915e+09          182        1850 TOWN CTR PKWY            \n",
       "1  8.022915e+09          182    1701 N GEORGE MASON DR            \n",
       "2  8.022915e+09          182  24440 STONE SPRINGS BLVD            \n",
       "3  9.335152e+09          133   1401 JOHNSTON WILLIS DR            \n",
       "4  9.335152e+09          133         411 W RANDOLPH RD            \n",
       "\n",
       "                    full_adr ln_2_sprs                 cty  st        zip  \\\n",
       "0        1850 TOWN CTR PKWY          N              RESTON  VA  201903219   \n",
       "1    1701 N GEORGE MASON DR          N           ARLINGTON  VA  222053610   \n",
       "2  24440 STONE SPRINGS BLVD          N              DULLES  VA  201662247   \n",
       "3   1401 JOHNSTON WILLIS DR          N  NORTH CHESTERFIELD  VA  232354730   \n",
       "4         411 W RANDOLPH RD          N            HOPEWELL  VA  238602938   \n",
       "\n",
       "      phn_numbr hosp_afl_1      hosp_afl_lbn_1 hosp_afl_2  \\\n",
       "0  7.036899e+09   490112.0  CJW MEDICAL CENTER   210028.0   \n",
       "1  7.035586e+09   490112.0  CJW MEDICAL CENTER   210028.0   \n",
       "2  5.713674e+09   490112.0  CJW MEDICAL CENTER   210028.0   \n",
       "3  8.044835e+09   490112.0  CJW MEDICAL CENTER   210028.0   \n",
       "4  8.045412e+09   490112.0  CJW MEDICAL CENTER   210028.0   \n",
       "\n",
       "                  hosp_afl_lbn_2 hosp_afl_3 hosp_afl_lbn_3 hosp_afl_4  \\\n",
       "0  MEDSTAR SAINT MARY'S HOSPITAL        NaN            NaN        NaN   \n",
       "1  MEDSTAR SAINT MARY'S HOSPITAL        NaN            NaN        NaN   \n",
       "2  MEDSTAR SAINT MARY'S HOSPITAL        NaN            NaN        NaN   \n",
       "3  MEDSTAR SAINT MARY'S HOSPITAL        NaN            NaN        NaN   \n",
       "4  MEDSTAR SAINT MARY'S HOSPITAL        NaN            NaN        NaN   \n",
       "\n",
       "  hosp_afl_lbn_4  hosp_afl_5 hosp_afl_lbn_5 assgn  \n",
       "0            NaN         NaN            NaN     Y  \n",
       "1            NaN         NaN            NaN     Y  \n",
       "2            NaN         NaN            NaN     Y  \n",
       "3            NaN         NaN            NaN     Y  \n",
       "4            NaN         NaN            NaN     Y  "
      ]
     },
     "execution_count": 113,
     "metadata": {},
     "output_type": "execute_result"
    }
   ],
   "source": [
    "data.head()"
   ]
  },
  {
   "cell_type": "code",
   "execution_count": 114,
   "metadata": {},
   "outputs": [],
   "source": [
    "# drop the two address columns\n",
    "data.drop(labels=['adr_ln_1', 'adr_ln_2'], axis=1, inplace=True)"
   ]
  },
  {
   "cell_type": "code",
   "execution_count": 115,
   "metadata": {},
   "outputs": [
    {
     "data": {
      "text/html": [
       "<div>\n",
       "<style scoped>\n",
       "    .dataframe tbody tr th:only-of-type {\n",
       "        vertical-align: middle;\n",
       "    }\n",
       "\n",
       "    .dataframe tbody tr th {\n",
       "        vertical-align: top;\n",
       "    }\n",
       "\n",
       "    .dataframe thead th {\n",
       "        text-align: right;\n",
       "    }\n",
       "</style>\n",
       "<table border=\"1\" class=\"dataframe\">\n",
       "  <thead>\n",
       "    <tr style=\"text-align: right;\">\n",
       "      <th></th>\n",
       "      <th>npi</th>\n",
       "      <th>ind_pac_id</th>\n",
       "      <th>ind_enrl_id</th>\n",
       "      <th>full_nm</th>\n",
       "      <th>gndr</th>\n",
       "      <th>cred</th>\n",
       "      <th>med_sch</th>\n",
       "      <th>grd_yr</th>\n",
       "      <th>pri_spec</th>\n",
       "      <th>sec_spec_1</th>\n",
       "      <th>sec_spec_2</th>\n",
       "      <th>sec_spec_3</th>\n",
       "      <th>sec_spec_4</th>\n",
       "      <th>sec_spec_all</th>\n",
       "      <th>org_lgl_nm</th>\n",
       "      <th>org_pac_id</th>\n",
       "      <th>num_org_mem</th>\n",
       "      <th>full_adr</th>\n",
       "      <th>ln_2_sprs</th>\n",
       "      <th>cty</th>\n",
       "      <th>st</th>\n",
       "      <th>zip</th>\n",
       "      <th>phn_numbr</th>\n",
       "      <th>hosp_afl_1</th>\n",
       "      <th>hosp_afl_lbn_1</th>\n",
       "      <th>hosp_afl_2</th>\n",
       "      <th>hosp_afl_lbn_2</th>\n",
       "      <th>hosp_afl_3</th>\n",
       "      <th>hosp_afl_lbn_3</th>\n",
       "      <th>hosp_afl_4</th>\n",
       "      <th>hosp_afl_lbn_4</th>\n",
       "      <th>hosp_afl_5</th>\n",
       "      <th>hosp_afl_lbn_5</th>\n",
       "      <th>assgn</th>\n",
       "    </tr>\n",
       "  </thead>\n",
       "  <tbody>\n",
       "    <tr>\n",
       "      <th>0</th>\n",
       "      <td>1003000126</td>\n",
       "      <td>7517003643</td>\n",
       "      <td>I20130530000085</td>\n",
       "      <td>ARDALAN  ENKESHAFI</td>\n",
       "      <td>M</td>\n",
       "      <td>Not Listed</td>\n",
       "      <td>OTHER</td>\n",
       "      <td>1994</td>\n",
       "      <td>INTERNAL MEDICINE</td>\n",
       "      <td>None</td>\n",
       "      <td>None</td>\n",
       "      <td>None</td>\n",
       "      <td>None</td>\n",
       "      <td>None</td>\n",
       "      <td>EMERGENCY MEDICINE ASSOCIATES PA PC</td>\n",
       "      <td>8.022915e+09</td>\n",
       "      <td>182</td>\n",
       "      <td>1850 TOWN CTR PKWY</td>\n",
       "      <td>N</td>\n",
       "      <td>RESTON</td>\n",
       "      <td>VA</td>\n",
       "      <td>201903219</td>\n",
       "      <td>7.036899e+09</td>\n",
       "      <td>490112.0</td>\n",
       "      <td>CJW MEDICAL CENTER</td>\n",
       "      <td>210028.0</td>\n",
       "      <td>MEDSTAR SAINT MARY'S HOSPITAL</td>\n",
       "      <td>NaN</td>\n",
       "      <td>NaN</td>\n",
       "      <td>NaN</td>\n",
       "      <td>NaN</td>\n",
       "      <td>NaN</td>\n",
       "      <td>NaN</td>\n",
       "      <td>Y</td>\n",
       "    </tr>\n",
       "    <tr>\n",
       "      <th>1</th>\n",
       "      <td>1003000126</td>\n",
       "      <td>7517003643</td>\n",
       "      <td>I20130530000085</td>\n",
       "      <td>ARDALAN  ENKESHAFI</td>\n",
       "      <td>M</td>\n",
       "      <td>Not Listed</td>\n",
       "      <td>OTHER</td>\n",
       "      <td>1994</td>\n",
       "      <td>INTERNAL MEDICINE</td>\n",
       "      <td>None</td>\n",
       "      <td>None</td>\n",
       "      <td>None</td>\n",
       "      <td>None</td>\n",
       "      <td>None</td>\n",
       "      <td>EMERGENCY MEDICINE ASSOCIATES PA PC</td>\n",
       "      <td>8.022915e+09</td>\n",
       "      <td>182</td>\n",
       "      <td>1701 N GEORGE MASON DR</td>\n",
       "      <td>N</td>\n",
       "      <td>ARLINGTON</td>\n",
       "      <td>VA</td>\n",
       "      <td>222053610</td>\n",
       "      <td>7.035586e+09</td>\n",
       "      <td>490112.0</td>\n",
       "      <td>CJW MEDICAL CENTER</td>\n",
       "      <td>210028.0</td>\n",
       "      <td>MEDSTAR SAINT MARY'S HOSPITAL</td>\n",
       "      <td>NaN</td>\n",
       "      <td>NaN</td>\n",
       "      <td>NaN</td>\n",
       "      <td>NaN</td>\n",
       "      <td>NaN</td>\n",
       "      <td>NaN</td>\n",
       "      <td>Y</td>\n",
       "    </tr>\n",
       "    <tr>\n",
       "      <th>2</th>\n",
       "      <td>1003000126</td>\n",
       "      <td>7517003643</td>\n",
       "      <td>I20150824000105</td>\n",
       "      <td>ARDALAN  ENKESHAFI</td>\n",
       "      <td>M</td>\n",
       "      <td>Not Listed</td>\n",
       "      <td>OTHER</td>\n",
       "      <td>1994</td>\n",
       "      <td>INTERNAL MEDICINE</td>\n",
       "      <td>None</td>\n",
       "      <td>None</td>\n",
       "      <td>None</td>\n",
       "      <td>None</td>\n",
       "      <td>None</td>\n",
       "      <td>EMERGENCY MEDICINE ASSOCIATES PA PC</td>\n",
       "      <td>8.022915e+09</td>\n",
       "      <td>182</td>\n",
       "      <td>24440 STONE SPRINGS BLVD</td>\n",
       "      <td>N</td>\n",
       "      <td>DULLES</td>\n",
       "      <td>VA</td>\n",
       "      <td>201662247</td>\n",
       "      <td>5.713674e+09</td>\n",
       "      <td>490112.0</td>\n",
       "      <td>CJW MEDICAL CENTER</td>\n",
       "      <td>210028.0</td>\n",
       "      <td>MEDSTAR SAINT MARY'S HOSPITAL</td>\n",
       "      <td>NaN</td>\n",
       "      <td>NaN</td>\n",
       "      <td>NaN</td>\n",
       "      <td>NaN</td>\n",
       "      <td>NaN</td>\n",
       "      <td>NaN</td>\n",
       "      <td>Y</td>\n",
       "    </tr>\n",
       "    <tr>\n",
       "      <th>3</th>\n",
       "      <td>1003000126</td>\n",
       "      <td>7517003643</td>\n",
       "      <td>I20150824000105</td>\n",
       "      <td>ARDALAN  ENKESHAFI</td>\n",
       "      <td>M</td>\n",
       "      <td>Not Listed</td>\n",
       "      <td>OTHER</td>\n",
       "      <td>1994</td>\n",
       "      <td>INTERNAL MEDICINE</td>\n",
       "      <td>None</td>\n",
       "      <td>None</td>\n",
       "      <td>None</td>\n",
       "      <td>None</td>\n",
       "      <td>None</td>\n",
       "      <td>SOUTHEASTERN INTENSIVIST SERVICES PC</td>\n",
       "      <td>9.335152e+09</td>\n",
       "      <td>133</td>\n",
       "      <td>1401 JOHNSTON WILLIS DR</td>\n",
       "      <td>N</td>\n",
       "      <td>NORTH CHESTERFIELD</td>\n",
       "      <td>VA</td>\n",
       "      <td>232354730</td>\n",
       "      <td>8.044835e+09</td>\n",
       "      <td>490112.0</td>\n",
       "      <td>CJW MEDICAL CENTER</td>\n",
       "      <td>210028.0</td>\n",
       "      <td>MEDSTAR SAINT MARY'S HOSPITAL</td>\n",
       "      <td>NaN</td>\n",
       "      <td>NaN</td>\n",
       "      <td>NaN</td>\n",
       "      <td>NaN</td>\n",
       "      <td>NaN</td>\n",
       "      <td>NaN</td>\n",
       "      <td>Y</td>\n",
       "    </tr>\n",
       "    <tr>\n",
       "      <th>4</th>\n",
       "      <td>1003000126</td>\n",
       "      <td>7517003643</td>\n",
       "      <td>I20150824000105</td>\n",
       "      <td>ARDALAN  ENKESHAFI</td>\n",
       "      <td>M</td>\n",
       "      <td>Not Listed</td>\n",
       "      <td>OTHER</td>\n",
       "      <td>1994</td>\n",
       "      <td>INTERNAL MEDICINE</td>\n",
       "      <td>None</td>\n",
       "      <td>None</td>\n",
       "      <td>None</td>\n",
       "      <td>None</td>\n",
       "      <td>None</td>\n",
       "      <td>SOUTHEASTERN INTENSIVIST SERVICES PC</td>\n",
       "      <td>9.335152e+09</td>\n",
       "      <td>133</td>\n",
       "      <td>411 W RANDOLPH RD</td>\n",
       "      <td>N</td>\n",
       "      <td>HOPEWELL</td>\n",
       "      <td>VA</td>\n",
       "      <td>238602938</td>\n",
       "      <td>8.045412e+09</td>\n",
       "      <td>490112.0</td>\n",
       "      <td>CJW MEDICAL CENTER</td>\n",
       "      <td>210028.0</td>\n",
       "      <td>MEDSTAR SAINT MARY'S HOSPITAL</td>\n",
       "      <td>NaN</td>\n",
       "      <td>NaN</td>\n",
       "      <td>NaN</td>\n",
       "      <td>NaN</td>\n",
       "      <td>NaN</td>\n",
       "      <td>NaN</td>\n",
       "      <td>Y</td>\n",
       "    </tr>\n",
       "  </tbody>\n",
       "</table>\n",
       "</div>"
      ],
      "text/plain": [
       "          npi  ind_pac_id      ind_enrl_id              full_nm gndr  \\\n",
       "0  1003000126  7517003643  I20130530000085  ARDALAN  ENKESHAFI     M   \n",
       "1  1003000126  7517003643  I20130530000085  ARDALAN  ENKESHAFI     M   \n",
       "2  1003000126  7517003643  I20150824000105  ARDALAN  ENKESHAFI     M   \n",
       "3  1003000126  7517003643  I20150824000105  ARDALAN  ENKESHAFI     M   \n",
       "4  1003000126  7517003643  I20150824000105  ARDALAN  ENKESHAFI     M   \n",
       "\n",
       "         cred med_sch  grd_yr           pri_spec sec_spec_1 sec_spec_2  \\\n",
       "0  Not Listed   OTHER    1994  INTERNAL MEDICINE       None       None   \n",
       "1  Not Listed   OTHER    1994  INTERNAL MEDICINE       None       None   \n",
       "2  Not Listed   OTHER    1994  INTERNAL MEDICINE       None       None   \n",
       "3  Not Listed   OTHER    1994  INTERNAL MEDICINE       None       None   \n",
       "4  Not Listed   OTHER    1994  INTERNAL MEDICINE       None       None   \n",
       "\n",
       "  sec_spec_3 sec_spec_4 sec_spec_all                            org_lgl_nm  \\\n",
       "0       None       None         None   EMERGENCY MEDICINE ASSOCIATES PA PC   \n",
       "1       None       None         None   EMERGENCY MEDICINE ASSOCIATES PA PC   \n",
       "2       None       None         None   EMERGENCY MEDICINE ASSOCIATES PA PC   \n",
       "3       None       None         None  SOUTHEASTERN INTENSIVIST SERVICES PC   \n",
       "4       None       None         None  SOUTHEASTERN INTENSIVIST SERVICES PC   \n",
       "\n",
       "     org_pac_id  num_org_mem                   full_adr ln_2_sprs  \\\n",
       "0  8.022915e+09          182        1850 TOWN CTR PKWY          N   \n",
       "1  8.022915e+09          182    1701 N GEORGE MASON DR          N   \n",
       "2  8.022915e+09          182  24440 STONE SPRINGS BLVD          N   \n",
       "3  9.335152e+09          133   1401 JOHNSTON WILLIS DR          N   \n",
       "4  9.335152e+09          133         411 W RANDOLPH RD          N   \n",
       "\n",
       "                  cty  st        zip     phn_numbr hosp_afl_1  \\\n",
       "0              RESTON  VA  201903219  7.036899e+09   490112.0   \n",
       "1           ARLINGTON  VA  222053610  7.035586e+09   490112.0   \n",
       "2              DULLES  VA  201662247  5.713674e+09   490112.0   \n",
       "3  NORTH CHESTERFIELD  VA  232354730  8.044835e+09   490112.0   \n",
       "4            HOPEWELL  VA  238602938  8.045412e+09   490112.0   \n",
       "\n",
       "       hosp_afl_lbn_1 hosp_afl_2                 hosp_afl_lbn_2 hosp_afl_3  \\\n",
       "0  CJW MEDICAL CENTER   210028.0  MEDSTAR SAINT MARY'S HOSPITAL        NaN   \n",
       "1  CJW MEDICAL CENTER   210028.0  MEDSTAR SAINT MARY'S HOSPITAL        NaN   \n",
       "2  CJW MEDICAL CENTER   210028.0  MEDSTAR SAINT MARY'S HOSPITAL        NaN   \n",
       "3  CJW MEDICAL CENTER   210028.0  MEDSTAR SAINT MARY'S HOSPITAL        NaN   \n",
       "4  CJW MEDICAL CENTER   210028.0  MEDSTAR SAINT MARY'S HOSPITAL        NaN   \n",
       "\n",
       "  hosp_afl_lbn_3 hosp_afl_4 hosp_afl_lbn_4  hosp_afl_5 hosp_afl_lbn_5 assgn  \n",
       "0            NaN        NaN            NaN         NaN            NaN     Y  \n",
       "1            NaN        NaN            NaN         NaN            NaN     Y  \n",
       "2            NaN        NaN            NaN         NaN            NaN     Y  \n",
       "3            NaN        NaN            NaN         NaN            NaN     Y  \n",
       "4            NaN        NaN            NaN         NaN            NaN     Y  "
      ]
     },
     "execution_count": 115,
     "metadata": {},
     "output_type": "execute_result"
    }
   ],
   "source": [
    "# double check\n",
    "data.head()"
   ]
  },
  {
   "cell_type": "markdown",
   "metadata": {},
   "source": [
    "The last two columns we'll review today are `cty` and `st`. The values represent the Group Practice/individual's city and state, respectively."
   ]
  },
  {
   "cell_type": "code",
   "execution_count": 116,
   "metadata": {},
   "outputs": [
    {
     "data": {
      "text/plain": [
       "cty    0\n",
       "st     0\n",
       "dtype: int64"
      ]
     },
     "execution_count": 116,
     "metadata": {},
     "output_type": "execute_result"
    }
   ],
   "source": [
    "# check missing values in city and state columns\n",
    "data[['cty', 'st']].isna().sum()"
   ]
  },
  {
   "cell_type": "code",
   "execution_count": 120,
   "metadata": {},
   "outputs": [
    {
     "data": {
      "text/plain": [
       "ANN ARBOR       1.344361\n",
       "HOUSTON         1.303109\n",
       "NEW YORK        1.252358\n",
       "CHICAGO         0.840062\n",
       "LOS ANGELES     0.814279\n",
       "PHILADELPHIA    0.766513\n",
       "PITTSBURGH      0.719019\n",
       "BALTIMORE       0.672158\n",
       "ROCHESTER       0.628644\n",
       "DALLAS          0.614893\n",
       "Name: cty, dtype: float64"
      ]
     },
     "execution_count": 120,
     "metadata": {},
     "output_type": "execute_result"
    }
   ],
   "source": [
    "# what are the top 10 values for city?\n",
    "(data['cty'].value_counts(dropna=False, normalize=True) * 100).head(10)"
   ]
  },
  {
   "cell_type": "code",
   "execution_count": 123,
   "metadata": {},
   "outputs": [
    {
     "data": {
      "text/plain": [
       "CA    8.242031\n",
       "NY    6.655675\n",
       "TX    6.420646\n",
       "FL    5.537116\n",
       "PA    5.341710\n",
       "MI    4.743463\n",
       "IL    4.218266\n",
       "OH    4.023494\n",
       "NC    3.683615\n",
       "MA    3.067094\n",
       "Name: st, dtype: float64"
      ]
     },
     "execution_count": 123,
     "metadata": {},
     "output_type": "execute_result"
    }
   ],
   "source": [
    "# what are the top 10 states?\n",
    "(data['st'].value_counts(dropna=False, normalize=True) * 100).head(10)"
   ]
  },
  {
   "cell_type": "code",
   "execution_count": 127,
   "metadata": {},
   "outputs": [
    {
     "name": "stdout",
     "output_type": "stream",
     "text": [
      "The data type for \"cty\" is: object\n",
      "The data type for \"st\" is: object\n"
     ]
    }
   ],
   "source": [
    "# what data types are in these two columns?\n",
    "for col in data[['cty', 'st']]:\n",
    "    dtype = data[col].dtype\n",
    "    print('The data type for \"{}\" is: {}'.format(col, dtype))"
   ]
  },
  {
   "cell_type": "code",
   "execution_count": 128,
   "metadata": {},
   "outputs": [],
   "source": [
    "# save updates to CSV\n",
    "data.to_csv('physician_compare_national-updates-2.csv', index=False)"
   ]
  },
  {
   "cell_type": "code",
   "execution_count": 129,
   "metadata": {},
   "outputs": [
    {
     "name": "stdout",
     "output_type": "stream",
     "text": [
      "Work ended:  2019-10-01 13:34:47.500785\n"
     ]
    }
   ],
   "source": [
    "from datetime import datetime\n",
    "# current date and time\n",
    "now = datetime.now()\n",
    "print(\"Work ended: \", now)"
   ]
  },
  {
   "cell_type": "markdown",
   "metadata": {},
   "source": [
    "# _Review of Today's (10/1/29) Work_\n",
    "\n",
    "Today we got the chance to edit up to the `st` column; tomorrow we'll continue and hopefully clean up the remaining columns in `data`. Again, we'll save `data` to a CSV so we can pick up right where we left off."
   ]
  }
 ],
 "metadata": {
  "kernelspec": {
   "display_name": "Python 3",
   "language": "python",
   "name": "python3"
  },
  "language_info": {
   "codemirror_mode": {
    "name": "ipython",
    "version": 3
   },
   "file_extension": ".py",
   "mimetype": "text/x-python",
   "name": "python",
   "nbconvert_exporter": "python",
   "pygments_lexer": "ipython3",
   "version": "3.7.3"
  }
 },
 "nbformat": 4,
 "nbformat_minor": 4
}
