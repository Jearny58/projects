{
 "cells": [
  {
   "cell_type": "markdown",
   "metadata": {},
   "source": [
    "# _Physician Compare National: Explore #5_\n",
    "\n",
    "This notebook is a continuation from of my analysis on the following data gathered via [Data.Medicare.gov](https://data.medicare.gov/Physician-Compare/Physician-Compare-National-Downloadable-File/mj5m-pzi6). It contains general information about individual eligible professionals (EPs) such as demographic information and Medicare quality program participation. This dataset is updated twice a month with the most current demographic information available at that time.\n",
    "\n",
    "# _Today's Goal_\n",
    "\n",
    "My primary goal is to intial cleaning of the data set. There are still multiple columns I have not looked at so further exploration into the unique values within each column, and any missing values, need to be assessed and dealth with.\n",
    "\n",
    "A secondary goal is to figure out a way to better format the zip codes column; further, I will look for a way to add information regarding county level data, whether that is through ZIP or FIPS codes. Time permitting, I could also begin initial trials of putting together a visual via `plot.ly`."
   ]
  },
  {
   "cell_type": "code",
   "execution_count": 32,
   "metadata": {},
   "outputs": [
    {
     "name": "stdout",
     "output_type": "stream",
     "text": [
      "The autoreload extension is already loaded. To reload it, use:\n",
      "  %reload_ext autoreload\n"
     ]
    },
    {
     "data": {
      "text/html": [
       "<div>\n",
       "<style scoped>\n",
       "    .dataframe tbody tr th:only-of-type {\n",
       "        vertical-align: middle;\n",
       "    }\n",
       "\n",
       "    .dataframe tbody tr th {\n",
       "        vertical-align: top;\n",
       "    }\n",
       "\n",
       "    .dataframe thead th {\n",
       "        text-align: right;\n",
       "    }\n",
       "</style>\n",
       "<table border=\"1\" class=\"dataframe\">\n",
       "  <thead>\n",
       "    <tr style=\"text-align: right;\">\n",
       "      <th></th>\n",
       "      <th>npi</th>\n",
       "      <th>ind_pac_id</th>\n",
       "      <th>ind_enrl_id</th>\n",
       "      <th>full_nm</th>\n",
       "      <th>gndr</th>\n",
       "      <th>cred</th>\n",
       "      <th>med_sch</th>\n",
       "      <th>grd_yr</th>\n",
       "      <th>pri_spec</th>\n",
       "      <th>sec_spec_1</th>\n",
       "      <th>sec_spec_2</th>\n",
       "      <th>sec_spec_3</th>\n",
       "      <th>sec_spec_4</th>\n",
       "      <th>sec_spec_all</th>\n",
       "      <th>org_lgl_nm</th>\n",
       "      <th>org_pac_id</th>\n",
       "      <th>num_org_mem</th>\n",
       "      <th>adr_ln_1</th>\n",
       "      <th>adr_ln_2</th>\n",
       "      <th>ln_2_sprs</th>\n",
       "      <th>cty</th>\n",
       "      <th>st</th>\n",
       "      <th>zip</th>\n",
       "      <th>phn_numbr</th>\n",
       "      <th>hosp_afl_1</th>\n",
       "      <th>hosp_afl_lbn_1</th>\n",
       "      <th>hosp_afl_2</th>\n",
       "      <th>hosp_afl_lbn_2</th>\n",
       "      <th>hosp_afl_3</th>\n",
       "      <th>hosp_afl_lbn_3</th>\n",
       "      <th>hosp_afl_4</th>\n",
       "      <th>hosp_afl_lbn_4</th>\n",
       "      <th>hosp_afl_5</th>\n",
       "      <th>hosp_afl_lbn_5</th>\n",
       "      <th>assgn</th>\n",
       "    </tr>\n",
       "  </thead>\n",
       "  <tbody>\n",
       "    <tr>\n",
       "      <th>0</th>\n",
       "      <td>1003000126</td>\n",
       "      <td>7517003643</td>\n",
       "      <td>I20130530000085</td>\n",
       "      <td>ARDALAN  ENKESHAFI</td>\n",
       "      <td>M</td>\n",
       "      <td>NaN</td>\n",
       "      <td>OTHER</td>\n",
       "      <td>1994</td>\n",
       "      <td>INTERNAL MEDICINE</td>\n",
       "      <td>NaN</td>\n",
       "      <td>NaN</td>\n",
       "      <td>NaN</td>\n",
       "      <td>NaN</td>\n",
       "      <td>NaN</td>\n",
       "      <td>EMERGENCY MEDICINE ASSOCIATES PA PC</td>\n",
       "      <td>8.022915e+09</td>\n",
       "      <td>182.0</td>\n",
       "      <td>1850 TOWN CTR PKWY</td>\n",
       "      <td>NaN</td>\n",
       "      <td>NaN</td>\n",
       "      <td>RESTON</td>\n",
       "      <td>VA</td>\n",
       "      <td>201903219</td>\n",
       "      <td>7.036899e+09</td>\n",
       "      <td>490112.0</td>\n",
       "      <td>CJW MEDICAL CENTER</td>\n",
       "      <td>210028.0</td>\n",
       "      <td>MEDSTAR SAINT MARY'S HOSPITAL</td>\n",
       "      <td>NaN</td>\n",
       "      <td>NaN</td>\n",
       "      <td>NaN</td>\n",
       "      <td>NaN</td>\n",
       "      <td>NaN</td>\n",
       "      <td>NaN</td>\n",
       "      <td>Y</td>\n",
       "    </tr>\n",
       "    <tr>\n",
       "      <th>1</th>\n",
       "      <td>1003000126</td>\n",
       "      <td>7517003643</td>\n",
       "      <td>I20130530000085</td>\n",
       "      <td>ARDALAN  ENKESHAFI</td>\n",
       "      <td>M</td>\n",
       "      <td>NaN</td>\n",
       "      <td>OTHER</td>\n",
       "      <td>1994</td>\n",
       "      <td>INTERNAL MEDICINE</td>\n",
       "      <td>NaN</td>\n",
       "      <td>NaN</td>\n",
       "      <td>NaN</td>\n",
       "      <td>NaN</td>\n",
       "      <td>NaN</td>\n",
       "      <td>EMERGENCY MEDICINE ASSOCIATES PA PC</td>\n",
       "      <td>8.022915e+09</td>\n",
       "      <td>182.0</td>\n",
       "      <td>1701 N GEORGE MASON DR</td>\n",
       "      <td>NaN</td>\n",
       "      <td>NaN</td>\n",
       "      <td>ARLINGTON</td>\n",
       "      <td>VA</td>\n",
       "      <td>222053610</td>\n",
       "      <td>7.035586e+09</td>\n",
       "      <td>490112.0</td>\n",
       "      <td>CJW MEDICAL CENTER</td>\n",
       "      <td>210028.0</td>\n",
       "      <td>MEDSTAR SAINT MARY'S HOSPITAL</td>\n",
       "      <td>NaN</td>\n",
       "      <td>NaN</td>\n",
       "      <td>NaN</td>\n",
       "      <td>NaN</td>\n",
       "      <td>NaN</td>\n",
       "      <td>NaN</td>\n",
       "      <td>Y</td>\n",
       "    </tr>\n",
       "    <tr>\n",
       "      <th>2</th>\n",
       "      <td>1003000126</td>\n",
       "      <td>7517003643</td>\n",
       "      <td>I20150824000105</td>\n",
       "      <td>ARDALAN  ENKESHAFI</td>\n",
       "      <td>M</td>\n",
       "      <td>NaN</td>\n",
       "      <td>OTHER</td>\n",
       "      <td>1994</td>\n",
       "      <td>INTERNAL MEDICINE</td>\n",
       "      <td>NaN</td>\n",
       "      <td>NaN</td>\n",
       "      <td>NaN</td>\n",
       "      <td>NaN</td>\n",
       "      <td>NaN</td>\n",
       "      <td>EMERGENCY MEDICINE ASSOCIATES PA PC</td>\n",
       "      <td>8.022915e+09</td>\n",
       "      <td>182.0</td>\n",
       "      <td>24440 STONE SPRINGS BLVD</td>\n",
       "      <td>NaN</td>\n",
       "      <td>NaN</td>\n",
       "      <td>DULLES</td>\n",
       "      <td>VA</td>\n",
       "      <td>201662247</td>\n",
       "      <td>5.713674e+09</td>\n",
       "      <td>490112.0</td>\n",
       "      <td>CJW MEDICAL CENTER</td>\n",
       "      <td>210028.0</td>\n",
       "      <td>MEDSTAR SAINT MARY'S HOSPITAL</td>\n",
       "      <td>NaN</td>\n",
       "      <td>NaN</td>\n",
       "      <td>NaN</td>\n",
       "      <td>NaN</td>\n",
       "      <td>NaN</td>\n",
       "      <td>NaN</td>\n",
       "      <td>Y</td>\n",
       "    </tr>\n",
       "    <tr>\n",
       "      <th>3</th>\n",
       "      <td>1003000126</td>\n",
       "      <td>7517003643</td>\n",
       "      <td>I20150824000105</td>\n",
       "      <td>ARDALAN  ENKESHAFI</td>\n",
       "      <td>M</td>\n",
       "      <td>NaN</td>\n",
       "      <td>OTHER</td>\n",
       "      <td>1994</td>\n",
       "      <td>INTERNAL MEDICINE</td>\n",
       "      <td>NaN</td>\n",
       "      <td>NaN</td>\n",
       "      <td>NaN</td>\n",
       "      <td>NaN</td>\n",
       "      <td>NaN</td>\n",
       "      <td>SOUTHEASTERN INTENSIVIST SERVICES PC</td>\n",
       "      <td>9.335152e+09</td>\n",
       "      <td>133.0</td>\n",
       "      <td>1401 JOHNSTON WILLIS DR</td>\n",
       "      <td>NaN</td>\n",
       "      <td>NaN</td>\n",
       "      <td>NORTH CHESTERFIELD</td>\n",
       "      <td>VA</td>\n",
       "      <td>232354730</td>\n",
       "      <td>8.044835e+09</td>\n",
       "      <td>490112.0</td>\n",
       "      <td>CJW MEDICAL CENTER</td>\n",
       "      <td>210028.0</td>\n",
       "      <td>MEDSTAR SAINT MARY'S HOSPITAL</td>\n",
       "      <td>NaN</td>\n",
       "      <td>NaN</td>\n",
       "      <td>NaN</td>\n",
       "      <td>NaN</td>\n",
       "      <td>NaN</td>\n",
       "      <td>NaN</td>\n",
       "      <td>Y</td>\n",
       "    </tr>\n",
       "    <tr>\n",
       "      <th>4</th>\n",
       "      <td>1003000126</td>\n",
       "      <td>7517003643</td>\n",
       "      <td>I20150824000105</td>\n",
       "      <td>ARDALAN  ENKESHAFI</td>\n",
       "      <td>M</td>\n",
       "      <td>NaN</td>\n",
       "      <td>OTHER</td>\n",
       "      <td>1994</td>\n",
       "      <td>INTERNAL MEDICINE</td>\n",
       "      <td>NaN</td>\n",
       "      <td>NaN</td>\n",
       "      <td>NaN</td>\n",
       "      <td>NaN</td>\n",
       "      <td>NaN</td>\n",
       "      <td>SOUTHEASTERN INTENSIVIST SERVICES PC</td>\n",
       "      <td>9.335152e+09</td>\n",
       "      <td>133.0</td>\n",
       "      <td>411 W RANDOLPH RD</td>\n",
       "      <td>NaN</td>\n",
       "      <td>NaN</td>\n",
       "      <td>HOPEWELL</td>\n",
       "      <td>VA</td>\n",
       "      <td>238602938</td>\n",
       "      <td>8.045412e+09</td>\n",
       "      <td>490112.0</td>\n",
       "      <td>CJW MEDICAL CENTER</td>\n",
       "      <td>210028.0</td>\n",
       "      <td>MEDSTAR SAINT MARY'S HOSPITAL</td>\n",
       "      <td>NaN</td>\n",
       "      <td>NaN</td>\n",
       "      <td>NaN</td>\n",
       "      <td>NaN</td>\n",
       "      <td>NaN</td>\n",
       "      <td>NaN</td>\n",
       "      <td>Y</td>\n",
       "    </tr>\n",
       "  </tbody>\n",
       "</table>\n",
       "</div>"
      ],
      "text/plain": [
       "          npi  ind_pac_id      ind_enrl_id              full_nm gndr cred  \\\n",
       "0  1003000126  7517003643  I20130530000085  ARDALAN  ENKESHAFI     M  NaN   \n",
       "1  1003000126  7517003643  I20130530000085  ARDALAN  ENKESHAFI     M  NaN   \n",
       "2  1003000126  7517003643  I20150824000105  ARDALAN  ENKESHAFI     M  NaN   \n",
       "3  1003000126  7517003643  I20150824000105  ARDALAN  ENKESHAFI     M  NaN   \n",
       "4  1003000126  7517003643  I20150824000105  ARDALAN  ENKESHAFI     M  NaN   \n",
       "\n",
       "  med_sch  grd_yr           pri_spec sec_spec_1 sec_spec_2 sec_spec_3  \\\n",
       "0   OTHER    1994  INTERNAL MEDICINE        NaN        NaN        NaN   \n",
       "1   OTHER    1994  INTERNAL MEDICINE        NaN        NaN        NaN   \n",
       "2   OTHER    1994  INTERNAL MEDICINE        NaN        NaN        NaN   \n",
       "3   OTHER    1994  INTERNAL MEDICINE        NaN        NaN        NaN   \n",
       "4   OTHER    1994  INTERNAL MEDICINE        NaN        NaN        NaN   \n",
       "\n",
       "  sec_spec_4 sec_spec_all                            org_lgl_nm    org_pac_id  \\\n",
       "0        NaN          NaN   EMERGENCY MEDICINE ASSOCIATES PA PC  8.022915e+09   \n",
       "1        NaN          NaN   EMERGENCY MEDICINE ASSOCIATES PA PC  8.022915e+09   \n",
       "2        NaN          NaN   EMERGENCY MEDICINE ASSOCIATES PA PC  8.022915e+09   \n",
       "3        NaN          NaN  SOUTHEASTERN INTENSIVIST SERVICES PC  9.335152e+09   \n",
       "4        NaN          NaN  SOUTHEASTERN INTENSIVIST SERVICES PC  9.335152e+09   \n",
       "\n",
       "   num_org_mem                  adr_ln_1 adr_ln_2 ln_2_sprs  \\\n",
       "0        182.0        1850 TOWN CTR PKWY      NaN       NaN   \n",
       "1        182.0    1701 N GEORGE MASON DR      NaN       NaN   \n",
       "2        182.0  24440 STONE SPRINGS BLVD      NaN       NaN   \n",
       "3        133.0   1401 JOHNSTON WILLIS DR      NaN       NaN   \n",
       "4        133.0         411 W RANDOLPH RD      NaN       NaN   \n",
       "\n",
       "                  cty  st        zip     phn_numbr hosp_afl_1  \\\n",
       "0              RESTON  VA  201903219  7.036899e+09   490112.0   \n",
       "1           ARLINGTON  VA  222053610  7.035586e+09   490112.0   \n",
       "2              DULLES  VA  201662247  5.713674e+09   490112.0   \n",
       "3  NORTH CHESTERFIELD  VA  232354730  8.044835e+09   490112.0   \n",
       "4            HOPEWELL  VA  238602938  8.045412e+09   490112.0   \n",
       "\n",
       "       hosp_afl_lbn_1 hosp_afl_2                 hosp_afl_lbn_2 hosp_afl_3  \\\n",
       "0  CJW MEDICAL CENTER   210028.0  MEDSTAR SAINT MARY'S HOSPITAL        NaN   \n",
       "1  CJW MEDICAL CENTER   210028.0  MEDSTAR SAINT MARY'S HOSPITAL        NaN   \n",
       "2  CJW MEDICAL CENTER   210028.0  MEDSTAR SAINT MARY'S HOSPITAL        NaN   \n",
       "3  CJW MEDICAL CENTER   210028.0  MEDSTAR SAINT MARY'S HOSPITAL        NaN   \n",
       "4  CJW MEDICAL CENTER   210028.0  MEDSTAR SAINT MARY'S HOSPITAL        NaN   \n",
       "\n",
       "  hosp_afl_lbn_3 hosp_afl_4 hosp_afl_lbn_4  hosp_afl_5 hosp_afl_lbn_5 assgn  \n",
       "0            NaN        NaN            NaN         NaN            NaN     Y  \n",
       "1            NaN        NaN            NaN         NaN            NaN     Y  \n",
       "2            NaN        NaN            NaN         NaN            NaN     Y  \n",
       "3            NaN        NaN            NaN         NaN            NaN     Y  \n",
       "4            NaN        NaN            NaN         NaN            NaN     Y  "
      ]
     },
     "execution_count": 32,
     "metadata": {},
     "output_type": "execute_result"
    }
   ],
   "source": [
    "# first thing we need to do --> load in the data\n",
    "# import pandas\n",
    "import pandas as pd\n",
    "pd.options.display.max_columns = None\n",
    "%load_ext autoreload\n",
    "%autoreload 2\n",
    "\n",
    "# import data from yesterday\n",
    "data = pd.read_csv('physician_compare_national-updates-1.csv', low_memory=False);\n",
    "\n",
    "# inspect the first five rows\n",
    "data.head()"
   ]
  },
  {
   "cell_type": "markdown",
   "metadata": {},
   "source": [
    "To ensure all the IDs and the `full_nm` column are good to go, let's check if there were any missing values in the first four columns. We can also take a look at the total number of unique IDs and names there are in the data set. "
   ]
  },
  {
   "cell_type": "code",
   "execution_count": 33,
   "metadata": {},
   "outputs": [
    {
     "data": {
      "text/plain": [
       "npi            0\n",
       "ind_pac_id     0\n",
       "ind_enrl_id    0\n",
       "full_nm        0\n",
       "dtype: int64"
      ]
     },
     "execution_count": 33,
     "metadata": {},
     "output_type": "execute_result"
    }
   ],
   "source": [
    "# check for missing values\n",
    "data[['npi', 'ind_pac_id', 'ind_enrl_id', 'full_nm']].isna().sum()"
   ]
  },
  {
   "cell_type": "code",
   "execution_count": 34,
   "metadata": {},
   "outputs": [
    {
     "name": "stdout",
     "output_type": "stream",
     "text": [
      "There are 1103330 unique values in the npi column.\n",
      "There are 1103330 unique values in the ind_pac_id column.\n",
      "There are 1147121 unique values in the ind_enrl_id column.\n",
      "There are 1072060 unique values in the full_nm column.\n"
     ]
    }
   ],
   "source": [
    "# no missing values! No let's take a look at how many unique values we have in each column\n",
    "for col in data[['npi', 'ind_pac_id', 'ind_enrl_id', 'full_nm']]:\n",
    "    unique = len(data[col].unique())\n",
    "    print('There are {} unique values in the {} column.'.format(unique, col))"
   ]
  },
  {
   "cell_type": "markdown",
   "metadata": {},
   "source": [
    "As we can see there is difference in the number of unique observations amongst the first four columns. The reason why this is important to look into further is that we need to use a column to group observations. In previous notebooks, we have seen that the same physician will have multiple rows, just take a look at the first five rows printed out above! \n",
    "\n",
    "However, since there are no missing values in any of these columns we can move onto cleaning the others."
   ]
  },
  {
   "cell_type": "code",
   "execution_count": 35,
   "metadata": {},
   "outputs": [
    {
     "name": "stdout",
     "output_type": "stream",
     "text": [
      "There are 0 missing values in the gender column\n"
     ]
    }
   ],
   "source": [
    "# take a look at how many missing values there are in gender column\n",
    "print('There are {} missing values in the gender column'.format(data['gndr'].isna().sum()))"
   ]
  },
  {
   "cell_type": "code",
   "execution_count": 36,
   "metadata": {},
   "outputs": [
    {
     "data": {
      "text/plain": [
       "M    55.359\n",
       "F    44.641\n",
       "Name: gndr, dtype: float64"
      ]
     },
     "execution_count": 36,
     "metadata": {},
     "output_type": "execute_result"
    }
   ],
   "source": [
    "# get the relative value counts in the gender column\n",
    "round((data['gndr'].value_counts(normalize=True)) * 100, 3)"
   ]
  },
  {
   "cell_type": "markdown",
   "metadata": {},
   "source": [
    "Our physician data set is approximately 55% male and ~45% female. With no missing values lets move onto the `cred` column."
   ]
  },
  {
   "cell_type": "code",
   "execution_count": 37,
   "metadata": {},
   "outputs": [
    {
     "data": {
      "text/plain": [
       "1524908"
      ]
     },
     "execution_count": 37,
     "metadata": {},
     "output_type": "execute_result"
    }
   ],
   "source": [
    "# take a look at the absolute number of missing values in credential column\n",
    "data['cred'].isna().sum()"
   ]
  },
  {
   "cell_type": "code",
   "execution_count": 38,
   "metadata": {},
   "outputs": [
    {
     "name": "stdout",
     "output_type": "stream",
     "text": [
      "Approximately 68.976% of the cred column is missing.\n"
     ]
    }
   ],
   "source": [
    "# what percentage of the cred column is missing values?\n",
    "print('Approximately {}% of the cred column is missing.'.format(round((data['cred'].isna().mean()) * 100, 3)))"
   ]
  },
  {
   "cell_type": "code",
   "execution_count": 39,
   "metadata": {},
   "outputs": [
    {
     "name": "stdout",
     "output_type": "stream",
     "text": [
      "There are 22 unique values in the credential column.\n"
     ]
    }
   ],
   "source": [
    "# how many unique values are there in the cred column?\n",
    "print('There are {} unique values in the credential column.'.format(len(data['cred'].unique())))"
   ]
  },
  {
   "cell_type": "code",
   "execution_count": 40,
   "metadata": {},
   "outputs": [
    {
     "name": "stdout",
     "output_type": "stream",
     "text": [
      "nan\n",
      "PA\n",
      "PT\n",
      "CNS\n",
      "MD\n",
      "CSW\n",
      "CNA\n",
      "DC\n",
      "NP\n",
      "OD\n",
      "CP\n",
      "DO\n",
      "CNM\n",
      "AU\n",
      "OT\n",
      "MNT\n",
      "DPM\n",
      "AA\n",
      "DDS\n",
      "PSY\n",
      "DDM\n",
      "SCW\n"
     ]
    }
   ],
   "source": [
    "# what are the unique values in the credential column?\n",
    "for cred in data['cred'].unique():\n",
    "    print(cred)"
   ]
  },
  {
   "cell_type": "markdown",
   "metadata": {},
   "source": [
    "Above are all the unique values in the credential column. The first one is `nan` which means '_not a number_' and is something we'll address in a little bit. There is two more issues: the first being that we need to do some research about what each of these mean; secondly, there appears to be a leading whitespcate in some of the values. \n",
    "\n",
    "Before we start our research, let's go ahead and replace `NaN` but how do we want to approach this? We don't want to replace it with `None` as being a medical professional virtually always requires some type of certification to ensure that particular individual has the requisite skills to care for patients. However, it is not plausible to research each and every physician to determine what school they graduated from. \n",
    "\n",
    "However, before we go any further lets check out the `grd_yr` column to see if there are any missing values. Essentially, `grd_yr` can serve as a proxy for `cred` in that we can firt confirm that an individual graduated from a program in the first place. If there are no missing values, this represents the case that all graduated from somewhere, we just don't know where that somewhere is. "
   ]
  },
  {
   "cell_type": "code",
   "execution_count": 44,
   "metadata": {},
   "outputs": [
    {
     "name": "stdout",
     "output_type": "stream",
     "text": [
      "There are 0 missing values in the graduation year column.\n"
     ]
    }
   ],
   "source": [
    "# check grad_yr for missing values\n",
    "print('There are {} missing values in the graduation year column.'.format(data['grd_yr'].isna().sum()))"
   ]
  },
  {
   "cell_type": "code",
   "execution_count": 48,
   "metadata": {},
   "outputs": [
    {
     "name": "stdout",
     "output_type": "stream",
     "text": [
      "0\n",
      "1944\n",
      "1945\n",
      "1947\n",
      "1948\n",
      "1949\n",
      "1950\n",
      "1951\n",
      "1952\n",
      "1953\n",
      "1954\n",
      "1955\n",
      "1956\n",
      "1957\n",
      "1958\n",
      "1959\n",
      "1960\n",
      "1961\n",
      "1962\n",
      "1963\n",
      "1964\n",
      "1965\n",
      "1966\n",
      "1967\n",
      "1968\n",
      "1969\n",
      "1970\n",
      "1971\n",
      "1972\n",
      "1973\n",
      "1974\n",
      "1975\n",
      "1976\n",
      "1977\n",
      "1978\n",
      "1979\n",
      "1980\n",
      "1981\n",
      "1982\n",
      "1983\n",
      "1984\n",
      "1985\n",
      "1986\n",
      "1987\n",
      "1988\n",
      "1989\n",
      "1990\n",
      "1991\n",
      "1992\n",
      "1993\n",
      "1994\n",
      "1995\n",
      "1996\n",
      "1997\n",
      "1998\n",
      "1999\n",
      "2000\n",
      "2001\n",
      "2002\n",
      "2003\n",
      "2004\n",
      "2005\n",
      "2006\n",
      "2007\n",
      "2008\n",
      "2009\n",
      "2010\n",
      "2011\n",
      "2012\n",
      "2013\n",
      "2014\n",
      "2015\n",
      "2016\n",
      "2017\n",
      "2018\n",
      "2019\n",
      "2020\n"
     ]
    }
   ],
   "source": [
    "# print out the unique graduation years\n",
    "for year in sorted(data['grd_yr'].unique()):\n",
    "    print(year)"
   ]
  },
  {
   "cell_type": "markdown",
   "metadata": {},
   "source": [
    "A-ha! Despite having no missing values it looks like there are values of `0` in the column as indicated by a print out of all the unique values! Now I remember that a few notebooks back I looked into the `grd_yr` column and reassigned the missing values to `0`. This was done in an attempt to preserve any other information that might be useful in that particular observation. \n",
    "\n",
    "Let's take a quick look and see how many observations have a value of `0` for `grd_yr`."
   ]
  },
  {
   "cell_type": "code",
   "execution_count": 54,
   "metadata": {},
   "outputs": [
    {
     "name": "stdout",
     "output_type": "stream",
     "text": [
      "There are 5199 observations in the grd_yr column that have a value of 0.\n"
     ]
    }
   ],
   "source": [
    "# how many observations have a value of 0 in grd_yr?\n",
    "zero = len(data[data['grd_yr'] == 0])\n",
    "print('There are {} observations in the grd_yr column that have a value of 0.'.format(zero))"
   ]
  },
  {
   "cell_type": "code",
   "execution_count": 57,
   "metadata": {},
   "outputs": [
    {
     "name": "stdout",
     "output_type": "stream",
     "text": [
      "There are 1524908 missing values in the credential column.\n"
     ]
    }
   ],
   "source": [
    "# as a reminder, how many observations are missing in the cred column?\n",
    "print('There are {} missing values in the credential column.'.format(data['cred'].isna().sum()))"
   ]
  },
  {
   "cell_type": "markdown",
   "metadata": {},
   "source": [
    "As we can see, there is a disjoint between the graduation date and credential data. The vast majority of observations seem to have a graduation year, with only _~0.24%_ having a missing value (i.e., corresponding to a value of `0`. In comparison to the `cred` column, missing values comprise _~68.98%_ of observations. \n",
    "\n",
    "What is this telling us? That virtually all the physicians graduated from _some institution_ but we aren't sure exactly which institution that is. Now, what can we do? It is highly unfeasible to go through every observation, look up the physician's name, and then determine what credential they graduated with. While it would provide a complete picture of the data, the time one would have to invest is significant, so that throws this option out of the window. \n",
    "\n",
    "What can we do? Something similar to what we did in the `grd_yr` column when we labeled the missing values as `0`. In this particular case, though we can substitute something like `not listed` seeing as the data type is string-oriented. That way we can keep the other information for that physician; plus if we take a look at the `pri_spec` column, which gives us the primary specialty of that physician, we can perhaps get a rough inference of what that particular physician may have a credential in. "
   ]
  },
  {
   "cell_type": "code",
   "execution_count": 64,
   "metadata": {},
   "outputs": [
    {
     "data": {
      "text/plain": [
       "0    Not Listed\n",
       "1    Not Listed\n",
       "2    Not Listed\n",
       "3    Not Listed\n",
       "4    Not Listed\n",
       "Name: cred, dtype: object"
      ]
     },
     "execution_count": 64,
     "metadata": {},
     "output_type": "execute_result"
    }
   ],
   "source": [
    "# example of how to fill na's \n",
    "data['cred'].fillna('Not Listed')[:5]"
   ]
  },
  {
   "cell_type": "code",
   "execution_count": 65,
   "metadata": {},
   "outputs": [
    {
     "data": {
      "text/plain": [
       "0    Not Listed\n",
       "1    Not Listed\n",
       "2    Not Listed\n",
       "3    Not Listed\n",
       "4    Not Listed\n",
       "Name: cred, dtype: object"
      ]
     },
     "execution_count": 65,
     "metadata": {},
     "output_type": "execute_result"
    }
   ],
   "source": [
    "# lets go ahead and apply the above to the credential column\n",
    "data['cred'] = data['cred'].fillna('Not Listed'); data['cred'][:5]"
   ]
  },
  {
   "cell_type": "code",
   "execution_count": 66,
   "metadata": {},
   "outputs": [
    {
     "data": {
      "text/html": [
       "<div>\n",
       "<style scoped>\n",
       "    .dataframe tbody tr th:only-of-type {\n",
       "        vertical-align: middle;\n",
       "    }\n",
       "\n",
       "    .dataframe tbody tr th {\n",
       "        vertical-align: top;\n",
       "    }\n",
       "\n",
       "    .dataframe thead th {\n",
       "        text-align: right;\n",
       "    }\n",
       "</style>\n",
       "<table border=\"1\" class=\"dataframe\">\n",
       "  <thead>\n",
       "    <tr style=\"text-align: right;\">\n",
       "      <th></th>\n",
       "      <th>npi</th>\n",
       "      <th>ind_pac_id</th>\n",
       "      <th>ind_enrl_id</th>\n",
       "      <th>full_nm</th>\n",
       "      <th>gndr</th>\n",
       "      <th>cred</th>\n",
       "      <th>med_sch</th>\n",
       "      <th>grd_yr</th>\n",
       "      <th>pri_spec</th>\n",
       "      <th>sec_spec_1</th>\n",
       "      <th>sec_spec_2</th>\n",
       "      <th>sec_spec_3</th>\n",
       "      <th>sec_spec_4</th>\n",
       "      <th>sec_spec_all</th>\n",
       "      <th>org_lgl_nm</th>\n",
       "      <th>org_pac_id</th>\n",
       "      <th>num_org_mem</th>\n",
       "      <th>adr_ln_1</th>\n",
       "      <th>adr_ln_2</th>\n",
       "      <th>ln_2_sprs</th>\n",
       "      <th>cty</th>\n",
       "      <th>st</th>\n",
       "      <th>zip</th>\n",
       "      <th>phn_numbr</th>\n",
       "      <th>hosp_afl_1</th>\n",
       "      <th>hosp_afl_lbn_1</th>\n",
       "      <th>hosp_afl_2</th>\n",
       "      <th>hosp_afl_lbn_2</th>\n",
       "      <th>hosp_afl_3</th>\n",
       "      <th>hosp_afl_lbn_3</th>\n",
       "      <th>hosp_afl_4</th>\n",
       "      <th>hosp_afl_lbn_4</th>\n",
       "      <th>hosp_afl_5</th>\n",
       "      <th>hosp_afl_lbn_5</th>\n",
       "      <th>assgn</th>\n",
       "    </tr>\n",
       "  </thead>\n",
       "  <tbody>\n",
       "    <tr>\n",
       "      <th>0</th>\n",
       "      <td>1003000126</td>\n",
       "      <td>7517003643</td>\n",
       "      <td>I20130530000085</td>\n",
       "      <td>ARDALAN  ENKESHAFI</td>\n",
       "      <td>M</td>\n",
       "      <td>Not Listed</td>\n",
       "      <td>OTHER</td>\n",
       "      <td>1994</td>\n",
       "      <td>INTERNAL MEDICINE</td>\n",
       "      <td>NaN</td>\n",
       "      <td>NaN</td>\n",
       "      <td>NaN</td>\n",
       "      <td>NaN</td>\n",
       "      <td>NaN</td>\n",
       "      <td>EMERGENCY MEDICINE ASSOCIATES PA PC</td>\n",
       "      <td>8.022915e+09</td>\n",
       "      <td>182.0</td>\n",
       "      <td>1850 TOWN CTR PKWY</td>\n",
       "      <td>NaN</td>\n",
       "      <td>NaN</td>\n",
       "      <td>RESTON</td>\n",
       "      <td>VA</td>\n",
       "      <td>201903219</td>\n",
       "      <td>7.036899e+09</td>\n",
       "      <td>490112.0</td>\n",
       "      <td>CJW MEDICAL CENTER</td>\n",
       "      <td>210028.0</td>\n",
       "      <td>MEDSTAR SAINT MARY'S HOSPITAL</td>\n",
       "      <td>NaN</td>\n",
       "      <td>NaN</td>\n",
       "      <td>NaN</td>\n",
       "      <td>NaN</td>\n",
       "      <td>NaN</td>\n",
       "      <td>NaN</td>\n",
       "      <td>Y</td>\n",
       "    </tr>\n",
       "    <tr>\n",
       "      <th>1</th>\n",
       "      <td>1003000126</td>\n",
       "      <td>7517003643</td>\n",
       "      <td>I20130530000085</td>\n",
       "      <td>ARDALAN  ENKESHAFI</td>\n",
       "      <td>M</td>\n",
       "      <td>Not Listed</td>\n",
       "      <td>OTHER</td>\n",
       "      <td>1994</td>\n",
       "      <td>INTERNAL MEDICINE</td>\n",
       "      <td>NaN</td>\n",
       "      <td>NaN</td>\n",
       "      <td>NaN</td>\n",
       "      <td>NaN</td>\n",
       "      <td>NaN</td>\n",
       "      <td>EMERGENCY MEDICINE ASSOCIATES PA PC</td>\n",
       "      <td>8.022915e+09</td>\n",
       "      <td>182.0</td>\n",
       "      <td>1701 N GEORGE MASON DR</td>\n",
       "      <td>NaN</td>\n",
       "      <td>NaN</td>\n",
       "      <td>ARLINGTON</td>\n",
       "      <td>VA</td>\n",
       "      <td>222053610</td>\n",
       "      <td>7.035586e+09</td>\n",
       "      <td>490112.0</td>\n",
       "      <td>CJW MEDICAL CENTER</td>\n",
       "      <td>210028.0</td>\n",
       "      <td>MEDSTAR SAINT MARY'S HOSPITAL</td>\n",
       "      <td>NaN</td>\n",
       "      <td>NaN</td>\n",
       "      <td>NaN</td>\n",
       "      <td>NaN</td>\n",
       "      <td>NaN</td>\n",
       "      <td>NaN</td>\n",
       "      <td>Y</td>\n",
       "    </tr>\n",
       "    <tr>\n",
       "      <th>2</th>\n",
       "      <td>1003000126</td>\n",
       "      <td>7517003643</td>\n",
       "      <td>I20150824000105</td>\n",
       "      <td>ARDALAN  ENKESHAFI</td>\n",
       "      <td>M</td>\n",
       "      <td>Not Listed</td>\n",
       "      <td>OTHER</td>\n",
       "      <td>1994</td>\n",
       "      <td>INTERNAL MEDICINE</td>\n",
       "      <td>NaN</td>\n",
       "      <td>NaN</td>\n",
       "      <td>NaN</td>\n",
       "      <td>NaN</td>\n",
       "      <td>NaN</td>\n",
       "      <td>EMERGENCY MEDICINE ASSOCIATES PA PC</td>\n",
       "      <td>8.022915e+09</td>\n",
       "      <td>182.0</td>\n",
       "      <td>24440 STONE SPRINGS BLVD</td>\n",
       "      <td>NaN</td>\n",
       "      <td>NaN</td>\n",
       "      <td>DULLES</td>\n",
       "      <td>VA</td>\n",
       "      <td>201662247</td>\n",
       "      <td>5.713674e+09</td>\n",
       "      <td>490112.0</td>\n",
       "      <td>CJW MEDICAL CENTER</td>\n",
       "      <td>210028.0</td>\n",
       "      <td>MEDSTAR SAINT MARY'S HOSPITAL</td>\n",
       "      <td>NaN</td>\n",
       "      <td>NaN</td>\n",
       "      <td>NaN</td>\n",
       "      <td>NaN</td>\n",
       "      <td>NaN</td>\n",
       "      <td>NaN</td>\n",
       "      <td>Y</td>\n",
       "    </tr>\n",
       "    <tr>\n",
       "      <th>3</th>\n",
       "      <td>1003000126</td>\n",
       "      <td>7517003643</td>\n",
       "      <td>I20150824000105</td>\n",
       "      <td>ARDALAN  ENKESHAFI</td>\n",
       "      <td>M</td>\n",
       "      <td>Not Listed</td>\n",
       "      <td>OTHER</td>\n",
       "      <td>1994</td>\n",
       "      <td>INTERNAL MEDICINE</td>\n",
       "      <td>NaN</td>\n",
       "      <td>NaN</td>\n",
       "      <td>NaN</td>\n",
       "      <td>NaN</td>\n",
       "      <td>NaN</td>\n",
       "      <td>SOUTHEASTERN INTENSIVIST SERVICES PC</td>\n",
       "      <td>9.335152e+09</td>\n",
       "      <td>133.0</td>\n",
       "      <td>1401 JOHNSTON WILLIS DR</td>\n",
       "      <td>NaN</td>\n",
       "      <td>NaN</td>\n",
       "      <td>NORTH CHESTERFIELD</td>\n",
       "      <td>VA</td>\n",
       "      <td>232354730</td>\n",
       "      <td>8.044835e+09</td>\n",
       "      <td>490112.0</td>\n",
       "      <td>CJW MEDICAL CENTER</td>\n",
       "      <td>210028.0</td>\n",
       "      <td>MEDSTAR SAINT MARY'S HOSPITAL</td>\n",
       "      <td>NaN</td>\n",
       "      <td>NaN</td>\n",
       "      <td>NaN</td>\n",
       "      <td>NaN</td>\n",
       "      <td>NaN</td>\n",
       "      <td>NaN</td>\n",
       "      <td>Y</td>\n",
       "    </tr>\n",
       "    <tr>\n",
       "      <th>4</th>\n",
       "      <td>1003000126</td>\n",
       "      <td>7517003643</td>\n",
       "      <td>I20150824000105</td>\n",
       "      <td>ARDALAN  ENKESHAFI</td>\n",
       "      <td>M</td>\n",
       "      <td>Not Listed</td>\n",
       "      <td>OTHER</td>\n",
       "      <td>1994</td>\n",
       "      <td>INTERNAL MEDICINE</td>\n",
       "      <td>NaN</td>\n",
       "      <td>NaN</td>\n",
       "      <td>NaN</td>\n",
       "      <td>NaN</td>\n",
       "      <td>NaN</td>\n",
       "      <td>SOUTHEASTERN INTENSIVIST SERVICES PC</td>\n",
       "      <td>9.335152e+09</td>\n",
       "      <td>133.0</td>\n",
       "      <td>411 W RANDOLPH RD</td>\n",
       "      <td>NaN</td>\n",
       "      <td>NaN</td>\n",
       "      <td>HOPEWELL</td>\n",
       "      <td>VA</td>\n",
       "      <td>238602938</td>\n",
       "      <td>8.045412e+09</td>\n",
       "      <td>490112.0</td>\n",
       "      <td>CJW MEDICAL CENTER</td>\n",
       "      <td>210028.0</td>\n",
       "      <td>MEDSTAR SAINT MARY'S HOSPITAL</td>\n",
       "      <td>NaN</td>\n",
       "      <td>NaN</td>\n",
       "      <td>NaN</td>\n",
       "      <td>NaN</td>\n",
       "      <td>NaN</td>\n",
       "      <td>NaN</td>\n",
       "      <td>Y</td>\n",
       "    </tr>\n",
       "  </tbody>\n",
       "</table>\n",
       "</div>"
      ],
      "text/plain": [
       "          npi  ind_pac_id      ind_enrl_id              full_nm gndr  \\\n",
       "0  1003000126  7517003643  I20130530000085  ARDALAN  ENKESHAFI     M   \n",
       "1  1003000126  7517003643  I20130530000085  ARDALAN  ENKESHAFI     M   \n",
       "2  1003000126  7517003643  I20150824000105  ARDALAN  ENKESHAFI     M   \n",
       "3  1003000126  7517003643  I20150824000105  ARDALAN  ENKESHAFI     M   \n",
       "4  1003000126  7517003643  I20150824000105  ARDALAN  ENKESHAFI     M   \n",
       "\n",
       "         cred med_sch  grd_yr           pri_spec sec_spec_1 sec_spec_2  \\\n",
       "0  Not Listed   OTHER    1994  INTERNAL MEDICINE        NaN        NaN   \n",
       "1  Not Listed   OTHER    1994  INTERNAL MEDICINE        NaN        NaN   \n",
       "2  Not Listed   OTHER    1994  INTERNAL MEDICINE        NaN        NaN   \n",
       "3  Not Listed   OTHER    1994  INTERNAL MEDICINE        NaN        NaN   \n",
       "4  Not Listed   OTHER    1994  INTERNAL MEDICINE        NaN        NaN   \n",
       "\n",
       "  sec_spec_3 sec_spec_4 sec_spec_all                            org_lgl_nm  \\\n",
       "0        NaN        NaN          NaN   EMERGENCY MEDICINE ASSOCIATES PA PC   \n",
       "1        NaN        NaN          NaN   EMERGENCY MEDICINE ASSOCIATES PA PC   \n",
       "2        NaN        NaN          NaN   EMERGENCY MEDICINE ASSOCIATES PA PC   \n",
       "3        NaN        NaN          NaN  SOUTHEASTERN INTENSIVIST SERVICES PC   \n",
       "4        NaN        NaN          NaN  SOUTHEASTERN INTENSIVIST SERVICES PC   \n",
       "\n",
       "     org_pac_id  num_org_mem                  adr_ln_1 adr_ln_2 ln_2_sprs  \\\n",
       "0  8.022915e+09        182.0        1850 TOWN CTR PKWY      NaN       NaN   \n",
       "1  8.022915e+09        182.0    1701 N GEORGE MASON DR      NaN       NaN   \n",
       "2  8.022915e+09        182.0  24440 STONE SPRINGS BLVD      NaN       NaN   \n",
       "3  9.335152e+09        133.0   1401 JOHNSTON WILLIS DR      NaN       NaN   \n",
       "4  9.335152e+09        133.0         411 W RANDOLPH RD      NaN       NaN   \n",
       "\n",
       "                  cty  st        zip     phn_numbr hosp_afl_1  \\\n",
       "0              RESTON  VA  201903219  7.036899e+09   490112.0   \n",
       "1           ARLINGTON  VA  222053610  7.035586e+09   490112.0   \n",
       "2              DULLES  VA  201662247  5.713674e+09   490112.0   \n",
       "3  NORTH CHESTERFIELD  VA  232354730  8.044835e+09   490112.0   \n",
       "4            HOPEWELL  VA  238602938  8.045412e+09   490112.0   \n",
       "\n",
       "       hosp_afl_lbn_1 hosp_afl_2                 hosp_afl_lbn_2 hosp_afl_3  \\\n",
       "0  CJW MEDICAL CENTER   210028.0  MEDSTAR SAINT MARY'S HOSPITAL        NaN   \n",
       "1  CJW MEDICAL CENTER   210028.0  MEDSTAR SAINT MARY'S HOSPITAL        NaN   \n",
       "2  CJW MEDICAL CENTER   210028.0  MEDSTAR SAINT MARY'S HOSPITAL        NaN   \n",
       "3  CJW MEDICAL CENTER   210028.0  MEDSTAR SAINT MARY'S HOSPITAL        NaN   \n",
       "4  CJW MEDICAL CENTER   210028.0  MEDSTAR SAINT MARY'S HOSPITAL        NaN   \n",
       "\n",
       "  hosp_afl_lbn_3 hosp_afl_4 hosp_afl_lbn_4  hosp_afl_5 hosp_afl_lbn_5 assgn  \n",
       "0            NaN        NaN            NaN         NaN            NaN     Y  \n",
       "1            NaN        NaN            NaN         NaN            NaN     Y  \n",
       "2            NaN        NaN            NaN         NaN            NaN     Y  \n",
       "3            NaN        NaN            NaN         NaN            NaN     Y  \n",
       "4            NaN        NaN            NaN         NaN            NaN     Y  "
      ]
     },
     "execution_count": 66,
     "metadata": {},
     "output_type": "execute_result"
    }
   ],
   "source": [
    "data.head()"
   ]
  },
  {
   "cell_type": "markdown",
   "metadata": {},
   "source": [
    "Columns `npi` through `grd_yr` have been addressed; now, let us take a look at the `pri_spec` column."
   ]
  },
  {
   "cell_type": "code",
   "execution_count": 69,
   "metadata": {},
   "outputs": [
    {
     "name": "stdout",
     "output_type": "stream",
     "text": [
      "There are 0 missing values in the primary specialty column.\n"
     ]
    }
   ],
   "source": [
    "# how many missing values are there in the pri_spec column?\n",
    "print('There are {} missing values in the primary specialty column.'.format(data['pri_spec'].isna().sum()))"
   ]
  },
  {
   "cell_type": "code",
   "execution_count": 72,
   "metadata": {},
   "outputs": [
    {
     "name": "stdout",
     "output_type": "stream",
     "text": [
      "Number of unique values in primary specialty column: 83\n"
     ]
    }
   ],
   "source": [
    "# how many unique values are there in the pri_spec column?\n",
    "print('Number of unique values in primary specialty column: {}'.format(len(data['pri_spec'].unique())))"
   ]
  },
  {
   "cell_type": "markdown",
   "metadata": {},
   "source": [
    "With 83 unique values, we have quite a few specialty's listed. Lets print out the unique values and then get the value counts for each."
   ]
  },
  {
   "cell_type": "code",
   "execution_count": 76,
   "metadata": {},
   "outputs": [
    {
     "name": "stdout",
     "output_type": "stream",
     "text": [
      "ADDICTION MEDICINE\n",
      "ADVANCED HEART FAILURE AND TRANSPLANT CARDIOLOGY\n",
      "ALLERGY/IMMUNOLOGY\n",
      "ANESTHESIOLOGY\n",
      "ANESTHESIOLOGY ASSISTANT\n",
      "CARDIAC ELECTROPHYSIOLOGY\n",
      "CARDIAC SURGERY\n",
      "CARDIOVASCULAR DISEASE (CARDIOLOGY)\n",
      "CERTIFIED CLINICAL NURSE SPECIALIST (CNS)\n",
      "CERTIFIED NURSE MIDWIFE (CNM)\n",
      "CERTIFIED REGISTERED NURSE ANESTHETIST (CRNA)\n",
      "CHIROPRACTIC\n",
      "CLINICAL SOCIAL WORKER\n",
      "COLORECTAL SURGERY (PROCTOLOGY)\n",
      "CRITICAL CARE (INTENSIVISTS)\n",
      "DENTIST\n",
      "DERMATOLOGY\n",
      "DIAGNOSTIC RADIOLOGY\n",
      "EMERGENCY MEDICINE\n",
      "ENDOCRINOLOGY\n",
      "FAMILY MEDICINE\n",
      "GASTROENTEROLOGY\n",
      "GENERAL PRACTICE\n",
      "GENERAL SURGERY\n",
      "GERIATRIC MEDICINE\n",
      "GERIATRIC PSYCHIATRY\n",
      "GYNECOLOGICAL ONCOLOGY\n",
      "HAND SURGERY\n",
      "HEMATOLOGY\n",
      "HEMATOLOGY/ONCOLOGY\n",
      "HEMATOPOIETIC CELL TRANSPLANTATION AND CELLULAR TH\n",
      "HOSPICE/PALLIATIVE CARE\n",
      "HOSPITALIST\n",
      "INFECTIOUS DISEASE\n",
      "INTERNAL MEDICINE\n",
      "INTERVENTIONAL CARDIOLOGY\n",
      "INTERVENTIONAL PAIN MANAGEMENT\n",
      "INTERVENTIONAL RADIOLOGY\n",
      "MAXILLOFACIAL SURGERY\n",
      "MEDICAL GENETICS AND GENOMICS\n",
      "MEDICAL ONCOLOGY\n",
      "MEDICAL TOXICOLOGY\n",
      "NEPHROLOGY\n",
      "NEUROLOGY\n",
      "NEUROPSYCHIATRY\n",
      "NEUROSURGERY\n",
      "NUCLEAR MEDICINE\n",
      "NURSE PRACTITIONER\n",
      "OBSTETRICS/GYNECOLOGY\n",
      "OCCUPATIONAL THERAPY\n",
      "OPHTHALMOLOGY\n",
      "OPTOMETRY\n",
      "ORAL SURGERY\n",
      "ORTHOPEDIC SURGERY\n",
      "OSTEOPATHIC MANIPULATIVE MEDICINE\n",
      "OTOLARYNGOLOGY\n",
      "PAIN MANAGEMENT\n",
      "PATHOLOGY\n",
      "PEDIATRIC MEDICINE\n",
      "PERIPHERAL VASCULAR DISEASE\n",
      "PHYSICAL MEDICINE AND REHABILITATION\n",
      "PHYSICAL THERAPY\n",
      "PHYSICIAN ASSISTANT\n",
      "PLASTIC AND RECONSTRUCTIVE SURGERY\n",
      "PODIATRY\n",
      "PREVENTATIVE MEDICINE\n",
      "PSYCHIATRY\n",
      "PSYCHOLOGIST, CLINICAL\n",
      "PULMONARY DISEASE\n",
      "QUALIFIED AUDIOLOGIST\n",
      "QUALIFIED SPEECH LANGUAGE PATHOLOGIST\n",
      "RADIATION ONCOLOGY\n",
      "REGISTERED DIETITIAN OR NUTRITION PROFESSIONAL\n",
      "RHEUMATOLOGY\n",
      "SLEEP MEDICINE\n",
      "SPORTS MEDICINE\n",
      "SURGICAL ONCOLOGY\n",
      "THORACIC SURGERY\n",
      "UNDEFINED NON-PHYSICIAN TYPE (SPECIFY)\n",
      "UNDEFINED PHYSICIAN TYPE (SPECIFY)\n",
      "UNDERSEA AND HYPERBARIC MEDICINE\n",
      "UROLOGY\n",
      "VASCULAR SURGERY\n"
     ]
    }
   ],
   "source": [
    "# print out the unqiue specialties in the pri_spec column, sorted\n",
    "for specialty in sorted(data['pri_spec'].unique()):\n",
    "    print(specialty)"
   ]
  },
  {
   "cell_type": "markdown",
   "metadata": {},
   "source": [
    "Nothing too out of the ordinary with the specialties listed above. However, there is something to perhaps explore a little further. Near the end there are two values - `UNDEFINED NON-PHYSICIAN TYPE (SPECIFY)` & `UNDEFINED PHYSICIAN TYPE (SPECIFY)` that are essentially flagging unknown values. Let's take a quick detour and explore these specific values before going any further. "
   ]
  },
  {
   "cell_type": "code",
   "execution_count": 77,
   "metadata": {},
   "outputs": [
    {
     "data": {
      "text/plain": [
       "18"
      ]
     },
     "execution_count": 77,
     "metadata": {},
     "output_type": "execute_result"
    }
   ],
   "source": [
    "# how many values in pri_spec column are of the undefined non-physician type?\n",
    "len(data[data['pri_spec'] == 'UNDEFINED NON-PHYSICIAN TYPE (SPECIFY)'])"
   ]
  },
  {
   "cell_type": "code",
   "execution_count": 78,
   "metadata": {},
   "outputs": [
    {
     "data": {
      "text/plain": [
       "612"
      ]
     },
     "execution_count": 78,
     "metadata": {},
     "output_type": "execute_result"
    }
   ],
   "source": [
    "# how many values in pri_spec column are of the undefined physician type?\n",
    "len(data[data['pri_spec'] == 'UNDEFINED PHYSICIAN TYPE (SPECIFY)'])"
   ]
  },
  {
   "cell_type": "markdown",
   "metadata": {},
   "source": [
    "It looks like there are very few of these observations when compared to the overall data set (which is 2.1M rows). However, lets keep this in mind going forward as perhaps we might be able to find more information in another column, perhaps in one of the secondary specialty columns.\n",
    "\n",
    "Next, we'll get back to the higher level overview of the `pri_spec` column by getting the value counts for each unique value in the column."
   ]
  },
  {
   "cell_type": "code",
   "execution_count": 79,
   "metadata": {},
   "outputs": [
    {
     "data": {
      "text/plain": [
       "NURSE PRACTITIONER                               235345\n",
       "PHYSICIAN ASSISTANT                              203371\n",
       "INTERNAL MEDICINE                                182186\n",
       "FAMILY MEDICINE                                  158359\n",
       "DIAGNOSTIC RADIOLOGY                             156303\n",
       "PHYSICAL THERAPY                                  84096\n",
       "CERTIFIED REGISTERED NURSE ANESTHETIST (CRNA)     79246\n",
       "ANESTHESIOLOGY                                    75169\n",
       "CARDIOVASCULAR DISEASE (CARDIOLOGY)               66414\n",
       "OBSTETRICS/GYNECOLOGY                             59125\n",
       "CLINICAL SOCIAL WORKER                            49860\n",
       "ORTHOPEDIC SURGERY                                45332\n",
       "OPTOMETRY                                         44946\n",
       "GENERAL SURGERY                                   44396\n",
       "CHIROPRACTIC                                      42595\n",
       "PSYCHIATRY                                        39718\n",
       "OPHTHALMOLOGY                                     34855\n",
       "NEUROLOGY                                         34010\n",
       "PSYCHOLOGIST, CLINICAL                            33686\n",
       "GASTROENTEROLOGY                                  31889\n",
       "Name: pri_spec, dtype: int64"
      ]
     },
     "execution_count": 79,
     "metadata": {},
     "output_type": "execute_result"
    }
   ],
   "source": [
    "# return absolute value counts for top 20 values in primary specialty column\n",
    "data['pri_spec'].value_counts()[:20]"
   ]
  },
  {
   "cell_type": "markdown",
   "metadata": {},
   "source": [
    "Quickly, what is wrong with the above?\n",
    "\n",
    "YOU FORGOT THAT THERE IS DUPLICATE ENTRIES, i.e. there are physicians that are listed multiple times and will thus inflate the numbers for whatever the `pri_spec` is! \n",
    "\n",
    "To get a more accurate picture we would first need to groupby the physician and then we can return a more accurate value count."
   ]
  },
  {
   "cell_type": "code",
   "execution_count": 87,
   "metadata": {},
   "outputs": [
    {
     "data": {
      "text/plain": [
       "full_nm\n",
       "A  MIRANDA                       MEDICAL ONCOLOGY\n",
       "A  NARASIMHA RAO                        NEUROLOGY\n",
       "A ALAN SEMINE                DIAGNOSTIC RADIOLOGY\n",
       "A ANANTH  RAMAN                 PULMONARY DISEASE\n",
       "A ANDREW RUDMANN                INTERNAL MEDICINE\n",
       "A B  M MASUDUR  RAHMAN            FAMILY MEDICINE\n",
       "A BENEDICT  COSIMI              SURGICAL ONCOLOGY\n",
       "A BETHEL  GILBERT          CLINICAL SOCIAL WORKER\n",
       "A BRANT LIPSCOMB JR.           ORTHOPEDIC SURGERY\n",
       "A C BADDER                       PHYSICAL THERAPY\n",
       "Name: pri_spec, dtype: object"
      ]
     },
     "execution_count": 87,
     "metadata": {},
     "output_type": "execute_result"
    }
   ],
   "source": [
    "# group by physician (condensing down duplicate physicians) and grab their associated pri_spec\n",
    "data.groupby('full_nm')['pri_spec'].first()[:10]"
   ]
  },
  {
   "cell_type": "code",
   "execution_count": 89,
   "metadata": {},
   "outputs": [
    {
     "data": {
      "text/html": [
       "<div>\n",
       "<style scoped>\n",
       "    .dataframe tbody tr th:only-of-type {\n",
       "        vertical-align: middle;\n",
       "    }\n",
       "\n",
       "    .dataframe tbody tr th {\n",
       "        vertical-align: top;\n",
       "    }\n",
       "\n",
       "    .dataframe thead th {\n",
       "        text-align: right;\n",
       "    }\n",
       "</style>\n",
       "<table border=\"1\" class=\"dataframe\">\n",
       "  <thead>\n",
       "    <tr style=\"text-align: right;\">\n",
       "      <th></th>\n",
       "      <th>full_nm</th>\n",
       "      <th>pri_spec</th>\n",
       "    </tr>\n",
       "  </thead>\n",
       "  <tbody>\n",
       "    <tr>\n",
       "      <th>0</th>\n",
       "      <td>A  MIRANDA</td>\n",
       "      <td>MEDICAL ONCOLOGY</td>\n",
       "    </tr>\n",
       "    <tr>\n",
       "      <th>1</th>\n",
       "      <td>A  NARASIMHA RAO</td>\n",
       "      <td>NEUROLOGY</td>\n",
       "    </tr>\n",
       "    <tr>\n",
       "      <th>2</th>\n",
       "      <td>A ALAN SEMINE</td>\n",
       "      <td>DIAGNOSTIC RADIOLOGY</td>\n",
       "    </tr>\n",
       "    <tr>\n",
       "      <th>3</th>\n",
       "      <td>A ANANTH  RAMAN</td>\n",
       "      <td>PULMONARY DISEASE</td>\n",
       "    </tr>\n",
       "    <tr>\n",
       "      <th>4</th>\n",
       "      <td>A ANDREW RUDMANN</td>\n",
       "      <td>INTERNAL MEDICINE</td>\n",
       "    </tr>\n",
       "  </tbody>\n",
       "</table>\n",
       "</div>"
      ],
      "text/plain": [
       "             full_nm              pri_spec\n",
       "0        A  MIRANDA       MEDICAL ONCOLOGY\n",
       "1  A  NARASIMHA RAO              NEUROLOGY\n",
       "2     A ALAN SEMINE   DIAGNOSTIC RADIOLOGY\n",
       "3   A ANANTH  RAMAN      PULMONARY DISEASE\n",
       "4  A ANDREW RUDMANN      INTERNAL MEDICINE"
      ]
     },
     "execution_count": 89,
     "metadata": {},
     "output_type": "execute_result"
    }
   ],
   "source": [
    "# make a dataframe of the above and reset the index\n",
    "pri_spec_df = pd.DataFrame(data.groupby('full_nm')['pri_spec'].first()).reset_index(); pri_spec_df.head()"
   ]
  },
  {
   "cell_type": "code",
   "execution_count": 90,
   "metadata": {},
   "outputs": [],
   "source": [
    "# adjust column names\n",
    "pri_spec_df.columns = ['name', 'primary_specialty']"
   ]
  },
  {
   "cell_type": "code",
   "execution_count": 91,
   "metadata": {},
   "outputs": [
    {
     "data": {
      "text/plain": [
       "NURSE PRACTITIONER                               130090\n",
       "INTERNAL MEDICINE                                 89304\n",
       "FAMILY MEDICINE                                   82162\n",
       "PHYSICIAN ASSISTANT                               73635\n",
       "PHYSICAL THERAPY                                  57298\n",
       "CERTIFIED REGISTERED NURSE ANESTHETIST (CRNA)     41544\n",
       "CLINICAL SOCIAL WORKER                            39863\n",
       "CHIROPRACTIC                                      39173\n",
       "ANESTHESIOLOGY                                    37146\n",
       "OPTOMETRY                                         31212\n",
       "Name: primary_specialty, dtype: int64"
      ]
     },
     "execution_count": 91,
     "metadata": {},
     "output_type": "execute_result"
    }
   ],
   "source": [
    "# now return value count in primary specialty column, similar to how we did above\n",
    "pri_spec_df['primary_specialty'].value_counts()[:10]"
   ]
  },
  {
   "cell_type": "markdown",
   "metadata": {},
   "source": [
    "As we can see, by reformatting the data to condense duplicate entries down to one for each physician in the data, we cut many of the values from before nearly in half! This is the more accurate count of the primary specialty for each person in the data set. We'll take note of this for later use however since this column - i.e., `pri_spec` in original `data` DataFrame - is void of missing values we can move forward with our cleaning process to the columns associated with secondary specialties. "
   ]
  },
  {
   "cell_type": "code",
   "execution_count": 92,
   "metadata": {},
   "outputs": [
    {
     "data": {
      "text/plain": [
       "sec_spec_1      1891912\n",
       "sec_spec_2      2175539\n",
       "sec_spec_3      2207106\n",
       "sec_spec_4      2210199\n",
       "sec_spec_all    1891912\n",
       "dtype: int64"
      ]
     },
     "execution_count": 92,
     "metadata": {},
     "output_type": "execute_result"
    }
   ],
   "source": [
    "# check the missing values in the columns associated with second specialties\n",
    "data[['sec_spec_1', 'sec_spec_2', 'sec_spec_3', 'sec_spec_4', 'sec_spec_all']].isna().sum()"
   ]
  },
  {
   "cell_type": "code",
   "execution_count": 94,
   "metadata": {},
   "outputs": [
    {
     "data": {
      "text/plain": [
       "sec_spec_1      85.576\n",
       "sec_spec_2      98.406\n",
       "sec_spec_3      99.833\n",
       "sec_spec_4      99.973\n",
       "sec_spec_all    85.576\n",
       "dtype: float64"
      ]
     },
     "execution_count": 94,
     "metadata": {},
     "output_type": "execute_result"
    }
   ],
   "source": [
    "# same as above but relayed as a percentage of the column\n",
    "round((data[['sec_spec_1', 'sec_spec_2', 'sec_spec_3', 'sec_spec_4', 'sec_spec_all']].isna().mean()) * 100, 3)"
   ]
  },
  {
   "cell_type": "markdown",
   "metadata": {},
   "source": [
    "It appears that a very large percentage of all these columns don't have any values. Upon a second look though, it appears that we might have a column - `sec_spec_all` - that combines all the secondary specialties into one. Let's check it out further to either confirm or refute this."
   ]
  },
  {
   "cell_type": "code",
   "execution_count": 96,
   "metadata": {},
   "outputs": [
    {
     "name": "stdout",
     "output_type": "stream",
     "text": [
      "Number of unique values in sec_spec_1: 69\n",
      "Number of unique values in sec_spec_2: 64\n",
      "Number of unique values in sec_spec_3: 56\n",
      "Number of unique values in sec_spec_4: 43\n",
      "Number of unique values in sec_spec_all: 1556\n"
     ]
    }
   ],
   "source": [
    "# loop through all the secondary specialty columns to see how many unique values they have\n",
    "for col in data[['sec_spec_1', 'sec_spec_2', 'sec_spec_3', 'sec_spec_4', 'sec_spec_all']]:\n",
    "    unique = len(data[col].unique())\n",
    "    print('Number of unique values in {}: {}'.format(col, unique))"
   ]
  },
  {
   "cell_type": "markdown",
   "metadata": {},
   "source": [
    "This is further evidence towards the `sec_spec_all` column containing all the combinations of all the physicians secondary specialties. Let's dive further into each one through as it might gives us some clues as to what are the most common secondary specialties that physicians have."
   ]
  },
  {
   "cell_type": "code",
   "execution_count": 101,
   "metadata": {},
   "outputs": [],
   "source": [
    "# remember: we have to reformat the dataframe so that it combines all the physicians and their duplicates\n",
    "# into one observation\n",
    "specialty_df = pd.DataFrame(data.groupby('full_nm')[['pri_spec', \n",
    "                                                     'sec_spec_1', \n",
    "                                                     'sec_spec_2', \n",
    "                                                     'sec_spec_3', \n",
    "                                                     'sec_spec_4', \n",
    "                                                     'sec_spec_all']].first()).reset_index()"
   ]
  },
  {
   "cell_type": "code",
   "execution_count": 102,
   "metadata": {},
   "outputs": [
    {
     "data": {
      "text/html": [
       "<div>\n",
       "<style scoped>\n",
       "    .dataframe tbody tr th:only-of-type {\n",
       "        vertical-align: middle;\n",
       "    }\n",
       "\n",
       "    .dataframe tbody tr th {\n",
       "        vertical-align: top;\n",
       "    }\n",
       "\n",
       "    .dataframe thead th {\n",
       "        text-align: right;\n",
       "    }\n",
       "</style>\n",
       "<table border=\"1\" class=\"dataframe\">\n",
       "  <thead>\n",
       "    <tr style=\"text-align: right;\">\n",
       "      <th></th>\n",
       "      <th>full_nm</th>\n",
       "      <th>pri_spec</th>\n",
       "      <th>sec_spec_1</th>\n",
       "      <th>sec_spec_2</th>\n",
       "      <th>sec_spec_3</th>\n",
       "      <th>sec_spec_4</th>\n",
       "      <th>sec_spec_all</th>\n",
       "    </tr>\n",
       "  </thead>\n",
       "  <tbody>\n",
       "    <tr>\n",
       "      <th>0</th>\n",
       "      <td>A  MIRANDA</td>\n",
       "      <td>MEDICAL ONCOLOGY</td>\n",
       "      <td>NaN</td>\n",
       "      <td>NaN</td>\n",
       "      <td>NaN</td>\n",
       "      <td>NaN</td>\n",
       "      <td>NaN</td>\n",
       "    </tr>\n",
       "    <tr>\n",
       "      <th>1</th>\n",
       "      <td>A  NARASIMHA RAO</td>\n",
       "      <td>NEUROLOGY</td>\n",
       "      <td>NaN</td>\n",
       "      <td>NaN</td>\n",
       "      <td>NaN</td>\n",
       "      <td>NaN</td>\n",
       "      <td>NaN</td>\n",
       "    </tr>\n",
       "    <tr>\n",
       "      <th>2</th>\n",
       "      <td>A ALAN SEMINE</td>\n",
       "      <td>DIAGNOSTIC RADIOLOGY</td>\n",
       "      <td>NaN</td>\n",
       "      <td>NaN</td>\n",
       "      <td>NaN</td>\n",
       "      <td>NaN</td>\n",
       "      <td>NaN</td>\n",
       "    </tr>\n",
       "    <tr>\n",
       "      <th>3</th>\n",
       "      <td>A ANANTH  RAMAN</td>\n",
       "      <td>PULMONARY DISEASE</td>\n",
       "      <td>SLEEP MEDICINE</td>\n",
       "      <td>NaN</td>\n",
       "      <td>NaN</td>\n",
       "      <td>NaN</td>\n",
       "      <td>SLEEP MEDICINE</td>\n",
       "    </tr>\n",
       "    <tr>\n",
       "      <th>4</th>\n",
       "      <td>A ANDREW RUDMANN</td>\n",
       "      <td>INTERNAL MEDICINE</td>\n",
       "      <td>NaN</td>\n",
       "      <td>NaN</td>\n",
       "      <td>NaN</td>\n",
       "      <td>NaN</td>\n",
       "      <td>NaN</td>\n",
       "    </tr>\n",
       "  </tbody>\n",
       "</table>\n",
       "</div>"
      ],
      "text/plain": [
       "             full_nm              pri_spec      sec_spec_1 sec_spec_2  \\\n",
       "0        A  MIRANDA       MEDICAL ONCOLOGY             NaN        NaN   \n",
       "1  A  NARASIMHA RAO              NEUROLOGY             NaN        NaN   \n",
       "2     A ALAN SEMINE   DIAGNOSTIC RADIOLOGY             NaN        NaN   \n",
       "3   A ANANTH  RAMAN      PULMONARY DISEASE  SLEEP MEDICINE        NaN   \n",
       "4  A ANDREW RUDMANN      INTERNAL MEDICINE             NaN        NaN   \n",
       "\n",
       "  sec_spec_3 sec_spec_4    sec_spec_all  \n",
       "0        NaN        NaN             NaN  \n",
       "1        NaN        NaN             NaN  \n",
       "2        NaN        NaN             NaN  \n",
       "3        NaN        NaN  SLEEP MEDICINE  \n",
       "4        NaN        NaN             NaN  "
      ]
     },
     "execution_count": 102,
     "metadata": {},
     "output_type": "execute_result"
    }
   ],
   "source": [
    "# check out the first few lines of the dataframe we just created\n",
    "specialty_df.head()"
   ]
  },
  {
   "cell_type": "code",
   "execution_count": 106,
   "metadata": {},
   "outputs": [
    {
     "name": "stdout",
     "output_type": "stream",
     "text": [
      "Top 10 Value Counts of sec_spec_1 column\n",
      " \n",
      "INTERNAL MEDICINE                      46297\n",
      "CRITICAL CARE (INTENSIVISTS)            8450\n",
      "PEDIATRIC MEDICINE                      6556\n",
      "CARDIOVASCULAR DISEASE (CARDIOLOGY)     6494\n",
      "FAMILY MEDICINE                         4185\n",
      "GENERAL SURGERY                         4163\n",
      "GERIATRIC MEDICINE                      3350\n",
      "EMERGENCY MEDICINE                      3306\n",
      "PAIN MANAGEMENT                         3011\n",
      "SPORTS MEDICINE                         2630\n",
      "Name: sec_spec_1, dtype: int64\n",
      "------------------------------\n",
      "Top 10 Value Counts of sec_spec_2 column\n",
      " \n",
      "INTERNAL MEDICINE          5251\n",
      "PULMONARY DISEASE          1189\n",
      "PAIN MANAGEMENT             710\n",
      "PEDIATRIC MEDICINE          617\n",
      "MEDICAL ONCOLOGY            458\n",
      "SLEEP MEDICINE              446\n",
      "VASCULAR SURGERY            437\n",
      "NUCLEAR MEDICINE            310\n",
      "HOSPICE/PALLIATIVE CARE     273\n",
      "GENERAL PRACTICE            252\n",
      "Name: sec_spec_2, dtype: int64\n",
      "------------------------------\n",
      "Top 10 Value Counts of sec_spec_3 column\n",
      " \n",
      "SLEEP MEDICINE                 291\n",
      "INTERNAL MEDICINE              199\n",
      "VASCULAR SURGERY               115\n",
      "PULMONARY DISEASE               89\n",
      "MEDICAL ONCOLOGY                77\n",
      "PERIPHERAL VASCULAR DISEASE     74\n",
      "PAIN MANAGEMENT                 71\n",
      "PEDIATRIC MEDICINE              66\n",
      "PREVENTATIVE MEDICINE           57\n",
      "NUCLEAR MEDICINE                55\n",
      "Name: sec_spec_3, dtype: int64\n",
      "------------------------------\n",
      "Top 10 Value Counts of sec_spec_4 column\n",
      " \n",
      "VASCULAR SURGERY               39\n",
      "PREVENTATIVE MEDICINE          30\n",
      "PAIN MANAGEMENT                26\n",
      "PERIPHERAL VASCULAR DISEASE    21\n",
      "INTERNAL MEDICINE              19\n",
      "SLEEP MEDICINE                 14\n",
      "SURGICAL ONCOLOGY              14\n",
      "THORACIC SURGERY               13\n",
      "SPORTS MEDICINE                11\n",
      "PULMONARY DISEASE              10\n",
      "Name: sec_spec_4, dtype: int64\n",
      "------------------------------\n"
     ]
    }
   ],
   "source": [
    "# loop through each numbered secondary specialty column and retrieve top 10 value counts\n",
    "for col in specialty_df[['sec_spec_1', 'sec_spec_2', 'sec_spec_3', 'sec_spec_4']]:\n",
    "    print('Top 10 Value Counts of {} column'.format(col))\n",
    "    print(' ')\n",
    "    print(specialty_df[col].value_counts()[:10])\n",
    "    print('-' * 30)"
   ]
  },
  {
   "cell_type": "markdown",
   "metadata": {},
   "source": [
    "A quick look yields that `INTERNAL MEDICINE` is a value that is in the top 10 of all of the secondary specialty columns. Let's see what's in store for us in the `sec_spec_all` column."
   ]
  },
  {
   "cell_type": "code",
   "execution_count": 110,
   "metadata": {},
   "outputs": [
    {
     "data": {
      "text/plain": [
       "INTERNAL MEDICINE                                  33.369510\n",
       "PEDIATRIC MEDICINE                                  4.895843\n",
       "CRITICAL CARE (INTENSIVISTS)                        3.956769\n",
       "CARDIOVASCULAR DISEASE (CARDIOLOGY)                 3.722378\n",
       "GENERAL SURGERY                                     2.898616\n",
       "FAMILY MEDICINE                                     2.811190\n",
       "PAIN MANAGEMENT                                     2.187151\n",
       "GERIATRIC MEDICINE                                  2.153236\n",
       "EMERGENCY MEDICINE                                  2.147207\n",
       "SPORTS MEDICINE                                     1.980646\n",
       "HOSPITALIST                                         1.707817\n",
       "ANESTHESIOLOGY                                      1.493775\n",
       "CRITICAL CARE (INTENSIVISTS), INTERNAL MEDICINE     1.407103\n",
       "PULMONARY DISEASE                                   1.381478\n",
       "INTERVENTIONAL RADIOLOGY                            1.352838\n",
       "ORTHOPEDIC SURGERY                                  1.122969\n",
       "DIAGNOSTIC RADIOLOGY                                1.056646\n",
       "GENERAL PRACTICE                                    1.049863\n",
       "INTERVENTIONAL PAIN MANAGEMENT                      1.031021\n",
       "HAND SURGERY                                        1.021223\n",
       "Name: sec_spec_all, dtype: float64"
      ]
     },
     "execution_count": 110,
     "metadata": {},
     "output_type": "execute_result"
    }
   ],
   "source": [
    "# get top 20 value counts (normalized to show percentage) of the sec_spec_all column\n",
    "(specialty_df['sec_spec_all'].value_counts(normalize=True) * 100)[:20]"
   ]
  },
  {
   "cell_type": "markdown",
   "metadata": {},
   "source": [
    "For the most part it appears of the physicians that do have a secondary specialty a large portion tend to have one, `INTERNAL MEDICINE`. Another thing to note is that there is only one entry - `CRITICAL CARE (INTENSIVISTS), INTERNAL MEDICINE` - that lists more than one secondary specialty. This is an indicator that it appears most physicians don't tend to have more than one other specialty in addition to their primary one. \n",
    "\n",
    "But lets get back to what we were originally seeking to do: fill in the `NaN`s in the secondary specialty columns. For these columns we can go ahead and replace `NaN` with `None` as it most likely to be the case that a particular physician doesn't have a secondary specialty if there is a value of `NaN`. "
   ]
  },
  {
   "cell_type": "code",
   "execution_count": 119,
   "metadata": {},
   "outputs": [],
   "source": [
    "# replace NaN in all the secondary specialty columns with None\n",
    "data[['sec_spec_1', 'sec_spec_2', 'sec_spec_3', 'sec_spec_4', 'sec_spec_all']] = data[['sec_spec_1', 'sec_spec_2', 'sec_spec_3', 'sec_spec_4', 'sec_spec_all']].fillna('None')"
   ]
  },
  {
   "cell_type": "markdown",
   "metadata": {},
   "source": [
    "Now that we've cleaned up more than a few columns, lets take a look at the first few rows of `data` and see how it is shaping up."
   ]
  },
  {
   "cell_type": "code",
   "execution_count": 120,
   "metadata": {},
   "outputs": [
    {
     "data": {
      "text/html": [
       "<div>\n",
       "<style scoped>\n",
       "    .dataframe tbody tr th:only-of-type {\n",
       "        vertical-align: middle;\n",
       "    }\n",
       "\n",
       "    .dataframe tbody tr th {\n",
       "        vertical-align: top;\n",
       "    }\n",
       "\n",
       "    .dataframe thead th {\n",
       "        text-align: right;\n",
       "    }\n",
       "</style>\n",
       "<table border=\"1\" class=\"dataframe\">\n",
       "  <thead>\n",
       "    <tr style=\"text-align: right;\">\n",
       "      <th></th>\n",
       "      <th>npi</th>\n",
       "      <th>ind_pac_id</th>\n",
       "      <th>ind_enrl_id</th>\n",
       "      <th>full_nm</th>\n",
       "      <th>gndr</th>\n",
       "      <th>cred</th>\n",
       "      <th>med_sch</th>\n",
       "      <th>grd_yr</th>\n",
       "      <th>pri_spec</th>\n",
       "      <th>sec_spec_1</th>\n",
       "      <th>sec_spec_2</th>\n",
       "      <th>sec_spec_3</th>\n",
       "      <th>sec_spec_4</th>\n",
       "      <th>sec_spec_all</th>\n",
       "      <th>org_lgl_nm</th>\n",
       "      <th>org_pac_id</th>\n",
       "      <th>num_org_mem</th>\n",
       "      <th>adr_ln_1</th>\n",
       "      <th>adr_ln_2</th>\n",
       "      <th>ln_2_sprs</th>\n",
       "      <th>cty</th>\n",
       "      <th>st</th>\n",
       "      <th>zip</th>\n",
       "      <th>phn_numbr</th>\n",
       "      <th>hosp_afl_1</th>\n",
       "      <th>hosp_afl_lbn_1</th>\n",
       "      <th>hosp_afl_2</th>\n",
       "      <th>hosp_afl_lbn_2</th>\n",
       "      <th>hosp_afl_3</th>\n",
       "      <th>hosp_afl_lbn_3</th>\n",
       "      <th>hosp_afl_4</th>\n",
       "      <th>hosp_afl_lbn_4</th>\n",
       "      <th>hosp_afl_5</th>\n",
       "      <th>hosp_afl_lbn_5</th>\n",
       "      <th>assgn</th>\n",
       "    </tr>\n",
       "  </thead>\n",
       "  <tbody>\n",
       "    <tr>\n",
       "      <th>0</th>\n",
       "      <td>1003000126</td>\n",
       "      <td>7517003643</td>\n",
       "      <td>I20130530000085</td>\n",
       "      <td>ARDALAN  ENKESHAFI</td>\n",
       "      <td>M</td>\n",
       "      <td>Not Listed</td>\n",
       "      <td>OTHER</td>\n",
       "      <td>1994</td>\n",
       "      <td>INTERNAL MEDICINE</td>\n",
       "      <td>None</td>\n",
       "      <td>None</td>\n",
       "      <td>None</td>\n",
       "      <td>None</td>\n",
       "      <td>None</td>\n",
       "      <td>EMERGENCY MEDICINE ASSOCIATES PA PC</td>\n",
       "      <td>8.022915e+09</td>\n",
       "      <td>182.0</td>\n",
       "      <td>1850 TOWN CTR PKWY</td>\n",
       "      <td>NaN</td>\n",
       "      <td>NaN</td>\n",
       "      <td>RESTON</td>\n",
       "      <td>VA</td>\n",
       "      <td>201903219</td>\n",
       "      <td>7.036899e+09</td>\n",
       "      <td>490112.0</td>\n",
       "      <td>CJW MEDICAL CENTER</td>\n",
       "      <td>210028.0</td>\n",
       "      <td>MEDSTAR SAINT MARY'S HOSPITAL</td>\n",
       "      <td>NaN</td>\n",
       "      <td>NaN</td>\n",
       "      <td>NaN</td>\n",
       "      <td>NaN</td>\n",
       "      <td>NaN</td>\n",
       "      <td>NaN</td>\n",
       "      <td>Y</td>\n",
       "    </tr>\n",
       "    <tr>\n",
       "      <th>1</th>\n",
       "      <td>1003000126</td>\n",
       "      <td>7517003643</td>\n",
       "      <td>I20130530000085</td>\n",
       "      <td>ARDALAN  ENKESHAFI</td>\n",
       "      <td>M</td>\n",
       "      <td>Not Listed</td>\n",
       "      <td>OTHER</td>\n",
       "      <td>1994</td>\n",
       "      <td>INTERNAL MEDICINE</td>\n",
       "      <td>None</td>\n",
       "      <td>None</td>\n",
       "      <td>None</td>\n",
       "      <td>None</td>\n",
       "      <td>None</td>\n",
       "      <td>EMERGENCY MEDICINE ASSOCIATES PA PC</td>\n",
       "      <td>8.022915e+09</td>\n",
       "      <td>182.0</td>\n",
       "      <td>1701 N GEORGE MASON DR</td>\n",
       "      <td>NaN</td>\n",
       "      <td>NaN</td>\n",
       "      <td>ARLINGTON</td>\n",
       "      <td>VA</td>\n",
       "      <td>222053610</td>\n",
       "      <td>7.035586e+09</td>\n",
       "      <td>490112.0</td>\n",
       "      <td>CJW MEDICAL CENTER</td>\n",
       "      <td>210028.0</td>\n",
       "      <td>MEDSTAR SAINT MARY'S HOSPITAL</td>\n",
       "      <td>NaN</td>\n",
       "      <td>NaN</td>\n",
       "      <td>NaN</td>\n",
       "      <td>NaN</td>\n",
       "      <td>NaN</td>\n",
       "      <td>NaN</td>\n",
       "      <td>Y</td>\n",
       "    </tr>\n",
       "    <tr>\n",
       "      <th>2</th>\n",
       "      <td>1003000126</td>\n",
       "      <td>7517003643</td>\n",
       "      <td>I20150824000105</td>\n",
       "      <td>ARDALAN  ENKESHAFI</td>\n",
       "      <td>M</td>\n",
       "      <td>Not Listed</td>\n",
       "      <td>OTHER</td>\n",
       "      <td>1994</td>\n",
       "      <td>INTERNAL MEDICINE</td>\n",
       "      <td>None</td>\n",
       "      <td>None</td>\n",
       "      <td>None</td>\n",
       "      <td>None</td>\n",
       "      <td>None</td>\n",
       "      <td>EMERGENCY MEDICINE ASSOCIATES PA PC</td>\n",
       "      <td>8.022915e+09</td>\n",
       "      <td>182.0</td>\n",
       "      <td>24440 STONE SPRINGS BLVD</td>\n",
       "      <td>NaN</td>\n",
       "      <td>NaN</td>\n",
       "      <td>DULLES</td>\n",
       "      <td>VA</td>\n",
       "      <td>201662247</td>\n",
       "      <td>5.713674e+09</td>\n",
       "      <td>490112.0</td>\n",
       "      <td>CJW MEDICAL CENTER</td>\n",
       "      <td>210028.0</td>\n",
       "      <td>MEDSTAR SAINT MARY'S HOSPITAL</td>\n",
       "      <td>NaN</td>\n",
       "      <td>NaN</td>\n",
       "      <td>NaN</td>\n",
       "      <td>NaN</td>\n",
       "      <td>NaN</td>\n",
       "      <td>NaN</td>\n",
       "      <td>Y</td>\n",
       "    </tr>\n",
       "    <tr>\n",
       "      <th>3</th>\n",
       "      <td>1003000126</td>\n",
       "      <td>7517003643</td>\n",
       "      <td>I20150824000105</td>\n",
       "      <td>ARDALAN  ENKESHAFI</td>\n",
       "      <td>M</td>\n",
       "      <td>Not Listed</td>\n",
       "      <td>OTHER</td>\n",
       "      <td>1994</td>\n",
       "      <td>INTERNAL MEDICINE</td>\n",
       "      <td>None</td>\n",
       "      <td>None</td>\n",
       "      <td>None</td>\n",
       "      <td>None</td>\n",
       "      <td>None</td>\n",
       "      <td>SOUTHEASTERN INTENSIVIST SERVICES PC</td>\n",
       "      <td>9.335152e+09</td>\n",
       "      <td>133.0</td>\n",
       "      <td>1401 JOHNSTON WILLIS DR</td>\n",
       "      <td>NaN</td>\n",
       "      <td>NaN</td>\n",
       "      <td>NORTH CHESTERFIELD</td>\n",
       "      <td>VA</td>\n",
       "      <td>232354730</td>\n",
       "      <td>8.044835e+09</td>\n",
       "      <td>490112.0</td>\n",
       "      <td>CJW MEDICAL CENTER</td>\n",
       "      <td>210028.0</td>\n",
       "      <td>MEDSTAR SAINT MARY'S HOSPITAL</td>\n",
       "      <td>NaN</td>\n",
       "      <td>NaN</td>\n",
       "      <td>NaN</td>\n",
       "      <td>NaN</td>\n",
       "      <td>NaN</td>\n",
       "      <td>NaN</td>\n",
       "      <td>Y</td>\n",
       "    </tr>\n",
       "    <tr>\n",
       "      <th>4</th>\n",
       "      <td>1003000126</td>\n",
       "      <td>7517003643</td>\n",
       "      <td>I20150824000105</td>\n",
       "      <td>ARDALAN  ENKESHAFI</td>\n",
       "      <td>M</td>\n",
       "      <td>Not Listed</td>\n",
       "      <td>OTHER</td>\n",
       "      <td>1994</td>\n",
       "      <td>INTERNAL MEDICINE</td>\n",
       "      <td>None</td>\n",
       "      <td>None</td>\n",
       "      <td>None</td>\n",
       "      <td>None</td>\n",
       "      <td>None</td>\n",
       "      <td>SOUTHEASTERN INTENSIVIST SERVICES PC</td>\n",
       "      <td>9.335152e+09</td>\n",
       "      <td>133.0</td>\n",
       "      <td>411 W RANDOLPH RD</td>\n",
       "      <td>NaN</td>\n",
       "      <td>NaN</td>\n",
       "      <td>HOPEWELL</td>\n",
       "      <td>VA</td>\n",
       "      <td>238602938</td>\n",
       "      <td>8.045412e+09</td>\n",
       "      <td>490112.0</td>\n",
       "      <td>CJW MEDICAL CENTER</td>\n",
       "      <td>210028.0</td>\n",
       "      <td>MEDSTAR SAINT MARY'S HOSPITAL</td>\n",
       "      <td>NaN</td>\n",
       "      <td>NaN</td>\n",
       "      <td>NaN</td>\n",
       "      <td>NaN</td>\n",
       "      <td>NaN</td>\n",
       "      <td>NaN</td>\n",
       "      <td>Y</td>\n",
       "    </tr>\n",
       "  </tbody>\n",
       "</table>\n",
       "</div>"
      ],
      "text/plain": [
       "          npi  ind_pac_id      ind_enrl_id              full_nm gndr  \\\n",
       "0  1003000126  7517003643  I20130530000085  ARDALAN  ENKESHAFI     M   \n",
       "1  1003000126  7517003643  I20130530000085  ARDALAN  ENKESHAFI     M   \n",
       "2  1003000126  7517003643  I20150824000105  ARDALAN  ENKESHAFI     M   \n",
       "3  1003000126  7517003643  I20150824000105  ARDALAN  ENKESHAFI     M   \n",
       "4  1003000126  7517003643  I20150824000105  ARDALAN  ENKESHAFI     M   \n",
       "\n",
       "         cred med_sch  grd_yr           pri_spec sec_spec_1 sec_spec_2  \\\n",
       "0  Not Listed   OTHER    1994  INTERNAL MEDICINE       None       None   \n",
       "1  Not Listed   OTHER    1994  INTERNAL MEDICINE       None       None   \n",
       "2  Not Listed   OTHER    1994  INTERNAL MEDICINE       None       None   \n",
       "3  Not Listed   OTHER    1994  INTERNAL MEDICINE       None       None   \n",
       "4  Not Listed   OTHER    1994  INTERNAL MEDICINE       None       None   \n",
       "\n",
       "  sec_spec_3 sec_spec_4 sec_spec_all                            org_lgl_nm  \\\n",
       "0       None       None         None   EMERGENCY MEDICINE ASSOCIATES PA PC   \n",
       "1       None       None         None   EMERGENCY MEDICINE ASSOCIATES PA PC   \n",
       "2       None       None         None   EMERGENCY MEDICINE ASSOCIATES PA PC   \n",
       "3       None       None         None  SOUTHEASTERN INTENSIVIST SERVICES PC   \n",
       "4       None       None         None  SOUTHEASTERN INTENSIVIST SERVICES PC   \n",
       "\n",
       "     org_pac_id  num_org_mem                  adr_ln_1 adr_ln_2 ln_2_sprs  \\\n",
       "0  8.022915e+09        182.0        1850 TOWN CTR PKWY      NaN       NaN   \n",
       "1  8.022915e+09        182.0    1701 N GEORGE MASON DR      NaN       NaN   \n",
       "2  8.022915e+09        182.0  24440 STONE SPRINGS BLVD      NaN       NaN   \n",
       "3  9.335152e+09        133.0   1401 JOHNSTON WILLIS DR      NaN       NaN   \n",
       "4  9.335152e+09        133.0         411 W RANDOLPH RD      NaN       NaN   \n",
       "\n",
       "                  cty  st        zip     phn_numbr hosp_afl_1  \\\n",
       "0              RESTON  VA  201903219  7.036899e+09   490112.0   \n",
       "1           ARLINGTON  VA  222053610  7.035586e+09   490112.0   \n",
       "2              DULLES  VA  201662247  5.713674e+09   490112.0   \n",
       "3  NORTH CHESTERFIELD  VA  232354730  8.044835e+09   490112.0   \n",
       "4            HOPEWELL  VA  238602938  8.045412e+09   490112.0   \n",
       "\n",
       "       hosp_afl_lbn_1 hosp_afl_2                 hosp_afl_lbn_2 hosp_afl_3  \\\n",
       "0  CJW MEDICAL CENTER   210028.0  MEDSTAR SAINT MARY'S HOSPITAL        NaN   \n",
       "1  CJW MEDICAL CENTER   210028.0  MEDSTAR SAINT MARY'S HOSPITAL        NaN   \n",
       "2  CJW MEDICAL CENTER   210028.0  MEDSTAR SAINT MARY'S HOSPITAL        NaN   \n",
       "3  CJW MEDICAL CENTER   210028.0  MEDSTAR SAINT MARY'S HOSPITAL        NaN   \n",
       "4  CJW MEDICAL CENTER   210028.0  MEDSTAR SAINT MARY'S HOSPITAL        NaN   \n",
       "\n",
       "  hosp_afl_lbn_3 hosp_afl_4 hosp_afl_lbn_4  hosp_afl_5 hosp_afl_lbn_5 assgn  \n",
       "0            NaN        NaN            NaN         NaN            NaN     Y  \n",
       "1            NaN        NaN            NaN         NaN            NaN     Y  \n",
       "2            NaN        NaN            NaN         NaN            NaN     Y  \n",
       "3            NaN        NaN            NaN         NaN            NaN     Y  \n",
       "4            NaN        NaN            NaN         NaN            NaN     Y  "
      ]
     },
     "execution_count": 120,
     "metadata": {},
     "output_type": "execute_result"
    }
   ],
   "source": [
    "data.head()"
   ]
  },
  {
   "cell_type": "code",
   "execution_count": 123,
   "metadata": {},
   "outputs": [
    {
     "data": {
      "text/plain": [
       "npi             0.0\n",
       "ind_pac_id      0.0\n",
       "ind_enrl_id     0.0\n",
       "full_nm         0.0\n",
       "gndr            0.0\n",
       "cred            0.0\n",
       "med_sch         0.0\n",
       "grd_yr          0.0\n",
       "pri_spec        0.0\n",
       "sec_spec_1      0.0\n",
       "sec_spec_2      0.0\n",
       "sec_spec_3      0.0\n",
       "sec_spec_4      0.0\n",
       "sec_spec_all    0.0\n",
       "dtype: float64"
      ]
     },
     "execution_count": 123,
     "metadata": {},
     "output_type": "execute_result"
    }
   ],
   "source": [
    "# check the percentage of missing values in the columns we've cleaned so far\n",
    "data.iloc[:, :14].isna().mean() * 100"
   ]
  },
  {
   "cell_type": "code",
   "execution_count": 124,
   "metadata": {},
   "outputs": [],
   "source": [
    "# save updates to CSV so that tomorrow we can pick up where we left off\n",
    "data.to_csv('physician_compare_national-updates-1.csv', index=False)"
   ]
  },
  {
   "cell_type": "markdown",
   "metadata": {},
   "source": [
    "# _Work Completed_\n",
    "\n",
    "Due to time constraints, I'm going to cut off this notebook here. Above we saved our updates into a CSV so that tomorrow we can just read it in via `pandas` and start right back up where we left off. Below is an overview of the steps that still need to be completed:\n",
    "1. Examine all columns after, and including, `org_lgl_nm`\n",
    "2. Determine if any cleaning is needed on each respective column\n",
    "3. If cleaning is necessary, determine best how to address missing/unusual values"
   ]
  },
  {
   "cell_type": "code",
   "execution_count": null,
   "metadata": {},
   "outputs": [],
   "source": []
  }
 ],
 "metadata": {
  "kernelspec": {
   "display_name": "Python 3",
   "language": "python",
   "name": "python3"
  },
  "language_info": {
   "codemirror_mode": {
    "name": "ipython",
    "version": 3
   },
   "file_extension": ".py",
   "mimetype": "text/x-python",
   "name": "python",
   "nbconvert_exporter": "python",
   "pygments_lexer": "ipython3",
   "version": "3.7.3"
  }
 },
 "nbformat": 4,
 "nbformat_minor": 4
}
