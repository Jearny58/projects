{
 "cells": [
  {
   "cell_type": "markdown",
   "metadata": {},
   "source": [
    "# _Trial 1: Fake News_\n",
    "\n",
    "Build a system to identify unreliable news articles. Data acquired via [Kaggle](https://www.kaggle.com/c/fake-news/data)."
   ]
  },
  {
   "cell_type": "code",
   "execution_count": 1,
   "metadata": {},
   "outputs": [],
   "source": [
    "# !pip install kaggle"
   ]
  },
  {
   "cell_type": "code",
   "execution_count": 13,
   "metadata": {},
   "outputs": [],
   "source": [
    "# import libraries\n",
    "import pandas as pd\n",
    "pd.options.display.max_columns = None\n",
    "import numpy as np\n",
    "import random\n",
    "import os\n",
    "\n",
    "# Matplotlib\n",
    "%matplotlib inline\n",
    "%config InlineBackend.figure_format='retina'\n",
    "import matplotlib as mpl\n",
    "import matplotlib.pyplot as plt\n",
    "import seaborn as sns\n",
    "plt.style.use('ggplot')"
   ]
  },
  {
   "cell_type": "code",
   "execution_count": 14,
   "metadata": {},
   "outputs": [
    {
     "data": {
      "text/plain": [
       "'/Users/jai/Documents/projects/fake-news'"
      ]
     },
     "execution_count": 14,
     "metadata": {},
     "output_type": "execute_result"
    }
   ],
   "source": [
    "os.getcwd()"
   ]
  },
  {
   "cell_type": "code",
   "execution_count": 15,
   "metadata": {},
   "outputs": [
    {
     "data": {
      "text/plain": [
       "['trial1.ipynb', '.ipynb_checkpoints', 'data']"
      ]
     },
     "execution_count": 15,
     "metadata": {},
     "output_type": "execute_result"
    }
   ],
   "source": [
    "os.listdir()"
   ]
  },
  {
   "cell_type": "code",
   "execution_count": 16,
   "metadata": {},
   "outputs": [],
   "source": [
    "#create environment variables for kaggle to authenticate with\n",
    "#os.environ['KAGGLE_USERNAME'] = \"insert-here\"\n",
    "#os.environ['KAGGLE_KEY'] = \"insert-here\""
   ]
  },
  {
   "cell_type": "code",
   "execution_count": 17,
   "metadata": {},
   "outputs": [],
   "source": [
    "#!kaggle competitions download -c fake-news -p 'data'"
   ]
  },
  {
   "cell_type": "code",
   "execution_count": 18,
   "metadata": {},
   "outputs": [
    {
     "data": {
      "text/plain": [
       "PosixPath('/Users/jai/Documents/projects/fake-news')"
      ]
     },
     "execution_count": 18,
     "metadata": {},
     "output_type": "execute_result"
    }
   ],
   "source": [
    "from pathlib import Path\n",
    "\n",
    "#create path variable to primary directory\n",
    "path = Path(os.getcwd())\n",
    "path"
   ]
  },
  {
   "cell_type": "code",
   "execution_count": 19,
   "metadata": {},
   "outputs": [],
   "source": [
    "# make a dataframe from train.csv\n",
    "train_df = pd.read_csv(path/'data/train.csv')\n",
    "\n",
    "# make a dataframe from test.csv\n",
    "test_df = pd.read_csv(path/'data/test.csv')"
   ]
  },
  {
   "cell_type": "code",
   "execution_count": 20,
   "metadata": {},
   "outputs": [
    {
     "data": {
      "text/html": [
       "<div>\n",
       "<style scoped>\n",
       "    .dataframe tbody tr th:only-of-type {\n",
       "        vertical-align: middle;\n",
       "    }\n",
       "\n",
       "    .dataframe tbody tr th {\n",
       "        vertical-align: top;\n",
       "    }\n",
       "\n",
       "    .dataframe thead th {\n",
       "        text-align: right;\n",
       "    }\n",
       "</style>\n",
       "<table border=\"1\" class=\"dataframe\">\n",
       "  <thead>\n",
       "    <tr style=\"text-align: right;\">\n",
       "      <th></th>\n",
       "      <th>id</th>\n",
       "      <th>title</th>\n",
       "      <th>author</th>\n",
       "      <th>text</th>\n",
       "      <th>label</th>\n",
       "    </tr>\n",
       "  </thead>\n",
       "  <tbody>\n",
       "    <tr>\n",
       "      <th>0</th>\n",
       "      <td>0</td>\n",
       "      <td>House Dem Aide: We Didn’t Even See Comey’s Let...</td>\n",
       "      <td>Darrell Lucus</td>\n",
       "      <td>House Dem Aide: We Didn’t Even See Comey’s Let...</td>\n",
       "      <td>1</td>\n",
       "    </tr>\n",
       "    <tr>\n",
       "      <th>1</th>\n",
       "      <td>1</td>\n",
       "      <td>FLYNN: Hillary Clinton, Big Woman on Campus - ...</td>\n",
       "      <td>Daniel J. Flynn</td>\n",
       "      <td>Ever get the feeling your life circles the rou...</td>\n",
       "      <td>0</td>\n",
       "    </tr>\n",
       "    <tr>\n",
       "      <th>2</th>\n",
       "      <td>2</td>\n",
       "      <td>Why the Truth Might Get You Fired</td>\n",
       "      <td>Consortiumnews.com</td>\n",
       "      <td>Why the Truth Might Get You Fired October 29, ...</td>\n",
       "      <td>1</td>\n",
       "    </tr>\n",
       "    <tr>\n",
       "      <th>3</th>\n",
       "      <td>3</td>\n",
       "      <td>15 Civilians Killed In Single US Airstrike Hav...</td>\n",
       "      <td>Jessica Purkiss</td>\n",
       "      <td>Videos 15 Civilians Killed In Single US Airstr...</td>\n",
       "      <td>1</td>\n",
       "    </tr>\n",
       "    <tr>\n",
       "      <th>4</th>\n",
       "      <td>4</td>\n",
       "      <td>Iranian woman jailed for fictional unpublished...</td>\n",
       "      <td>Howard Portnoy</td>\n",
       "      <td>Print \\nAn Iranian woman has been sentenced to...</td>\n",
       "      <td>1</td>\n",
       "    </tr>\n",
       "  </tbody>\n",
       "</table>\n",
       "</div>"
      ],
      "text/plain": [
       "   id                                              title              author  \\\n",
       "0   0  House Dem Aide: We Didn’t Even See Comey’s Let...       Darrell Lucus   \n",
       "1   1  FLYNN: Hillary Clinton, Big Woman on Campus - ...     Daniel J. Flynn   \n",
       "2   2                  Why the Truth Might Get You Fired  Consortiumnews.com   \n",
       "3   3  15 Civilians Killed In Single US Airstrike Hav...     Jessica Purkiss   \n",
       "4   4  Iranian woman jailed for fictional unpublished...      Howard Portnoy   \n",
       "\n",
       "                                                text  label  \n",
       "0  House Dem Aide: We Didn’t Even See Comey’s Let...      1  \n",
       "1  Ever get the feeling your life circles the rou...      0  \n",
       "2  Why the Truth Might Get You Fired October 29, ...      1  \n",
       "3  Videos 15 Civilians Killed In Single US Airstr...      1  \n",
       "4  Print \\nAn Iranian woman has been sentenced to...      1  "
      ]
     },
     "execution_count": 20,
     "metadata": {},
     "output_type": "execute_result"
    }
   ],
   "source": [
    "train_df.head()"
   ]
  },
  {
   "cell_type": "markdown",
   "metadata": {},
   "source": [
    "### _Data Description on `train_df`_\n",
    "\n",
    "train.csv: A full training dataset with the following attributes:\n",
    "\n",
    "- `id`: unique id for a news article\n",
    "- `title`: the title of a news article\n",
    "- `author`: author of the news article\n",
    "- `text`: the text of the article; could be incomplete\n",
    "- `label`: a label that marks the article as potentially unreliable\n",
    "    - `1`: unreliable\n",
    "    - `0`: reliable"
   ]
  },
  {
   "cell_type": "code",
   "execution_count": 21,
   "metadata": {},
   "outputs": [
    {
     "data": {
      "text/html": [
       "<div>\n",
       "<style scoped>\n",
       "    .dataframe tbody tr th:only-of-type {\n",
       "        vertical-align: middle;\n",
       "    }\n",
       "\n",
       "    .dataframe tbody tr th {\n",
       "        vertical-align: top;\n",
       "    }\n",
       "\n",
       "    .dataframe thead th {\n",
       "        text-align: right;\n",
       "    }\n",
       "</style>\n",
       "<table border=\"1\" class=\"dataframe\">\n",
       "  <thead>\n",
       "    <tr style=\"text-align: right;\">\n",
       "      <th></th>\n",
       "      <th>id</th>\n",
       "      <th>title</th>\n",
       "      <th>author</th>\n",
       "      <th>text</th>\n",
       "    </tr>\n",
       "  </thead>\n",
       "  <tbody>\n",
       "    <tr>\n",
       "      <th>0</th>\n",
       "      <td>20800</td>\n",
       "      <td>Specter of Trump Loosens Tongues, if Not Purse...</td>\n",
       "      <td>David Streitfeld</td>\n",
       "      <td>PALO ALTO, Calif.  —   After years of scorning...</td>\n",
       "    </tr>\n",
       "    <tr>\n",
       "      <th>1</th>\n",
       "      <td>20801</td>\n",
       "      <td>Russian warships ready to strike terrorists ne...</td>\n",
       "      <td>NaN</td>\n",
       "      <td>Russian warships ready to strike terrorists ne...</td>\n",
       "    </tr>\n",
       "    <tr>\n",
       "      <th>2</th>\n",
       "      <td>20802</td>\n",
       "      <td>#NoDAPL: Native American Leaders Vow to Stay A...</td>\n",
       "      <td>Common Dreams</td>\n",
       "      <td>Videos #NoDAPL: Native American Leaders Vow to...</td>\n",
       "    </tr>\n",
       "    <tr>\n",
       "      <th>3</th>\n",
       "      <td>20803</td>\n",
       "      <td>Tim Tebow Will Attempt Another Comeback, This ...</td>\n",
       "      <td>Daniel Victor</td>\n",
       "      <td>If at first you don’t succeed, try a different...</td>\n",
       "    </tr>\n",
       "    <tr>\n",
       "      <th>4</th>\n",
       "      <td>20804</td>\n",
       "      <td>Keiser Report: Meme Wars (E995)</td>\n",
       "      <td>Truth Broadcast Network</td>\n",
       "      <td>42 mins ago 1 Views 0 Comments 0 Likes 'For th...</td>\n",
       "    </tr>\n",
       "  </tbody>\n",
       "</table>\n",
       "</div>"
      ],
      "text/plain": [
       "      id                                              title  \\\n",
       "0  20800  Specter of Trump Loosens Tongues, if Not Purse...   \n",
       "1  20801  Russian warships ready to strike terrorists ne...   \n",
       "2  20802  #NoDAPL: Native American Leaders Vow to Stay A...   \n",
       "3  20803  Tim Tebow Will Attempt Another Comeback, This ...   \n",
       "4  20804                    Keiser Report: Meme Wars (E995)   \n",
       "\n",
       "                    author                                               text  \n",
       "0         David Streitfeld  PALO ALTO, Calif.  —   After years of scorning...  \n",
       "1                      NaN  Russian warships ready to strike terrorists ne...  \n",
       "2            Common Dreams  Videos #NoDAPL: Native American Leaders Vow to...  \n",
       "3            Daniel Victor  If at first you don’t succeed, try a different...  \n",
       "4  Truth Broadcast Network  42 mins ago 1 Views 0 Comments 0 Likes 'For th...  "
      ]
     },
     "execution_count": 21,
     "metadata": {},
     "output_type": "execute_result"
    }
   ],
   "source": [
    "test_df.head()"
   ]
  },
  {
   "cell_type": "code",
   "execution_count": 22,
   "metadata": {},
   "outputs": [
    {
     "name": "stdout",
     "output_type": "stream",
     "text": [
      "<class 'pandas.core.frame.DataFrame'>\n",
      "RangeIndex: 20800 entries, 0 to 20799\n",
      "Data columns (total 5 columns):\n",
      "id        20800 non-null int64\n",
      "title     20242 non-null object\n",
      "author    18843 non-null object\n",
      "text      20761 non-null object\n",
      "label     20800 non-null int64\n",
      "dtypes: int64(2), object(3)\n",
      "memory usage: 812.6+ KB\n"
     ]
    }
   ],
   "source": [
    "train_df.info()"
   ]
  },
  {
   "cell_type": "code",
   "execution_count": 23,
   "metadata": {},
   "outputs": [
    {
     "name": "stdout",
     "output_type": "stream",
     "text": [
      "<class 'pandas.core.frame.DataFrame'>\n",
      "RangeIndex: 5200 entries, 0 to 5199\n",
      "Data columns (total 4 columns):\n",
      "id        5200 non-null int64\n",
      "title     5078 non-null object\n",
      "author    4697 non-null object\n",
      "text      5193 non-null object\n",
      "dtypes: int64(1), object(3)\n",
      "memory usage: 162.6+ KB\n"
     ]
    }
   ],
   "source": [
    "test_df.info()"
   ]
  },
  {
   "cell_type": "markdown",
   "metadata": {},
   "source": [
    "### _EDA_"
   ]
  },
  {
   "cell_type": "code",
   "execution_count": 28,
   "metadata": {},
   "outputs": [],
   "source": [
    "# generate random floating point values\n",
    "from random import seed\n",
    "from random import random, randint\n",
    "# seed random number generator\n",
    "seed(1)\n",
    "\n",
    "random_articles = []\n",
    "\n",
    "# generate some integers\n",
    "for _ in range(0, 5):\n",
    "\tvalue = randint(0, len(train_df))\n",
    "\trandom_articles.append(value)"
   ]
  },
  {
   "cell_type": "code",
   "execution_count": 29,
   "metadata": {},
   "outputs": [
    {
     "name": "stdout",
     "output_type": "stream",
     "text": [
      "Canada’s Immigration Website Crashed As Terrified Hillary Supporters Freaked Out On Election Night\n",
      "Mac Slavo\n",
      "\n",
      "Scores of celebrities openly claimed that they would leave America and head for greener pastures elsewhere should Trump be elected. Last night, they weren’t alone. As results were tallied across the United States and a Donald Trump Presidency became imminent, Canadian officials report that their immigration website received so much traffic it took down the system.\n",
      "There is only one thing that could possibly be worse than a Donald Trump Presidency: realizing that your safe-space exit plan was the same plan tens of thousands of other people had and now you can’t get to the web site to start the process.\n",
      "It must have been terrifying to see this:\n",
      "(Screenshot courtesy Hackread) \n",
      "HackRead reports :\n",
      "Canada’s main immigration website appeared to suffer repeated outages on Tuesday night as Trump took the lead in several major states and his prospects for winning the U.S. presidency turned markedly higher.\n",
      "Some users in the United States, Canada and Asia saw an internal server error message when trying to access the www.cic.gc.ca/ website.\n",
      "For those that need to get out of Dodge – especially if you happen to be a part of the many email chains released by Wikileaks – we are happy to report that the Canadian immigration web site is now back up and running.\n",
      "You are free to begin self-deportation proceedings immediately.\n",
      "Click the image below to learn all aboot your options and get started today!\n",
      "\n",
      "Also Read: Riots, Flag Burning And Open “Threats to Kill Trump” Follow Hillary’s Election Loss \n",
      "\n",
      "1\n",
      "\n",
      "October Boomerang\n",
      "Gilad Atzmon\n",
      "October 30, 2016 at 3:02 pm \n",
      "Besides, using a «cloud» account, is extremely stupid. Paedo hunter October 30, 2016 at 1:09 pm \n",
      "and about time too……my biggest ‘fear’ is the brainwashed masses putting resistence to the change…..like the Brexit ‘remainers’ who just can’t accept they lost yet still fighting at every legal street corner to have it reversed….that kinda mindset for different issues worldwide are the biggest stumbling block to change and they also feed the ruling classes objectives and give them reason to plant some more MSM treats for us to despair at…..like Russophobia……”LONG LIVE PUTIN” Mike October 30, 2016 at 12:05 pm \n",
      "Thanks Gilad, at least everyone here at vt isn’t brainwashed by Hillary. Vt is doing a disservice to itself by closing the comment sections on articles by Ian and Gordo. What cant control the narrative so you close the comments? Sad days for the Vt faithful! CoJonesGrandes October 30, 2016 at 12:57 pm \n",
      "Are you aware of Karla Turner’s work? The negative aliens who have controlled this planet for ages have many tools in their box. For example,where an incorruptible person has acquired a large following but works against their agenda, one way of dealing with such a person is to replace his soul. This way, it would appear as if that person has switched allegiances. Unless you are psychic enough to see the soul, you would have NO idea that there has been any such switcheroo. http://www.reptilianagenda.com/exp/e112300a.shtml Quote: HOW THE ALIENS MIGHT CONTROL THE LEADERS: \n",
      "“…. if they wanted to use one of their own souls … perhaps to inhabit the body of a politicians and work full-time through it, that could be done. …. they could simply take the soul out and stick another soul in. They have the ability to retrieve what we call the soul, to store it in a container, and to put it back into another body. They can put it in any body they wish.” Ariana October 30, 2016 at 11:37 am \n",
      "Sorry Correction _ Ironically, the masters of color revolutions around the world, are now experiencing the same colorfull revolution from inside, without any snipers behind the courtain and walls ! \n",
      "You must be logged in to post a comment Login WHAT'S HOT\n",
      "1\n",
      "\n",
      "This City Is 78% Latino, and the Face of a New California - The New York Times\n",
      "Adam Nagourney and Jennifer Medina\n",
      "SANTA ANA, Calif.  —   Vicente Sarmiento remembers when the local Republican Party here posted uniformed guards at polling stations in a closely fought State Assembly race three decades ago and they hoisted signs in English and Spanish warning that noncitizens were prohibited from voting. The guards were removed after state elections officials threatened legal action. Such tactics would never take place today in this city 35 miles southeast of Los Angeles, where Mr. Sarmiento is now the mayor pro tem. All seven members of the City Council, including Mr. Sarmiento, are Latino, as are 78 percent of the 343, 000 people who live here. (Leer en español) » These days, Santa Ana stands as the face of a new California, a state where Latinos have more influence in everyday life  —   electorally, culturally and demographically  —   than almost anywhere else in the country. There are limits to the transformation here, both in economics, where Latinos still lag far behind the state as a whole, and in politics, where remarkable gains in Latino power have not yet translated to the most powerful statewide offices. But the Latino progress in this state offers a glimpse of how much of the country will probably look in coming decades. Immigrants living illegally in California are entitled to driver’s licenses. Their children can receive   health insurance. Local law enforcement officials generally do not provide information to federal immigration authorities, as they do in many other parts of the country. On a smaller, if no less symbolic, level, the first thing the Santa Ana City Council did when it went   in 2006 was pass a law requiring simultaneous translation of all of its meetings to Spanish. “There is now  —   unlike before  —   a comfort level with knowing there’s a lot of Latinos living here and Latino leadership here,” said Mr. Sarmiento, 52, sitting in the law office he keeps in his house. The signs of demographic and political change are everywhere in a city that is an easy   drive from Disneyland. The historic downtown is clustered around what the official city map calls “Fourth Street,” but everyone here knows as “Calle Cuatro. ” A twirl of the dial on a car radio reveals a choice of   stations. The sidewalks of Calle Cuatro are lined with stands selling churritos and tostilocos. “There’s no attempt to whitewash the city anymore,” said Aurelia Rivas, 26, a student working at her parents’ fruit and snack stand one afternoon. Referring to the annual Day of the Dead celebration, she added, “It’s like everyone knows that Día de los Muertos is going to be just as big and important of a celebration as the Fourth of July. ” The power and presence of Latinos in this community in Orange County  —   itself once a bastion of Republicanism  —   is echoed up and down the California coast. Latinos now make up just under 40 percent of the state’s population, projected to increase to 47 percent by 2050. The leaders of both houses of the Legislature are Latino, as is the secretary of state, the current mayor of Los Angeles and the previous mayor. More than 25 percent of Latino voters in the nation live in California, said Mark Hugo Lopez, the director of Hispanic research at the Pew Research Center. There are 1, 377 Latinos holding state, local and federal office in California, second only to Texas. But Hispanics in Texas are overwhelmingly Democrats in a state dominated by Republicans. In California, the Democrats are solidly in control, and Hispanics are a crucial and growing part of their base and help explain why Hillary Clinton has a huge advantage over Donald J. Trump. “Over the last 10 years, we have really solidified the power, especially in the Legislature,” said Lorena Gonzalez, a Democratic member of the State Assembly from San Diego. “People are more afraid of being seen as not supporting Latinos than supporting them. You see this most clearly with the rhetoric of Republicans here  —   they are falling all over themselves to support Latino candidates. ” The limits to the gains can be glaring, too. The Latino unemployment rate in California was at 6. 7 percent in August, compared to 5. 5 percent overall. More than 23 percent of Latinos in the state live below the poverty level, significantly higher than the 16 percent overall. The disparities are shown in education, as well: 8 percent of Latinos 25 years old or older have bachelor’s degrees, compared to 20 percent overall. And 42 percent of Latino households own their home, well below the statewide homeownership figure of 54 percent. “Latino political power is not the panacea nor does it equate to instant gains overall or lifting people out of poverty,” said Kevin de León, a Democrat and the leader of the State Senate. “The fact that we have political power, I think, means we’ve started that journey. ” Prominent Latinos say that even though the climate has changed markedly, they still encounter reminders of lingering prejudice: in the way some feel they are treated by the police or are scrutinized as they travel through wealthier and whiter parts of Orange County. Anthony Rendon, the Democratic Assembly speaker, said that prejudice can include dismissive stereotypes about Latinos in politics. “There’s a tendency to think that I am only going to focus on certain types of issues, that I am only going to focus on certain types of population,” Mr. Rendon said. “It’s sometimes a surprise that I am concerned about environmental issues. ” And the political successes have their limits. There have only been two Latinos elected to statewide office in California’s modern history, including the current secretary of state, Alex Padilla. Mr. Padilla said the absence of Latinos in statewide elected posts reflected the challenges of running in a state as large as California, rather than evidence of   sentiment. “We’re past that,” he said. “California is a big state. It’s a populous state. It’s difficult and expensive to run in. ” One lingering issue is voting rules. Although Santa Ana has an   City Council, there are no Latino Council members in neighboring Anaheim, even though the city is almost half Latino. Anaheim, like several other communities, elects its Council at large, rather than by district, which tends to put Latinos, who turn out smaller numbers than the general electorate, at a disadvantage. Still, job postings across California routinely require applicants to speak Spanish. Mayor Eric Garcetti of Los Angeles, who is fluent in Spanish, said he makes a point at news conferences of setting aside time to speak to   media. “We are well past the tipping point  —   everywhere,” Mr. Garcetti said. “The shift within 20 years from being the most   state to being the most embracing state for the integration of immigrants has been pretty breathtaking. ” When Cruz Bustamante, a former lieutenant governor, ran for governor in 2003, he came under fire because he would not renounce ties to a Chicano student group, Mecha, or Movimiento Estudiantil Chicano de Atzlan. “That would just not happen now,” Ms. Gonzalez of the State Assembly said. In Santa Ana, the change has stirred debate over what Latino lawmakers should do with their power, and the challenges of dealing with a new minority  —    . About 9 percent of residents here are white, 10 percent are Asian and 1 percent are  . “We also have to be sensitive to   voters,” said Miguel Pulido, the mayor, whose family immigrated from Mexico City in 1961. “We have a case now when the majority became the minority. ’’ But Michele Martinez, a Santa Ana councilwoman since 2007, said the City Council has not done enough to promote the city’s Latino identity. “A lot of my friends, my colleagues, they grew up here in a time when they weren’t allowed to speak Spanish,” she said. “Well, now we’re more than allowed, but we don’t throw it in your face. We’re a little reluctant to be seen as too Latino, and I don’t get that. ” She has tried without success to persuade her colleagues to funnel more money to a local Mexican cultural and art center and help fund the center’s annual Día de los Muertos celebration. This year, local activists pressed the Council to end a longstanding contract with federal immigration authorities to house immigrants who entered the country illegally in the city jail. While the Council voted to phase the contract out over years, Ms. Martinez was the only Council member who voted to end the contract immediately. Mr. Sarmiento argued that one sign of Latinos’ growing power is that elected officials are moving on to broader issues. “We as an   City Council are probably no different from an   Council in that sense that we both want good things for our communities,” he said. “We all want better schools. We all want improved public safety. ” Many date the beginnings of California’s political transformation to a 1994 initiative, pressed by the Republican governor at the time, Pete Wilson, to cut off benefits to immigrants here illegally. The tone of that campaign  —   which many Democrats and Republicans say has been echoed by the appeal of Mr. Trump in this year’s presidential race  —   had the effect of energizing Latino voters and placing this state decisively in the Democratic column. “California has come a long way since then,” Mr. Padilla said. “Political opinion has come a long way since then. Public policy has come a long way from there. I hope the rest of the country will follow that soon. ”\n",
      "0\n",
      "\n",
      "Computers that can read your MIND and convert your thoughts\n",
      "Alex Ansary\n",
      "Computers that can read your MIND and convert your thoughts 10/27/2016 \n",
      "THE DAILY MAIL Voice-recognition technology can be useful for dictating text when you have no way of typing. But computers could soon be able to decode your thoughts into actual speech or written words, without you even saying a word. This kind of technology sounds like science fiction, but there are a variety of ways scientists are edging towards making it a reality, according to a new review. Computers that can read our minds might enhance the capabilities of already existing speech interfaces with devices, like Siri and Ok Google. But it could be even more important for those with speech difficulties, and even more so for patients who lack any speech or motor function at all. ‘So instead of saying “Siri, what is the weather like today” or “Ok Google, where can I go for lunch?” I just imagine saying these things,’ said Christian Herff, author of a review recently published in the journal Frontiers in Human Neuroscience . Reading someone’s thoughts might still belong to the realms of science fiction, but scientists are already decoding speech from signals generated in our brains when we speak or listen to someone talking. In the new study, Mr Herff and co-author Dr Tanja Schultz, both from the Karlsruhe Institute of Technology, compared the pros and cons of using various brain imaging techniques to take neural signals from the brain and decode them to text. There are a variety of technologies out there, the authors said, including functional MRI and near infrared imaging that detect neural signals based on the metabolic activity of neurons. Another method can detect electromagnetic activity of neurons responding to speech. But there was one method in particular, called electrocorticography, which stood out in the new review, the authors said. This technique uses a brain-to-text system. demonstrated on epilepsy patients who already had electrode grids implanted for treatment of their condition. The patients read out texts presented on a screen in front of them while their brain activity was recorded. This formed the basis of a database of patterns of neural signals that could now be matched to speech elements or ‘phones’. When the researchers included language and dictionary models in their algorithms, they were able to decode neural signals to text with a high degree of accuracy. There are a variety of technologies out there, the authors said, including functional MRI (stock image pictured) and near infrared imaging that detect neural signals based on the metabolic activity of neurons COULD HACKERS GET INSIDE YOUR BRAIN? Experts at the University of Washington have revealed how hackers could inserting images into dodgy apps and recording our brain’s unintentional reaction using brain-computer interfaces. For example, when playing a video game users may see logos of familiar brands pop-up on the screen that just vanish. Hackers put those images in the game and they were recording your ‘brain’s unintentional response to them’ using a BCI, which can be a wearable device that monitors stress levels or a cap covered in electrodes. This technology could one day be used by advertisers to gather more information about their customers. Also, police officers and government officials could use this method to convict criminals or as a ‘remote lie detector test’. ‘For the first time, we could show that brain activity can be decoded specifically enough to use ASR (automated speech recognition) technology on brain signals,’ said Mr Herff. ‘However, the current need for implanted electrodes renders it far from usable in day-to-day life.’ To go from here to a functioning thought-detection device will still require some work. ‘A first milestone would be to actually decode imagined phrases from brain activity, but a lot of technical issues need to be solved for that,’ said Herff. Earlier this year researchers at the University of Rochester revealed a computer program that searches for the brain activity related to certain words and then use this to predict a sentence being thought, even it hasn’t seen it before. They said the system is able to get the predictions right around 70 per cent of the time. Dr Andrew Anderson, a research fellow at the University of Rochester who led the study, said the technology could be used to help people who have suffered from a stroke to communicate. The researchers, whose study was published in the journal Cerebral Cortex, used brain scans taken with functional magnetic resonance imaging from 14 participants as they silently read 240 unique sentences.\n",
      "1\n",
      "\n",
      "20th Century Fox Used Fake News to Publicize ‘A Cure for Wellness’ - The New York Times\n",
      "Liam Stack\n",
      "Making the most of the fractured political and media landscape, 20th Century Fox created a group of fake news sites as part of a viral marketing campaign for its new film “A Cure for Wellness. ” The sites displayed ads for the movie and slipped references to its plot alongside   stories about divisive topics like abortion, vaccines and President Trump. Fox used at least five fake news sites designed to look like local news media  —   The Sacramento Dispatch, Salt Lake City Guardian, Houston Leader, NY Morning Post and Indianapolis Gazette  —   to stir online outrage and drum up interest in the movie, which was produced by New Regency Productions and is to come out this week. It used other fake sites to promote the film as well, including one designed to resemble HealthCare. Gov and another for a fake bottled water company. Regency Enterprises and 20th Century Fox acknowledged their role in the fake news operation in a statement on Tuesday. “A Cure for Wellness is a movie about a ‘fake’ cure that makes people sicker,” the statement said. “As part of this campaign, a ‘fake’ wellness site, healthandwellness. co, was created and we partnered with a fake news creator to publish fake news. ” A Fox spokeswoman, Daria Vogel, declined to answer   questions on Tuesday, including whether the companies were using any other fake news sites to promote their film or whether they had used similar methods to promote movies in the past. The company is owned by Fox Entertainment Group, which also owns Fox News Channel and Fox Business Network. “A Cure for Wellness” was directed by Gore Verbinski and stars Dane DeHaan and Jason Isaacs, who in the past have both made jokes online about the phenomenon of fake news. The film opens on Friday and has received mostly negative reviews. One critic, Joe Dziemianowicz of The Daily News, described its plot as “preposterous gothic nonsense. ” The five sites known to be part of the fake news campaign were taken down after the story was  reported by BuzzFeed News on Tuesday. Users who entered their URLs were redirected to the film’s official website, but archived versions of some of their articles remained available online. The stories they published hit the viral sweet spot that has made fake news such an online force, even though most of them were not related to the movie. Some were shared thousands of times on social media by users who appeared to believe that they were factual news stories, and others were reposted by partisan websites like Red State Watcher. A partial list of headlines published by the movie studio’s campaign: • “Utah Senator Introduces Bill to Jail, Publicly Shame Women Who Receive Abortions” • “BOMBSHELL: Trump and Putin Spotted at Swiss Resort Prior to Election” • “LEAKED: Lady Gaga Halftime Performance to Feature Muslim Tribute” • “Trump Refuses to Provide California Federal Support in Midst of Natural Disaster, Cites Sanctuary Cities” • “California Legislature to Consider Tax Rebates for Women Who Get Abortions” Lynn Walsh, the president of the Society of Professional Journalists, said in an email that corporations had a responsibility to engage in “the ethical and responsible sharing of information no matter the intent or purpose. ” “In this country, we have the right to speak and publish information freely, and that’s a good thing,” Ms. Walsh said. “But if someone or a company is publishing incorrect information and trying to make it pass as actual news, we think that content should be properly labeled and very explicit that it is not true and does not contain actual facts. ” Those are guidelines that 20th Century Fox and New Regency Productions did not follow. “This absolutely crosses the line,” added Bonnie Patten, the executive director of the consumer watchdog TruthinAdvertising. org. “Using a fake news site to lure consumers into buying movie tickets is basically a form of deceptive marketing. ” One story published as part of their campaign claimed that Mr. Trump had issued a   ban on the vaccine for the measles, mumps and rubella. The report was published on The Houston Leader and debunked by the   website Snopes, which called the site “one of a series of fake news sites that masquerade as real news sites by emulating the appearance of   newspapers. ” Another story falsely reported that the American Medical Association had recognized a form of   anxiety or depression, “Trump Depression Disorder,” that it claimed affected one third of the country. It urged readers “to tweet #cureforwellness to raise awareness of the growing epidemic. ” Some of the film’s fake marketing websites remained active on Tuesday night, including the health and wellness website and the website for the fake bottled water company, which claimed to source its product from a Swiss village (that does not exist). The website designed to resemble HealthCare. gov (it is called HealthCureGov. com) also remained active. Ms. Vogel, the Fox spokeswoman, declined to explain why those websites had not been disabled. A phone call to the purported office of healthandwellness. co went unanswered, and emails to six people listed as its “managing editors” bounced back as undeliverable.\n",
      "0\n",
      "\n"
     ]
    }
   ],
   "source": [
    "for i in random_articles:\n",
    "    print(train_df['title'][i])\n",
    "    print(train_df['author'][i])\n",
    "    print(train_df['text'][i])\n",
    "    print(train_df['label'][i])\n",
    "    print('')"
   ]
  },
  {
   "cell_type": "code",
   "execution_count": 38,
   "metadata": {},
   "outputs": [],
   "source": [
    "# drop missing observations from text column\n",
    "train_df = train_df[~train_df['text'].isnull()]\n",
    "test_df = test_df[~test_df['text'].isnull()]"
   ]
  },
  {
   "cell_type": "code",
   "execution_count": 39,
   "metadata": {},
   "outputs": [
    {
     "name": "stdout",
     "output_type": "stream",
     "text": [
      "<class 'pandas.core.frame.DataFrame'>\n",
      "Int64Index: 20761 entries, 0 to 20799\n",
      "Data columns (total 5 columns):\n",
      "id        20761 non-null int64\n",
      "title     20203 non-null object\n",
      "author    18843 non-null object\n",
      "text      20761 non-null object\n",
      "label     20761 non-null int64\n",
      "dtypes: int64(2), object(3)\n",
      "memory usage: 973.2+ KB\n"
     ]
    }
   ],
   "source": [
    "train_df.info()"
   ]
  },
  {
   "cell_type": "code",
   "execution_count": 40,
   "metadata": {},
   "outputs": [
    {
     "name": "stdout",
     "output_type": "stream",
     "text": [
      "<class 'pandas.core.frame.DataFrame'>\n",
      "Int64Index: 5193 entries, 0 to 5199\n",
      "Data columns (total 4 columns):\n",
      "id        5193 non-null int64\n",
      "title     5071 non-null object\n",
      "author    4697 non-null object\n",
      "text      5193 non-null object\n",
      "dtypes: int64(1), object(3)\n",
      "memory usage: 202.9+ KB\n"
     ]
    }
   ],
   "source": [
    "test_df.info()"
   ]
  },
  {
   "cell_type": "code",
   "execution_count": 41,
   "metadata": {},
   "outputs": [],
   "source": [
    "# reset index to id\n",
    "train_df.set_index('id', inplace=True)\n",
    "test_df.set_index('id', inplace=True)"
   ]
  },
  {
   "cell_type": "code",
   "execution_count": 42,
   "metadata": {},
   "outputs": [
    {
     "data": {
      "text/html": [
       "<div>\n",
       "<style scoped>\n",
       "    .dataframe tbody tr th:only-of-type {\n",
       "        vertical-align: middle;\n",
       "    }\n",
       "\n",
       "    .dataframe tbody tr th {\n",
       "        vertical-align: top;\n",
       "    }\n",
       "\n",
       "    .dataframe thead th {\n",
       "        text-align: right;\n",
       "    }\n",
       "</style>\n",
       "<table border=\"1\" class=\"dataframe\">\n",
       "  <thead>\n",
       "    <tr style=\"text-align: right;\">\n",
       "      <th></th>\n",
       "      <th>title</th>\n",
       "      <th>author</th>\n",
       "      <th>text</th>\n",
       "      <th>label</th>\n",
       "    </tr>\n",
       "    <tr>\n",
       "      <th>id</th>\n",
       "      <th></th>\n",
       "      <th></th>\n",
       "      <th></th>\n",
       "      <th></th>\n",
       "    </tr>\n",
       "  </thead>\n",
       "  <tbody>\n",
       "    <tr>\n",
       "      <th>0</th>\n",
       "      <td>House Dem Aide: We Didn’t Even See Comey’s Let...</td>\n",
       "      <td>Darrell Lucus</td>\n",
       "      <td>House Dem Aide: We Didn’t Even See Comey’s Let...</td>\n",
       "      <td>1</td>\n",
       "    </tr>\n",
       "    <tr>\n",
       "      <th>1</th>\n",
       "      <td>FLYNN: Hillary Clinton, Big Woman on Campus - ...</td>\n",
       "      <td>Daniel J. Flynn</td>\n",
       "      <td>Ever get the feeling your life circles the rou...</td>\n",
       "      <td>0</td>\n",
       "    </tr>\n",
       "    <tr>\n",
       "      <th>2</th>\n",
       "      <td>Why the Truth Might Get You Fired</td>\n",
       "      <td>Consortiumnews.com</td>\n",
       "      <td>Why the Truth Might Get You Fired October 29, ...</td>\n",
       "      <td>1</td>\n",
       "    </tr>\n",
       "    <tr>\n",
       "      <th>3</th>\n",
       "      <td>15 Civilians Killed In Single US Airstrike Hav...</td>\n",
       "      <td>Jessica Purkiss</td>\n",
       "      <td>Videos 15 Civilians Killed In Single US Airstr...</td>\n",
       "      <td>1</td>\n",
       "    </tr>\n",
       "    <tr>\n",
       "      <th>4</th>\n",
       "      <td>Iranian woman jailed for fictional unpublished...</td>\n",
       "      <td>Howard Portnoy</td>\n",
       "      <td>Print \\nAn Iranian woman has been sentenced to...</td>\n",
       "      <td>1</td>\n",
       "    </tr>\n",
       "  </tbody>\n",
       "</table>\n",
       "</div>"
      ],
      "text/plain": [
       "                                                title              author  \\\n",
       "id                                                                          \n",
       "0   House Dem Aide: We Didn’t Even See Comey’s Let...       Darrell Lucus   \n",
       "1   FLYNN: Hillary Clinton, Big Woman on Campus - ...     Daniel J. Flynn   \n",
       "2                   Why the Truth Might Get You Fired  Consortiumnews.com   \n",
       "3   15 Civilians Killed In Single US Airstrike Hav...     Jessica Purkiss   \n",
       "4   Iranian woman jailed for fictional unpublished...      Howard Portnoy   \n",
       "\n",
       "                                                 text  label  \n",
       "id                                                            \n",
       "0   House Dem Aide: We Didn’t Even See Comey’s Let...      1  \n",
       "1   Ever get the feeling your life circles the rou...      0  \n",
       "2   Why the Truth Might Get You Fired October 29, ...      1  \n",
       "3   Videos 15 Civilians Killed In Single US Airstr...      1  \n",
       "4   Print \\nAn Iranian woman has been sentenced to...      1  "
      ]
     },
     "execution_count": 42,
     "metadata": {},
     "output_type": "execute_result"
    }
   ],
   "source": [
    "train_df.head()"
   ]
  },
  {
   "cell_type": "code",
   "execution_count": 43,
   "metadata": {},
   "outputs": [
    {
     "data": {
      "text/html": [
       "<div>\n",
       "<style scoped>\n",
       "    .dataframe tbody tr th:only-of-type {\n",
       "        vertical-align: middle;\n",
       "    }\n",
       "\n",
       "    .dataframe tbody tr th {\n",
       "        vertical-align: top;\n",
       "    }\n",
       "\n",
       "    .dataframe thead th {\n",
       "        text-align: right;\n",
       "    }\n",
       "</style>\n",
       "<table border=\"1\" class=\"dataframe\">\n",
       "  <thead>\n",
       "    <tr style=\"text-align: right;\">\n",
       "      <th></th>\n",
       "      <th>title</th>\n",
       "      <th>author</th>\n",
       "      <th>text</th>\n",
       "    </tr>\n",
       "    <tr>\n",
       "      <th>id</th>\n",
       "      <th></th>\n",
       "      <th></th>\n",
       "      <th></th>\n",
       "    </tr>\n",
       "  </thead>\n",
       "  <tbody>\n",
       "    <tr>\n",
       "      <th>20800</th>\n",
       "      <td>Specter of Trump Loosens Tongues, if Not Purse...</td>\n",
       "      <td>David Streitfeld</td>\n",
       "      <td>PALO ALTO, Calif.  —   After years of scorning...</td>\n",
       "    </tr>\n",
       "    <tr>\n",
       "      <th>20801</th>\n",
       "      <td>Russian warships ready to strike terrorists ne...</td>\n",
       "      <td>NaN</td>\n",
       "      <td>Russian warships ready to strike terrorists ne...</td>\n",
       "    </tr>\n",
       "    <tr>\n",
       "      <th>20802</th>\n",
       "      <td>#NoDAPL: Native American Leaders Vow to Stay A...</td>\n",
       "      <td>Common Dreams</td>\n",
       "      <td>Videos #NoDAPL: Native American Leaders Vow to...</td>\n",
       "    </tr>\n",
       "    <tr>\n",
       "      <th>20803</th>\n",
       "      <td>Tim Tebow Will Attempt Another Comeback, This ...</td>\n",
       "      <td>Daniel Victor</td>\n",
       "      <td>If at first you don’t succeed, try a different...</td>\n",
       "    </tr>\n",
       "    <tr>\n",
       "      <th>20804</th>\n",
       "      <td>Keiser Report: Meme Wars (E995)</td>\n",
       "      <td>Truth Broadcast Network</td>\n",
       "      <td>42 mins ago 1 Views 0 Comments 0 Likes 'For th...</td>\n",
       "    </tr>\n",
       "  </tbody>\n",
       "</table>\n",
       "</div>"
      ],
      "text/plain": [
       "                                                   title  \\\n",
       "id                                                         \n",
       "20800  Specter of Trump Loosens Tongues, if Not Purse...   \n",
       "20801  Russian warships ready to strike terrorists ne...   \n",
       "20802  #NoDAPL: Native American Leaders Vow to Stay A...   \n",
       "20803  Tim Tebow Will Attempt Another Comeback, This ...   \n",
       "20804                    Keiser Report: Meme Wars (E995)   \n",
       "\n",
       "                        author  \\\n",
       "id                               \n",
       "20800         David Streitfeld   \n",
       "20801                      NaN   \n",
       "20802            Common Dreams   \n",
       "20803            Daniel Victor   \n",
       "20804  Truth Broadcast Network   \n",
       "\n",
       "                                                    text  \n",
       "id                                                        \n",
       "20800  PALO ALTO, Calif.  —   After years of scorning...  \n",
       "20801  Russian warships ready to strike terrorists ne...  \n",
       "20802  Videos #NoDAPL: Native American Leaders Vow to...  \n",
       "20803  If at first you don’t succeed, try a different...  \n",
       "20804  42 mins ago 1 Views 0 Comments 0 Likes 'For th...  "
      ]
     },
     "execution_count": 43,
     "metadata": {},
     "output_type": "execute_result"
    }
   ],
   "source": [
    "test_df.head()"
   ]
  },
  {
   "cell_type": "code",
   "execution_count": 49,
   "metadata": {},
   "outputs": [
    {
     "name": "stdout",
     "output_type": "stream",
     "text": [
      "Collecting textblob\n",
      "\u001b[?25l  Downloading https://files.pythonhosted.org/packages/60/f0/1d9bfcc8ee6b83472ec571406bd0dd51c0e6330ff1a51b2d29861d389e85/textblob-0.15.3-py2.py3-none-any.whl (636kB)\n",
      "\u001b[K     |████████████████████████████████| 645kB 1.6MB/s eta 0:00:01\n",
      "\u001b[?25hRequirement already satisfied: nltk>=3.1 in /Users/jai/anaconda3/envs/fastai/lib/python3.7/site-packages (from textblob) (3.4.4)\n",
      "Requirement already satisfied: six in /Users/jai/anaconda3/envs/fastai/lib/python3.7/site-packages (from nltk>=3.1->textblob) (1.12.0)\n",
      "Installing collected packages: textblob\n",
      "Successfully installed textblob-0.15.3\n"
     ]
    }
   ],
   "source": [
    "!pip install textblob"
   ]
  },
  {
   "cell_type": "code",
   "execution_count": 51,
   "metadata": {},
   "outputs": [],
   "source": [
    "from textblob import TextBlob\n",
    "\n",
    "train_df['polarity'] = train_df['text'].map(lambda text: TextBlob(text).sentiment.polarity)"
   ]
  },
  {
   "cell_type": "code",
   "execution_count": 52,
   "metadata": {},
   "outputs": [],
   "source": [
    "# get word count for each article\n",
    "train_df['word_count'] = train_df['text'].apply(lambda x: len(str(x).split()))"
   ]
  },
  {
   "cell_type": "code",
   "execution_count": 53,
   "metadata": {},
   "outputs": [
    {
     "data": {
      "text/html": [
       "<div>\n",
       "<style scoped>\n",
       "    .dataframe tbody tr th:only-of-type {\n",
       "        vertical-align: middle;\n",
       "    }\n",
       "\n",
       "    .dataframe tbody tr th {\n",
       "        vertical-align: top;\n",
       "    }\n",
       "\n",
       "    .dataframe thead th {\n",
       "        text-align: right;\n",
       "    }\n",
       "</style>\n",
       "<table border=\"1\" class=\"dataframe\">\n",
       "  <thead>\n",
       "    <tr style=\"text-align: right;\">\n",
       "      <th></th>\n",
       "      <th>title</th>\n",
       "      <th>author</th>\n",
       "      <th>text</th>\n",
       "      <th>label</th>\n",
       "      <th>polarity</th>\n",
       "      <th>word_count</th>\n",
       "    </tr>\n",
       "    <tr>\n",
       "      <th>id</th>\n",
       "      <th></th>\n",
       "      <th></th>\n",
       "      <th></th>\n",
       "      <th></th>\n",
       "      <th></th>\n",
       "      <th></th>\n",
       "    </tr>\n",
       "  </thead>\n",
       "  <tbody>\n",
       "    <tr>\n",
       "      <th>0</th>\n",
       "      <td>House Dem Aide: We Didn’t Even See Comey’s Let...</td>\n",
       "      <td>Darrell Lucus</td>\n",
       "      <td>House Dem Aide: We Didn’t Even See Comey’s Let...</td>\n",
       "      <td>1</td>\n",
       "      <td>0.006777</td>\n",
       "      <td>820</td>\n",
       "    </tr>\n",
       "    <tr>\n",
       "      <th>1</th>\n",
       "      <td>FLYNN: Hillary Clinton, Big Woman on Campus - ...</td>\n",
       "      <td>Daniel J. Flynn</td>\n",
       "      <td>Ever get the feeling your life circles the rou...</td>\n",
       "      <td>0</td>\n",
       "      <td>0.100880</td>\n",
       "      <td>710</td>\n",
       "    </tr>\n",
       "    <tr>\n",
       "      <th>2</th>\n",
       "      <td>Why the Truth Might Get You Fired</td>\n",
       "      <td>Consortiumnews.com</td>\n",
       "      <td>Why the Truth Might Get You Fired October 29, ...</td>\n",
       "      <td>1</td>\n",
       "      <td>0.056258</td>\n",
       "      <td>1266</td>\n",
       "    </tr>\n",
       "    <tr>\n",
       "      <th>3</th>\n",
       "      <td>15 Civilians Killed In Single US Airstrike Hav...</td>\n",
       "      <td>Jessica Purkiss</td>\n",
       "      <td>Videos 15 Civilians Killed In Single US Airstr...</td>\n",
       "      <td>1</td>\n",
       "      <td>0.017497</td>\n",
       "      <td>557</td>\n",
       "    </tr>\n",
       "    <tr>\n",
       "      <th>4</th>\n",
       "      <td>Iranian woman jailed for fictional unpublished...</td>\n",
       "      <td>Howard Portnoy</td>\n",
       "      <td>Print \\nAn Iranian woman has been sentenced to...</td>\n",
       "      <td>1</td>\n",
       "      <td>-0.012500</td>\n",
       "      <td>154</td>\n",
       "    </tr>\n",
       "  </tbody>\n",
       "</table>\n",
       "</div>"
      ],
      "text/plain": [
       "                                                title              author  \\\n",
       "id                                                                          \n",
       "0   House Dem Aide: We Didn’t Even See Comey’s Let...       Darrell Lucus   \n",
       "1   FLYNN: Hillary Clinton, Big Woman on Campus - ...     Daniel J. Flynn   \n",
       "2                   Why the Truth Might Get You Fired  Consortiumnews.com   \n",
       "3   15 Civilians Killed In Single US Airstrike Hav...     Jessica Purkiss   \n",
       "4   Iranian woman jailed for fictional unpublished...      Howard Portnoy   \n",
       "\n",
       "                                                 text  label  polarity  \\\n",
       "id                                                                       \n",
       "0   House Dem Aide: We Didn’t Even See Comey’s Let...      1  0.006777   \n",
       "1   Ever get the feeling your life circles the rou...      0  0.100880   \n",
       "2   Why the Truth Might Get You Fired October 29, ...      1  0.056258   \n",
       "3   Videos 15 Civilians Killed In Single US Airstr...      1  0.017497   \n",
       "4   Print \\nAn Iranian woman has been sentenced to...      1 -0.012500   \n",
       "\n",
       "    word_count  \n",
       "id              \n",
       "0          820  \n",
       "1          710  \n",
       "2         1266  \n",
       "3          557  \n",
       "4          154  "
      ]
     },
     "execution_count": 53,
     "metadata": {},
     "output_type": "execute_result"
    }
   ],
   "source": [
    "train_df.head()"
   ]
  },
  {
   "cell_type": "code",
   "execution_count": 63,
   "metadata": {},
   "outputs": [
    {
     "name": "stdout",
     "output_type": "stream",
     "text": [
      "LOL, gotta use the fireplace log holder as a stand. Shows the attention to detail.\n",
      "Hold on let me get my daughters slingshot and see if can withstand that.\n",
      "Hillary Dillary Dock...\n",
      "This Rat ran out the Clock\n",
      "The Fix is in, but she still won't win... \n",
      "Assange has depleted her Stock.\n",
      "I love it when libtards get their a** handed to them on a platter. Great job, O Reilly!\n",
      "jewsnews © 2015 | JEWSNEWS | It's not news...unless it's JEWS NEWS !!! Proudly powered by WordPress — Theme: JustWrite by Acosmin Join the over 1.4 million fans of Jews News on FB…It’s NOT news unless it’s Jews News!\n",
      "Great article !\n"
     ]
    }
   ],
   "source": [
    "pos_examples = train_df.loc[train_df.polarity >= 0.75, 'text'].sample(5).values\n",
    "\n",
    "for example in pos_examples:\n",
    "    print(example)"
   ]
  },
  {
   "cell_type": "code",
   "execution_count": 64,
   "metadata": {},
   "outputs": [
    {
     "name": "stdout",
     "output_type": "stream",
     "text": [
      "film , deutschland und russland Der neue Film des Regisseurs Alexei Misgirew zeigt Russland im 19. Jahrhundert. Sankt Petersburg sprach damals schon Deutsch. Quelle:Kinopoisk.ru \n",
      "Alexei Misgirews Film „Duellant“ (The Duelist) stieß schon während der Produktion auf große Resonanz in der internationalen Filmindustrie. Seine Weltpremiere feierte der Streifen schließlich auf dem Toronto Film Festival. Eine Kooperation mit IMAX ermöglicht nun seinen Verleih in den USA und einigen anderen Ländern. Bis zu diesem Erfolg hatte Misgirew in Russland den Ruf eines „Regisseurs der zweiten Reihe“. Seine Filme kamen alle nur in den begrenzten Verleih, wo sie ein Publikum von wenigen Tausend Zuschauern erreichten. Jetzt realisierte Misgirew zusammen mit dem Produzenten Alexander Rodnianski („Jayne Mansfield’s Car“, „Cloud Atlas“, „Leviathan“) eines der größten Projekte der Geschichte des neueren russischen Kinos. \n",
      "„The Duelist“ ist ein in den 1860er-Jahren spielendes Kostümdrama über einen Auftragsmörder. Der Held des Films, der Offizier Jakowlew, duelliert sich stellvertretend für andere. Aus unerklärlichen Gründen kann ihn keine Kugel töten, und so gewinnt er jeden seiner Zweikämpfe. Vor dem Start des internationalen Verleihs sprach Misgirew mit RBTH über seinen neuen Film. RBTH: Bisher waren Sie im Autorenfilm mit kleinem Budget zuhause. Wie geht es Ihnen jetzt als Regisseur eines Films, der für die Verhältnisse der russischen Filmindustrie richtig teuer ist? \n",
      "Alexei Misgirew: Das werde ich oft gefragt. Anfangs hat mich diese Frage aus dem Konzept gebracht. Ich wusste keine Antwort, weil ich selbst keinen großen Unterschied gemerkt habe. Natürlich hatten wir bei den Dreharbeiten für „The Duelist“ keine finanziellen Probleme, zum Beispiel mit den Requisiten und Kostümen. Wir haben dort gedreht, wo wir es wollten, ohne an irgendeiner Ausstattung sparen zu müssen. Was aber den Prozess selbst betrifft, gab es keinen Unterschied zu meinen anderen Projekten. Ich habe meine Arbeitsweise nicht geändert und mich niemandem untergeordnet. Das ist überhaupt das oberste Prinzip von Alexander Rodnianski in seiner Zusammenarbeit mit Regisseuren – sich nicht in den kreativen Prozess einzumischen und Kompromisse zu finden. Wir standen dauernd im engen Austausch über bestimmte Fragen, es gab aber keinerlei Vorgaben. Uns war beiden klar, dass es im Film Serienproduktionen und Einzelproduktionen gibt. Und „The Duelist“ ist eine Einzelproduktion, für die Individualität und filmischer Autorenstil besonders wichtig sind; neben einer spannenden Geschichte und einem zeitgemäßen visuellen Konzept. \n",
      "Der Regisseur Alexei Misgirew. Foto: Ekaterina Chesnokova/RIA Novosti Ihre früheren Arbeiten hatten alle einen sehr sozialkritischen Charakter und erzählten aus dem Leben im heutigen Russland. Und hier tauchen wir in eine Welt der Bälle, Kostüme, Duelle und Adeligen in Camisolen ein. Woher das Interesse an dieser Epoche? \n",
      "Das Budget für „The Duelist“ betrug 16,5 Millionen US-Dollar, rund 15,1 Millionen Euro. Jeder Regisseur des Autorenfilms wünscht sich ein Millionenpublikum. Wenn er aber nur ein bis zwei Millionen US-Dollar ausgeben kann, wird er kaum einen bildgewaltigen und spektakulären Film drehen können. Natürlich will er es, es ist aber aus objektiven Gründen nicht möglich. So ist das Interesse an der Gegenwart zu erklären. Teilweise ist es erzwungen, weil es keinen großen Aufwand für teure Kulissen und Computereffekte erfordert.\n",
      "Die Idee für „The Duelist“ kam mir vor einigen Jahren. Sie lag als schriftliche Notiz von nicht mehr als zwei Absätzen einfach in einer Schublade. Und plötzlich machte es „Klick“– und ich wusste, dass ich mein Vorhaben jetzt realisieren musste. Und obwohl es bis zu seiner Umsetzung noch ein langer Weg war, wusste ich irgendwie, dass meine größten Probleme in diesem Fall nicht finanzieller Art sein würden. \n",
      "Eine Szene aus dem Film \"The Duelist\". Bild: kinopoisk.ru Welche Probleme meinen Sie? \n",
      "Sie betreffen das 19. Jahrhundert, und um genau zu sein: das Bild, das die audiovisuelle Kunst dieser Epoche geprägt hat. Während meiner Vorarbeiten für „The Duelist“ habe ich unzählige Quellen über diese Zeit durchforstet. Ich stellte fest, dass wir überhaupt nichts darüber wissen. Tatsächlich redeten, aßen, tranken und kleideten sich die Leute ganz und gar nicht so, wie wir landläufig denken. Der Zuschauer von heute assoziiert mit dem 19. Jahrhundert Geschichten aus der Mottenkiste und ehrwürdige Dramen aus dem Provinztheater. Ich wollte diese Stereotype aufbrechen und die Zeit so zeigen, wie es noch niemand vor mir getan hat – schrill, brutal und mit Verweisen auf die Gegenwart. Das war natürlich unglaublich viel Arbeit, aber die hat mich nicht abgeschreckt. Vielmehr haben mich die möglichen Reaktionen der Zuschauer auf diesen neuen Stil im Rückblick auf alte Zeiten beunruhigt. Hier werden tradierte Muster radikal in Frage gestellt. \n",
      "Im Film von Misgirew erscheint Sankt Petersburg als grau, schwarz und schmutzig. Bild: kinopoisk.ru Bezogen auf sein visuelles Konzept wurde „The Duelist“ schon mehrfach mit Guy Ritchies „Sherlock Holmes“ und Pitofs „Vidocq“ verglichen. Gefallen Ihnen diese Parallelen? \n",
      "Solche Vergleiche sind zulässig. Hier werden allerdings sehr artifizielle Filme herangezogen, echte Genre-Werke. „The Duelist“ hat aber doch einen etwas anderen Zuschnitt, unter anderem wenn wir über sein visuelles Konzept sprechen. \n",
      "Die schöne Fürstin Marfa Tutschkowa (l.) wird zur Geliebten des Duellants. Bild: kinopoisk.ru Im Zusammenhang mit „The Duelist“ werden Sie immer wieder nach dem Motiv der Ehre befragt, das sich wie ein roter Faden durch den Film zieht. Sie antworten erwartungsgemäß, Ehre sei eine zeitlose Idee. Die Geschichte verweise daher zwangsläufig auf die Gegenwart. Man hat aber den Eindruck, dass der Fatalismus, der alle Helden auszeichnet, in Ihrem Film nicht weniger bedeutend ist. Die Betonung der unausweichlichen Verbindungen der Figuren mit ihrem Schicksal ist wohl kein Zufall? \n",
      "Ja, das ist ein weiteres wichtiges Motiv dieses Films. Während meiner intensiven Beschäftigung mit Geschichten über Duelle bin ich auf ein sehr beeindruckendes Detail gestoßen: Im Heimatland der Duelle, in Frankreich, hatten diese im 19. Jahrhundert praktisch keine Bedeutung mehr. Gleiches lässt sich auch von viele anderen Ländern sagen. Der Grund war die Verbreitung der Schusswaffe, die den tödlichen Ausgang des Kampfes weitaus wahrscheinlicher machte als der Degen, und die Chancen der Gegner einander anglich. In Russland ließ gerade das die Kultur der Duelle aufblühen. Ich denke, das hängt mit dem Fatalismus zusammen, der bis heute eines der markantesten Merkmale der russischen Mentalität ist. „Held oder Verderben“– das ist eine sehr russische Entgegensetzung, selbst wenn es um Leben und Tod geht. Und genau darum geht es in „The Duelist“. RBTH-Check: \n",
      "In „The Duelist“ wird viel deutsch gesprochen. In zwei wichtigen Rollen – denen des deutschen Barons und Duellanten-Vermittlers sowie der Großfürstin Alexandra Iosifowna – sind mit Martin Wuttke und Franziska Petri deutsche Filmstars zu sehen. Alle Rechte vorbehalten\n",
      "Google David Howard......Uh oh! Google Me.....Uh oh!   Google this....Google that.....I can make up crap and put it on the internet and people will believe it. \n",
      "Fuck you! I am not a doormat! Go home mama's boy! Mail with questions or comments about this site. \"Godlike Productions\" & \"GLP\" are registered trademarks of Zero Point Ltd. Godlike™ Website Design Copyright © 1999 - 2015 Godlikeproductions.com Page generated in 0.008s (8 queries)\n",
      "Obama's weakness is very dangerous.\n",
      "may her business grow 10 times multiplication of these evil hillary’s supporters perpetuated on her and her business.\n"
     ]
    }
   ],
   "source": [
    "neg_examples = train_df.loc[train_df.polarity <= -0.75, 'text'].sample(5).values\n",
    "\n",
    "for example in neg_examples:\n",
    "    print(example)"
   ]
  },
  {
   "cell_type": "markdown",
   "metadata": {},
   "source": [
    "### _Basic Modeling_"
   ]
  },
  {
   "cell_type": "code",
   "execution_count": 81,
   "metadata": {},
   "outputs": [],
   "source": [
    "# set y\n",
    "y = train_df['label']\n",
    "\n",
    "# set x \n",
    "X = train_df['text']\n",
    "\n",
    "# make training and test sets\n",
    "from sklearn.model_selection import train_test_split\n",
    "\n",
    "X_train, X_test, y_train, y_test = train_test_split(X, y, test_size = 0.3, random_state = 1)"
   ]
  },
  {
   "cell_type": "code",
   "execution_count": 82,
   "metadata": {},
   "outputs": [],
   "source": [
    "# build vectorizers\n",
    "from sklearn.feature_extraction.text import CountVectorizer, TfidfVectorizer\n",
    "\n",
    "# initialize count vectorizer, removing English stop words and words that appear in > 70% of the articles\n",
    "count_vectorizer = CountVectorizer(stop_words='english', max_df=0.7) \n",
    "\n",
    "# fit and transform the training data\n",
    "count_train = count_vectorizer.fit_transform(X_train)\n",
    "\n",
    "# transform test set\n",
    "count_test = count_vectorizer.transform(X_test)"
   ]
  },
  {
   "cell_type": "code",
   "execution_count": 83,
   "metadata": {},
   "outputs": [],
   "source": [
    "# initialize tfidf vectorizer\n",
    "tfidf_vectorizer = TfidfVectorizer(stop_words='english', max_df=0.7)\n",
    "\n",
    "# fit and transform the training data\n",
    "tfidf_train = tfidf_vectorizer.fit_transform(X_train)\n",
    "\n",
    "# transform the test set\n",
    "tfidf_test = tfidf_vectorizer.transform(X_test)"
   ]
  },
  {
   "cell_type": "code",
   "execution_count": 84,
   "metadata": {},
   "outputs": [
    {
     "name": "stdout",
     "output_type": "stream",
     "text": [
      "['ᴇᴀsᴛᴇʀsᴜɴᴅᴀʏ', 'ḥaram', '不動心', '中文', '初心', '残心', '点击查看本文中文版', '無心', 'ﬁnds', 'ｓꮭ']\n",
      "['ᴇᴀsᴛᴇʀsᴜɴᴅᴀʏ', 'ḥaram', '不動心', '中文', '初心', '残心', '点击查看本文中文版', '無心', 'ﬁnds', 'ｓꮭ']\n"
     ]
    }
   ],
   "source": [
    "print(tfidf_vectorizer.get_feature_names()[-10:])\n",
    "print(count_vectorizer.get_feature_names()[-10:])"
   ]
  },
  {
   "cell_type": "code",
   "execution_count": 85,
   "metadata": {},
   "outputs": [],
   "source": [
    "import matplotlib.pyplot as plt\n",
    "import numpy as np\n",
    "import itertools\n",
    "\n",
    "def plot_confusion_matrix(cm, classes,\n",
    "                          normalize=False,\n",
    "                          title='Confusion matrix',\n",
    "                          cmap=plt.cm.Blues):\n",
    "    \"\"\"\n",
    "    See full source and example: \n",
    "    http://scikit-learn.org/stable/auto_examples/model_selection/plot_confusion_matrix.html\n",
    "    \n",
    "    This function prints and plots the confusion matrix.\n",
    "    Normalization can be applied by setting `normalize=True`.\n",
    "    \"\"\"\n",
    "    plt.imshow(cm, interpolation='nearest', cmap=cmap)\n",
    "    plt.title(title)\n",
    "    plt.colorbar()\n",
    "    tick_marks = np.arange(len(classes))\n",
    "    plt.xticks(tick_marks, classes, rotation=45)\n",
    "    plt.yticks(tick_marks, classes)\n",
    "\n",
    "    if normalize:\n",
    "        cm = cm.astype('float') / cm.sum(axis=1)[:, np.newaxis]\n",
    "        print(\"Normalized confusion matrix\")\n",
    "    else:\n",
    "        print('Confusion matrix, without normalization')\n",
    "\n",
    "    thresh = cm.max() / 2.\n",
    "    for i, j in itertools.product(range(cm.shape[0]), range(cm.shape[1])):\n",
    "        plt.text(j, i, cm[i, j],\n",
    "                 horizontalalignment=\"center\",\n",
    "                 color=\"white\" if cm[i, j] > thresh else \"black\")\n",
    "\n",
    "    plt.tight_layout()\n",
    "    plt.ylabel('True label')\n",
    "    plt.xlabel('Predicted label')"
   ]
  },
  {
   "cell_type": "code",
   "execution_count": 90,
   "metadata": {},
   "outputs": [
    {
     "data": {
      "text/plain": [
       "MultinomialNB(alpha=1.0, class_prior=None, fit_prior=True)"
      ]
     },
     "execution_count": 90,
     "metadata": {},
     "output_type": "execute_result"
    }
   ],
   "source": [
    "from sklearn.naive_bayes import MultinomialNB\n",
    "from sklearn.metrics import accuracy_score, confusion_matrix\n",
    "\n",
    "# define classifier\n",
    "clf = MultinomialNB()\n",
    "\n",
    "# fit model\n",
    "clf.fit(tfidf_train, y_train)"
   ]
  },
  {
   "cell_type": "code",
   "execution_count": 93,
   "metadata": {},
   "outputs": [
    {
     "name": "stdout",
     "output_type": "stream",
     "text": [
      "Accuracy: 0.8628993417884091\n",
      "Confusion matrix, without normalization\n"
     ]
    },
    {
     "data": {
      "image/png": "[encoded data removed]",
      "text/plain": [
       "<Figure size 432x288 with 2 Axes>"
      ]
     },
     "metadata": {
      "image/png": {
       "height": 296,
       "width": 350
      }
     },
     "output_type": "display_data"
    }
   ],
   "source": [
    "pred = clf.predict(tfidf_test)\n",
    "score = accuracy_score(y_test, pred)\n",
    "print(\"Accuracy: {}\".format(score))\n",
    "cm = confusion_matrix(y_test, pred)\n",
    "plot_confusion_matrix(cm, classes=['Unreliable', 'Reliable'])"
   ]
  },
  {
   "cell_type": "code",
   "execution_count": 94,
   "metadata": {},
   "outputs": [
    {
     "data": {
      "text/plain": [
       "MultinomialNB(alpha=1.0, class_prior=None, fit_prior=True)"
      ]
     },
     "execution_count": 94,
     "metadata": {},
     "output_type": "execute_result"
    }
   ],
   "source": [
    "# count vectorizer\n",
    "# create new clf\n",
    "clf = MultinomialNB()\n",
    "\n",
    "# fit model\n",
    "clf.fit(count_train, y_train)"
   ]
  },
  {
   "cell_type": "code",
   "execution_count": 95,
   "metadata": {},
   "outputs": [
    {
     "name": "stdout",
     "output_type": "stream",
     "text": [
      "Accuracy: 0.8991812489966287\n",
      "Confusion matrix, without normalization\n"
     ]
    },
    {
     "data": {
      "image/png": "[encoded data removed]",
      "text/plain": [
       "<Figure size 432x288 with 2 Axes>"
      ]
     },
     "metadata": {
      "image/png": {
       "height": 296,
       "width": 350
      }
     },
     "output_type": "display_data"
    }
   ],
   "source": [
    "pred = clf.predict(count_test)\n",
    "score = accuracy_score(y_test, pred)\n",
    "print(\"Accuracy: {}\".format(score))\n",
    "cm = confusion_matrix(y_test, pred)\n",
    "plot_confusion_matrix(cm, classes=['Unreliable', 'Reliable'])"
   ]
  },
  {
   "cell_type": "code",
   "execution_count": null,
   "metadata": {},
   "outputs": [],
   "source": []
  }
 ],
 "metadata": {
  "kernelspec": {
   "display_name": "Python 3",
   "language": "python",
   "name": "python3"
  },
  "language_info": {
   "codemirror_mode": {
    "name": "ipython",
    "version": 3
   },
   "file_extension": ".py",
   "mimetype": "text/x-python",
   "name": "python",
   "nbconvert_exporter": "python",
   "pygments_lexer": "ipython3",
   "version": "3.7.3"
  }
 },
 "nbformat": 4,
 "nbformat_minor": 4
}
